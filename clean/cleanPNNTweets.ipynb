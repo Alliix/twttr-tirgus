{
 "cells": [
  {
   "cell_type": "code",
   "execution_count": 1,
   "id": "daceb0c5",
   "metadata": {},
   "outputs": [],
   "source": [
    "import pandas as pd"
   ]
  },
  {
   "cell_type": "code",
   "execution_count": 2,
   "id": "64f37f88",
   "metadata": {},
   "outputs": [
    {
     "data": {
      "text/plain": [
       "174644"
      ]
     },
     "execution_count": 2,
     "metadata": {},
     "output_type": "execute_result"
    }
   ],
   "source": [
    "df = pd.read_csv('./../labeledTweets/p_n_n_tilde_lv.csv')\n",
    "df.shape[0]"
   ]
  },
  {
   "cell_type": "code",
   "execution_count": 3,
   "id": "475d3e87",
   "metadata": {},
   "outputs": [
    {
     "data": {
      "text/html": [
       "<div>\n",
       "<style scoped>\n",
       "    .dataframe tbody tr th:only-of-type {\n",
       "        vertical-align: middle;\n",
       "    }\n",
       "\n",
       "    .dataframe tbody tr th {\n",
       "        vertical-align: top;\n",
       "    }\n",
       "\n",
       "    .dataframe thead th {\n",
       "        text-align: right;\n",
       "    }\n",
       "</style>\n",
       "<table border=\"1\" class=\"dataframe\">\n",
       "  <thead>\n",
       "    <tr style=\"text-align: right;\">\n",
       "      <th></th>\n",
       "      <th>id</th>\n",
       "      <th>date</th>\n",
       "      <th>time</th>\n",
       "      <th>user_id</th>\n",
       "      <th>username</th>\n",
       "      <th>name</th>\n",
       "      <th>tweet</th>\n",
       "      <th>language</th>\n",
       "      <th>label</th>\n",
       "      <th>message_lv_tilde</th>\n",
       "    </tr>\n",
       "  </thead>\n",
       "  <tbody>\n",
       "    <tr>\n",
       "      <th>0</th>\n",
       "      <td>1.340000e+18</td>\n",
       "      <td>12/17/2020</td>\n",
       "      <td>10:56:06</td>\n",
       "      <td>2.760579e+09</td>\n",
       "      <td>thecoolan</td>\n",
       "      <td>Nishat K</td>\n",
       "      <td>@citizenjeff @lauferlaw @donwinslow Haven’t ha...</td>\n",
       "      <td>en</td>\n",
       "      <td>negative</td>\n",
       "      <td>@pilsonenjeff @lauferlaw @donwinslows pa reize...</td>\n",
       "    </tr>\n",
       "    <tr>\n",
       "      <th>1</th>\n",
       "      <td>1.330000e+18</td>\n",
       "      <td>11/30/2020</td>\n",
       "      <td>6:44:40</td>\n",
       "      <td>1.020000e+18</td>\n",
       "      <td>rmillennielle</td>\n",
       "      <td>#Resistance Millennielle</td>\n",
       "      <td>@tkdylan People have agency. Lin Wood is a her...</td>\n",
       "      <td>en</td>\n",
       "      <td>negative</td>\n",
       "      <td>@tkdylan cilvēkiem ir aģentūra. Lins Vuds ir v...</td>\n",
       "    </tr>\n",
       "    <tr>\n",
       "      <th>2</th>\n",
       "      <td>1.330000e+18</td>\n",
       "      <td>11/8/2020</td>\n",
       "      <td>11:30:16</td>\n",
       "      <td>3.605334e+08</td>\n",
       "      <td>frankpeteani</td>\n",
       "      <td>Frank Peteani</td>\n",
       "      <td>@PhoenixAEW I idea that WWE had him coming out...</td>\n",
       "      <td>en</td>\n",
       "      <td>negative</td>\n",
       "      <td>@foenixaew Es nojaušu, ka WWE lika viņam iznāk...</td>\n",
       "    </tr>\n",
       "    <tr>\n",
       "      <th>3</th>\n",
       "      <td>1.320000e+18</td>\n",
       "      <td>11/6/2020</td>\n",
       "      <td>5:06:59</td>\n",
       "      <td>9.727358e+07</td>\n",
       "      <td>clarknt67</td>\n",
       "      <td>🌹 Clark, a proud citizen of GoFundMe nation</td>\n",
       "      <td>Maxwell will probably pee in the house before ...</td>\n",
       "      <td>en</td>\n",
       "      <td>negative</td>\n",
       "      <td>Maksvels droši vien pačurās mājā pirms mūsu nā...</td>\n",
       "    </tr>\n",
       "    <tr>\n",
       "      <th>4</th>\n",
       "      <td>1.320000e+18</td>\n",
       "      <td>11/4/2020</td>\n",
       "      <td>10:36:29</td>\n",
       "      <td>1.936187e+09</td>\n",
       "      <td>doxiemomdeb</td>\n",
       "      <td>Henry and Milo’s Hoomom</td>\n",
       "      <td>@msamson56 I’m amazed. HOW can people support ...</td>\n",
       "      <td>en</td>\n",
       "      <td>negative</td>\n",
       "      <td>@msamson56 Esmu pārsteigts. KĀ cilvēki var atb...</td>\n",
       "    </tr>\n",
       "  </tbody>\n",
       "</table>\n",
       "</div>"
      ],
      "text/plain": [
       "             id        date      time       user_id       username  \\\n",
       "0  1.340000e+18  12/17/2020  10:56:06  2.760579e+09      thecoolan   \n",
       "1  1.330000e+18  11/30/2020   6:44:40  1.020000e+18  rmillennielle   \n",
       "2  1.330000e+18   11/8/2020  11:30:16  3.605334e+08   frankpeteani   \n",
       "3  1.320000e+18   11/6/2020   5:06:59  9.727358e+07      clarknt67   \n",
       "4  1.320000e+18   11/4/2020  10:36:29  1.936187e+09    doxiemomdeb   \n",
       "\n",
       "                                          name  \\\n",
       "0                                     Nishat K   \n",
       "1                     #Resistance Millennielle   \n",
       "2                                Frank Peteani   \n",
       "3  🌹 Clark, a proud citizen of GoFundMe nation   \n",
       "4                      Henry and Milo’s Hoomom   \n",
       "\n",
       "                                               tweet language     label  \\\n",
       "0  @citizenjeff @lauferlaw @donwinslow Haven’t ha...       en  negative   \n",
       "1  @tkdylan People have agency. Lin Wood is a her...       en  negative   \n",
       "2  @PhoenixAEW I idea that WWE had him coming out...       en  negative   \n",
       "3  Maxwell will probably pee in the house before ...       en  negative   \n",
       "4  @msamson56 I’m amazed. HOW can people support ...       en  negative   \n",
       "\n",
       "                                    message_lv_tilde  \n",
       "0  @pilsonenjeff @lauferlaw @donwinslows pa reize...  \n",
       "1  @tkdylan cilvēkiem ir aģentūra. Lins Vuds ir v...  \n",
       "2  @foenixaew Es nojaušu, ka WWE lika viņam iznāk...  \n",
       "3  Maksvels droši vien pačurās mājā pirms mūsu nā...  \n",
       "4  @msamson56 Esmu pārsteigts. KĀ cilvēki var atb...  "
      ]
     },
     "execution_count": 3,
     "metadata": {},
     "output_type": "execute_result"
    }
   ],
   "source": [
    "df.head()"
   ]
  },
  {
   "cell_type": "code",
   "execution_count": 4,
   "id": "90fed850",
   "metadata": {},
   "outputs": [
    {
     "data": {
      "text/plain": [
       "neutral     77028\n",
       "positive    51994\n",
       "negative    45622\n",
       "Name: label, dtype: int64"
      ]
     },
     "execution_count": 4,
     "metadata": {},
     "output_type": "execute_result"
    }
   ],
   "source": [
    "df['label'].value_counts()"
   ]
  },
  {
   "cell_type": "code",
   "execution_count": 5,
   "id": "39804d1e",
   "metadata": {},
   "outputs": [
    {
     "data": {
      "text/plain": [
       "0    77028\n",
       "1    51994\n",
       "2    45622\n",
       "Name: label, dtype: int64"
      ]
     },
     "execution_count": 5,
     "metadata": {},
     "output_type": "execute_result"
    }
   ],
   "source": [
    "label_dict = {'neutral': 0, 'positive': 1, 'negative': 2}\n",
    "df['label'] = df.label.replace(label_dict) \n",
    "df['label'].value_counts()"
   ]
  },
  {
   "cell_type": "code",
   "execution_count": 6,
   "id": "08ab2a3e",
   "metadata": {},
   "outputs": [
    {
     "data": {
      "text/plain": [
       "'@pilsonenjeff @lauferlaw @donwinslows pa reizei tādu nav bijis. Bet bez tam man viņa ideja neizkustēties 5 nedēļās šķiet pretīga\\n'"
      ]
     },
     "execution_count": 6,
     "metadata": {},
     "output_type": "execute_result"
    }
   ],
   "source": [
    "df['message_lv_tilde'][0]"
   ]
  },
  {
   "cell_type": "code",
   "execution_count": 11,
   "id": "927bd110",
   "metadata": {},
   "outputs": [
    {
     "data": {
      "text/html": [
       "<div>\n",
       "<style scoped>\n",
       "    .dataframe tbody tr th:only-of-type {\n",
       "        vertical-align: middle;\n",
       "    }\n",
       "\n",
       "    .dataframe tbody tr th {\n",
       "        vertical-align: top;\n",
       "    }\n",
       "\n",
       "    .dataframe thead th {\n",
       "        text-align: right;\n",
       "    }\n",
       "</style>\n",
       "<table border=\"1\" class=\"dataframe\">\n",
       "  <thead>\n",
       "    <tr style=\"text-align: right;\">\n",
       "      <th></th>\n",
       "      <th>id</th>\n",
       "      <th>date</th>\n",
       "      <th>time</th>\n",
       "      <th>user_id</th>\n",
       "      <th>username</th>\n",
       "      <th>name</th>\n",
       "      <th>tweet</th>\n",
       "      <th>language</th>\n",
       "      <th>label</th>\n",
       "      <th>message_lv_tilde</th>\n",
       "      <th>message_lowercase</th>\n",
       "    </tr>\n",
       "  </thead>\n",
       "  <tbody>\n",
       "    <tr>\n",
       "      <th>0</th>\n",
       "      <td>1.340000e+18</td>\n",
       "      <td>12/17/2020</td>\n",
       "      <td>10:56:06</td>\n",
       "      <td>2.760579e+09</td>\n",
       "      <td>thecoolan</td>\n",
       "      <td>Nishat K</td>\n",
       "      <td>@citizenjeff @lauferlaw @donwinslow Haven’t ha...</td>\n",
       "      <td>en</td>\n",
       "      <td>2</td>\n",
       "      <td>@pilsonenjeff @lauferlaw @donwinslows pa reize...</td>\n",
       "      <td>@pilsonenjeff @lauferlaw @donwinslows pa reize...</td>\n",
       "    </tr>\n",
       "    <tr>\n",
       "      <th>1</th>\n",
       "      <td>1.330000e+18</td>\n",
       "      <td>11/30/2020</td>\n",
       "      <td>6:44:40</td>\n",
       "      <td>1.020000e+18</td>\n",
       "      <td>rmillennielle</td>\n",
       "      <td>#Resistance Millennielle</td>\n",
       "      <td>@tkdylan People have agency. Lin Wood is a her...</td>\n",
       "      <td>en</td>\n",
       "      <td>2</td>\n",
       "      <td>@tkdylan cilvēkiem ir aģentūra. Lins Vuds ir v...</td>\n",
       "      <td>@tkdylan cilvēkiem ir aģentūra. lins vuds ir v...</td>\n",
       "    </tr>\n",
       "    <tr>\n",
       "      <th>2</th>\n",
       "      <td>1.330000e+18</td>\n",
       "      <td>11/8/2020</td>\n",
       "      <td>11:30:16</td>\n",
       "      <td>3.605334e+08</td>\n",
       "      <td>frankpeteani</td>\n",
       "      <td>Frank Peteani</td>\n",
       "      <td>@PhoenixAEW I idea that WWE had him coming out...</td>\n",
       "      <td>en</td>\n",
       "      <td>2</td>\n",
       "      <td>@foenixaew Es nojaušu, ka WWE lika viņam iznāk...</td>\n",
       "      <td>@foenixaew es nojaušu, ka wwe lika viņam iznāk...</td>\n",
       "    </tr>\n",
       "    <tr>\n",
       "      <th>3</th>\n",
       "      <td>1.320000e+18</td>\n",
       "      <td>11/6/2020</td>\n",
       "      <td>5:06:59</td>\n",
       "      <td>9.727358e+07</td>\n",
       "      <td>clarknt67</td>\n",
       "      <td>🌹 Clark, a proud citizen of GoFundMe nation</td>\n",
       "      <td>Maxwell will probably pee in the house before ...</td>\n",
       "      <td>en</td>\n",
       "      <td>2</td>\n",
       "      <td>Maksvels droši vien pačurās mājā pirms mūsu nā...</td>\n",
       "      <td>maksvels droši vien pačurās mājā pirms mūsu nā...</td>\n",
       "    </tr>\n",
       "    <tr>\n",
       "      <th>4</th>\n",
       "      <td>1.320000e+18</td>\n",
       "      <td>11/4/2020</td>\n",
       "      <td>10:36:29</td>\n",
       "      <td>1.936187e+09</td>\n",
       "      <td>doxiemomdeb</td>\n",
       "      <td>Henry and Milo’s Hoomom</td>\n",
       "      <td>@msamson56 I’m amazed. HOW can people support ...</td>\n",
       "      <td>en</td>\n",
       "      <td>2</td>\n",
       "      <td>@msamson56 Esmu pārsteigts. KĀ cilvēki var atb...</td>\n",
       "      <td>@msamson56 esmu pārsteigts. kā cilvēki var atb...</td>\n",
       "    </tr>\n",
       "  </tbody>\n",
       "</table>\n",
       "</div>"
      ],
      "text/plain": [
       "             id        date      time       user_id       username  \\\n",
       "0  1.340000e+18  12/17/2020  10:56:06  2.760579e+09      thecoolan   \n",
       "1  1.330000e+18  11/30/2020   6:44:40  1.020000e+18  rmillennielle   \n",
       "2  1.330000e+18   11/8/2020  11:30:16  3.605334e+08   frankpeteani   \n",
       "3  1.320000e+18   11/6/2020   5:06:59  9.727358e+07      clarknt67   \n",
       "4  1.320000e+18   11/4/2020  10:36:29  1.936187e+09    doxiemomdeb   \n",
       "\n",
       "                                          name  \\\n",
       "0                                     Nishat K   \n",
       "1                     #Resistance Millennielle   \n",
       "2                                Frank Peteani   \n",
       "3  🌹 Clark, a proud citizen of GoFundMe nation   \n",
       "4                      Henry and Milo’s Hoomom   \n",
       "\n",
       "                                               tweet language  label  \\\n",
       "0  @citizenjeff @lauferlaw @donwinslow Haven’t ha...       en      2   \n",
       "1  @tkdylan People have agency. Lin Wood is a her...       en      2   \n",
       "2  @PhoenixAEW I idea that WWE had him coming out...       en      2   \n",
       "3  Maxwell will probably pee in the house before ...       en      2   \n",
       "4  @msamson56 I’m amazed. HOW can people support ...       en      2   \n",
       "\n",
       "                                    message_lv_tilde  \\\n",
       "0  @pilsonenjeff @lauferlaw @donwinslows pa reize...   \n",
       "1  @tkdylan cilvēkiem ir aģentūra. Lins Vuds ir v...   \n",
       "2  @foenixaew Es nojaušu, ka WWE lika viņam iznāk...   \n",
       "3  Maksvels droši vien pačurās mājā pirms mūsu nā...   \n",
       "4  @msamson56 Esmu pārsteigts. KĀ cilvēki var atb...   \n",
       "\n",
       "                                   message_lowercase  \n",
       "0  @pilsonenjeff @lauferlaw @donwinslows pa reize...  \n",
       "1  @tkdylan cilvēkiem ir aģentūra. lins vuds ir v...  \n",
       "2  @foenixaew es nojaušu, ka wwe lika viņam iznāk...  \n",
       "3  maksvels droši vien pačurās mājā pirms mūsu nā...  \n",
       "4  @msamson56 esmu pārsteigts. kā cilvēki var atb...  "
      ]
     },
     "execution_count": 11,
     "metadata": {},
     "output_type": "execute_result"
    }
   ],
   "source": [
    "df['message_lowercase'] = df['message_lv_tilde'].str.lower()\n",
    "newLine =\"\\\\n|\\\\r\"\n",
    "df['message_lowercase'] = df['message_lowercase'].str.replace(newLine,' ',regex=True).str.strip()\n",
    "df.head()"
   ]
  },
  {
   "cell_type": "code",
   "execution_count": 12,
   "id": "d300b3c5",
   "metadata": {},
   "outputs": [
    {
     "data": {
      "text/plain": [
       "'@pilsonenjeff @lauferlaw @donwinslows pa reizei tādu nav bijis. bet bez tam man viņa ideja neizkustēties 5 nedēļās šķiet pretīga'"
      ]
     },
     "execution_count": 12,
     "metadata": {},
     "output_type": "execute_result"
    }
   ],
   "source": [
    "df['message_lowercase'][0]"
   ]
  },
  {
   "cell_type": "code",
   "execution_count": 13,
   "id": "f4dfd711",
   "metadata": {},
   "outputs": [],
   "source": [
    "df.to_csv('./../labeledTweets/p_n_n_tilde_lv_clean.csv', index=False)"
   ]
  },
  {
   "cell_type": "code",
   "execution_count": null,
   "id": "36e525aa",
   "metadata": {},
   "outputs": [],
   "source": []
  }
 ],
 "metadata": {
  "kernelspec": {
   "display_name": "venv38twttr",
   "language": "python",
   "name": "venv38twttr"
  },
  "language_info": {
   "codemirror_mode": {
    "name": "ipython",
    "version": 3
   },
   "file_extension": ".py",
   "mimetype": "text/x-python",
   "name": "python",
   "nbconvert_exporter": "python",
   "pygments_lexer": "ipython3",
   "version": "3.8.8"
  }
 },
 "nbformat": 4,
 "nbformat_minor": 5
}
