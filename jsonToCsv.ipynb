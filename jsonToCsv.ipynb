{
 "cells": [
  {
   "cell_type": "code",
   "execution_count": 1,
   "id": "dffa4221",
   "metadata": {},
   "outputs": [],
   "source": [
    "import json\n",
    "import csv\n",
    "import pandas as pd"
   ]
  },
  {
   "cell_type": "code",
   "execution_count": 2,
   "id": "a84ee3a8",
   "metadata": {},
   "outputs": [],
   "source": [
    "def jsonToCsv(filePath):\n",
    "    with open(filePath+'.json', encoding='UTF-8') as json_file:\n",
    "        jsondata = json.load(json_file)\n",
    "\n",
    "    data_file = open(filePath+'.csv', 'w', newline='', encoding='UTF-8')\n",
    "    csv_writer = csv.writer(data_file)\n",
    "\n",
    "    count = 0\n",
    "    for data in jsondata:\n",
    "        if count == 0:\n",
    "            header = data.keys()\n",
    "            csv_writer.writerow(header)\n",
    "            count += 1\n",
    "        csv_writer.writerow(data.values())\n",
    "\n",
    "    data_file.close()"
   ]
  },
  {
   "cell_type": "code",
   "execution_count": 3,
   "id": "c405e52f",
   "metadata": {},
   "outputs": [],
   "source": [
    "jsonToCsv('./allTweets/allTweets')"
   ]
  },
  {
   "cell_type": "code",
   "execution_count": null,
   "id": "239e32de",
   "metadata": {},
   "outputs": [],
   "source": [
    "allTweets = pd.read_csv('./allTweets/allTweets.csv')\n",
    "allTweets.head()"
   ]
  },
  {
   "cell_type": "code",
   "execution_count": 14,
   "id": "353a270f",
   "metadata": {},
   "outputs": [
    {
     "data": {
      "text/plain": [
       "69392"
      ]
     },
     "execution_count": 14,
     "metadata": {},
     "output_type": "execute_result"
    }
   ],
   "source": [
    "allTweets.shape[0]"
   ]
  },
  {
   "cell_type": "code",
   "execution_count": 9,
   "id": "7fd287db",
   "metadata": {},
   "outputs": [],
   "source": [
    "jsonToCsv('./labeledTweets/allLabeledTweets')"
   ]
  },
  {
   "cell_type": "code",
   "execution_count": null,
   "id": "38ed300c",
   "metadata": {},
   "outputs": [],
   "source": [
    "allLabeledTweets = pd.read_csv('./labeledTweets/allLabeledTweets.csv')\n",
    "allLabeledTweets.head()"
   ]
  },
  {
   "cell_type": "code",
   "execution_count": 13,
   "id": "0887cb27",
   "metadata": {},
   "outputs": [
    {
     "data": {
      "text/plain": [
       "2025"
      ]
     },
     "execution_count": 13,
     "metadata": {},
     "output_type": "execute_result"
    }
   ],
   "source": [
    "allLabeledTweets.shape[0]"
   ]
  },
  {
   "cell_type": "code",
   "execution_count": null,
   "id": "a538c670",
   "metadata": {},
   "outputs": [],
   "source": []
  },
  {
   "cell_type": "code",
   "execution_count": null,
   "id": "ead130d1",
   "metadata": {},
   "outputs": [],
   "source": []
  },
  {
   "cell_type": "code",
   "execution_count": 21,
   "id": "a1b501ad",
   "metadata": {},
   "outputs": [],
   "source": [
    "files = [\n",
    "  \"latvenergo\",\n",
    "  \"rimi\",\n",
    "  \"maxima\",\n",
    "  \"swedbank\",\n",
    "  \"lmt\",\n",
    "  \"tet\",\n",
    "  \"lg\",\n",
    "  \"tele2\",\n",
    "  \"airbaltic\",\n",
    "  \"olympic\",\n",
    "  \"seb\",\n",
    "  \"grindeks\",\n",
    "  \"citadele\",\n",
    "  \"bite\",\n",
    "  \"drogas\",\n",
    "  \"depo\",\n",
    "  \"circlek\",\n",
    "  \"lb\",\n",
    "  \"optibet\",\n",
    "  \"evolution\",\n",
    "];"
   ]
  },
  {
   "cell_type": "code",
   "execution_count": 26,
   "id": "458b4135",
   "metadata": {},
   "outputs": [],
   "source": [
    "def jsonToCsv(file):\n",
    "    df = pd.read_json('./peopleTweets/'+file+'.json')\n",
    "    df.to_csv('./peopleTweets/'+file+'.csv', index=False)"
   ]
  },
  {
   "cell_type": "code",
   "execution_count": 27,
   "id": "fe363d4b",
   "metadata": {},
   "outputs": [],
   "source": [
    "for file in files:\n",
    "    jsonToCsv(file)  "
   ]
  },
  {
   "cell_type": "code",
   "execution_count": 33,
   "id": "687e6f91",
   "metadata": {},
   "outputs": [
    {
     "data": {
      "text/plain": [
       "'Augulis: #airBaltic “potenciālie pircēji ir no visas pasaules”\\n\\nKipra, Kaimanu salas, Soči vai Kaļiņingrada? 🤔 https://t.co/1geYcHB894'"
      ]
     },
     "execution_count": 33,
     "metadata": {},
     "output_type": "execute_result"
    }
   ],
   "source": [
    "df = pd.read_csv('./peopleTweets/airbaltic.csv')\n",
    "df['message'][7]"
   ]
  },
  {
   "cell_type": "code",
   "execution_count": null,
   "id": "f2b76839",
   "metadata": {},
   "outputs": [],
   "source": []
  }
 ],
 "metadata": {
  "kernelspec": {
   "display_name": "venv38twttr",
   "language": "python",
   "name": "venv38twttr"
  },
  "language_info": {
   "codemirror_mode": {
    "name": "ipython",
    "version": 3
   },
   "file_extension": ".py",
   "mimetype": "text/x-python",
   "name": "python",
   "nbconvert_exporter": "python",
   "pygments_lexer": "ipython3",
   "version": "3.8.8"
  }
 },
 "nbformat": 4,
 "nbformat_minor": 5
}
