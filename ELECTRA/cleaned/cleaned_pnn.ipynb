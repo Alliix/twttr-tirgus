{
 "cells": [
  {
   "cell_type": "code",
   "execution_count": null,
   "id": "f2616b46",
   "metadata": {
    "gradient": {
     "editing": false,
     "execution_count": 1,
     "id": "f2616b46",
     "kernelId": "e8c05c89-6946-4f31-b274-a87286e3e99a"
    }
   },
   "outputs": [
    {
     "name": "stdout",
     "output_type": "stream",
     "text": [
      "Looking in indexes: https://pypi.org/simple, https://pypi.ngc.nvidia.com\r\n"
     ]
    },
    {
     "name": "stdout",
     "output_type": "stream",
     "text": [
      "Collecting ipywidgets\r\n"
     ]
    },
    {
     "name": "stdout",
     "output_type": "stream",
     "text": [
      "  Downloading ipywidgets-7.7.0-py2.py3-none-any.whl (123 kB)\r\n",
      "\u001b[?25l\r",
      "\u001b[K     |██▋                             | 10 kB 18.5 MB/s eta 0:00:01\r",
      "\u001b[K     |█████▎                          | 20 kB 24.2 MB/s eta 0:00:01\r",
      "\u001b[K     |████████                        | 30 kB 26.5 MB/s eta 0:00:01\r",
      "\u001b[K     |██████████▋                     | 40 kB 17.7 MB/s eta 0:00:01\r",
      "\u001b[K     |█████████████▎                  | 51 kB 15.2 MB/s eta 0:00:01\r",
      "\u001b[K     |████████████████                | 61 kB 17.3 MB/s eta 0:00:01\r",
      "\u001b[K     |██████████████████▋             | 71 kB 17.8 MB/s eta 0:00:01\r",
      "\u001b[K     |█████████████████████▎          | 81 kB 19.5 MB/s eta 0:00:01\r",
      "\u001b[K     |████████████████████████        | 92 kB 20.9 MB/s eta 0:00:01\r",
      "\u001b[K     |██████████████████████████▋     | 102 kB 20.6 MB/s eta 0:00:01\r",
      "\u001b[K     |█████████████████████████████▏  | 112 kB 20.6 MB/s eta 0:00:01\r",
      "\u001b[K     |███████████████████████████████▉| 122 kB 20.6 MB/s eta 0:00:01\r",
      "\u001b[K     |████████████████████████████████| 123 kB 20.6 MB/s \r\n"
     ]
    },
    {
     "name": "stdout",
     "output_type": "stream",
     "text": [
      "\u001b[?25hRequirement already satisfied: ipykernel>=4.5.1 in /opt/conda/lib/python3.8/site-packages (from ipywidgets) (6.9.0)\r\n",
      "Requirement already satisfied: ipython>=4.0.0 in /opt/conda/lib/python3.8/site-packages (from ipywidgets) (8.0.1)\r\n",
      "Requirement already satisfied: ipython-genutils~=0.2.0 in /opt/conda/lib/python3.8/site-packages (from ipywidgets) (0.2.0)\r\n",
      "Requirement already satisfied: traitlets>=4.3.1 in /opt/conda/lib/python3.8/site-packages (from ipywidgets) (5.1.1)\r\n",
      "Requirement already satisfied: nbformat>=4.2.0 in /opt/conda/lib/python3.8/site-packages (from ipywidgets) (5.1.3)\r\n"
     ]
    },
    {
     "name": "stdout",
     "output_type": "stream",
     "text": [
      "Collecting widgetsnbextension~=3.6.0\r\n"
     ]
    },
    {
     "name": "stdout",
     "output_type": "stream",
     "text": [
      "  Downloading widgetsnbextension-3.6.0-py2.py3-none-any.whl (1.6 MB)\r\n",
      "\u001b[?25l\r",
      "\u001b[K     |▏                               | 10 kB 43.6 MB/s eta 0:00:01\r",
      "\u001b[K     |▍                               | 20 kB 52.9 MB/s eta 0:00:01\r",
      "\u001b[K     |▋                               | 30 kB 63.7 MB/s eta 0:00:01\r",
      "\u001b[K     |▉                               | 40 kB 62.7 MB/s eta 0:00:01\r",
      "\u001b[K     |█                               | 51 kB 64.9 MB/s eta 0:00:01\r",
      "\u001b[K     |█▎                              | 61 kB 69.9 MB/s eta 0:00:01\r",
      "\u001b[K     |█▍                              | 71 kB 31.4 MB/s eta 0:00:01\r",
      "\u001b[K     |█▋                              | 81 kB 29.4 MB/s eta 0:00:01\r",
      "\u001b[K     |█▉                              | 92 kB 31.9 MB/s eta 0:00:01\r",
      "\u001b[K     |██                              | 102 kB 34.3 MB/s eta 0:00:01\r",
      "\u001b[K     |██▎                             | 112 kB 34.3 MB/s eta 0:00:01\r",
      "\u001b[K     |██▌                             | 122 kB 34.3 MB/s eta 0:00:01\r",
      "\u001b[K     |██▊                             | 133 kB 34.3 MB/s eta 0:00:01\r",
      "\u001b[K     |██▉                             | 143 kB 34.3 MB/s eta 0:00:01\r",
      "\u001b[K     |███                             | 153 kB 34.3 MB/s eta 0:00:01\r",
      "\u001b[K     |███▎                            | 163 kB 34.3 MB/s eta 0:00:01\r",
      "\u001b[K     |███▌                            | 174 kB 34.3 MB/s eta 0:00:01\r",
      "\u001b[K     |███▊                            | 184 kB 34.3 MB/s eta 0:00:01\r",
      "\u001b[K     |████                            | 194 kB 34.3 MB/s eta 0:00:01\r",
      "\u001b[K     |████                            | 204 kB 34.3 MB/s eta 0:00:01\r",
      "\u001b[K     |████▎                           | 215 kB 34.3 MB/s eta 0:00:01\r",
      "\u001b[K     |████▌                           | 225 kB 34.3 MB/s eta 0:00:01\r",
      "\u001b[K     |████▊                           | 235 kB 34.3 MB/s eta 0:00:01\r",
      "\u001b[K     |█████                           | 245 kB 34.3 MB/s eta 0:00:01\r",
      "\u001b[K     |█████▏                          | 256 kB 34.3 MB/s eta 0:00:01\r",
      "\u001b[K     |█████▍                          | 266 kB 34.3 MB/s eta 0:00:01\r",
      "\u001b[K     |█████▌                          | 276 kB 34.3 MB/s eta 0:00:01\r",
      "\u001b[K     |█████▊                          | 286 kB 34.3 MB/s eta 0:00:01\r",
      "\u001b[K     |██████                          | 296 kB 34.3 MB/s eta 0:00:01\r",
      "\u001b[K     |██████▏                         | 307 kB 34.3 MB/s eta 0:00:01\r",
      "\u001b[K     |██████▍                         | 317 kB 34.3 MB/s eta 0:00:01\r",
      "\u001b[K     |██████▋                         | 327 kB 34.3 MB/s eta 0:00:01\r",
      "\u001b[K     |██████▉                         | 337 kB 34.3 MB/s eta 0:00:01\r",
      "\u001b[K     |███████                         | 348 kB 34.3 MB/s eta 0:00:01\r",
      "\u001b[K     |███████▏                        | 358 kB 34.3 MB/s eta 0:00:01\r",
      "\u001b[K     |███████▍                        | 368 kB 34.3 MB/s eta 0:00:01\r",
      "\u001b[K     |███████▋                        | 378 kB 34.3 MB/s eta 0:00:01\r",
      "\u001b[K     |███████▉                        | 389 kB 34.3 MB/s eta 0:00:01\r",
      "\u001b[K     |████████                        | 399 kB 34.3 MB/s eta 0:00:01\r",
      "\u001b[K     |████████▏                       | 409 kB 34.3 MB/s eta 0:00:01\r",
      "\u001b[K     |████████▍                       | 419 kB 34.3 MB/s eta 0:00:01\r",
      "\u001b[K     |████████▋                       | 430 kB 34.3 MB/s eta 0:00:01\r",
      "\u001b[K     |████████▉                       | 440 kB 34.3 MB/s eta 0:00:01\r",
      "\u001b[K     |█████████                       | 450 kB 34.3 MB/s eta 0:00:01\r",
      "\u001b[K     |█████████▎                      | 460 kB 34.3 MB/s eta 0:00:01\r",
      "\u001b[K     |█████████▌                      | 471 kB 34.3 MB/s eta 0:00:01\r",
      "\u001b[K     |█████████▋                      | 481 kB 34.3 MB/s eta 0:00:01\r",
      "\u001b[K     |█████████▉                      | 491 kB 34.3 MB/s eta 0:00:01\r",
      "\u001b[K     |██████████                      | 501 kB 34.3 MB/s eta 0:00:01\r",
      "\u001b[K     |██████████▎                     | 512 kB 34.3 MB/s eta 0:00:01\r",
      "\u001b[K     |██████████▌                     | 522 kB 34.3 MB/s eta 0:00:01\r",
      "\u001b[K     |██████████▊                     | 532 kB 34.3 MB/s eta 0:00:01\r",
      "\u001b[K     |███████████                     | 542 kB 34.3 MB/s eta 0:00:01\r",
      "\u001b[K     |███████████                     | 552 kB 34.3 MB/s eta 0:00:01\r",
      "\u001b[K     |███████████▎                    | 563 kB 34.3 MB/s eta 0:00:01\r",
      "\u001b[K     |███████████▌                    | 573 kB 34.3 MB/s eta 0:00:01\r",
      "\u001b[K     |███████████▊                    | 583 kB 34.3 MB/s eta 0:00:01\r",
      "\u001b[K     |████████████                    | 593 kB 34.3 MB/s eta 0:00:01\r",
      "\u001b[K     |████████████▏                   | 604 kB 34.3 MB/s eta 0:00:01\r",
      "\u001b[K     |████████████▎                   | 614 kB 34.3 MB/s eta 0:00:01\r",
      "\u001b[K     |████████████▌                   | 624 kB 34.3 MB/s eta 0:00:01\r",
      "\u001b[K     |████████████▊                   | 634 kB 34.3 MB/s eta 0:00:01\r",
      "\u001b[K     |█████████████                   | 645 kB 34.3 MB/s eta 0:00:01\r",
      "\u001b[K     |█████████████▏                  | 655 kB 34.3 MB/s eta 0:00:01\r",
      "\u001b[K     |█████████████▍                  | 665 kB 34.3 MB/s eta 0:00:01\r",
      "\u001b[K     |█████████████▋                  | 675 kB 34.3 MB/s eta 0:00:01\r",
      "\u001b[K     |█████████████▊                  | 686 kB 34.3 MB/s eta 0:00:01\r",
      "\u001b[K     |██████████████                  | 696 kB 34.3 MB/s eta 0:00:01\r",
      "\u001b[K     |██████████████▏                 | 706 kB 34.3 MB/s eta 0:00:01\r",
      "\u001b[K     |██████████████▍                 | 716 kB 34.3 MB/s eta 0:00:01\r",
      "\u001b[K     |██████████████▋                 | 727 kB 34.3 MB/s eta 0:00:01\r",
      "\u001b[K     |██████████████▉                 | 737 kB 34.3 MB/s eta 0:00:01\r",
      "\u001b[K     |███████████████                 | 747 kB 34.3 MB/s eta 0:00:01\r",
      "\u001b[K     |███████████████▏                | 757 kB 34.3 MB/s eta 0:00:01\r",
      "\u001b[K     |███████████████▍                | 768 kB 34.3 MB/s eta 0:00:01\r",
      "\u001b[K     |███████████████▋                | 778 kB 34.3 MB/s eta 0:00:01\r",
      "\u001b[K     |███████████████▉                | 788 kB 34.3 MB/s eta 0:00:01\r",
      "\u001b[K     |████████████████                | 798 kB 34.3 MB/s eta 0:00:01\r",
      "\u001b[K     |████████████████▎               | 808 kB 34.3 MB/s eta 0:00:01\r",
      "\u001b[K     |████████████████▍               | 819 kB 34.3 MB/s eta 0:00:01\r",
      "\u001b[K     |████████████████▋               | 829 kB 34.3 MB/s eta 0:00:01\r",
      "\u001b[K     |████████████████▉               | 839 kB 34.3 MB/s eta 0:00:01\r",
      "\u001b[K     |█████████████████               | 849 kB 34.3 MB/s eta 0:00:01\r",
      "\u001b[K     |█████████████████▎              | 860 kB 34.3 MB/s eta 0:00:01\r",
      "\u001b[K     |█████████████████▌              | 870 kB 34.3 MB/s eta 0:00:01\r",
      "\u001b[K     |█████████████████▊              | 880 kB 34.3 MB/s eta 0:00:01\r",
      "\u001b[K     |█████████████████▉              | 890 kB 34.3 MB/s eta 0:00:01\r",
      "\u001b[K     |██████████████████              | 901 kB 34.3 MB/s eta 0:00:01\r",
      "\u001b[K     |██████████████████▎             | 911 kB 34.3 MB/s eta 0:00:01\r",
      "\u001b[K     |██████████████████▌             | 921 kB 34.3 MB/s eta 0:00:01\r",
      "\u001b[K     |██████████████████▊             | 931 kB 34.3 MB/s eta 0:00:01\r",
      "\u001b[K     |███████████████████             | 942 kB 34.3 MB/s eta 0:00:01\r",
      "\u001b[K     |███████████████████             | 952 kB 34.3 MB/s eta 0:00:01\r",
      "\u001b[K     |███████████████████▎            | 962 kB 34.3 MB/s eta 0:00:01\r",
      "\u001b[K     |███████████████████▌            | 972 kB 34.3 MB/s eta 0:00:01\r",
      "\u001b[K     |███████████████████▊            | 983 kB 34.3 MB/s eta 0:00:01\r",
      "\u001b[K     |████████████████████            | 993 kB 34.3 MB/s eta 0:00:01\r",
      "\u001b[K     |████████████████████▏           | 1.0 MB 34.3 MB/s eta 0:00:01\r",
      "\u001b[K     |████████████████████▍           | 1.0 MB 34.3 MB/s eta 0:00:01\r",
      "\u001b[K     |████████████████████▌           | 1.0 MB 34.3 MB/s eta 0:00:01\r",
      "\u001b[K     |████████████████████▊           | 1.0 MB 34.3 MB/s eta 0:00:01\r",
      "\u001b[K     |█████████████████████           | 1.0 MB 34.3 MB/s eta 0:00:01\r",
      "\u001b[K     |█████████████████████▏          | 1.1 MB 34.3 MB/s eta 0:00:01\r",
      "\u001b[K     |█████████████████████▍          | 1.1 MB 34.3 MB/s eta 0:00:01\r",
      "\u001b[K     |█████████████████████▋          | 1.1 MB 34.3 MB/s eta 0:00:01\r",
      "\u001b[K     |█████████████████████▉          | 1.1 MB 34.3 MB/s eta 0:00:01\r",
      "\u001b[K     |██████████████████████          | 1.1 MB 34.3 MB/s eta 0:00:01\r",
      "\u001b[K     |██████████████████████▏         | 1.1 MB 34.3 MB/s eta 0:00:01\r",
      "\u001b[K     |██████████████████████▍         | 1.1 MB 34.3 MB/s eta 0:00:01\r",
      "\u001b[K     |██████████████████████▋         | 1.1 MB 34.3 MB/s eta 0:00:01\r",
      "\u001b[K     |██████████████████████▉         | 1.1 MB 34.3 MB/s eta 0:00:01\r",
      "\u001b[K     |███████████████████████         | 1.1 MB 34.3 MB/s eta 0:00:01\r",
      "\u001b[K     |███████████████████████▏        | 1.2 MB 34.3 MB/s eta 0:00:01\r",
      "\u001b[K     |███████████████████████▍        | 1.2 MB 34.3 MB/s eta 0:00:01\r",
      "\u001b[K     |███████████████████████▋        | 1.2 MB 34.3 MB/s eta 0:00:01\r",
      "\u001b[K     |███████████████████████▉        | 1.2 MB 34.3 MB/s eta 0:00:01"
     ]
    },
    {
     "name": "stdout",
     "output_type": "stream",
     "text": [
      "\r",
      "\u001b[K     |████████████████████████        | 1.2 MB 34.3 MB/s eta 0:00:01\r",
      "\u001b[K     |████████████████████████▎       | 1.2 MB 34.3 MB/s eta 0:00:01\r",
      "\u001b[K     |████████████████████████▌       | 1.2 MB 34.3 MB/s eta 0:00:01\r",
      "\u001b[K     |████████████████████████▋       | 1.2 MB 34.3 MB/s eta 0:00:01\r",
      "\u001b[K     |████████████████████████▉       | 1.2 MB 34.3 MB/s eta 0:00:01\r",
      "\u001b[K     |█████████████████████████       | 1.2 MB 34.3 MB/s eta 0:00:01\r",
      "\u001b[K     |█████████████████████████▎      | 1.3 MB 34.3 MB/s eta 0:00:01\r",
      "\u001b[K     |█████████████████████████▌      | 1.3 MB 34.3 MB/s eta 0:00:01\r",
      "\u001b[K     |█████████████████████████▊      | 1.3 MB 34.3 MB/s eta 0:00:01\r",
      "\u001b[K     |██████████████████████████      | 1.3 MB 34.3 MB/s eta 0:00:01\r",
      "\u001b[K     |██████████████████████████      | 1.3 MB 34.3 MB/s eta 0:00:01\r",
      "\u001b[K     |██████████████████████████▎     | 1.3 MB 34.3 MB/s eta 0:00:01\r",
      "\u001b[K     |██████████████████████████▌     | 1.3 MB 34.3 MB/s eta 0:00:01\r",
      "\u001b[K     |██████████████████████████▊     | 1.3 MB 34.3 MB/s eta 0:00:01\r",
      "\u001b[K     |███████████████████████████     | 1.3 MB 34.3 MB/s eta 0:00:01\r",
      "\u001b[K     |███████████████████████████▏    | 1.4 MB 34.3 MB/s eta 0:00:01\r",
      "\u001b[K     |███████████████████████████▎    | 1.4 MB 34.3 MB/s eta 0:00:01\r",
      "\u001b[K     |███████████████████████████▌    | 1.4 MB 34.3 MB/s eta 0:00:01\r",
      "\u001b[K     |███████████████████████████▊    | 1.4 MB 34.3 MB/s eta 0:00:01\r",
      "\u001b[K     |████████████████████████████    | 1.4 MB 34.3 MB/s eta 0:00:01\r",
      "\u001b[K     |████████████████████████████▏   | 1.4 MB 34.3 MB/s eta 0:00:01\r",
      "\u001b[K     |████████████████████████████▍   | 1.4 MB 34.3 MB/s eta 0:00:01\r",
      "\u001b[K     |████████████████████████████▋   | 1.4 MB 34.3 MB/s eta 0:00:01\r",
      "\u001b[K     |████████████████████████████▊   | 1.4 MB 34.3 MB/s eta 0:00:01\r",
      "\u001b[K     |█████████████████████████████   | 1.4 MB 34.3 MB/s eta 0:00:01\r",
      "\u001b[K     |█████████████████████████████▏  | 1.5 MB 34.3 MB/s eta 0:00:01\r",
      "\u001b[K     |█████████████████████████████▍  | 1.5 MB 34.3 MB/s eta 0:00:01\r",
      "\u001b[K     |█████████████████████████████▋  | 1.5 MB 34.3 MB/s eta 0:00:01\r",
      "\u001b[K     |█████████████████████████████▉  | 1.5 MB 34.3 MB/s eta 0:00:01\r",
      "\u001b[K     |██████████████████████████████  | 1.5 MB 34.3 MB/s eta 0:00:01\r",
      "\u001b[K     |██████████████████████████████▏ | 1.5 MB 34.3 MB/s eta 0:00:01\r",
      "\u001b[K     |██████████████████████████████▍ | 1.5 MB 34.3 MB/s eta 0:00:01\r",
      "\u001b[K     |██████████████████████████████▋ | 1.5 MB 34.3 MB/s eta 0:00:01\r",
      "\u001b[K     |██████████████████████████████▉ | 1.5 MB 34.3 MB/s eta 0:00:01\r",
      "\u001b[K     |███████████████████████████████ | 1.5 MB 34.3 MB/s eta 0:00:01\r",
      "\u001b[K     |███████████████████████████████▎| 1.6 MB 34.3 MB/s eta 0:00:01\r",
      "\u001b[K     |███████████████████████████████▍| 1.6 MB 34.3 MB/s eta 0:00:01\r",
      "\u001b[K     |███████████████████████████████▋| 1.6 MB 34.3 MB/s eta 0:00:01\r",
      "\u001b[K     |███████████████████████████████▉| 1.6 MB 34.3 MB/s eta 0:00:01\r",
      "\u001b[K     |████████████████████████████████| 1.6 MB 34.3 MB/s \r\n"
     ]
    },
    {
     "name": "stdout",
     "output_type": "stream",
     "text": [
      "\u001b[?25hCollecting jupyterlab-widgets>=1.0.0\r\n",
      "  Downloading jupyterlab_widgets-1.1.0-py3-none-any.whl (245 kB)\r\n",
      "\u001b[?25l\r",
      "\u001b[K     |█▍                              | 10 kB 32.7 MB/s eta 0:00:01\r",
      "\u001b[K     |██▊                             | 20 kB 41.0 MB/s eta 0:00:01\r",
      "\u001b[K     |████                            | 30 kB 51.8 MB/s eta 0:00:01\r",
      "\u001b[K     |█████▍                          | 40 kB 33.0 MB/s eta 0:00:01\r",
      "\u001b[K     |██████▊                         | 51 kB 26.7 MB/s eta 0:00:01\r",
      "\u001b[K     |████████                        | 61 kB 30.6 MB/s eta 0:00:01\r",
      "\u001b[K     |█████████▍                      | 71 kB 33.4 MB/s eta 0:00:01\r",
      "\u001b[K     |██████████▊                     | 81 kB 25.4 MB/s eta 0:00:01\r",
      "\u001b[K     |████████████                    | 92 kB 27.5 MB/s eta 0:00:01\r",
      "\u001b[K     |█████████████▍                  | 102 kB 29.7 MB/s eta 0:00:01\r",
      "\u001b[K     |██████████████▊                 | 112 kB 29.7 MB/s eta 0:00:01\r",
      "\u001b[K     |████████████████                | 122 kB 29.7 MB/s eta 0:00:01\r",
      "\u001b[K     |█████████████████▍              | 133 kB 29.7 MB/s eta 0:00:01\r",
      "\u001b[K     |██████████████████▊             | 143 kB 29.7 MB/s eta 0:00:01\r",
      "\u001b[K     |████████████████████            | 153 kB 29.7 MB/s eta 0:00:01\r",
      "\u001b[K     |█████████████████████▍          | 163 kB 29.7 MB/s eta 0:00:01\r",
      "\u001b[K     |██████████████████████▊         | 174 kB 29.7 MB/s eta 0:00:01\r",
      "\u001b[K     |████████████████████████        | 184 kB 29.7 MB/s eta 0:00:01\r",
      "\u001b[K     |█████████████████████████▍      | 194 kB 29.7 MB/s eta 0:00:01\r",
      "\u001b[K     |██████████████████████████▊     | 204 kB 29.7 MB/s eta 0:00:01\r",
      "\u001b[K     |████████████████████████████    | 215 kB 29.7 MB/s eta 0:00:01\r",
      "\u001b[K     |█████████████████████████████▍  | 225 kB 29.7 MB/s eta 0:00:01\r",
      "\u001b[K     |██████████████████████████████▊ | 235 kB 29.7 MB/s eta 0:00:01\r",
      "\u001b[K     |████████████████████████████████| 245 kB 29.7 MB/s \r\n",
      "\u001b[?25hRequirement already satisfied: tornado<7.0,>=4.2 in /opt/conda/lib/python3.8/site-packages (from ipykernel>=4.5.1->ipywidgets) (6.1)\r\n",
      "Requirement already satisfied: debugpy<2.0,>=1.0.0 in /opt/conda/lib/python3.8/site-packages (from ipykernel>=4.5.1->ipywidgets) (1.5.1)\r\n",
      "Requirement already satisfied: jupyter-client<8.0 in /opt/conda/lib/python3.8/site-packages (from ipykernel>=4.5.1->ipywidgets) (7.1.2)\r\n",
      "Requirement already satisfied: matplotlib-inline<0.2.0,>=0.1.0 in /opt/conda/lib/python3.8/site-packages (from ipykernel>=4.5.1->ipywidgets) (0.1.3)\r\n",
      "Requirement already satisfied: nest-asyncio in /opt/conda/lib/python3.8/site-packages (from ipykernel>=4.5.1->ipywidgets) (1.5.4)\r\n"
     ]
    },
    {
     "name": "stdout",
     "output_type": "stream",
     "text": [
      "Requirement already satisfied: jedi>=0.16 in /opt/conda/lib/python3.8/site-packages (from ipython>=4.0.0->ipywidgets) (0.18.1)\r\n",
      "Requirement already satisfied: pygments in /opt/conda/lib/python3.8/site-packages (from ipython>=4.0.0->ipywidgets) (2.11.2)\r\n",
      "Requirement already satisfied: prompt-toolkit!=3.0.0,!=3.0.1,<3.1.0,>=2.0.0 in /opt/conda/lib/python3.8/site-packages (from ipython>=4.0.0->ipywidgets) (3.0.26)\r\n",
      "Requirement already satisfied: backcall in /opt/conda/lib/python3.8/site-packages (from ipython>=4.0.0->ipywidgets) (0.2.0)\r\n",
      "Requirement already satisfied: setuptools>=18.5 in /opt/conda/lib/python3.8/site-packages (from ipython>=4.0.0->ipywidgets) (59.5.0)\r\n",
      "Requirement already satisfied: black in /opt/conda/lib/python3.8/site-packages (from ipython>=4.0.0->ipywidgets) (22.1.0)\r\n",
      "Requirement already satisfied: pickleshare in /opt/conda/lib/python3.8/site-packages (from ipython>=4.0.0->ipywidgets) (0.7.5)\r\n"
     ]
    },
    {
     "name": "stdout",
     "output_type": "stream",
     "text": [
      "Requirement already satisfied: decorator in /opt/conda/lib/python3.8/site-packages (from ipython>=4.0.0->ipywidgets) (5.1.1)\r\n",
      "Requirement already satisfied: stack-data in /opt/conda/lib/python3.8/site-packages (from ipython>=4.0.0->ipywidgets) (0.1.4)\r\n",
      "Requirement already satisfied: pexpect>4.3 in /opt/conda/lib/python3.8/site-packages (from ipython>=4.0.0->ipywidgets) (4.8.0)\r\n",
      "Requirement already satisfied: parso<0.9.0,>=0.8.0 in /opt/conda/lib/python3.8/site-packages (from jedi>=0.16->ipython>=4.0.0->ipywidgets) (0.8.3)\r\n",
      "Requirement already satisfied: jupyter-core>=4.6.0 in /opt/conda/lib/python3.8/site-packages (from jupyter-client<8.0->ipykernel>=4.5.1->ipywidgets) (4.9.1)\r\n",
      "Requirement already satisfied: entrypoints in /opt/conda/lib/python3.8/site-packages (from jupyter-client<8.0->ipykernel>=4.5.1->ipywidgets) (0.3)\r\n",
      "Requirement already satisfied: pyzmq>=13 in /opt/conda/lib/python3.8/site-packages (from jupyter-client<8.0->ipykernel>=4.5.1->ipywidgets) (22.3.0)\r\n",
      "Requirement already satisfied: python-dateutil>=2.1 in /opt/conda/lib/python3.8/site-packages (from jupyter-client<8.0->ipykernel>=4.5.1->ipywidgets) (2.8.2)\r\n"
     ]
    },
    {
     "name": "stdout",
     "output_type": "stream",
     "text": [
      "Requirement already satisfied: jsonschema!=2.5.0,>=2.4 in /opt/conda/lib/python3.8/site-packages (from nbformat>=4.2.0->ipywidgets) (4.4.0)\r\n",
      "Requirement already satisfied: pyrsistent!=0.17.0,!=0.17.1,!=0.17.2,>=0.14.0 in /opt/conda/lib/python3.8/site-packages (from jsonschema!=2.5.0,>=2.4->nbformat>=4.2.0->ipywidgets) (0.18.1)\r\n",
      "Requirement already satisfied: importlib-resources>=1.4.0 in /opt/conda/lib/python3.8/site-packages (from jsonschema!=2.5.0,>=2.4->nbformat>=4.2.0->ipywidgets) (5.4.0)\r\n",
      "Requirement already satisfied: attrs>=17.4.0 in /opt/conda/lib/python3.8/site-packages (from jsonschema!=2.5.0,>=2.4->nbformat>=4.2.0->ipywidgets) (18.2.0)\r\n"
     ]
    },
    {
     "name": "stdout",
     "output_type": "stream",
     "text": [
      "Requirement already satisfied: zipp>=3.1.0 in /opt/conda/lib/python3.8/site-packages (from importlib-resources>=1.4.0->jsonschema!=2.5.0,>=2.4->nbformat>=4.2.0->ipywidgets) (3.7.0)\r\n",
      "Requirement already satisfied: ptyprocess>=0.5 in /opt/conda/lib/python3.8/site-packages (from pexpect>4.3->ipython>=4.0.0->ipywidgets) (0.7.0)\r\n",
      "Requirement already satisfied: wcwidth in /opt/conda/lib/python3.8/site-packages (from prompt-toolkit!=3.0.0,!=3.0.1,<3.1.0,>=2.0.0->ipython>=4.0.0->ipywidgets) (0.2.5)\r\n",
      "Requirement already satisfied: six>=1.5 in /opt/conda/lib/python3.8/site-packages (from python-dateutil>=2.1->jupyter-client<8.0->ipykernel>=4.5.1->ipywidgets) (1.16.0)\r\n"
     ]
    },
    {
     "name": "stdout",
     "output_type": "stream",
     "text": [
      "Requirement already satisfied: notebook>=4.4.1 in /opt/conda/lib/python3.8/site-packages (from widgetsnbextension~=3.6.0->ipywidgets) (6.4.1)\r\n",
      "Requirement already satisfied: jinja2 in /opt/conda/lib/python3.8/site-packages (from notebook>=4.4.1->widgetsnbextension~=3.6.0->ipywidgets) (3.0.3)\r\n",
      "Requirement already satisfied: terminado>=0.8.3 in /opt/conda/lib/python3.8/site-packages (from notebook>=4.4.1->widgetsnbextension~=3.6.0->ipywidgets) (0.13.1)\r\n",
      "Requirement already satisfied: nbconvert in /opt/conda/lib/python3.8/site-packages (from notebook>=4.4.1->widgetsnbextension~=3.6.0->ipywidgets) (6.4.2)\r\n",
      "Requirement already satisfied: prometheus-client in /opt/conda/lib/python3.8/site-packages (from notebook>=4.4.1->widgetsnbextension~=3.6.0->ipywidgets) (0.9.0)\r\n",
      "Requirement already satisfied: argon2-cffi in /opt/conda/lib/python3.8/site-packages (from notebook>=4.4.1->widgetsnbextension~=3.6.0->ipywidgets) (21.3.0)\r\n",
      "Requirement already satisfied: Send2Trash>=1.5.0 in /opt/conda/lib/python3.8/site-packages (from notebook>=4.4.1->widgetsnbextension~=3.6.0->ipywidgets) (1.8.0)\r\n"
     ]
    },
    {
     "name": "stdout",
     "output_type": "stream",
     "text": [
      "Requirement already satisfied: argon2-cffi-bindings in /opt/conda/lib/python3.8/site-packages (from argon2-cffi->notebook>=4.4.1->widgetsnbextension~=3.6.0->ipywidgets) (21.2.0)\r\n",
      "Requirement already satisfied: cffi>=1.0.1 in /opt/conda/lib/python3.8/site-packages (from argon2-cffi-bindings->argon2-cffi->notebook>=4.4.1->widgetsnbextension~=3.6.0->ipywidgets) (1.15.0)\r\n"
     ]
    },
    {
     "name": "stdout",
     "output_type": "stream",
     "text": [
      "Requirement already satisfied: pycparser in /opt/conda/lib/python3.8/site-packages (from cffi>=1.0.1->argon2-cffi-bindings->argon2-cffi->notebook>=4.4.1->widgetsnbextension~=3.6.0->ipywidgets) (2.21)\r\n",
      "Requirement already satisfied: click>=8.0.0 in /opt/conda/lib/python3.8/site-packages (from black->ipython>=4.0.0->ipywidgets) (8.0.3)\r\n"
     ]
    },
    {
     "name": "stdout",
     "output_type": "stream",
     "text": [
      "Requirement already satisfied: pathspec>=0.9.0 in /opt/conda/lib/python3.8/site-packages (from black->ipython>=4.0.0->ipywidgets) (0.9.0)\r\n",
      "Requirement already satisfied: typing-extensions>=3.10.0.0 in /opt/conda/lib/python3.8/site-packages (from black->ipython>=4.0.0->ipywidgets) (4.0.1)\r\n",
      "Requirement already satisfied: mypy-extensions>=0.4.3 in /opt/conda/lib/python3.8/site-packages (from black->ipython>=4.0.0->ipywidgets) (0.4.3)\r\n",
      "Requirement already satisfied: platformdirs>=2 in /opt/conda/lib/python3.8/site-packages (from black->ipython>=4.0.0->ipywidgets) (2.4.1)\r\n",
      "Requirement already satisfied: tomli>=1.1.0 in /opt/conda/lib/python3.8/site-packages (from black->ipython>=4.0.0->ipywidgets) (2.0.1)\r\n"
     ]
    },
    {
     "name": "stdout",
     "output_type": "stream",
     "text": [
      "Requirement already satisfied: MarkupSafe>=2.0 in /opt/conda/lib/python3.8/site-packages (from jinja2->notebook>=4.4.1->widgetsnbextension~=3.6.0->ipywidgets) (2.0.1)\r\n",
      "Requirement already satisfied: bleach in /opt/conda/lib/python3.8/site-packages (from nbconvert->notebook>=4.4.1->widgetsnbextension~=3.6.0->ipywidgets) (4.1.0)\r\n",
      "Requirement already satisfied: pandocfilters>=1.4.1 in /opt/conda/lib/python3.8/site-packages (from nbconvert->notebook>=4.4.1->widgetsnbextension~=3.6.0->ipywidgets) (1.5.0)\r\n",
      "Requirement already satisfied: nbclient<0.6.0,>=0.5.0 in /opt/conda/lib/python3.8/site-packages (from nbconvert->notebook>=4.4.1->widgetsnbextension~=3.6.0->ipywidgets) (0.5.11)\r\n",
      "Requirement already satisfied: defusedxml in /opt/conda/lib/python3.8/site-packages (from nbconvert->notebook>=4.4.1->widgetsnbextension~=3.6.0->ipywidgets) (0.7.1)\r\n",
      "Requirement already satisfied: testpath in /opt/conda/lib/python3.8/site-packages (from nbconvert->notebook>=4.4.1->widgetsnbextension~=3.6.0->ipywidgets) (0.5.0)\r\n",
      "Requirement already satisfied: mistune<2,>=0.8.1 in /opt/conda/lib/python3.8/site-packages (from nbconvert->notebook>=4.4.1->widgetsnbextension~=3.6.0->ipywidgets) (0.8.4)\r\n"
     ]
    },
    {
     "name": "stdout",
     "output_type": "stream",
     "text": [
      "Requirement already satisfied: jupyterlab-pygments in /opt/conda/lib/python3.8/site-packages (from nbconvert->notebook>=4.4.1->widgetsnbextension~=3.6.0->ipywidgets) (0.1.2)\r\n"
     ]
    },
    {
     "name": "stdout",
     "output_type": "stream",
     "text": [
      "Requirement already satisfied: packaging in /opt/conda/lib/python3.8/site-packages (from bleach->nbconvert->notebook>=4.4.1->widgetsnbextension~=3.6.0->ipywidgets) (21.3)\r\n",
      "Requirement already satisfied: webencodings in /opt/conda/lib/python3.8/site-packages (from bleach->nbconvert->notebook>=4.4.1->widgetsnbextension~=3.6.0->ipywidgets) (0.5.1)\r\n",
      "Requirement already satisfied: pyparsing!=3.0.5,>=2.0.2 in /opt/conda/lib/python3.8/site-packages (from packaging->bleach->nbconvert->notebook>=4.4.1->widgetsnbextension~=3.6.0->ipywidgets) (3.0.7)\r\n"
     ]
    },
    {
     "name": "stdout",
     "output_type": "stream",
     "text": [
      "Requirement already satisfied: executing in /opt/conda/lib/python3.8/site-packages (from stack-data->ipython>=4.0.0->ipywidgets) (0.8.2)\r\n",
      "Requirement already satisfied: asttokens in /opt/conda/lib/python3.8/site-packages (from stack-data->ipython>=4.0.0->ipywidgets) (2.0.5)\r\n",
      "Requirement already satisfied: pure-eval in /opt/conda/lib/python3.8/site-packages (from stack-data->ipython>=4.0.0->ipywidgets) (0.2.2)\r\n"
     ]
    },
    {
     "name": "stdout",
     "output_type": "stream",
     "text": [
      "Installing collected packages: widgetsnbextension, jupyterlab-widgets, ipywidgets\r\n"
     ]
    },
    {
     "name": "stdout",
     "output_type": "stream",
     "text": [
      "Successfully installed ipywidgets-7.7.0 jupyterlab-widgets-1.1.0 widgetsnbextension-3.6.0\r\n",
      "\u001b[33mWARNING: Running pip as the 'root' user can result in broken permissions and conflicting behaviour with the system package manager. It is recommended to use a virtual environment instead: https://pip.pypa.io/warnings/venv\u001b[0m\r\n"
     ]
    }
   ],
   "source": [
    "!pip install ipywidgets"
   ]
  },
  {
   "cell_type": "code",
   "execution_count": null,
   "id": "a8359dc8",
   "metadata": {
    "gradient": {
     "editing": false,
     "execution_count": 2,
     "id": "a8359dc8",
     "kernelId": "e8c05c89-6946-4f31-b274-a87286e3e99a"
    }
   },
   "outputs": [
    {
     "name": "stdout",
     "output_type": "stream",
     "text": [
      "Looking in indexes: https://pypi.org/simple, https://pypi.ngc.nvidia.com\r\n"
     ]
    },
    {
     "name": "stdout",
     "output_type": "stream",
     "text": [
      "Collecting seaborn\r\n"
     ]
    },
    {
     "name": "stdout",
     "output_type": "stream",
     "text": [
      "  Downloading seaborn-0.11.2-py3-none-any.whl (292 kB)\r\n",
      "\u001b[?25l\r",
      "\u001b[K     |█▏                              | 10 kB 33.5 MB/s eta 0:00:01\r",
      "\u001b[K     |██▎                             | 20 kB 39.0 MB/s eta 0:00:01\r",
      "\u001b[K     |███▍                            | 30 kB 31.4 MB/s eta 0:00:01\r",
      "\u001b[K     |████▌                           | 40 kB 16.4 MB/s eta 0:00:01\r",
      "\u001b[K     |█████▋                          | 51 kB 13.7 MB/s eta 0:00:01\r",
      "\u001b[K     |██████▊                         | 61 kB 16.0 MB/s eta 0:00:01\r",
      "\u001b[K     |███████▉                        | 71 kB 17.3 MB/s eta 0:00:01\r",
      "\u001b[K     |█████████                       | 81 kB 16.9 MB/s eta 0:00:01\r",
      "\u001b[K     |██████████                      | 92 kB 18.5 MB/s eta 0:00:01\r",
      "\u001b[K     |███████████▏                    | 102 kB 19.8 MB/s eta 0:00:01\r",
      "\u001b[K     |████████████▎                   | 112 kB 19.8 MB/s eta 0:00:01\r",
      "\u001b[K     |█████████████▍                  | 122 kB 19.8 MB/s eta 0:00:01\r",
      "\u001b[K     |██████████████▌                 | 133 kB 19.8 MB/s eta 0:00:01\r",
      "\u001b[K     |███████████████▊                | 143 kB 19.8 MB/s eta 0:00:01\r",
      "\u001b[K     |████████████████▉               | 153 kB 19.8 MB/s eta 0:00:01\r",
      "\u001b[K     |██████████████████              | 163 kB 19.8 MB/s eta 0:00:01\r",
      "\u001b[K     |███████████████████             | 174 kB 19.8 MB/s eta 0:00:01\r",
      "\u001b[K     |████████████████████▏           | 184 kB 19.8 MB/s eta 0:00:01\r",
      "\u001b[K     |█████████████████████▎          | 194 kB 19.8 MB/s eta 0:00:01\r",
      "\u001b[K     |██████████████████████▍         | 204 kB 19.8 MB/s eta 0:00:01\r",
      "\u001b[K     |███████████████████████▌        | 215 kB 19.8 MB/s eta 0:00:01\r",
      "\u001b[K     |████████████████████████▋       | 225 kB 19.8 MB/s eta 0:00:01\r",
      "\u001b[K     |█████████████████████████▊      | 235 kB 19.8 MB/s eta 0:00:01\r",
      "\u001b[K     |██████████████████████████▉     | 245 kB 19.8 MB/s eta 0:00:01\r",
      "\u001b[K     |████████████████████████████    | 256 kB 19.8 MB/s eta 0:00:01\r",
      "\u001b[K     |█████████████████████████████   | 266 kB 19.8 MB/s eta 0:00:01\r",
      "\u001b[K     |██████████████████████████████▏ | 276 kB 19.8 MB/s eta 0:00:01\r",
      "\u001b[K     |███████████████████████████████▍| 286 kB 19.8 MB/s eta 0:00:01\r",
      "\u001b[K     |████████████████████████████████| 292 kB 19.8 MB/s \r\n"
     ]
    },
    {
     "name": "stdout",
     "output_type": "stream",
     "text": [
      "\u001b[?25hRequirement already satisfied: numpy>=1.15 in /opt/conda/lib/python3.8/site-packages (from seaborn) (1.22.2)\r\n",
      "Requirement already satisfied: scipy>=1.0 in /opt/conda/lib/python3.8/site-packages (from seaborn) (1.6.3)\r\n",
      "Requirement already satisfied: pandas>=0.23 in /opt/conda/lib/python3.8/site-packages (from seaborn) (1.3.5)\r\n",
      "Requirement already satisfied: matplotlib>=2.2 in /opt/conda/lib/python3.8/site-packages (from seaborn) (3.5.1)\r\n",
      "Requirement already satisfied: fonttools>=4.22.0 in /opt/conda/lib/python3.8/site-packages (from matplotlib>=2.2->seaborn) (4.29.1)\r\n",
      "Requirement already satisfied: kiwisolver>=1.0.1 in /opt/conda/lib/python3.8/site-packages (from matplotlib>=2.2->seaborn) (1.3.2)\r\n",
      "Requirement already satisfied: packaging>=20.0 in /opt/conda/lib/python3.8/site-packages (from matplotlib>=2.2->seaborn) (21.3)\r\n",
      "Requirement already satisfied: cycler>=0.10 in /opt/conda/lib/python3.8/site-packages (from matplotlib>=2.2->seaborn) (0.11.0)\r\n",
      "Requirement already satisfied: pyparsing>=2.2.1 in /opt/conda/lib/python3.8/site-packages (from matplotlib>=2.2->seaborn) (3.0.7)\r\n",
      "Requirement already satisfied: python-dateutil>=2.7 in /opt/conda/lib/python3.8/site-packages (from matplotlib>=2.2->seaborn) (2.8.2)\r\n",
      "Requirement already satisfied: pillow>=6.2.0 in /opt/conda/lib/python3.8/site-packages (from matplotlib>=2.2->seaborn) (9.0.0)\r\n"
     ]
    },
    {
     "name": "stdout",
     "output_type": "stream",
     "text": [
      "Requirement already satisfied: pytz>=2017.3 in /opt/conda/lib/python3.8/site-packages (from pandas>=0.23->seaborn) (2021.3)\r\n",
      "Requirement already satisfied: six>=1.5 in /opt/conda/lib/python3.8/site-packages (from python-dateutil>=2.7->matplotlib>=2.2->seaborn) (1.16.0)\r\n"
     ]
    },
    {
     "name": "stdout",
     "output_type": "stream",
     "text": [
      "Installing collected packages: seaborn\r\n"
     ]
    },
    {
     "name": "stdout",
     "output_type": "stream",
     "text": [
      "Successfully installed seaborn-0.11.2\r\n",
      "\u001b[33mWARNING: Running pip as the 'root' user can result in broken permissions and conflicting behaviour with the system package manager. It is recommended to use a virtual environment instead: https://pip.pypa.io/warnings/venv\u001b[0m\r\n"
     ]
    }
   ],
   "source": [
    "!pip install seaborn"
   ]
  },
  {
   "cell_type": "code",
   "execution_count": null,
   "id": "1692f302",
   "metadata": {
    "gradient": {
     "editing": false,
     "execution_count": 3,
     "id": "1692f302",
     "kernelId": "e8c05c89-6946-4f31-b274-a87286e3e99a"
    }
   },
   "outputs": [
    {
     "name": "stdout",
     "output_type": "stream",
     "text": [
      "Looking in indexes: https://pypi.org/simple, https://pypi.ngc.nvidia.com\r\n"
     ]
    },
    {
     "name": "stdout",
     "output_type": "stream",
     "text": [
      "Collecting transformers\r\n",
      "  Downloading transformers-4.17.0-py3-none-any.whl (3.8 MB)\r\n",
      "\u001b[?25l\r",
      "\u001b[K     |                                | 10 kB 24.0 MB/s eta 0:00:01\r",
      "\u001b[K     |▏                               | 20 kB 29.2 MB/s eta 0:00:01\r",
      "\u001b[K     |▎                               | 30 kB 35.4 MB/s eta 0:00:01\r",
      "\u001b[K     |▍                               | 40 kB 17.7 MB/s eta 0:00:01\r",
      "\u001b[K     |▍                               | 51 kB 16.6 MB/s eta 0:00:01\r",
      "\u001b[K     |▌                               | 61 kB 19.2 MB/s eta 0:00:01\r",
      "\u001b[K     |▋                               | 71 kB 20.6 MB/s eta 0:00:01\r",
      "\u001b[K     |▊                               | 81 kB 18.6 MB/s eta 0:00:01\r",
      "\u001b[K     |▊                               | 92 kB 20.4 MB/s eta 0:00:01\r",
      "\u001b[K     |▉                               | 102 kB 19.6 MB/s eta 0:00:01\r",
      "\u001b[K     |█                               | 112 kB 19.6 MB/s eta 0:00:01\r",
      "\u001b[K     |█                               | 122 kB 19.6 MB/s eta 0:00:01\r",
      "\u001b[K     |█▏                              | 133 kB 19.6 MB/s eta 0:00:01\r",
      "\u001b[K     |█▏                              | 143 kB 19.6 MB/s eta 0:00:01\r",
      "\u001b[K     |█▎                              | 153 kB 19.6 MB/s eta 0:00:01\r",
      "\u001b[K     |█▍                              | 163 kB 19.6 MB/s eta 0:00:01\r",
      "\u001b[K     |█▌                              | 174 kB 19.6 MB/s eta 0:00:01\r",
      "\u001b[K     |█▌                              | 184 kB 19.6 MB/s eta 0:00:01\r",
      "\u001b[K     |█▋                              | 194 kB 19.6 MB/s eta 0:00:01\r",
      "\u001b[K     |█▊                              | 204 kB 19.6 MB/s eta 0:00:01\r",
      "\u001b[K     |█▉                              | 215 kB 19.6 MB/s eta 0:00:01\r",
      "\u001b[K     |█▉                              | 225 kB 19.6 MB/s eta 0:00:01\r",
      "\u001b[K     |██                              | 235 kB 19.6 MB/s eta 0:00:01\r",
      "\u001b[K     |██                              | 245 kB 19.6 MB/s eta 0:00:01\r",
      "\u001b[K     |██▏                             | 256 kB 19.6 MB/s eta 0:00:01"
     ]
    },
    {
     "name": "stdout",
     "output_type": "stream",
     "text": [
      "\r",
      "\u001b[K     |██▎                             | 266 kB 19.6 MB/s eta 0:00:01\r",
      "\u001b[K     |██▎                             | 276 kB 19.6 MB/s eta 0:00:01\r",
      "\u001b[K     |██▍                             | 286 kB 19.6 MB/s eta 0:00:01\r",
      "\u001b[K     |██▌                             | 296 kB 19.6 MB/s eta 0:00:01\r",
      "\u001b[K     |██▋                             | 307 kB 19.6 MB/s eta 0:00:01\r",
      "\u001b[K     |██▋                             | 317 kB 19.6 MB/s eta 0:00:01\r",
      "\u001b[K     |██▊                             | 327 kB 19.6 MB/s eta 0:00:01\r",
      "\u001b[K     |██▉                             | 337 kB 19.6 MB/s eta 0:00:01\r",
      "\u001b[K     |███                             | 348 kB 19.6 MB/s eta 0:00:01\r",
      "\u001b[K     |███                             | 358 kB 19.6 MB/s eta 0:00:01\r",
      "\u001b[K     |███                             | 368 kB 19.6 MB/s eta 0:00:01\r",
      "\u001b[K     |███▏                            | 378 kB 19.6 MB/s eta 0:00:01\r",
      "\u001b[K     |███▎                            | 389 kB 19.6 MB/s eta 0:00:01\r",
      "\u001b[K     |███▍                            | 399 kB 19.6 MB/s eta 0:00:01\r",
      "\u001b[K     |███▍                            | 409 kB 19.6 MB/s eta 0:00:01\r",
      "\u001b[K     |███▌                            | 419 kB 19.6 MB/s eta 0:00:01\r",
      "\u001b[K     |███▋                            | 430 kB 19.6 MB/s eta 0:00:01\r",
      "\u001b[K     |███▊                            | 440 kB 19.6 MB/s eta 0:00:01\r",
      "\u001b[K     |███▊                            | 450 kB 19.6 MB/s eta 0:00:01\r",
      "\u001b[K     |███▉                            | 460 kB 19.6 MB/s eta 0:00:01\r",
      "\u001b[K     |████                            | 471 kB 19.6 MB/s eta 0:00:01\r",
      "\u001b[K     |████                            | 481 kB 19.6 MB/s eta 0:00:01\r",
      "\u001b[K     |████                            | 491 kB 19.6 MB/s eta 0:00:01\r",
      "\u001b[K     |████▏                           | 501 kB 19.6 MB/s eta 0:00:01\r",
      "\u001b[K     |████▎                           | 512 kB 19.6 MB/s eta 0:00:01\r",
      "\u001b[K     |████▍                           | 522 kB 19.6 MB/s eta 0:00:01\r",
      "\u001b[K     |████▌                           | 532 kB 19.6 MB/s eta 0:00:01\r",
      "\u001b[K     |████▌                           | 542 kB 19.6 MB/s eta 0:00:01\r",
      "\u001b[K     |████▋                           | 552 kB 19.6 MB/s eta 0:00:01\r",
      "\u001b[K     |████▊                           | 563 kB 19.6 MB/s eta 0:00:01\r",
      "\u001b[K     |████▉                           | 573 kB 19.6 MB/s eta 0:00:01\r",
      "\u001b[K     |████▉                           | 583 kB 19.6 MB/s eta 0:00:01\r",
      "\u001b[K     |█████                           | 593 kB 19.6 MB/s eta 0:00:01\r",
      "\u001b[K     |█████                           | 604 kB 19.6 MB/s eta 0:00:01\r",
      "\u001b[K     |█████▏                          | 614 kB 19.6 MB/s eta 0:00:01\r",
      "\u001b[K     |█████▎                          | 624 kB 19.6 MB/s eta 0:00:01\r",
      "\u001b[K     |█████▎                          | 634 kB 19.6 MB/s eta 0:00:01\r",
      "\u001b[K     |█████▍                          | 645 kB 19.6 MB/s eta 0:00:01\r",
      "\u001b[K     |█████▌                          | 655 kB 19.6 MB/s eta 0:00:01\r",
      "\u001b[K     |█████▋                          | 665 kB 19.6 MB/s eta 0:00:01\r",
      "\u001b[K     |█████▋                          | 675 kB 19.6 MB/s eta 0:00:01\r",
      "\u001b[K     |█████▊                          | 686 kB 19.6 MB/s eta 0:00:01\r",
      "\u001b[K     |█████▉                          | 696 kB 19.6 MB/s eta 0:00:01\r",
      "\u001b[K     |██████                          | 706 kB 19.6 MB/s eta 0:00:01\r",
      "\u001b[K     |██████                          | 716 kB 19.6 MB/s eta 0:00:01\r",
      "\u001b[K     |██████                          | 727 kB 19.6 MB/s eta 0:00:01\r",
      "\u001b[K     |██████▏                         | 737 kB 19.6 MB/s eta 0:00:01\r",
      "\u001b[K     |██████▎                         | 747 kB 19.6 MB/s eta 0:00:01\r",
      "\u001b[K     |██████▍                         | 757 kB 19.6 MB/s eta 0:00:01\r",
      "\u001b[K     |██████▍                         | 768 kB 19.6 MB/s eta 0:00:01\r",
      "\u001b[K     |██████▌                         | 778 kB 19.6 MB/s eta 0:00:01\r",
      "\u001b[K     |██████▋                         | 788 kB 19.6 MB/s eta 0:00:01\r",
      "\u001b[K     |██████▊                         | 798 kB 19.6 MB/s eta 0:00:01\r",
      "\u001b[K     |██████▊                         | 808 kB 19.6 MB/s eta 0:00:01\r",
      "\u001b[K     |██████▉                         | 819 kB 19.6 MB/s eta 0:00:01\r",
      "\u001b[K     |███████                         | 829 kB 19.6 MB/s eta 0:00:01\r",
      "\u001b[K     |███████                         | 839 kB 19.6 MB/s eta 0:00:01\r",
      "\u001b[K     |███████                         | 849 kB 19.6 MB/s eta 0:00:01\r",
      "\u001b[K     |███████▏                        | 860 kB 19.6 MB/s eta 0:00:01\r",
      "\u001b[K     |███████▎                        | 870 kB 19.6 MB/s eta 0:00:01\r",
      "\u001b[K     |███████▍                        | 880 kB 19.6 MB/s eta 0:00:01\r",
      "\u001b[K     |███████▌                        | 890 kB 19.6 MB/s eta 0:00:01\r",
      "\u001b[K     |███████▌                        | 901 kB 19.6 MB/s eta 0:00:01\r",
      "\u001b[K     |███████▋                        | 911 kB 19.6 MB/s eta 0:00:01\r",
      "\u001b[K     |███████▊                        | 921 kB 19.6 MB/s eta 0:00:01\r",
      "\u001b[K     |███████▉                        | 931 kB 19.6 MB/s eta 0:00:01\r",
      "\u001b[K     |███████▉                        | 942 kB 19.6 MB/s eta 0:00:01\r",
      "\u001b[K     |████████                        | 952 kB 19.6 MB/s eta 0:00:01\r",
      "\u001b[K     |████████                        | 962 kB 19.6 MB/s eta 0:00:01\r",
      "\u001b[K     |████████▏                       | 972 kB 19.6 MB/s eta 0:00:01\r",
      "\u001b[K     |████████▏                       | 983 kB 19.6 MB/s eta 0:00:01\r",
      "\u001b[K     |████████▎                       | 993 kB 19.6 MB/s eta 0:00:01\r",
      "\u001b[K     |████████▍                       | 1.0 MB 19.6 MB/s eta 0:00:01\r",
      "\u001b[K     |████████▌                       | 1.0 MB 19.6 MB/s eta 0:00:01\r",
      "\u001b[K     |████████▋                       | 1.0 MB 19.6 MB/s eta 0:00:01\r",
      "\u001b[K     |████████▋                       | 1.0 MB 19.6 MB/s eta 0:00:01\r",
      "\u001b[K     |████████▊                       | 1.0 MB 19.6 MB/s eta 0:00:01\r",
      "\u001b[K     |████████▉                       | 1.1 MB 19.6 MB/s eta 0:00:01\r",
      "\u001b[K     |█████████                       | 1.1 MB 19.6 MB/s eta 0:00:01\r",
      "\u001b[K     |█████████                       | 1.1 MB 19.6 MB/s eta 0:00:01\r",
      "\u001b[K     |█████████                       | 1.1 MB 19.6 MB/s eta 0:00:01\r",
      "\u001b[K     |█████████▏                      | 1.1 MB 19.6 MB/s eta 0:00:01\r",
      "\u001b[K     |█████████▎                      | 1.1 MB 19.6 MB/s eta 0:00:01\r",
      "\u001b[K     |█████████▍                      | 1.1 MB 19.6 MB/s eta 0:00:01\r",
      "\u001b[K     |█████████▍                      | 1.1 MB 19.6 MB/s eta 0:00:01\r",
      "\u001b[K     |█████████▌                      | 1.1 MB 19.6 MB/s eta 0:00:01\r",
      "\u001b[K     |█████████▋                      | 1.1 MB 19.6 MB/s eta 0:00:01\r",
      "\u001b[K     |█████████▊                      | 1.2 MB 19.6 MB/s eta 0:00:01\r",
      "\u001b[K     |█████████▊                      | 1.2 MB 19.6 MB/s eta 0:00:01\r",
      "\u001b[K     |█████████▉                      | 1.2 MB 19.6 MB/s eta 0:00:01\r",
      "\u001b[K     |██████████                      | 1.2 MB 19.6 MB/s eta 0:00:01\r",
      "\u001b[K     |██████████                      | 1.2 MB 19.6 MB/s eta 0:00:01\r",
      "\u001b[K     |██████████                      | 1.2 MB 19.6 MB/s eta 0:00:01\r",
      "\u001b[K     |██████████▏                     | 1.2 MB 19.6 MB/s eta 0:00:01\r",
      "\u001b[K     |██████████▎                     | 1.2 MB 19.6 MB/s eta 0:00:01\r",
      "\u001b[K     |██████████▍                     | 1.2 MB 19.6 MB/s eta 0:00:01\r",
      "\u001b[K     |██████████▌                     | 1.2 MB 19.6 MB/s eta 0:00:01\r",
      "\u001b[K     |██████████▌                     | 1.3 MB 19.6 MB/s eta 0:00:01\r",
      "\u001b[K     |██████████▋                     | 1.3 MB 19.6 MB/s eta 0:00:01\r",
      "\u001b[K     |██████████▊                     | 1.3 MB 19.6 MB/s eta 0:00:01\r",
      "\u001b[K     |██████████▉                     | 1.3 MB 19.6 MB/s eta 0:00:01\r",
      "\u001b[K     |██████████▉                     | 1.3 MB 19.6 MB/s eta 0:00:01\r",
      "\u001b[K     |███████████                     | 1.3 MB 19.6 MB/s eta 0:00:01\r",
      "\u001b[K     |███████████                     | 1.3 MB 19.6 MB/s eta 0:00:01\r",
      "\u001b[K     |███████████▏                    | 1.3 MB 19.6 MB/s eta 0:00:01\r",
      "\u001b[K     |███████████▏                    | 1.3 MB 19.6 MB/s eta 0:00:01\r",
      "\u001b[K     |███████████▎                    | 1.4 MB 19.6 MB/s eta 0:00:01\r",
      "\u001b[K     |███████████▍                    | 1.4 MB 19.6 MB/s eta 0:00:01\r",
      "\u001b[K     |███████████▌                    | 1.4 MB 19.6 MB/s eta 0:00:01\r",
      "\u001b[K     |███████████▋                    | 1.4 MB 19.6 MB/s eta 0:00:01\r",
      "\u001b[K     |███████████▋                    | 1.4 MB 19.6 MB/s eta 0:00:01\r",
      "\u001b[K     |███████████▊                    | 1.4 MB 19.6 MB/s eta 0:00:01\r",
      "\u001b[K     |███████████▉                    | 1.4 MB 19.6 MB/s eta 0:00:01\r",
      "\u001b[K     |████████████                    | 1.4 MB 19.6 MB/s eta 0:00:01\r",
      "\u001b[K     |████████████                    | 1.4 MB 19.6 MB/s eta 0:00:01\r",
      "\u001b[K     |████████████                    | 1.4 MB 19.6 MB/s eta 0:00:01\r",
      "\u001b[K     |████████████▏                   | 1.5 MB 19.6 MB/s eta 0:00:01"
     ]
    },
    {
     "name": "stdout",
     "output_type": "stream",
     "text": [
      "\r",
      "\u001b[K     |████████████▎                   | 1.5 MB 19.6 MB/s eta 0:00:01\r",
      "\u001b[K     |████████████▎                   | 1.5 MB 19.6 MB/s eta 0:00:01\r",
      "\u001b[K     |████████████▍                   | 1.5 MB 19.6 MB/s eta 0:00:01\r",
      "\u001b[K     |████████████▌                   | 1.5 MB 19.6 MB/s eta 0:00:01\r",
      "\u001b[K     |████████████▋                   | 1.5 MB 19.6 MB/s eta 0:00:01\r",
      "\u001b[K     |████████████▊                   | 1.5 MB 19.6 MB/s eta 0:00:01\r",
      "\u001b[K     |████████████▊                   | 1.5 MB 19.6 MB/s eta 0:00:01\r",
      "\u001b[K     |████████████▉                   | 1.5 MB 19.6 MB/s eta 0:00:01\r",
      "\u001b[K     |█████████████                   | 1.5 MB 19.6 MB/s eta 0:00:01\r",
      "\u001b[K     |█████████████                   | 1.6 MB 19.6 MB/s eta 0:00:01\r",
      "\u001b[K     |█████████████                   | 1.6 MB 19.6 MB/s eta 0:00:01\r",
      "\u001b[K     |█████████████▏                  | 1.6 MB 19.6 MB/s eta 0:00:01\r",
      "\u001b[K     |█████████████▎                  | 1.6 MB 19.6 MB/s eta 0:00:01\r",
      "\u001b[K     |█████████████▍                  | 1.6 MB 19.6 MB/s eta 0:00:01\r",
      "\u001b[K     |█████████████▌                  | 1.6 MB 19.6 MB/s eta 0:00:01\r",
      "\u001b[K     |█████████████▌                  | 1.6 MB 19.6 MB/s eta 0:00:01\r",
      "\u001b[K     |█████████████▋                  | 1.6 MB 19.6 MB/s eta 0:00:01\r",
      "\u001b[K     |█████████████▊                  | 1.6 MB 19.6 MB/s eta 0:00:01\r",
      "\u001b[K     |█████████████▉                  | 1.6 MB 19.6 MB/s eta 0:00:01\r",
      "\u001b[K     |█████████████▉                  | 1.7 MB 19.6 MB/s eta 0:00:01\r",
      "\u001b[K     |██████████████                  | 1.7 MB 19.6 MB/s eta 0:00:01\r",
      "\u001b[K     |██████████████                  | 1.7 MB 19.6 MB/s eta 0:00:01\r",
      "\u001b[K     |██████████████▏                 | 1.7 MB 19.6 MB/s eta 0:00:01\r",
      "\u001b[K     |██████████████▏                 | 1.7 MB 19.6 MB/s eta 0:00:01\r",
      "\u001b[K     |██████████████▎                 | 1.7 MB 19.6 MB/s eta 0:00:01\r",
      "\u001b[K     |██████████████▍                 | 1.7 MB 19.6 MB/s eta 0:00:01\r",
      "\u001b[K     |██████████████▌                 | 1.7 MB 19.6 MB/s eta 0:00:01\r",
      "\u001b[K     |██████████████▋                 | 1.7 MB 19.6 MB/s eta 0:00:01\r",
      "\u001b[K     |██████████████▋                 | 1.8 MB 19.6 MB/s eta 0:00:01\r",
      "\u001b[K     |██████████████▊                 | 1.8 MB 19.6 MB/s eta 0:00:01\r",
      "\u001b[K     |██████████████▉                 | 1.8 MB 19.6 MB/s eta 0:00:01\r",
      "\u001b[K     |███████████████                 | 1.8 MB 19.6 MB/s eta 0:00:01\r",
      "\u001b[K     |███████████████                 | 1.8 MB 19.6 MB/s eta 0:00:01\r",
      "\u001b[K     |███████████████                 | 1.8 MB 19.6 MB/s eta 0:00:01\r",
      "\u001b[K     |███████████████▏                | 1.8 MB 19.6 MB/s eta 0:00:01\r",
      "\u001b[K     |███████████████▎                | 1.8 MB 19.6 MB/s eta 0:00:01\r",
      "\u001b[K     |███████████████▎                | 1.8 MB 19.6 MB/s eta 0:00:01\r",
      "\u001b[K     |███████████████▍                | 1.8 MB 19.6 MB/s eta 0:00:01\r",
      "\u001b[K     |███████████████▌                | 1.9 MB 19.6 MB/s eta 0:00:01\r",
      "\u001b[K     |███████████████▋                | 1.9 MB 19.6 MB/s eta 0:00:01\r",
      "\u001b[K     |███████████████▊                | 1.9 MB 19.6 MB/s eta 0:00:01\r",
      "\u001b[K     |███████████████▊                | 1.9 MB 19.6 MB/s eta 0:00:01\r",
      "\u001b[K     |███████████████▉                | 1.9 MB 19.6 MB/s eta 0:00:01\r",
      "\u001b[K     |████████████████                | 1.9 MB 19.6 MB/s eta 0:00:01\r",
      "\u001b[K     |████████████████                | 1.9 MB 19.6 MB/s eta 0:00:01\r",
      "\u001b[K     |████████████████                | 1.9 MB 19.6 MB/s eta 0:00:01\r",
      "\u001b[K     |████████████████▏               | 1.9 MB 19.6 MB/s eta 0:00:01\r",
      "\u001b[K     |████████████████▎               | 1.9 MB 19.6 MB/s eta 0:00:01\r",
      "\u001b[K     |████████████████▍               | 2.0 MB 19.6 MB/s eta 0:00:01\r",
      "\u001b[K     |████████████████▍               | 2.0 MB 19.6 MB/s eta 0:00:01\r",
      "\u001b[K     |████████████████▌               | 2.0 MB 19.6 MB/s eta 0:00:01\r",
      "\u001b[K     |████████████████▋               | 2.0 MB 19.6 MB/s eta 0:00:01\r",
      "\u001b[K     |████████████████▊               | 2.0 MB 19.6 MB/s eta 0:00:01\r",
      "\u001b[K     |████████████████▉               | 2.0 MB 19.6 MB/s eta 0:00:01\r",
      "\u001b[K     |████████████████▉               | 2.0 MB 19.6 MB/s eta 0:00:01\r",
      "\u001b[K     |█████████████████               | 2.0 MB 19.6 MB/s eta 0:00:01\r",
      "\u001b[K     |█████████████████               | 2.0 MB 19.6 MB/s eta 0:00:01\r",
      "\u001b[K     |█████████████████▏              | 2.0 MB 19.6 MB/s eta 0:00:01\r",
      "\u001b[K     |█████████████████▏              | 2.1 MB 19.6 MB/s eta 0:00:01\r",
      "\u001b[K     |█████████████████▎              | 2.1 MB 19.6 MB/s eta 0:00:01\r",
      "\u001b[K     |█████████████████▍              | 2.1 MB 19.6 MB/s eta 0:00:01\r",
      "\u001b[K     |█████████████████▌              | 2.1 MB 19.6 MB/s eta 0:00:01\r",
      "\u001b[K     |█████████████████▋              | 2.1 MB 19.6 MB/s eta 0:00:01\r",
      "\u001b[K     |█████████████████▋              | 2.1 MB 19.6 MB/s eta 0:00:01\r",
      "\u001b[K     |█████████████████▊              | 2.1 MB 19.6 MB/s eta 0:00:01\r",
      "\u001b[K     |█████████████████▉              | 2.1 MB 19.6 MB/s eta 0:00:01\r",
      "\u001b[K     |██████████████████              | 2.1 MB 19.6 MB/s eta 0:00:01\r",
      "\u001b[K     |██████████████████              | 2.2 MB 19.6 MB/s eta 0:00:01\r",
      "\u001b[K     |██████████████████              | 2.2 MB 19.6 MB/s eta 0:00:01\r",
      "\u001b[K     |██████████████████▏             | 2.2 MB 19.6 MB/s eta 0:00:01\r",
      "\u001b[K     |██████████████████▎             | 2.2 MB 19.6 MB/s eta 0:00:01\r",
      "\u001b[K     |██████████████████▎             | 2.2 MB 19.6 MB/s eta 0:00:01\r",
      "\u001b[K     |██████████████████▍             | 2.2 MB 19.6 MB/s eta 0:00:01\r",
      "\u001b[K     |██████████████████▌             | 2.2 MB 19.6 MB/s eta 0:00:01\r",
      "\u001b[K     |██████████████████▋             | 2.2 MB 19.6 MB/s eta 0:00:01\r",
      "\u001b[K     |██████████████████▊             | 2.2 MB 19.6 MB/s eta 0:00:01\r",
      "\u001b[K     |██████████████████▊             | 2.2 MB 19.6 MB/s eta 0:00:01\r",
      "\u001b[K     |██████████████████▉             | 2.3 MB 19.6 MB/s eta 0:00:01\r",
      "\u001b[K     |███████████████████             | 2.3 MB 19.6 MB/s eta 0:00:01\r",
      "\u001b[K     |███████████████████             | 2.3 MB 19.6 MB/s eta 0:00:01\r",
      "\u001b[K     |███████████████████             | 2.3 MB 19.6 MB/s eta 0:00:01\r",
      "\u001b[K     |███████████████████▏            | 2.3 MB 19.6 MB/s eta 0:00:01\r",
      "\u001b[K     |███████████████████▎            | 2.3 MB 19.6 MB/s eta 0:00:01\r",
      "\u001b[K     |███████████████████▍            | 2.3 MB 19.6 MB/s eta 0:00:01\r",
      "\u001b[K     |███████████████████▍            | 2.3 MB 19.6 MB/s eta 0:00:01\r",
      "\u001b[K     |███████████████████▌            | 2.3 MB 19.6 MB/s eta 0:00:01\r",
      "\u001b[K     |███████████████████▋            | 2.3 MB 19.6 MB/s eta 0:00:01\r",
      "\u001b[K     |███████████████████▊            | 2.4 MB 19.6 MB/s eta 0:00:01\r",
      "\u001b[K     |███████████████████▉            | 2.4 MB 19.6 MB/s eta 0:00:01\r",
      "\u001b[K     |███████████████████▉            | 2.4 MB 19.6 MB/s eta 0:00:01\r",
      "\u001b[K     |████████████████████            | 2.4 MB 19.6 MB/s eta 0:00:01\r",
      "\u001b[K     |████████████████████            | 2.4 MB 19.6 MB/s eta 0:00:01\r",
      "\u001b[K     |████████████████████▏           | 2.4 MB 19.6 MB/s eta 0:00:01\r",
      "\u001b[K     |████████████████████▏           | 2.4 MB 19.6 MB/s eta 0:00:01\r",
      "\u001b[K     |████████████████████▎           | 2.4 MB 19.6 MB/s eta 0:00:01\r",
      "\u001b[K     |████████████████████▍           | 2.4 MB 19.6 MB/s eta 0:00:01\r",
      "\u001b[K     |████████████████████▌           | 2.4 MB 19.6 MB/s eta 0:00:01\r",
      "\u001b[K     |████████████████████▌           | 2.5 MB 19.6 MB/s eta 0:00:01\r",
      "\u001b[K     |████████████████████▋           | 2.5 MB 19.6 MB/s eta 0:00:01\r",
      "\u001b[K     |████████████████████▊           | 2.5 MB 19.6 MB/s eta 0:00:01\r",
      "\u001b[K     |████████████████████▉           | 2.5 MB 19.6 MB/s eta 0:00:01\r",
      "\u001b[K     |█████████████████████           | 2.5 MB 19.6 MB/s eta 0:00:01\r",
      "\u001b[K     |█████████████████████           | 2.5 MB 19.6 MB/s eta 0:00:01\r",
      "\u001b[K     |█████████████████████           | 2.5 MB 19.6 MB/s eta 0:00:01\r",
      "\u001b[K     |█████████████████████▏          | 2.5 MB 19.6 MB/s eta 0:00:01\r",
      "\u001b[K     |█████████████████████▎          | 2.5 MB 19.6 MB/s eta 0:00:01\r",
      "\u001b[K     |█████████████████████▎          | 2.5 MB 19.6 MB/s eta 0:00:01\r",
      "\u001b[K     |█████████████████████▍          | 2.6 MB 19.6 MB/s eta 0:00:01\r",
      "\u001b[K     |█████████████████████▌          | 2.6 MB 19.6 MB/s eta 0:00:01\r",
      "\u001b[K     |█████████████████████▋          | 2.6 MB 19.6 MB/s eta 0:00:01\r",
      "\u001b[K     |█████████████████████▋          | 2.6 MB 19.6 MB/s eta 0:00:01\r",
      "\u001b[K     |█████████████████████▊          | 2.6 MB 19.6 MB/s eta 0:00:01\r",
      "\u001b[K     |█████████████████████▉          | 2.6 MB 19.6 MB/s eta 0:00:01\r",
      "\u001b[K     |██████████████████████          | 2.6 MB 19.6 MB/s eta 0:00:01\r",
      "\u001b[K     |██████████████████████          | 2.6 MB 19.6 MB/s eta 0:00:01\r",
      "\u001b[K     |██████████████████████          | 2.6 MB 19.6 MB/s eta 0:00:01\r",
      "\u001b[K     |██████████████████████▏         | 2.7 MB 19.6 MB/s eta 0:00:01\r",
      "\u001b[K     |██████████████████████▎         | 2.7 MB 19.6 MB/s eta 0:00:01"
     ]
    },
    {
     "name": "stdout",
     "output_type": "stream",
     "text": [
      "\r",
      "\u001b[K     |██████████████████████▍         | 2.7 MB 19.6 MB/s eta 0:00:01\r",
      "\u001b[K     |██████████████████████▍         | 2.7 MB 19.6 MB/s eta 0:00:01\r",
      "\u001b[K     |██████████████████████▌         | 2.7 MB 19.6 MB/s eta 0:00:01\r",
      "\u001b[K     |██████████████████████▋         | 2.7 MB 19.6 MB/s eta 0:00:01\r",
      "\u001b[K     |██████████████████████▊         | 2.7 MB 19.6 MB/s eta 0:00:01\r",
      "\u001b[K     |██████████████████████▉         | 2.7 MB 19.6 MB/s eta 0:00:01\r",
      "\u001b[K     |██████████████████████▉         | 2.7 MB 19.6 MB/s eta 0:00:01\r",
      "\u001b[K     |███████████████████████         | 2.7 MB 19.6 MB/s eta 0:00:01\r",
      "\u001b[K     |███████████████████████         | 2.8 MB 19.6 MB/s eta 0:00:01\r",
      "\u001b[K     |███████████████████████▏        | 2.8 MB 19.6 MB/s eta 0:00:01\r",
      "\u001b[K     |███████████████████████▏        | 2.8 MB 19.6 MB/s eta 0:00:01\r",
      "\u001b[K     |███████████████████████▎        | 2.8 MB 19.6 MB/s eta 0:00:01\r",
      "\u001b[K     |███████████████████████▍        | 2.8 MB 19.6 MB/s eta 0:00:01\r",
      "\u001b[K     |███████████████████████▌        | 2.8 MB 19.6 MB/s eta 0:00:01\r",
      "\u001b[K     |███████████████████████▌        | 2.8 MB 19.6 MB/s eta 0:00:01\r",
      "\u001b[K     |███████████████████████▋        | 2.8 MB 19.6 MB/s eta 0:00:01\r",
      "\u001b[K     |███████████████████████▊        | 2.8 MB 19.6 MB/s eta 0:00:01\r",
      "\u001b[K     |███████████████████████▉        | 2.8 MB 19.6 MB/s eta 0:00:01\r",
      "\u001b[K     |████████████████████████        | 2.9 MB 19.6 MB/s eta 0:00:01\r",
      "\u001b[K     |████████████████████████        | 2.9 MB 19.6 MB/s eta 0:00:01\r",
      "\u001b[K     |████████████████████████        | 2.9 MB 19.6 MB/s eta 0:00:01\r",
      "\u001b[K     |████████████████████████▏       | 2.9 MB 19.6 MB/s eta 0:00:01\r",
      "\u001b[K     |████████████████████████▎       | 2.9 MB 19.6 MB/s eta 0:00:01\r",
      "\u001b[K     |████████████████████████▎       | 2.9 MB 19.6 MB/s eta 0:00:01\r",
      "\u001b[K     |████████████████████████▍       | 2.9 MB 19.6 MB/s eta 0:00:01\r",
      "\u001b[K     |████████████████████████▌       | 2.9 MB 19.6 MB/s eta 0:00:01\r",
      "\u001b[K     |████████████████████████▋       | 2.9 MB 19.6 MB/s eta 0:00:01\r",
      "\u001b[K     |████████████████████████▋       | 2.9 MB 19.6 MB/s eta 0:00:01\r",
      "\u001b[K     |████████████████████████▊       | 3.0 MB 19.6 MB/s eta 0:00:01\r",
      "\u001b[K     |████████████████████████▉       | 3.0 MB 19.6 MB/s eta 0:00:01\r",
      "\u001b[K     |█████████████████████████       | 3.0 MB 19.6 MB/s eta 0:00:01\r",
      "\u001b[K     |█████████████████████████       | 3.0 MB 19.6 MB/s eta 0:00:01\r",
      "\u001b[K     |█████████████████████████       | 3.0 MB 19.6 MB/s eta 0:00:01\r",
      "\u001b[K     |█████████████████████████▏      | 3.0 MB 19.6 MB/s eta 0:00:01\r",
      "\u001b[K     |█████████████████████████▎      | 3.0 MB 19.6 MB/s eta 0:00:01\r",
      "\u001b[K     |█████████████████████████▍      | 3.0 MB 19.6 MB/s eta 0:00:01\r",
      "\u001b[K     |█████████████████████████▍      | 3.0 MB 19.6 MB/s eta 0:00:01\r",
      "\u001b[K     |█████████████████████████▌      | 3.1 MB 19.6 MB/s eta 0:00:01\r",
      "\u001b[K     |█████████████████████████▋      | 3.1 MB 19.6 MB/s eta 0:00:01\r",
      "\u001b[K     |█████████████████████████▊      | 3.1 MB 19.6 MB/s eta 0:00:01\r",
      "\u001b[K     |█████████████████████████▊      | 3.1 MB 19.6 MB/s eta 0:00:01\r",
      "\u001b[K     |█████████████████████████▉      | 3.1 MB 19.6 MB/s eta 0:00:01\r",
      "\u001b[K     |██████████████████████████      | 3.1 MB 19.6 MB/s eta 0:00:01\r",
      "\u001b[K     |██████████████████████████      | 3.1 MB 19.6 MB/s eta 0:00:01\r",
      "\u001b[K     |██████████████████████████▏     | 3.1 MB 19.6 MB/s eta 0:00:01\r",
      "\u001b[K     |██████████████████████████▏     | 3.1 MB 19.6 MB/s eta 0:00:01\r",
      "\u001b[K     |██████████████████████████▎     | 3.1 MB 19.6 MB/s eta 0:00:01\r",
      "\u001b[K     |██████████████████████████▍     | 3.2 MB 19.6 MB/s eta 0:00:01\r",
      "\u001b[K     |██████████████████████████▌     | 3.2 MB 19.6 MB/s eta 0:00:01\r",
      "\u001b[K     |██████████████████████████▌     | 3.2 MB 19.6 MB/s eta 0:00:01\r",
      "\u001b[K     |██████████████████████████▋     | 3.2 MB 19.6 MB/s eta 0:00:01\r",
      "\u001b[K     |██████████████████████████▊     | 3.2 MB 19.6 MB/s eta 0:00:01\r",
      "\u001b[K     |██████████████████████████▉     | 3.2 MB 19.6 MB/s eta 0:00:01\r",
      "\u001b[K     |███████████████████████████     | 3.2 MB 19.6 MB/s eta 0:00:01\r",
      "\u001b[K     |███████████████████████████     | 3.2 MB 19.6 MB/s eta 0:00:01\r",
      "\u001b[K     |███████████████████████████     | 3.2 MB 19.6 MB/s eta 0:00:01\r",
      "\u001b[K     |███████████████████████████▏    | 3.2 MB 19.6 MB/s eta 0:00:01\r",
      "\u001b[K     |███████████████████████████▎    | 3.3 MB 19.6 MB/s eta 0:00:01\r",
      "\u001b[K     |███████████████████████████▎    | 3.3 MB 19.6 MB/s eta 0:00:01\r",
      "\u001b[K     |███████████████████████████▍    | 3.3 MB 19.6 MB/s eta 0:00:01\r",
      "\u001b[K     |███████████████████████████▌    | 3.3 MB 19.6 MB/s eta 0:00:01\r",
      "\u001b[K     |███████████████████████████▋    | 3.3 MB 19.6 MB/s eta 0:00:01\r",
      "\u001b[K     |███████████████████████████▋    | 3.3 MB 19.6 MB/s eta 0:00:01\r",
      "\u001b[K     |███████████████████████████▊    | 3.3 MB 19.6 MB/s eta 0:00:01\r",
      "\u001b[K     |███████████████████████████▉    | 3.3 MB 19.6 MB/s eta 0:00:01\r",
      "\u001b[K     |████████████████████████████    | 3.3 MB 19.6 MB/s eta 0:00:01\r",
      "\u001b[K     |████████████████████████████    | 3.3 MB 19.6 MB/s eta 0:00:01\r",
      "\u001b[K     |████████████████████████████    | 3.4 MB 19.6 MB/s eta 0:00:01\r",
      "\u001b[K     |████████████████████████████▏   | 3.4 MB 19.6 MB/s eta 0:00:01\r",
      "\u001b[K     |████████████████████████████▎   | 3.4 MB 19.6 MB/s eta 0:00:01\r",
      "\u001b[K     |████████████████████████████▍   | 3.4 MB 19.6 MB/s eta 0:00:01\r",
      "\u001b[K     |████████████████████████████▍   | 3.4 MB 19.6 MB/s eta 0:00:01\r",
      "\u001b[K     |████████████████████████████▌   | 3.4 MB 19.6 MB/s eta 0:00:01\r",
      "\u001b[K     |████████████████████████████▋   | 3.4 MB 19.6 MB/s eta 0:00:01\r",
      "\u001b[K     |████████████████████████████▊   | 3.4 MB 19.6 MB/s eta 0:00:01\r",
      "\u001b[K     |████████████████████████████▊   | 3.4 MB 19.6 MB/s eta 0:00:01\r",
      "\u001b[K     |████████████████████████████▉   | 3.5 MB 19.6 MB/s eta 0:00:01\r",
      "\u001b[K     |█████████████████████████████   | 3.5 MB 19.6 MB/s eta 0:00:01\r",
      "\u001b[K     |█████████████████████████████   | 3.5 MB 19.6 MB/s eta 0:00:01\r",
      "\u001b[K     |█████████████████████████████▏  | 3.5 MB 19.6 MB/s eta 0:00:01\r",
      "\u001b[K     |█████████████████████████████▏  | 3.5 MB 19.6 MB/s eta 0:00:01\r",
      "\u001b[K     |█████████████████████████████▎  | 3.5 MB 19.6 MB/s eta 0:00:01\r",
      "\u001b[K     |█████████████████████████████▍  | 3.5 MB 19.6 MB/s eta 0:00:01\r",
      "\u001b[K     |█████████████████████████████▌  | 3.5 MB 19.6 MB/s eta 0:00:01\r",
      "\u001b[K     |█████████████████████████████▌  | 3.5 MB 19.6 MB/s eta 0:00:01\r",
      "\u001b[K     |█████████████████████████████▋  | 3.5 MB 19.6 MB/s eta 0:00:01\r",
      "\u001b[K     |█████████████████████████████▊  | 3.6 MB 19.6 MB/s eta 0:00:01\r",
      "\u001b[K     |█████████████████████████████▉  | 3.6 MB 19.6 MB/s eta 0:00:01\r",
      "\u001b[K     |█████████████████████████████▉  | 3.6 MB 19.6 MB/s eta 0:00:01\r",
      "\u001b[K     |██████████████████████████████  | 3.6 MB 19.6 MB/s eta 0:00:01\r",
      "\u001b[K     |██████████████████████████████  | 3.6 MB 19.6 MB/s eta 0:00:01\r",
      "\u001b[K     |██████████████████████████████▏ | 3.6 MB 19.6 MB/s eta 0:00:01\r",
      "\u001b[K     |██████████████████████████████▎ | 3.6 MB 19.6 MB/s eta 0:00:01\r",
      "\u001b[K     |██████████████████████████████▎ | 3.6 MB 19.6 MB/s eta 0:00:01\r",
      "\u001b[K     |██████████████████████████████▍ | 3.6 MB 19.6 MB/s eta 0:00:01\r",
      "\u001b[K     |██████████████████████████████▌ | 3.6 MB 19.6 MB/s eta 0:00:01\r",
      "\u001b[K     |██████████████████████████████▋ | 3.7 MB 19.6 MB/s eta 0:00:01\r",
      "\u001b[K     |██████████████████████████████▋ | 3.7 MB 19.6 MB/s eta 0:00:01\r",
      "\u001b[K     |██████████████████████████████▊ | 3.7 MB 19.6 MB/s eta 0:00:01\r",
      "\u001b[K     |██████████████████████████████▉ | 3.7 MB 19.6 MB/s eta 0:00:01\r",
      "\u001b[K     |███████████████████████████████ | 3.7 MB 19.6 MB/s eta 0:00:01\r",
      "\u001b[K     |███████████████████████████████ | 3.7 MB 19.6 MB/s eta 0:00:01\r",
      "\u001b[K     |███████████████████████████████ | 3.7 MB 19.6 MB/s eta 0:00:01\r",
      "\u001b[K     |███████████████████████████████▏| 3.7 MB 19.6 MB/s eta 0:00:01\r",
      "\u001b[K     |███████████████████████████████▎| 3.7 MB 19.6 MB/s eta 0:00:01\r",
      "\u001b[K     |███████████████████████████████▍| 3.7 MB 19.6 MB/s eta 0:00:01\r",
      "\u001b[K     |███████████████████████████████▍| 3.8 MB 19.6 MB/s eta 0:00:01\r",
      "\u001b[K     |███████████████████████████████▌| 3.8 MB 19.6 MB/s eta 0:00:01\r",
      "\u001b[K     |███████████████████████████████▋| 3.8 MB 19.6 MB/s eta 0:00:01\r",
      "\u001b[K     |███████████████████████████████▊| 3.8 MB 19.6 MB/s eta 0:00:01\r",
      "\u001b[K     |███████████████████████████████▊| 3.8 MB 19.6 MB/s eta 0:00:01\r",
      "\u001b[K     |███████████████████████████████▉| 3.8 MB 19.6 MB/s eta 0:00:01\r",
      "\u001b[K     |████████████████████████████████| 3.8 MB 19.6 MB/s eta 0:00:01\r",
      "\u001b[K     |████████████████████████████████| 3.8 MB 19.6 MB/s \r\n"
     ]
    },
    {
     "name": "stdout",
     "output_type": "stream",
     "text": [
      "\u001b[?25hCollecting tokenizers!=0.11.3,>=0.11.1\r\n",
      "  Downloading tokenizers-0.11.6-cp38-cp38-manylinux_2_12_x86_64.manylinux2010_x86_64.whl (6.5 MB)\r\n",
      "\u001b[?25l\r",
      "\u001b[K     |                                | 10 kB 4.5 MB/s eta 0:00:02\r",
      "\u001b[K     |                                | 20 kB 8.4 MB/s eta 0:00:01\r",
      "\u001b[K     |▏                               | 30 kB 11.0 MB/s eta 0:00:01\r",
      "\u001b[K     |▏                               | 40 kB 9.5 MB/s eta 0:00:01\r",
      "\u001b[K     |▎                               | 51 kB 11.5 MB/s eta 0:00:01\r",
      "\u001b[K     |▎                               | 61 kB 13.4 MB/s eta 0:00:01\r",
      "\u001b[K     |▍                               | 71 kB 13.2 MB/s eta 0:00:01\r",
      "\u001b[K     |▍                               | 81 kB 14.8 MB/s eta 0:00:01\r",
      "\u001b[K     |▌                               | 92 kB 16.3 MB/s eta 0:00:01\r",
      "\u001b[K     |▌                               | 102 kB 17.8 MB/s eta 0:00:01\r",
      "\u001b[K     |▌                               | 112 kB 17.8 MB/s eta 0:00:01\r",
      "\u001b[K     |▋                               | 122 kB 17.8 MB/s eta 0:00:01\r",
      "\u001b[K     |▋                               | 133 kB 17.8 MB/s eta 0:00:01\r",
      "\u001b[K     |▊                               | 143 kB 17.8 MB/s eta 0:00:01\r",
      "\u001b[K     |▊                               | 153 kB 17.8 MB/s eta 0:00:01\r",
      "\u001b[K     |▉                               | 163 kB 17.8 MB/s eta 0:00:01\r",
      "\u001b[K     |▉                               | 174 kB 17.8 MB/s eta 0:00:01\r",
      "\u001b[K     |█                               | 184 kB 17.8 MB/s eta 0:00:01\r",
      "\u001b[K     |█                               | 194 kB 17.8 MB/s eta 0:00:01\r",
      "\u001b[K     |█                               | 204 kB 17.8 MB/s eta 0:00:01\r",
      "\u001b[K     |█                               | 215 kB 17.8 MB/s eta 0:00:01\r",
      "\u001b[K     |█                               | 225 kB 17.8 MB/s eta 0:00:01\r",
      "\u001b[K     |█▏                              | 235 kB 17.8 MB/s eta 0:00:01\r",
      "\u001b[K     |█▏                              | 245 kB 17.8 MB/s eta 0:00:01\r",
      "\u001b[K     |█▎                              | 256 kB 17.8 MB/s eta 0:00:01\r",
      "\u001b[K     |█▎                              | 266 kB 17.8 MB/s eta 0:00:01\r",
      "\u001b[K     |█▍                              | 276 kB 17.8 MB/s eta 0:00:01\r",
      "\u001b[K     |█▍                              | 286 kB 17.8 MB/s eta 0:00:01\r",
      "\u001b[K     |█▌                              | 296 kB 17.8 MB/s eta 0:00:01\r",
      "\u001b[K     |█▌                              | 307 kB 17.8 MB/s eta 0:00:01\r",
      "\u001b[K     |█▌                              | 317 kB 17.8 MB/s eta 0:00:01\r",
      "\u001b[K     |█▋                              | 327 kB 17.8 MB/s eta 0:00:01\r",
      "\u001b[K     |█▋                              | 337 kB 17.8 MB/s eta 0:00:01\r",
      "\u001b[K     |█▊                              | 348 kB 17.8 MB/s eta 0:00:01\r",
      "\u001b[K     |█▊                              | 358 kB 17.8 MB/s eta 0:00:01\r",
      "\u001b[K     |█▉                              | 368 kB 17.8 MB/s eta 0:00:01\r",
      "\u001b[K     |█▉                              | 378 kB 17.8 MB/s eta 0:00:01\r",
      "\u001b[K     |██                              | 389 kB 17.8 MB/s eta 0:00:01\r",
      "\u001b[K     |██                              | 399 kB 17.8 MB/s eta 0:00:01\r",
      "\u001b[K     |██                              | 409 kB 17.8 MB/s eta 0:00:01\r",
      "\u001b[K     |██                              | 419 kB 17.8 MB/s eta 0:00:01\r",
      "\u001b[K     |██                              | 430 kB 17.8 MB/s eta 0:00:01\r",
      "\u001b[K     |██▏                             | 440 kB 17.8 MB/s eta 0:00:01\r",
      "\u001b[K     |██▏                             | 450 kB 17.8 MB/s eta 0:00:01\r",
      "\u001b[K     |██▎                             | 460 kB 17.8 MB/s eta 0:00:01\r",
      "\u001b[K     |██▎                             | 471 kB 17.8 MB/s eta 0:00:01\r",
      "\u001b[K     |██▍                             | 481 kB 17.8 MB/s eta 0:00:01\r",
      "\u001b[K     |██▍                             | 491 kB 17.8 MB/s eta 0:00:01\r",
      "\u001b[K     |██▌                             | 501 kB 17.8 MB/s eta 0:00:01\r",
      "\u001b[K     |██▌                             | 512 kB 17.8 MB/s eta 0:00:01\r",
      "\u001b[K     |██▌                             | 522 kB 17.8 MB/s eta 0:00:01\r",
      "\u001b[K     |██▋                             | 532 kB 17.8 MB/s eta 0:00:01\r",
      "\u001b[K     |██▋                             | 542 kB 17.8 MB/s eta 0:00:01"
     ]
    },
    {
     "name": "stdout",
     "output_type": "stream",
     "text": [
      "\r",
      "\u001b[K     |██▊                             | 552 kB 17.8 MB/s eta 0:00:01\r",
      "\u001b[K     |██▊                             | 563 kB 17.8 MB/s eta 0:00:01\r",
      "\u001b[K     |██▉                             | 573 kB 17.8 MB/s eta 0:00:01\r",
      "\u001b[K     |██▉                             | 583 kB 17.8 MB/s eta 0:00:01\r",
      "\u001b[K     |███                             | 593 kB 17.8 MB/s eta 0:00:01\r",
      "\u001b[K     |███                             | 604 kB 17.8 MB/s eta 0:00:01\r",
      "\u001b[K     |███                             | 614 kB 17.8 MB/s eta 0:00:01\r",
      "\u001b[K     |███                             | 624 kB 17.8 MB/s eta 0:00:01\r",
      "\u001b[K     |███                             | 634 kB 17.8 MB/s eta 0:00:01\r",
      "\u001b[K     |███▏                            | 645 kB 17.8 MB/s eta 0:00:01\r",
      "\u001b[K     |███▏                            | 655 kB 17.8 MB/s eta 0:00:01\r",
      "\u001b[K     |███▎                            | 665 kB 17.8 MB/s eta 0:00:01\r",
      "\u001b[K     |███▎                            | 675 kB 17.8 MB/s eta 0:00:01\r",
      "\u001b[K     |███▍                            | 686 kB 17.8 MB/s eta 0:00:01\r",
      "\u001b[K     |███▍                            | 696 kB 17.8 MB/s eta 0:00:01\r",
      "\u001b[K     |███▌                            | 706 kB 17.8 MB/s eta 0:00:01\r",
      "\u001b[K     |███▌                            | 716 kB 17.8 MB/s eta 0:00:01\r",
      "\u001b[K     |███▌                            | 727 kB 17.8 MB/s eta 0:00:01\r",
      "\u001b[K     |███▋                            | 737 kB 17.8 MB/s eta 0:00:01\r",
      "\u001b[K     |███▋                            | 747 kB 17.8 MB/s eta 0:00:01\r",
      "\u001b[K     |███▊                            | 757 kB 17.8 MB/s eta 0:00:01\r",
      "\u001b[K     |███▊                            | 768 kB 17.8 MB/s eta 0:00:01\r",
      "\u001b[K     |███▉                            | 778 kB 17.8 MB/s eta 0:00:01\r",
      "\u001b[K     |███▉                            | 788 kB 17.8 MB/s eta 0:00:01\r",
      "\u001b[K     |████                            | 798 kB 17.8 MB/s eta 0:00:01\r",
      "\u001b[K     |████                            | 808 kB 17.8 MB/s eta 0:00:01\r",
      "\u001b[K     |████                            | 819 kB 17.8 MB/s eta 0:00:01\r",
      "\u001b[K     |████                            | 829 kB 17.8 MB/s eta 0:00:01\r",
      "\u001b[K     |████                            | 839 kB 17.8 MB/s eta 0:00:01\r",
      "\u001b[K     |████▏                           | 849 kB 17.8 MB/s eta 0:00:01\r",
      "\u001b[K     |████▏                           | 860 kB 17.8 MB/s eta 0:00:01\r",
      "\u001b[K     |████▎                           | 870 kB 17.8 MB/s eta 0:00:01\r",
      "\u001b[K     |████▎                           | 880 kB 17.8 MB/s eta 0:00:01\r",
      "\u001b[K     |████▍                           | 890 kB 17.8 MB/s eta 0:00:01\r",
      "\u001b[K     |████▍                           | 901 kB 17.8 MB/s eta 0:00:01\r",
      "\u001b[K     |████▌                           | 911 kB 17.8 MB/s eta 0:00:01\r",
      "\u001b[K     |████▌                           | 921 kB 17.8 MB/s eta 0:00:01\r",
      "\u001b[K     |████▌                           | 931 kB 17.8 MB/s eta 0:00:01\r",
      "\u001b[K     |████▋                           | 942 kB 17.8 MB/s eta 0:00:01\r",
      "\u001b[K     |████▋                           | 952 kB 17.8 MB/s eta 0:00:01\r",
      "\u001b[K     |████▊                           | 962 kB 17.8 MB/s eta 0:00:01\r",
      "\u001b[K     |████▊                           | 972 kB 17.8 MB/s eta 0:00:01\r",
      "\u001b[K     |████▉                           | 983 kB 17.8 MB/s eta 0:00:01\r",
      "\u001b[K     |████▉                           | 993 kB 17.8 MB/s eta 0:00:01\r",
      "\u001b[K     |█████                           | 1.0 MB 17.8 MB/s eta 0:00:01\r",
      "\u001b[K     |█████                           | 1.0 MB 17.8 MB/s eta 0:00:01\r",
      "\u001b[K     |█████                           | 1.0 MB 17.8 MB/s eta 0:00:01\r",
      "\u001b[K     |█████                           | 1.0 MB 17.8 MB/s eta 0:00:01\r",
      "\u001b[K     |█████                           | 1.0 MB 17.8 MB/s eta 0:00:01\r",
      "\u001b[K     |█████▏                          | 1.1 MB 17.8 MB/s eta 0:00:01\r",
      "\u001b[K     |█████▏                          | 1.1 MB 17.8 MB/s eta 0:00:01\r",
      "\u001b[K     |█████▎                          | 1.1 MB 17.8 MB/s eta 0:00:01\r",
      "\u001b[K     |█████▎                          | 1.1 MB 17.8 MB/s eta 0:00:01\r",
      "\u001b[K     |█████▍                          | 1.1 MB 17.8 MB/s eta 0:00:01\r",
      "\u001b[K     |█████▍                          | 1.1 MB 17.8 MB/s eta 0:00:01\r",
      "\u001b[K     |█████▌                          | 1.1 MB 17.8 MB/s eta 0:00:01\r",
      "\u001b[K     |█████▌                          | 1.1 MB 17.8 MB/s eta 0:00:01\r",
      "\u001b[K     |█████▋                          | 1.1 MB 17.8 MB/s eta 0:00:01\r",
      "\u001b[K     |█████▋                          | 1.1 MB 17.8 MB/s eta 0:00:01\r",
      "\u001b[K     |█████▋                          | 1.2 MB 17.8 MB/s eta 0:00:01\r",
      "\u001b[K     |█████▊                          | 1.2 MB 17.8 MB/s eta 0:00:01\r",
      "\u001b[K     |█████▊                          | 1.2 MB 17.8 MB/s eta 0:00:01\r",
      "\u001b[K     |█████▉                          | 1.2 MB 17.8 MB/s eta 0:00:01\r",
      "\u001b[K     |█████▉                          | 1.2 MB 17.8 MB/s eta 0:00:01\r",
      "\u001b[K     |██████                          | 1.2 MB 17.8 MB/s eta 0:00:01\r",
      "\u001b[K     |██████                          | 1.2 MB 17.8 MB/s eta 0:00:01\r",
      "\u001b[K     |██████                          | 1.2 MB 17.8 MB/s eta 0:00:01\r",
      "\u001b[K     |██████                          | 1.2 MB 17.8 MB/s eta 0:00:01\r",
      "\u001b[K     |██████                          | 1.2 MB 17.8 MB/s eta 0:00:01\r",
      "\u001b[K     |██████▏                         | 1.3 MB 17.8 MB/s eta 0:00:01\r",
      "\u001b[K     |██████▏                         | 1.3 MB 17.8 MB/s eta 0:00:01\r",
      "\u001b[K     |██████▎                         | 1.3 MB 17.8 MB/s eta 0:00:01\r",
      "\u001b[K     |██████▎                         | 1.3 MB 17.8 MB/s eta 0:00:01\r",
      "\u001b[K     |██████▍                         | 1.3 MB 17.8 MB/s eta 0:00:01\r",
      "\u001b[K     |██████▍                         | 1.3 MB 17.8 MB/s eta 0:00:01\r",
      "\u001b[K     |██████▌                         | 1.3 MB 17.8 MB/s eta 0:00:01\r",
      "\u001b[K     |██████▌                         | 1.3 MB 17.8 MB/s eta 0:00:01\r",
      "\u001b[K     |██████▋                         | 1.3 MB 17.8 MB/s eta 0:00:01\r",
      "\u001b[K     |██████▋                         | 1.4 MB 17.8 MB/s eta 0:00:01\r",
      "\u001b[K     |██████▋                         | 1.4 MB 17.8 MB/s eta 0:00:01\r",
      "\u001b[K     |██████▊                         | 1.4 MB 17.8 MB/s eta 0:00:01\r",
      "\u001b[K     |██████▊                         | 1.4 MB 17.8 MB/s eta 0:00:01\r",
      "\u001b[K     |██████▉                         | 1.4 MB 17.8 MB/s eta 0:00:01\r",
      "\u001b[K     |██████▉                         | 1.4 MB 17.8 MB/s eta 0:00:01\r",
      "\u001b[K     |███████                         | 1.4 MB 17.8 MB/s eta 0:00:01\r",
      "\u001b[K     |███████                         | 1.4 MB 17.8 MB/s eta 0:00:01\r",
      "\u001b[K     |███████                         | 1.4 MB 17.8 MB/s eta 0:00:01\r",
      "\u001b[K     |███████                         | 1.4 MB 17.8 MB/s eta 0:00:01\r",
      "\u001b[K     |███████                         | 1.5 MB 17.8 MB/s eta 0:00:01\r",
      "\u001b[K     |███████▏                        | 1.5 MB 17.8 MB/s eta 0:00:01\r",
      "\u001b[K     |███████▏                        | 1.5 MB 17.8 MB/s eta 0:00:01\r",
      "\u001b[K     |███████▎                        | 1.5 MB 17.8 MB/s eta 0:00:01\r",
      "\u001b[K     |███████▎                        | 1.5 MB 17.8 MB/s eta 0:00:01\r",
      "\u001b[K     |███████▍                        | 1.5 MB 17.8 MB/s eta 0:00:01\r",
      "\u001b[K     |███████▍                        | 1.5 MB 17.8 MB/s eta 0:00:01\r",
      "\u001b[K     |███████▌                        | 1.5 MB 17.8 MB/s eta 0:00:01\r",
      "\u001b[K     |███████▌                        | 1.5 MB 17.8 MB/s eta 0:00:01\r",
      "\u001b[K     |███████▋                        | 1.5 MB 17.8 MB/s eta 0:00:01\r",
      "\u001b[K     |███████▋                        | 1.6 MB 17.8 MB/s eta 0:00:01\r",
      "\u001b[K     |███████▋                        | 1.6 MB 17.8 MB/s eta 0:00:01\r",
      "\u001b[K     |███████▊                        | 1.6 MB 17.8 MB/s eta 0:00:01\r",
      "\u001b[K     |███████▊                        | 1.6 MB 17.8 MB/s eta 0:00:01\r",
      "\u001b[K     |███████▉                        | 1.6 MB 17.8 MB/s eta 0:00:01\r",
      "\u001b[K     |███████▉                        | 1.6 MB 17.8 MB/s eta 0:00:01\r",
      "\u001b[K     |████████                        | 1.6 MB 17.8 MB/s eta 0:00:01\r",
      "\u001b[K     |████████                        | 1.6 MB 17.8 MB/s eta 0:00:01\r",
      "\u001b[K     |████████                        | 1.6 MB 17.8 MB/s eta 0:00:01\r",
      "\u001b[K     |████████                        | 1.6 MB 17.8 MB/s eta 0:00:01\r",
      "\u001b[K     |████████                        | 1.7 MB 17.8 MB/s eta 0:00:01\r",
      "\u001b[K     |████████▏                       | 1.7 MB 17.8 MB/s eta 0:00:01\r",
      "\u001b[K     |████████▏                       | 1.7 MB 17.8 MB/s eta 0:00:01\r",
      "\u001b[K     |████████▎                       | 1.7 MB 17.8 MB/s eta 0:00:01\r",
      "\u001b[K     |████████▎                       | 1.7 MB 17.8 MB/s eta 0:00:01\r",
      "\u001b[K     |████████▍                       | 1.7 MB 17.8 MB/s eta 0:00:01\r",
      "\u001b[K     |████████▍                       | 1.7 MB 17.8 MB/s eta 0:00:01\r",
      "\u001b[K     |████████▌                       | 1.7 MB 17.8 MB/s eta 0:00:01"
     ]
    },
    {
     "name": "stdout",
     "output_type": "stream",
     "text": [
      "\r",
      "\u001b[K     |████████▌                       | 1.7 MB 17.8 MB/s eta 0:00:01\r",
      "\u001b[K     |████████▋                       | 1.8 MB 17.8 MB/s eta 0:00:01\r",
      "\u001b[K     |████████▋                       | 1.8 MB 17.8 MB/s eta 0:00:01\r",
      "\u001b[K     |████████▋                       | 1.8 MB 17.8 MB/s eta 0:00:01\r",
      "\u001b[K     |████████▊                       | 1.8 MB 17.8 MB/s eta 0:00:01\r",
      "\u001b[K     |████████▊                       | 1.8 MB 17.8 MB/s eta 0:00:01\r",
      "\u001b[K     |████████▉                       | 1.8 MB 17.8 MB/s eta 0:00:01\r",
      "\u001b[K     |████████▉                       | 1.8 MB 17.8 MB/s eta 0:00:01\r",
      "\u001b[K     |█████████                       | 1.8 MB 17.8 MB/s eta 0:00:01\r",
      "\u001b[K     |█████████                       | 1.8 MB 17.8 MB/s eta 0:00:01\r",
      "\u001b[K     |█████████                       | 1.8 MB 17.8 MB/s eta 0:00:01\r",
      "\u001b[K     |█████████                       | 1.9 MB 17.8 MB/s eta 0:00:01\r",
      "\u001b[K     |█████████                       | 1.9 MB 17.8 MB/s eta 0:00:01\r",
      "\u001b[K     |█████████▏                      | 1.9 MB 17.8 MB/s eta 0:00:01\r",
      "\u001b[K     |█████████▏                      | 1.9 MB 17.8 MB/s eta 0:00:01\r",
      "\u001b[K     |█████████▎                      | 1.9 MB 17.8 MB/s eta 0:00:01\r",
      "\u001b[K     |█████████▎                      | 1.9 MB 17.8 MB/s eta 0:00:01\r",
      "\u001b[K     |█████████▍                      | 1.9 MB 17.8 MB/s eta 0:00:01\r",
      "\u001b[K     |█████████▍                      | 1.9 MB 17.8 MB/s eta 0:00:01\r",
      "\u001b[K     |█████████▌                      | 1.9 MB 17.8 MB/s eta 0:00:01\r",
      "\u001b[K     |█████████▌                      | 1.9 MB 17.8 MB/s eta 0:00:01\r",
      "\u001b[K     |█████████▋                      | 2.0 MB 17.8 MB/s eta 0:00:01\r",
      "\u001b[K     |█████████▋                      | 2.0 MB 17.8 MB/s eta 0:00:01\r",
      "\u001b[K     |█████████▋                      | 2.0 MB 17.8 MB/s eta 0:00:01\r",
      "\u001b[K     |█████████▊                      | 2.0 MB 17.8 MB/s eta 0:00:01\r",
      "\u001b[K     |█████████▊                      | 2.0 MB 17.8 MB/s eta 0:00:01\r",
      "\u001b[K     |█████████▉                      | 2.0 MB 17.8 MB/s eta 0:00:01\r",
      "\u001b[K     |█████████▉                      | 2.0 MB 17.8 MB/s eta 0:00:01\r",
      "\u001b[K     |██████████                      | 2.0 MB 17.8 MB/s eta 0:00:01\r",
      "\u001b[K     |██████████                      | 2.0 MB 17.8 MB/s eta 0:00:01\r",
      "\u001b[K     |██████████                      | 2.0 MB 17.8 MB/s eta 0:00:01\r",
      "\u001b[K     |██████████                      | 2.1 MB 17.8 MB/s eta 0:00:01\r",
      "\u001b[K     |██████████▏                     | 2.1 MB 17.8 MB/s eta 0:00:01\r",
      "\u001b[K     |██████████▏                     | 2.1 MB 17.8 MB/s eta 0:00:01\r",
      "\u001b[K     |██████████▏                     | 2.1 MB 17.8 MB/s eta 0:00:01\r",
      "\u001b[K     |██████████▎                     | 2.1 MB 17.8 MB/s eta 0:00:01\r",
      "\u001b[K     |██████████▎                     | 2.1 MB 17.8 MB/s eta 0:00:01\r",
      "\u001b[K     |██████████▍                     | 2.1 MB 17.8 MB/s eta 0:00:01\r",
      "\u001b[K     |██████████▍                     | 2.1 MB 17.8 MB/s eta 0:00:01\r",
      "\u001b[K     |██████████▌                     | 2.1 MB 17.8 MB/s eta 0:00:01\r",
      "\u001b[K     |██████████▌                     | 2.2 MB 17.8 MB/s eta 0:00:01\r",
      "\u001b[K     |██████████▋                     | 2.2 MB 17.8 MB/s eta 0:00:01\r",
      "\u001b[K     |██████████▋                     | 2.2 MB 17.8 MB/s eta 0:00:01\r",
      "\u001b[K     |██████████▋                     | 2.2 MB 17.8 MB/s eta 0:00:01\r",
      "\u001b[K     |██████████▊                     | 2.2 MB 17.8 MB/s eta 0:00:01\r",
      "\u001b[K     |██████████▊                     | 2.2 MB 17.8 MB/s eta 0:00:01\r",
      "\u001b[K     |██████████▉                     | 2.2 MB 17.8 MB/s eta 0:00:01\r",
      "\u001b[K     |██████████▉                     | 2.2 MB 17.8 MB/s eta 0:00:01\r",
      "\u001b[K     |███████████                     | 2.2 MB 17.8 MB/s eta 0:00:01\r",
      "\u001b[K     |███████████                     | 2.2 MB 17.8 MB/s eta 0:00:01\r",
      "\u001b[K     |███████████                     | 2.3 MB 17.8 MB/s eta 0:00:01\r",
      "\u001b[K     |███████████                     | 2.3 MB 17.8 MB/s eta 0:00:01\r",
      "\u001b[K     |███████████▏                    | 2.3 MB 17.8 MB/s eta 0:00:01\r",
      "\u001b[K     |███████████▏                    | 2.3 MB 17.8 MB/s eta 0:00:01\r",
      "\u001b[K     |███████████▏                    | 2.3 MB 17.8 MB/s eta 0:00:01\r",
      "\u001b[K     |███████████▎                    | 2.3 MB 17.8 MB/s eta 0:00:01\r",
      "\u001b[K     |███████████▎                    | 2.3 MB 17.8 MB/s eta 0:00:01\r",
      "\u001b[K     |███████████▍                    | 2.3 MB 17.8 MB/s eta 0:00:01\r",
      "\u001b[K     |███████████▍                    | 2.3 MB 17.8 MB/s eta 0:00:01\r",
      "\u001b[K     |███████████▌                    | 2.3 MB 17.8 MB/s eta 0:00:01\r",
      "\u001b[K     |███████████▌                    | 2.4 MB 17.8 MB/s eta 0:00:01\r",
      "\u001b[K     |███████████▋                    | 2.4 MB 17.8 MB/s eta 0:00:01\r",
      "\u001b[K     |███████████▋                    | 2.4 MB 17.8 MB/s eta 0:00:01\r",
      "\u001b[K     |███████████▋                    | 2.4 MB 17.8 MB/s eta 0:00:01\r",
      "\u001b[K     |███████████▊                    | 2.4 MB 17.8 MB/s eta 0:00:01\r",
      "\u001b[K     |███████████▊                    | 2.4 MB 17.8 MB/s eta 0:00:01\r",
      "\u001b[K     |███████████▉                    | 2.4 MB 17.8 MB/s eta 0:00:01\r",
      "\u001b[K     |███████████▉                    | 2.4 MB 17.8 MB/s eta 0:00:01\r",
      "\u001b[K     |████████████                    | 2.4 MB 17.8 MB/s eta 0:00:01\r",
      "\u001b[K     |████████████                    | 2.4 MB 17.8 MB/s eta 0:00:01\r",
      "\u001b[K     |████████████                    | 2.5 MB 17.8 MB/s eta 0:00:01\r",
      "\u001b[K     |████████████                    | 2.5 MB 17.8 MB/s eta 0:00:01\r",
      "\u001b[K     |████████████▏                   | 2.5 MB 17.8 MB/s eta 0:00:01\r",
      "\u001b[K     |████████████▏                   | 2.5 MB 17.8 MB/s eta 0:00:01\r",
      "\u001b[K     |████████████▏                   | 2.5 MB 17.8 MB/s eta 0:00:01\r",
      "\u001b[K     |████████████▎                   | 2.5 MB 17.8 MB/s eta 0:00:01\r",
      "\u001b[K     |████████████▎                   | 2.5 MB 17.8 MB/s eta 0:00:01\r",
      "\u001b[K     |████████████▍                   | 2.5 MB 17.8 MB/s eta 0:00:01\r",
      "\u001b[K     |████████████▍                   | 2.5 MB 17.8 MB/s eta 0:00:01\r",
      "\u001b[K     |████████████▌                   | 2.5 MB 17.8 MB/s eta 0:00:01\r",
      "\u001b[K     |████████████▌                   | 2.6 MB 17.8 MB/s eta 0:00:01\r",
      "\u001b[K     |████████████▋                   | 2.6 MB 17.8 MB/s eta 0:00:01\r",
      "\u001b[K     |████████████▋                   | 2.6 MB 17.8 MB/s eta 0:00:01\r",
      "\u001b[K     |████████████▋                   | 2.6 MB 17.8 MB/s eta 0:00:01\r",
      "\u001b[K     |████████████▊                   | 2.6 MB 17.8 MB/s eta 0:00:01\r",
      "\u001b[K     |████████████▊                   | 2.6 MB 17.8 MB/s eta 0:00:01\r",
      "\u001b[K     |████████████▉                   | 2.6 MB 17.8 MB/s eta 0:00:01\r",
      "\u001b[K     |████████████▉                   | 2.6 MB 17.8 MB/s eta 0:00:01\r",
      "\u001b[K     |█████████████                   | 2.6 MB 17.8 MB/s eta 0:00:01\r",
      "\u001b[K     |█████████████                   | 2.7 MB 17.8 MB/s eta 0:00:01\r",
      "\u001b[K     |█████████████                   | 2.7 MB 17.8 MB/s eta 0:00:01\r",
      "\u001b[K     |█████████████                   | 2.7 MB 17.8 MB/s eta 0:00:01\r",
      "\u001b[K     |█████████████▏                  | 2.7 MB 17.8 MB/s eta 0:00:01\r",
      "\u001b[K     |█████████████▏                  | 2.7 MB 17.8 MB/s eta 0:00:01\r",
      "\u001b[K     |█████████████▏                  | 2.7 MB 17.8 MB/s eta 0:00:01\r",
      "\u001b[K     |█████████████▎                  | 2.7 MB 17.8 MB/s eta 0:00:01\r",
      "\u001b[K     |█████████████▎                  | 2.7 MB 17.8 MB/s eta 0:00:01\r",
      "\u001b[K     |█████████████▍                  | 2.7 MB 17.8 MB/s eta 0:00:01\r",
      "\u001b[K     |█████████████▍                  | 2.7 MB 17.8 MB/s eta 0:00:01\r",
      "\u001b[K     |█████████████▌                  | 2.8 MB 17.8 MB/s eta 0:00:01\r",
      "\u001b[K     |█████████████▌                  | 2.8 MB 17.8 MB/s eta 0:00:01\r",
      "\u001b[K     |█████████████▋                  | 2.8 MB 17.8 MB/s eta 0:00:01\r",
      "\u001b[K     |█████████████▋                  | 2.8 MB 17.8 MB/s eta 0:00:01\r",
      "\u001b[K     |█████████████▋                  | 2.8 MB 17.8 MB/s eta 0:00:01\r",
      "\u001b[K     |█████████████▊                  | 2.8 MB 17.8 MB/s eta 0:00:01\r",
      "\u001b[K     |█████████████▊                  | 2.8 MB 17.8 MB/s eta 0:00:01\r",
      "\u001b[K     |█████████████▉                  | 2.8 MB 17.8 MB/s eta 0:00:01\r",
      "\u001b[K     |█████████████▉                  | 2.8 MB 17.8 MB/s eta 0:00:01\r",
      "\u001b[K     |██████████████                  | 2.8 MB 17.8 MB/s eta 0:00:01\r",
      "\u001b[K     |██████████████                  | 2.9 MB 17.8 MB/s eta 0:00:01\r",
      "\u001b[K     |██████████████                  | 2.9 MB 17.8 MB/s eta 0:00:01\r",
      "\u001b[K     |██████████████                  | 2.9 MB 17.8 MB/s eta 0:00:01\r",
      "\u001b[K     |██████████████▏                 | 2.9 MB 17.8 MB/s eta 0:00:01\r",
      "\u001b[K     |██████████████▏                 | 2.9 MB 17.8 MB/s eta 0:00:01\r",
      "\u001b[K     |██████████████▏                 | 2.9 MB 17.8 MB/s eta 0:00:01\r",
      "\u001b[K     |██████████████▎                 | 2.9 MB 17.8 MB/s eta 0:00:01\r",
      "\u001b[K     |██████████████▎                 | 2.9 MB 17.8 MB/s eta 0:00:01"
     ]
    },
    {
     "name": "stdout",
     "output_type": "stream",
     "text": [
      "\r",
      "\u001b[K     |██████████████▍                 | 2.9 MB 17.8 MB/s eta 0:00:01\r",
      "\u001b[K     |██████████████▍                 | 2.9 MB 17.8 MB/s eta 0:00:01\r",
      "\u001b[K     |██████████████▌                 | 3.0 MB 17.8 MB/s eta 0:00:01\r",
      "\u001b[K     |██████████████▌                 | 3.0 MB 17.8 MB/s eta 0:00:01\r",
      "\u001b[K     |██████████████▋                 | 3.0 MB 17.8 MB/s eta 0:00:01\r",
      "\u001b[K     |██████████████▋                 | 3.0 MB 17.8 MB/s eta 0:00:01\r",
      "\u001b[K     |██████████████▊                 | 3.0 MB 17.8 MB/s eta 0:00:01\r",
      "\u001b[K     |██████████████▊                 | 3.0 MB 17.8 MB/s eta 0:00:01\r",
      "\u001b[K     |██████████████▊                 | 3.0 MB 17.8 MB/s eta 0:00:01\r",
      "\u001b[K     |██████████████▉                 | 3.0 MB 17.8 MB/s eta 0:00:01\r",
      "\u001b[K     |██████████████▉                 | 3.0 MB 17.8 MB/s eta 0:00:01\r",
      "\u001b[K     |███████████████                 | 3.1 MB 17.8 MB/s eta 0:00:01\r",
      "\u001b[K     |███████████████                 | 3.1 MB 17.8 MB/s eta 0:00:01\r",
      "\u001b[K     |███████████████                 | 3.1 MB 17.8 MB/s eta 0:00:01\r",
      "\u001b[K     |███████████████                 | 3.1 MB 17.8 MB/s eta 0:00:01\r",
      "\u001b[K     |███████████████▏                | 3.1 MB 17.8 MB/s eta 0:00:01\r",
      "\u001b[K     |███████████████▏                | 3.1 MB 17.8 MB/s eta 0:00:01\r",
      "\u001b[K     |███████████████▏                | 3.1 MB 17.8 MB/s eta 0:00:01\r",
      "\u001b[K     |███████████████▎                | 3.1 MB 17.8 MB/s eta 0:00:01\r",
      "\u001b[K     |███████████████▎                | 3.1 MB 17.8 MB/s eta 0:00:01\r",
      "\u001b[K     |███████████████▍                | 3.1 MB 17.8 MB/s eta 0:00:01\r",
      "\u001b[K     |███████████████▍                | 3.2 MB 17.8 MB/s eta 0:00:01\r",
      "\u001b[K     |███████████████▌                | 3.2 MB 17.8 MB/s eta 0:00:01\r",
      "\u001b[K     |███████████████▌                | 3.2 MB 17.8 MB/s eta 0:00:01\r",
      "\u001b[K     |███████████████▋                | 3.2 MB 17.8 MB/s eta 0:00:01\r",
      "\u001b[K     |███████████████▋                | 3.2 MB 17.8 MB/s eta 0:00:01\r",
      "\u001b[K     |███████████████▊                | 3.2 MB 17.8 MB/s eta 0:00:01\r",
      "\u001b[K     |███████████████▊                | 3.2 MB 17.8 MB/s eta 0:00:01\r",
      "\u001b[K     |███████████████▊                | 3.2 MB 17.8 MB/s eta 0:00:01\r",
      "\u001b[K     |███████████████▉                | 3.2 MB 17.8 MB/s eta 0:00:01\r",
      "\u001b[K     |███████████████▉                | 3.2 MB 17.8 MB/s eta 0:00:01\r",
      "\u001b[K     |████████████████                | 3.3 MB 17.8 MB/s eta 0:00:01\r",
      "\u001b[K     |████████████████                | 3.3 MB 17.8 MB/s eta 0:00:01\r",
      "\u001b[K     |████████████████                | 3.3 MB 17.8 MB/s eta 0:00:01\r",
      "\u001b[K     |████████████████                | 3.3 MB 17.8 MB/s eta 0:00:01\r",
      "\u001b[K     |████████████████▏               | 3.3 MB 17.8 MB/s eta 0:00:01\r",
      "\u001b[K     |████████████████▏               | 3.3 MB 17.8 MB/s eta 0:00:01\r",
      "\u001b[K     |████████████████▏               | 3.3 MB 17.8 MB/s eta 0:00:01\r",
      "\u001b[K     |████████████████▎               | 3.3 MB 17.8 MB/s eta 0:00:01\r",
      "\u001b[K     |████████████████▎               | 3.3 MB 17.8 MB/s eta 0:00:01\r",
      "\u001b[K     |████████████████▍               | 3.3 MB 17.8 MB/s eta 0:00:01\r",
      "\u001b[K     |████████████████▍               | 3.4 MB 17.8 MB/s eta 0:00:01\r",
      "\u001b[K     |████████████████▌               | 3.4 MB 17.8 MB/s eta 0:00:01\r",
      "\u001b[K     |████████████████▌               | 3.4 MB 17.8 MB/s eta 0:00:01\r",
      "\u001b[K     |████████████████▋               | 3.4 MB 17.8 MB/s eta 0:00:01\r",
      "\u001b[K     |████████████████▋               | 3.4 MB 17.8 MB/s eta 0:00:01\r",
      "\u001b[K     |████████████████▊               | 3.4 MB 17.8 MB/s eta 0:00:01\r",
      "\u001b[K     |████████████████▊               | 3.4 MB 17.8 MB/s eta 0:00:01\r",
      "\u001b[K     |████████████████▊               | 3.4 MB 17.8 MB/s eta 0:00:01\r",
      "\u001b[K     |████████████████▉               | 3.4 MB 17.8 MB/s eta 0:00:01\r",
      "\u001b[K     |████████████████▉               | 3.5 MB 17.8 MB/s eta 0:00:01\r",
      "\u001b[K     |█████████████████               | 3.5 MB 17.8 MB/s eta 0:00:01\r",
      "\u001b[K     |█████████████████               | 3.5 MB 17.8 MB/s eta 0:00:01\r",
      "\u001b[K     |█████████████████               | 3.5 MB 17.8 MB/s eta 0:00:01\r",
      "\u001b[K     |█████████████████               | 3.5 MB 17.8 MB/s eta 0:00:01\r",
      "\u001b[K     |█████████████████▏              | 3.5 MB 17.8 MB/s eta 0:00:01\r",
      "\u001b[K     |█████████████████▏              | 3.5 MB 17.8 MB/s eta 0:00:01\r",
      "\u001b[K     |█████████████████▏              | 3.5 MB 17.8 MB/s eta 0:00:01\r",
      "\u001b[K     |█████████████████▎              | 3.5 MB 17.8 MB/s eta 0:00:01\r",
      "\u001b[K     |█████████████████▎              | 3.5 MB 17.8 MB/s eta 0:00:01\r",
      "\u001b[K     |█████████████████▍              | 3.6 MB 17.8 MB/s eta 0:00:01\r",
      "\u001b[K     |█████████████████▍              | 3.6 MB 17.8 MB/s eta 0:00:01\r",
      "\u001b[K     |█████████████████▌              | 3.6 MB 17.8 MB/s eta 0:00:01\r",
      "\u001b[K     |█████████████████▌              | 3.6 MB 17.8 MB/s eta 0:00:01\r",
      "\u001b[K     |█████████████████▋              | 3.6 MB 17.8 MB/s eta 0:00:01\r",
      "\u001b[K     |█████████████████▋              | 3.6 MB 17.8 MB/s eta 0:00:01\r",
      "\u001b[K     |█████████████████▊              | 3.6 MB 17.8 MB/s eta 0:00:01\r",
      "\u001b[K     |█████████████████▊              | 3.6 MB 17.8 MB/s eta 0:00:01\r",
      "\u001b[K     |█████████████████▊              | 3.6 MB 17.8 MB/s eta 0:00:01\r",
      "\u001b[K     |█████████████████▉              | 3.6 MB 17.8 MB/s eta 0:00:01\r",
      "\u001b[K     |█████████████████▉              | 3.7 MB 17.8 MB/s eta 0:00:01\r",
      "\u001b[K     |██████████████████              | 3.7 MB 17.8 MB/s eta 0:00:01\r",
      "\u001b[K     |██████████████████              | 3.7 MB 17.8 MB/s eta 0:00:01\r",
      "\u001b[K     |██████████████████              | 3.7 MB 17.8 MB/s eta 0:00:01\r",
      "\u001b[K     |██████████████████              | 3.7 MB 17.8 MB/s eta 0:00:01\r",
      "\u001b[K     |██████████████████▏             | 3.7 MB 17.8 MB/s eta 0:00:01\r",
      "\u001b[K     |██████████████████▏             | 3.7 MB 17.8 MB/s eta 0:00:01\r",
      "\u001b[K     |██████████████████▏             | 3.7 MB 17.8 MB/s eta 0:00:01\r",
      "\u001b[K     |██████████████████▎             | 3.7 MB 17.8 MB/s eta 0:00:01\r",
      "\u001b[K     |██████████████████▎             | 3.7 MB 17.8 MB/s eta 0:00:01\r",
      "\u001b[K     |██████████████████▍             | 3.8 MB 17.8 MB/s eta 0:00:01\r",
      "\u001b[K     |██████████████████▍             | 3.8 MB 17.8 MB/s eta 0:00:01\r",
      "\u001b[K     |██████████████████▌             | 3.8 MB 17.8 MB/s eta 0:00:01\r",
      "\u001b[K     |██████████████████▌             | 3.8 MB 17.8 MB/s eta 0:00:01\r",
      "\u001b[K     |██████████████████▋             | 3.8 MB 17.8 MB/s eta 0:00:01\r",
      "\u001b[K     |██████████████████▋             | 3.8 MB 17.8 MB/s eta 0:00:01\r",
      "\u001b[K     |██████████████████▊             | 3.8 MB 17.8 MB/s eta 0:00:01\r",
      "\u001b[K     |██████████████████▊             | 3.8 MB 17.8 MB/s eta 0:00:01\r",
      "\u001b[K     |██████████████████▊             | 3.8 MB 17.8 MB/s eta 0:00:01\r",
      "\u001b[K     |██████████████████▉             | 3.9 MB 17.8 MB/s eta 0:00:01\r",
      "\u001b[K     |██████████████████▉             | 3.9 MB 17.8 MB/s eta 0:00:01\r",
      "\u001b[K     |███████████████████             | 3.9 MB 17.8 MB/s eta 0:00:01\r",
      "\u001b[K     |███████████████████             | 3.9 MB 17.8 MB/s eta 0:00:01\r",
      "\u001b[K     |███████████████████             | 3.9 MB 17.8 MB/s eta 0:00:01\r",
      "\u001b[K     |███████████████████             | 3.9 MB 17.8 MB/s eta 0:00:01\r",
      "\u001b[K     |███████████████████▏            | 3.9 MB 17.8 MB/s eta 0:00:01\r",
      "\u001b[K     |███████████████████▏            | 3.9 MB 17.8 MB/s eta 0:00:01\r",
      "\u001b[K     |███████████████████▎            | 3.9 MB 17.8 MB/s eta 0:00:01\r",
      "\u001b[K     |███████████████████▎            | 3.9 MB 17.8 MB/s eta 0:00:01\r",
      "\u001b[K     |███████████████████▎            | 4.0 MB 17.8 MB/s eta 0:00:01\r",
      "\u001b[K     |███████████████████▍            | 4.0 MB 17.8 MB/s eta 0:00:01\r",
      "\u001b[K     |███████████████████▍            | 4.0 MB 17.8 MB/s eta 0:00:01\r",
      "\u001b[K     |███████████████████▌            | 4.0 MB 17.8 MB/s eta 0:00:01\r",
      "\u001b[K     |███████████████████▌            | 4.0 MB 17.8 MB/s eta 0:00:01\r",
      "\u001b[K     |███████████████████▋            | 4.0 MB 17.8 MB/s eta 0:00:01\r",
      "\u001b[K     |███████████████████▋            | 4.0 MB 17.8 MB/s eta 0:00:01"
     ]
    },
    {
     "name": "stdout",
     "output_type": "stream",
     "text": [
      "\r",
      "\u001b[K     |███████████████████▊            | 4.0 MB 17.8 MB/s eta 0:00:01\r",
      "\u001b[K     |███████████████████▊            | 4.0 MB 17.8 MB/s eta 0:00:01\r",
      "\u001b[K     |███████████████████▊            | 4.0 MB 17.8 MB/s eta 0:00:01\r",
      "\u001b[K     |███████████████████▉            | 4.1 MB 17.8 MB/s eta 0:00:01\r",
      "\u001b[K     |███████████████████▉            | 4.1 MB 17.8 MB/s eta 0:00:01\r",
      "\u001b[K     |████████████████████            | 4.1 MB 17.8 MB/s eta 0:00:01\r",
      "\u001b[K     |████████████████████            | 4.1 MB 17.8 MB/s eta 0:00:01\r",
      "\u001b[K     |████████████████████            | 4.1 MB 17.8 MB/s eta 0:00:01\r",
      "\u001b[K     |████████████████████            | 4.1 MB 17.8 MB/s eta 0:00:01\r",
      "\u001b[K     |████████████████████▏           | 4.1 MB 17.8 MB/s eta 0:00:01\r",
      "\u001b[K     |████████████████████▏           | 4.1 MB 17.8 MB/s eta 0:00:01\r",
      "\u001b[K     |████████████████████▎           | 4.1 MB 17.8 MB/s eta 0:00:01\r",
      "\u001b[K     |████████████████████▎           | 4.1 MB 17.8 MB/s eta 0:00:01\r",
      "\u001b[K     |████████████████████▎           | 4.2 MB 17.8 MB/s eta 0:00:01\r",
      "\u001b[K     |████████████████████▍           | 4.2 MB 17.8 MB/s eta 0:00:01\r",
      "\u001b[K     |████████████████████▍           | 4.2 MB 17.8 MB/s eta 0:00:01\r",
      "\u001b[K     |████████████████████▌           | 4.2 MB 17.8 MB/s eta 0:00:01\r",
      "\u001b[K     |████████████████████▌           | 4.2 MB 17.8 MB/s eta 0:00:01\r",
      "\u001b[K     |████████████████████▋           | 4.2 MB 17.8 MB/s eta 0:00:01\r",
      "\u001b[K     |████████████████████▋           | 4.2 MB 17.8 MB/s eta 0:00:01\r",
      "\u001b[K     |████████████████████▊           | 4.2 MB 17.8 MB/s eta 0:00:01\r",
      "\u001b[K     |████████████████████▊           | 4.2 MB 17.8 MB/s eta 0:00:01\r",
      "\u001b[K     |████████████████████▊           | 4.2 MB 17.8 MB/s eta 0:00:01\r",
      "\u001b[K     |████████████████████▉           | 4.3 MB 17.8 MB/s eta 0:00:01\r",
      "\u001b[K     |████████████████████▉           | 4.3 MB 17.8 MB/s eta 0:00:01\r",
      "\u001b[K     |█████████████████████           | 4.3 MB 17.8 MB/s eta 0:00:01\r",
      "\u001b[K     |█████████████████████           | 4.3 MB 17.8 MB/s eta 0:00:01\r",
      "\u001b[K     |█████████████████████           | 4.3 MB 17.8 MB/s eta 0:00:01\r",
      "\u001b[K     |█████████████████████           | 4.3 MB 17.8 MB/s eta 0:00:01\r",
      "\u001b[K     |█████████████████████▏          | 4.3 MB 17.8 MB/s eta 0:00:01\r",
      "\u001b[K     |█████████████████████▏          | 4.3 MB 17.8 MB/s eta 0:00:01\r",
      "\u001b[K     |█████████████████████▎          | 4.3 MB 17.8 MB/s eta 0:00:01\r",
      "\u001b[K     |█████████████████████▎          | 4.4 MB 17.8 MB/s eta 0:00:01\r",
      "\u001b[K     |█████████████████████▎          | 4.4 MB 17.8 MB/s eta 0:00:01\r",
      "\u001b[K     |█████████████████████▍          | 4.4 MB 17.8 MB/s eta 0:00:01\r",
      "\u001b[K     |█████████████████████▍          | 4.4 MB 17.8 MB/s eta 0:00:01\r",
      "\u001b[K     |█████████████████████▌          | 4.4 MB 17.8 MB/s eta 0:00:01\r",
      "\u001b[K     |█████████████████████▌          | 4.4 MB 17.8 MB/s eta 0:00:01\r",
      "\u001b[K     |█████████████████████▋          | 4.4 MB 17.8 MB/s eta 0:00:01\r",
      "\u001b[K     |█████████████████████▋          | 4.4 MB 17.8 MB/s eta 0:00:01\r",
      "\u001b[K     |█████████████████████▊          | 4.4 MB 17.8 MB/s eta 0:00:01\r",
      "\u001b[K     |█████████████████████▊          | 4.4 MB 17.8 MB/s eta 0:00:01\r",
      "\u001b[K     |█████████████████████▊          | 4.5 MB 17.8 MB/s eta 0:00:01\r",
      "\u001b[K     |█████████████████████▉          | 4.5 MB 17.8 MB/s eta 0:00:01\r",
      "\u001b[K     |█████████████████████▉          | 4.5 MB 17.8 MB/s eta 0:00:01\r",
      "\u001b[K     |██████████████████████          | 4.5 MB 17.8 MB/s eta 0:00:01\r",
      "\u001b[K     |██████████████████████          | 4.5 MB 17.8 MB/s eta 0:00:01\r",
      "\u001b[K     |██████████████████████          | 4.5 MB 17.8 MB/s eta 0:00:01\r",
      "\u001b[K     |██████████████████████          | 4.5 MB 17.8 MB/s eta 0:00:01\r",
      "\u001b[K     |██████████████████████▏         | 4.5 MB 17.8 MB/s eta 0:00:01\r",
      "\u001b[K     |██████████████████████▏         | 4.5 MB 17.8 MB/s eta 0:00:01\r",
      "\u001b[K     |██████████████████████▎         | 4.5 MB 17.8 MB/s eta 0:00:01\r",
      "\u001b[K     |██████████████████████▎         | 4.6 MB 17.8 MB/s eta 0:00:01\r",
      "\u001b[K     |██████████████████████▎         | 4.6 MB 17.8 MB/s eta 0:00:01\r",
      "\u001b[K     |██████████████████████▍         | 4.6 MB 17.8 MB/s eta 0:00:01\r",
      "\u001b[K     |██████████████████████▍         | 4.6 MB 17.8 MB/s eta 0:00:01\r",
      "\u001b[K     |██████████████████████▌         | 4.6 MB 17.8 MB/s eta 0:00:01\r",
      "\u001b[K     |██████████████████████▌         | 4.6 MB 17.8 MB/s eta 0:00:01\r",
      "\u001b[K     |██████████████████████▋         | 4.6 MB 17.8 MB/s eta 0:00:01\r",
      "\u001b[K     |██████████████████████▋         | 4.6 MB 17.8 MB/s eta 0:00:01\r",
      "\u001b[K     |██████████████████████▊         | 4.6 MB 17.8 MB/s eta 0:00:01\r",
      "\u001b[K     |██████████████████████▊         | 4.6 MB 17.8 MB/s eta 0:00:01\r",
      "\u001b[K     |██████████████████████▊         | 4.7 MB 17.8 MB/s eta 0:00:01\r",
      "\u001b[K     |██████████████████████▉         | 4.7 MB 17.8 MB/s eta 0:00:01\r",
      "\u001b[K     |██████████████████████▉         | 4.7 MB 17.8 MB/s eta 0:00:01\r",
      "\u001b[K     |███████████████████████         | 4.7 MB 17.8 MB/s eta 0:00:01\r",
      "\u001b[K     |███████████████████████         | 4.7 MB 17.8 MB/s eta 0:00:01\r",
      "\u001b[K     |███████████████████████         | 4.7 MB 17.8 MB/s eta 0:00:01\r",
      "\u001b[K     |███████████████████████         | 4.7 MB 17.8 MB/s eta 0:00:01\r",
      "\u001b[K     |███████████████████████▏        | 4.7 MB 17.8 MB/s eta 0:00:01\r",
      "\u001b[K     |███████████████████████▏        | 4.7 MB 17.8 MB/s eta 0:00:01\r",
      "\u001b[K     |███████████████████████▎        | 4.8 MB 17.8 MB/s eta 0:00:01\r",
      "\u001b[K     |███████████████████████▎        | 4.8 MB 17.8 MB/s eta 0:00:01\r",
      "\u001b[K     |███████████████████████▎        | 4.8 MB 17.8 MB/s eta 0:00:01\r",
      "\u001b[K     |███████████████████████▍        | 4.8 MB 17.8 MB/s eta 0:00:01\r",
      "\u001b[K     |███████████████████████▍        | 4.8 MB 17.8 MB/s eta 0:00:01\r",
      "\u001b[K     |███████████████████████▌        | 4.8 MB 17.8 MB/s eta 0:00:01\r",
      "\u001b[K     |███████████████████████▌        | 4.8 MB 17.8 MB/s eta 0:00:01\r",
      "\u001b[K     |███████████████████████▋        | 4.8 MB 17.8 MB/s eta 0:00:01\r",
      "\u001b[K     |███████████████████████▋        | 4.8 MB 17.8 MB/s eta 0:00:01\r",
      "\u001b[K     |███████████████████████▊        | 4.8 MB 17.8 MB/s eta 0:00:01\r",
      "\u001b[K     |███████████████████████▊        | 4.9 MB 17.8 MB/s eta 0:00:01\r",
      "\u001b[K     |███████████████████████▉        | 4.9 MB 17.8 MB/s eta 0:00:01\r",
      "\u001b[K     |███████████████████████▉        | 4.9 MB 17.8 MB/s eta 0:00:01\r",
      "\u001b[K     |███████████████████████▉        | 4.9 MB 17.8 MB/s eta 0:00:01\r",
      "\u001b[K     |████████████████████████        | 4.9 MB 17.8 MB/s eta 0:00:01\r",
      "\u001b[K     |████████████████████████        | 4.9 MB 17.8 MB/s eta 0:00:01\r",
      "\u001b[K     |████████████████████████        | 4.9 MB 17.8 MB/s eta 0:00:01\r",
      "\u001b[K     |████████████████████████        | 4.9 MB 17.8 MB/s eta 0:00:01\r",
      "\u001b[K     |████████████████████████▏       | 4.9 MB 17.8 MB/s eta 0:00:01\r",
      "\u001b[K     |████████████████████████▏       | 4.9 MB 17.8 MB/s eta 0:00:01\r",
      "\u001b[K     |████████████████████████▎       | 5.0 MB 17.8 MB/s eta 0:00:01\r",
      "\u001b[K     |████████████████████████▎       | 5.0 MB 17.8 MB/s eta 0:00:01\r",
      "\u001b[K     |████████████████████████▎       | 5.0 MB 17.8 MB/s eta 0:00:01\r",
      "\u001b[K     |████████████████████████▍       | 5.0 MB 17.8 MB/s eta 0:00:01\r",
      "\u001b[K     |████████████████████████▍       | 5.0 MB 17.8 MB/s eta 0:00:01\r",
      "\u001b[K     |████████████████████████▌       | 5.0 MB 17.8 MB/s eta 0:00:01\r",
      "\u001b[K     |████████████████████████▌       | 5.0 MB 17.8 MB/s eta 0:00:01\r",
      "\u001b[K     |████████████████████████▋       | 5.0 MB 17.8 MB/s eta 0:00:01\r",
      "\u001b[K     |████████████████████████▋       | 5.0 MB 17.8 MB/s eta 0:00:01\r",
      "\u001b[K     |████████████████████████▊       | 5.0 MB 17.8 MB/s eta 0:00:01\r",
      "\u001b[K     |████████████████████████▊       | 5.1 MB 17.8 MB/s eta 0:00:01\r",
      "\u001b[K     |████████████████████████▉       | 5.1 MB 17.8 MB/s eta 0:00:01\r",
      "\u001b[K     |████████████████████████▉       | 5.1 MB 17.8 MB/s eta 0:00:01\r",
      "\u001b[K     |████████████████████████▉       | 5.1 MB 17.8 MB/s eta 0:00:01\r",
      "\u001b[K     |█████████████████████████       | 5.1 MB 17.8 MB/s eta 0:00:01\r",
      "\u001b[K     |█████████████████████████       | 5.1 MB 17.8 MB/s eta 0:00:01\r",
      "\u001b[K     |█████████████████████████       | 5.1 MB 17.8 MB/s eta 0:00:01\r",
      "\u001b[K     |█████████████████████████       | 5.1 MB 17.8 MB/s eta 0:00:01\r",
      "\u001b[K     |█████████████████████████▏      | 5.1 MB 17.8 MB/s eta 0:00:01\r",
      "\u001b[K     |█████████████████████████▏      | 5.2 MB 17.8 MB/s eta 0:00:01\r",
      "\u001b[K     |█████████████████████████▎      | 5.2 MB 17.8 MB/s eta 0:00:01\r",
      "\u001b[K     |█████████████████████████▎      | 5.2 MB 17.8 MB/s eta 0:00:01\r",
      "\u001b[K     |█████████████████████████▎      | 5.2 MB 17.8 MB/s eta 0:00:01\r",
      "\u001b[K     |█████████████████████████▍      | 5.2 MB 17.8 MB/s eta 0:00:01\r",
      "\u001b[K     |█████████████████████████▍      | 5.2 MB 17.8 MB/s eta 0:00:01\r",
      "\u001b[K     |█████████████████████████▌      | 5.2 MB 17.8 MB/s eta 0:00:01\r",
      "\u001b[K     |█████████████████████████▌      | 5.2 MB 17.8 MB/s eta 0:00:01\r",
      "\u001b[K     |█████████████████████████▋      | 5.2 MB 17.8 MB/s eta 0:00:01\r",
      "\u001b[K     |█████████████████████████▋      | 5.2 MB 17.8 MB/s eta 0:00:01\r",
      "\u001b[K     |█████████████████████████▊      | 5.3 MB 17.8 MB/s eta 0:00:01\r",
      "\u001b[K     |█████████████████████████▊      | 5.3 MB 17.8 MB/s eta 0:00:01\r",
      "\u001b[K     |█████████████████████████▉      | 5.3 MB 17.8 MB/s eta 0:00:01\r",
      "\u001b[K     |█████████████████████████▉      | 5.3 MB 17.8 MB/s eta 0:00:01\r",
      "\u001b[K     |█████████████████████████▉      | 5.3 MB 17.8 MB/s eta 0:00:01\r",
      "\u001b[K     |██████████████████████████      | 5.3 MB 17.8 MB/s eta 0:00:01\r",
      "\u001b[K     |██████████████████████████      | 5.3 MB 17.8 MB/s eta 0:00:01\r",
      "\u001b[K     |██████████████████████████      | 5.3 MB 17.8 MB/s eta 0:00:01\r",
      "\u001b[K     |██████████████████████████      | 5.3 MB 17.8 MB/s eta 0:00:01\r",
      "\u001b[K     |██████████████████████████▏     | 5.3 MB 17.8 MB/s eta 0:00:01\r",
      "\u001b[K     |██████████████████████████▏     | 5.4 MB 17.8 MB/s eta 0:00:01\r",
      "\u001b[K     |██████████████████████████▎     | 5.4 MB 17.8 MB/s eta 0:00:01"
     ]
    },
    {
     "name": "stdout",
     "output_type": "stream",
     "text": [
      "\r",
      "\u001b[K     |██████████████████████████▎     | 5.4 MB 17.8 MB/s eta 0:00:01\r",
      "\u001b[K     |██████████████████████████▎     | 5.4 MB 17.8 MB/s eta 0:00:01\r",
      "\u001b[K     |██████████████████████████▍     | 5.4 MB 17.8 MB/s eta 0:00:01\r",
      "\u001b[K     |██████████████████████████▍     | 5.4 MB 17.8 MB/s eta 0:00:01\r",
      "\u001b[K     |██████████████████████████▌     | 5.4 MB 17.8 MB/s eta 0:00:01\r",
      "\u001b[K     |██████████████████████████▌     | 5.4 MB 17.8 MB/s eta 0:00:01\r",
      "\u001b[K     |██████████████████████████▋     | 5.4 MB 17.8 MB/s eta 0:00:01\r",
      "\u001b[K     |██████████████████████████▋     | 5.4 MB 17.8 MB/s eta 0:00:01\r",
      "\u001b[K     |██████████████████████████▊     | 5.5 MB 17.8 MB/s eta 0:00:01\r",
      "\u001b[K     |██████████████████████████▊     | 5.5 MB 17.8 MB/s eta 0:00:01\r",
      "\u001b[K     |██████████████████████████▉     | 5.5 MB 17.8 MB/s eta 0:00:01\r",
      "\u001b[K     |██████████████████████████▉     | 5.5 MB 17.8 MB/s eta 0:00:01\r",
      "\u001b[K     |██████████████████████████▉     | 5.5 MB 17.8 MB/s eta 0:00:01\r",
      "\u001b[K     |███████████████████████████     | 5.5 MB 17.8 MB/s eta 0:00:01\r",
      "\u001b[K     |███████████████████████████     | 5.5 MB 17.8 MB/s eta 0:00:01\r",
      "\u001b[K     |███████████████████████████     | 5.5 MB 17.8 MB/s eta 0:00:01\r",
      "\u001b[K     |███████████████████████████     | 5.5 MB 17.8 MB/s eta 0:00:01\r",
      "\u001b[K     |███████████████████████████▏    | 5.6 MB 17.8 MB/s eta 0:00:01\r",
      "\u001b[K     |███████████████████████████▏    | 5.6 MB 17.8 MB/s eta 0:00:01\r",
      "\u001b[K     |███████████████████████████▎    | 5.6 MB 17.8 MB/s eta 0:00:01\r",
      "\u001b[K     |███████████████████████████▎    | 5.6 MB 17.8 MB/s eta 0:00:01\r",
      "\u001b[K     |███████████████████████████▎    | 5.6 MB 17.8 MB/s eta 0:00:01\r",
      "\u001b[K     |███████████████████████████▍    | 5.6 MB 17.8 MB/s eta 0:00:01\r",
      "\u001b[K     |███████████████████████████▍    | 5.6 MB 17.8 MB/s eta 0:00:01\r",
      "\u001b[K     |███████████████████████████▌    | 5.6 MB 17.8 MB/s eta 0:00:01\r",
      "\u001b[K     |███████████████████████████▌    | 5.6 MB 17.8 MB/s eta 0:00:01\r",
      "\u001b[K     |███████████████████████████▋    | 5.6 MB 17.8 MB/s eta 0:00:01\r",
      "\u001b[K     |███████████████████████████▋    | 5.7 MB 17.8 MB/s eta 0:00:01\r",
      "\u001b[K     |███████████████████████████▊    | 5.7 MB 17.8 MB/s eta 0:00:01\r",
      "\u001b[K     |███████████████████████████▊    | 5.7 MB 17.8 MB/s eta 0:00:01\r",
      "\u001b[K     |███████████████████████████▉    | 5.7 MB 17.8 MB/s eta 0:00:01\r",
      "\u001b[K     |███████████████████████████▉    | 5.7 MB 17.8 MB/s eta 0:00:01\r",
      "\u001b[K     |███████████████████████████▉    | 5.7 MB 17.8 MB/s eta 0:00:01\r",
      "\u001b[K     |████████████████████████████    | 5.7 MB 17.8 MB/s eta 0:00:01\r",
      "\u001b[K     |████████████████████████████    | 5.7 MB 17.8 MB/s eta 0:00:01\r",
      "\u001b[K     |████████████████████████████    | 5.7 MB 17.8 MB/s eta 0:00:01\r",
      "\u001b[K     |████████████████████████████    | 5.7 MB 17.8 MB/s eta 0:00:01\r",
      "\u001b[K     |████████████████████████████▏   | 5.8 MB 17.8 MB/s eta 0:00:01\r",
      "\u001b[K     |████████████████████████████▏   | 5.8 MB 17.8 MB/s eta 0:00:01\r",
      "\u001b[K     |████████████████████████████▎   | 5.8 MB 17.8 MB/s eta 0:00:01\r",
      "\u001b[K     |████████████████████████████▎   | 5.8 MB 17.8 MB/s eta 0:00:01\r",
      "\u001b[K     |████████████████████████████▍   | 5.8 MB 17.8 MB/s eta 0:00:01\r",
      "\u001b[K     |████████████████████████████▍   | 5.8 MB 17.8 MB/s eta 0:00:01\r",
      "\u001b[K     |████████████████████████████▍   | 5.8 MB 17.8 MB/s eta 0:00:01\r",
      "\u001b[K     |████████████████████████████▌   | 5.8 MB 17.8 MB/s eta 0:00:01\r",
      "\u001b[K     |████████████████████████████▌   | 5.8 MB 17.8 MB/s eta 0:00:01\r",
      "\u001b[K     |████████████████████████████▋   | 5.8 MB 17.8 MB/s eta 0:00:01\r",
      "\u001b[K     |████████████████████████████▋   | 5.9 MB 17.8 MB/s eta 0:00:01\r",
      "\u001b[K     |████████████████████████████▊   | 5.9 MB 17.8 MB/s eta 0:00:01\r",
      "\u001b[K     |████████████████████████████▊   | 5.9 MB 17.8 MB/s eta 0:00:01\r",
      "\u001b[K     |████████████████████████████▉   | 5.9 MB 17.8 MB/s eta 0:00:01\r",
      "\u001b[K     |████████████████████████████▉   | 5.9 MB 17.8 MB/s eta 0:00:01\r",
      "\u001b[K     |████████████████████████████▉   | 5.9 MB 17.8 MB/s eta 0:00:01\r",
      "\u001b[K     |█████████████████████████████   | 5.9 MB 17.8 MB/s eta 0:00:01\r",
      "\u001b[K     |█████████████████████████████   | 5.9 MB 17.8 MB/s eta 0:00:01\r",
      "\u001b[K     |█████████████████████████████   | 5.9 MB 17.8 MB/s eta 0:00:01\r",
      "\u001b[K     |█████████████████████████████   | 5.9 MB 17.8 MB/s eta 0:00:01\r",
      "\u001b[K     |█████████████████████████████▏  | 6.0 MB 17.8 MB/s eta 0:00:01\r",
      "\u001b[K     |█████████████████████████████▏  | 6.0 MB 17.8 MB/s eta 0:00:01\r",
      "\u001b[K     |█████████████████████████████▎  | 6.0 MB 17.8 MB/s eta 0:00:01\r",
      "\u001b[K     |█████████████████████████████▎  | 6.0 MB 17.8 MB/s eta 0:00:01\r",
      "\u001b[K     |█████████████████████████████▍  | 6.0 MB 17.8 MB/s eta 0:00:01\r",
      "\u001b[K     |█████████████████████████████▍  | 6.0 MB 17.8 MB/s eta 0:00:01\r",
      "\u001b[K     |█████████████████████████████▍  | 6.0 MB 17.8 MB/s eta 0:00:01\r",
      "\u001b[K     |█████████████████████████████▌  | 6.0 MB 17.8 MB/s eta 0:00:01\r",
      "\u001b[K     |█████████████████████████████▌  | 6.0 MB 17.8 MB/s eta 0:00:01\r",
      "\u001b[K     |█████████████████████████████▋  | 6.1 MB 17.8 MB/s eta 0:00:01\r",
      "\u001b[K     |█████████████████████████████▋  | 6.1 MB 17.8 MB/s eta 0:00:01\r",
      "\u001b[K     |█████████████████████████████▊  | 6.1 MB 17.8 MB/s eta 0:00:01\r",
      "\u001b[K     |█████████████████████████████▊  | 6.1 MB 17.8 MB/s eta 0:00:01\r",
      "\u001b[K     |█████████████████████████████▉  | 6.1 MB 17.8 MB/s eta 0:00:01\r",
      "\u001b[K     |█████████████████████████████▉  | 6.1 MB 17.8 MB/s eta 0:00:01\r",
      "\u001b[K     |█████████████████████████████▉  | 6.1 MB 17.8 MB/s eta 0:00:01\r",
      "\u001b[K     |██████████████████████████████  | 6.1 MB 17.8 MB/s eta 0:00:01\r",
      "\u001b[K     |██████████████████████████████  | 6.1 MB 17.8 MB/s eta 0:00:01\r",
      "\u001b[K     |██████████████████████████████  | 6.1 MB 17.8 MB/s eta 0:00:01\r",
      "\u001b[K     |██████████████████████████████  | 6.2 MB 17.8 MB/s eta 0:00:01\r",
      "\u001b[K     |██████████████████████████████▏ | 6.2 MB 17.8 MB/s eta 0:00:01\r",
      "\u001b[K     |██████████████████████████████▏ | 6.2 MB 17.8 MB/s eta 0:00:01\r",
      "\u001b[K     |██████████████████████████████▎ | 6.2 MB 17.8 MB/s eta 0:00:01\r",
      "\u001b[K     |██████████████████████████████▎ | 6.2 MB 17.8 MB/s eta 0:00:01\r",
      "\u001b[K     |██████████████████████████████▍ | 6.2 MB 17.8 MB/s eta 0:00:01\r",
      "\u001b[K     |██████████████████████████████▍ | 6.2 MB 17.8 MB/s eta 0:00:01\r",
      "\u001b[K     |██████████████████████████████▍ | 6.2 MB 17.8 MB/s eta 0:00:01\r",
      "\u001b[K     |██████████████████████████████▌ | 6.2 MB 17.8 MB/s eta 0:00:01\r",
      "\u001b[K     |██████████████████████████████▌ | 6.2 MB 17.8 MB/s eta 0:00:01\r",
      "\u001b[K     |██████████████████████████████▋ | 6.3 MB 17.8 MB/s eta 0:00:01\r",
      "\u001b[K     |██████████████████████████████▋ | 6.3 MB 17.8 MB/s eta 0:00:01\r",
      "\u001b[K     |██████████████████████████████▊ | 6.3 MB 17.8 MB/s eta 0:00:01\r",
      "\u001b[K     |██████████████████████████████▊ | 6.3 MB 17.8 MB/s eta 0:00:01\r",
      "\u001b[K     |██████████████████████████████▉ | 6.3 MB 17.8 MB/s eta 0:00:01\r",
      "\u001b[K     |██████████████████████████████▉ | 6.3 MB 17.8 MB/s eta 0:00:01\r",
      "\u001b[K     |██████████████████████████████▉ | 6.3 MB 17.8 MB/s eta 0:00:01\r",
      "\u001b[K     |███████████████████████████████ | 6.3 MB 17.8 MB/s eta 0:00:01\r",
      "\u001b[K     |███████████████████████████████ | 6.3 MB 17.8 MB/s eta 0:00:01\r",
      "\u001b[K     |███████████████████████████████ | 6.3 MB 17.8 MB/s eta 0:00:01\r",
      "\u001b[K     |███████████████████████████████ | 6.4 MB 17.8 MB/s eta 0:00:01\r",
      "\u001b[K     |███████████████████████████████▏| 6.4 MB 17.8 MB/s eta 0:00:01\r",
      "\u001b[K     |███████████████████████████████▏| 6.4 MB 17.8 MB/s eta 0:00:01\r",
      "\u001b[K     |███████████████████████████████▎| 6.4 MB 17.8 MB/s eta 0:00:01\r",
      "\u001b[K     |███████████████████████████████▎| 6.4 MB 17.8 MB/s eta 0:00:01\r",
      "\u001b[K     |███████████████████████████████▍| 6.4 MB 17.8 MB/s eta 0:00:01\r",
      "\u001b[K     |███████████████████████████████▍| 6.4 MB 17.8 MB/s eta 0:00:01\r",
      "\u001b[K     |███████████████████████████████▍| 6.4 MB 17.8 MB/s eta 0:00:01\r",
      "\u001b[K     |███████████████████████████████▌| 6.4 MB 17.8 MB/s eta 0:00:01\r",
      "\u001b[K     |███████████████████████████████▌| 6.5 MB 17.8 MB/s eta 0:00:01\r",
      "\u001b[K     |███████████████████████████████▋| 6.5 MB 17.8 MB/s eta 0:00:01\r",
      "\u001b[K     |███████████████████████████████▋| 6.5 MB 17.8 MB/s eta 0:00:01\r",
      "\u001b[K     |███████████████████████████████▊| 6.5 MB 17.8 MB/s eta 0:00:01\r",
      "\u001b[K     |███████████████████████████████▊| 6.5 MB 17.8 MB/s eta 0:00:01\r",
      "\u001b[K     |███████████████████████████████▉| 6.5 MB 17.8 MB/s eta 0:00:01\r",
      "\u001b[K     |███████████████████████████████▉| 6.5 MB 17.8 MB/s eta 0:00:01\r",
      "\u001b[K     |███████████████████████████████▉| 6.5 MB 17.8 MB/s eta 0:00:01\r",
      "\u001b[K     |████████████████████████████████| 6.5 MB 17.8 MB/s eta 0:00:01\r",
      "\u001b[K     |████████████████████████████████| 6.5 MB 17.8 MB/s eta 0:00:01\r",
      "\u001b[K     |████████████████████████████████| 6.5 MB 17.8 MB/s \r\n"
     ]
    },
    {
     "name": "stdout",
     "output_type": "stream",
     "text": [
      "\u001b[?25hRequirement already satisfied: requests in /opt/conda/lib/python3.8/site-packages (from transformers) (2.26.0)\r\n",
      "Requirement already satisfied: filelock in /opt/conda/lib/python3.8/site-packages (from transformers) (3.4.2)\r\n",
      "Requirement already satisfied: numpy>=1.17 in /opt/conda/lib/python3.8/site-packages (from transformers) (1.22.2)\r\n",
      "Requirement already satisfied: packaging>=20.0 in /opt/conda/lib/python3.8/site-packages (from transformers) (21.3)\r\n",
      "Requirement already satisfied: regex!=2019.12.17 in /opt/conda/lib/python3.8/site-packages (from transformers) (2022.1.18)\r\n"
     ]
    },
    {
     "name": "stdout",
     "output_type": "stream",
     "text": [
      "Collecting huggingface-hub<1.0,>=0.1.0\r\n"
     ]
    },
    {
     "name": "stdout",
     "output_type": "stream",
     "text": [
      "  Downloading huggingface_hub-0.4.0-py3-none-any.whl (67 kB)\r\n",
      "\u001b[?25l\r",
      "\u001b[K     |█████                           | 10 kB 41.3 MB/s eta 0:00:01\r",
      "\u001b[K     |█████████▉                      | 20 kB 44.1 MB/s eta 0:00:01\r",
      "\u001b[K     |██████████████▊                 | 30 kB 53.8 MB/s eta 0:00:01\r",
      "\u001b[K     |███████████████████▋            | 40 kB 39.7 MB/s eta 0:00:01\r",
      "\u001b[K     |████████████████████████▌       | 51 kB 39.1 MB/s eta 0:00:01\r",
      "\u001b[K     |█████████████████████████████▍  | 61 kB 41.0 MB/s eta 0:00:01\r",
      "\u001b[K     |████████████████████████████████| 67 kB 41.1 MB/s \r\n",
      "\u001b[?25hRequirement already satisfied: tqdm>=4.27 in /opt/conda/lib/python3.8/site-packages (from transformers) (4.62.3)\r\n",
      "Requirement already satisfied: sacremoses in /opt/conda/lib/python3.8/site-packages (from transformers) (0.0.47)\r\n",
      "Requirement already satisfied: pyyaml>=5.1 in /opt/conda/lib/python3.8/site-packages (from transformers) (5.4.1)\r\n",
      "Requirement already satisfied: typing-extensions>=3.7.4.3 in /opt/conda/lib/python3.8/site-packages (from huggingface-hub<1.0,>=0.1.0->transformers) (4.0.1)\r\n",
      "Requirement already satisfied: pyparsing!=3.0.5,>=2.0.2 in /opt/conda/lib/python3.8/site-packages (from packaging>=20.0->transformers) (3.0.7)\r\n"
     ]
    },
    {
     "name": "stdout",
     "output_type": "stream",
     "text": [
      "Requirement already satisfied: charset-normalizer~=2.0.0 in /opt/conda/lib/python3.8/site-packages (from requests->transformers) (2.0.9)\r\n",
      "Requirement already satisfied: idna<4,>=2.5 in /opt/conda/lib/python3.8/site-packages (from requests->transformers) (3.1)\r\n",
      "Requirement already satisfied: urllib3<1.27,>=1.21.1 in /opt/conda/lib/python3.8/site-packages (from requests->transformers) (1.26.7)\r\n",
      "Requirement already satisfied: certifi>=2017.4.17 in /opt/conda/lib/python3.8/site-packages (from requests->transformers) (2021.10.8)\r\n"
     ]
    },
    {
     "name": "stdout",
     "output_type": "stream",
     "text": [
      "Requirement already satisfied: six in /opt/conda/lib/python3.8/site-packages (from sacremoses->transformers) (1.16.0)\r\n",
      "Requirement already satisfied: joblib in /opt/conda/lib/python3.8/site-packages (from sacremoses->transformers) (1.1.0)\r\n",
      "Requirement already satisfied: click in /opt/conda/lib/python3.8/site-packages (from sacremoses->transformers) (8.0.3)\r\n"
     ]
    },
    {
     "name": "stdout",
     "output_type": "stream",
     "text": [
      "Installing collected packages: tokenizers, huggingface-hub, transformers\r\n"
     ]
    },
    {
     "name": "stdout",
     "output_type": "stream",
     "text": [
      "Successfully installed huggingface-hub-0.4.0 tokenizers-0.11.6 transformers-4.17.0\r\n",
      "\u001b[33mWARNING: Running pip as the 'root' user can result in broken permissions and conflicting behaviour with the system package manager. It is recommended to use a virtual environment instead: https://pip.pypa.io/warnings/venv\u001b[0m\r\n"
     ]
    }
   ],
   "source": [
    "!pip install transformers"
   ]
  },
  {
   "cell_type": "code",
   "execution_count": null,
   "id": "5eb7fe58",
   "metadata": {
    "gradient": {
     "editing": false,
     "execution_count": 18,
     "id": "5eb7fe58",
     "kernelId": "e8c05c89-6946-4f31-b274-a87286e3e99a"
    }
   },
   "outputs": [],
   "source": [
    "from tqdm import tqdm"
   ]
  },
  {
   "cell_type": "code",
   "execution_count": null,
   "id": "4edd5de0",
   "metadata": {
    "gradient": {
     "editing": false,
     "id": "4edd5de0",
     "kernelId": "e8c05c89-6946-4f31-b274-a87286e3e99a"
    }
   },
   "outputs": [],
   "source": [
    "import sys\n",
    "!{sys.executable} -m pip install transformers"
   ]
  },
  {
   "cell_type": "code",
   "execution_count": null,
   "id": "66a84c5b",
   "metadata": {
    "gradient": {
     "editing": false,
     "execution_count": 5,
     "id": "66a84c5b",
     "kernelId": "e8c05c89-6946-4f31-b274-a87286e3e99a"
    }
   },
   "outputs": [],
   "source": [
    "import pandas as pd\n",
    "import numpy as np\n",
    "import torch\n",
    "from tqdm.notebook import tqdm\n",
    "\n",
    "from transformers import BertTokenizer\n",
    "from torch.utils.data import TensorDataset\n",
    "\n",
    "from transformers import (ElectraForSequenceClassification, ElectraTokenizerFast)\n",
    "\n",
    "from matplotlib import pyplot as plt\n",
    "import seaborn as sns\n",
    "\n",
    "from sklearn.metrics import classification_report, confusion_matrix"
   ]
  },
  {
   "cell_type": "markdown",
   "id": "39da5ece",
   "metadata": {
    "gradient": {
     "editing": false,
     "id": "39da5ece",
     "kernelId": "e8c05c89-6946-4f31-b274-a87286e3e99a"
    }
   },
   "source": [
    "# Get data"
   ]
  },
  {
   "cell_type": "code",
   "execution_count": null,
   "id": "8afa54d8",
   "metadata": {
    "gradient": {
     "editing": false,
     "id": "8afa54d8",
     "kernelId": "e8c05c89-6946-4f31-b274-a87286e3e99a"
    }
   },
   "outputs": [],
   "source": [
    "from google.colab import drive\n",
    "import tensorflow as tf\n",
    "\n",
    "drive.mount('/content/drive')\n",
    "%cd drive/MyDrive/twitter_training/"
   ]
  },
  {
   "cell_type": "code",
   "execution_count": null,
   "id": "47471ee1",
   "metadata": {
    "gradient": {
     "editing": false,
     "execution_count": 6,
     "id": "47471ee1",
     "kernelId": "e8c05c89-6946-4f31-b274-a87286e3e99a"
    }
   },
   "outputs": [
    {
     "data": {
      "text/html": [
       "<div>\n",
       "<style scoped>\n",
       "    .dataframe tbody tr th:only-of-type {\n",
       "        vertical-align: middle;\n",
       "    }\n",
       "\n",
       "    .dataframe tbody tr th {\n",
       "        vertical-align: top;\n",
       "    }\n",
       "\n",
       "    .dataframe thead th {\n",
       "        text-align: right;\n",
       "    }\n",
       "</style>\n",
       "<table border=\"1\" class=\"dataframe\">\n",
       "  <thead>\n",
       "    <tr style=\"text-align: right;\">\n",
       "      <th></th>\n",
       "      <th>id</th>\n",
       "      <th>message_lv_tilde</th>\n",
       "      <th>label</th>\n",
       "    </tr>\n",
       "  </thead>\n",
       "  <tbody>\n",
       "    <tr>\n",
       "      <th>0</th>\n",
       "      <td>1.340000e+18</td>\n",
       "      <td>@pilsonenjeff @lauferlaw @donwinslows pa reize...</td>\n",
       "      <td>2</td>\n",
       "    </tr>\n",
       "    <tr>\n",
       "      <th>1</th>\n",
       "      <td>1.330000e+18</td>\n",
       "      <td>@tkdylan cilvēkiem ir aģentūra. Lins Vuds ir v...</td>\n",
       "      <td>2</td>\n",
       "    </tr>\n",
       "    <tr>\n",
       "      <th>2</th>\n",
       "      <td>1.330000e+18</td>\n",
       "      <td>@foenixaew Es nojaušu, ka WWE lika viņam iznāk...</td>\n",
       "      <td>2</td>\n",
       "    </tr>\n",
       "    <tr>\n",
       "      <th>3</th>\n",
       "      <td>1.320000e+18</td>\n",
       "      <td>Maksvels droši vien pačurās mājā pirms mūsu nā...</td>\n",
       "      <td>2</td>\n",
       "    </tr>\n",
       "    <tr>\n",
       "      <th>4</th>\n",
       "      <td>1.320000e+18</td>\n",
       "      <td>@msamson56 Esmu pārsteigts. KĀ cilvēki var atb...</td>\n",
       "      <td>2</td>\n",
       "    </tr>\n",
       "  </tbody>\n",
       "</table>\n",
       "</div>"
      ],
      "text/plain": [
       "             id                                   message_lv_tilde  label\n",
       "0  1.340000e+18  @pilsonenjeff @lauferlaw @donwinslows pa reize...      2\n",
       "1  1.330000e+18  @tkdylan cilvēkiem ir aģentūra. Lins Vuds ir v...      2\n",
       "2  1.330000e+18  @foenixaew Es nojaušu, ka WWE lika viņam iznāk...      2\n",
       "3  1.320000e+18  Maksvels droši vien pačurās mājā pirms mūsu nā...      2\n",
       "4  1.320000e+18  @msamson56 Esmu pārsteigts. KĀ cilvēki var atb...      2"
      ]
     },
     "execution_count": 6,
     "metadata": {},
     "output_type": "execute_result"
    }
   ],
   "source": [
    "df = pd.read_csv('./p_n_n_tilde_lv.csv')\n",
    "df = df[['id', 'message_lv_tilde', 'label']]\n",
    "df.head()"
   ]
  },
  {
   "cell_type": "code",
   "execution_count": null,
   "id": "82da84e1",
   "metadata": {
    "gradient": {
     "editing": false,
     "id": "82da84e1",
     "kernelId": "e8c05c89-6946-4f31-b274-a87286e3e99a"
    }
   },
   "outputs": [],
   "source": [
    "df['label'].value_counts()"
   ]
  },
  {
   "cell_type": "code",
   "execution_count": null,
   "id": "b78b2f8c",
   "metadata": {
    "gradient": {
     "editing": false,
     "execution_count": 12,
     "id": "b78b2f8c",
     "kernelId": "e8c05c89-6946-4f31-b274-a87286e3e99a"
    }
   },
   "outputs": [
    {
     "data": {
      "text/html": [
       "<div>\n",
       "<style scoped>\n",
       "    .dataframe tbody tr th:only-of-type {\n",
       "        vertical-align: middle;\n",
       "    }\n",
       "\n",
       "    .dataframe tbody tr th {\n",
       "        vertical-align: top;\n",
       "    }\n",
       "\n",
       "    .dataframe thead th {\n",
       "        text-align: right;\n",
       "    }\n",
       "</style>\n",
       "<table border=\"1\" class=\"dataframe\">\n",
       "  <thead>\n",
       "    <tr style=\"text-align: right;\">\n",
       "      <th></th>\n",
       "      <th>id</th>\n",
       "      <th>message_lv_tilde</th>\n",
       "      <th>label</th>\n",
       "      <th>data_type</th>\n",
       "      <th>clean_message</th>\n",
       "    </tr>\n",
       "  </thead>\n",
       "  <tbody>\n",
       "    <tr>\n",
       "      <th>0</th>\n",
       "      <td>1.340000e+18</td>\n",
       "      <td>@pilsonenjeff @lauferlaw @donwinslows pa reize...</td>\n",
       "      <td>2</td>\n",
       "      <td>train</td>\n",
       "      <td>MENTION MENTION MENTION pa reizei tādu nav bij...</td>\n",
       "    </tr>\n",
       "    <tr>\n",
       "      <th>1</th>\n",
       "      <td>1.330000e+18</td>\n",
       "      <td>@tkdylan cilvēkiem ir aģentūra. Lins Vuds ir v...</td>\n",
       "      <td>2</td>\n",
       "      <td>train</td>\n",
       "      <td>MENTION cilvēkiem ir aģentūra. Lins Vuds ir va...</td>\n",
       "    </tr>\n",
       "    <tr>\n",
       "      <th>2</th>\n",
       "      <td>1.330000e+18</td>\n",
       "      <td>@foenixaew Es nojaušu, ka WWE lika viņam iznāk...</td>\n",
       "      <td>2</td>\n",
       "      <td>train</td>\n",
       "      <td>MENTION Es nojaušu, ka WWE lika viņam iznākt a...</td>\n",
       "    </tr>\n",
       "    <tr>\n",
       "      <th>3</th>\n",
       "      <td>1.320000e+18</td>\n",
       "      <td>Maksvels droši vien pačurās mājā pirms mūsu nā...</td>\n",
       "      <td>2</td>\n",
       "      <td>train</td>\n",
       "      <td>Maksvels droši vien pačurās mājā pirms mūsu nā...</td>\n",
       "    </tr>\n",
       "    <tr>\n",
       "      <th>4</th>\n",
       "      <td>1.320000e+18</td>\n",
       "      <td>@msamson56 Esmu pārsteigts. KĀ cilvēki var atb...</td>\n",
       "      <td>2</td>\n",
       "      <td>val</td>\n",
       "      <td>MENTION Esmu pārsteigts. KĀ cilvēki var atbals...</td>\n",
       "    </tr>\n",
       "  </tbody>\n",
       "</table>\n",
       "</div>"
      ],
      "text/plain": [
       "             id                                   message_lv_tilde  label  \\\n",
       "0  1.340000e+18  @pilsonenjeff @lauferlaw @donwinslows pa reize...      2   \n",
       "1  1.330000e+18  @tkdylan cilvēkiem ir aģentūra. Lins Vuds ir v...      2   \n",
       "2  1.330000e+18  @foenixaew Es nojaušu, ka WWE lika viņam iznāk...      2   \n",
       "3  1.320000e+18  Maksvels droši vien pačurās mājā pirms mūsu nā...      2   \n",
       "4  1.320000e+18  @msamson56 Esmu pārsteigts. KĀ cilvēki var atb...      2   \n",
       "\n",
       "  data_type                                      clean_message  \n",
       "0     train  MENTION MENTION MENTION pa reizei tādu nav bij...  \n",
       "1     train  MENTION cilvēkiem ir aģentūra. Lins Vuds ir va...  \n",
       "2     train  MENTION Es nojaušu, ka WWE lika viņam iznākt a...  \n",
       "3     train  Maksvels droši vien pačurās mājā pirms mūsu nā...  \n",
       "4       val  MENTION Esmu pārsteigts. KĀ cilvēki var atbals...  "
      ]
     },
     "execution_count": 12,
     "metadata": {},
     "output_type": "execute_result"
    }
   ],
   "source": [
    "newLine =\"\\\\n|\\\\r\"\n",
    "urls = '(https?:\\/\\/(?:www\\.|(?!www))[a-zA-Z0-9][a-zA-Z0-9-]+[a-zA-Z0-9]\\.[^\\s]{2,}|www\\.[a-zA-Z0-9][a-zA-Z0-9-]+[a-zA-Z0-9]\\.[^\\s]{2,}|https?:\\/\\/(?:www\\.|(?!www))[a-zA-Z0-9]+\\.[^\\s]{2,}|www\\.[a-zA-Z0-9]+\\.[^\\s]{2,})'\n",
    "numbers = '\\d+((\\.|\\-)\\d+)?'\n",
    "mentions = '\\B\\@([\\w\\-]+)'\n",
    "hashtag = '#'\n",
    "whitespaces = '\\s+'\n",
    "leadTrailWhitespace = '^\\s+|\\s+?$'\n",
    "\n",
    "df['clean_message'] = df['message_lv_tilde']\n",
    "df['clean_message'] = df['clean_message'].str.replace(newLine,' ',regex=True)\n",
    "df['clean_message'] = df['clean_message'].str.replace(urls,' URL ',regex=True)\n",
    "df['clean_message'] = df['clean_message'].str.replace(mentions,' MENTION ',regex=True)\n",
    "df['clean_message'] = df['clean_message'].str.replace(numbers,' NMBR ',regex=True)\n",
    "df['clean_message'] = df['clean_message'].str.replace(hashtag,' ',regex=True)\n",
    "df['clean_message'] = df['clean_message'].str.replace(whitespaces,' ',regex=True)\n",
    "df['clean_message'] = df['clean_message'].str.replace(leadTrailWhitespace,'',regex=True)\n",
    "\n",
    "df.head()"
   ]
  },
  {
   "cell_type": "markdown",
   "id": "1abc0d24",
   "metadata": {
    "gradient": {
     "editing": false,
     "id": "1abc0d24",
     "kernelId": "e8c05c89-6946-4f31-b274-a87286e3e99a"
    }
   },
   "source": [
    "# Train, validate split"
   ]
  },
  {
   "cell_type": "code",
   "execution_count": null,
   "id": "c1b2abc1",
   "metadata": {
    "gradient": {
     "editing": false,
     "execution_count": 13,
     "id": "c1b2abc1",
     "kernelId": "e8c05c89-6946-4f31-b274-a87286e3e99a"
    }
   },
   "outputs": [],
   "source": [
    "from sklearn.model_selection import train_test_split\n",
    "\n",
    "X_train, X_val, y_train, y_val = train_test_split(df.index.values, \n",
    "                                                  df.label.values, \n",
    "                                                  test_size=0.15, \n",
    "                                                  random_state=42, \n",
    "                                                  stratify=df.label.values)"
   ]
  },
  {
   "cell_type": "code",
   "execution_count": null,
   "id": "051783f5",
   "metadata": {
    "gradient": {
     "editing": false,
     "execution_count": 14,
     "id": "051783f5",
     "kernelId": "e8c05c89-6946-4f31-b274-a87286e3e99a"
    }
   },
   "outputs": [
    {
     "data": {
      "text/html": [
       "<div>\n",
       "<style scoped>\n",
       "    .dataframe tbody tr th:only-of-type {\n",
       "        vertical-align: middle;\n",
       "    }\n",
       "\n",
       "    .dataframe tbody tr th {\n",
       "        vertical-align: top;\n",
       "    }\n",
       "\n",
       "    .dataframe thead th {\n",
       "        text-align: right;\n",
       "    }\n",
       "</style>\n",
       "<table border=\"1\" class=\"dataframe\">\n",
       "  <thead>\n",
       "    <tr style=\"text-align: right;\">\n",
       "      <th></th>\n",
       "      <th></th>\n",
       "      <th>id</th>\n",
       "      <th>message_lv_tilde</th>\n",
       "      <th>clean_message</th>\n",
       "    </tr>\n",
       "    <tr>\n",
       "      <th>label</th>\n",
       "      <th>data_type</th>\n",
       "      <th></th>\n",
       "      <th></th>\n",
       "      <th></th>\n",
       "    </tr>\n",
       "  </thead>\n",
       "  <tbody>\n",
       "    <tr>\n",
       "      <th rowspan=\"2\" valign=\"top\">0</th>\n",
       "      <th>train</th>\n",
       "      <td>65474</td>\n",
       "      <td>65474</td>\n",
       "      <td>65474</td>\n",
       "    </tr>\n",
       "    <tr>\n",
       "      <th>val</th>\n",
       "      <td>11554</td>\n",
       "      <td>11554</td>\n",
       "      <td>11554</td>\n",
       "    </tr>\n",
       "    <tr>\n",
       "      <th rowspan=\"2\" valign=\"top\">1</th>\n",
       "      <th>train</th>\n",
       "      <td>44195</td>\n",
       "      <td>44195</td>\n",
       "      <td>44195</td>\n",
       "    </tr>\n",
       "    <tr>\n",
       "      <th>val</th>\n",
       "      <td>7799</td>\n",
       "      <td>7799</td>\n",
       "      <td>7799</td>\n",
       "    </tr>\n",
       "    <tr>\n",
       "      <th rowspan=\"2\" valign=\"top\">2</th>\n",
       "      <th>train</th>\n",
       "      <td>38778</td>\n",
       "      <td>38778</td>\n",
       "      <td>38778</td>\n",
       "    </tr>\n",
       "    <tr>\n",
       "      <th>val</th>\n",
       "      <td>6844</td>\n",
       "      <td>6844</td>\n",
       "      <td>6844</td>\n",
       "    </tr>\n",
       "  </tbody>\n",
       "</table>\n",
       "</div>"
      ],
      "text/plain": [
       "                    id  message_lv_tilde  clean_message\n",
       "label data_type                                        \n",
       "0     train      65474             65474          65474\n",
       "      val        11554             11554          11554\n",
       "1     train      44195             44195          44195\n",
       "      val         7799              7799           7799\n",
       "2     train      38778             38778          38778\n",
       "      val         6844              6844           6844"
      ]
     },
     "execution_count": 14,
     "metadata": {},
     "output_type": "execute_result"
    }
   ],
   "source": [
    "df['data_type'] = ['not_set']*df.shape[0]\n",
    "\n",
    "df.loc[X_train, 'data_type'] = 'train'\n",
    "df.loc[X_val, 'data_type'] = 'val'\n",
    "\n",
    "df.groupby(['label', 'data_type']).count()"
   ]
  },
  {
   "cell_type": "code",
   "execution_count": null,
   "id": "a6440d50",
   "metadata": {
    "gradient": {
     "editing": false,
     "id": "a6440d50",
     "kernelId": "e8c05c89-6946-4f31-b274-a87286e3e99a"
    }
   },
   "outputs": [],
   "source": [
    "df.head()"
   ]
  },
  {
   "cell_type": "markdown",
   "id": "97aaa8f7",
   "metadata": {
    "gradient": {
     "editing": false,
     "id": "97aaa8f7",
     "kernelId": "e8c05c89-6946-4f31-b274-a87286e3e99a"
    }
   },
   "source": [
    "## Balance training data"
   ]
  },
  {
   "cell_type": "code",
   "execution_count": null,
   "id": "b6200f02",
   "metadata": {
    "gradient": {
     "editing": false,
     "id": "b6200f02",
     "kernelId": "e8c05c89-6946-4f31-b274-a87286e3e99a"
    }
   },
   "outputs": [],
   "source": [
    "df[df.data_type=='train']['label'].value_counts()"
   ]
  },
  {
   "cell_type": "code",
   "execution_count": null,
   "id": "45b30934",
   "metadata": {
    "gradient": {
     "editing": false,
     "execution_count": 15,
     "id": "45b30934",
     "kernelId": "e8c05c89-6946-4f31-b274-a87286e3e99a"
    }
   },
   "outputs": [
    {
     "data": {
      "text/plain": [
       "0    38778\n",
       "1    38778\n",
       "2    38778\n",
       "Name: label, dtype: int64"
      ]
     },
     "execution_count": 15,
     "metadata": {},
     "output_type": "execute_result"
    }
   ],
   "source": [
    "df_train = [df[df.data_type=='train'].clean_message, df[df.data_type=='train'].label]\n",
    "df_train = pd.concat(df_train, axis=1, keys=[\"clean_message\", \"label\"])\n",
    "\n",
    "df_0 = df_train[df_train['label']==0]\n",
    "df_1 = df_train[df_train['label']==1]\n",
    "df_2 = df_train[df_train['label']==2]\n",
    "\n",
    "df_0_downsampled = df_0.sample(df_2.shape[0], random_state=42)\n",
    "df_1_downsampled = df_1.sample(df_2.shape[0], random_state=42)\n",
    "\n",
    "df_train = pd.concat([df_0_downsampled, df_1_downsampled, df_2])\n",
    "\n",
    "df_train['label'].value_counts()"
   ]
  },
  {
   "cell_type": "code",
   "execution_count": null,
   "id": "52587bce",
   "metadata": {
    "gradient": {
     "editing": false,
     "execution_count": 16,
     "id": "52587bce",
     "kernelId": "e8c05c89-6946-4f31-b274-a87286e3e99a"
    }
   },
   "outputs": [
    {
     "data": {
      "text/html": [
       "<div>\n",
       "<style scoped>\n",
       "    .dataframe tbody tr th:only-of-type {\n",
       "        vertical-align: middle;\n",
       "    }\n",
       "\n",
       "    .dataframe tbody tr th {\n",
       "        vertical-align: top;\n",
       "    }\n",
       "\n",
       "    .dataframe thead th {\n",
       "        text-align: right;\n",
       "    }\n",
       "</style>\n",
       "<table border=\"1\" class=\"dataframe\">\n",
       "  <thead>\n",
       "    <tr style=\"text-align: right;\">\n",
       "      <th></th>\n",
       "      <th>clean_message</th>\n",
       "      <th>label</th>\n",
       "    </tr>\n",
       "  </thead>\n",
       "  <tbody>\n",
       "    <tr>\n",
       "      <th>173549</th>\n",
       "      <td>Negadījums. divas labās joslas bloķētas TriSta...</td>\n",
       "      <td>0</td>\n",
       "    </tr>\n",
       "    <tr>\n",
       "      <th>13774</th>\n",
       "      <td>labākais, ko ab ir pilnībā ielenkusi tukši dzī...</td>\n",
       "      <td>2</td>\n",
       "    </tr>\n",
       "    <tr>\n",
       "      <th>86302</th>\n",
       "      <td>Piemērojot to visu šajā nākamajā nodaļā, uzspi...</td>\n",
       "      <td>1</td>\n",
       "    </tr>\n",
       "    <tr>\n",
       "      <th>77847</th>\n",
       "      <td>MENTION Es cerēju, ka jūs galu galā izdarīsiet...</td>\n",
       "      <td>1</td>\n",
       "    </tr>\n",
       "    <tr>\n",
       "      <th>14670</th>\n",
       "      <td>MENTION MENTION MENTION MENTION MENTION Jā, mē...</td>\n",
       "      <td>2</td>\n",
       "    </tr>\n",
       "  </tbody>\n",
       "</table>\n",
       "</div>"
      ],
      "text/plain": [
       "                                            clean_message  label\n",
       "173549  Negadījums. divas labās joslas bloķētas TriSta...      0\n",
       "13774   labākais, ko ab ir pilnībā ielenkusi tukši dzī...      2\n",
       "86302   Piemērojot to visu šajā nākamajā nodaļā, uzspi...      1\n",
       "77847   MENTION Es cerēju, ka jūs galu galā izdarīsiet...      1\n",
       "14670   MENTION MENTION MENTION MENTION MENTION Jā, mē...      2"
      ]
     },
     "execution_count": 16,
     "metadata": {},
     "output_type": "execute_result"
    }
   ],
   "source": [
    "# Shuffle rows\n",
    "import sklearn\n",
    "\n",
    "df_train = sklearn.utils.shuffle(df_train, random_state=0)\n",
    "\n",
    "df_train.head()"
   ]
  },
  {
   "cell_type": "markdown",
   "id": "a843c4ae",
   "metadata": {
    "gradient": {
     "editing": false,
     "id": "a843c4ae",
     "kernelId": "e8c05c89-6946-4f31-b274-a87286e3e99a"
    }
   },
   "source": [
    "# Tokenizer \"google/electra-small-discriminator\""
   ]
  },
  {
   "cell_type": "code",
   "execution_count": null,
   "id": "43b43559",
   "metadata": {
    "gradient": {
     "editing": false,
     "execution_count": 17,
     "id": "43b43559",
     "kernelId": "e8c05c89-6946-4f31-b274-a87286e3e99a"
    }
   },
   "outputs": [
    {
     "data": {
      "application/vnd.jupyter.widget-view+json": {
       "model_id": "8160823b486147f5ab08355af4d9fe97",
       "version_major": 2,
       "version_minor": 0
      },
      "text/plain": [
       "Downloading:   0%|          | 0.00/29.0 [00:00<?, ?B/s]"
      ]
     },
     "metadata": {},
     "output_type": "display_data",
     "transient": {}
    },
    {
     "data": {
      "application/vnd.jupyter.widget-view+json": {
       "model_id": "51d1238f8ce341fbaecce4775c7080ac",
       "version_major": 2,
       "version_minor": 0
      },
      "text/plain": [
       "Downloading:   0%|          | 0.00/226k [00:00<?, ?B/s]"
      ]
     },
     "metadata": {},
     "output_type": "display_data",
     "transient": {}
    },
    {
     "data": {
      "application/vnd.jupyter.widget-view+json": {
       "model_id": "2c0a6b5ed3ef4bdda6475833393e2e01",
       "version_major": 2,
       "version_minor": 0
      },
      "text/plain": [
       "Downloading:   0%|          | 0.00/455k [00:00<?, ?B/s]"
      ]
     },
     "metadata": {},
     "output_type": "display_data",
     "transient": {}
    },
    {
     "data": {
      "application/vnd.jupyter.widget-view+json": {
       "model_id": "82acb12b67c7439884c03cf13b9051e1",
       "version_major": 2,
       "version_minor": 0
      },
      "text/plain": [
       "Downloading:   0%|          | 0.00/665 [00:00<?, ?B/s]"
      ]
     },
     "metadata": {},
     "output_type": "display_data",
     "transient": {}
    }
   ],
   "source": [
    "tokenizer = ElectraTokenizerFast.from_pretrained(\"google/electra-small-discriminator\", do_lower_case=True)  "
   ]
  },
  {
   "cell_type": "markdown",
   "id": "504acea3",
   "metadata": {
    "gradient": {
     "editing": false,
     "id": "504acea3",
     "kernelId": "e8c05c89-6946-4f31-b274-a87286e3e99a"
    }
   },
   "source": [
    "### Find max length for tokenizer"
   ]
  },
  {
   "cell_type": "code",
   "execution_count": null,
   "id": "e6b28671",
   "metadata": {
    "gradient": {
     "editing": false,
     "execution_count": 19,
     "id": "e6b28671",
     "kernelId": "e8c05c89-6946-4f31-b274-a87286e3e99a"
    }
   },
   "outputs": [
    {
     "data": {
      "image/png": "[encoded data removed]",
      "text/plain": [
       "<Figure size 360x360 with 1 Axes>"
      ]
     },
     "metadata": {
      "needs_background": "light"
     },
     "output_type": "display_data",
     "transient": {}
    }
   ],
   "source": [
    "token_lens = []\n",
    "for txt in list(df.clean_message.values):\n",
    "    tokens = tokenizer.encode(txt, max_length=512, truncation=True)\n",
    "    token_lens.append(len(tokens))\n",
    "    \n",
    "sns.displot(token_lens)\n",
    "plt.xlim([0, 200])\n",
    "plt.xlabel('Token count')\n",
    "plt.show()"
   ]
  },
  {
   "cell_type": "code",
   "execution_count": null,
   "id": "b9e882ae",
   "metadata": {
    "gradient": {
     "editing": false,
     "execution_count": 20,
     "id": "b9e882ae",
     "kernelId": "e8c05c89-6946-4f31-b274-a87286e3e99a"
    }
   },
   "outputs": [],
   "source": [
    "max_length = 170"
   ]
  },
  {
   "cell_type": "markdown",
   "id": "6c6402cf",
   "metadata": {
    "gradient": {
     "editing": false,
     "id": "6c6402cf",
     "kernelId": "e8c05c89-6946-4f31-b274-a87286e3e99a"
    }
   },
   "source": [
    "### Encode messages"
   ]
  },
  {
   "cell_type": "code",
   "execution_count": null,
   "id": "bb945e60",
   "metadata": {
    "gradient": {
     "editing": false,
     "execution_count": 21,
     "id": "bb945e60",
     "kernelId": "e8c05c89-6946-4f31-b274-a87286e3e99a"
    }
   },
   "outputs": [
    {
     "name": "stderr",
     "output_type": "stream",
     "text": [
      "Truncation was not explicitly activated but `max_length` is provided a specific value, please use `truncation=True` to explicitly truncate examples to max length. Defaulting to 'longest_first' truncation strategy. If you encode pairs of sequences (GLUE-style) with the tokenizer you can select this strategy more precisely by providing a specific strategy to `truncation`.\n"
     ]
    },
    {
     "name": "stderr",
     "output_type": "stream",
     "text": [
      "/opt/conda/lib/python3.8/site-packages/transformers/tokenization_utils_base.py:2271: FutureWarning: The `pad_to_max_length` argument is deprecated and will be removed in a future version, use `padding=True` or `padding='longest'` to pad to the longest sequence in the batch, or use `padding='max_length'` to pad to a max length. In this case, you can give a specific length with `max_length` (e.g. `max_length=45`) or leave max_length to None to pad to the maximal input size of the model (e.g. 512 for Bert).\n",
      "  warnings.warn(\n"
     ]
    }
   ],
   "source": [
    "encoded_data_train = tokenizer.batch_encode_plus(\n",
    "    df_train[\"clean_message\"].values.tolist(), \n",
    "    add_special_tokens=True, \n",
    "    return_attention_mask=True, \n",
    "    pad_to_max_length=True, \n",
    "    max_length=max_length, \n",
    "    return_tensors='pt'\n",
    ")\n",
    "\n",
    "encoded_data_val = tokenizer.batch_encode_plus(\n",
    "    df[df.data_type=='val'].clean_message.values.tolist(), \n",
    "    add_special_tokens=True, \n",
    "    return_attention_mask=True, \n",
    "    pad_to_max_length=True, \n",
    "    max_length=max_length, \n",
    "    return_tensors='pt'\n",
    ")\n",
    "\n",
    "\n",
    "input_ids_train = encoded_data_train['input_ids']\n",
    "attention_masks_train = encoded_data_train['attention_mask']\n",
    "labels_train = torch.tensor(df_train.label.values)\n",
    "\n",
    "input_ids_val = encoded_data_val['input_ids']\n",
    "attention_masks_val = encoded_data_val['attention_mask']\n",
    "labels_val = torch.tensor(df[df.data_type=='val'].label.values)\n",
    "\n",
    "dataset_train = TensorDataset(input_ids_train, attention_masks_train, labels_train)\n",
    "dataset_val = TensorDataset(input_ids_val, attention_masks_val, labels_val)"
   ]
  },
  {
   "cell_type": "code",
   "execution_count": null,
   "id": "9c13eef0",
   "metadata": {
    "gradient": {
     "editing": false,
     "execution_count": 22,
     "id": "9c13eef0",
     "kernelId": "e8c05c89-6946-4f31-b274-a87286e3e99a"
    }
   },
   "outputs": [
    {
     "data": {
      "text/plain": [
       "(116334, 26197)"
      ]
     },
     "execution_count": 22,
     "metadata": {},
     "output_type": "execute_result"
    }
   ],
   "source": [
    "len(dataset_train), len(dataset_val)"
   ]
  },
  {
   "cell_type": "markdown",
   "id": "e11af821",
   "metadata": {
    "gradient": {
     "editing": false,
     "id": "e11af821",
     "kernelId": "e8c05c89-6946-4f31-b274-a87286e3e99a"
    }
   },
   "source": [
    "# Model \"google/electra-small-discriminator\""
   ]
  },
  {
   "cell_type": "code",
   "execution_count": null,
   "id": "d3a7ffbe",
   "metadata": {
    "gradient": {
     "editing": false,
     "execution_count": 23,
     "id": "d3a7ffbe",
     "kernelId": "e8c05c89-6946-4f31-b274-a87286e3e99a"
    }
   },
   "outputs": [
    {
     "data": {
      "application/vnd.jupyter.widget-view+json": {
       "model_id": "710b0f85ef1a423287607fddc0590881",
       "version_major": 2,
       "version_minor": 0
      },
      "text/plain": [
       "Downloading:   0%|          | 0.00/51.7M [00:00<?, ?B/s]"
      ]
     },
     "metadata": {},
     "output_type": "display_data",
     "transient": {}
    },
    {
     "name": "stderr",
     "output_type": "stream",
     "text": [
      "Some weights of the model checkpoint at google/electra-small-discriminator were not used when initializing ElectraForSequenceClassification: ['discriminator_predictions.dense.bias', 'discriminator_predictions.dense_prediction.bias', 'discriminator_predictions.dense_prediction.weight', 'discriminator_predictions.dense.weight']\n",
      "- This IS expected if you are initializing ElectraForSequenceClassification from the checkpoint of a model trained on another task or with another architecture (e.g. initializing a BertForSequenceClassification model from a BertForPreTraining model).\n",
      "- This IS NOT expected if you are initializing ElectraForSequenceClassification from the checkpoint of a model that you expect to be exactly identical (initializing a BertForSequenceClassification model from a BertForSequenceClassification model).\n"
     ]
    },
    {
     "name": "stderr",
     "output_type": "stream",
     "text": [
      "Some weights of ElectraForSequenceClassification were not initialized from the model checkpoint at google/electra-small-discriminator and are newly initialized: ['classifier.dense.weight', 'classifier.dense.bias', 'classifier.out_proj.bias', 'classifier.out_proj.weight']\n",
      "You should probably TRAIN this model on a down-stream task to be able to use it for predictions and inference.\n"
     ]
    }
   ],
   "source": [
    "model = ElectraForSequenceClassification.from_pretrained(\"google/electra-small-discriminator\", num_labels = 3)"
   ]
  },
  {
   "cell_type": "code",
   "execution_count": null,
   "id": "c906d1bd",
   "metadata": {
    "gradient": {
     "editing": false,
     "execution_count": 24,
     "id": "c906d1bd",
     "kernelId": "e8c05c89-6946-4f31-b274-a87286e3e99a"
    }
   },
   "outputs": [],
   "source": [
    "from torch.utils.data import DataLoader, RandomSampler, SequentialSampler\n",
    "\n",
    "batch_size = 32\n",
    "\n",
    "dataloader_train = DataLoader(dataset_train, sampler=RandomSampler(dataset_train), batch_size=batch_size)\n",
    "dataloader_validation = DataLoader(dataset_val, sampler=SequentialSampler(dataset_val), batch_size=batch_size)"
   ]
  },
  {
   "cell_type": "code",
   "execution_count": null,
   "id": "16189453",
   "metadata": {
    "gradient": {
     "editing": false,
     "execution_count": 25,
     "id": "16189453",
     "kernelId": "e8c05c89-6946-4f31-b274-a87286e3e99a"
    }
   },
   "outputs": [],
   "source": [
    "from transformers import get_linear_schedule_with_warmup\n",
    "\n",
    "optimizer = torch.optim.AdamW(model.parameters(), lr=1e-5, eps=1e-8)"
   ]
  },
  {
   "cell_type": "code",
   "execution_count": null,
   "id": "61d95dfa",
   "metadata": {
    "gradient": {
     "editing": false,
     "execution_count": 26,
     "id": "61d95dfa",
     "kernelId": "e8c05c89-6946-4f31-b274-a87286e3e99a"
    }
   },
   "outputs": [],
   "source": [
    "epochs = 1\n",
    "\n",
    "scheduler = get_linear_schedule_with_warmup(optimizer, num_warmup_steps=0, num_training_steps=len(dataloader_train)*epochs)"
   ]
  },
  {
   "cell_type": "code",
   "execution_count": null,
   "id": "9bf40782",
   "metadata": {
    "gradient": {
     "editing": false,
     "execution_count": 27,
     "id": "9bf40782",
     "kernelId": "e8c05c89-6946-4f31-b274-a87286e3e99a"
    }
   },
   "outputs": [],
   "source": [
    "# Function to measure weighted F1\n",
    "\n",
    "from sklearn.metrics import f1_score\n",
    "\n",
    "def f1_score_func(preds, labels):\n",
    "    preds_flat = np.argmax(preds, axis=1).flatten()\n",
    "    labels_flat = labels.flatten()\n",
    "    return f1_score(labels_flat, preds_flat, average='weighted')"
   ]
  },
  {
   "cell_type": "code",
   "execution_count": null,
   "id": "b5fc030b",
   "metadata": {
    "gradient": {
     "editing": false,
     "execution_count": 28,
     "id": "b5fc030b",
     "kernelId": "e8c05c89-6946-4f31-b274-a87286e3e99a"
    }
   },
   "outputs": [
    {
     "name": "stdout",
     "output_type": "stream",
     "text": [
      "cuda\n"
     ]
    }
   ],
   "source": [
    "import random\n",
    "\n",
    "seed_val = 17\n",
    "random.seed(seed_val)\n",
    "np.random.seed(seed_val)\n",
    "torch.manual_seed(seed_val)\n",
    "torch.cuda.manual_seed_all(seed_val)\n",
    "\n",
    "device = torch.device('cuda' if torch.cuda.is_available() else 'cpu')\n",
    "# device = torch.device('cpu')\n",
    "model.to(device)\n",
    "print(device)"
   ]
  },
  {
   "cell_type": "code",
   "execution_count": null,
   "id": "c05ccb3d",
   "metadata": {
    "gradient": {
     "editing": false,
     "execution_count": 29,
     "id": "c05ccb3d",
     "kernelId": "e8c05c89-6946-4f31-b274-a87286e3e99a"
    }
   },
   "outputs": [],
   "source": [
    "# Function to evaluate model. Returns average validation loss, predictions, true values\n",
    "\n",
    "def evaluate(dataloader_val):\n",
    "\n",
    "    model.eval()\n",
    "    \n",
    "    loss_val_total = 0\n",
    "    predictions, true_vals = [], []\n",
    "    \n",
    "    progress_bar = tqdm(dataloader_val, desc='Validating:', leave=False, disable=False)\n",
    "    for batch in progress_bar:\n",
    "        \n",
    "        batch = tuple(b.to(device) for b in batch)\n",
    "        \n",
    "        inputs = {'input_ids':      batch[0],\n",
    "                  'attention_mask': batch[1],\n",
    "                  'labels':         batch[2],\n",
    "                 }\n",
    "\n",
    "        with torch.no_grad():        \n",
    "            outputs = model(**inputs)\n",
    "            \n",
    "        loss = outputs[0]\n",
    "        logits = outputs[1]\n",
    "        loss_val_total += loss.item()\n",
    "\n",
    "        logits = logits.detach().cpu().numpy()\n",
    "        label_ids = inputs['labels'].cpu().numpy()\n",
    "        predictions.append(logits)\n",
    "        true_vals.append(label_ids)\n",
    "    \n",
    "    loss_val_avg = loss_val_total/len(dataloader_val) \n",
    "    \n",
    "    predictions = np.concatenate(predictions, axis=0)\n",
    "    true_vals = np.concatenate(true_vals, axis=0)\n",
    "            \n",
    "    return loss_val_avg, predictions, true_vals"
   ]
  },
  {
   "cell_type": "markdown",
   "id": "ea0ef371",
   "metadata": {
    "gradient": {
     "editing": false,
     "id": "ea0ef371",
     "kernelId": "e8c05c89-6946-4f31-b274-a87286e3e99a"
    }
   },
   "source": [
    "# Train"
   ]
  },
  {
   "cell_type": "code",
   "execution_count": null,
   "id": "81fe5ae8",
   "metadata": {
    "gradient": {
     "editing": false,
     "execution_count": 30,
     "id": "81fe5ae8",
     "kernelId": "e8c05c89-6946-4f31-b274-a87286e3e99a"
    }
   },
   "outputs": [
    {
     "name": "stderr",
     "output_type": "stream",
     "text": [
      "\r",
      "  0%|          | 0/1 [00:00<?, ?it/s]"
     ]
    },
    {
     "name": "stderr",
     "output_type": "stream",
     "text": [
      "\n"
     ]
    },
    {
     "name": "stderr",
     "output_type": "stream",
     "text": [
      "\r",
      "Epoch 1:   0%|          | 0/3636 [00:00<?, ?it/s]"
     ]
    },
    {
     "name": "stderr",
     "output_type": "stream",
     "text": [
      "\u001b[A"
     ]
    },
    {
     "name": "stderr",
     "output_type": "stream",
     "text": [
      "\n"
     ]
    },
    {
     "name": "stderr",
     "output_type": "stream",
     "text": [
      "\r",
      "Epoch 1:   0%|          | 0/3636 [00:02<?, ?it/s, training_loss=0.368]"
     ]
    },
    {
     "name": "stderr",
     "output_type": "stream",
     "text": [
      "\u001b[A"
     ]
    },
    {
     "name": "stderr",
     "output_type": "stream",
     "text": [
      "\n"
     ]
    },
    {
     "name": "stderr",
     "output_type": "stream",
     "text": [
      "\r",
      "Epoch 1:   0%|          | 1/3636 [00:02<2:09:34,  2.14s/it, training_loss=0.368]"
     ]
    },
    {
     "name": "stderr",
     "output_type": "stream",
     "text": [
      "\u001b[A"
     ]
    },
    {
     "name": "stderr",
     "output_type": "stream",
     "text": [
      "\n"
     ]
    },
    {
     "name": "stderr",
     "output_type": "stream",
     "text": [
      "\r",
      "Epoch 1:   0%|          | 1/3636 [00:02<2:09:34,  2.14s/it, training_loss=0.369]"
     ]
    },
    {
     "name": "stderr",
     "output_type": "stream",
     "text": [
      "\u001b[A"
     ]
    },
    {
     "name": "stderr",
     "output_type": "stream",
     "text": [
      "\n"
     ]
    },
    {
     "name": "stderr",
     "output_type": "stream",
     "text": [
      "\r",
      "Epoch 1:   0%|          | 2/3636 [00:02<1:06:28,  1.10s/it, training_loss=0.369]"
     ]
    },
    {
     "name": "stderr",
     "output_type": "stream",
     "text": [
      "\u001b[A"
     ]
    },
    {
     "name": "stderr",
     "output_type": "stream",
     "text": [
      "\n"
     ]
    },
    {
     "name": "stderr",
     "output_type": "stream",
     "text": [
      "\r",
      "Epoch 1:   0%|          | 2/3636 [00:02<1:06:28,  1.10s/it, training_loss=0.363]"
     ]
    },
    {
     "name": "stderr",
     "output_type": "stream",
     "text": [
      "\u001b[A"
     ]
    },
    {
     "name": "stderr",
     "output_type": "stream",
     "text": [
      "\n"
     ]
    },
    {
     "name": "stderr",
     "output_type": "stream",
     "text": [
      "\r",
      "Epoch 1:   0%|          | 3/3636 [00:02<46:17,  1.31it/s, training_loss=0.363]  "
     ]
    },
    {
     "name": "stderr",
     "output_type": "stream",
     "text": [
      "\u001b[A"
     ]
    },
    {
     "name": "stderr",
     "output_type": "stream",
     "text": [
      "\n"
     ]
    },
    {
     "name": "stderr",
     "output_type": "stream",
     "text": [
      "\r",
      "Epoch 1:   0%|          | 3/3636 [00:03<46:17,  1.31it/s, training_loss=0.368]"
     ]
    },
    {
     "name": "stderr",
     "output_type": "stream",
     "text": [
      "\u001b[A"
     ]
    },
    {
     "name": "stderr",
     "output_type": "stream",
     "text": [
      "\n"
     ]
    },
    {
     "name": "stderr",
     "output_type": "stream",
     "text": [
      "\r",
      "Epoch 1:   0%|          | 4/3636 [00:03<36:52,  1.64it/s, training_loss=0.368]"
     ]
    },
    {
     "name": "stderr",
     "output_type": "stream",
     "text": [
      "\u001b[A"
     ]
    },
    {
     "name": "stderr",
     "output_type": "stream",
     "text": [
      "\n"
     ]
    },
    {
     "name": "stderr",
     "output_type": "stream",
     "text": [
      "\r",
      "Epoch 1:   0%|          | 4/3636 [00:03<36:52,  1.64it/s, training_loss=0.366]"
     ]
    },
    {
     "name": "stderr",
     "output_type": "stream",
     "text": [
      "\u001b[A"
     ]
    },
    {
     "name": "stderr",
     "output_type": "stream",
     "text": [
      "\n"
     ]
    },
    {
     "name": "stderr",
     "output_type": "stream",
     "text": [
      "\r",
      "Epoch 1:   0%|          | 5/3636 [00:03<31:55,  1.90it/s, training_loss=0.366]"
     ]
    },
    {
     "name": "stderr",
     "output_type": "stream",
     "text": [
      "\u001b[A"
     ]
    },
    {
     "name": "stderr",
     "output_type": "stream",
     "text": [
      "\n"
     ]
    },
    {
     "name": "stderr",
     "output_type": "stream",
     "text": [
      "\r",
      "Epoch 1:   0%|          | 5/3636 [00:04<31:55,  1.90it/s, training_loss=0.368]"
     ]
    },
    {
     "name": "stderr",
     "output_type": "stream",
     "text": [
      "\u001b[A"
     ]
    },
    {
     "name": "stderr",
     "output_type": "stream",
     "text": [
      "\n"
     ]
    },
    {
     "name": "stderr",
     "output_type": "stream",
     "text": [
      "\r",
      "Epoch 1:   0%|          | 6/3636 [00:04<28:43,  2.11it/s, training_loss=0.368]"
     ]
    },
    {
     "name": "stderr",
     "output_type": "stream",
     "text": [
      "\u001b[A"
     ]
    },
    {
     "name": "stderr",
     "output_type": "stream",
     "text": [
      "\n"
     ]
    },
    {
     "name": "stderr",
     "output_type": "stream",
     "text": [
      "\r",
      "Epoch 1:   0%|          | 6/3636 [00:04<28:43,  2.11it/s, training_loss=0.367]"
     ]
    },
    {
     "name": "stderr",
     "output_type": "stream",
     "text": [
      "\u001b[A"
     ]
    },
    {
     "name": "stderr",
     "output_type": "stream",
     "text": [
      "\n"
     ]
    },
    {
     "name": "stderr",
     "output_type": "stream",
     "text": [
      "\r",
      "Epoch 1:   0%|          | 7/3636 [00:04<26:39,  2.27it/s, training_loss=0.367]"
     ]
    },
    {
     "name": "stderr",
     "output_type": "stream",
     "text": [
      "\u001b[A"
     ]
    },
    {
     "name": "stderr",
     "output_type": "stream",
     "text": [
      "\n"
     ]
    },
    {
     "name": "stderr",
     "output_type": "stream",
     "text": [
      "\r",
      "Epoch 1:   0%|          | 7/3636 [00:04<26:39,  2.27it/s, training_loss=0.364]"
     ]
    },
    {
     "name": "stderr",
     "output_type": "stream",
     "text": [
      "\u001b[A"
     ]
    },
    {
     "name": "stderr",
     "output_type": "stream",
     "text": [
      "\n"
     ]
    },
    {
     "name": "stderr",
     "output_type": "stream",
     "text": [
      "\r",
      "Epoch 1:   0%|          | 8/3636 [00:04<25:15,  2.39it/s, training_loss=0.364]"
     ]
    },
    {
     "name": "stderr",
     "output_type": "stream",
     "text": [
      "\u001b[A"
     ]
    },
    {
     "name": "stderr",
     "output_type": "stream",
     "text": [
      "\n"
     ]
    },
    {
     "name": "stderr",
     "output_type": "stream",
     "text": [
      "\r",
      "Epoch 1:   0%|          | 8/3636 [00:05<25:15,  2.39it/s, training_loss=0.366]"
     ]
    },
    {
     "name": "stderr",
     "output_type": "stream",
     "text": [
      "\u001b[A"
     ]
    },
    {
     "name": "stderr",
     "output_type": "stream",
     "text": [
      "\n"
     ]
    },
    {
     "name": "stderr",
     "output_type": "stream",
     "text": [
      "\r",
      "Epoch 1:   0%|          | 9/3636 [00:05<24:26,  2.47it/s, training_loss=0.366]"
     ]
    },
    {
     "name": "stderr",
     "output_type": "stream",
     "text": [
      "\u001b[A"
     ]
    },
    {
     "name": "stderr",
     "output_type": "stream",
     "text": [
      "\n"
     ]
    },
    {
     "name": "stderr",
     "output_type": "stream",
     "text": [
      "\r",
      "Epoch 1:   0%|          | 9/3636 [00:05<24:26,  2.47it/s, training_loss=0.365]"
     ]
    },
    {
     "name": "stderr",
     "output_type": "stream",
     "text": [
      "\u001b[A"
     ]
    },
    {
     "name": "stderr",
     "output_type": "stream",
     "text": [
      "\n"
     ]
    },
    {
     "name": "stderr",
     "output_type": "stream",
     "text": [
      "\r",
      "Epoch 1:   0%|          | 10/3636 [00:05<23:49,  2.54it/s, training_loss=0.365]"
     ]
    },
    {
     "name": "stderr",
     "output_type": "stream",
     "text": [
      "\u001b[A"
     ]
    },
    {
     "name": "stderr",
     "output_type": "stream",
     "text": [
      "\n"
     ]
    },
    {
     "name": "stderr",
     "output_type": "stream",
     "text": [
      "\r",
      "Epoch 1:   0%|          | 10/3636 [00:05<23:49,  2.54it/s, training_loss=0.367]"
     ]
    },
    {
     "name": "stderr",
     "output_type": "stream",
     "text": [
      "\u001b[A"
     ]
    },
    {
     "name": "stderr",
     "output_type": "stream",
     "text": [
      "\n"
     ]
    },
    {
     "name": "stderr",
     "output_type": "stream",
     "text": [
      "\r",
      "Epoch 1:   0%|          | 11/3636 [00:05<23:21,  2.59it/s, training_loss=0.367]"
     ]
    },
    {
     "name": "stderr",
     "output_type": "stream",
     "text": [
      "\u001b[A"
     ]
    },
    {
     "name": "stderr",
     "output_type": "stream",
     "text": [
      "\n"
     ]
    },
    {
     "name": "stderr",
     "output_type": "stream",
     "text": [
      "\r",
      "Epoch 1:   0%|          | 11/3636 [00:06<23:21,  2.59it/s, training_loss=0.368]"
     ]
    },
    {
     "name": "stderr",
     "output_type": "stream",
     "text": [
      "\u001b[A"
     ]
    },
    {
     "name": "stderr",
     "output_type": "stream",
     "text": [
      "\n"
     ]
    },
    {
     "name": "stderr",
     "output_type": "stream",
     "text": [
      "\r",
      "Epoch 1:   0%|          | 12/3636 [00:06<23:02,  2.62it/s, training_loss=0.368]"
     ]
    },
    {
     "name": "stderr",
     "output_type": "stream",
     "text": [
      "\u001b[A"
     ]
    },
    {
     "name": "stderr",
     "output_type": "stream",
     "text": [
      "\n"
     ]
    },
    {
     "name": "stderr",
     "output_type": "stream",
     "text": [
      "\r",
      "Epoch 1:   0%|          | 12/3636 [00:06<23:02,  2.62it/s, training_loss=0.367]"
     ]
    },
    {
     "name": "stderr",
     "output_type": "stream",
     "text": [
      "\u001b[A"
     ]
    },
    {
     "name": "stderr",
     "output_type": "stream",
     "text": [
      "\n"
     ]
    },
    {
     "name": "stderr",
     "output_type": "stream",
     "text": [
      "\r",
      "Epoch 1:   0%|          | 13/3636 [00:06<22:50,  2.64it/s, training_loss=0.367]"
     ]
    },
    {
     "name": "stderr",
     "output_type": "stream",
     "text": [
      "\u001b[A"
     ]
    },
    {
     "name": "stderr",
     "output_type": "stream",
     "text": [
      "\n"
     ]
    },
    {
     "name": "stderr",
     "output_type": "stream",
     "text": [
      "\r",
      "Epoch 1:   0%|          | 13/3636 [00:06<22:50,  2.64it/s, training_loss=0.365]"
     ]
    },
    {
     "name": "stderr",
     "output_type": "stream",
     "text": [
      "\u001b[A"
     ]
    },
    {
     "name": "stderr",
     "output_type": "stream",
     "text": [
      "\n"
     ]
    },
    {
     "name": "stderr",
     "output_type": "stream",
     "text": [
      "\r",
      "Epoch 1:   0%|          | 14/3636 [00:06<22:46,  2.65it/s, training_loss=0.365]"
     ]
    },
    {
     "name": "stderr",
     "output_type": "stream",
     "text": [
      "\u001b[A"
     ]
    },
    {
     "name": "stderr",
     "output_type": "stream",
     "text": [
      "\n"
     ]
    },
    {
     "name": "stderr",
     "output_type": "stream",
     "text": [
      "\r",
      "Epoch 1:   0%|          | 14/3636 [00:07<22:46,  2.65it/s, training_loss=0.366]"
     ]
    },
    {
     "name": "stderr",
     "output_type": "stream",
     "text": [
      "\u001b[A"
     ]
    },
    {
     "name": "stderr",
     "output_type": "stream",
     "text": [
      "\n"
     ]
    },
    {
     "name": "stderr",
     "output_type": "stream",
     "text": [
      "\r",
      "Epoch 1:   0%|          | 15/3636 [00:07<22:36,  2.67it/s, training_loss=0.366]"
     ]
    },
    {
     "name": "stderr",
     "output_type": "stream",
     "text": [
      "\u001b[A"
     ]
    },
    {
     "name": "stderr",
     "output_type": "stream",
     "text": [
      "\n"
     ]
    },
    {
     "name": "stderr",
     "output_type": "stream",
     "text": [
      "\r",
      "Epoch 1:   0%|          | 15/3636 [00:07<22:36,  2.67it/s, training_loss=0.367]"
     ]
    },
    {
     "name": "stderr",
     "output_type": "stream",
     "text": [
      "\u001b[A"
     ]
    },
    {
     "name": "stderr",
     "output_type": "stream",
     "text": [
      "\n"
     ]
    },
    {
     "name": "stderr",
     "output_type": "stream",
     "text": [
      "\r",
      "Epoch 1:   0%|          | 16/3636 [00:07<22:28,  2.68it/s, training_loss=0.367]"
     ]
    },
    {
     "name": "stderr",
     "output_type": "stream",
     "text": [
      "\u001b[A"
     ]
    },
    {
     "name": "stderr",
     "output_type": "stream",
     "text": [
      "\n"
     ]
    },
    {
     "name": "stderr",
     "output_type": "stream",
     "text": [
      "\r",
      "Epoch 1:   0%|          | 16/3636 [00:08<22:28,  2.68it/s, training_loss=0.368]"
     ]
    },
    {
     "name": "stderr",
     "output_type": "stream",
     "text": [
      "\u001b[A"
     ]
    },
    {
     "name": "stderr",
     "output_type": "stream",
     "text": [
      "\n"
     ]
    },
    {
     "name": "stderr",
     "output_type": "stream",
     "text": [
      "\r",
      "Epoch 1:   0%|          | 17/3636 [00:08<22:22,  2.70it/s, training_loss=0.368]"
     ]
    },
    {
     "name": "stderr",
     "output_type": "stream",
     "text": [
      "\u001b[A"
     ]
    },
    {
     "name": "stderr",
     "output_type": "stream",
     "text": [
      "\n"
     ]
    },
    {
     "name": "stderr",
     "output_type": "stream",
     "text": [
      "\r",
      "Epoch 1:   0%|          | 17/3636 [00:08<22:22,  2.70it/s, training_loss=0.365]"
     ]
    },
    {
     "name": "stderr",
     "output_type": "stream",
     "text": [
      "\u001b[A"
     ]
    },
    {
     "name": "stderr",
     "output_type": "stream",
     "text": [
      "\n"
     ]
    },
    {
     "name": "stderr",
     "output_type": "stream",
     "text": [
      "\r",
      "Epoch 1:   0%|          | 18/3636 [00:08<22:19,  2.70it/s, training_loss=0.365]"
     ]
    },
    {
     "name": "stderr",
     "output_type": "stream",
     "text": [
      "\u001b[A"
     ]
    },
    {
     "name": "stderr",
     "output_type": "stream",
     "text": [
      "\n"
     ]
    },
    {
     "name": "stderr",
     "output_type": "stream",
     "text": [
      "\r",
      "Epoch 1:   0%|          | 18/3636 [00:08<22:19,  2.70it/s, training_loss=0.365]"
     ]
    },
    {
     "name": "stderr",
     "output_type": "stream",
     "text": [
      "\u001b[A"
     ]
    },
    {
     "name": "stderr",
     "output_type": "stream",
     "text": [
      "\n"
     ]
    },
    {
     "name": "stderr",
     "output_type": "stream",
     "text": [
      "\r",
      "Epoch 1:   1%|          | 19/3636 [00:08<22:18,  2.70it/s, training_loss=0.365]"
     ]
    },
    {
     "name": "stderr",
     "output_type": "stream",
     "text": [
      "\u001b[A"
     ]
    },
    {
     "name": "stderr",
     "output_type": "stream",
     "text": [
      "\n"
     ]
    },
    {
     "name": "stderr",
     "output_type": "stream",
     "text": [
      "\r",
      "Epoch 1:   1%|          | 19/3636 [00:09<22:18,  2.70it/s, training_loss=0.365]"
     ]
    },
    {
     "name": "stderr",
     "output_type": "stream",
     "text": [
      "\u001b[A"
     ]
    },
    {
     "name": "stderr",
     "output_type": "stream",
     "text": [
      "\n"
     ]
    },
    {
     "name": "stderr",
     "output_type": "stream",
     "text": [
      "\r",
      "Epoch 1:   1%|          | 20/3636 [00:09<22:19,  2.70it/s, training_loss=0.365]"
     ]
    },
    {
     "name": "stderr",
     "output_type": "stream",
     "text": [
      "\u001b[A"
     ]
    },
    {
     "name": "stderr",
     "output_type": "stream",
     "text": [
      "\n"
     ]
    },
    {
     "name": "stderr",
     "output_type": "stream",
     "text": [
      "\r",
      "Epoch 1:   1%|          | 20/3636 [00:09<22:19,  2.70it/s, training_loss=0.365]"
     ]
    },
    {
     "name": "stderr",
     "output_type": "stream",
     "text": [
      "\u001b[A"
     ]
    },
    {
     "name": "stderr",
     "output_type": "stream",
     "text": [
      "\n"
     ]
    },
    {
     "name": "stderr",
     "output_type": "stream",
     "text": [
      "\r",
      "Epoch 1:   1%|          | 21/3636 [00:09<22:16,  2.70it/s, training_loss=0.365]"
     ]
    },
    {
     "name": "stderr",
     "output_type": "stream",
     "text": [
      "\u001b[A"
     ]
    },
    {
     "name": "stderr",
     "output_type": "stream",
     "text": [
      "\n"
     ]
    },
    {
     "name": "stderr",
     "output_type": "stream",
     "text": [
      "\r",
      "Epoch 1:   1%|          | 21/3636 [00:09<22:16,  2.70it/s, training_loss=0.366]"
     ]
    },
    {
     "name": "stderr",
     "output_type": "stream",
     "text": [
      "\u001b[A"
     ]
    },
    {
     "name": "stderr",
     "output_type": "stream",
     "text": [
      "\n"
     ]
    },
    {
     "name": "stderr",
     "output_type": "stream",
     "text": [
      "\r",
      "Epoch 1:   1%|          | 22/3636 [00:09<22:13,  2.71it/s, training_loss=0.366]"
     ]
    },
    {
     "name": "stderr",
     "output_type": "stream",
     "text": [
      "\u001b[A"
     ]
    },
    {
     "name": "stderr",
     "output_type": "stream",
     "text": [
      "\n"
     ]
    },
    {
     "name": "stderr",
     "output_type": "stream",
     "text": [
      "\r",
      "Epoch 1:   1%|          | 22/3636 [00:10<22:13,  2.71it/s, training_loss=0.365]"
     ]
    },
    {
     "name": "stderr",
     "output_type": "stream",
     "text": [
      "\u001b[A"
     ]
    },
    {
     "name": "stderr",
     "output_type": "stream",
     "text": [
      "\n"
     ]
    },
    {
     "name": "stderr",
     "output_type": "stream",
     "text": [
      "\r",
      "Epoch 1:   1%|          | 23/3636 [00:10<22:10,  2.72it/s, training_loss=0.365]"
     ]
    },
    {
     "name": "stderr",
     "output_type": "stream",
     "text": [
      "\u001b[A"
     ]
    },
    {
     "name": "stderr",
     "output_type": "stream",
     "text": [
      "\n"
     ]
    },
    {
     "name": "stderr",
     "output_type": "stream",
     "text": [
      "\r",
      "Epoch 1:   1%|          | 23/3636 [00:10<22:10,  2.72it/s, training_loss=0.367]"
     ]
    },
    {
     "name": "stderr",
     "output_type": "stream",
     "text": [
      "\u001b[A"
     ]
    },
    {
     "name": "stderr",
     "output_type": "stream",
     "text": [
      "\n"
     ]
    },
    {
     "name": "stderr",
     "output_type": "stream",
     "text": [
      "\r",
      "Epoch 1:   1%|          | 24/3636 [00:10<22:07,  2.72it/s, training_loss=0.367]"
     ]
    },
    {
     "name": "stderr",
     "output_type": "stream",
     "text": [
      "\u001b[A"
     ]
    },
    {
     "name": "stderr",
     "output_type": "stream",
     "text": [
      "\n"
     ]
    },
    {
     "name": "stderr",
     "output_type": "stream",
     "text": [
      "\r",
      "Epoch 1:   1%|          | 24/3636 [00:11<22:07,  2.72it/s, training_loss=0.365]"
     ]
    },
    {
     "name": "stderr",
     "output_type": "stream",
     "text": [
      "\u001b[A"
     ]
    },
    {
     "name": "stderr",
     "output_type": "stream",
     "text": [
      "\n"
     ]
    },
    {
     "name": "stderr",
     "output_type": "stream",
     "text": [
      "\r",
      "Epoch 1:   1%|          | 25/3636 [00:11<22:03,  2.73it/s, training_loss=0.365]"
     ]
    },
    {
     "name": "stderr",
     "output_type": "stream",
     "text": [
      "\u001b[A"
     ]
    },
    {
     "name": "stderr",
     "output_type": "stream",
     "text": [
      "\n"
     ]
    },
    {
     "name": "stderr",
     "output_type": "stream",
     "text": [
      "\r",
      "Epoch 1:   1%|          | 25/3636 [00:11<22:03,  2.73it/s, training_loss=0.369]"
     ]
    },
    {
     "name": "stderr",
     "output_type": "stream",
     "text": [
      "\u001b[A"
     ]
    },
    {
     "name": "stderr",
     "output_type": "stream",
     "text": [
      "\n"
     ]
    },
    {
     "name": "stderr",
     "output_type": "stream",
     "text": [
      "\r",
      "Epoch 1:   1%|          | 26/3636 [00:11<22:21,  2.69it/s, training_loss=0.369]"
     ]
    },
    {
     "name": "stderr",
     "output_type": "stream",
     "text": [
      "\u001b[A"
     ]
    },
    {
     "name": "stderr",
     "output_type": "stream",
     "text": [
      "\n"
     ]
    },
    {
     "name": "stderr",
     "output_type": "stream",
     "text": [
      "\r",
      "Epoch 1:   1%|          | 26/3636 [00:11<22:21,  2.69it/s, training_loss=0.368]"
     ]
    },
    {
     "name": "stderr",
     "output_type": "stream",
     "text": [
      "\u001b[A"
     ]
    },
    {
     "name": "stderr",
     "output_type": "stream",
     "text": [
      "\n"
     ]
    },
    {
     "name": "stderr",
     "output_type": "stream",
     "text": [
      "\r",
      "Epoch 1:   1%|          | 27/3636 [00:11<22:18,  2.70it/s, training_loss=0.368]"
     ]
    },
    {
     "name": "stderr",
     "output_type": "stream",
     "text": [
      "\u001b[A"
     ]
    },
    {
     "name": "stderr",
     "output_type": "stream",
     "text": [
      "\n"
     ]
    },
    {
     "name": "stderr",
     "output_type": "stream",
     "text": [
      "\r",
      "Epoch 1:   1%|          | 27/3636 [00:12<22:18,  2.70it/s, training_loss=0.366]"
     ]
    },
    {
     "name": "stderr",
     "output_type": "stream",
     "text": [
      "\u001b[A"
     ]
    },
    {
     "name": "stderr",
     "output_type": "stream",
     "text": [
      "\n"
     ]
    },
    {
     "name": "stderr",
     "output_type": "stream",
     "text": [
      "\r",
      "Epoch 1:   1%|          | 28/3636 [00:12<22:27,  2.68it/s, training_loss=0.366]"
     ]
    },
    {
     "name": "stderr",
     "output_type": "stream",
     "text": [
      "\u001b[A"
     ]
    },
    {
     "name": "stderr",
     "output_type": "stream",
     "text": [
      "\n"
     ]
    },
    {
     "name": "stderr",
     "output_type": "stream",
     "text": [
      "\r",
      "Epoch 1:   1%|          | 28/3636 [00:12<22:27,  2.68it/s, training_loss=0.367]"
     ]
    },
    {
     "name": "stderr",
     "output_type": "stream",
     "text": [
      "\u001b[A"
     ]
    },
    {
     "name": "stderr",
     "output_type": "stream",
     "text": [
      "\n"
     ]
    },
    {
     "name": "stderr",
     "output_type": "stream",
     "text": [
      "\r",
      "Epoch 1:   1%|          | 29/3636 [00:12<22:17,  2.70it/s, training_loss=0.367]"
     ]
    },
    {
     "name": "stderr",
     "output_type": "stream",
     "text": [
      "\u001b[A"
     ]
    },
    {
     "name": "stderr",
     "output_type": "stream",
     "text": [
      "\n"
     ]
    },
    {
     "name": "stderr",
     "output_type": "stream",
     "text": [
      "\r",
      "Epoch 1:   1%|          | 29/3636 [00:12<22:17,  2.70it/s, training_loss=0.367]"
     ]
    },
    {
     "name": "stderr",
     "output_type": "stream",
     "text": [
      "\u001b[A"
     ]
    },
    {
     "name": "stderr",
     "output_type": "stream",
     "text": [
      "\n"
     ]
    },
    {
     "name": "stderr",
     "output_type": "stream",
     "text": [
      "\r",
      "Epoch 1:   1%|          | 30/3636 [00:12<22:11,  2.71it/s, training_loss=0.367]"
     ]
    },
    {
     "name": "stderr",
     "output_type": "stream",
     "text": [
      "\u001b[A"
     ]
    },
    {
     "name": "stderr",
     "output_type": "stream",
     "text": [
      "\n"
     ]
    },
    {
     "name": "stderr",
     "output_type": "stream",
     "text": [
      "\r",
      "Epoch 1:   1%|          | 30/3636 [00:13<22:11,  2.71it/s, training_loss=0.365]"
     ]
    },
    {
     "name": "stderr",
     "output_type": "stream",
     "text": [
      "\u001b[A"
     ]
    },
    {
     "name": "stderr",
     "output_type": "stream",
     "text": [
      "\n"
     ]
    },
    {
     "name": "stderr",
     "output_type": "stream",
     "text": [
      "\r",
      "Epoch 1:   1%|          | 31/3636 [00:13<22:23,  2.68it/s, training_loss=0.365]"
     ]
    },
    {
     "name": "stderr",
     "output_type": "stream",
     "text": [
      "\u001b[A"
     ]
    },
    {
     "name": "stderr",
     "output_type": "stream",
     "text": [
      "\n"
     ]
    },
    {
     "name": "stderr",
     "output_type": "stream",
     "text": [
      "\r",
      "Epoch 1:   1%|          | 31/3636 [00:13<22:23,  2.68it/s, training_loss=0.368]"
     ]
    },
    {
     "name": "stderr",
     "output_type": "stream",
     "text": [
      "\u001b[A"
     ]
    },
    {
     "name": "stderr",
     "output_type": "stream",
     "text": [
      "\n"
     ]
    },
    {
     "name": "stderr",
     "output_type": "stream",
     "text": [
      "\r",
      "Epoch 1:   1%|          | 32/3636 [00:13<22:15,  2.70it/s, training_loss=0.368]"
     ]
    },
    {
     "name": "stderr",
     "output_type": "stream",
     "text": [
      "\u001b[A"
     ]
    },
    {
     "name": "stderr",
     "output_type": "stream",
     "text": [
      "\n"
     ]
    },
    {
     "name": "stderr",
     "output_type": "stream",
     "text": [
      "\r",
      "Epoch 1:   1%|          | 32/3636 [00:14<22:15,  2.70it/s, training_loss=0.362]"
     ]
    },
    {
     "name": "stderr",
     "output_type": "stream",
     "text": [
      "\u001b[A"
     ]
    },
    {
     "name": "stderr",
     "output_type": "stream",
     "text": [
      "\n"
     ]
    },
    {
     "name": "stderr",
     "output_type": "stream",
     "text": [
      "\r",
      "Epoch 1:   1%|          | 33/3636 [00:14<22:28,  2.67it/s, training_loss=0.362]"
     ]
    },
    {
     "name": "stderr",
     "output_type": "stream",
     "text": [
      "\u001b[A"
     ]
    },
    {
     "name": "stderr",
     "output_type": "stream",
     "text": [
      "\n"
     ]
    },
    {
     "name": "stderr",
     "output_type": "stream",
     "text": [
      "\r",
      "Epoch 1:   1%|          | 33/3636 [00:14<22:28,  2.67it/s, training_loss=0.365]"
     ]
    },
    {
     "name": "stderr",
     "output_type": "stream",
     "text": [
      "\u001b[A"
     ]
    },
    {
     "name": "stderr",
     "output_type": "stream",
     "text": [
      "\n"
     ]
    },
    {
     "name": "stderr",
     "output_type": "stream",
     "text": [
      "\r",
      "Epoch 1:   1%|          | 34/3636 [00:14<22:21,  2.68it/s, training_loss=0.365]"
     ]
    },
    {
     "name": "stderr",
     "output_type": "stream",
     "text": [
      "\u001b[A"
     ]
    },
    {
     "name": "stderr",
     "output_type": "stream",
     "text": [
      "\n"
     ]
    },
    {
     "name": "stderr",
     "output_type": "stream",
     "text": [
      "\r",
      "Epoch 1:   1%|          | 34/3636 [00:14<22:21,  2.68it/s, training_loss=0.369]"
     ]
    },
    {
     "name": "stderr",
     "output_type": "stream",
     "text": [
      "\u001b[A"
     ]
    },
    {
     "name": "stderr",
     "output_type": "stream",
     "text": [
      "\n"
     ]
    },
    {
     "name": "stderr",
     "output_type": "stream",
     "text": [
      "\r",
      "Epoch 1:   1%|          | 35/3636 [00:14<22:12,  2.70it/s, training_loss=0.369]"
     ]
    },
    {
     "name": "stderr",
     "output_type": "stream",
     "text": [
      "\u001b[A"
     ]
    },
    {
     "name": "stderr",
     "output_type": "stream",
     "text": [
      "\n"
     ]
    },
    {
     "name": "stderr",
     "output_type": "stream",
     "text": [
      "\r",
      "Epoch 1:   1%|          | 35/3636 [00:15<22:12,  2.70it/s, training_loss=0.366]"
     ]
    },
    {
     "name": "stderr",
     "output_type": "stream",
     "text": [
      "\u001b[A"
     ]
    },
    {
     "name": "stderr",
     "output_type": "stream",
     "text": [
      "\n"
     ]
    },
    {
     "name": "stderr",
     "output_type": "stream",
     "text": [
      "\r",
      "Epoch 1:   1%|          | 36/3636 [00:15<22:11,  2.70it/s, training_loss=0.366]"
     ]
    },
    {
     "name": "stderr",
     "output_type": "stream",
     "text": [
      "\u001b[A"
     ]
    },
    {
     "name": "stderr",
     "output_type": "stream",
     "text": [
      "\n"
     ]
    },
    {
     "name": "stderr",
     "output_type": "stream",
     "text": [
      "\r",
      "Epoch 1:   1%|          | 36/3636 [00:15<22:11,  2.70it/s, training_loss=0.368]"
     ]
    },
    {
     "name": "stderr",
     "output_type": "stream",
     "text": [
      "\u001b[A"
     ]
    },
    {
     "name": "stderr",
     "output_type": "stream",
     "text": [
      "\n"
     ]
    },
    {
     "name": "stderr",
     "output_type": "stream",
     "text": [
      "\r",
      "Epoch 1:   1%|          | 37/3636 [00:15<22:07,  2.71it/s, training_loss=0.368]"
     ]
    },
    {
     "name": "stderr",
     "output_type": "stream",
     "text": [
      "\u001b[A"
     ]
    },
    {
     "name": "stderr",
     "output_type": "stream",
     "text": [
      "\n"
     ]
    },
    {
     "name": "stderr",
     "output_type": "stream",
     "text": [
      "\r",
      "Epoch 1:   1%|          | 37/3636 [00:15<22:07,  2.71it/s, training_loss=0.365]"
     ]
    },
    {
     "name": "stderr",
     "output_type": "stream",
     "text": [
      "\u001b[A"
     ]
    },
    {
     "name": "stderr",
     "output_type": "stream",
     "text": [
      "\n"
     ]
    },
    {
     "name": "stderr",
     "output_type": "stream",
     "text": [
      "\r",
      "Epoch 1:   1%|          | 38/3636 [00:15<22:02,  2.72it/s, training_loss=0.365]"
     ]
    },
    {
     "name": "stderr",
     "output_type": "stream",
     "text": [
      "\u001b[A"
     ]
    },
    {
     "name": "stderr",
     "output_type": "stream",
     "text": [
      "\n"
     ]
    },
    {
     "name": "stderr",
     "output_type": "stream",
     "text": [
      "\r",
      "Epoch 1:   1%|          | 38/3636 [00:16<22:02,  2.72it/s, training_loss=0.366]"
     ]
    },
    {
     "name": "stderr",
     "output_type": "stream",
     "text": [
      "\u001b[A"
     ]
    },
    {
     "name": "stderr",
     "output_type": "stream",
     "text": [
      "\n"
     ]
    },
    {
     "name": "stderr",
     "output_type": "stream",
     "text": [
      "\r",
      "Epoch 1:   1%|          | 39/3636 [00:16<22:00,  2.72it/s, training_loss=0.366]"
     ]
    },
    {
     "name": "stderr",
     "output_type": "stream",
     "text": [
      "\u001b[A"
     ]
    },
    {
     "name": "stderr",
     "output_type": "stream",
     "text": [
      "\n"
     ]
    },
    {
     "name": "stderr",
     "output_type": "stream",
     "text": [
      "\r",
      "Epoch 1:   1%|          | 39/3636 [00:16<22:00,  2.72it/s, training_loss=0.363]"
     ]
    },
    {
     "name": "stderr",
     "output_type": "stream",
     "text": [
      "\u001b[A"
     ]
    },
    {
     "name": "stderr",
     "output_type": "stream",
     "text": [
      "\n"
     ]
    },
    {
     "name": "stderr",
     "output_type": "stream",
     "text": [
      "\r",
      "Epoch 1:   1%|          | 40/3636 [00:16<21:57,  2.73it/s, training_loss=0.363]"
     ]
    },
    {
     "name": "stderr",
     "output_type": "stream",
     "text": [
      "\u001b[A"
     ]
    },
    {
     "name": "stderr",
     "output_type": "stream",
     "text": [
      "\n"
     ]
    },
    {
     "name": "stderr",
     "output_type": "stream",
     "text": [
      "\r",
      "Epoch 1:   1%|          | 40/3636 [00:16<21:57,  2.73it/s, training_loss=0.368]"
     ]
    },
    {
     "name": "stderr",
     "output_type": "stream",
     "text": [
      "\u001b[A"
     ]
    },
    {
     "name": "stderr",
     "output_type": "stream",
     "text": [
      "\n"
     ]
    },
    {
     "name": "stderr",
     "output_type": "stream",
     "text": [
      "\r",
      "Epoch 1:   1%|          | 41/3636 [00:16<22:02,  2.72it/s, training_loss=0.368]"
     ]
    },
    {
     "name": "stderr",
     "output_type": "stream",
     "text": [
      "\u001b[A"
     ]
    },
    {
     "name": "stderr",
     "output_type": "stream",
     "text": [
      "\n"
     ]
    },
    {
     "name": "stderr",
     "output_type": "stream",
     "text": [
      "\r",
      "Epoch 1:   1%|          | 41/3636 [00:17<22:02,  2.72it/s, training_loss=0.365]"
     ]
    },
    {
     "name": "stderr",
     "output_type": "stream",
     "text": [
      "\u001b[A"
     ]
    },
    {
     "name": "stderr",
     "output_type": "stream",
     "text": [
      "\n"
     ]
    },
    {
     "name": "stderr",
     "output_type": "stream",
     "text": [
      "\r",
      "Epoch 1:   1%|          | 42/3636 [00:17<22:22,  2.68it/s, training_loss=0.365]"
     ]
    },
    {
     "name": "stderr",
     "output_type": "stream",
     "text": [
      "\u001b[A"
     ]
    },
    {
     "name": "stderr",
     "output_type": "stream",
     "text": [
      "\n"
     ]
    },
    {
     "name": "stderr",
     "output_type": "stream",
     "text": [
      "\r",
      "Epoch 1:   1%|          | 42/3636 [00:17<22:22,  2.68it/s, training_loss=0.366]"
     ]
    },
    {
     "name": "stderr",
     "output_type": "stream",
     "text": [
      "\u001b[A"
     ]
    },
    {
     "name": "stderr",
     "output_type": "stream",
     "text": [
      "\n"
     ]
    },
    {
     "name": "stderr",
     "output_type": "stream",
     "text": [
      "\r",
      "Epoch 1:   1%|          | 43/3636 [00:17<22:15,  2.69it/s, training_loss=0.366]"
     ]
    },
    {
     "name": "stderr",
     "output_type": "stream",
     "text": [
      "\u001b[A"
     ]
    },
    {
     "name": "stderr",
     "output_type": "stream",
     "text": [
      "\n"
     ]
    },
    {
     "name": "stderr",
     "output_type": "stream",
     "text": [
      "\r",
      "Epoch 1:   1%|          | 43/3636 [00:18<22:15,  2.69it/s, training_loss=0.368]"
     ]
    },
    {
     "name": "stderr",
     "output_type": "stream",
     "text": [
      "\u001b[A"
     ]
    },
    {
     "name": "stderr",
     "output_type": "stream",
     "text": [
      "\n"
     ]
    },
    {
     "name": "stderr",
     "output_type": "stream",
     "text": [
      "\r",
      "Epoch 1:   1%|          | 44/3636 [00:18<22:10,  2.70it/s, training_loss=0.368]"
     ]
    },
    {
     "name": "stderr",
     "output_type": "stream",
     "text": [
      "\u001b[A"
     ]
    },
    {
     "name": "stderr",
     "output_type": "stream",
     "text": [
      "\n"
     ]
    },
    {
     "name": "stderr",
     "output_type": "stream",
     "text": [
      "\r",
      "Epoch 1:   1%|          | 44/3636 [00:18<22:10,  2.70it/s, training_loss=0.366]"
     ]
    },
    {
     "name": "stderr",
     "output_type": "stream",
     "text": [
      "\u001b[A"
     ]
    },
    {
     "name": "stderr",
     "output_type": "stream",
     "text": [
      "\n"
     ]
    },
    {
     "name": "stderr",
     "output_type": "stream",
     "text": [
      "\r",
      "Epoch 1:   1%|          | 45/3636 [00:18<22:12,  2.70it/s, training_loss=0.366]"
     ]
    },
    {
     "name": "stderr",
     "output_type": "stream",
     "text": [
      "\u001b[A"
     ]
    },
    {
     "name": "stderr",
     "output_type": "stream",
     "text": [
      "\n"
     ]
    },
    {
     "name": "stderr",
     "output_type": "stream",
     "text": [
      "\r",
      "Epoch 1:   1%|          | 45/3636 [00:18<22:12,  2.70it/s, training_loss=0.365]"
     ]
    },
    {
     "name": "stderr",
     "output_type": "stream",
     "text": [
      "\u001b[A"
     ]
    },
    {
     "name": "stderr",
     "output_type": "stream",
     "text": [
      "\n"
     ]
    },
    {
     "name": "stderr",
     "output_type": "stream",
     "text": [
      "\r",
      "Epoch 1:   1%|▏         | 46/3636 [00:18<22:16,  2.69it/s, training_loss=0.365]"
     ]
    },
    {
     "name": "stderr",
     "output_type": "stream",
     "text": [
      "\u001b[A"
     ]
    },
    {
     "name": "stderr",
     "output_type": "stream",
     "text": [
      "\n"
     ]
    },
    {
     "name": "stderr",
     "output_type": "stream",
     "text": [
      "\r",
      "Epoch 1:   1%|▏         | 46/3636 [00:19<22:16,  2.69it/s, training_loss=0.364]"
     ]
    },
    {
     "name": "stderr",
     "output_type": "stream",
     "text": [
      "\u001b[A"
     ]
    },
    {
     "name": "stderr",
     "output_type": "stream",
     "text": [
      "\n"
     ]
    },
    {
     "name": "stderr",
     "output_type": "stream",
     "text": [
      "\r",
      "Epoch 1:   1%|▏         | 47/3636 [00:19<22:15,  2.69it/s, training_loss=0.364]"
     ]
    },
    {
     "name": "stderr",
     "output_type": "stream",
     "text": [
      "\u001b[A"
     ]
    },
    {
     "name": "stderr",
     "output_type": "stream",
     "text": [
      "\n"
     ]
    },
    {
     "name": "stderr",
     "output_type": "stream",
     "text": [
      "\r",
      "Epoch 1:   1%|▏         | 47/3636 [00:19<22:15,  2.69it/s, training_loss=0.365]"
     ]
    },
    {
     "name": "stderr",
     "output_type": "stream",
     "text": [
      "\u001b[A"
     ]
    },
    {
     "name": "stderr",
     "output_type": "stream",
     "text": [
      "\n"
     ]
    },
    {
     "name": "stderr",
     "output_type": "stream",
     "text": [
      "\r",
      "Epoch 1:   1%|▏         | 48/3636 [00:19<22:09,  2.70it/s, training_loss=0.365]"
     ]
    },
    {
     "name": "stderr",
     "output_type": "stream",
     "text": [
      "\u001b[A"
     ]
    },
    {
     "name": "stderr",
     "output_type": "stream",
     "text": [
      "\n"
     ]
    },
    {
     "name": "stderr",
     "output_type": "stream",
     "text": [
      "\r",
      "Epoch 1:   1%|▏         | 48/3636 [00:19<22:09,  2.70it/s, training_loss=0.368]"
     ]
    },
    {
     "name": "stderr",
     "output_type": "stream",
     "text": [
      "\u001b[A"
     ]
    },
    {
     "name": "stderr",
     "output_type": "stream",
     "text": [
      "\n"
     ]
    },
    {
     "name": "stderr",
     "output_type": "stream",
     "text": [
      "\r",
      "Epoch 1:   1%|▏         | 49/3636 [00:19<22:07,  2.70it/s, training_loss=0.368]"
     ]
    },
    {
     "name": "stderr",
     "output_type": "stream",
     "text": [
      "\u001b[A"
     ]
    },
    {
     "name": "stderr",
     "output_type": "stream",
     "text": [
      "\n"
     ]
    },
    {
     "name": "stderr",
     "output_type": "stream",
     "text": [
      "\r",
      "Epoch 1:   1%|▏         | 49/3636 [00:20<22:07,  2.70it/s, training_loss=0.365]"
     ]
    },
    {
     "name": "stderr",
     "output_type": "stream",
     "text": [
      "\u001b[A"
     ]
    },
    {
     "name": "stderr",
     "output_type": "stream",
     "text": [
      "\n"
     ]
    },
    {
     "name": "stderr",
     "output_type": "stream",
     "text": [
      "\r",
      "Epoch 1:   1%|▏         | 50/3636 [00:20<22:03,  2.71it/s, training_loss=0.365]"
     ]
    },
    {
     "name": "stderr",
     "output_type": "stream",
     "text": [
      "\u001b[A"
     ]
    },
    {
     "name": "stderr",
     "output_type": "stream",
     "text": [
      "\n"
     ]
    },
    {
     "name": "stderr",
     "output_type": "stream",
     "text": [
      "\r",
      "Epoch 1:   1%|▏         | 50/3636 [00:20<22:03,  2.71it/s, training_loss=0.367]"
     ]
    },
    {
     "name": "stderr",
     "output_type": "stream",
     "text": [
      "\u001b[A"
     ]
    },
    {
     "name": "stderr",
     "output_type": "stream",
     "text": [
      "\n"
     ]
    },
    {
     "name": "stderr",
     "output_type": "stream",
     "text": [
      "\r",
      "Epoch 1:   1%|▏         | 51/3636 [00:20<22:01,  2.71it/s, training_loss=0.367]"
     ]
    },
    {
     "name": "stderr",
     "output_type": "stream",
     "text": [
      "\u001b[A"
     ]
    },
    {
     "name": "stderr",
     "output_type": "stream",
     "text": [
      "\n"
     ]
    },
    {
     "name": "stderr",
     "output_type": "stream",
     "text": [
      "\r",
      "Epoch 1:   1%|▏         | 51/3636 [00:21<22:01,  2.71it/s, training_loss=0.366]"
     ]
    },
    {
     "name": "stderr",
     "output_type": "stream",
     "text": [
      "\u001b[A"
     ]
    },
    {
     "name": "stderr",
     "output_type": "stream",
     "text": [
      "\n"
     ]
    },
    {
     "name": "stderr",
     "output_type": "stream",
     "text": [
      "\r",
      "Epoch 1:   1%|▏         | 52/3636 [00:21<22:02,  2.71it/s, training_loss=0.366]"
     ]
    },
    {
     "name": "stderr",
     "output_type": "stream",
     "text": [
      "\u001b[A"
     ]
    },
    {
     "name": "stderr",
     "output_type": "stream",
     "text": [
      "\n"
     ]
    },
    {
     "name": "stderr",
     "output_type": "stream",
     "text": [
      "\r",
      "Epoch 1:   1%|▏         | 52/3636 [00:21<22:02,  2.71it/s, training_loss=0.364]"
     ]
    },
    {
     "name": "stderr",
     "output_type": "stream",
     "text": [
      "\u001b[A"
     ]
    },
    {
     "name": "stderr",
     "output_type": "stream",
     "text": [
      "\n"
     ]
    },
    {
     "name": "stderr",
     "output_type": "stream",
     "text": [
      "\r",
      "Epoch 1:   1%|▏         | 53/3636 [00:21<21:56,  2.72it/s, training_loss=0.364]"
     ]
    },
    {
     "name": "stderr",
     "output_type": "stream",
     "text": [
      "\u001b[A"
     ]
    },
    {
     "name": "stderr",
     "output_type": "stream",
     "text": [
      "\n"
     ]
    },
    {
     "name": "stderr",
     "output_type": "stream",
     "text": [
      "\r",
      "Epoch 1:   1%|▏         | 53/3636 [00:21<21:56,  2.72it/s, training_loss=0.366]"
     ]
    },
    {
     "name": "stderr",
     "output_type": "stream",
     "text": [
      "\u001b[A"
     ]
    },
    {
     "name": "stderr",
     "output_type": "stream",
     "text": [
      "\n"
     ]
    },
    {
     "name": "stderr",
     "output_type": "stream",
     "text": [
      "\r",
      "Epoch 1:   1%|▏         | 54/3636 [00:21<22:10,  2.69it/s, training_loss=0.366]"
     ]
    },
    {
     "name": "stderr",
     "output_type": "stream",
     "text": [
      "\u001b[A"
     ]
    },
    {
     "name": "stderr",
     "output_type": "stream",
     "text": [
      "\n"
     ]
    },
    {
     "name": "stderr",
     "output_type": "stream",
     "text": [
      "\r",
      "Epoch 1:   1%|▏         | 54/3636 [00:22<22:10,  2.69it/s, training_loss=0.362]"
     ]
    },
    {
     "name": "stderr",
     "output_type": "stream",
     "text": [
      "\u001b[A"
     ]
    },
    {
     "name": "stderr",
     "output_type": "stream",
     "text": [
      "\n"
     ]
    },
    {
     "name": "stderr",
     "output_type": "stream",
     "text": [
      "\r",
      "Epoch 1:   2%|▏         | 55/3636 [00:22<22:06,  2.70it/s, training_loss=0.362]"
     ]
    },
    {
     "name": "stderr",
     "output_type": "stream",
     "text": [
      "\u001b[A"
     ]
    },
    {
     "name": "stderr",
     "output_type": "stream",
     "text": [
      "\n"
     ]
    },
    {
     "name": "stderr",
     "output_type": "stream",
     "text": [
      "\r",
      "Epoch 1:   2%|▏         | 55/3636 [00:22<22:06,  2.70it/s, training_loss=0.367]"
     ]
    },
    {
     "name": "stderr",
     "output_type": "stream",
     "text": [
      "\u001b[A"
     ]
    },
    {
     "name": "stderr",
     "output_type": "stream",
     "text": [
      "\n"
     ]
    },
    {
     "name": "stderr",
     "output_type": "stream",
     "text": [
      "\r",
      "Epoch 1:   2%|▏         | 56/3636 [00:22<22:15,  2.68it/s, training_loss=0.367]"
     ]
    },
    {
     "name": "stderr",
     "output_type": "stream",
     "text": [
      "\u001b[A"
     ]
    },
    {
     "name": "stderr",
     "output_type": "stream",
     "text": [
      "\n"
     ]
    },
    {
     "name": "stderr",
     "output_type": "stream",
     "text": [
      "\r",
      "Epoch 1:   2%|▏         | 56/3636 [00:22<22:15,  2.68it/s, training_loss=0.364]"
     ]
    },
    {
     "name": "stderr",
     "output_type": "stream",
     "text": [
      "\u001b[A"
     ]
    },
    {
     "name": "stderr",
     "output_type": "stream",
     "text": [
      "\n"
     ]
    },
    {
     "name": "stderr",
     "output_type": "stream",
     "text": [
      "\r",
      "Epoch 1:   2%|▏         | 57/3636 [00:22<22:12,  2.69it/s, training_loss=0.364]"
     ]
    },
    {
     "name": "stderr",
     "output_type": "stream",
     "text": [
      "\u001b[A"
     ]
    },
    {
     "name": "stderr",
     "output_type": "stream",
     "text": [
      "\n"
     ]
    },
    {
     "name": "stderr",
     "output_type": "stream",
     "text": [
      "\r",
      "Epoch 1:   2%|▏         | 57/3636 [00:23<22:12,  2.69it/s, training_loss=0.370]"
     ]
    },
    {
     "name": "stderr",
     "output_type": "stream",
     "text": [
      "\u001b[A"
     ]
    },
    {
     "name": "stderr",
     "output_type": "stream",
     "text": [
      "\n"
     ]
    },
    {
     "name": "stderr",
     "output_type": "stream",
     "text": [
      "\r",
      "Epoch 1:   2%|▏         | 58/3636 [00:23<22:09,  2.69it/s, training_loss=0.370]"
     ]
    },
    {
     "name": "stderr",
     "output_type": "stream",
     "text": [
      "\u001b[A"
     ]
    },
    {
     "name": "stderr",
     "output_type": "stream",
     "text": [
      "\n"
     ]
    },
    {
     "name": "stderr",
     "output_type": "stream",
     "text": [
      "\r",
      "Epoch 1:   2%|▏         | 58/3636 [00:23<22:09,  2.69it/s, training_loss=0.368]"
     ]
    },
    {
     "name": "stderr",
     "output_type": "stream",
     "text": [
      "\u001b[A"
     ]
    },
    {
     "name": "stderr",
     "output_type": "stream",
     "text": [
      "\n"
     ]
    },
    {
     "name": "stderr",
     "output_type": "stream",
     "text": [
      "\r",
      "Epoch 1:   2%|▏         | 59/3636 [00:23<22:02,  2.71it/s, training_loss=0.368]"
     ]
    },
    {
     "name": "stderr",
     "output_type": "stream",
     "text": [
      "\u001b[A"
     ]
    },
    {
     "name": "stderr",
     "output_type": "stream",
     "text": [
      "\n"
     ]
    },
    {
     "name": "stderr",
     "output_type": "stream",
     "text": [
      "\r",
      "Epoch 1:   2%|▏         | 59/3636 [00:23<22:02,  2.71it/s, training_loss=0.363]"
     ]
    },
    {
     "name": "stderr",
     "output_type": "stream",
     "text": [
      "\u001b[A"
     ]
    },
    {
     "name": "stderr",
     "output_type": "stream",
     "text": [
      "\n"
     ]
    },
    {
     "name": "stderr",
     "output_type": "stream",
     "text": [
      "\r",
      "Epoch 1:   2%|▏         | 60/3636 [00:23<22:05,  2.70it/s, training_loss=0.363]"
     ]
    },
    {
     "name": "stderr",
     "output_type": "stream",
     "text": [
      "\u001b[A"
     ]
    },
    {
     "name": "stderr",
     "output_type": "stream",
     "text": [
      "\n"
     ]
    },
    {
     "name": "stderr",
     "output_type": "stream",
     "text": [
      "\r",
      "Epoch 1:   2%|▏         | 60/3636 [00:24<22:05,  2.70it/s, training_loss=0.368]"
     ]
    },
    {
     "name": "stderr",
     "output_type": "stream",
     "text": [
      "\u001b[A"
     ]
    },
    {
     "name": "stderr",
     "output_type": "stream",
     "text": [
      "\n"
     ]
    },
    {
     "name": "stderr",
     "output_type": "stream",
     "text": [
      "\r",
      "Epoch 1:   2%|▏         | 61/3636 [00:24<22:07,  2.69it/s, training_loss=0.368]"
     ]
    },
    {
     "name": "stderr",
     "output_type": "stream",
     "text": [
      "\u001b[A"
     ]
    },
    {
     "name": "stderr",
     "output_type": "stream",
     "text": [
      "\n"
     ]
    },
    {
     "name": "stderr",
     "output_type": "stream",
     "text": [
      "\r",
      "Epoch 1:   2%|▏         | 61/3636 [00:24<22:07,  2.69it/s, training_loss=0.363]"
     ]
    },
    {
     "name": "stderr",
     "output_type": "stream",
     "text": [
      "\u001b[A"
     ]
    },
    {
     "name": "stderr",
     "output_type": "stream",
     "text": [
      "\n"
     ]
    },
    {
     "name": "stderr",
     "output_type": "stream",
     "text": [
      "\r",
      "Epoch 1:   2%|▏         | 62/3636 [00:24<22:05,  2.70it/s, training_loss=0.363]"
     ]
    },
    {
     "name": "stderr",
     "output_type": "stream",
     "text": [
      "\u001b[A"
     ]
    },
    {
     "name": "stderr",
     "output_type": "stream",
     "text": [
      "\n"
     ]
    },
    {
     "name": "stderr",
     "output_type": "stream",
     "text": [
      "\r",
      "Epoch 1:   2%|▏         | 62/3636 [00:25<22:05,  2.70it/s, training_loss=0.367]"
     ]
    },
    {
     "name": "stderr",
     "output_type": "stream",
     "text": [
      "\u001b[A"
     ]
    },
    {
     "name": "stderr",
     "output_type": "stream",
     "text": [
      "\n"
     ]
    },
    {
     "name": "stderr",
     "output_type": "stream",
     "text": [
      "\r",
      "Epoch 1:   2%|▏         | 63/3636 [00:25<22:00,  2.71it/s, training_loss=0.367]"
     ]
    },
    {
     "name": "stderr",
     "output_type": "stream",
     "text": [
      "\u001b[A"
     ]
    },
    {
     "name": "stderr",
     "output_type": "stream",
     "text": [
      "\n"
     ]
    },
    {
     "name": "stderr",
     "output_type": "stream",
     "text": [
      "\r",
      "Epoch 1:   2%|▏         | 63/3636 [00:25<22:00,  2.71it/s, training_loss=0.367]"
     ]
    },
    {
     "name": "stderr",
     "output_type": "stream",
     "text": [
      "\u001b[A"
     ]
    },
    {
     "name": "stderr",
     "output_type": "stream",
     "text": [
      "\n"
     ]
    },
    {
     "name": "stderr",
     "output_type": "stream",
     "text": [
      "\r",
      "Epoch 1:   2%|▏         | 64/3636 [00:25<22:00,  2.71it/s, training_loss=0.367]"
     ]
    },
    {
     "name": "stderr",
     "output_type": "stream",
     "text": [
      "\u001b[A"
     ]
    },
    {
     "name": "stderr",
     "output_type": "stream",
     "text": [
      "\n"
     ]
    },
    {
     "name": "stderr",
     "output_type": "stream",
     "text": [
      "\r",
      "Epoch 1:   2%|▏         | 64/3636 [00:25<22:00,  2.71it/s, training_loss=0.366]"
     ]
    },
    {
     "name": "stderr",
     "output_type": "stream",
     "text": [
      "\u001b[A"
     ]
    },
    {
     "name": "stderr",
     "output_type": "stream",
     "text": [
      "\n"
     ]
    },
    {
     "name": "stderr",
     "output_type": "stream",
     "text": [
      "\r",
      "Epoch 1:   2%|▏         | 65/3636 [00:25<21:56,  2.71it/s, training_loss=0.366]"
     ]
    },
    {
     "name": "stderr",
     "output_type": "stream",
     "text": [
      "\u001b[A"
     ]
    },
    {
     "name": "stderr",
     "output_type": "stream",
     "text": [
      "\n"
     ]
    },
    {
     "name": "stderr",
     "output_type": "stream",
     "text": [
      "\r",
      "Epoch 1:   2%|▏         | 65/3636 [00:26<21:56,  2.71it/s, training_loss=0.367]"
     ]
    },
    {
     "name": "stderr",
     "output_type": "stream",
     "text": [
      "\u001b[A"
     ]
    },
    {
     "name": "stderr",
     "output_type": "stream",
     "text": [
      "\n"
     ]
    },
    {
     "name": "stderr",
     "output_type": "stream",
     "text": [
      "\r",
      "Epoch 1:   2%|▏         | 66/3636 [00:26<21:54,  2.72it/s, training_loss=0.367]"
     ]
    },
    {
     "name": "stderr",
     "output_type": "stream",
     "text": [
      "\u001b[A"
     ]
    },
    {
     "name": "stderr",
     "output_type": "stream",
     "text": [
      "\n"
     ]
    },
    {
     "name": "stderr",
     "output_type": "stream",
     "text": [
      "\r",
      "Epoch 1:   2%|▏         | 66/3636 [00:26<21:54,  2.72it/s, training_loss=0.371]"
     ]
    },
    {
     "name": "stderr",
     "output_type": "stream",
     "text": [
      "\u001b[A"
     ]
    },
    {
     "name": "stderr",
     "output_type": "stream",
     "text": [
      "\n"
     ]
    },
    {
     "name": "stderr",
     "output_type": "stream",
     "text": [
      "\r",
      "Epoch 1:   2%|▏         | 67/3636 [00:26<21:56,  2.71it/s, training_loss=0.371]"
     ]
    },
    {
     "name": "stderr",
     "output_type": "stream",
     "text": [
      "\u001b[A"
     ]
    },
    {
     "name": "stderr",
     "output_type": "stream",
     "text": [
      "\n"
     ]
    },
    {
     "name": "stderr",
     "output_type": "stream",
     "text": [
      "\r",
      "Epoch 1:   2%|▏         | 67/3636 [00:26<21:56,  2.71it/s, training_loss=0.367]"
     ]
    },
    {
     "name": "stderr",
     "output_type": "stream",
     "text": [
      "\u001b[A"
     ]
    },
    {
     "name": "stderr",
     "output_type": "stream",
     "text": [
      "\n"
     ]
    },
    {
     "name": "stderr",
     "output_type": "stream",
     "text": [
      "\r",
      "Epoch 1:   2%|▏         | 68/3636 [00:26<22:00,  2.70it/s, training_loss=0.367]"
     ]
    },
    {
     "name": "stderr",
     "output_type": "stream",
     "text": [
      "\u001b[A"
     ]
    },
    {
     "name": "stderr",
     "output_type": "stream",
     "text": [
      "\n"
     ]
    },
    {
     "name": "stderr",
     "output_type": "stream",
     "text": [
      "\r",
      "Epoch 1:   2%|▏         | 68/3636 [00:27<22:00,  2.70it/s, training_loss=0.362]"
     ]
    },
    {
     "name": "stderr",
     "output_type": "stream",
     "text": [
      "\u001b[A"
     ]
    },
    {
     "name": "stderr",
     "output_type": "stream",
     "text": [
      "\n"
     ]
    },
    {
     "name": "stderr",
     "output_type": "stream",
     "text": [
      "\r",
      "Epoch 1:   2%|▏         | 69/3636 [00:27<21:56,  2.71it/s, training_loss=0.362]"
     ]
    },
    {
     "name": "stderr",
     "output_type": "stream",
     "text": [
      "\u001b[A"
     ]
    },
    {
     "name": "stderr",
     "output_type": "stream",
     "text": [
      "\n"
     ]
    },
    {
     "name": "stderr",
     "output_type": "stream",
     "text": [
      "\r",
      "Epoch 1:   2%|▏         | 69/3636 [00:27<21:56,  2.71it/s, training_loss=0.369]"
     ]
    },
    {
     "name": "stderr",
     "output_type": "stream",
     "text": [
      "\u001b[A"
     ]
    },
    {
     "name": "stderr",
     "output_type": "stream",
     "text": [
      "\n"
     ]
    },
    {
     "name": "stderr",
     "output_type": "stream",
     "text": [
      "\r",
      "Epoch 1:   2%|▏         | 70/3636 [00:27<21:51,  2.72it/s, training_loss=0.369]"
     ]
    },
    {
     "name": "stderr",
     "output_type": "stream",
     "text": [
      "\u001b[A"
     ]
    },
    {
     "name": "stderr",
     "output_type": "stream",
     "text": [
      "\n"
     ]
    },
    {
     "name": "stderr",
     "output_type": "stream",
     "text": [
      "\r",
      "Epoch 1:   2%|▏         | 70/3636 [00:28<21:51,  2.72it/s, training_loss=0.367]"
     ]
    },
    {
     "name": "stderr",
     "output_type": "stream",
     "text": [
      "\u001b[A"
     ]
    },
    {
     "name": "stderr",
     "output_type": "stream",
     "text": [
      "\n"
     ]
    },
    {
     "name": "stderr",
     "output_type": "stream",
     "text": [
      "\r",
      "Epoch 1:   2%|▏         | 71/3636 [00:28<21:49,  2.72it/s, training_loss=0.367]"
     ]
    },
    {
     "name": "stderr",
     "output_type": "stream",
     "text": [
      "\u001b[A"
     ]
    },
    {
     "name": "stderr",
     "output_type": "stream",
     "text": [
      "\n"
     ]
    },
    {
     "name": "stderr",
     "output_type": "stream",
     "text": [
      "\r",
      "Epoch 1:   2%|▏         | 71/3636 [00:28<21:49,  2.72it/s, training_loss=0.363]"
     ]
    },
    {
     "name": "stderr",
     "output_type": "stream",
     "text": [
      "\u001b[A"
     ]
    },
    {
     "name": "stderr",
     "output_type": "stream",
     "text": [
      "\n"
     ]
    },
    {
     "name": "stderr",
     "output_type": "stream",
     "text": [
      "\r",
      "Epoch 1:   2%|▏         | 72/3636 [00:28<21:47,  2.73it/s, training_loss=0.363]"
     ]
    },
    {
     "name": "stderr",
     "output_type": "stream",
     "text": [
      "\u001b[A"
     ]
    },
    {
     "name": "stderr",
     "output_type": "stream",
     "text": [
      "\n"
     ]
    },
    {
     "name": "stderr",
     "output_type": "stream",
     "text": [
      "\r",
      "Epoch 1:   2%|▏         | 72/3636 [00:28<21:47,  2.73it/s, training_loss=0.368]"
     ]
    },
    {
     "name": "stderr",
     "output_type": "stream",
     "text": [
      "\u001b[A"
     ]
    },
    {
     "name": "stderr",
     "output_type": "stream",
     "text": [
      "\n"
     ]
    },
    {
     "name": "stderr",
     "output_type": "stream",
     "text": [
      "\r",
      "Epoch 1:   2%|▏         | 73/3636 [00:28<21:54,  2.71it/s, training_loss=0.368]"
     ]
    },
    {
     "name": "stderr",
     "output_type": "stream",
     "text": [
      "\u001b[A"
     ]
    },
    {
     "name": "stderr",
     "output_type": "stream",
     "text": [
      "\n"
     ]
    },
    {
     "name": "stderr",
     "output_type": "stream",
     "text": [
      "\r",
      "Epoch 1:   2%|▏         | 73/3636 [00:29<21:54,  2.71it/s, training_loss=0.366]"
     ]
    },
    {
     "name": "stderr",
     "output_type": "stream",
     "text": [
      "\u001b[A"
     ]
    },
    {
     "name": "stderr",
     "output_type": "stream",
     "text": [
      "\n"
     ]
    },
    {
     "name": "stderr",
     "output_type": "stream",
     "text": [
      "\r",
      "Epoch 1:   2%|▏         | 74/3636 [00:29<21:53,  2.71it/s, training_loss=0.366]"
     ]
    },
    {
     "name": "stderr",
     "output_type": "stream",
     "text": [
      "\u001b[A"
     ]
    },
    {
     "name": "stderr",
     "output_type": "stream",
     "text": [
      "\n"
     ]
    },
    {
     "name": "stderr",
     "output_type": "stream",
     "text": [
      "\r",
      "Epoch 1:   2%|▏         | 74/3636 [00:29<21:53,  2.71it/s, training_loss=0.367]"
     ]
    },
    {
     "name": "stderr",
     "output_type": "stream",
     "text": [
      "\u001b[A"
     ]
    },
    {
     "name": "stderr",
     "output_type": "stream",
     "text": [
      "\n"
     ]
    },
    {
     "name": "stderr",
     "output_type": "stream",
     "text": [
      "\r",
      "Epoch 1:   2%|▏         | 75/3636 [00:29<21:54,  2.71it/s, training_loss=0.367]"
     ]
    },
    {
     "name": "stderr",
     "output_type": "stream",
     "text": [
      "\u001b[A"
     ]
    },
    {
     "name": "stderr",
     "output_type": "stream",
     "text": [
      "\n"
     ]
    },
    {
     "name": "stderr",
     "output_type": "stream",
     "text": [
      "\r",
      "Epoch 1:   2%|▏         | 75/3636 [00:29<21:54,  2.71it/s, training_loss=0.363]"
     ]
    },
    {
     "name": "stderr",
     "output_type": "stream",
     "text": [
      "\u001b[A"
     ]
    },
    {
     "name": "stderr",
     "output_type": "stream",
     "text": [
      "\n"
     ]
    },
    {
     "name": "stderr",
     "output_type": "stream",
     "text": [
      "\r",
      "Epoch 1:   2%|▏         | 76/3636 [00:29<21:53,  2.71it/s, training_loss=0.363]"
     ]
    },
    {
     "name": "stderr",
     "output_type": "stream",
     "text": [
      "\u001b[A"
     ]
    },
    {
     "name": "stderr",
     "output_type": "stream",
     "text": [
      "\n"
     ]
    },
    {
     "name": "stderr",
     "output_type": "stream",
     "text": [
      "\r",
      "Epoch 1:   2%|▏         | 76/3636 [00:30<21:53,  2.71it/s, training_loss=0.366]"
     ]
    },
    {
     "name": "stderr",
     "output_type": "stream",
     "text": [
      "\u001b[A"
     ]
    },
    {
     "name": "stderr",
     "output_type": "stream",
     "text": [
      "\n"
     ]
    },
    {
     "name": "stderr",
     "output_type": "stream",
     "text": [
      "\r",
      "Epoch 1:   2%|▏         | 77/3636 [00:30<21:52,  2.71it/s, training_loss=0.366]"
     ]
    },
    {
     "name": "stderr",
     "output_type": "stream",
     "text": [
      "\u001b[A"
     ]
    },
    {
     "name": "stderr",
     "output_type": "stream",
     "text": [
      "\n"
     ]
    },
    {
     "name": "stderr",
     "output_type": "stream",
     "text": [
      "\r",
      "Epoch 1:   2%|▏         | 77/3636 [00:30<21:52,  2.71it/s, training_loss=0.364]"
     ]
    },
    {
     "name": "stderr",
     "output_type": "stream",
     "text": [
      "\u001b[A"
     ]
    },
    {
     "name": "stderr",
     "output_type": "stream",
     "text": [
      "\n"
     ]
    },
    {
     "name": "stderr",
     "output_type": "stream",
     "text": [
      "\r",
      "Epoch 1:   2%|▏         | 78/3636 [00:30<21:53,  2.71it/s, training_loss=0.364]"
     ]
    },
    {
     "name": "stderr",
     "output_type": "stream",
     "text": [
      "\u001b[A"
     ]
    },
    {
     "name": "stderr",
     "output_type": "stream",
     "text": [
      "\n"
     ]
    },
    {
     "name": "stderr",
     "output_type": "stream",
     "text": [
      "\r",
      "Epoch 1:   2%|▏         | 78/3636 [00:31<21:53,  2.71it/s, training_loss=0.364]"
     ]
    },
    {
     "name": "stderr",
     "output_type": "stream",
     "text": [
      "\u001b[A"
     ]
    },
    {
     "name": "stderr",
     "output_type": "stream",
     "text": [
      "\n"
     ]
    },
    {
     "name": "stderr",
     "output_type": "stream",
     "text": [
      "\r",
      "Epoch 1:   2%|▏         | 79/3636 [00:31<22:08,  2.68it/s, training_loss=0.364]"
     ]
    },
    {
     "name": "stderr",
     "output_type": "stream",
     "text": [
      "\u001b[A"
     ]
    },
    {
     "name": "stderr",
     "output_type": "stream",
     "text": [
      "\n"
     ]
    },
    {
     "name": "stderr",
     "output_type": "stream",
     "text": [
      "\r",
      "Epoch 1:   2%|▏         | 79/3636 [00:31<22:08,  2.68it/s, training_loss=0.365]"
     ]
    },
    {
     "name": "stderr",
     "output_type": "stream",
     "text": [
      "\u001b[A"
     ]
    },
    {
     "name": "stderr",
     "output_type": "stream",
     "text": [
      "\n"
     ]
    },
    {
     "name": "stderr",
     "output_type": "stream",
     "text": [
      "\r",
      "Epoch 1:   2%|▏         | 80/3636 [00:31<22:04,  2.68it/s, training_loss=0.365]"
     ]
    },
    {
     "name": "stderr",
     "output_type": "stream",
     "text": [
      "\u001b[A"
     ]
    },
    {
     "name": "stderr",
     "output_type": "stream",
     "text": [
      "\n"
     ]
    },
    {
     "name": "stderr",
     "output_type": "stream",
     "text": [
      "\r",
      "Epoch 1:   2%|▏         | 80/3636 [00:31<22:04,  2.68it/s, training_loss=0.366]"
     ]
    },
    {
     "name": "stderr",
     "output_type": "stream",
     "text": [
      "\u001b[A"
     ]
    },
    {
     "name": "stderr",
     "output_type": "stream",
     "text": [
      "\n"
     ]
    },
    {
     "name": "stderr",
     "output_type": "stream",
     "text": [
      "\r",
      "Epoch 1:   2%|▏         | 81/3636 [00:31<22:00,  2.69it/s, training_loss=0.366]"
     ]
    },
    {
     "name": "stderr",
     "output_type": "stream",
     "text": [
      "\u001b[A"
     ]
    },
    {
     "name": "stderr",
     "output_type": "stream",
     "text": [
      "\n"
     ]
    },
    {
     "name": "stderr",
     "output_type": "stream",
     "text": [
      "\r",
      "Epoch 1:   2%|▏         | 81/3636 [00:32<22:00,  2.69it/s, training_loss=0.364]"
     ]
    },
    {
     "name": "stderr",
     "output_type": "stream",
     "text": [
      "\u001b[A"
     ]
    },
    {
     "name": "stderr",
     "output_type": "stream",
     "text": [
      "\n"
     ]
    },
    {
     "name": "stderr",
     "output_type": "stream",
     "text": [
      "\r",
      "Epoch 1:   2%|▏         | 82/3636 [00:32<22:01,  2.69it/s, training_loss=0.364]"
     ]
    },
    {
     "name": "stderr",
     "output_type": "stream",
     "text": [
      "\u001b[A"
     ]
    },
    {
     "name": "stderr",
     "output_type": "stream",
     "text": [
      "\n"
     ]
    },
    {
     "name": "stderr",
     "output_type": "stream",
     "text": [
      "\r",
      "Epoch 1:   2%|▏         | 82/3636 [00:32<22:01,  2.69it/s, training_loss=0.367]"
     ]
    },
    {
     "name": "stderr",
     "output_type": "stream",
     "text": [
      "\u001b[A"
     ]
    },
    {
     "name": "stderr",
     "output_type": "stream",
     "text": [
      "\n"
     ]
    },
    {
     "name": "stderr",
     "output_type": "stream",
     "text": [
      "\r",
      "Epoch 1:   2%|▏         | 83/3636 [00:32<22:00,  2.69it/s, training_loss=0.367]"
     ]
    },
    {
     "name": "stderr",
     "output_type": "stream",
     "text": [
      "\u001b[A"
     ]
    },
    {
     "name": "stderr",
     "output_type": "stream",
     "text": [
      "\n"
     ]
    },
    {
     "name": "stderr",
     "output_type": "stream",
     "text": [
      "\r",
      "Epoch 1:   2%|▏         | 83/3636 [00:32<22:00,  2.69it/s, training_loss=0.365]"
     ]
    },
    {
     "name": "stderr",
     "output_type": "stream",
     "text": [
      "\u001b[A"
     ]
    },
    {
     "name": "stderr",
     "output_type": "stream",
     "text": [
      "\n"
     ]
    },
    {
     "name": "stderr",
     "output_type": "stream",
     "text": [
      "\r",
      "Epoch 1:   2%|▏         | 84/3636 [00:32<21:58,  2.69it/s, training_loss=0.365]"
     ]
    },
    {
     "name": "stderr",
     "output_type": "stream",
     "text": [
      "\u001b[A"
     ]
    },
    {
     "name": "stderr",
     "output_type": "stream",
     "text": [
      "\n"
     ]
    },
    {
     "name": "stderr",
     "output_type": "stream",
     "text": [
      "\r",
      "Epoch 1:   2%|▏         | 84/3636 [00:33<21:58,  2.69it/s, training_loss=0.366]"
     ]
    },
    {
     "name": "stderr",
     "output_type": "stream",
     "text": [
      "\u001b[A"
     ]
    },
    {
     "name": "stderr",
     "output_type": "stream",
     "text": [
      "\n"
     ]
    },
    {
     "name": "stderr",
     "output_type": "stream",
     "text": [
      "\r",
      "Epoch 1:   2%|▏         | 85/3636 [00:33<21:59,  2.69it/s, training_loss=0.366]"
     ]
    },
    {
     "name": "stderr",
     "output_type": "stream",
     "text": [
      "\u001b[A"
     ]
    },
    {
     "name": "stderr",
     "output_type": "stream",
     "text": [
      "\n"
     ]
    },
    {
     "name": "stderr",
     "output_type": "stream",
     "text": [
      "\r",
      "Epoch 1:   2%|▏         | 85/3636 [00:33<21:59,  2.69it/s, training_loss=0.363]"
     ]
    },
    {
     "name": "stderr",
     "output_type": "stream",
     "text": [
      "\u001b[A"
     ]
    },
    {
     "name": "stderr",
     "output_type": "stream",
     "text": [
      "\n"
     ]
    },
    {
     "name": "stderr",
     "output_type": "stream",
     "text": [
      "\r",
      "Epoch 1:   2%|▏         | 86/3636 [00:33<21:58,  2.69it/s, training_loss=0.363]"
     ]
    },
    {
     "name": "stderr",
     "output_type": "stream",
     "text": [
      "\u001b[A"
     ]
    },
    {
     "name": "stderr",
     "output_type": "stream",
     "text": [
      "\n"
     ]
    },
    {
     "name": "stderr",
     "output_type": "stream",
     "text": [
      "\r",
      "Epoch 1:   2%|▏         | 86/3636 [00:33<21:58,  2.69it/s, training_loss=0.365]"
     ]
    },
    {
     "name": "stderr",
     "output_type": "stream",
     "text": [
      "\u001b[A"
     ]
    },
    {
     "name": "stderr",
     "output_type": "stream",
     "text": [
      "\n"
     ]
    },
    {
     "name": "stderr",
     "output_type": "stream",
     "text": [
      "\r",
      "Epoch 1:   2%|▏         | 87/3636 [00:33<21:58,  2.69it/s, training_loss=0.365]"
     ]
    },
    {
     "name": "stderr",
     "output_type": "stream",
     "text": [
      "\u001b[A"
     ]
    },
    {
     "name": "stderr",
     "output_type": "stream",
     "text": [
      "\n"
     ]
    },
    {
     "name": "stderr",
     "output_type": "stream",
     "text": [
      "\r",
      "Epoch 1:   2%|▏         | 87/3636 [00:34<21:58,  2.69it/s, training_loss=0.365]"
     ]
    },
    {
     "name": "stderr",
     "output_type": "stream",
     "text": [
      "\u001b[A"
     ]
    },
    {
     "name": "stderr",
     "output_type": "stream",
     "text": [
      "\n"
     ]
    },
    {
     "name": "stderr",
     "output_type": "stream",
     "text": [
      "\r",
      "Epoch 1:   2%|▏         | 88/3636 [00:34<21:56,  2.69it/s, training_loss=0.365]"
     ]
    },
    {
     "name": "stderr",
     "output_type": "stream",
     "text": [
      "\u001b[A"
     ]
    },
    {
     "name": "stderr",
     "output_type": "stream",
     "text": [
      "\n"
     ]
    },
    {
     "name": "stderr",
     "output_type": "stream",
     "text": [
      "\r",
      "Epoch 1:   2%|▏         | 88/3636 [00:34<21:56,  2.69it/s, training_loss=0.368]"
     ]
    },
    {
     "name": "stderr",
     "output_type": "stream",
     "text": [
      "\u001b[A"
     ]
    },
    {
     "name": "stderr",
     "output_type": "stream",
     "text": [
      "\n"
     ]
    },
    {
     "name": "stderr",
     "output_type": "stream",
     "text": [
      "\r",
      "Epoch 1:   2%|▏         | 89/3636 [00:34<21:56,  2.69it/s, training_loss=0.368]"
     ]
    },
    {
     "name": "stderr",
     "output_type": "stream",
     "text": [
      "\u001b[A"
     ]
    },
    {
     "name": "stderr",
     "output_type": "stream",
     "text": [
      "\n"
     ]
    },
    {
     "name": "stderr",
     "output_type": "stream",
     "text": [
      "\r",
      "Epoch 1:   2%|▏         | 89/3636 [00:35<21:56,  2.69it/s, training_loss=0.366]"
     ]
    },
    {
     "name": "stderr",
     "output_type": "stream",
     "text": [
      "\u001b[A"
     ]
    },
    {
     "name": "stderr",
     "output_type": "stream",
     "text": [
      "\n"
     ]
    },
    {
     "name": "stderr",
     "output_type": "stream",
     "text": [
      "\r",
      "Epoch 1:   2%|▏         | 90/3636 [00:35<21:54,  2.70it/s, training_loss=0.366]"
     ]
    },
    {
     "name": "stderr",
     "output_type": "stream",
     "text": [
      "\u001b[A"
     ]
    },
    {
     "name": "stderr",
     "output_type": "stream",
     "text": [
      "\n"
     ]
    },
    {
     "name": "stderr",
     "output_type": "stream",
     "text": [
      "\r",
      "Epoch 1:   2%|▏         | 90/3636 [00:35<21:54,  2.70it/s, training_loss=0.366]"
     ]
    },
    {
     "name": "stderr",
     "output_type": "stream",
     "text": [
      "\u001b[A"
     ]
    },
    {
     "name": "stderr",
     "output_type": "stream",
     "text": [
      "\n"
     ]
    },
    {
     "name": "stderr",
     "output_type": "stream",
     "text": [
      "\r",
      "Epoch 1:   3%|▎         | 91/3636 [00:35<21:56,  2.69it/s, training_loss=0.366]"
     ]
    },
    {
     "name": "stderr",
     "output_type": "stream",
     "text": [
      "\u001b[A"
     ]
    },
    {
     "name": "stderr",
     "output_type": "stream",
     "text": [
      "\n"
     ]
    },
    {
     "name": "stderr",
     "output_type": "stream",
     "text": [
      "\r",
      "Epoch 1:   3%|▎         | 91/3636 [00:35<21:56,  2.69it/s, training_loss=0.364]"
     ]
    },
    {
     "name": "stderr",
     "output_type": "stream",
     "text": [
      "\u001b[A"
     ]
    },
    {
     "name": "stderr",
     "output_type": "stream",
     "text": [
      "\n"
     ]
    },
    {
     "name": "stderr",
     "output_type": "stream",
     "text": [
      "\r",
      "Epoch 1:   3%|▎         | 92/3636 [00:35<21:52,  2.70it/s, training_loss=0.364]"
     ]
    },
    {
     "name": "stderr",
     "output_type": "stream",
     "text": [
      "\u001b[A"
     ]
    },
    {
     "name": "stderr",
     "output_type": "stream",
     "text": [
      "\n"
     ]
    },
    {
     "name": "stderr",
     "output_type": "stream",
     "text": [
      "\r",
      "Epoch 1:   3%|▎         | 92/3636 [00:36<21:52,  2.70it/s, training_loss=0.365]"
     ]
    },
    {
     "name": "stderr",
     "output_type": "stream",
     "text": [
      "\u001b[A"
     ]
    },
    {
     "name": "stderr",
     "output_type": "stream",
     "text": [
      "\n"
     ]
    },
    {
     "name": "stderr",
     "output_type": "stream",
     "text": [
      "\r",
      "Epoch 1:   3%|▎         | 93/3636 [00:36<21:50,  2.70it/s, training_loss=0.365]"
     ]
    },
    {
     "name": "stderr",
     "output_type": "stream",
     "text": [
      "\u001b[A"
     ]
    },
    {
     "name": "stderr",
     "output_type": "stream",
     "text": [
      "\n"
     ]
    },
    {
     "name": "stderr",
     "output_type": "stream",
     "text": [
      "\r",
      "Epoch 1:   3%|▎         | 93/3636 [00:36<21:50,  2.70it/s, training_loss=0.364]"
     ]
    },
    {
     "name": "stderr",
     "output_type": "stream",
     "text": [
      "\u001b[A"
     ]
    },
    {
     "name": "stderr",
     "output_type": "stream",
     "text": [
      "\n"
     ]
    },
    {
     "name": "stderr",
     "output_type": "stream",
     "text": [
      "\r",
      "Epoch 1:   3%|▎         | 94/3636 [00:36<21:47,  2.71it/s, training_loss=0.364]"
     ]
    },
    {
     "name": "stderr",
     "output_type": "stream",
     "text": [
      "\u001b[A"
     ]
    },
    {
     "name": "stderr",
     "output_type": "stream",
     "text": [
      "\n"
     ]
    },
    {
     "name": "stderr",
     "output_type": "stream",
     "text": [
      "\r",
      "Epoch 1:   3%|▎         | 94/3636 [00:36<21:47,  2.71it/s, training_loss=0.364]"
     ]
    },
    {
     "name": "stderr",
     "output_type": "stream",
     "text": [
      "\u001b[A"
     ]
    },
    {
     "name": "stderr",
     "output_type": "stream",
     "text": [
      "\n"
     ]
    },
    {
     "name": "stderr",
     "output_type": "stream",
     "text": [
      "\r",
      "Epoch 1:   3%|▎         | 95/3636 [00:36<21:49,  2.70it/s, training_loss=0.364]"
     ]
    },
    {
     "name": "stderr",
     "output_type": "stream",
     "text": [
      "\u001b[A"
     ]
    },
    {
     "name": "stderr",
     "output_type": "stream",
     "text": [
      "\n"
     ]
    },
    {
     "name": "stderr",
     "output_type": "stream",
     "text": [
      "\r",
      "Epoch 1:   3%|▎         | 95/3636 [00:37<21:49,  2.70it/s, training_loss=0.362]"
     ]
    },
    {
     "name": "stderr",
     "output_type": "stream",
     "text": [
      "\u001b[A"
     ]
    },
    {
     "name": "stderr",
     "output_type": "stream",
     "text": [
      "\n"
     ]
    },
    {
     "name": "stderr",
     "output_type": "stream",
     "text": [
      "\r",
      "Epoch 1:   3%|▎         | 96/3636 [00:37<21:53,  2.70it/s, training_loss=0.362]"
     ]
    },
    {
     "name": "stderr",
     "output_type": "stream",
     "text": [
      "\u001b[A"
     ]
    },
    {
     "name": "stderr",
     "output_type": "stream",
     "text": [
      "\n"
     ]
    },
    {
     "name": "stderr",
     "output_type": "stream",
     "text": [
      "\r",
      "Epoch 1:   3%|▎         | 96/3636 [00:37<21:53,  2.70it/s, training_loss=0.366]"
     ]
    },
    {
     "name": "stderr",
     "output_type": "stream",
     "text": [
      "\u001b[A"
     ]
    },
    {
     "name": "stderr",
     "output_type": "stream",
     "text": [
      "\n"
     ]
    },
    {
     "name": "stderr",
     "output_type": "stream",
     "text": [
      "\r",
      "Epoch 1:   3%|▎         | 97/3636 [00:37<21:48,  2.70it/s, training_loss=0.366]"
     ]
    },
    {
     "name": "stderr",
     "output_type": "stream",
     "text": [
      "\u001b[A"
     ]
    },
    {
     "name": "stderr",
     "output_type": "stream",
     "text": [
      "\n"
     ]
    },
    {
     "name": "stderr",
     "output_type": "stream",
     "text": [
      "\r",
      "Epoch 1:   3%|▎         | 97/3636 [00:38<21:48,  2.70it/s, training_loss=0.361]"
     ]
    },
    {
     "name": "stderr",
     "output_type": "stream",
     "text": [
      "\u001b[A"
     ]
    },
    {
     "name": "stderr",
     "output_type": "stream",
     "text": [
      "\n"
     ]
    },
    {
     "name": "stderr",
     "output_type": "stream",
     "text": [
      "\r",
      "Epoch 1:   3%|▎         | 98/3636 [00:38<21:45,  2.71it/s, training_loss=0.361]"
     ]
    },
    {
     "name": "stderr",
     "output_type": "stream",
     "text": [
      "\u001b[A"
     ]
    },
    {
     "name": "stderr",
     "output_type": "stream",
     "text": [
      "\n"
     ]
    },
    {
     "name": "stderr",
     "output_type": "stream",
     "text": [
      "\r",
      "Epoch 1:   3%|▎         | 98/3636 [00:38<21:45,  2.71it/s, training_loss=0.360]"
     ]
    },
    {
     "name": "stderr",
     "output_type": "stream",
     "text": [
      "\u001b[A"
     ]
    },
    {
     "name": "stderr",
     "output_type": "stream",
     "text": [
      "\n"
     ]
    },
    {
     "name": "stderr",
     "output_type": "stream",
     "text": [
      "\r",
      "Epoch 1:   3%|▎         | 99/3636 [00:38<21:42,  2.72it/s, training_loss=0.360]"
     ]
    },
    {
     "name": "stderr",
     "output_type": "stream",
     "text": [
      "\u001b[A"
     ]
    },
    {
     "name": "stderr",
     "output_type": "stream",
     "text": [
      "\n"
     ]
    },
    {
     "name": "stderr",
     "output_type": "stream",
     "text": [
      "\r",
      "Epoch 1:   3%|▎         | 99/3636 [00:38<21:42,  2.72it/s, training_loss=0.369]"
     ]
    },
    {
     "name": "stderr",
     "output_type": "stream",
     "text": [
      "\u001b[A"
     ]
    },
    {
     "name": "stderr",
     "output_type": "stream",
     "text": [
      "\n"
     ]
    },
    {
     "name": "stderr",
     "output_type": "stream",
     "text": [
      "\r",
      "Epoch 1:   3%|▎         | 100/3636 [00:38<21:41,  2.72it/s, training_loss=0.369]"
     ]
    },
    {
     "name": "stderr",
     "output_type": "stream",
     "text": [
      "\u001b[A"
     ]
    },
    {
     "name": "stderr",
     "output_type": "stream",
     "text": [
      "\n"
     ]
    },
    {
     "name": "stderr",
     "output_type": "stream",
     "text": [
      "\r",
      "Epoch 1:   3%|▎         | 100/3636 [00:39<21:41,  2.72it/s, training_loss=0.365]"
     ]
    },
    {
     "name": "stderr",
     "output_type": "stream",
     "text": [
      "\u001b[A"
     ]
    },
    {
     "name": "stderr",
     "output_type": "stream",
     "text": [
      "\n"
     ]
    },
    {
     "name": "stderr",
     "output_type": "stream",
     "text": [
      "\r",
      "Epoch 1:   3%|▎         | 101/3636 [00:39<21:38,  2.72it/s, training_loss=0.365]"
     ]
    },
    {
     "name": "stderr",
     "output_type": "stream",
     "text": [
      "\u001b[A"
     ]
    },
    {
     "name": "stderr",
     "output_type": "stream",
     "text": [
      "\n"
     ]
    },
    {
     "name": "stderr",
     "output_type": "stream",
     "text": [
      "\r",
      "Epoch 1:   3%|▎         | 101/3636 [00:39<21:38,  2.72it/s, training_loss=0.361]"
     ]
    },
    {
     "name": "stderr",
     "output_type": "stream",
     "text": [
      "\u001b[A"
     ]
    },
    {
     "name": "stderr",
     "output_type": "stream",
     "text": [
      "\n"
     ]
    },
    {
     "name": "stderr",
     "output_type": "stream",
     "text": [
      "\r",
      "Epoch 1:   3%|▎         | 102/3636 [00:39<21:37,  2.72it/s, training_loss=0.361]"
     ]
    },
    {
     "name": "stderr",
     "output_type": "stream",
     "text": [
      "\u001b[A"
     ]
    },
    {
     "name": "stderr",
     "output_type": "stream",
     "text": [
      "\n"
     ]
    },
    {
     "name": "stderr",
     "output_type": "stream",
     "text": [
      "\r",
      "Epoch 1:   3%|▎         | 102/3636 [00:39<21:37,  2.72it/s, training_loss=0.366]"
     ]
    },
    {
     "name": "stderr",
     "output_type": "stream",
     "text": [
      "\u001b[A"
     ]
    },
    {
     "name": "stderr",
     "output_type": "stream",
     "text": [
      "\n"
     ]
    },
    {
     "name": "stderr",
     "output_type": "stream",
     "text": [
      "\r",
      "Epoch 1:   3%|▎         | 103/3636 [00:39<21:55,  2.68it/s, training_loss=0.366]"
     ]
    },
    {
     "name": "stderr",
     "output_type": "stream",
     "text": [
      "\u001b[A"
     ]
    },
    {
     "name": "stderr",
     "output_type": "stream",
     "text": [
      "\n"
     ]
    },
    {
     "name": "stderr",
     "output_type": "stream",
     "text": [
      "\r",
      "Epoch 1:   3%|▎         | 103/3636 [00:40<21:55,  2.68it/s, training_loss=0.368]"
     ]
    },
    {
     "name": "stderr",
     "output_type": "stream",
     "text": [
      "\u001b[A"
     ]
    },
    {
     "name": "stderr",
     "output_type": "stream",
     "text": [
      "\n"
     ]
    },
    {
     "name": "stderr",
     "output_type": "stream",
     "text": [
      "\r",
      "Epoch 1:   3%|▎         | 104/3636 [00:40<22:07,  2.66it/s, training_loss=0.368]"
     ]
    },
    {
     "name": "stderr",
     "output_type": "stream",
     "text": [
      "\u001b[A"
     ]
    },
    {
     "name": "stderr",
     "output_type": "stream",
     "text": [
      "\n"
     ]
    },
    {
     "name": "stderr",
     "output_type": "stream",
     "text": [
      "\r",
      "Epoch 1:   3%|▎         | 104/3636 [00:40<22:07,  2.66it/s, training_loss=0.361]"
     ]
    },
    {
     "name": "stderr",
     "output_type": "stream",
     "text": [
      "\u001b[A"
     ]
    },
    {
     "name": "stderr",
     "output_type": "stream",
     "text": [
      "\n"
     ]
    },
    {
     "name": "stderr",
     "output_type": "stream",
     "text": [
      "\r",
      "Epoch 1:   3%|▎         | 105/3636 [00:40<21:58,  2.68it/s, training_loss=0.361]"
     ]
    },
    {
     "name": "stderr",
     "output_type": "stream",
     "text": [
      "\u001b[A"
     ]
    },
    {
     "name": "stderr",
     "output_type": "stream",
     "text": [
      "\n"
     ]
    },
    {
     "name": "stderr",
     "output_type": "stream",
     "text": [
      "\r",
      "Epoch 1:   3%|▎         | 105/3636 [00:41<21:58,  2.68it/s, training_loss=0.368]"
     ]
    },
    {
     "name": "stderr",
     "output_type": "stream",
     "text": [
      "\u001b[A"
     ]
    },
    {
     "name": "stderr",
     "output_type": "stream",
     "text": [
      "\n"
     ]
    },
    {
     "name": "stderr",
     "output_type": "stream",
     "text": [
      "\r",
      "Epoch 1:   3%|▎         | 106/3636 [00:41<21:48,  2.70it/s, training_loss=0.368]"
     ]
    },
    {
     "name": "stderr",
     "output_type": "stream",
     "text": [
      "\u001b[A"
     ]
    },
    {
     "name": "stderr",
     "output_type": "stream",
     "text": [
      "\n"
     ]
    },
    {
     "name": "stderr",
     "output_type": "stream",
     "text": [
      "\r",
      "Epoch 1:   3%|▎         | 106/3636 [00:41<21:48,  2.70it/s, training_loss=0.361]"
     ]
    },
    {
     "name": "stderr",
     "output_type": "stream",
     "text": [
      "\u001b[A"
     ]
    },
    {
     "name": "stderr",
     "output_type": "stream",
     "text": [
      "\n"
     ]
    },
    {
     "name": "stderr",
     "output_type": "stream",
     "text": [
      "\r",
      "Epoch 1:   3%|▎         | 107/3636 [00:41<21:44,  2.71it/s, training_loss=0.361]"
     ]
    },
    {
     "name": "stderr",
     "output_type": "stream",
     "text": [
      "\u001b[A"
     ]
    },
    {
     "name": "stderr",
     "output_type": "stream",
     "text": [
      "\n"
     ]
    },
    {
     "name": "stderr",
     "output_type": "stream",
     "text": [
      "\r",
      "Epoch 1:   3%|▎         | 107/3636 [00:41<21:44,  2.71it/s, training_loss=0.364]"
     ]
    },
    {
     "name": "stderr",
     "output_type": "stream",
     "text": [
      "\u001b[A"
     ]
    },
    {
     "name": "stderr",
     "output_type": "stream",
     "text": [
      "\n"
     ]
    },
    {
     "name": "stderr",
     "output_type": "stream",
     "text": [
      "\r",
      "Epoch 1:   3%|▎         | 108/3636 [00:41<21:41,  2.71it/s, training_loss=0.364]"
     ]
    },
    {
     "name": "stderr",
     "output_type": "stream",
     "text": [
      "\u001b[A"
     ]
    },
    {
     "name": "stderr",
     "output_type": "stream",
     "text": [
      "\n"
     ]
    },
    {
     "name": "stderr",
     "output_type": "stream",
     "text": [
      "\r",
      "Epoch 1:   3%|▎         | 108/3636 [00:42<21:41,  2.71it/s, training_loss=0.362]"
     ]
    },
    {
     "name": "stderr",
     "output_type": "stream",
     "text": [
      "\u001b[A"
     ]
    },
    {
     "name": "stderr",
     "output_type": "stream",
     "text": [
      "\n"
     ]
    },
    {
     "name": "stderr",
     "output_type": "stream",
     "text": [
      "\r",
      "Epoch 1:   3%|▎         | 109/3636 [00:42<21:39,  2.71it/s, training_loss=0.362]"
     ]
    },
    {
     "name": "stderr",
     "output_type": "stream",
     "text": [
      "\u001b[A"
     ]
    },
    {
     "name": "stderr",
     "output_type": "stream",
     "text": [
      "\n"
     ]
    },
    {
     "name": "stderr",
     "output_type": "stream",
     "text": [
      "\r",
      "Epoch 1:   3%|▎         | 109/3636 [00:42<21:39,  2.71it/s, training_loss=0.368]"
     ]
    },
    {
     "name": "stderr",
     "output_type": "stream",
     "text": [
      "\u001b[A"
     ]
    },
    {
     "name": "stderr",
     "output_type": "stream",
     "text": [
      "\n"
     ]
    },
    {
     "name": "stderr",
     "output_type": "stream",
     "text": [
      "\r",
      "Epoch 1:   3%|▎         | 110/3636 [00:42<21:36,  2.72it/s, training_loss=0.368]"
     ]
    },
    {
     "name": "stderr",
     "output_type": "stream",
     "text": [
      "\u001b[A"
     ]
    },
    {
     "name": "stderr",
     "output_type": "stream",
     "text": [
      "\n"
     ]
    },
    {
     "name": "stderr",
     "output_type": "stream",
     "text": [
      "\r",
      "Epoch 1:   3%|▎         | 110/3636 [00:42<21:36,  2.72it/s, training_loss=0.361]"
     ]
    },
    {
     "name": "stderr",
     "output_type": "stream",
     "text": [
      "\u001b[A"
     ]
    },
    {
     "name": "stderr",
     "output_type": "stream",
     "text": [
      "\n"
     ]
    },
    {
     "name": "stderr",
     "output_type": "stream",
     "text": [
      "\r",
      "Epoch 1:   3%|▎         | 111/3636 [00:42<21:34,  2.72it/s, training_loss=0.361]"
     ]
    },
    {
     "name": "stderr",
     "output_type": "stream",
     "text": [
      "\u001b[A"
     ]
    },
    {
     "name": "stderr",
     "output_type": "stream",
     "text": [
      "\n"
     ]
    },
    {
     "name": "stderr",
     "output_type": "stream",
     "text": [
      "\r",
      "Epoch 1:   3%|▎         | 111/3636 [00:43<21:34,  2.72it/s, training_loss=0.365]"
     ]
    },
    {
     "name": "stderr",
     "output_type": "stream",
     "text": [
      "\u001b[A"
     ]
    },
    {
     "name": "stderr",
     "output_type": "stream",
     "text": [
      "\n"
     ]
    },
    {
     "name": "stderr",
     "output_type": "stream",
     "text": [
      "\r",
      "Epoch 1:   3%|▎         | 112/3636 [00:43<21:31,  2.73it/s, training_loss=0.365]"
     ]
    },
    {
     "name": "stderr",
     "output_type": "stream",
     "text": [
      "\u001b[A"
     ]
    },
    {
     "name": "stderr",
     "output_type": "stream",
     "text": [
      "\n"
     ]
    },
    {
     "name": "stderr",
     "output_type": "stream",
     "text": [
      "\r",
      "Epoch 1:   3%|▎         | 112/3636 [00:43<21:31,  2.73it/s, training_loss=0.366]"
     ]
    },
    {
     "name": "stderr",
     "output_type": "stream",
     "text": [
      "\u001b[A"
     ]
    },
    {
     "name": "stderr",
     "output_type": "stream",
     "text": [
      "\n"
     ]
    },
    {
     "name": "stderr",
     "output_type": "stream",
     "text": [
      "\r",
      "Epoch 1:   3%|▎         | 113/3636 [00:43<21:31,  2.73it/s, training_loss=0.366]"
     ]
    },
    {
     "name": "stderr",
     "output_type": "stream",
     "text": [
      "\u001b[A"
     ]
    },
    {
     "name": "stderr",
     "output_type": "stream",
     "text": [
      "\n"
     ]
    },
    {
     "name": "stderr",
     "output_type": "stream",
     "text": [
      "\r",
      "Epoch 1:   3%|▎         | 113/3636 [00:43<21:31,  2.73it/s, training_loss=0.367]"
     ]
    },
    {
     "name": "stderr",
     "output_type": "stream",
     "text": [
      "\u001b[A"
     ]
    },
    {
     "name": "stderr",
     "output_type": "stream",
     "text": [
      "\n"
     ]
    },
    {
     "name": "stderr",
     "output_type": "stream",
     "text": [
      "\r",
      "Epoch 1:   3%|▎         | 114/3636 [00:43<21:30,  2.73it/s, training_loss=0.367]"
     ]
    },
    {
     "name": "stderr",
     "output_type": "stream",
     "text": [
      "\u001b[A"
     ]
    },
    {
     "name": "stderr",
     "output_type": "stream",
     "text": [
      "\n"
     ]
    },
    {
     "name": "stderr",
     "output_type": "stream",
     "text": [
      "\r",
      "Epoch 1:   3%|▎         | 114/3636 [00:44<21:30,  2.73it/s, training_loss=0.358]"
     ]
    },
    {
     "name": "stderr",
     "output_type": "stream",
     "text": [
      "\u001b[A"
     ]
    },
    {
     "name": "stderr",
     "output_type": "stream",
     "text": [
      "\n"
     ]
    },
    {
     "name": "stderr",
     "output_type": "stream",
     "text": [
      "\r",
      "Epoch 1:   3%|▎         | 115/3636 [00:44<21:30,  2.73it/s, training_loss=0.358]"
     ]
    },
    {
     "name": "stderr",
     "output_type": "stream",
     "text": [
      "\u001b[A"
     ]
    },
    {
     "name": "stderr",
     "output_type": "stream",
     "text": [
      "\n"
     ]
    },
    {
     "name": "stderr",
     "output_type": "stream",
     "text": [
      "\r",
      "Epoch 1:   3%|▎         | 115/3636 [00:44<21:30,  2.73it/s, training_loss=0.362]"
     ]
    },
    {
     "name": "stderr",
     "output_type": "stream",
     "text": [
      "\u001b[A"
     ]
    },
    {
     "name": "stderr",
     "output_type": "stream",
     "text": [
      "\n"
     ]
    },
    {
     "name": "stderr",
     "output_type": "stream",
     "text": [
      "\r",
      "Epoch 1:   3%|▎         | 116/3636 [00:44<21:29,  2.73it/s, training_loss=0.362]"
     ]
    },
    {
     "name": "stderr",
     "output_type": "stream",
     "text": [
      "\u001b[A"
     ]
    },
    {
     "name": "stderr",
     "output_type": "stream",
     "text": [
      "\n"
     ]
    },
    {
     "name": "stderr",
     "output_type": "stream",
     "text": [
      "\r",
      "Epoch 1:   3%|▎         | 116/3636 [00:45<21:29,  2.73it/s, training_loss=0.360]"
     ]
    },
    {
     "name": "stderr",
     "output_type": "stream",
     "text": [
      "\u001b[A"
     ]
    },
    {
     "name": "stderr",
     "output_type": "stream",
     "text": [
      "\n"
     ]
    },
    {
     "name": "stderr",
     "output_type": "stream",
     "text": [
      "\r",
      "Epoch 1:   3%|▎         | 117/3636 [00:45<21:30,  2.73it/s, training_loss=0.360]"
     ]
    },
    {
     "name": "stderr",
     "output_type": "stream",
     "text": [
      "\u001b[A"
     ]
    },
    {
     "name": "stderr",
     "output_type": "stream",
     "text": [
      "\n"
     ]
    },
    {
     "name": "stderr",
     "output_type": "stream",
     "text": [
      "\r",
      "Epoch 1:   3%|▎         | 117/3636 [00:45<21:30,  2.73it/s, training_loss=0.360]"
     ]
    },
    {
     "name": "stderr",
     "output_type": "stream",
     "text": [
      "\u001b[A"
     ]
    },
    {
     "name": "stderr",
     "output_type": "stream",
     "text": [
      "\n"
     ]
    },
    {
     "name": "stderr",
     "output_type": "stream",
     "text": [
      "\r",
      "Epoch 1:   3%|▎         | 118/3636 [00:45<21:30,  2.73it/s, training_loss=0.360]"
     ]
    },
    {
     "name": "stderr",
     "output_type": "stream",
     "text": [
      "\u001b[A"
     ]
    },
    {
     "name": "stderr",
     "output_type": "stream",
     "text": [
      "\n"
     ]
    },
    {
     "name": "stderr",
     "output_type": "stream",
     "text": [
      "\r",
      "Epoch 1:   3%|▎         | 118/3636 [00:45<21:30,  2.73it/s, training_loss=0.363]"
     ]
    },
    {
     "name": "stderr",
     "output_type": "stream",
     "text": [
      "\u001b[A"
     ]
    },
    {
     "name": "stderr",
     "output_type": "stream",
     "text": [
      "\n"
     ]
    },
    {
     "name": "stderr",
     "output_type": "stream",
     "text": [
      "\r",
      "Epoch 1:   3%|▎         | 119/3636 [00:45<21:28,  2.73it/s, training_loss=0.363]"
     ]
    },
    {
     "name": "stderr",
     "output_type": "stream",
     "text": [
      "\u001b[A"
     ]
    },
    {
     "name": "stderr",
     "output_type": "stream",
     "text": [
      "\n"
     ]
    },
    {
     "name": "stderr",
     "output_type": "stream",
     "text": [
      "\r",
      "Epoch 1:   3%|▎         | 119/3636 [00:46<21:28,  2.73it/s, training_loss=0.362]"
     ]
    },
    {
     "name": "stderr",
     "output_type": "stream",
     "text": [
      "\u001b[A"
     ]
    },
    {
     "name": "stderr",
     "output_type": "stream",
     "text": [
      "\n"
     ]
    },
    {
     "name": "stderr",
     "output_type": "stream",
     "text": [
      "\r",
      "Epoch 1:   3%|▎         | 120/3636 [00:46<21:30,  2.72it/s, training_loss=0.362]"
     ]
    },
    {
     "name": "stderr",
     "output_type": "stream",
     "text": [
      "\u001b[A"
     ]
    },
    {
     "name": "stderr",
     "output_type": "stream",
     "text": [
      "\n"
     ]
    },
    {
     "name": "stderr",
     "output_type": "stream",
     "text": [
      "\r",
      "Epoch 1:   3%|▎         | 120/3636 [00:46<21:30,  2.72it/s, training_loss=0.362]"
     ]
    },
    {
     "name": "stderr",
     "output_type": "stream",
     "text": [
      "\u001b[A"
     ]
    },
    {
     "name": "stderr",
     "output_type": "stream",
     "text": [
      "\n"
     ]
    },
    {
     "name": "stderr",
     "output_type": "stream",
     "text": [
      "\r",
      "Epoch 1:   3%|▎         | 121/3636 [00:46<21:45,  2.69it/s, training_loss=0.362]"
     ]
    },
    {
     "name": "stderr",
     "output_type": "stream",
     "text": [
      "\u001b[A"
     ]
    },
    {
     "name": "stderr",
     "output_type": "stream",
     "text": [
      "\n"
     ]
    },
    {
     "name": "stderr",
     "output_type": "stream",
     "text": [
      "\r",
      "Epoch 1:   3%|▎         | 121/3636 [00:46<21:45,  2.69it/s, training_loss=0.362]"
     ]
    },
    {
     "name": "stderr",
     "output_type": "stream",
     "text": [
      "\u001b[A"
     ]
    },
    {
     "name": "stderr",
     "output_type": "stream",
     "text": [
      "\n"
     ]
    },
    {
     "name": "stderr",
     "output_type": "stream",
     "text": [
      "\r",
      "Epoch 1:   3%|▎         | 122/3636 [00:46<21:42,  2.70it/s, training_loss=0.362]"
     ]
    },
    {
     "name": "stderr",
     "output_type": "stream",
     "text": [
      "\u001b[A"
     ]
    },
    {
     "name": "stderr",
     "output_type": "stream",
     "text": [
      "\n"
     ]
    },
    {
     "name": "stderr",
     "output_type": "stream",
     "text": [
      "\r",
      "Epoch 1:   3%|▎         | 122/3636 [00:47<21:42,  2.70it/s, training_loss=0.365]"
     ]
    },
    {
     "name": "stderr",
     "output_type": "stream",
     "text": [
      "\u001b[A"
     ]
    },
    {
     "name": "stderr",
     "output_type": "stream",
     "text": [
      "\n"
     ]
    },
    {
     "name": "stderr",
     "output_type": "stream",
     "text": [
      "\r",
      "Epoch 1:   3%|▎         | 123/3636 [00:47<21:35,  2.71it/s, training_loss=0.365]"
     ]
    },
    {
     "name": "stderr",
     "output_type": "stream",
     "text": [
      "\u001b[A"
     ]
    },
    {
     "name": "stderr",
     "output_type": "stream",
     "text": [
      "\n"
     ]
    },
    {
     "name": "stderr",
     "output_type": "stream",
     "text": [
      "\r",
      "Epoch 1:   3%|▎         | 123/3636 [00:47<21:35,  2.71it/s, training_loss=0.364]"
     ]
    },
    {
     "name": "stderr",
     "output_type": "stream",
     "text": [
      "\u001b[A"
     ]
    },
    {
     "name": "stderr",
     "output_type": "stream",
     "text": [
      "\n"
     ]
    },
    {
     "name": "stderr",
     "output_type": "stream",
     "text": [
      "\r",
      "Epoch 1:   3%|▎         | 124/3636 [00:47<21:35,  2.71it/s, training_loss=0.364]"
     ]
    },
    {
     "name": "stderr",
     "output_type": "stream",
     "text": [
      "\u001b[A"
     ]
    },
    {
     "name": "stderr",
     "output_type": "stream",
     "text": [
      "\n"
     ]
    },
    {
     "name": "stderr",
     "output_type": "stream",
     "text": [
      "\r",
      "Epoch 1:   3%|▎         | 124/3636 [00:48<21:35,  2.71it/s, training_loss=0.357]"
     ]
    },
    {
     "name": "stderr",
     "output_type": "stream",
     "text": [
      "\u001b[A"
     ]
    },
    {
     "name": "stderr",
     "output_type": "stream",
     "text": [
      "\n"
     ]
    },
    {
     "name": "stderr",
     "output_type": "stream",
     "text": [
      "\r",
      "Epoch 1:   3%|▎         | 125/3636 [00:48<21:45,  2.69it/s, training_loss=0.357]"
     ]
    },
    {
     "name": "stderr",
     "output_type": "stream",
     "text": [
      "\u001b[A"
     ]
    },
    {
     "name": "stderr",
     "output_type": "stream",
     "text": [
      "\n"
     ]
    },
    {
     "name": "stderr",
     "output_type": "stream",
     "text": [
      "\r",
      "Epoch 1:   3%|▎         | 125/3636 [00:48<21:45,  2.69it/s, training_loss=0.363]"
     ]
    },
    {
     "name": "stderr",
     "output_type": "stream",
     "text": [
      "\u001b[A"
     ]
    },
    {
     "name": "stderr",
     "output_type": "stream",
     "text": [
      "\n"
     ]
    },
    {
     "name": "stderr",
     "output_type": "stream",
     "text": [
      "\r",
      "Epoch 1:   3%|▎         | 126/3636 [00:48<21:40,  2.70it/s, training_loss=0.363]"
     ]
    },
    {
     "name": "stderr",
     "output_type": "stream",
     "text": [
      "\u001b[A"
     ]
    },
    {
     "name": "stderr",
     "output_type": "stream",
     "text": [
      "\n"
     ]
    },
    {
     "name": "stderr",
     "output_type": "stream",
     "text": [
      "\r",
      "Epoch 1:   3%|▎         | 126/3636 [00:48<21:40,  2.70it/s, training_loss=0.365]"
     ]
    },
    {
     "name": "stderr",
     "output_type": "stream",
     "text": [
      "\u001b[A"
     ]
    },
    {
     "name": "stderr",
     "output_type": "stream",
     "text": [
      "\n"
     ]
    },
    {
     "name": "stderr",
     "output_type": "stream",
     "text": [
      "\r",
      "Epoch 1:   3%|▎         | 127/3636 [00:48<21:42,  2.69it/s, training_loss=0.365]"
     ]
    },
    {
     "name": "stderr",
     "output_type": "stream",
     "text": [
      "\u001b[A"
     ]
    },
    {
     "name": "stderr",
     "output_type": "stream",
     "text": [
      "\n"
     ]
    },
    {
     "name": "stderr",
     "output_type": "stream",
     "text": [
      "\r",
      "Epoch 1:   3%|▎         | 127/3636 [00:49<21:42,  2.69it/s, training_loss=0.364]"
     ]
    },
    {
     "name": "stderr",
     "output_type": "stream",
     "text": [
      "\u001b[A"
     ]
    },
    {
     "name": "stderr",
     "output_type": "stream",
     "text": [
      "\n"
     ]
    },
    {
     "name": "stderr",
     "output_type": "stream",
     "text": [
      "\r",
      "Epoch 1:   4%|▎         | 128/3636 [00:49<21:40,  2.70it/s, training_loss=0.364]"
     ]
    },
    {
     "name": "stderr",
     "output_type": "stream",
     "text": [
      "\u001b[A"
     ]
    },
    {
     "name": "stderr",
     "output_type": "stream",
     "text": [
      "\n"
     ]
    },
    {
     "name": "stderr",
     "output_type": "stream",
     "text": [
      "\r",
      "Epoch 1:   4%|▎         | 128/3636 [00:49<21:40,  2.70it/s, training_loss=0.359]"
     ]
    },
    {
     "name": "stderr",
     "output_type": "stream",
     "text": [
      "\u001b[A"
     ]
    },
    {
     "name": "stderr",
     "output_type": "stream",
     "text": [
      "\n"
     ]
    },
    {
     "name": "stderr",
     "output_type": "stream",
     "text": [
      "\r",
      "Epoch 1:   4%|▎         | 129/3636 [00:49<21:34,  2.71it/s, training_loss=0.359]"
     ]
    },
    {
     "name": "stderr",
     "output_type": "stream",
     "text": [
      "\u001b[A"
     ]
    },
    {
     "name": "stderr",
     "output_type": "stream",
     "text": [
      "\n"
     ]
    },
    {
     "name": "stderr",
     "output_type": "stream",
     "text": [
      "\r",
      "Epoch 1:   4%|▎         | 129/3636 [00:49<21:34,  2.71it/s, training_loss=0.358]"
     ]
    },
    {
     "name": "stderr",
     "output_type": "stream",
     "text": [
      "\u001b[A"
     ]
    },
    {
     "name": "stderr",
     "output_type": "stream",
     "text": [
      "\n"
     ]
    },
    {
     "name": "stderr",
     "output_type": "stream",
     "text": [
      "\r",
      "Epoch 1:   4%|▎         | 130/3636 [00:49<21:31,  2.71it/s, training_loss=0.358]"
     ]
    },
    {
     "name": "stderr",
     "output_type": "stream",
     "text": [
      "\u001b[A"
     ]
    },
    {
     "name": "stderr",
     "output_type": "stream",
     "text": [
      "\n"
     ]
    },
    {
     "name": "stderr",
     "output_type": "stream",
     "text": [
      "\r",
      "Epoch 1:   4%|▎         | 130/3636 [00:50<21:31,  2.71it/s, training_loss=0.365]"
     ]
    },
    {
     "name": "stderr",
     "output_type": "stream",
     "text": [
      "\u001b[A"
     ]
    },
    {
     "name": "stderr",
     "output_type": "stream",
     "text": [
      "\n"
     ]
    },
    {
     "name": "stderr",
     "output_type": "stream",
     "text": [
      "\r",
      "Epoch 1:   4%|▎         | 131/3636 [00:50<21:30,  2.72it/s, training_loss=0.365]"
     ]
    },
    {
     "name": "stderr",
     "output_type": "stream",
     "text": [
      "\u001b[A"
     ]
    },
    {
     "name": "stderr",
     "output_type": "stream",
     "text": [
      "\n"
     ]
    },
    {
     "name": "stderr",
     "output_type": "stream",
     "text": [
      "\r",
      "Epoch 1:   4%|▎         | 131/3636 [00:50<21:30,  2.72it/s, training_loss=0.365]"
     ]
    },
    {
     "name": "stderr",
     "output_type": "stream",
     "text": [
      "\u001b[A"
     ]
    },
    {
     "name": "stderr",
     "output_type": "stream",
     "text": [
      "\n"
     ]
    },
    {
     "name": "stderr",
     "output_type": "stream",
     "text": [
      "\r",
      "Epoch 1:   4%|▎         | 132/3636 [00:50<21:38,  2.70it/s, training_loss=0.365]"
     ]
    },
    {
     "name": "stderr",
     "output_type": "stream",
     "text": [
      "\u001b[A"
     ]
    },
    {
     "name": "stderr",
     "output_type": "stream",
     "text": [
      "\n"
     ]
    },
    {
     "name": "stderr",
     "output_type": "stream",
     "text": [
      "\r",
      "Epoch 1:   4%|▎         | 132/3636 [00:50<21:38,  2.70it/s, training_loss=0.359]"
     ]
    },
    {
     "name": "stderr",
     "output_type": "stream",
     "text": [
      "\u001b[A"
     ]
    },
    {
     "name": "stderr",
     "output_type": "stream",
     "text": [
      "\n"
     ]
    },
    {
     "name": "stderr",
     "output_type": "stream",
     "text": [
      "\r",
      "Epoch 1:   4%|▎         | 133/3636 [00:50<21:32,  2.71it/s, training_loss=0.359]"
     ]
    },
    {
     "name": "stderr",
     "output_type": "stream",
     "text": [
      "\u001b[A"
     ]
    },
    {
     "name": "stderr",
     "output_type": "stream",
     "text": [
      "\n"
     ]
    },
    {
     "name": "stderr",
     "output_type": "stream",
     "text": [
      "\r",
      "Epoch 1:   4%|▎         | 133/3636 [00:51<21:32,  2.71it/s, training_loss=0.362]"
     ]
    },
    {
     "name": "stderr",
     "output_type": "stream",
     "text": [
      "\u001b[A"
     ]
    },
    {
     "name": "stderr",
     "output_type": "stream",
     "text": [
      "\n"
     ]
    },
    {
     "name": "stderr",
     "output_type": "stream",
     "text": [
      "\r",
      "Epoch 1:   4%|▎         | 134/3636 [00:51<21:27,  2.72it/s, training_loss=0.362]"
     ]
    },
    {
     "name": "stderr",
     "output_type": "stream",
     "text": [
      "\u001b[A"
     ]
    },
    {
     "name": "stderr",
     "output_type": "stream",
     "text": [
      "\n"
     ]
    },
    {
     "name": "stderr",
     "output_type": "stream",
     "text": [
      "\r",
      "Epoch 1:   4%|▎         | 134/3636 [00:51<21:27,  2.72it/s, training_loss=0.360]"
     ]
    },
    {
     "name": "stderr",
     "output_type": "stream",
     "text": [
      "\u001b[A"
     ]
    },
    {
     "name": "stderr",
     "output_type": "stream",
     "text": [
      "\n"
     ]
    },
    {
     "name": "stderr",
     "output_type": "stream",
     "text": [
      "\r",
      "Epoch 1:   4%|▎         | 135/3636 [00:51<21:25,  2.72it/s, training_loss=0.360]"
     ]
    },
    {
     "name": "stderr",
     "output_type": "stream",
     "text": [
      "\u001b[A"
     ]
    },
    {
     "name": "stderr",
     "output_type": "stream",
     "text": [
      "\n"
     ]
    },
    {
     "name": "stderr",
     "output_type": "stream",
     "text": [
      "\r",
      "Epoch 1:   4%|▎         | 135/3636 [00:52<21:25,  2.72it/s, training_loss=0.364]"
     ]
    },
    {
     "name": "stderr",
     "output_type": "stream",
     "text": [
      "\u001b[A"
     ]
    },
    {
     "name": "stderr",
     "output_type": "stream",
     "text": [
      "\n"
     ]
    },
    {
     "name": "stderr",
     "output_type": "stream",
     "text": [
      "\r",
      "Epoch 1:   4%|▎         | 136/3636 [00:52<21:41,  2.69it/s, training_loss=0.364]"
     ]
    },
    {
     "name": "stderr",
     "output_type": "stream",
     "text": [
      "\u001b[A"
     ]
    },
    {
     "name": "stderr",
     "output_type": "stream",
     "text": [
      "\n"
     ]
    },
    {
     "name": "stderr",
     "output_type": "stream",
     "text": [
      "\r",
      "Epoch 1:   4%|▎         | 136/3636 [00:52<21:41,  2.69it/s, training_loss=0.358]"
     ]
    },
    {
     "name": "stderr",
     "output_type": "stream",
     "text": [
      "\u001b[A"
     ]
    },
    {
     "name": "stderr",
     "output_type": "stream",
     "text": [
      "\n"
     ]
    },
    {
     "name": "stderr",
     "output_type": "stream",
     "text": [
      "\r",
      "Epoch 1:   4%|▍         | 137/3636 [00:52<21:42,  2.69it/s, training_loss=0.358]"
     ]
    },
    {
     "name": "stderr",
     "output_type": "stream",
     "text": [
      "\u001b[A"
     ]
    },
    {
     "name": "stderr",
     "output_type": "stream",
     "text": [
      "\n"
     ]
    },
    {
     "name": "stderr",
     "output_type": "stream",
     "text": [
      "\r",
      "Epoch 1:   4%|▍         | 137/3636 [00:52<21:42,  2.69it/s, training_loss=0.365]"
     ]
    },
    {
     "name": "stderr",
     "output_type": "stream",
     "text": [
      "\u001b[A"
     ]
    },
    {
     "name": "stderr",
     "output_type": "stream",
     "text": [
      "\n"
     ]
    },
    {
     "name": "stderr",
     "output_type": "stream",
     "text": [
      "\r",
      "Epoch 1:   4%|▍         | 138/3636 [00:52<21:43,  2.68it/s, training_loss=0.365]"
     ]
    },
    {
     "name": "stderr",
     "output_type": "stream",
     "text": [
      "\u001b[A"
     ]
    },
    {
     "name": "stderr",
     "output_type": "stream",
     "text": [
      "\n"
     ]
    },
    {
     "name": "stderr",
     "output_type": "stream",
     "text": [
      "\r",
      "Epoch 1:   4%|▍         | 138/3636 [00:53<21:43,  2.68it/s, training_loss=0.366]"
     ]
    },
    {
     "name": "stderr",
     "output_type": "stream",
     "text": [
      "\u001b[A"
     ]
    },
    {
     "name": "stderr",
     "output_type": "stream",
     "text": [
      "\n"
     ]
    },
    {
     "name": "stderr",
     "output_type": "stream",
     "text": [
      "\r",
      "Epoch 1:   4%|▍         | 139/3636 [00:53<21:37,  2.70it/s, training_loss=0.366]"
     ]
    },
    {
     "name": "stderr",
     "output_type": "stream",
     "text": [
      "\u001b[A"
     ]
    },
    {
     "name": "stderr",
     "output_type": "stream",
     "text": [
      "\n"
     ]
    },
    {
     "name": "stderr",
     "output_type": "stream",
     "text": [
      "\r",
      "Epoch 1:   4%|▍         | 139/3636 [00:53<21:37,  2.70it/s, training_loss=0.364]"
     ]
    },
    {
     "name": "stderr",
     "output_type": "stream",
     "text": [
      "\u001b[A"
     ]
    },
    {
     "name": "stderr",
     "output_type": "stream",
     "text": [
      "\n"
     ]
    },
    {
     "name": "stderr",
     "output_type": "stream",
     "text": [
      "\r",
      "Epoch 1:   4%|▍         | 140/3636 [00:53<21:33,  2.70it/s, training_loss=0.364]"
     ]
    },
    {
     "name": "stderr",
     "output_type": "stream",
     "text": [
      "\u001b[A"
     ]
    },
    {
     "name": "stderr",
     "output_type": "stream",
     "text": [
      "\n"
     ]
    },
    {
     "name": "stderr",
     "output_type": "stream",
     "text": [
      "\r",
      "Epoch 1:   4%|▍         | 140/3636 [00:53<21:33,  2.70it/s, training_loss=0.358]"
     ]
    },
    {
     "name": "stderr",
     "output_type": "stream",
     "text": [
      "\u001b[A"
     ]
    },
    {
     "name": "stderr",
     "output_type": "stream",
     "text": [
      "\n"
     ]
    },
    {
     "name": "stderr",
     "output_type": "stream",
     "text": [
      "\r",
      "Epoch 1:   4%|▍         | 141/3636 [00:53<21:30,  2.71it/s, training_loss=0.358]"
     ]
    },
    {
     "name": "stderr",
     "output_type": "stream",
     "text": [
      "\u001b[A"
     ]
    },
    {
     "name": "stderr",
     "output_type": "stream",
     "text": [
      "\n"
     ]
    },
    {
     "name": "stderr",
     "output_type": "stream",
     "text": [
      "\r",
      "Epoch 1:   4%|▍         | 141/3636 [00:54<21:30,  2.71it/s, training_loss=0.359]"
     ]
    },
    {
     "name": "stderr",
     "output_type": "stream",
     "text": [
      "\u001b[A"
     ]
    },
    {
     "name": "stderr",
     "output_type": "stream",
     "text": [
      "\n"
     ]
    },
    {
     "name": "stderr",
     "output_type": "stream",
     "text": [
      "\r",
      "Epoch 1:   4%|▍         | 142/3636 [00:54<21:44,  2.68it/s, training_loss=0.359]"
     ]
    },
    {
     "name": "stderr",
     "output_type": "stream",
     "text": [
      "\u001b[A"
     ]
    },
    {
     "name": "stderr",
     "output_type": "stream",
     "text": [
      "\n"
     ]
    },
    {
     "name": "stderr",
     "output_type": "stream",
     "text": [
      "\r",
      "Epoch 1:   4%|▍         | 142/3636 [00:54<21:44,  2.68it/s, training_loss=0.356]"
     ]
    },
    {
     "name": "stderr",
     "output_type": "stream",
     "text": [
      "\u001b[A"
     ]
    },
    {
     "name": "stderr",
     "output_type": "stream",
     "text": [
      "\n"
     ]
    },
    {
     "name": "stderr",
     "output_type": "stream",
     "text": [
      "\r",
      "Epoch 1:   4%|▍         | 143/3636 [00:54<21:40,  2.69it/s, training_loss=0.356]"
     ]
    },
    {
     "name": "stderr",
     "output_type": "stream",
     "text": [
      "\u001b[A"
     ]
    },
    {
     "name": "stderr",
     "output_type": "stream",
     "text": [
      "\n"
     ]
    },
    {
     "name": "stderr",
     "output_type": "stream",
     "text": [
      "\r",
      "Epoch 1:   4%|▍         | 143/3636 [00:55<21:40,  2.69it/s, training_loss=0.360]"
     ]
    },
    {
     "name": "stderr",
     "output_type": "stream",
     "text": [
      "\u001b[A"
     ]
    },
    {
     "name": "stderr",
     "output_type": "stream",
     "text": [
      "\n"
     ]
    },
    {
     "name": "stderr",
     "output_type": "stream",
     "text": [
      "\r",
      "Epoch 1:   4%|▍         | 144/3636 [00:55<21:36,  2.69it/s, training_loss=0.360]"
     ]
    },
    {
     "name": "stderr",
     "output_type": "stream",
     "text": [
      "\u001b[A"
     ]
    },
    {
     "name": "stderr",
     "output_type": "stream",
     "text": [
      "\n"
     ]
    },
    {
     "name": "stderr",
     "output_type": "stream",
     "text": [
      "\r",
      "Epoch 1:   4%|▍         | 144/3636 [00:55<21:36,  2.69it/s, training_loss=0.356]"
     ]
    },
    {
     "name": "stderr",
     "output_type": "stream",
     "text": [
      "\u001b[A"
     ]
    },
    {
     "name": "stderr",
     "output_type": "stream",
     "text": [
      "\n"
     ]
    },
    {
     "name": "stderr",
     "output_type": "stream",
     "text": [
      "\r",
      "Epoch 1:   4%|▍         | 145/3636 [00:55<21:31,  2.70it/s, training_loss=0.356]"
     ]
    },
    {
     "name": "stderr",
     "output_type": "stream",
     "text": [
      "\u001b[A"
     ]
    },
    {
     "name": "stderr",
     "output_type": "stream",
     "text": [
      "\n"
     ]
    },
    {
     "name": "stderr",
     "output_type": "stream",
     "text": [
      "\r",
      "Epoch 1:   4%|▍         | 145/3636 [00:55<21:31,  2.70it/s, training_loss=0.358]"
     ]
    },
    {
     "name": "stderr",
     "output_type": "stream",
     "text": [
      "\u001b[A"
     ]
    },
    {
     "name": "stderr",
     "output_type": "stream",
     "text": [
      "\n"
     ]
    },
    {
     "name": "stderr",
     "output_type": "stream",
     "text": [
      "\r",
      "Epoch 1:   4%|▍         | 146/3636 [00:55<21:38,  2.69it/s, training_loss=0.358]"
     ]
    },
    {
     "name": "stderr",
     "output_type": "stream",
     "text": [
      "\u001b[A"
     ]
    },
    {
     "name": "stderr",
     "output_type": "stream",
     "text": [
      "\n"
     ]
    },
    {
     "name": "stderr",
     "output_type": "stream",
     "text": [
      "\r",
      "Epoch 1:   4%|▍         | 146/3636 [00:56<21:38,  2.69it/s, training_loss=0.360]"
     ]
    },
    {
     "name": "stderr",
     "output_type": "stream",
     "text": [
      "\u001b[A"
     ]
    },
    {
     "name": "stderr",
     "output_type": "stream",
     "text": [
      "\n"
     ]
    },
    {
     "name": "stderr",
     "output_type": "stream",
     "text": [
      "\r",
      "Epoch 1:   4%|▍         | 147/3636 [00:56<21:50,  2.66it/s, training_loss=0.360]"
     ]
    },
    {
     "name": "stderr",
     "output_type": "stream",
     "text": [
      "\u001b[A"
     ]
    },
    {
     "name": "stderr",
     "output_type": "stream",
     "text": [
      "\n"
     ]
    },
    {
     "name": "stderr",
     "output_type": "stream",
     "text": [
      "\r",
      "Epoch 1:   4%|▍         | 147/3636 [00:56<21:50,  2.66it/s, training_loss=0.356]"
     ]
    },
    {
     "name": "stderr",
     "output_type": "stream",
     "text": [
      "\u001b[A"
     ]
    },
    {
     "name": "stderr",
     "output_type": "stream",
     "text": [
      "\n"
     ]
    },
    {
     "name": "stderr",
     "output_type": "stream",
     "text": [
      "\r",
      "Epoch 1:   4%|▍         | 148/3636 [00:56<21:54,  2.65it/s, training_loss=0.356]"
     ]
    },
    {
     "name": "stderr",
     "output_type": "stream",
     "text": [
      "\u001b[A"
     ]
    },
    {
     "name": "stderr",
     "output_type": "stream",
     "text": [
      "\n"
     ]
    },
    {
     "name": "stderr",
     "output_type": "stream",
     "text": [
      "\r",
      "Epoch 1:   4%|▍         | 148/3636 [00:56<21:54,  2.65it/s, training_loss=0.367]"
     ]
    },
    {
     "name": "stderr",
     "output_type": "stream",
     "text": [
      "\u001b[A"
     ]
    },
    {
     "name": "stderr",
     "output_type": "stream",
     "text": [
      "\n"
     ]
    },
    {
     "name": "stderr",
     "output_type": "stream",
     "text": [
      "\r",
      "Epoch 1:   4%|▍         | 149/3636 [00:56<21:59,  2.64it/s, training_loss=0.367]"
     ]
    },
    {
     "name": "stderr",
     "output_type": "stream",
     "text": [
      "\u001b[A"
     ]
    },
    {
     "name": "stderr",
     "output_type": "stream",
     "text": [
      "\n"
     ]
    },
    {
     "name": "stderr",
     "output_type": "stream",
     "text": [
      "\r",
      "Epoch 1:   4%|▍         | 149/3636 [00:57<21:59,  2.64it/s, training_loss=0.358]"
     ]
    },
    {
     "name": "stderr",
     "output_type": "stream",
     "text": [
      "\u001b[A"
     ]
    },
    {
     "name": "stderr",
     "output_type": "stream",
     "text": [
      "\n"
     ]
    },
    {
     "name": "stderr",
     "output_type": "stream",
     "text": [
      "\r",
      "Epoch 1:   4%|▍         | 150/3636 [00:57<21:46,  2.67it/s, training_loss=0.358]"
     ]
    },
    {
     "name": "stderr",
     "output_type": "stream",
     "text": [
      "\u001b[A"
     ]
    },
    {
     "name": "stderr",
     "output_type": "stream",
     "text": [
      "\n"
     ]
    },
    {
     "name": "stderr",
     "output_type": "stream",
     "text": [
      "\r",
      "Epoch 1:   4%|▍         | 150/3636 [00:57<21:46,  2.67it/s, training_loss=0.361]"
     ]
    },
    {
     "name": "stderr",
     "output_type": "stream",
     "text": [
      "\u001b[A"
     ]
    },
    {
     "name": "stderr",
     "output_type": "stream",
     "text": [
      "\n"
     ]
    },
    {
     "name": "stderr",
     "output_type": "stream",
     "text": [
      "\r",
      "Epoch 1:   4%|▍         | 151/3636 [00:57<21:52,  2.65it/s, training_loss=0.361]"
     ]
    },
    {
     "name": "stderr",
     "output_type": "stream",
     "text": [
      "\u001b[A"
     ]
    },
    {
     "name": "stderr",
     "output_type": "stream",
     "text": [
      "\n"
     ]
    },
    {
     "name": "stderr",
     "output_type": "stream",
     "text": [
      "\r",
      "Epoch 1:   4%|▍         | 151/3636 [00:58<21:52,  2.65it/s, training_loss=0.353]"
     ]
    },
    {
     "name": "stderr",
     "output_type": "stream",
     "text": [
      "\u001b[A"
     ]
    },
    {
     "name": "stderr",
     "output_type": "stream",
     "text": [
      "\n"
     ]
    },
    {
     "name": "stderr",
     "output_type": "stream",
     "text": [
      "\r",
      "Epoch 1:   4%|▍         | 152/3636 [00:58<21:41,  2.68it/s, training_loss=0.353]"
     ]
    },
    {
     "name": "stderr",
     "output_type": "stream",
     "text": [
      "\u001b[A"
     ]
    },
    {
     "name": "stderr",
     "output_type": "stream",
     "text": [
      "\n"
     ]
    },
    {
     "name": "stderr",
     "output_type": "stream",
     "text": [
      "\r",
      "Epoch 1:   4%|▍         | 152/3636 [00:58<21:41,  2.68it/s, training_loss=0.356]"
     ]
    },
    {
     "name": "stderr",
     "output_type": "stream",
     "text": [
      "\u001b[A"
     ]
    },
    {
     "name": "stderr",
     "output_type": "stream",
     "text": [
      "\n"
     ]
    },
    {
     "name": "stderr",
     "output_type": "stream",
     "text": [
      "\r",
      "Epoch 1:   4%|▍         | 153/3636 [00:58<21:30,  2.70it/s, training_loss=0.356]"
     ]
    },
    {
     "name": "stderr",
     "output_type": "stream",
     "text": [
      "\u001b[A"
     ]
    },
    {
     "name": "stderr",
     "output_type": "stream",
     "text": [
      "\n"
     ]
    },
    {
     "name": "stderr",
     "output_type": "stream",
     "text": [
      "\r",
      "Epoch 1:   4%|▍         | 153/3636 [00:58<21:30,  2.70it/s, training_loss=0.362]"
     ]
    },
    {
     "name": "stderr",
     "output_type": "stream",
     "text": [
      "\u001b[A"
     ]
    },
    {
     "name": "stderr",
     "output_type": "stream",
     "text": [
      "\n"
     ]
    },
    {
     "name": "stderr",
     "output_type": "stream",
     "text": [
      "\r",
      "Epoch 1:   4%|▍         | 154/3636 [00:58<21:27,  2.70it/s, training_loss=0.362]"
     ]
    },
    {
     "name": "stderr",
     "output_type": "stream",
     "text": [
      "\u001b[A"
     ]
    },
    {
     "name": "stderr",
     "output_type": "stream",
     "text": [
      "\n"
     ]
    },
    {
     "name": "stderr",
     "output_type": "stream",
     "text": [
      "\r",
      "Epoch 1:   4%|▍         | 154/3636 [00:59<21:27,  2.70it/s, training_loss=0.354]"
     ]
    },
    {
     "name": "stderr",
     "output_type": "stream",
     "text": [
      "\u001b[A"
     ]
    },
    {
     "name": "stderr",
     "output_type": "stream",
     "text": [
      "\n"
     ]
    },
    {
     "name": "stderr",
     "output_type": "stream",
     "text": [
      "\r",
      "Epoch 1:   4%|▍         | 155/3636 [00:59<21:26,  2.71it/s, training_loss=0.354]"
     ]
    },
    {
     "name": "stderr",
     "output_type": "stream",
     "text": [
      "\u001b[A"
     ]
    },
    {
     "name": "stderr",
     "output_type": "stream",
     "text": [
      "\n"
     ]
    },
    {
     "name": "stderr",
     "output_type": "stream",
     "text": [
      "\r",
      "Epoch 1:   4%|▍         | 155/3636 [00:59<21:26,  2.71it/s, training_loss=0.360]"
     ]
    },
    {
     "name": "stderr",
     "output_type": "stream",
     "text": [
      "\u001b[A"
     ]
    },
    {
     "name": "stderr",
     "output_type": "stream",
     "text": [
      "\n"
     ]
    },
    {
     "name": "stderr",
     "output_type": "stream",
     "text": [
      "\r",
      "Epoch 1:   4%|▍         | 156/3636 [00:59<21:24,  2.71it/s, training_loss=0.360]"
     ]
    },
    {
     "name": "stderr",
     "output_type": "stream",
     "text": [
      "\u001b[A"
     ]
    },
    {
     "name": "stderr",
     "output_type": "stream",
     "text": [
      "\n"
     ]
    },
    {
     "name": "stderr",
     "output_type": "stream",
     "text": [
      "\r",
      "Epoch 1:   4%|▍         | 156/3636 [00:59<21:24,  2.71it/s, training_loss=0.357]"
     ]
    },
    {
     "name": "stderr",
     "output_type": "stream",
     "text": [
      "\u001b[A"
     ]
    },
    {
     "name": "stderr",
     "output_type": "stream",
     "text": [
      "\n"
     ]
    },
    {
     "name": "stderr",
     "output_type": "stream",
     "text": [
      "\r",
      "Epoch 1:   4%|▍         | 157/3636 [00:59<21:21,  2.71it/s, training_loss=0.357]"
     ]
    },
    {
     "name": "stderr",
     "output_type": "stream",
     "text": [
      "\u001b[A"
     ]
    },
    {
     "name": "stderr",
     "output_type": "stream",
     "text": [
      "\n"
     ]
    },
    {
     "name": "stderr",
     "output_type": "stream",
     "text": [
      "\r",
      "Epoch 1:   4%|▍         | 157/3636 [01:00<21:21,  2.71it/s, training_loss=0.357]"
     ]
    },
    {
     "name": "stderr",
     "output_type": "stream",
     "text": [
      "\u001b[A"
     ]
    },
    {
     "name": "stderr",
     "output_type": "stream",
     "text": [
      "\n"
     ]
    },
    {
     "name": "stderr",
     "output_type": "stream",
     "text": [
      "\r",
      "Epoch 1:   4%|▍         | 158/3636 [01:00<21:33,  2.69it/s, training_loss=0.357]"
     ]
    },
    {
     "name": "stderr",
     "output_type": "stream",
     "text": [
      "\u001b[A"
     ]
    },
    {
     "name": "stderr",
     "output_type": "stream",
     "text": [
      "\n"
     ]
    },
    {
     "name": "stderr",
     "output_type": "stream",
     "text": [
      "\r",
      "Epoch 1:   4%|▍         | 158/3636 [01:00<21:33,  2.69it/s, training_loss=0.353]"
     ]
    },
    {
     "name": "stderr",
     "output_type": "stream",
     "text": [
      "\u001b[A"
     ]
    },
    {
     "name": "stderr",
     "output_type": "stream",
     "text": [
      "\n"
     ]
    },
    {
     "name": "stderr",
     "output_type": "stream",
     "text": [
      "\r",
      "Epoch 1:   4%|▍         | 159/3636 [01:00<21:42,  2.67it/s, training_loss=0.353]"
     ]
    },
    {
     "name": "stderr",
     "output_type": "stream",
     "text": [
      "\u001b[A"
     ]
    },
    {
     "name": "stderr",
     "output_type": "stream",
     "text": [
      "\n"
     ]
    },
    {
     "name": "stderr",
     "output_type": "stream",
     "text": [
      "\r",
      "Epoch 1:   4%|▍         | 159/3636 [01:01<21:42,  2.67it/s, training_loss=0.355]"
     ]
    },
    {
     "name": "stderr",
     "output_type": "stream",
     "text": [
      "\u001b[A"
     ]
    },
    {
     "name": "stderr",
     "output_type": "stream",
     "text": [
      "\n"
     ]
    },
    {
     "name": "stderr",
     "output_type": "stream",
     "text": [
      "\r",
      "Epoch 1:   4%|▍         | 160/3636 [01:01<21:34,  2.69it/s, training_loss=0.355]"
     ]
    },
    {
     "name": "stderr",
     "output_type": "stream",
     "text": [
      "\u001b[A"
     ]
    },
    {
     "name": "stderr",
     "output_type": "stream",
     "text": [
      "\n"
     ]
    },
    {
     "name": "stderr",
     "output_type": "stream",
     "text": [
      "\r",
      "Epoch 1:   4%|▍         | 160/3636 [01:01<21:34,  2.69it/s, training_loss=0.362]"
     ]
    },
    {
     "name": "stderr",
     "output_type": "stream",
     "text": [
      "\u001b[A"
     ]
    },
    {
     "name": "stderr",
     "output_type": "stream",
     "text": [
      "\n"
     ]
    },
    {
     "name": "stderr",
     "output_type": "stream",
     "text": [
      "\r",
      "Epoch 1:   4%|▍         | 161/3636 [01:01<21:28,  2.70it/s, training_loss=0.362]"
     ]
    },
    {
     "name": "stderr",
     "output_type": "stream",
     "text": [
      "\u001b[A"
     ]
    },
    {
     "name": "stderr",
     "output_type": "stream",
     "text": [
      "\n"
     ]
    },
    {
     "name": "stderr",
     "output_type": "stream",
     "text": [
      "\r",
      "Epoch 1:   4%|▍         | 161/3636 [01:01<21:28,  2.70it/s, training_loss=0.348]"
     ]
    },
    {
     "name": "stderr",
     "output_type": "stream",
     "text": [
      "\u001b[A"
     ]
    },
    {
     "name": "stderr",
     "output_type": "stream",
     "text": [
      "\n"
     ]
    },
    {
     "name": "stderr",
     "output_type": "stream",
     "text": [
      "\r",
      "Epoch 1:   4%|▍         | 162/3636 [01:01<21:21,  2.71it/s, training_loss=0.348]"
     ]
    },
    {
     "name": "stderr",
     "output_type": "stream",
     "text": [
      "\u001b[A"
     ]
    },
    {
     "name": "stderr",
     "output_type": "stream",
     "text": [
      "\n"
     ]
    },
    {
     "name": "stderr",
     "output_type": "stream",
     "text": [
      "\r",
      "Epoch 1:   4%|▍         | 162/3636 [01:02<21:21,  2.71it/s, training_loss=0.352]"
     ]
    },
    {
     "name": "stderr",
     "output_type": "stream",
     "text": [
      "\u001b[A"
     ]
    },
    {
     "name": "stderr",
     "output_type": "stream",
     "text": [
      "\n"
     ]
    },
    {
     "name": "stderr",
     "output_type": "stream",
     "text": [
      "\r",
      "Epoch 1:   4%|▍         | 163/3636 [01:02<21:19,  2.71it/s, training_loss=0.352]"
     ]
    },
    {
     "name": "stderr",
     "output_type": "stream",
     "text": [
      "\u001b[A"
     ]
    },
    {
     "name": "stderr",
     "output_type": "stream",
     "text": [
      "\n"
     ]
    },
    {
     "name": "stderr",
     "output_type": "stream",
     "text": [
      "\r",
      "Epoch 1:   4%|▍         | 163/3636 [01:02<21:19,  2.71it/s, training_loss=0.366]"
     ]
    },
    {
     "name": "stderr",
     "output_type": "stream",
     "text": [
      "\u001b[A"
     ]
    },
    {
     "name": "stderr",
     "output_type": "stream",
     "text": [
      "\n"
     ]
    },
    {
     "name": "stderr",
     "output_type": "stream",
     "text": [
      "\r",
      "Epoch 1:   5%|▍         | 164/3636 [01:02<21:34,  2.68it/s, training_loss=0.366]"
     ]
    },
    {
     "name": "stderr",
     "output_type": "stream",
     "text": [
      "\u001b[A"
     ]
    },
    {
     "name": "stderr",
     "output_type": "stream",
     "text": [
      "\n"
     ]
    },
    {
     "name": "stderr",
     "output_type": "stream",
     "text": [
      "\r",
      "Epoch 1:   5%|▍         | 164/3636 [01:02<21:34,  2.68it/s, training_loss=0.352]"
     ]
    },
    {
     "name": "stderr",
     "output_type": "stream",
     "text": [
      "\u001b[A"
     ]
    },
    {
     "name": "stderr",
     "output_type": "stream",
     "text": [
      "\n"
     ]
    },
    {
     "name": "stderr",
     "output_type": "stream",
     "text": [
      "\r",
      "Epoch 1:   5%|▍         | 165/3636 [01:02<21:30,  2.69it/s, training_loss=0.352]"
     ]
    },
    {
     "name": "stderr",
     "output_type": "stream",
     "text": [
      "\u001b[A"
     ]
    },
    {
     "name": "stderr",
     "output_type": "stream",
     "text": [
      "\n"
     ]
    },
    {
     "name": "stderr",
     "output_type": "stream",
     "text": [
      "\r",
      "Epoch 1:   5%|▍         | 165/3636 [01:03<21:30,  2.69it/s, training_loss=0.359]"
     ]
    },
    {
     "name": "stderr",
     "output_type": "stream",
     "text": [
      "\u001b[A"
     ]
    },
    {
     "name": "stderr",
     "output_type": "stream",
     "text": [
      "\n"
     ]
    },
    {
     "name": "stderr",
     "output_type": "stream",
     "text": [
      "\r",
      "Epoch 1:   5%|▍         | 166/3636 [01:03<21:25,  2.70it/s, training_loss=0.359]"
     ]
    },
    {
     "name": "stderr",
     "output_type": "stream",
     "text": [
      "\u001b[A"
     ]
    },
    {
     "name": "stderr",
     "output_type": "stream",
     "text": [
      "\n"
     ]
    },
    {
     "name": "stderr",
     "output_type": "stream",
     "text": [
      "\r",
      "Epoch 1:   5%|▍         | 166/3636 [01:03<21:25,  2.70it/s, training_loss=0.355]"
     ]
    },
    {
     "name": "stderr",
     "output_type": "stream",
     "text": [
      "\u001b[A"
     ]
    },
    {
     "name": "stderr",
     "output_type": "stream",
     "text": [
      "\n"
     ]
    },
    {
     "name": "stderr",
     "output_type": "stream",
     "text": [
      "\r",
      "Epoch 1:   5%|▍         | 167/3636 [01:03<21:21,  2.71it/s, training_loss=0.355]"
     ]
    },
    {
     "name": "stderr",
     "output_type": "stream",
     "text": [
      "\u001b[A"
     ]
    },
    {
     "name": "stderr",
     "output_type": "stream",
     "text": [
      "\n"
     ]
    },
    {
     "name": "stderr",
     "output_type": "stream",
     "text": [
      "\r",
      "Epoch 1:   5%|▍         | 167/3636 [01:03<21:21,  2.71it/s, training_loss=0.359]"
     ]
    },
    {
     "name": "stderr",
     "output_type": "stream",
     "text": [
      "\u001b[A"
     ]
    },
    {
     "name": "stderr",
     "output_type": "stream",
     "text": [
      "\n"
     ]
    },
    {
     "name": "stderr",
     "output_type": "stream",
     "text": [
      "\r",
      "Epoch 1:   5%|▍         | 168/3636 [01:03<21:20,  2.71it/s, training_loss=0.359]"
     ]
    },
    {
     "name": "stderr",
     "output_type": "stream",
     "text": [
      "\u001b[A"
     ]
    },
    {
     "name": "stderr",
     "output_type": "stream",
     "text": [
      "\n"
     ]
    },
    {
     "name": "stderr",
     "output_type": "stream",
     "text": [
      "\r",
      "Epoch 1:   5%|▍         | 168/3636 [01:04<21:20,  2.71it/s, training_loss=0.357]"
     ]
    },
    {
     "name": "stderr",
     "output_type": "stream",
     "text": [
      "\u001b[A"
     ]
    },
    {
     "name": "stderr",
     "output_type": "stream",
     "text": [
      "\n"
     ]
    },
    {
     "name": "stderr",
     "output_type": "stream",
     "text": [
      "\r",
      "Epoch 1:   5%|▍         | 169/3636 [01:04<21:17,  2.71it/s, training_loss=0.357]"
     ]
    },
    {
     "name": "stderr",
     "output_type": "stream",
     "text": [
      "\u001b[A"
     ]
    },
    {
     "name": "stderr",
     "output_type": "stream",
     "text": [
      "\n"
     ]
    },
    {
     "name": "stderr",
     "output_type": "stream",
     "text": [
      "\r",
      "Epoch 1:   5%|▍         | 169/3636 [01:04<21:17,  2.71it/s, training_loss=0.361]"
     ]
    },
    {
     "name": "stderr",
     "output_type": "stream",
     "text": [
      "\u001b[A"
     ]
    },
    {
     "name": "stderr",
     "output_type": "stream",
     "text": [
      "\n"
     ]
    },
    {
     "name": "stderr",
     "output_type": "stream",
     "text": [
      "\r",
      "Epoch 1:   5%|▍         | 170/3636 [01:04<21:19,  2.71it/s, training_loss=0.361]"
     ]
    },
    {
     "name": "stderr",
     "output_type": "stream",
     "text": [
      "\u001b[A"
     ]
    },
    {
     "name": "stderr",
     "output_type": "stream",
     "text": [
      "\n"
     ]
    },
    {
     "name": "stderr",
     "output_type": "stream",
     "text": [
      "\r",
      "Epoch 1:   5%|▍         | 170/3636 [01:05<21:19,  2.71it/s, training_loss=0.358]"
     ]
    },
    {
     "name": "stderr",
     "output_type": "stream",
     "text": [
      "\u001b[A"
     ]
    },
    {
     "name": "stderr",
     "output_type": "stream",
     "text": [
      "\n"
     ]
    },
    {
     "name": "stderr",
     "output_type": "stream",
     "text": [
      "\r",
      "Epoch 1:   5%|▍         | 171/3636 [01:05<21:24,  2.70it/s, training_loss=0.358]"
     ]
    },
    {
     "name": "stderr",
     "output_type": "stream",
     "text": [
      "\u001b[A"
     ]
    },
    {
     "name": "stderr",
     "output_type": "stream",
     "text": [
      "\n"
     ]
    },
    {
     "name": "stderr",
     "output_type": "stream",
     "text": [
      "\r",
      "Epoch 1:   5%|▍         | 171/3636 [01:05<21:24,  2.70it/s, training_loss=0.354]"
     ]
    },
    {
     "name": "stderr",
     "output_type": "stream",
     "text": [
      "\u001b[A"
     ]
    },
    {
     "name": "stderr",
     "output_type": "stream",
     "text": [
      "\n"
     ]
    },
    {
     "name": "stderr",
     "output_type": "stream",
     "text": [
      "\r",
      "Epoch 1:   5%|▍         | 172/3636 [01:05<21:22,  2.70it/s, training_loss=0.354]"
     ]
    },
    {
     "name": "stderr",
     "output_type": "stream",
     "text": [
      "\u001b[A"
     ]
    },
    {
     "name": "stderr",
     "output_type": "stream",
     "text": [
      "\n"
     ]
    },
    {
     "name": "stderr",
     "output_type": "stream",
     "text": [
      "\r",
      "Epoch 1:   5%|▍         | 172/3636 [01:05<21:22,  2.70it/s, training_loss=0.359]"
     ]
    },
    {
     "name": "stderr",
     "output_type": "stream",
     "text": [
      "\u001b[A"
     ]
    },
    {
     "name": "stderr",
     "output_type": "stream",
     "text": [
      "\n"
     ]
    },
    {
     "name": "stderr",
     "output_type": "stream",
     "text": [
      "\r",
      "Epoch 1:   5%|▍         | 173/3636 [01:05<21:21,  2.70it/s, training_loss=0.359]"
     ]
    },
    {
     "name": "stderr",
     "output_type": "stream",
     "text": [
      "\u001b[A"
     ]
    },
    {
     "name": "stderr",
     "output_type": "stream",
     "text": [
      "\n"
     ]
    },
    {
     "name": "stderr",
     "output_type": "stream",
     "text": [
      "\r",
      "Epoch 1:   5%|▍         | 173/3636 [01:06<21:21,  2.70it/s, training_loss=0.347]"
     ]
    },
    {
     "name": "stderr",
     "output_type": "stream",
     "text": [
      "\u001b[A"
     ]
    },
    {
     "name": "stderr",
     "output_type": "stream",
     "text": [
      "\n"
     ]
    },
    {
     "name": "stderr",
     "output_type": "stream",
     "text": [
      "\r",
      "Epoch 1:   5%|▍         | 174/3636 [01:06<21:17,  2.71it/s, training_loss=0.347]"
     ]
    },
    {
     "name": "stderr",
     "output_type": "stream",
     "text": [
      "\u001b[A"
     ]
    },
    {
     "name": "stderr",
     "output_type": "stream",
     "text": [
      "\n"
     ]
    },
    {
     "name": "stderr",
     "output_type": "stream",
     "text": [
      "\r",
      "Epoch 1:   5%|▍         | 174/3636 [01:06<21:17,  2.71it/s, training_loss=0.352]"
     ]
    },
    {
     "name": "stderr",
     "output_type": "stream",
     "text": [
      "\u001b[A"
     ]
    },
    {
     "name": "stderr",
     "output_type": "stream",
     "text": [
      "\n"
     ]
    },
    {
     "name": "stderr",
     "output_type": "stream",
     "text": [
      "\r",
      "Epoch 1:   5%|▍         | 175/3636 [01:06<21:14,  2.71it/s, training_loss=0.352]"
     ]
    },
    {
     "name": "stderr",
     "output_type": "stream",
     "text": [
      "\u001b[A"
     ]
    },
    {
     "name": "stderr",
     "output_type": "stream",
     "text": [
      "\n"
     ]
    },
    {
     "name": "stderr",
     "output_type": "stream",
     "text": [
      "\r",
      "Epoch 1:   5%|▍         | 175/3636 [01:06<21:14,  2.71it/s, training_loss=0.355]"
     ]
    },
    {
     "name": "stderr",
     "output_type": "stream",
     "text": [
      "\u001b[A"
     ]
    },
    {
     "name": "stderr",
     "output_type": "stream",
     "text": [
      "\n"
     ]
    },
    {
     "name": "stderr",
     "output_type": "stream",
     "text": [
      "\r",
      "Epoch 1:   5%|▍         | 176/3636 [01:06<21:14,  2.71it/s, training_loss=0.355]"
     ]
    },
    {
     "name": "stderr",
     "output_type": "stream",
     "text": [
      "\u001b[A"
     ]
    },
    {
     "name": "stderr",
     "output_type": "stream",
     "text": [
      "\n"
     ]
    },
    {
     "name": "stderr",
     "output_type": "stream",
     "text": [
      "\r",
      "Epoch 1:   5%|▍         | 176/3636 [01:07<21:14,  2.71it/s, training_loss=0.350]"
     ]
    },
    {
     "name": "stderr",
     "output_type": "stream",
     "text": [
      "\u001b[A"
     ]
    },
    {
     "name": "stderr",
     "output_type": "stream",
     "text": [
      "\n"
     ]
    },
    {
     "name": "stderr",
     "output_type": "stream",
     "text": [
      "\r",
      "Epoch 1:   5%|▍         | 177/3636 [01:07<21:15,  2.71it/s, training_loss=0.350]"
     ]
    },
    {
     "name": "stderr",
     "output_type": "stream",
     "text": [
      "\u001b[A"
     ]
    },
    {
     "name": "stderr",
     "output_type": "stream",
     "text": [
      "\n"
     ]
    },
    {
     "name": "stderr",
     "output_type": "stream",
     "text": [
      "\r",
      "Epoch 1:   5%|▍         | 177/3636 [01:07<21:15,  2.71it/s, training_loss=0.360]"
     ]
    },
    {
     "name": "stderr",
     "output_type": "stream",
     "text": [
      "\u001b[A"
     ]
    },
    {
     "name": "stderr",
     "output_type": "stream",
     "text": [
      "\n"
     ]
    },
    {
     "name": "stderr",
     "output_type": "stream",
     "text": [
      "\r",
      "Epoch 1:   5%|▍         | 178/3636 [01:07<21:16,  2.71it/s, training_loss=0.360]"
     ]
    },
    {
     "name": "stderr",
     "output_type": "stream",
     "text": [
      "\u001b[A"
     ]
    },
    {
     "name": "stderr",
     "output_type": "stream",
     "text": [
      "\n"
     ]
    },
    {
     "name": "stderr",
     "output_type": "stream",
     "text": [
      "\r",
      "Epoch 1:   5%|▍         | 178/3636 [01:08<21:16,  2.71it/s, training_loss=0.346]"
     ]
    },
    {
     "name": "stderr",
     "output_type": "stream",
     "text": [
      "\u001b[A"
     ]
    },
    {
     "name": "stderr",
     "output_type": "stream",
     "text": [
      "\n"
     ]
    },
    {
     "name": "stderr",
     "output_type": "stream",
     "text": [
      "\r",
      "Epoch 1:   5%|▍         | 179/3636 [01:08<21:15,  2.71it/s, training_loss=0.346]"
     ]
    },
    {
     "name": "stderr",
     "output_type": "stream",
     "text": [
      "\u001b[A"
     ]
    },
    {
     "name": "stderr",
     "output_type": "stream",
     "text": [
      "\n"
     ]
    },
    {
     "name": "stderr",
     "output_type": "stream",
     "text": [
      "\r",
      "Epoch 1:   5%|▍         | 179/3636 [01:08<21:15,  2.71it/s, training_loss=0.357]"
     ]
    },
    {
     "name": "stderr",
     "output_type": "stream",
     "text": [
      "\u001b[A"
     ]
    },
    {
     "name": "stderr",
     "output_type": "stream",
     "text": [
      "\n"
     ]
    },
    {
     "name": "stderr",
     "output_type": "stream",
     "text": [
      "\r",
      "Epoch 1:   5%|▍         | 180/3636 [01:08<21:12,  2.72it/s, training_loss=0.357]"
     ]
    },
    {
     "name": "stderr",
     "output_type": "stream",
     "text": [
      "\u001b[A"
     ]
    },
    {
     "name": "stderr",
     "output_type": "stream",
     "text": [
      "\n"
     ]
    },
    {
     "name": "stderr",
     "output_type": "stream",
     "text": [
      "\r",
      "Epoch 1:   5%|▍         | 180/3636 [01:08<21:12,  2.72it/s, training_loss=0.354]"
     ]
    },
    {
     "name": "stderr",
     "output_type": "stream",
     "text": [
      "\u001b[A"
     ]
    },
    {
     "name": "stderr",
     "output_type": "stream",
     "text": [
      "\n"
     ]
    },
    {
     "name": "stderr",
     "output_type": "stream",
     "text": [
      "\r",
      "Epoch 1:   5%|▍         | 181/3636 [01:08<21:16,  2.71it/s, training_loss=0.354]"
     ]
    },
    {
     "name": "stderr",
     "output_type": "stream",
     "text": [
      "\u001b[A"
     ]
    },
    {
     "name": "stderr",
     "output_type": "stream",
     "text": [
      "\n"
     ]
    },
    {
     "name": "stderr",
     "output_type": "stream",
     "text": [
      "\r",
      "Epoch 1:   5%|▍         | 181/3636 [01:09<21:16,  2.71it/s, training_loss=0.359]"
     ]
    },
    {
     "name": "stderr",
     "output_type": "stream",
     "text": [
      "\u001b[A"
     ]
    },
    {
     "name": "stderr",
     "output_type": "stream",
     "text": [
      "\n"
     ]
    },
    {
     "name": "stderr",
     "output_type": "stream",
     "text": [
      "\r",
      "Epoch 1:   5%|▌         | 182/3636 [01:09<21:16,  2.71it/s, training_loss=0.359]"
     ]
    },
    {
     "name": "stderr",
     "output_type": "stream",
     "text": [
      "\u001b[A"
     ]
    },
    {
     "name": "stderr",
     "output_type": "stream",
     "text": [
      "\n"
     ]
    },
    {
     "name": "stderr",
     "output_type": "stream",
     "text": [
      "\r",
      "Epoch 1:   5%|▌         | 182/3636 [01:09<21:16,  2.71it/s, training_loss=0.358]"
     ]
    },
    {
     "name": "stderr",
     "output_type": "stream",
     "text": [
      "\u001b[A"
     ]
    },
    {
     "name": "stderr",
     "output_type": "stream",
     "text": [
      "\n"
     ]
    },
    {
     "name": "stderr",
     "output_type": "stream",
     "text": [
      "\r",
      "Epoch 1:   5%|▌         | 183/3636 [01:09<21:13,  2.71it/s, training_loss=0.358]"
     ]
    },
    {
     "name": "stderr",
     "output_type": "stream",
     "text": [
      "\u001b[A"
     ]
    },
    {
     "name": "stderr",
     "output_type": "stream",
     "text": [
      "\n"
     ]
    },
    {
     "name": "stderr",
     "output_type": "stream",
     "text": [
      "\r",
      "Epoch 1:   5%|▌         | 183/3636 [01:09<21:13,  2.71it/s, training_loss=0.360]"
     ]
    },
    {
     "name": "stderr",
     "output_type": "stream",
     "text": [
      "\u001b[A"
     ]
    },
    {
     "name": "stderr",
     "output_type": "stream",
     "text": [
      "\n"
     ]
    },
    {
     "name": "stderr",
     "output_type": "stream",
     "text": [
      "\r",
      "Epoch 1:   5%|▌         | 184/3636 [01:09<21:26,  2.68it/s, training_loss=0.360]"
     ]
    },
    {
     "name": "stderr",
     "output_type": "stream",
     "text": [
      "\u001b[A"
     ]
    },
    {
     "name": "stderr",
     "output_type": "stream",
     "text": [
      "\n"
     ]
    },
    {
     "name": "stderr",
     "output_type": "stream",
     "text": [
      "\r",
      "Epoch 1:   5%|▌         | 184/3636 [01:10<21:26,  2.68it/s, training_loss=0.349]"
     ]
    },
    {
     "name": "stderr",
     "output_type": "stream",
     "text": [
      "\u001b[A"
     ]
    },
    {
     "name": "stderr",
     "output_type": "stream",
     "text": [
      "\n"
     ]
    },
    {
     "name": "stderr",
     "output_type": "stream",
     "text": [
      "\r",
      "Epoch 1:   5%|▌         | 185/3636 [01:10<21:39,  2.66it/s, training_loss=0.349]"
     ]
    },
    {
     "name": "stderr",
     "output_type": "stream",
     "text": [
      "\u001b[A"
     ]
    },
    {
     "name": "stderr",
     "output_type": "stream",
     "text": [
      "\n"
     ]
    },
    {
     "name": "stderr",
     "output_type": "stream",
     "text": [
      "\r",
      "Epoch 1:   5%|▌         | 185/3636 [01:10<21:39,  2.66it/s, training_loss=0.339]"
     ]
    },
    {
     "name": "stderr",
     "output_type": "stream",
     "text": [
      "\u001b[A"
     ]
    },
    {
     "name": "stderr",
     "output_type": "stream",
     "text": [
      "\n"
     ]
    },
    {
     "name": "stderr",
     "output_type": "stream",
     "text": [
      "\r",
      "Epoch 1:   5%|▌         | 186/3636 [01:10<21:30,  2.67it/s, training_loss=0.339]"
     ]
    },
    {
     "name": "stderr",
     "output_type": "stream",
     "text": [
      "\u001b[A"
     ]
    },
    {
     "name": "stderr",
     "output_type": "stream",
     "text": [
      "\n"
     ]
    },
    {
     "name": "stderr",
     "output_type": "stream",
     "text": [
      "\r",
      "Epoch 1:   5%|▌         | 186/3636 [01:11<21:30,  2.67it/s, training_loss=0.350]"
     ]
    },
    {
     "name": "stderr",
     "output_type": "stream",
     "text": [
      "\u001b[A"
     ]
    },
    {
     "name": "stderr",
     "output_type": "stream",
     "text": [
      "\n"
     ]
    },
    {
     "name": "stderr",
     "output_type": "stream",
     "text": [
      "\r",
      "Epoch 1:   5%|▌         | 187/3636 [01:11<21:23,  2.69it/s, training_loss=0.350]"
     ]
    },
    {
     "name": "stderr",
     "output_type": "stream",
     "text": [
      "\u001b[A"
     ]
    },
    {
     "name": "stderr",
     "output_type": "stream",
     "text": [
      "\n"
     ]
    },
    {
     "name": "stderr",
     "output_type": "stream",
     "text": [
      "\r",
      "Epoch 1:   5%|▌         | 187/3636 [01:11<21:23,  2.69it/s, training_loss=0.346]"
     ]
    },
    {
     "name": "stderr",
     "output_type": "stream",
     "text": [
      "\u001b[A"
     ]
    },
    {
     "name": "stderr",
     "output_type": "stream",
     "text": [
      "\n"
     ]
    },
    {
     "name": "stderr",
     "output_type": "stream",
     "text": [
      "\r",
      "Epoch 1:   5%|▌         | 188/3636 [01:11<21:17,  2.70it/s, training_loss=0.346]"
     ]
    },
    {
     "name": "stderr",
     "output_type": "stream",
     "text": [
      "\u001b[A"
     ]
    },
    {
     "name": "stderr",
     "output_type": "stream",
     "text": [
      "\n"
     ]
    },
    {
     "name": "stderr",
     "output_type": "stream",
     "text": [
      "\r",
      "Epoch 1:   5%|▌         | 188/3636 [01:11<21:17,  2.70it/s, training_loss=0.346]"
     ]
    },
    {
     "name": "stderr",
     "output_type": "stream",
     "text": [
      "\u001b[A"
     ]
    },
    {
     "name": "stderr",
     "output_type": "stream",
     "text": [
      "\n"
     ]
    },
    {
     "name": "stderr",
     "output_type": "stream",
     "text": [
      "\r",
      "Epoch 1:   5%|▌         | 189/3636 [01:11<21:10,  2.71it/s, training_loss=0.346]"
     ]
    },
    {
     "name": "stderr",
     "output_type": "stream",
     "text": [
      "\u001b[A"
     ]
    },
    {
     "name": "stderr",
     "output_type": "stream",
     "text": [
      "\n"
     ]
    },
    {
     "name": "stderr",
     "output_type": "stream",
     "text": [
      "\r",
      "Epoch 1:   5%|▌         | 189/3636 [01:12<21:10,  2.71it/s, training_loss=0.351]"
     ]
    },
    {
     "name": "stderr",
     "output_type": "stream",
     "text": [
      "\u001b[A"
     ]
    },
    {
     "name": "stderr",
     "output_type": "stream",
     "text": [
      "\n"
     ]
    },
    {
     "name": "stderr",
     "output_type": "stream",
     "text": [
      "\r",
      "Epoch 1:   5%|▌         | 190/3636 [01:12<21:28,  2.67it/s, training_loss=0.351]"
     ]
    },
    {
     "name": "stderr",
     "output_type": "stream",
     "text": [
      "\u001b[A"
     ]
    },
    {
     "name": "stderr",
     "output_type": "stream",
     "text": [
      "\n"
     ]
    },
    {
     "name": "stderr",
     "output_type": "stream",
     "text": [
      "\r",
      "Epoch 1:   5%|▌         | 190/3636 [01:12<21:28,  2.67it/s, training_loss=0.370]"
     ]
    },
    {
     "name": "stderr",
     "output_type": "stream",
     "text": [
      "\u001b[A"
     ]
    },
    {
     "name": "stderr",
     "output_type": "stream",
     "text": [
      "\n"
     ]
    },
    {
     "name": "stderr",
     "output_type": "stream",
     "text": [
      "\r",
      "Epoch 1:   5%|▌         | 191/3636 [01:12<21:18,  2.69it/s, training_loss=0.370]"
     ]
    },
    {
     "name": "stderr",
     "output_type": "stream",
     "text": [
      "\u001b[A"
     ]
    },
    {
     "name": "stderr",
     "output_type": "stream",
     "text": [
      "\n"
     ]
    },
    {
     "name": "stderr",
     "output_type": "stream",
     "text": [
      "\r",
      "Epoch 1:   5%|▌         | 191/3636 [01:12<21:18,  2.69it/s, training_loss=0.357]"
     ]
    },
    {
     "name": "stderr",
     "output_type": "stream",
     "text": [
      "\u001b[A"
     ]
    },
    {
     "name": "stderr",
     "output_type": "stream",
     "text": [
      "\n"
     ]
    },
    {
     "name": "stderr",
     "output_type": "stream",
     "text": [
      "\r",
      "Epoch 1:   5%|▌         | 192/3636 [01:12<21:13,  2.71it/s, training_loss=0.357]"
     ]
    },
    {
     "name": "stderr",
     "output_type": "stream",
     "text": [
      "\u001b[A"
     ]
    },
    {
     "name": "stderr",
     "output_type": "stream",
     "text": [
      "\n"
     ]
    },
    {
     "name": "stderr",
     "output_type": "stream",
     "text": [
      "\r",
      "Epoch 1:   5%|▌         | 192/3636 [01:13<21:13,  2.71it/s, training_loss=0.346]"
     ]
    },
    {
     "name": "stderr",
     "output_type": "stream",
     "text": [
      "\u001b[A"
     ]
    },
    {
     "name": "stderr",
     "output_type": "stream",
     "text": [
      "\n"
     ]
    },
    {
     "name": "stderr",
     "output_type": "stream",
     "text": [
      "\r",
      "Epoch 1:   5%|▌         | 193/3636 [01:13<21:08,  2.72it/s, training_loss=0.346]"
     ]
    },
    {
     "name": "stderr",
     "output_type": "stream",
     "text": [
      "\u001b[A"
     ]
    },
    {
     "name": "stderr",
     "output_type": "stream",
     "text": [
      "\n"
     ]
    },
    {
     "name": "stderr",
     "output_type": "stream",
     "text": [
      "\r",
      "Epoch 1:   5%|▌         | 193/3636 [01:13<21:08,  2.72it/s, training_loss=0.368]"
     ]
    },
    {
     "name": "stderr",
     "output_type": "stream",
     "text": [
      "\u001b[A"
     ]
    },
    {
     "name": "stderr",
     "output_type": "stream",
     "text": [
      "\n"
     ]
    },
    {
     "name": "stderr",
     "output_type": "stream",
     "text": [
      "\r",
      "Epoch 1:   5%|▌         | 194/3636 [01:13<21:04,  2.72it/s, training_loss=0.368]"
     ]
    },
    {
     "name": "stderr",
     "output_type": "stream",
     "text": [
      "\u001b[A"
     ]
    },
    {
     "name": "stderr",
     "output_type": "stream",
     "text": [
      "\n"
     ]
    },
    {
     "name": "stderr",
     "output_type": "stream",
     "text": [
      "\r",
      "Epoch 1:   5%|▌         | 194/3636 [01:13<21:04,  2.72it/s, training_loss=0.341]"
     ]
    },
    {
     "name": "stderr",
     "output_type": "stream",
     "text": [
      "\u001b[A"
     ]
    },
    {
     "name": "stderr",
     "output_type": "stream",
     "text": [
      "\n"
     ]
    },
    {
     "name": "stderr",
     "output_type": "stream",
     "text": [
      "\r",
      "Epoch 1:   5%|▌         | 195/3636 [01:13<21:04,  2.72it/s, training_loss=0.341]"
     ]
    },
    {
     "name": "stderr",
     "output_type": "stream",
     "text": [
      "\u001b[A"
     ]
    },
    {
     "name": "stderr",
     "output_type": "stream",
     "text": [
      "\n"
     ]
    },
    {
     "name": "stderr",
     "output_type": "stream",
     "text": [
      "\r",
      "Epoch 1:   5%|▌         | 195/3636 [01:14<21:04,  2.72it/s, training_loss=0.347]"
     ]
    },
    {
     "name": "stderr",
     "output_type": "stream",
     "text": [
      "\u001b[A"
     ]
    },
    {
     "name": "stderr",
     "output_type": "stream",
     "text": [
      "\n"
     ]
    },
    {
     "name": "stderr",
     "output_type": "stream",
     "text": [
      "\r",
      "Epoch 1:   5%|▌         | 196/3636 [01:14<21:01,  2.73it/s, training_loss=0.347]"
     ]
    },
    {
     "name": "stderr",
     "output_type": "stream",
     "text": [
      "\u001b[A"
     ]
    },
    {
     "name": "stderr",
     "output_type": "stream",
     "text": [
      "\n"
     ]
    },
    {
     "name": "stderr",
     "output_type": "stream",
     "text": [
      "\r",
      "Epoch 1:   5%|▌         | 196/3636 [01:14<21:01,  2.73it/s, training_loss=0.357]"
     ]
    },
    {
     "name": "stderr",
     "output_type": "stream",
     "text": [
      "\u001b[A"
     ]
    },
    {
     "name": "stderr",
     "output_type": "stream",
     "text": [
      "\n"
     ]
    },
    {
     "name": "stderr",
     "output_type": "stream",
     "text": [
      "\r",
      "Epoch 1:   5%|▌         | 197/3636 [01:14<21:00,  2.73it/s, training_loss=0.357]"
     ]
    },
    {
     "name": "stderr",
     "output_type": "stream",
     "text": [
      "\u001b[A"
     ]
    },
    {
     "name": "stderr",
     "output_type": "stream",
     "text": [
      "\n"
     ]
    },
    {
     "name": "stderr",
     "output_type": "stream",
     "text": [
      "\r",
      "Epoch 1:   5%|▌         | 197/3636 [01:15<21:00,  2.73it/s, training_loss=0.362]"
     ]
    },
    {
     "name": "stderr",
     "output_type": "stream",
     "text": [
      "\u001b[A"
     ]
    },
    {
     "name": "stderr",
     "output_type": "stream",
     "text": [
      "\n"
     ]
    },
    {
     "name": "stderr",
     "output_type": "stream",
     "text": [
      "\r",
      "Epoch 1:   5%|▌         | 198/3636 [01:15<20:59,  2.73it/s, training_loss=0.362]"
     ]
    },
    {
     "name": "stderr",
     "output_type": "stream",
     "text": [
      "\u001b[A"
     ]
    },
    {
     "name": "stderr",
     "output_type": "stream",
     "text": [
      "\n"
     ]
    },
    {
     "name": "stderr",
     "output_type": "stream",
     "text": [
      "\r",
      "Epoch 1:   5%|▌         | 198/3636 [01:15<20:59,  2.73it/s, training_loss=0.342]"
     ]
    },
    {
     "name": "stderr",
     "output_type": "stream",
     "text": [
      "\u001b[A"
     ]
    },
    {
     "name": "stderr",
     "output_type": "stream",
     "text": [
      "\n"
     ]
    },
    {
     "name": "stderr",
     "output_type": "stream",
     "text": [
      "\r",
      "Epoch 1:   5%|▌         | 199/3636 [01:15<21:01,  2.72it/s, training_loss=0.342]"
     ]
    },
    {
     "name": "stderr",
     "output_type": "stream",
     "text": [
      "\u001b[A"
     ]
    },
    {
     "name": "stderr",
     "output_type": "stream",
     "text": [
      "\n"
     ]
    },
    {
     "name": "stderr",
     "output_type": "stream",
     "text": [
      "\r",
      "Epoch 1:   5%|▌         | 199/3636 [01:15<21:01,  2.72it/s, training_loss=0.363]"
     ]
    },
    {
     "name": "stderr",
     "output_type": "stream",
     "text": [
      "\u001b[A"
     ]
    },
    {
     "name": "stderr",
     "output_type": "stream",
     "text": [
      "\n"
     ]
    },
    {
     "name": "stderr",
     "output_type": "stream",
     "text": [
      "\r",
      "Epoch 1:   6%|▌         | 200/3636 [01:15<20:58,  2.73it/s, training_loss=0.363]"
     ]
    },
    {
     "name": "stderr",
     "output_type": "stream",
     "text": [
      "\u001b[A"
     ]
    },
    {
     "name": "stderr",
     "output_type": "stream",
     "text": [
      "\n"
     ]
    },
    {
     "name": "stderr",
     "output_type": "stream",
     "text": [
      "\r",
      "Epoch 1:   6%|▌         | 200/3636 [01:16<20:58,  2.73it/s, training_loss=0.353]"
     ]
    },
    {
     "name": "stderr",
     "output_type": "stream",
     "text": [
      "\u001b[A"
     ]
    },
    {
     "name": "stderr",
     "output_type": "stream",
     "text": [
      "\n"
     ]
    },
    {
     "name": "stderr",
     "output_type": "stream",
     "text": [
      "\r",
      "Epoch 1:   6%|▌         | 201/3636 [01:16<20:59,  2.73it/s, training_loss=0.353]"
     ]
    },
    {
     "name": "stderr",
     "output_type": "stream",
     "text": [
      "\u001b[A"
     ]
    },
    {
     "name": "stderr",
     "output_type": "stream",
     "text": [
      "\n"
     ]
    },
    {
     "name": "stderr",
     "output_type": "stream",
     "text": [
      "\r",
      "Epoch 1:   6%|▌         | 201/3636 [01:16<20:59,  2.73it/s, training_loss=0.351]"
     ]
    },
    {
     "name": "stderr",
     "output_type": "stream",
     "text": [
      "\u001b[A"
     ]
    },
    {
     "name": "stderr",
     "output_type": "stream",
     "text": [
      "\n"
     ]
    },
    {
     "name": "stderr",
     "output_type": "stream",
     "text": [
      "\r",
      "Epoch 1:   6%|▌         | 202/3636 [01:16<21:11,  2.70it/s, training_loss=0.351]"
     ]
    },
    {
     "name": "stderr",
     "output_type": "stream",
     "text": [
      "\u001b[A"
     ]
    },
    {
     "name": "stderr",
     "output_type": "stream",
     "text": [
      "\n"
     ]
    },
    {
     "name": "stderr",
     "output_type": "stream",
     "text": [
      "\r",
      "Epoch 1:   6%|▌         | 202/3636 [01:16<21:11,  2.70it/s, training_loss=0.364]"
     ]
    },
    {
     "name": "stderr",
     "output_type": "stream",
     "text": [
      "\u001b[A"
     ]
    },
    {
     "name": "stderr",
     "output_type": "stream",
     "text": [
      "\n"
     ]
    },
    {
     "name": "stderr",
     "output_type": "stream",
     "text": [
      "\r",
      "Epoch 1:   6%|▌         | 203/3636 [01:16<21:07,  2.71it/s, training_loss=0.364]"
     ]
    },
    {
     "name": "stderr",
     "output_type": "stream",
     "text": [
      "\u001b[A"
     ]
    },
    {
     "name": "stderr",
     "output_type": "stream",
     "text": [
      "\n"
     ]
    },
    {
     "name": "stderr",
     "output_type": "stream",
     "text": [
      "\r",
      "Epoch 1:   6%|▌         | 203/3636 [01:17<21:07,  2.71it/s, training_loss=0.351]"
     ]
    },
    {
     "name": "stderr",
     "output_type": "stream",
     "text": [
      "\u001b[A"
     ]
    },
    {
     "name": "stderr",
     "output_type": "stream",
     "text": [
      "\n"
     ]
    },
    {
     "name": "stderr",
     "output_type": "stream",
     "text": [
      "\r",
      "Epoch 1:   6%|▌         | 204/3636 [01:17<21:01,  2.72it/s, training_loss=0.351]"
     ]
    },
    {
     "name": "stderr",
     "output_type": "stream",
     "text": [
      "\u001b[A"
     ]
    },
    {
     "name": "stderr",
     "output_type": "stream",
     "text": [
      "\n"
     ]
    },
    {
     "name": "stderr",
     "output_type": "stream",
     "text": [
      "\r",
      "Epoch 1:   6%|▌         | 204/3636 [01:17<21:01,  2.72it/s, training_loss=0.346]"
     ]
    },
    {
     "name": "stderr",
     "output_type": "stream",
     "text": [
      "\u001b[A"
     ]
    },
    {
     "name": "stderr",
     "output_type": "stream",
     "text": [
      "\n"
     ]
    },
    {
     "name": "stderr",
     "output_type": "stream",
     "text": [
      "\r",
      "Epoch 1:   6%|▌         | 205/3636 [01:17<21:00,  2.72it/s, training_loss=0.346]"
     ]
    },
    {
     "name": "stderr",
     "output_type": "stream",
     "text": [
      "\u001b[A"
     ]
    },
    {
     "name": "stderr",
     "output_type": "stream",
     "text": [
      "\n"
     ]
    },
    {
     "name": "stderr",
     "output_type": "stream",
     "text": [
      "\r",
      "Epoch 1:   6%|▌         | 205/3636 [01:17<21:00,  2.72it/s, training_loss=0.347]"
     ]
    },
    {
     "name": "stderr",
     "output_type": "stream",
     "text": [
      "\u001b[A"
     ]
    },
    {
     "name": "stderr",
     "output_type": "stream",
     "text": [
      "\n"
     ]
    },
    {
     "name": "stderr",
     "output_type": "stream",
     "text": [
      "\r",
      "Epoch 1:   6%|▌         | 206/3636 [01:18<20:59,  2.72it/s, training_loss=0.347]"
     ]
    },
    {
     "name": "stderr",
     "output_type": "stream",
     "text": [
      "\u001b[A"
     ]
    },
    {
     "name": "stderr",
     "output_type": "stream",
     "text": [
      "\n"
     ]
    },
    {
     "name": "stderr",
     "output_type": "stream",
     "text": [
      "\r",
      "Epoch 1:   6%|▌         | 206/3636 [01:18<20:59,  2.72it/s, training_loss=0.341]"
     ]
    },
    {
     "name": "stderr",
     "output_type": "stream",
     "text": [
      "\u001b[A"
     ]
    },
    {
     "name": "stderr",
     "output_type": "stream",
     "text": [
      "\n"
     ]
    },
    {
     "name": "stderr",
     "output_type": "stream",
     "text": [
      "\r",
      "Epoch 1:   6%|▌         | 207/3636 [01:18<20:59,  2.72it/s, training_loss=0.341]"
     ]
    },
    {
     "name": "stderr",
     "output_type": "stream",
     "text": [
      "\u001b[A"
     ]
    },
    {
     "name": "stderr",
     "output_type": "stream",
     "text": [
      "\n"
     ]
    },
    {
     "name": "stderr",
     "output_type": "stream",
     "text": [
      "\r",
      "Epoch 1:   6%|▌         | 207/3636 [01:18<20:59,  2.72it/s, training_loss=0.365]"
     ]
    },
    {
     "name": "stderr",
     "output_type": "stream",
     "text": [
      "\u001b[A"
     ]
    },
    {
     "name": "stderr",
     "output_type": "stream",
     "text": [
      "\n"
     ]
    },
    {
     "name": "stderr",
     "output_type": "stream",
     "text": [
      "\r",
      "Epoch 1:   6%|▌         | 208/3636 [01:18<21:02,  2.72it/s, training_loss=0.365]"
     ]
    },
    {
     "name": "stderr",
     "output_type": "stream",
     "text": [
      "\u001b[A"
     ]
    },
    {
     "name": "stderr",
     "output_type": "stream",
     "text": [
      "\n"
     ]
    },
    {
     "name": "stderr",
     "output_type": "stream",
     "text": [
      "\r",
      "Epoch 1:   6%|▌         | 208/3636 [01:19<21:02,  2.72it/s, training_loss=0.342]"
     ]
    },
    {
     "name": "stderr",
     "output_type": "stream",
     "text": [
      "\u001b[A"
     ]
    },
    {
     "name": "stderr",
     "output_type": "stream",
     "text": [
      "\n"
     ]
    },
    {
     "name": "stderr",
     "output_type": "stream",
     "text": [
      "\r",
      "Epoch 1:   6%|▌         | 209/3636 [01:19<21:00,  2.72it/s, training_loss=0.342]"
     ]
    },
    {
     "name": "stderr",
     "output_type": "stream",
     "text": [
      "\u001b[A"
     ]
    },
    {
     "name": "stderr",
     "output_type": "stream",
     "text": [
      "\n"
     ]
    },
    {
     "name": "stderr",
     "output_type": "stream",
     "text": [
      "\r",
      "Epoch 1:   6%|▌         | 209/3636 [01:19<21:00,  2.72it/s, training_loss=0.353]"
     ]
    },
    {
     "name": "stderr",
     "output_type": "stream",
     "text": [
      "\u001b[A"
     ]
    },
    {
     "name": "stderr",
     "output_type": "stream",
     "text": [
      "\n"
     ]
    },
    {
     "name": "stderr",
     "output_type": "stream",
     "text": [
      "\r",
      "Epoch 1:   6%|▌         | 210/3636 [01:19<21:01,  2.72it/s, training_loss=0.353]"
     ]
    },
    {
     "name": "stderr",
     "output_type": "stream",
     "text": [
      "\u001b[A"
     ]
    },
    {
     "name": "stderr",
     "output_type": "stream",
     "text": [
      "\n"
     ]
    },
    {
     "name": "stderr",
     "output_type": "stream",
     "text": [
      "\r",
      "Epoch 1:   6%|▌         | 210/3636 [01:19<21:01,  2.72it/s, training_loss=0.362]"
     ]
    },
    {
     "name": "stderr",
     "output_type": "stream",
     "text": [
      "\u001b[A"
     ]
    },
    {
     "name": "stderr",
     "output_type": "stream",
     "text": [
      "\n"
     ]
    },
    {
     "name": "stderr",
     "output_type": "stream",
     "text": [
      "\r",
      "Epoch 1:   6%|▌         | 211/3636 [01:19<20:58,  2.72it/s, training_loss=0.362]"
     ]
    },
    {
     "name": "stderr",
     "output_type": "stream",
     "text": [
      "\u001b[A"
     ]
    },
    {
     "name": "stderr",
     "output_type": "stream",
     "text": [
      "\n"
     ]
    },
    {
     "name": "stderr",
     "output_type": "stream",
     "text": [
      "\r",
      "Epoch 1:   6%|▌         | 211/3636 [01:20<20:58,  2.72it/s, training_loss=0.341]"
     ]
    },
    {
     "name": "stderr",
     "output_type": "stream",
     "text": [
      "\u001b[A"
     ]
    },
    {
     "name": "stderr",
     "output_type": "stream",
     "text": [
      "\n"
     ]
    },
    {
     "name": "stderr",
     "output_type": "stream",
     "text": [
      "\r",
      "Epoch 1:   6%|▌         | 212/3636 [01:20<20:59,  2.72it/s, training_loss=0.341]"
     ]
    },
    {
     "name": "stderr",
     "output_type": "stream",
     "text": [
      "\u001b[A"
     ]
    },
    {
     "name": "stderr",
     "output_type": "stream",
     "text": [
      "\n"
     ]
    },
    {
     "name": "stderr",
     "output_type": "stream",
     "text": [
      "\r",
      "Epoch 1:   6%|▌         | 212/3636 [01:20<20:59,  2.72it/s, training_loss=0.343]"
     ]
    },
    {
     "name": "stderr",
     "output_type": "stream",
     "text": [
      "\u001b[A"
     ]
    },
    {
     "name": "stderr",
     "output_type": "stream",
     "text": [
      "\n"
     ]
    },
    {
     "name": "stderr",
     "output_type": "stream",
     "text": [
      "\r",
      "Epoch 1:   6%|▌         | 213/3636 [01:20<20:57,  2.72it/s, training_loss=0.343]"
     ]
    },
    {
     "name": "stderr",
     "output_type": "stream",
     "text": [
      "\u001b[A"
     ]
    },
    {
     "name": "stderr",
     "output_type": "stream",
     "text": [
      "\n"
     ]
    },
    {
     "name": "stderr",
     "output_type": "stream",
     "text": [
      "\r",
      "Epoch 1:   6%|▌         | 213/3636 [01:20<20:57,  2.72it/s, training_loss=0.364]"
     ]
    },
    {
     "name": "stderr",
     "output_type": "stream",
     "text": [
      "\u001b[A"
     ]
    },
    {
     "name": "stderr",
     "output_type": "stream",
     "text": [
      "\n"
     ]
    },
    {
     "name": "stderr",
     "output_type": "stream",
     "text": [
      "\r",
      "Epoch 1:   6%|▌         | 214/3636 [01:20<20:55,  2.73it/s, training_loss=0.364]"
     ]
    },
    {
     "name": "stderr",
     "output_type": "stream",
     "text": [
      "\u001b[A"
     ]
    },
    {
     "name": "stderr",
     "output_type": "stream",
     "text": [
      "\n"
     ]
    },
    {
     "name": "stderr",
     "output_type": "stream",
     "text": [
      "\r",
      "Epoch 1:   6%|▌         | 214/3636 [01:21<20:55,  2.73it/s, training_loss=0.346]"
     ]
    },
    {
     "name": "stderr",
     "output_type": "stream",
     "text": [
      "\u001b[A"
     ]
    },
    {
     "name": "stderr",
     "output_type": "stream",
     "text": [
      "\n"
     ]
    },
    {
     "name": "stderr",
     "output_type": "stream",
     "text": [
      "\r",
      "Epoch 1:   6%|▌         | 215/3636 [01:21<21:01,  2.71it/s, training_loss=0.346]"
     ]
    },
    {
     "name": "stderr",
     "output_type": "stream",
     "text": [
      "\u001b[A"
     ]
    },
    {
     "name": "stderr",
     "output_type": "stream",
     "text": [
      "\n"
     ]
    },
    {
     "name": "stderr",
     "output_type": "stream",
     "text": [
      "\r",
      "Epoch 1:   6%|▌         | 215/3636 [01:21<21:01,  2.71it/s, training_loss=0.361]"
     ]
    },
    {
     "name": "stderr",
     "output_type": "stream",
     "text": [
      "\u001b[A"
     ]
    },
    {
     "name": "stderr",
     "output_type": "stream",
     "text": [
      "\n"
     ]
    },
    {
     "name": "stderr",
     "output_type": "stream",
     "text": [
      "\r",
      "Epoch 1:   6%|▌         | 216/3636 [01:21<21:01,  2.71it/s, training_loss=0.361]"
     ]
    },
    {
     "name": "stderr",
     "output_type": "stream",
     "text": [
      "\u001b[A"
     ]
    },
    {
     "name": "stderr",
     "output_type": "stream",
     "text": [
      "\n"
     ]
    },
    {
     "name": "stderr",
     "output_type": "stream",
     "text": [
      "\r",
      "Epoch 1:   6%|▌         | 216/3636 [01:22<21:01,  2.71it/s, training_loss=0.349]"
     ]
    },
    {
     "name": "stderr",
     "output_type": "stream",
     "text": [
      "\u001b[A"
     ]
    },
    {
     "name": "stderr",
     "output_type": "stream",
     "text": [
      "\n"
     ]
    },
    {
     "name": "stderr",
     "output_type": "stream",
     "text": [
      "\r",
      "Epoch 1:   6%|▌         | 217/3636 [01:22<21:00,  2.71it/s, training_loss=0.349]"
     ]
    },
    {
     "name": "stderr",
     "output_type": "stream",
     "text": [
      "\u001b[A"
     ]
    },
    {
     "name": "stderr",
     "output_type": "stream",
     "text": [
      "\n"
     ]
    },
    {
     "name": "stderr",
     "output_type": "stream",
     "text": [
      "\r",
      "Epoch 1:   6%|▌         | 217/3636 [01:22<21:00,  2.71it/s, training_loss=0.335]"
     ]
    },
    {
     "name": "stderr",
     "output_type": "stream",
     "text": [
      "\u001b[A"
     ]
    },
    {
     "name": "stderr",
     "output_type": "stream",
     "text": [
      "\n"
     ]
    },
    {
     "name": "stderr",
     "output_type": "stream",
     "text": [
      "\r",
      "Epoch 1:   6%|▌         | 218/3636 [01:22<21:01,  2.71it/s, training_loss=0.335]"
     ]
    },
    {
     "name": "stderr",
     "output_type": "stream",
     "text": [
      "\u001b[A"
     ]
    },
    {
     "name": "stderr",
     "output_type": "stream",
     "text": [
      "\n"
     ]
    },
    {
     "name": "stderr",
     "output_type": "stream",
     "text": [
      "\r",
      "Epoch 1:   6%|▌         | 218/3636 [01:22<21:01,  2.71it/s, training_loss=0.347]"
     ]
    },
    {
     "name": "stderr",
     "output_type": "stream",
     "text": [
      "\u001b[A"
     ]
    },
    {
     "name": "stderr",
     "output_type": "stream",
     "text": [
      "\n"
     ]
    },
    {
     "name": "stderr",
     "output_type": "stream",
     "text": [
      "\r",
      "Epoch 1:   6%|▌         | 219/3636 [01:22<20:59,  2.71it/s, training_loss=0.347]"
     ]
    },
    {
     "name": "stderr",
     "output_type": "stream",
     "text": [
      "\u001b[A"
     ]
    },
    {
     "name": "stderr",
     "output_type": "stream",
     "text": [
      "\n"
     ]
    },
    {
     "name": "stderr",
     "output_type": "stream",
     "text": [
      "\r",
      "Epoch 1:   6%|▌         | 219/3636 [01:23<20:59,  2.71it/s, training_loss=0.358]"
     ]
    },
    {
     "name": "stderr",
     "output_type": "stream",
     "text": [
      "\u001b[A"
     ]
    },
    {
     "name": "stderr",
     "output_type": "stream",
     "text": [
      "\n"
     ]
    },
    {
     "name": "stderr",
     "output_type": "stream",
     "text": [
      "\r",
      "Epoch 1:   6%|▌         | 220/3636 [01:23<21:02,  2.71it/s, training_loss=0.358]"
     ]
    },
    {
     "name": "stderr",
     "output_type": "stream",
     "text": [
      "\u001b[A"
     ]
    },
    {
     "name": "stderr",
     "output_type": "stream",
     "text": [
      "\n"
     ]
    },
    {
     "name": "stderr",
     "output_type": "stream",
     "text": [
      "\r",
      "Epoch 1:   6%|▌         | 220/3636 [01:23<21:02,  2.71it/s, training_loss=0.369]"
     ]
    },
    {
     "name": "stderr",
     "output_type": "stream",
     "text": [
      "\u001b[A"
     ]
    },
    {
     "name": "stderr",
     "output_type": "stream",
     "text": [
      "\n"
     ]
    },
    {
     "name": "stderr",
     "output_type": "stream",
     "text": [
      "\r",
      "Epoch 1:   6%|▌         | 221/3636 [01:23<21:02,  2.70it/s, training_loss=0.369]"
     ]
    },
    {
     "name": "stderr",
     "output_type": "stream",
     "text": [
      "\u001b[A"
     ]
    },
    {
     "name": "stderr",
     "output_type": "stream",
     "text": [
      "\n"
     ]
    },
    {
     "name": "stderr",
     "output_type": "stream",
     "text": [
      "\r",
      "Epoch 1:   6%|▌         | 221/3636 [01:23<21:02,  2.70it/s, training_loss=0.362]"
     ]
    },
    {
     "name": "stderr",
     "output_type": "stream",
     "text": [
      "\u001b[A"
     ]
    },
    {
     "name": "stderr",
     "output_type": "stream",
     "text": [
      "\n"
     ]
    },
    {
     "name": "stderr",
     "output_type": "stream",
     "text": [
      "\r",
      "Epoch 1:   6%|▌         | 222/3636 [01:23<21:00,  2.71it/s, training_loss=0.362]"
     ]
    },
    {
     "name": "stderr",
     "output_type": "stream",
     "text": [
      "\u001b[A"
     ]
    },
    {
     "name": "stderr",
     "output_type": "stream",
     "text": [
      "\n"
     ]
    },
    {
     "name": "stderr",
     "output_type": "stream",
     "text": [
      "\r",
      "Epoch 1:   6%|▌         | 222/3636 [01:24<21:00,  2.71it/s, training_loss=0.345]"
     ]
    },
    {
     "name": "stderr",
     "output_type": "stream",
     "text": [
      "\u001b[A"
     ]
    },
    {
     "name": "stderr",
     "output_type": "stream",
     "text": [
      "\n"
     ]
    },
    {
     "name": "stderr",
     "output_type": "stream",
     "text": [
      "\r",
      "Epoch 1:   6%|▌         | 223/3636 [01:24<21:14,  2.68it/s, training_loss=0.345]"
     ]
    },
    {
     "name": "stderr",
     "output_type": "stream",
     "text": [
      "\u001b[A"
     ]
    },
    {
     "name": "stderr",
     "output_type": "stream",
     "text": [
      "\n"
     ]
    },
    {
     "name": "stderr",
     "output_type": "stream",
     "text": [
      "\r",
      "Epoch 1:   6%|▌         | 223/3636 [01:24<21:14,  2.68it/s, training_loss=0.363]"
     ]
    },
    {
     "name": "stderr",
     "output_type": "stream",
     "text": [
      "\u001b[A"
     ]
    },
    {
     "name": "stderr",
     "output_type": "stream",
     "text": [
      "\n"
     ]
    },
    {
     "name": "stderr",
     "output_type": "stream",
     "text": [
      "\r",
      "Epoch 1:   6%|▌         | 224/3636 [01:24<21:08,  2.69it/s, training_loss=0.363]"
     ]
    },
    {
     "name": "stderr",
     "output_type": "stream",
     "text": [
      "\u001b[A"
     ]
    },
    {
     "name": "stderr",
     "output_type": "stream",
     "text": [
      "\n"
     ]
    },
    {
     "name": "stderr",
     "output_type": "stream",
     "text": [
      "\r",
      "Epoch 1:   6%|▌         | 224/3636 [01:25<21:08,  2.69it/s, training_loss=0.365]"
     ]
    },
    {
     "name": "stderr",
     "output_type": "stream",
     "text": [
      "\u001b[A"
     ]
    },
    {
     "name": "stderr",
     "output_type": "stream",
     "text": [
      "\n"
     ]
    },
    {
     "name": "stderr",
     "output_type": "stream",
     "text": [
      "\r",
      "Epoch 1:   6%|▌         | 225/3636 [01:25<21:00,  2.71it/s, training_loss=0.365]"
     ]
    },
    {
     "name": "stderr",
     "output_type": "stream",
     "text": [
      "\u001b[A"
     ]
    },
    {
     "name": "stderr",
     "output_type": "stream",
     "text": [
      "\n"
     ]
    },
    {
     "name": "stderr",
     "output_type": "stream",
     "text": [
      "\r",
      "Epoch 1:   6%|▌         | 225/3636 [01:25<21:00,  2.71it/s, training_loss=0.360]"
     ]
    },
    {
     "name": "stderr",
     "output_type": "stream",
     "text": [
      "\u001b[A"
     ]
    },
    {
     "name": "stderr",
     "output_type": "stream",
     "text": [
      "\n"
     ]
    },
    {
     "name": "stderr",
     "output_type": "stream",
     "text": [
      "\r",
      "Epoch 1:   6%|▌         | 226/3636 [01:25<20:59,  2.71it/s, training_loss=0.360]"
     ]
    },
    {
     "name": "stderr",
     "output_type": "stream",
     "text": [
      "\u001b[A"
     ]
    },
    {
     "name": "stderr",
     "output_type": "stream",
     "text": [
      "\n"
     ]
    },
    {
     "name": "stderr",
     "output_type": "stream",
     "text": [
      "\r",
      "Epoch 1:   6%|▌         | 226/3636 [01:25<20:59,  2.71it/s, training_loss=0.352]"
     ]
    },
    {
     "name": "stderr",
     "output_type": "stream",
     "text": [
      "\u001b[A"
     ]
    },
    {
     "name": "stderr",
     "output_type": "stream",
     "text": [
      "\n"
     ]
    },
    {
     "name": "stderr",
     "output_type": "stream",
     "text": [
      "\r",
      "Epoch 1:   6%|▌         | 227/3636 [01:25<20:55,  2.72it/s, training_loss=0.352]"
     ]
    },
    {
     "name": "stderr",
     "output_type": "stream",
     "text": [
      "\u001b[A"
     ]
    },
    {
     "name": "stderr",
     "output_type": "stream",
     "text": [
      "\n"
     ]
    },
    {
     "name": "stderr",
     "output_type": "stream",
     "text": [
      "\r",
      "Epoch 1:   6%|▌         | 227/3636 [01:26<20:55,  2.72it/s, training_loss=0.342]"
     ]
    },
    {
     "name": "stderr",
     "output_type": "stream",
     "text": [
      "\u001b[A"
     ]
    },
    {
     "name": "stderr",
     "output_type": "stream",
     "text": [
      "\n"
     ]
    },
    {
     "name": "stderr",
     "output_type": "stream",
     "text": [
      "\r",
      "Epoch 1:   6%|▋         | 228/3636 [01:26<20:53,  2.72it/s, training_loss=0.342]"
     ]
    },
    {
     "name": "stderr",
     "output_type": "stream",
     "text": [
      "\u001b[A"
     ]
    },
    {
     "name": "stderr",
     "output_type": "stream",
     "text": [
      "\n"
     ]
    },
    {
     "name": "stderr",
     "output_type": "stream",
     "text": [
      "\r",
      "Epoch 1:   6%|▋         | 228/3636 [01:26<20:53,  2.72it/s, training_loss=0.361]"
     ]
    },
    {
     "name": "stderr",
     "output_type": "stream",
     "text": [
      "\u001b[A"
     ]
    },
    {
     "name": "stderr",
     "output_type": "stream",
     "text": [
      "\n"
     ]
    },
    {
     "name": "stderr",
     "output_type": "stream",
     "text": [
      "\r",
      "Epoch 1:   6%|▋         | 229/3636 [01:26<20:51,  2.72it/s, training_loss=0.361]"
     ]
    },
    {
     "name": "stderr",
     "output_type": "stream",
     "text": [
      "\u001b[A"
     ]
    },
    {
     "name": "stderr",
     "output_type": "stream",
     "text": [
      "\n"
     ]
    },
    {
     "name": "stderr",
     "output_type": "stream",
     "text": [
      "\r",
      "Epoch 1:   6%|▋         | 229/3636 [01:26<20:51,  2.72it/s, training_loss=0.347]"
     ]
    },
    {
     "name": "stderr",
     "output_type": "stream",
     "text": [
      "\u001b[A"
     ]
    },
    {
     "name": "stderr",
     "output_type": "stream",
     "text": [
      "\n"
     ]
    },
    {
     "name": "stderr",
     "output_type": "stream",
     "text": [
      "\r",
      "Epoch 1:   6%|▋         | 230/3636 [01:26<20:47,  2.73it/s, training_loss=0.347]"
     ]
    },
    {
     "name": "stderr",
     "output_type": "stream",
     "text": [
      "\u001b[A"
     ]
    },
    {
     "name": "stderr",
     "output_type": "stream",
     "text": [
      "\n"
     ]
    },
    {
     "name": "stderr",
     "output_type": "stream",
     "text": [
      "\r",
      "Epoch 1:   6%|▋         | 230/3636 [01:27<20:47,  2.73it/s, training_loss=0.361]"
     ]
    },
    {
     "name": "stderr",
     "output_type": "stream",
     "text": [
      "\u001b[A"
     ]
    },
    {
     "name": "stderr",
     "output_type": "stream",
     "text": [
      "\n"
     ]
    },
    {
     "name": "stderr",
     "output_type": "stream",
     "text": [
      "\r",
      "Epoch 1:   6%|▋         | 231/3636 [01:27<20:46,  2.73it/s, training_loss=0.361]"
     ]
    },
    {
     "name": "stderr",
     "output_type": "stream",
     "text": [
      "\u001b[A"
     ]
    },
    {
     "name": "stderr",
     "output_type": "stream",
     "text": [
      "\n"
     ]
    },
    {
     "name": "stderr",
     "output_type": "stream",
     "text": [
      "\r",
      "Epoch 1:   6%|▋         | 231/3636 [01:27<20:46,  2.73it/s, training_loss=0.347]"
     ]
    },
    {
     "name": "stderr",
     "output_type": "stream",
     "text": [
      "\u001b[A"
     ]
    },
    {
     "name": "stderr",
     "output_type": "stream",
     "text": [
      "\n"
     ]
    },
    {
     "name": "stderr",
     "output_type": "stream",
     "text": [
      "\r",
      "Epoch 1:   6%|▋         | 232/3636 [01:27<20:44,  2.73it/s, training_loss=0.347]"
     ]
    },
    {
     "name": "stderr",
     "output_type": "stream",
     "text": [
      "\u001b[A"
     ]
    },
    {
     "name": "stderr",
     "output_type": "stream",
     "text": [
      "\n"
     ]
    },
    {
     "name": "stderr",
     "output_type": "stream",
     "text": [
      "\r",
      "Epoch 1:   6%|▋         | 232/3636 [01:27<20:44,  2.73it/s, training_loss=0.352]"
     ]
    },
    {
     "name": "stderr",
     "output_type": "stream",
     "text": [
      "\u001b[A"
     ]
    },
    {
     "name": "stderr",
     "output_type": "stream",
     "text": [
      "\n"
     ]
    },
    {
     "name": "stderr",
     "output_type": "stream",
     "text": [
      "\r",
      "Epoch 1:   6%|▋         | 233/3636 [01:27<20:47,  2.73it/s, training_loss=0.352]"
     ]
    },
    {
     "name": "stderr",
     "output_type": "stream",
     "text": [
      "\u001b[A"
     ]
    },
    {
     "name": "stderr",
     "output_type": "stream",
     "text": [
      "\n"
     ]
    },
    {
     "name": "stderr",
     "output_type": "stream",
     "text": [
      "\r",
      "Epoch 1:   6%|▋         | 233/3636 [01:28<20:47,  2.73it/s, training_loss=0.353]"
     ]
    },
    {
     "name": "stderr",
     "output_type": "stream",
     "text": [
      "\u001b[A"
     ]
    },
    {
     "name": "stderr",
     "output_type": "stream",
     "text": [
      "\n"
     ]
    },
    {
     "name": "stderr",
     "output_type": "stream",
     "text": [
      "\r",
      "Epoch 1:   6%|▋         | 234/3636 [01:28<20:46,  2.73it/s, training_loss=0.353]"
     ]
    },
    {
     "name": "stderr",
     "output_type": "stream",
     "text": [
      "\u001b[A"
     ]
    },
    {
     "name": "stderr",
     "output_type": "stream",
     "text": [
      "\n"
     ]
    },
    {
     "name": "stderr",
     "output_type": "stream",
     "text": [
      "\r",
      "Epoch 1:   6%|▋         | 234/3636 [01:28<20:46,  2.73it/s, training_loss=0.363]"
     ]
    },
    {
     "name": "stderr",
     "output_type": "stream",
     "text": [
      "\u001b[A"
     ]
    },
    {
     "name": "stderr",
     "output_type": "stream",
     "text": [
      "\n"
     ]
    },
    {
     "name": "stderr",
     "output_type": "stream",
     "text": [
      "\r",
      "Epoch 1:   6%|▋         | 235/3636 [01:28<20:44,  2.73it/s, training_loss=0.363]"
     ]
    },
    {
     "name": "stderr",
     "output_type": "stream",
     "text": [
      "\u001b[A"
     ]
    },
    {
     "name": "stderr",
     "output_type": "stream",
     "text": [
      "\n"
     ]
    },
    {
     "name": "stderr",
     "output_type": "stream",
     "text": [
      "\r",
      "Epoch 1:   6%|▋         | 235/3636 [01:29<20:44,  2.73it/s, training_loss=0.343]"
     ]
    },
    {
     "name": "stderr",
     "output_type": "stream",
     "text": [
      "\u001b[A"
     ]
    },
    {
     "name": "stderr",
     "output_type": "stream",
     "text": [
      "\n"
     ]
    },
    {
     "name": "stderr",
     "output_type": "stream",
     "text": [
      "\r",
      "Epoch 1:   6%|▋         | 236/3636 [01:29<20:48,  2.72it/s, training_loss=0.343]"
     ]
    },
    {
     "name": "stderr",
     "output_type": "stream",
     "text": [
      "\u001b[A"
     ]
    },
    {
     "name": "stderr",
     "output_type": "stream",
     "text": [
      "\n"
     ]
    },
    {
     "name": "stderr",
     "output_type": "stream",
     "text": [
      "\r",
      "Epoch 1:   6%|▋         | 236/3636 [01:29<20:48,  2.72it/s, training_loss=0.354]"
     ]
    },
    {
     "name": "stderr",
     "output_type": "stream",
     "text": [
      "\u001b[A"
     ]
    },
    {
     "name": "stderr",
     "output_type": "stream",
     "text": [
      "\n"
     ]
    },
    {
     "name": "stderr",
     "output_type": "stream",
     "text": [
      "\r",
      "Epoch 1:   7%|▋         | 237/3636 [01:29<20:46,  2.73it/s, training_loss=0.354]"
     ]
    },
    {
     "name": "stderr",
     "output_type": "stream",
     "text": [
      "\u001b[A"
     ]
    },
    {
     "name": "stderr",
     "output_type": "stream",
     "text": [
      "\n"
     ]
    },
    {
     "name": "stderr",
     "output_type": "stream",
     "text": [
      "\r",
      "Epoch 1:   7%|▋         | 237/3636 [01:29<20:46,  2.73it/s, training_loss=0.363]"
     ]
    },
    {
     "name": "stderr",
     "output_type": "stream",
     "text": [
      "\u001b[A"
     ]
    },
    {
     "name": "stderr",
     "output_type": "stream",
     "text": [
      "\n"
     ]
    },
    {
     "name": "stderr",
     "output_type": "stream",
     "text": [
      "\r",
      "Epoch 1:   7%|▋         | 238/3636 [01:29<20:51,  2.72it/s, training_loss=0.363]"
     ]
    },
    {
     "name": "stderr",
     "output_type": "stream",
     "text": [
      "\u001b[A"
     ]
    },
    {
     "name": "stderr",
     "output_type": "stream",
     "text": [
      "\n"
     ]
    },
    {
     "name": "stderr",
     "output_type": "stream",
     "text": [
      "\r",
      "Epoch 1:   7%|▋         | 238/3636 [01:30<20:51,  2.72it/s, training_loss=0.366]"
     ]
    },
    {
     "name": "stderr",
     "output_type": "stream",
     "text": [
      "\u001b[A"
     ]
    },
    {
     "name": "stderr",
     "output_type": "stream",
     "text": [
      "\n"
     ]
    },
    {
     "name": "stderr",
     "output_type": "stream",
     "text": [
      "\r",
      "Epoch 1:   7%|▋         | 239/3636 [01:30<20:50,  2.72it/s, training_loss=0.366]"
     ]
    },
    {
     "name": "stderr",
     "output_type": "stream",
     "text": [
      "\u001b[A"
     ]
    },
    {
     "name": "stderr",
     "output_type": "stream",
     "text": [
      "\n"
     ]
    },
    {
     "name": "stderr",
     "output_type": "stream",
     "text": [
      "\r",
      "Epoch 1:   7%|▋         | 239/3636 [01:30<20:50,  2.72it/s, training_loss=0.357]"
     ]
    },
    {
     "name": "stderr",
     "output_type": "stream",
     "text": [
      "\u001b[A"
     ]
    },
    {
     "name": "stderr",
     "output_type": "stream",
     "text": [
      "\n"
     ]
    },
    {
     "name": "stderr",
     "output_type": "stream",
     "text": [
      "\r",
      "Epoch 1:   7%|▋         | 240/3636 [01:30<20:48,  2.72it/s, training_loss=0.357]"
     ]
    },
    {
     "name": "stderr",
     "output_type": "stream",
     "text": [
      "\u001b[A"
     ]
    },
    {
     "name": "stderr",
     "output_type": "stream",
     "text": [
      "\n"
     ]
    },
    {
     "name": "stderr",
     "output_type": "stream",
     "text": [
      "\r",
      "Epoch 1:   7%|▋         | 240/3636 [01:30<20:48,  2.72it/s, training_loss=0.352]"
     ]
    },
    {
     "name": "stderr",
     "output_type": "stream",
     "text": [
      "\u001b[A"
     ]
    },
    {
     "name": "stderr",
     "output_type": "stream",
     "text": [
      "\n"
     ]
    },
    {
     "name": "stderr",
     "output_type": "stream",
     "text": [
      "\r",
      "Epoch 1:   7%|▋         | 241/3636 [01:30<20:47,  2.72it/s, training_loss=0.352]"
     ]
    },
    {
     "name": "stderr",
     "output_type": "stream",
     "text": [
      "\u001b[A"
     ]
    },
    {
     "name": "stderr",
     "output_type": "stream",
     "text": [
      "\n"
     ]
    },
    {
     "name": "stderr",
     "output_type": "stream",
     "text": [
      "\r",
      "Epoch 1:   7%|▋         | 241/3636 [01:31<20:47,  2.72it/s, training_loss=0.360]"
     ]
    },
    {
     "name": "stderr",
     "output_type": "stream",
     "text": [
      "\u001b[A"
     ]
    },
    {
     "name": "stderr",
     "output_type": "stream",
     "text": [
      "\n"
     ]
    },
    {
     "name": "stderr",
     "output_type": "stream",
     "text": [
      "\r",
      "Epoch 1:   7%|▋         | 242/3636 [01:31<20:49,  2.72it/s, training_loss=0.360]"
     ]
    },
    {
     "name": "stderr",
     "output_type": "stream",
     "text": [
      "\u001b[A"
     ]
    },
    {
     "name": "stderr",
     "output_type": "stream",
     "text": [
      "\n"
     ]
    },
    {
     "name": "stderr",
     "output_type": "stream",
     "text": [
      "\r",
      "Epoch 1:   7%|▋         | 242/3636 [01:31<20:49,  2.72it/s, training_loss=0.349]"
     ]
    },
    {
     "name": "stderr",
     "output_type": "stream",
     "text": [
      "\u001b[A"
     ]
    },
    {
     "name": "stderr",
     "output_type": "stream",
     "text": [
      "\n"
     ]
    },
    {
     "name": "stderr",
     "output_type": "stream",
     "text": [
      "\r",
      "Epoch 1:   7%|▋         | 243/3636 [01:31<20:56,  2.70it/s, training_loss=0.349]"
     ]
    },
    {
     "name": "stderr",
     "output_type": "stream",
     "text": [
      "\u001b[A"
     ]
    },
    {
     "name": "stderr",
     "output_type": "stream",
     "text": [
      "\n"
     ]
    },
    {
     "name": "stderr",
     "output_type": "stream",
     "text": [
      "\r",
      "Epoch 1:   7%|▋         | 243/3636 [01:31<20:56,  2.70it/s, training_loss=0.355]"
     ]
    },
    {
     "name": "stderr",
     "output_type": "stream",
     "text": [
      "\u001b[A"
     ]
    },
    {
     "name": "stderr",
     "output_type": "stream",
     "text": [
      "\n"
     ]
    },
    {
     "name": "stderr",
     "output_type": "stream",
     "text": [
      "\r",
      "Epoch 1:   7%|▋         | 244/3636 [01:32<20:57,  2.70it/s, training_loss=0.355]"
     ]
    },
    {
     "name": "stderr",
     "output_type": "stream",
     "text": [
      "\u001b[A"
     ]
    },
    {
     "name": "stderr",
     "output_type": "stream",
     "text": [
      "\n"
     ]
    },
    {
     "name": "stderr",
     "output_type": "stream",
     "text": [
      "\r",
      "Epoch 1:   7%|▋         | 244/3636 [01:32<20:57,  2.70it/s, training_loss=0.345]"
     ]
    },
    {
     "name": "stderr",
     "output_type": "stream",
     "text": [
      "\u001b[A"
     ]
    },
    {
     "name": "stderr",
     "output_type": "stream",
     "text": [
      "\n"
     ]
    },
    {
     "name": "stderr",
     "output_type": "stream",
     "text": [
      "\r",
      "Epoch 1:   7%|▋         | 245/3636 [01:32<21:07,  2.67it/s, training_loss=0.345]"
     ]
    },
    {
     "name": "stderr",
     "output_type": "stream",
     "text": [
      "\u001b[A"
     ]
    },
    {
     "name": "stderr",
     "output_type": "stream",
     "text": [
      "\n"
     ]
    },
    {
     "name": "stderr",
     "output_type": "stream",
     "text": [
      "\r",
      "Epoch 1:   7%|▋         | 245/3636 [01:32<21:07,  2.67it/s, training_loss=0.353]"
     ]
    },
    {
     "name": "stderr",
     "output_type": "stream",
     "text": [
      "\u001b[A"
     ]
    },
    {
     "name": "stderr",
     "output_type": "stream",
     "text": [
      "\n"
     ]
    },
    {
     "name": "stderr",
     "output_type": "stream",
     "text": [
      "\r",
      "Epoch 1:   7%|▋         | 246/3636 [01:32<20:58,  2.69it/s, training_loss=0.353]"
     ]
    },
    {
     "name": "stderr",
     "output_type": "stream",
     "text": [
      "\u001b[A"
     ]
    },
    {
     "name": "stderr",
     "output_type": "stream",
     "text": [
      "\n"
     ]
    },
    {
     "name": "stderr",
     "output_type": "stream",
     "text": [
      "\r",
      "Epoch 1:   7%|▋         | 246/3636 [01:33<20:58,  2.69it/s, training_loss=0.361]"
     ]
    },
    {
     "name": "stderr",
     "output_type": "stream",
     "text": [
      "\u001b[A"
     ]
    },
    {
     "name": "stderr",
     "output_type": "stream",
     "text": [
      "\n"
     ]
    },
    {
     "name": "stderr",
     "output_type": "stream",
     "text": [
      "\r",
      "Epoch 1:   7%|▋         | 247/3636 [01:33<20:56,  2.70it/s, training_loss=0.361]"
     ]
    },
    {
     "name": "stderr",
     "output_type": "stream",
     "text": [
      "\u001b[A"
     ]
    },
    {
     "name": "stderr",
     "output_type": "stream",
     "text": [
      "\n"
     ]
    },
    {
     "name": "stderr",
     "output_type": "stream",
     "text": [
      "\r",
      "Epoch 1:   7%|▋         | 247/3636 [01:33<20:56,  2.70it/s, training_loss=0.349]"
     ]
    },
    {
     "name": "stderr",
     "output_type": "stream",
     "text": [
      "\u001b[A"
     ]
    },
    {
     "name": "stderr",
     "output_type": "stream",
     "text": [
      "\n"
     ]
    },
    {
     "name": "stderr",
     "output_type": "stream",
     "text": [
      "\r",
      "Epoch 1:   7%|▋         | 248/3636 [01:33<20:51,  2.71it/s, training_loss=0.349]"
     ]
    },
    {
     "name": "stderr",
     "output_type": "stream",
     "text": [
      "\u001b[A"
     ]
    },
    {
     "name": "stderr",
     "output_type": "stream",
     "text": [
      "\n"
     ]
    },
    {
     "name": "stderr",
     "output_type": "stream",
     "text": [
      "\r",
      "Epoch 1:   7%|▋         | 248/3636 [01:33<20:51,  2.71it/s, training_loss=0.355]"
     ]
    },
    {
     "name": "stderr",
     "output_type": "stream",
     "text": [
      "\u001b[A"
     ]
    },
    {
     "name": "stderr",
     "output_type": "stream",
     "text": [
      "\n"
     ]
    },
    {
     "name": "stderr",
     "output_type": "stream",
     "text": [
      "\r",
      "Epoch 1:   7%|▋         | 249/3636 [01:33<20:50,  2.71it/s, training_loss=0.355]"
     ]
    },
    {
     "name": "stderr",
     "output_type": "stream",
     "text": [
      "\u001b[A"
     ]
    },
    {
     "name": "stderr",
     "output_type": "stream",
     "text": [
      "\n"
     ]
    },
    {
     "name": "stderr",
     "output_type": "stream",
     "text": [
      "\r",
      "Epoch 1:   7%|▋         | 249/3636 [01:34<20:50,  2.71it/s, training_loss=0.348]"
     ]
    },
    {
     "name": "stderr",
     "output_type": "stream",
     "text": [
      "\u001b[A"
     ]
    },
    {
     "name": "stderr",
     "output_type": "stream",
     "text": [
      "\n"
     ]
    },
    {
     "name": "stderr",
     "output_type": "stream",
     "text": [
      "\r",
      "Epoch 1:   7%|▋         | 250/3636 [01:34<20:49,  2.71it/s, training_loss=0.348]"
     ]
    },
    {
     "name": "stderr",
     "output_type": "stream",
     "text": [
      "\u001b[A"
     ]
    },
    {
     "name": "stderr",
     "output_type": "stream",
     "text": [
      "\n"
     ]
    },
    {
     "name": "stderr",
     "output_type": "stream",
     "text": [
      "\r",
      "Epoch 1:   7%|▋         | 250/3636 [01:34<20:49,  2.71it/s, training_loss=0.339]"
     ]
    },
    {
     "name": "stderr",
     "output_type": "stream",
     "text": [
      "\u001b[A"
     ]
    },
    {
     "name": "stderr",
     "output_type": "stream",
     "text": [
      "\n"
     ]
    },
    {
     "name": "stderr",
     "output_type": "stream",
     "text": [
      "\r",
      "Epoch 1:   7%|▋         | 251/3636 [01:34<21:02,  2.68it/s, training_loss=0.339]"
     ]
    },
    {
     "name": "stderr",
     "output_type": "stream",
     "text": [
      "\u001b[A"
     ]
    },
    {
     "name": "stderr",
     "output_type": "stream",
     "text": [
      "\n"
     ]
    },
    {
     "name": "stderr",
     "output_type": "stream",
     "text": [
      "\r",
      "Epoch 1:   7%|▋         | 251/3636 [01:34<21:02,  2.68it/s, training_loss=0.345]"
     ]
    },
    {
     "name": "stderr",
     "output_type": "stream",
     "text": [
      "\u001b[A"
     ]
    },
    {
     "name": "stderr",
     "output_type": "stream",
     "text": [
      "\n"
     ]
    },
    {
     "name": "stderr",
     "output_type": "stream",
     "text": [
      "\r",
      "Epoch 1:   7%|▋         | 252/3636 [01:34<20:56,  2.69it/s, training_loss=0.345]"
     ]
    },
    {
     "name": "stderr",
     "output_type": "stream",
     "text": [
      "\u001b[A"
     ]
    },
    {
     "name": "stderr",
     "output_type": "stream",
     "text": [
      "\n"
     ]
    },
    {
     "name": "stderr",
     "output_type": "stream",
     "text": [
      "\r",
      "Epoch 1:   7%|▋         | 252/3636 [01:35<20:56,  2.69it/s, training_loss=0.348]"
     ]
    },
    {
     "name": "stderr",
     "output_type": "stream",
     "text": [
      "\u001b[A"
     ]
    },
    {
     "name": "stderr",
     "output_type": "stream",
     "text": [
      "\n"
     ]
    },
    {
     "name": "stderr",
     "output_type": "stream",
     "text": [
      "\r",
      "Epoch 1:   7%|▋         | 253/3636 [01:35<20:56,  2.69it/s, training_loss=0.348]"
     ]
    },
    {
     "name": "stderr",
     "output_type": "stream",
     "text": [
      "\u001b[A"
     ]
    },
    {
     "name": "stderr",
     "output_type": "stream",
     "text": [
      "\n"
     ]
    },
    {
     "name": "stderr",
     "output_type": "stream",
     "text": [
      "\r",
      "Epoch 1:   7%|▋         | 253/3636 [01:35<20:56,  2.69it/s, training_loss=0.336]"
     ]
    },
    {
     "name": "stderr",
     "output_type": "stream",
     "text": [
      "\u001b[A"
     ]
    },
    {
     "name": "stderr",
     "output_type": "stream",
     "text": [
      "\n"
     ]
    },
    {
     "name": "stderr",
     "output_type": "stream",
     "text": [
      "\r",
      "Epoch 1:   7%|▋         | 254/3636 [01:35<20:53,  2.70it/s, training_loss=0.336]"
     ]
    },
    {
     "name": "stderr",
     "output_type": "stream",
     "text": [
      "\u001b[A"
     ]
    },
    {
     "name": "stderr",
     "output_type": "stream",
     "text": [
      "\n"
     ]
    },
    {
     "name": "stderr",
     "output_type": "stream",
     "text": [
      "\r",
      "Epoch 1:   7%|▋         | 254/3636 [01:36<20:53,  2.70it/s, training_loss=0.354]"
     ]
    },
    {
     "name": "stderr",
     "output_type": "stream",
     "text": [
      "\u001b[A"
     ]
    },
    {
     "name": "stderr",
     "output_type": "stream",
     "text": [
      "\n"
     ]
    },
    {
     "name": "stderr",
     "output_type": "stream",
     "text": [
      "\r",
      "Epoch 1:   7%|▋         | 255/3636 [01:36<20:50,  2.70it/s, training_loss=0.354]"
     ]
    },
    {
     "name": "stderr",
     "output_type": "stream",
     "text": [
      "\u001b[A"
     ]
    },
    {
     "name": "stderr",
     "output_type": "stream",
     "text": [
      "\n"
     ]
    },
    {
     "name": "stderr",
     "output_type": "stream",
     "text": [
      "\r",
      "Epoch 1:   7%|▋         | 255/3636 [01:36<20:50,  2.70it/s, training_loss=0.323]"
     ]
    },
    {
     "name": "stderr",
     "output_type": "stream",
     "text": [
      "\u001b[A"
     ]
    },
    {
     "name": "stderr",
     "output_type": "stream",
     "text": [
      "\n"
     ]
    },
    {
     "name": "stderr",
     "output_type": "stream",
     "text": [
      "\r",
      "Epoch 1:   7%|▋         | 256/3636 [01:36<20:52,  2.70it/s, training_loss=0.323]"
     ]
    },
    {
     "name": "stderr",
     "output_type": "stream",
     "text": [
      "\u001b[A"
     ]
    },
    {
     "name": "stderr",
     "output_type": "stream",
     "text": [
      "\n"
     ]
    },
    {
     "name": "stderr",
     "output_type": "stream",
     "text": [
      "\r",
      "Epoch 1:   7%|▋         | 256/3636 [01:36<20:52,  2.70it/s, training_loss=0.347]"
     ]
    },
    {
     "name": "stderr",
     "output_type": "stream",
     "text": [
      "\u001b[A"
     ]
    },
    {
     "name": "stderr",
     "output_type": "stream",
     "text": [
      "\n"
     ]
    },
    {
     "name": "stderr",
     "output_type": "stream",
     "text": [
      "\r",
      "Epoch 1:   7%|▋         | 257/3636 [01:36<20:49,  2.70it/s, training_loss=0.347]"
     ]
    },
    {
     "name": "stderr",
     "output_type": "stream",
     "text": [
      "\u001b[A"
     ]
    },
    {
     "name": "stderr",
     "output_type": "stream",
     "text": [
      "\n"
     ]
    },
    {
     "name": "stderr",
     "output_type": "stream",
     "text": [
      "\r",
      "Epoch 1:   7%|▋         | 257/3636 [01:37<20:49,  2.70it/s, training_loss=0.365]"
     ]
    },
    {
     "name": "stderr",
     "output_type": "stream",
     "text": [
      "\u001b[A"
     ]
    },
    {
     "name": "stderr",
     "output_type": "stream",
     "text": [
      "\n"
     ]
    },
    {
     "name": "stderr",
     "output_type": "stream",
     "text": [
      "\r",
      "Epoch 1:   7%|▋         | 258/3636 [01:37<20:47,  2.71it/s, training_loss=0.365]"
     ]
    },
    {
     "name": "stderr",
     "output_type": "stream",
     "text": [
      "\u001b[A"
     ]
    },
    {
     "name": "stderr",
     "output_type": "stream",
     "text": [
      "\n"
     ]
    },
    {
     "name": "stderr",
     "output_type": "stream",
     "text": [
      "\r",
      "Epoch 1:   7%|▋         | 258/3636 [01:37<20:47,  2.71it/s, training_loss=0.354]"
     ]
    },
    {
     "name": "stderr",
     "output_type": "stream",
     "text": [
      "\u001b[A"
     ]
    },
    {
     "name": "stderr",
     "output_type": "stream",
     "text": [
      "\n"
     ]
    },
    {
     "name": "stderr",
     "output_type": "stream",
     "text": [
      "\r",
      "Epoch 1:   7%|▋         | 259/3636 [01:37<20:44,  2.71it/s, training_loss=0.354]"
     ]
    },
    {
     "name": "stderr",
     "output_type": "stream",
     "text": [
      "\u001b[A"
     ]
    },
    {
     "name": "stderr",
     "output_type": "stream",
     "text": [
      "\n"
     ]
    },
    {
     "name": "stderr",
     "output_type": "stream",
     "text": [
      "\r",
      "Epoch 1:   7%|▋         | 259/3636 [01:37<20:44,  2.71it/s, training_loss=0.353]"
     ]
    },
    {
     "name": "stderr",
     "output_type": "stream",
     "text": [
      "\u001b[A"
     ]
    },
    {
     "name": "stderr",
     "output_type": "stream",
     "text": [
      "\n"
     ]
    },
    {
     "name": "stderr",
     "output_type": "stream",
     "text": [
      "\r",
      "Epoch 1:   7%|▋         | 260/3636 [01:37<20:45,  2.71it/s, training_loss=0.353]"
     ]
    },
    {
     "name": "stderr",
     "output_type": "stream",
     "text": [
      "\u001b[A"
     ]
    },
    {
     "name": "stderr",
     "output_type": "stream",
     "text": [
      "\n"
     ]
    },
    {
     "name": "stderr",
     "output_type": "stream",
     "text": [
      "\r",
      "Epoch 1:   7%|▋         | 260/3636 [01:38<20:45,  2.71it/s, training_loss=0.344]"
     ]
    },
    {
     "name": "stderr",
     "output_type": "stream",
     "text": [
      "\u001b[A"
     ]
    },
    {
     "name": "stderr",
     "output_type": "stream",
     "text": [
      "\n"
     ]
    },
    {
     "name": "stderr",
     "output_type": "stream",
     "text": [
      "\r",
      "Epoch 1:   7%|▋         | 261/3636 [01:38<20:44,  2.71it/s, training_loss=0.344]"
     ]
    },
    {
     "name": "stderr",
     "output_type": "stream",
     "text": [
      "\u001b[A"
     ]
    },
    {
     "name": "stderr",
     "output_type": "stream",
     "text": [
      "\n"
     ]
    },
    {
     "name": "stderr",
     "output_type": "stream",
     "text": [
      "\r",
      "Epoch 1:   7%|▋         | 261/3636 [01:38<20:44,  2.71it/s, training_loss=0.341]"
     ]
    },
    {
     "name": "stderr",
     "output_type": "stream",
     "text": [
      "\u001b[A"
     ]
    },
    {
     "name": "stderr",
     "output_type": "stream",
     "text": [
      "\n"
     ]
    },
    {
     "name": "stderr",
     "output_type": "stream",
     "text": [
      "\r",
      "Epoch 1:   7%|▋         | 262/3636 [01:38<20:46,  2.71it/s, training_loss=0.341]"
     ]
    },
    {
     "name": "stderr",
     "output_type": "stream",
     "text": [
      "\u001b[A"
     ]
    },
    {
     "name": "stderr",
     "output_type": "stream",
     "text": [
      "\n"
     ]
    },
    {
     "name": "stderr",
     "output_type": "stream",
     "text": [
      "\r",
      "Epoch 1:   7%|▋         | 262/3636 [01:39<20:46,  2.71it/s, training_loss=0.366]"
     ]
    },
    {
     "name": "stderr",
     "output_type": "stream",
     "text": [
      "\u001b[A"
     ]
    },
    {
     "name": "stderr",
     "output_type": "stream",
     "text": [
      "\n"
     ]
    },
    {
     "name": "stderr",
     "output_type": "stream",
     "text": [
      "\r",
      "Epoch 1:   7%|▋         | 263/3636 [01:39<20:53,  2.69it/s, training_loss=0.366]"
     ]
    },
    {
     "name": "stderr",
     "output_type": "stream",
     "text": [
      "\u001b[A"
     ]
    },
    {
     "name": "stderr",
     "output_type": "stream",
     "text": [
      "\n"
     ]
    },
    {
     "name": "stderr",
     "output_type": "stream",
     "text": [
      "\r",
      "Epoch 1:   7%|▋         | 263/3636 [01:39<20:53,  2.69it/s, training_loss=0.352]"
     ]
    },
    {
     "name": "stderr",
     "output_type": "stream",
     "text": [
      "\u001b[A"
     ]
    },
    {
     "name": "stderr",
     "output_type": "stream",
     "text": [
      "\n"
     ]
    },
    {
     "name": "stderr",
     "output_type": "stream",
     "text": [
      "\r",
      "Epoch 1:   7%|▋         | 264/3636 [01:39<20:49,  2.70it/s, training_loss=0.352]"
     ]
    },
    {
     "name": "stderr",
     "output_type": "stream",
     "text": [
      "\u001b[A"
     ]
    },
    {
     "name": "stderr",
     "output_type": "stream",
     "text": [
      "\n"
     ]
    },
    {
     "name": "stderr",
     "output_type": "stream",
     "text": [
      "\r",
      "Epoch 1:   7%|▋         | 264/3636 [01:39<20:49,  2.70it/s, training_loss=0.347]"
     ]
    },
    {
     "name": "stderr",
     "output_type": "stream",
     "text": [
      "\u001b[A"
     ]
    },
    {
     "name": "stderr",
     "output_type": "stream",
     "text": [
      "\n"
     ]
    },
    {
     "name": "stderr",
     "output_type": "stream",
     "text": [
      "\r",
      "Epoch 1:   7%|▋         | 265/3636 [01:39<20:45,  2.71it/s, training_loss=0.347]"
     ]
    },
    {
     "name": "stderr",
     "output_type": "stream",
     "text": [
      "\u001b[A"
     ]
    },
    {
     "name": "stderr",
     "output_type": "stream",
     "text": [
      "\n"
     ]
    },
    {
     "name": "stderr",
     "output_type": "stream",
     "text": [
      "\r",
      "Epoch 1:   7%|▋         | 265/3636 [01:40<20:45,  2.71it/s, training_loss=0.376]"
     ]
    },
    {
     "name": "stderr",
     "output_type": "stream",
     "text": [
      "\u001b[A"
     ]
    },
    {
     "name": "stderr",
     "output_type": "stream",
     "text": [
      "\n"
     ]
    },
    {
     "name": "stderr",
     "output_type": "stream",
     "text": [
      "\r",
      "Epoch 1:   7%|▋         | 266/3636 [01:40<20:43,  2.71it/s, training_loss=0.376]"
     ]
    },
    {
     "name": "stderr",
     "output_type": "stream",
     "text": [
      "\u001b[A"
     ]
    },
    {
     "name": "stderr",
     "output_type": "stream",
     "text": [
      "\n"
     ]
    },
    {
     "name": "stderr",
     "output_type": "stream",
     "text": [
      "\r",
      "Epoch 1:   7%|▋         | 266/3636 [01:40<20:43,  2.71it/s, training_loss=0.358]"
     ]
    },
    {
     "name": "stderr",
     "output_type": "stream",
     "text": [
      "\u001b[A"
     ]
    },
    {
     "name": "stderr",
     "output_type": "stream",
     "text": [
      "\n"
     ]
    },
    {
     "name": "stderr",
     "output_type": "stream",
     "text": [
      "\r",
      "Epoch 1:   7%|▋         | 267/3636 [01:40<20:38,  2.72it/s, training_loss=0.358]"
     ]
    },
    {
     "name": "stderr",
     "output_type": "stream",
     "text": [
      "\u001b[A"
     ]
    },
    {
     "name": "stderr",
     "output_type": "stream",
     "text": [
      "\n"
     ]
    },
    {
     "name": "stderr",
     "output_type": "stream",
     "text": [
      "\r",
      "Epoch 1:   7%|▋         | 267/3636 [01:40<20:38,  2.72it/s, training_loss=0.361]"
     ]
    },
    {
     "name": "stderr",
     "output_type": "stream",
     "text": [
      "\u001b[A"
     ]
    },
    {
     "name": "stderr",
     "output_type": "stream",
     "text": [
      "\n"
     ]
    },
    {
     "name": "stderr",
     "output_type": "stream",
     "text": [
      "\r",
      "Epoch 1:   7%|▋         | 268/3636 [01:40<20:36,  2.72it/s, training_loss=0.361]"
     ]
    },
    {
     "name": "stderr",
     "output_type": "stream",
     "text": [
      "\u001b[A"
     ]
    },
    {
     "name": "stderr",
     "output_type": "stream",
     "text": [
      "\n"
     ]
    },
    {
     "name": "stderr",
     "output_type": "stream",
     "text": [
      "\r",
      "Epoch 1:   7%|▋         | 268/3636 [01:41<20:36,  2.72it/s, training_loss=0.358]"
     ]
    },
    {
     "name": "stderr",
     "output_type": "stream",
     "text": [
      "\u001b[A"
     ]
    },
    {
     "name": "stderr",
     "output_type": "stream",
     "text": [
      "\n"
     ]
    },
    {
     "name": "stderr",
     "output_type": "stream",
     "text": [
      "\r",
      "Epoch 1:   7%|▋         | 269/3636 [01:41<20:36,  2.72it/s, training_loss=0.358]"
     ]
    },
    {
     "name": "stderr",
     "output_type": "stream",
     "text": [
      "\u001b[A"
     ]
    },
    {
     "name": "stderr",
     "output_type": "stream",
     "text": [
      "\n"
     ]
    },
    {
     "name": "stderr",
     "output_type": "stream",
     "text": [
      "\r",
      "Epoch 1:   7%|▋         | 269/3636 [01:41<20:36,  2.72it/s, training_loss=0.351]"
     ]
    },
    {
     "name": "stderr",
     "output_type": "stream",
     "text": [
      "\u001b[A"
     ]
    },
    {
     "name": "stderr",
     "output_type": "stream",
     "text": [
      "\n"
     ]
    },
    {
     "name": "stderr",
     "output_type": "stream",
     "text": [
      "\r",
      "Epoch 1:   7%|▋         | 270/3636 [01:41<20:36,  2.72it/s, training_loss=0.351]"
     ]
    },
    {
     "name": "stderr",
     "output_type": "stream",
     "text": [
      "\u001b[A"
     ]
    },
    {
     "name": "stderr",
     "output_type": "stream",
     "text": [
      "\n"
     ]
    },
    {
     "name": "stderr",
     "output_type": "stream",
     "text": [
      "\r",
      "Epoch 1:   7%|▋         | 270/3636 [01:41<20:36,  2.72it/s, training_loss=0.333]"
     ]
    },
    {
     "name": "stderr",
     "output_type": "stream",
     "text": [
      "\u001b[A"
     ]
    },
    {
     "name": "stderr",
     "output_type": "stream",
     "text": [
      "\n"
     ]
    },
    {
     "name": "stderr",
     "output_type": "stream",
     "text": [
      "\r",
      "Epoch 1:   7%|▋         | 271/3636 [01:41<20:37,  2.72it/s, training_loss=0.333]"
     ]
    },
    {
     "name": "stderr",
     "output_type": "stream",
     "text": [
      "\u001b[A"
     ]
    },
    {
     "name": "stderr",
     "output_type": "stream",
     "text": [
      "\n"
     ]
    },
    {
     "name": "stderr",
     "output_type": "stream",
     "text": [
      "\r",
      "Epoch 1:   7%|▋         | 271/3636 [01:42<20:37,  2.72it/s, training_loss=0.342]"
     ]
    },
    {
     "name": "stderr",
     "output_type": "stream",
     "text": [
      "\u001b[A"
     ]
    },
    {
     "name": "stderr",
     "output_type": "stream",
     "text": [
      "\n"
     ]
    },
    {
     "name": "stderr",
     "output_type": "stream",
     "text": [
      "\r",
      "Epoch 1:   7%|▋         | 272/3636 [01:42<20:48,  2.69it/s, training_loss=0.342]"
     ]
    },
    {
     "name": "stderr",
     "output_type": "stream",
     "text": [
      "\u001b[A"
     ]
    },
    {
     "name": "stderr",
     "output_type": "stream",
     "text": [
      "\n"
     ]
    },
    {
     "name": "stderr",
     "output_type": "stream",
     "text": [
      "\r",
      "Epoch 1:   7%|▋         | 272/3636 [01:42<20:48,  2.69it/s, training_loss=0.340]"
     ]
    },
    {
     "name": "stderr",
     "output_type": "stream",
     "text": [
      "\u001b[A"
     ]
    },
    {
     "name": "stderr",
     "output_type": "stream",
     "text": [
      "\n"
     ]
    },
    {
     "name": "stderr",
     "output_type": "stream",
     "text": [
      "\r",
      "Epoch 1:   8%|▊         | 273/3636 [01:42<20:44,  2.70it/s, training_loss=0.340]"
     ]
    },
    {
     "name": "stderr",
     "output_type": "stream",
     "text": [
      "\u001b[A"
     ]
    },
    {
     "name": "stderr",
     "output_type": "stream",
     "text": [
      "\n"
     ]
    },
    {
     "name": "stderr",
     "output_type": "stream",
     "text": [
      "\r",
      "Epoch 1:   8%|▊         | 273/3636 [01:43<20:44,  2.70it/s, training_loss=0.353]"
     ]
    },
    {
     "name": "stderr",
     "output_type": "stream",
     "text": [
      "\u001b[A"
     ]
    },
    {
     "name": "stderr",
     "output_type": "stream",
     "text": [
      "\n"
     ]
    },
    {
     "name": "stderr",
     "output_type": "stream",
     "text": [
      "\r",
      "Epoch 1:   8%|▊         | 274/3636 [01:43<20:40,  2.71it/s, training_loss=0.353]"
     ]
    },
    {
     "name": "stderr",
     "output_type": "stream",
     "text": [
      "\u001b[A"
     ]
    },
    {
     "name": "stderr",
     "output_type": "stream",
     "text": [
      "\n"
     ]
    },
    {
     "name": "stderr",
     "output_type": "stream",
     "text": [
      "\r",
      "Epoch 1:   8%|▊         | 274/3636 [01:43<20:40,  2.71it/s, training_loss=0.366]"
     ]
    },
    {
     "name": "stderr",
     "output_type": "stream",
     "text": [
      "\u001b[A"
     ]
    },
    {
     "name": "stderr",
     "output_type": "stream",
     "text": [
      "\n"
     ]
    },
    {
     "name": "stderr",
     "output_type": "stream",
     "text": [
      "\r",
      "Epoch 1:   8%|▊         | 275/3636 [01:43<20:40,  2.71it/s, training_loss=0.366]"
     ]
    },
    {
     "name": "stderr",
     "output_type": "stream",
     "text": [
      "\u001b[A"
     ]
    },
    {
     "name": "stderr",
     "output_type": "stream",
     "text": [
      "\n"
     ]
    },
    {
     "name": "stderr",
     "output_type": "stream",
     "text": [
      "\r",
      "Epoch 1:   8%|▊         | 275/3636 [01:43<20:40,  2.71it/s, training_loss=0.355]"
     ]
    },
    {
     "name": "stderr",
     "output_type": "stream",
     "text": [
      "\u001b[A"
     ]
    },
    {
     "name": "stderr",
     "output_type": "stream",
     "text": [
      "\n"
     ]
    },
    {
     "name": "stderr",
     "output_type": "stream",
     "text": [
      "\r",
      "Epoch 1:   8%|▊         | 276/3636 [01:43<20:38,  2.71it/s, training_loss=0.355]"
     ]
    },
    {
     "name": "stderr",
     "output_type": "stream",
     "text": [
      "\u001b[A"
     ]
    },
    {
     "name": "stderr",
     "output_type": "stream",
     "text": [
      "\n"
     ]
    },
    {
     "name": "stderr",
     "output_type": "stream",
     "text": [
      "\r",
      "Epoch 1:   8%|▊         | 276/3636 [01:44<20:38,  2.71it/s, training_loss=0.355]"
     ]
    },
    {
     "name": "stderr",
     "output_type": "stream",
     "text": [
      "\u001b[A"
     ]
    },
    {
     "name": "stderr",
     "output_type": "stream",
     "text": [
      "\n"
     ]
    },
    {
     "name": "stderr",
     "output_type": "stream",
     "text": [
      "\r",
      "Epoch 1:   8%|▊         | 277/3636 [01:44<20:50,  2.69it/s, training_loss=0.355]"
     ]
    },
    {
     "name": "stderr",
     "output_type": "stream",
     "text": [
      "\u001b[A"
     ]
    },
    {
     "name": "stderr",
     "output_type": "stream",
     "text": [
      "\n"
     ]
    },
    {
     "name": "stderr",
     "output_type": "stream",
     "text": [
      "\r",
      "Epoch 1:   8%|▊         | 277/3636 [01:44<20:50,  2.69it/s, training_loss=0.352]"
     ]
    },
    {
     "name": "stderr",
     "output_type": "stream",
     "text": [
      "\u001b[A"
     ]
    },
    {
     "name": "stderr",
     "output_type": "stream",
     "text": [
      "\n"
     ]
    },
    {
     "name": "stderr",
     "output_type": "stream",
     "text": [
      "\r",
      "Epoch 1:   8%|▊         | 278/3636 [01:44<20:46,  2.69it/s, training_loss=0.352]"
     ]
    },
    {
     "name": "stderr",
     "output_type": "stream",
     "text": [
      "\u001b[A"
     ]
    },
    {
     "name": "stderr",
     "output_type": "stream",
     "text": [
      "\n"
     ]
    },
    {
     "name": "stderr",
     "output_type": "stream",
     "text": [
      "\r",
      "Epoch 1:   8%|▊         | 278/3636 [01:44<20:46,  2.69it/s, training_loss=0.351]"
     ]
    },
    {
     "name": "stderr",
     "output_type": "stream",
     "text": [
      "\u001b[A"
     ]
    },
    {
     "name": "stderr",
     "output_type": "stream",
     "text": [
      "\n"
     ]
    },
    {
     "name": "stderr",
     "output_type": "stream",
     "text": [
      "\r",
      "Epoch 1:   8%|▊         | 279/3636 [01:44<20:44,  2.70it/s, training_loss=0.351]"
     ]
    },
    {
     "name": "stderr",
     "output_type": "stream",
     "text": [
      "\u001b[A"
     ]
    },
    {
     "name": "stderr",
     "output_type": "stream",
     "text": [
      "\n"
     ]
    },
    {
     "name": "stderr",
     "output_type": "stream",
     "text": [
      "\r",
      "Epoch 1:   8%|▊         | 279/3636 [01:45<20:44,  2.70it/s, training_loss=0.343]"
     ]
    },
    {
     "name": "stderr",
     "output_type": "stream",
     "text": [
      "\u001b[A"
     ]
    },
    {
     "name": "stderr",
     "output_type": "stream",
     "text": [
      "\n"
     ]
    },
    {
     "name": "stderr",
     "output_type": "stream",
     "text": [
      "\r",
      "Epoch 1:   8%|▊         | 280/3636 [01:45<20:41,  2.70it/s, training_loss=0.343]"
     ]
    },
    {
     "name": "stderr",
     "output_type": "stream",
     "text": [
      "\u001b[A"
     ]
    },
    {
     "name": "stderr",
     "output_type": "stream",
     "text": [
      "\n"
     ]
    },
    {
     "name": "stderr",
     "output_type": "stream",
     "text": [
      "\r",
      "Epoch 1:   8%|▊         | 280/3636 [01:45<20:41,  2.70it/s, training_loss=0.331]"
     ]
    },
    {
     "name": "stderr",
     "output_type": "stream",
     "text": [
      "\u001b[A"
     ]
    },
    {
     "name": "stderr",
     "output_type": "stream",
     "text": [
      "\n"
     ]
    },
    {
     "name": "stderr",
     "output_type": "stream",
     "text": [
      "\r",
      "Epoch 1:   8%|▊         | 281/3636 [01:45<20:38,  2.71it/s, training_loss=0.331]"
     ]
    },
    {
     "name": "stderr",
     "output_type": "stream",
     "text": [
      "\u001b[A"
     ]
    },
    {
     "name": "stderr",
     "output_type": "stream",
     "text": [
      "\n"
     ]
    },
    {
     "name": "stderr",
     "output_type": "stream",
     "text": [
      "\r",
      "Epoch 1:   8%|▊         | 281/3636 [01:46<20:38,  2.71it/s, training_loss=0.354]"
     ]
    },
    {
     "name": "stderr",
     "output_type": "stream",
     "text": [
      "\u001b[A"
     ]
    },
    {
     "name": "stderr",
     "output_type": "stream",
     "text": [
      "\n"
     ]
    },
    {
     "name": "stderr",
     "output_type": "stream",
     "text": [
      "\r",
      "Epoch 1:   8%|▊         | 282/3636 [01:46<20:37,  2.71it/s, training_loss=0.354]"
     ]
    },
    {
     "name": "stderr",
     "output_type": "stream",
     "text": [
      "\u001b[A"
     ]
    },
    {
     "name": "stderr",
     "output_type": "stream",
     "text": [
      "\n"
     ]
    },
    {
     "name": "stderr",
     "output_type": "stream",
     "text": [
      "\r",
      "Epoch 1:   8%|▊         | 282/3636 [01:46<20:37,  2.71it/s, training_loss=0.357]"
     ]
    },
    {
     "name": "stderr",
     "output_type": "stream",
     "text": [
      "\u001b[A"
     ]
    },
    {
     "name": "stderr",
     "output_type": "stream",
     "text": [
      "\n"
     ]
    },
    {
     "name": "stderr",
     "output_type": "stream",
     "text": [
      "\r",
      "Epoch 1:   8%|▊         | 283/3636 [01:46<20:37,  2.71it/s, training_loss=0.357]"
     ]
    },
    {
     "name": "stderr",
     "output_type": "stream",
     "text": [
      "\u001b[A"
     ]
    },
    {
     "name": "stderr",
     "output_type": "stream",
     "text": [
      "\n"
     ]
    },
    {
     "name": "stderr",
     "output_type": "stream",
     "text": [
      "\r",
      "Epoch 1:   8%|▊         | 283/3636 [01:46<20:37,  2.71it/s, training_loss=0.351]"
     ]
    },
    {
     "name": "stderr",
     "output_type": "stream",
     "text": [
      "\u001b[A"
     ]
    },
    {
     "name": "stderr",
     "output_type": "stream",
     "text": [
      "\n"
     ]
    },
    {
     "name": "stderr",
     "output_type": "stream",
     "text": [
      "\r",
      "Epoch 1:   8%|▊         | 284/3636 [01:46<20:34,  2.72it/s, training_loss=0.351]"
     ]
    },
    {
     "name": "stderr",
     "output_type": "stream",
     "text": [
      "\u001b[A"
     ]
    },
    {
     "name": "stderr",
     "output_type": "stream",
     "text": [
      "\n"
     ]
    },
    {
     "name": "stderr",
     "output_type": "stream",
     "text": [
      "\r",
      "Epoch 1:   8%|▊         | 284/3636 [01:47<20:34,  2.72it/s, training_loss=0.343]"
     ]
    },
    {
     "name": "stderr",
     "output_type": "stream",
     "text": [
      "\u001b[A"
     ]
    },
    {
     "name": "stderr",
     "output_type": "stream",
     "text": [
      "\n"
     ]
    },
    {
     "name": "stderr",
     "output_type": "stream",
     "text": [
      "\r",
      "Epoch 1:   8%|▊         | 285/3636 [01:47<20:36,  2.71it/s, training_loss=0.343]"
     ]
    },
    {
     "name": "stderr",
     "output_type": "stream",
     "text": [
      "\u001b[A"
     ]
    },
    {
     "name": "stderr",
     "output_type": "stream",
     "text": [
      "\n"
     ]
    },
    {
     "name": "stderr",
     "output_type": "stream",
     "text": [
      "\r",
      "Epoch 1:   8%|▊         | 285/3636 [01:47<20:36,  2.71it/s, training_loss=0.351]"
     ]
    },
    {
     "name": "stderr",
     "output_type": "stream",
     "text": [
      "\u001b[A"
     ]
    },
    {
     "name": "stderr",
     "output_type": "stream",
     "text": [
      "\n"
     ]
    },
    {
     "name": "stderr",
     "output_type": "stream",
     "text": [
      "\r",
      "Epoch 1:   8%|▊         | 286/3636 [01:47<20:35,  2.71it/s, training_loss=0.351]"
     ]
    },
    {
     "name": "stderr",
     "output_type": "stream",
     "text": [
      "\u001b[A"
     ]
    },
    {
     "name": "stderr",
     "output_type": "stream",
     "text": [
      "\n"
     ]
    },
    {
     "name": "stderr",
     "output_type": "stream",
     "text": [
      "\r",
      "Epoch 1:   8%|▊         | 286/3636 [01:47<20:35,  2.71it/s, training_loss=0.335]"
     ]
    },
    {
     "name": "stderr",
     "output_type": "stream",
     "text": [
      "\u001b[A"
     ]
    },
    {
     "name": "stderr",
     "output_type": "stream",
     "text": [
      "\n"
     ]
    },
    {
     "name": "stderr",
     "output_type": "stream",
     "text": [
      "\r",
      "Epoch 1:   8%|▊         | 287/3636 [01:47<20:34,  2.71it/s, training_loss=0.335]"
     ]
    },
    {
     "name": "stderr",
     "output_type": "stream",
     "text": [
      "\u001b[A"
     ]
    },
    {
     "name": "stderr",
     "output_type": "stream",
     "text": [
      "\n"
     ]
    },
    {
     "name": "stderr",
     "output_type": "stream",
     "text": [
      "\r",
      "Epoch 1:   8%|▊         | 287/3636 [01:48<20:34,  2.71it/s, training_loss=0.341]"
     ]
    },
    {
     "name": "stderr",
     "output_type": "stream",
     "text": [
      "\u001b[A"
     ]
    },
    {
     "name": "stderr",
     "output_type": "stream",
     "text": [
      "\n"
     ]
    },
    {
     "name": "stderr",
     "output_type": "stream",
     "text": [
      "\r",
      "Epoch 1:   8%|▊         | 288/3636 [01:48<20:34,  2.71it/s, training_loss=0.341]"
     ]
    },
    {
     "name": "stderr",
     "output_type": "stream",
     "text": [
      "\u001b[A"
     ]
    },
    {
     "name": "stderr",
     "output_type": "stream",
     "text": [
      "\n"
     ]
    },
    {
     "name": "stderr",
     "output_type": "stream",
     "text": [
      "\r",
      "Epoch 1:   8%|▊         | 288/3636 [01:48<20:34,  2.71it/s, training_loss=0.368]"
     ]
    },
    {
     "name": "stderr",
     "output_type": "stream",
     "text": [
      "\u001b[A"
     ]
    },
    {
     "name": "stderr",
     "output_type": "stream",
     "text": [
      "\n"
     ]
    },
    {
     "name": "stderr",
     "output_type": "stream",
     "text": [
      "\r",
      "Epoch 1:   8%|▊         | 289/3636 [01:48<20:36,  2.71it/s, training_loss=0.368]"
     ]
    },
    {
     "name": "stderr",
     "output_type": "stream",
     "text": [
      "\u001b[A"
     ]
    },
    {
     "name": "stderr",
     "output_type": "stream",
     "text": [
      "\n"
     ]
    },
    {
     "name": "stderr",
     "output_type": "stream",
     "text": [
      "\r",
      "Epoch 1:   8%|▊         | 289/3636 [01:49<20:36,  2.71it/s, training_loss=0.344]"
     ]
    },
    {
     "name": "stderr",
     "output_type": "stream",
     "text": [
      "\u001b[A"
     ]
    },
    {
     "name": "stderr",
     "output_type": "stream",
     "text": [
      "\n"
     ]
    },
    {
     "name": "stderr",
     "output_type": "stream",
     "text": [
      "\r",
      "Epoch 1:   8%|▊         | 290/3636 [01:49<20:38,  2.70it/s, training_loss=0.344]"
     ]
    },
    {
     "name": "stderr",
     "output_type": "stream",
     "text": [
      "\u001b[A"
     ]
    },
    {
     "name": "stderr",
     "output_type": "stream",
     "text": [
      "\n"
     ]
    },
    {
     "name": "stderr",
     "output_type": "stream",
     "text": [
      "\r",
      "Epoch 1:   8%|▊         | 290/3636 [01:49<20:38,  2.70it/s, training_loss=0.345]"
     ]
    },
    {
     "name": "stderr",
     "output_type": "stream",
     "text": [
      "\u001b[A"
     ]
    },
    {
     "name": "stderr",
     "output_type": "stream",
     "text": [
      "\n"
     ]
    },
    {
     "name": "stderr",
     "output_type": "stream",
     "text": [
      "\r",
      "Epoch 1:   8%|▊         | 291/3636 [01:49<20:34,  2.71it/s, training_loss=0.345]"
     ]
    },
    {
     "name": "stderr",
     "output_type": "stream",
     "text": [
      "\u001b[A"
     ]
    },
    {
     "name": "stderr",
     "output_type": "stream",
     "text": [
      "\n"
     ]
    },
    {
     "name": "stderr",
     "output_type": "stream",
     "text": [
      "\r",
      "Epoch 1:   8%|▊         | 291/3636 [01:49<20:34,  2.71it/s, training_loss=0.345]"
     ]
    },
    {
     "name": "stderr",
     "output_type": "stream",
     "text": [
      "\u001b[A"
     ]
    },
    {
     "name": "stderr",
     "output_type": "stream",
     "text": [
      "\n"
     ]
    },
    {
     "name": "stderr",
     "output_type": "stream",
     "text": [
      "\r",
      "Epoch 1:   8%|▊         | 292/3636 [01:49<20:33,  2.71it/s, training_loss=0.345]"
     ]
    },
    {
     "name": "stderr",
     "output_type": "stream",
     "text": [
      "\u001b[A"
     ]
    },
    {
     "name": "stderr",
     "output_type": "stream",
     "text": [
      "\n"
     ]
    },
    {
     "name": "stderr",
     "output_type": "stream",
     "text": [
      "\r",
      "Epoch 1:   8%|▊         | 292/3636 [01:50<20:33,  2.71it/s, training_loss=0.341]"
     ]
    },
    {
     "name": "stderr",
     "output_type": "stream",
     "text": [
      "\u001b[A"
     ]
    },
    {
     "name": "stderr",
     "output_type": "stream",
     "text": [
      "\n"
     ]
    },
    {
     "name": "stderr",
     "output_type": "stream",
     "text": [
      "\r",
      "Epoch 1:   8%|▊         | 293/3636 [01:50<20:34,  2.71it/s, training_loss=0.341]"
     ]
    },
    {
     "name": "stderr",
     "output_type": "stream",
     "text": [
      "\u001b[A"
     ]
    },
    {
     "name": "stderr",
     "output_type": "stream",
     "text": [
      "\n"
     ]
    },
    {
     "name": "stderr",
     "output_type": "stream",
     "text": [
      "\r",
      "Epoch 1:   8%|▊         | 293/3636 [01:50<20:34,  2.71it/s, training_loss=0.342]"
     ]
    },
    {
     "name": "stderr",
     "output_type": "stream",
     "text": [
      "\u001b[A"
     ]
    },
    {
     "name": "stderr",
     "output_type": "stream",
     "text": [
      "\n"
     ]
    },
    {
     "name": "stderr",
     "output_type": "stream",
     "text": [
      "\r",
      "Epoch 1:   8%|▊         | 294/3636 [01:50<20:38,  2.70it/s, training_loss=0.342]"
     ]
    },
    {
     "name": "stderr",
     "output_type": "stream",
     "text": [
      "\u001b[A"
     ]
    },
    {
     "name": "stderr",
     "output_type": "stream",
     "text": [
      "\n"
     ]
    },
    {
     "name": "stderr",
     "output_type": "stream",
     "text": [
      "\r",
      "Epoch 1:   8%|▊         | 294/3636 [01:50<20:38,  2.70it/s, training_loss=0.354]"
     ]
    },
    {
     "name": "stderr",
     "output_type": "stream",
     "text": [
      "\u001b[A"
     ]
    },
    {
     "name": "stderr",
     "output_type": "stream",
     "text": [
      "\n"
     ]
    },
    {
     "name": "stderr",
     "output_type": "stream",
     "text": [
      "\r",
      "Epoch 1:   8%|▊         | 295/3636 [01:50<20:36,  2.70it/s, training_loss=0.354]"
     ]
    },
    {
     "name": "stderr",
     "output_type": "stream",
     "text": [
      "\u001b[A"
     ]
    },
    {
     "name": "stderr",
     "output_type": "stream",
     "text": [
      "\n"
     ]
    },
    {
     "name": "stderr",
     "output_type": "stream",
     "text": [
      "\r",
      "Epoch 1:   8%|▊         | 295/3636 [01:51<20:36,  2.70it/s, training_loss=0.338]"
     ]
    },
    {
     "name": "stderr",
     "output_type": "stream",
     "text": [
      "\u001b[A"
     ]
    },
    {
     "name": "stderr",
     "output_type": "stream",
     "text": [
      "\n"
     ]
    },
    {
     "name": "stderr",
     "output_type": "stream",
     "text": [
      "\r",
      "Epoch 1:   8%|▊         | 296/3636 [01:51<20:39,  2.69it/s, training_loss=0.338]"
     ]
    },
    {
     "name": "stderr",
     "output_type": "stream",
     "text": [
      "\u001b[A"
     ]
    },
    {
     "name": "stderr",
     "output_type": "stream",
     "text": [
      "\n"
     ]
    },
    {
     "name": "stderr",
     "output_type": "stream",
     "text": [
      "\r",
      "Epoch 1:   8%|▊         | 296/3636 [01:51<20:39,  2.69it/s, training_loss=0.333]"
     ]
    },
    {
     "name": "stderr",
     "output_type": "stream",
     "text": [
      "\u001b[A"
     ]
    },
    {
     "name": "stderr",
     "output_type": "stream",
     "text": [
      "\n"
     ]
    },
    {
     "name": "stderr",
     "output_type": "stream",
     "text": [
      "\r",
      "Epoch 1:   8%|▊         | 297/3636 [01:51<20:50,  2.67it/s, training_loss=0.333]"
     ]
    },
    {
     "name": "stderr",
     "output_type": "stream",
     "text": [
      "\u001b[A"
     ]
    },
    {
     "name": "stderr",
     "output_type": "stream",
     "text": [
      "\n"
     ]
    },
    {
     "name": "stderr",
     "output_type": "stream",
     "text": [
      "\r",
      "Epoch 1:   8%|▊         | 297/3636 [01:51<20:50,  2.67it/s, training_loss=0.326]"
     ]
    },
    {
     "name": "stderr",
     "output_type": "stream",
     "text": [
      "\u001b[A"
     ]
    },
    {
     "name": "stderr",
     "output_type": "stream",
     "text": [
      "\n"
     ]
    },
    {
     "name": "stderr",
     "output_type": "stream",
     "text": [
      "\r",
      "Epoch 1:   8%|▊         | 298/3636 [01:51<20:49,  2.67it/s, training_loss=0.326]"
     ]
    },
    {
     "name": "stderr",
     "output_type": "stream",
     "text": [
      "\u001b[A"
     ]
    },
    {
     "name": "stderr",
     "output_type": "stream",
     "text": [
      "\n"
     ]
    },
    {
     "name": "stderr",
     "output_type": "stream",
     "text": [
      "\r",
      "Epoch 1:   8%|▊         | 298/3636 [01:52<20:49,  2.67it/s, training_loss=0.371]"
     ]
    },
    {
     "name": "stderr",
     "output_type": "stream",
     "text": [
      "\u001b[A"
     ]
    },
    {
     "name": "stderr",
     "output_type": "stream",
     "text": [
      "\n"
     ]
    },
    {
     "name": "stderr",
     "output_type": "stream",
     "text": [
      "\r",
      "Epoch 1:   8%|▊         | 299/3636 [01:52<20:48,  2.67it/s, training_loss=0.371]"
     ]
    },
    {
     "name": "stderr",
     "output_type": "stream",
     "text": [
      "\u001b[A"
     ]
    },
    {
     "name": "stderr",
     "output_type": "stream",
     "text": [
      "\n"
     ]
    },
    {
     "name": "stderr",
     "output_type": "stream",
     "text": [
      "\r",
      "Epoch 1:   8%|▊         | 299/3636 [01:52<20:48,  2.67it/s, training_loss=0.378]"
     ]
    },
    {
     "name": "stderr",
     "output_type": "stream",
     "text": [
      "\u001b[A"
     ]
    },
    {
     "name": "stderr",
     "output_type": "stream",
     "text": [
      "\n"
     ]
    },
    {
     "name": "stderr",
     "output_type": "stream",
     "text": [
      "\r",
      "Epoch 1:   8%|▊         | 300/3636 [01:52<20:41,  2.69it/s, training_loss=0.378]"
     ]
    },
    {
     "name": "stderr",
     "output_type": "stream",
     "text": [
      "\u001b[A"
     ]
    },
    {
     "name": "stderr",
     "output_type": "stream",
     "text": [
      "\n"
     ]
    },
    {
     "name": "stderr",
     "output_type": "stream",
     "text": [
      "\r",
      "Epoch 1:   8%|▊         | 300/3636 [01:53<20:41,  2.69it/s, training_loss=0.348]"
     ]
    },
    {
     "name": "stderr",
     "output_type": "stream",
     "text": [
      "\u001b[A"
     ]
    },
    {
     "name": "stderr",
     "output_type": "stream",
     "text": [
      "\n"
     ]
    },
    {
     "name": "stderr",
     "output_type": "stream",
     "text": [
      "\r",
      "Epoch 1:   8%|▊         | 301/3636 [01:53<20:35,  2.70it/s, training_loss=0.348]"
     ]
    },
    {
     "name": "stderr",
     "output_type": "stream",
     "text": [
      "\u001b[A"
     ]
    },
    {
     "name": "stderr",
     "output_type": "stream",
     "text": [
      "\n"
     ]
    },
    {
     "name": "stderr",
     "output_type": "stream",
     "text": [
      "\r",
      "Epoch 1:   8%|▊         | 301/3636 [01:53<20:35,  2.70it/s, training_loss=0.341]"
     ]
    },
    {
     "name": "stderr",
     "output_type": "stream",
     "text": [
      "\u001b[A"
     ]
    },
    {
     "name": "stderr",
     "output_type": "stream",
     "text": [
      "\n"
     ]
    },
    {
     "name": "stderr",
     "output_type": "stream",
     "text": [
      "\r",
      "Epoch 1:   8%|▊         | 302/3636 [01:53<20:36,  2.70it/s, training_loss=0.341]"
     ]
    },
    {
     "name": "stderr",
     "output_type": "stream",
     "text": [
      "\u001b[A"
     ]
    },
    {
     "name": "stderr",
     "output_type": "stream",
     "text": [
      "\n"
     ]
    },
    {
     "name": "stderr",
     "output_type": "stream",
     "text": [
      "\r",
      "Epoch 1:   8%|▊         | 302/3636 [01:53<20:36,  2.70it/s, training_loss=0.344]"
     ]
    },
    {
     "name": "stderr",
     "output_type": "stream",
     "text": [
      "\u001b[A"
     ]
    },
    {
     "name": "stderr",
     "output_type": "stream",
     "text": [
      "\n"
     ]
    },
    {
     "name": "stderr",
     "output_type": "stream",
     "text": [
      "\r",
      "Epoch 1:   8%|▊         | 303/3636 [01:53<20:37,  2.69it/s, training_loss=0.344]"
     ]
    },
    {
     "name": "stderr",
     "output_type": "stream",
     "text": [
      "\u001b[A"
     ]
    },
    {
     "name": "stderr",
     "output_type": "stream",
     "text": [
      "\n"
     ]
    },
    {
     "name": "stderr",
     "output_type": "stream",
     "text": [
      "\r",
      "Epoch 1:   8%|▊         | 303/3636 [01:54<20:37,  2.69it/s, training_loss=0.351]"
     ]
    },
    {
     "name": "stderr",
     "output_type": "stream",
     "text": [
      "\u001b[A"
     ]
    },
    {
     "name": "stderr",
     "output_type": "stream",
     "text": [
      "\n"
     ]
    },
    {
     "name": "stderr",
     "output_type": "stream",
     "text": [
      "\r",
      "Epoch 1:   8%|▊         | 304/3636 [01:54<20:45,  2.67it/s, training_loss=0.351]"
     ]
    },
    {
     "name": "stderr",
     "output_type": "stream",
     "text": [
      "\u001b[A"
     ]
    },
    {
     "name": "stderr",
     "output_type": "stream",
     "text": [
      "\n"
     ]
    },
    {
     "name": "stderr",
     "output_type": "stream",
     "text": [
      "\r",
      "Epoch 1:   8%|▊         | 304/3636 [01:54<20:45,  2.67it/s, training_loss=0.353]"
     ]
    },
    {
     "name": "stderr",
     "output_type": "stream",
     "text": [
      "\u001b[A"
     ]
    },
    {
     "name": "stderr",
     "output_type": "stream",
     "text": [
      "\n"
     ]
    },
    {
     "name": "stderr",
     "output_type": "stream",
     "text": [
      "\r",
      "Epoch 1:   8%|▊         | 305/3636 [01:54<20:43,  2.68it/s, training_loss=0.353]"
     ]
    },
    {
     "name": "stderr",
     "output_type": "stream",
     "text": [
      "\u001b[A"
     ]
    },
    {
     "name": "stderr",
     "output_type": "stream",
     "text": [
      "\n"
     ]
    },
    {
     "name": "stderr",
     "output_type": "stream",
     "text": [
      "\r",
      "Epoch 1:   8%|▊         | 305/3636 [01:54<20:43,  2.68it/s, training_loss=0.325]"
     ]
    },
    {
     "name": "stderr",
     "output_type": "stream",
     "text": [
      "\u001b[A"
     ]
    },
    {
     "name": "stderr",
     "output_type": "stream",
     "text": [
      "\n"
     ]
    },
    {
     "name": "stderr",
     "output_type": "stream",
     "text": [
      "\r",
      "Epoch 1:   8%|▊         | 306/3636 [01:54<20:43,  2.68it/s, training_loss=0.325]"
     ]
    },
    {
     "name": "stderr",
     "output_type": "stream",
     "text": [
      "\u001b[A"
     ]
    },
    {
     "name": "stderr",
     "output_type": "stream",
     "text": [
      "\n"
     ]
    },
    {
     "name": "stderr",
     "output_type": "stream",
     "text": [
      "\r",
      "Epoch 1:   8%|▊         | 306/3636 [01:55<20:43,  2.68it/s, training_loss=0.352]"
     ]
    },
    {
     "name": "stderr",
     "output_type": "stream",
     "text": [
      "\u001b[A"
     ]
    },
    {
     "name": "stderr",
     "output_type": "stream",
     "text": [
      "\n"
     ]
    },
    {
     "name": "stderr",
     "output_type": "stream",
     "text": [
      "\r",
      "Epoch 1:   8%|▊         | 307/3636 [01:55<20:38,  2.69it/s, training_loss=0.352]"
     ]
    },
    {
     "name": "stderr",
     "output_type": "stream",
     "text": [
      "\u001b[A"
     ]
    },
    {
     "name": "stderr",
     "output_type": "stream",
     "text": [
      "\n"
     ]
    },
    {
     "name": "stderr",
     "output_type": "stream",
     "text": [
      "\r",
      "Epoch 1:   8%|▊         | 307/3636 [01:55<20:38,  2.69it/s, training_loss=0.348]"
     ]
    },
    {
     "name": "stderr",
     "output_type": "stream",
     "text": [
      "\u001b[A"
     ]
    },
    {
     "name": "stderr",
     "output_type": "stream",
     "text": [
      "\n"
     ]
    },
    {
     "name": "stderr",
     "output_type": "stream",
     "text": [
      "\r",
      "Epoch 1:   8%|▊         | 308/3636 [01:55<20:32,  2.70it/s, training_loss=0.348]"
     ]
    },
    {
     "name": "stderr",
     "output_type": "stream",
     "text": [
      "\u001b[A"
     ]
    },
    {
     "name": "stderr",
     "output_type": "stream",
     "text": [
      "\n"
     ]
    },
    {
     "name": "stderr",
     "output_type": "stream",
     "text": [
      "\r",
      "Epoch 1:   8%|▊         | 308/3636 [01:56<20:32,  2.70it/s, training_loss=0.355]"
     ]
    },
    {
     "name": "stderr",
     "output_type": "stream",
     "text": [
      "\u001b[A"
     ]
    },
    {
     "name": "stderr",
     "output_type": "stream",
     "text": [
      "\n"
     ]
    },
    {
     "name": "stderr",
     "output_type": "stream",
     "text": [
      "\r",
      "Epoch 1:   8%|▊         | 309/3636 [01:56<20:26,  2.71it/s, training_loss=0.355]"
     ]
    },
    {
     "name": "stderr",
     "output_type": "stream",
     "text": [
      "\u001b[A"
     ]
    },
    {
     "name": "stderr",
     "output_type": "stream",
     "text": [
      "\n"
     ]
    },
    {
     "name": "stderr",
     "output_type": "stream",
     "text": [
      "\r",
      "Epoch 1:   8%|▊         | 309/3636 [01:56<20:26,  2.71it/s, training_loss=0.351]"
     ]
    },
    {
     "name": "stderr",
     "output_type": "stream",
     "text": [
      "\u001b[A"
     ]
    },
    {
     "name": "stderr",
     "output_type": "stream",
     "text": [
      "\n"
     ]
    },
    {
     "name": "stderr",
     "output_type": "stream",
     "text": [
      "\r",
      "Epoch 1:   9%|▊         | 310/3636 [01:56<20:23,  2.72it/s, training_loss=0.351]"
     ]
    },
    {
     "name": "stderr",
     "output_type": "stream",
     "text": [
      "\u001b[A"
     ]
    },
    {
     "name": "stderr",
     "output_type": "stream",
     "text": [
      "\n"
     ]
    },
    {
     "name": "stderr",
     "output_type": "stream",
     "text": [
      "\r",
      "Epoch 1:   9%|▊         | 310/3636 [01:56<20:23,  2.72it/s, training_loss=0.365]"
     ]
    },
    {
     "name": "stderr",
     "output_type": "stream",
     "text": [
      "\u001b[A"
     ]
    },
    {
     "name": "stderr",
     "output_type": "stream",
     "text": [
      "\n"
     ]
    },
    {
     "name": "stderr",
     "output_type": "stream",
     "text": [
      "\r",
      "Epoch 1:   9%|▊         | 311/3636 [01:56<20:20,  2.72it/s, training_loss=0.365]"
     ]
    },
    {
     "name": "stderr",
     "output_type": "stream",
     "text": [
      "\u001b[A"
     ]
    },
    {
     "name": "stderr",
     "output_type": "stream",
     "text": [
      "\n"
     ]
    },
    {
     "name": "stderr",
     "output_type": "stream",
     "text": [
      "\r",
      "Epoch 1:   9%|▊         | 311/3636 [01:57<20:20,  2.72it/s, training_loss=0.346]"
     ]
    },
    {
     "name": "stderr",
     "output_type": "stream",
     "text": [
      "\u001b[A"
     ]
    },
    {
     "name": "stderr",
     "output_type": "stream",
     "text": [
      "\n"
     ]
    },
    {
     "name": "stderr",
     "output_type": "stream",
     "text": [
      "\r",
      "Epoch 1:   9%|▊         | 312/3636 [01:57<20:20,  2.72it/s, training_loss=0.346]"
     ]
    },
    {
     "name": "stderr",
     "output_type": "stream",
     "text": [
      "\u001b[A"
     ]
    },
    {
     "name": "stderr",
     "output_type": "stream",
     "text": [
      "\n"
     ]
    },
    {
     "name": "stderr",
     "output_type": "stream",
     "text": [
      "\r",
      "Epoch 1:   9%|▊         | 312/3636 [01:57<20:20,  2.72it/s, training_loss=0.349]"
     ]
    },
    {
     "name": "stderr",
     "output_type": "stream",
     "text": [
      "\u001b[A"
     ]
    },
    {
     "name": "stderr",
     "output_type": "stream",
     "text": [
      "\n"
     ]
    },
    {
     "name": "stderr",
     "output_type": "stream",
     "text": [
      "\r",
      "Epoch 1:   9%|▊         | 313/3636 [01:57<20:38,  2.68it/s, training_loss=0.349]"
     ]
    },
    {
     "name": "stderr",
     "output_type": "stream",
     "text": [
      "\u001b[A"
     ]
    },
    {
     "name": "stderr",
     "output_type": "stream",
     "text": [
      "\n"
     ]
    },
    {
     "name": "stderr",
     "output_type": "stream",
     "text": [
      "\r",
      "Epoch 1:   9%|▊         | 313/3636 [01:57<20:38,  2.68it/s, training_loss=0.355]"
     ]
    },
    {
     "name": "stderr",
     "output_type": "stream",
     "text": [
      "\u001b[A"
     ]
    },
    {
     "name": "stderr",
     "output_type": "stream",
     "text": [
      "\n"
     ]
    },
    {
     "name": "stderr",
     "output_type": "stream",
     "text": [
      "\r",
      "Epoch 1:   9%|▊         | 314/3636 [01:57<20:48,  2.66it/s, training_loss=0.355]"
     ]
    },
    {
     "name": "stderr",
     "output_type": "stream",
     "text": [
      "\u001b[A"
     ]
    },
    {
     "name": "stderr",
     "output_type": "stream",
     "text": [
      "\n"
     ]
    },
    {
     "name": "stderr",
     "output_type": "stream",
     "text": [
      "\r",
      "Epoch 1:   9%|▊         | 314/3636 [01:58<20:48,  2.66it/s, training_loss=0.348]"
     ]
    },
    {
     "name": "stderr",
     "output_type": "stream",
     "text": [
      "\u001b[A"
     ]
    },
    {
     "name": "stderr",
     "output_type": "stream",
     "text": [
      "\n"
     ]
    },
    {
     "name": "stderr",
     "output_type": "stream",
     "text": [
      "\r",
      "Epoch 1:   9%|▊         | 315/3636 [01:58<20:54,  2.65it/s, training_loss=0.348]"
     ]
    },
    {
     "name": "stderr",
     "output_type": "stream",
     "text": [
      "\u001b[A"
     ]
    },
    {
     "name": "stderr",
     "output_type": "stream",
     "text": [
      "\n"
     ]
    },
    {
     "name": "stderr",
     "output_type": "stream",
     "text": [
      "\r",
      "Epoch 1:   9%|▊         | 315/3636 [01:58<20:54,  2.65it/s, training_loss=0.361]"
     ]
    },
    {
     "name": "stderr",
     "output_type": "stream",
     "text": [
      "\u001b[A"
     ]
    },
    {
     "name": "stderr",
     "output_type": "stream",
     "text": [
      "\n"
     ]
    },
    {
     "name": "stderr",
     "output_type": "stream",
     "text": [
      "\r",
      "Epoch 1:   9%|▊         | 316/3636 [01:58<20:44,  2.67it/s, training_loss=0.361]"
     ]
    },
    {
     "name": "stderr",
     "output_type": "stream",
     "text": [
      "\u001b[A"
     ]
    },
    {
     "name": "stderr",
     "output_type": "stream",
     "text": [
      "\n"
     ]
    },
    {
     "name": "stderr",
     "output_type": "stream",
     "text": [
      "\r",
      "Epoch 1:   9%|▊         | 316/3636 [01:59<20:44,  2.67it/s, training_loss=0.332]"
     ]
    },
    {
     "name": "stderr",
     "output_type": "stream",
     "text": [
      "\u001b[A"
     ]
    },
    {
     "name": "stderr",
     "output_type": "stream",
     "text": [
      "\n"
     ]
    },
    {
     "name": "stderr",
     "output_type": "stream",
     "text": [
      "\r",
      "Epoch 1:   9%|▊         | 317/3636 [01:59<20:35,  2.69it/s, training_loss=0.332]"
     ]
    },
    {
     "name": "stderr",
     "output_type": "stream",
     "text": [
      "\u001b[A"
     ]
    },
    {
     "name": "stderr",
     "output_type": "stream",
     "text": [
      "\n"
     ]
    },
    {
     "name": "stderr",
     "output_type": "stream",
     "text": [
      "\r",
      "Epoch 1:   9%|▊         | 317/3636 [01:59<20:35,  2.69it/s, training_loss=0.362]"
     ]
    },
    {
     "name": "stderr",
     "output_type": "stream",
     "text": [
      "\u001b[A"
     ]
    },
    {
     "name": "stderr",
     "output_type": "stream",
     "text": [
      "\n"
     ]
    },
    {
     "name": "stderr",
     "output_type": "stream",
     "text": [
      "\r",
      "Epoch 1:   9%|▊         | 318/3636 [01:59<20:35,  2.69it/s, training_loss=0.362]"
     ]
    },
    {
     "name": "stderr",
     "output_type": "stream",
     "text": [
      "\u001b[A"
     ]
    },
    {
     "name": "stderr",
     "output_type": "stream",
     "text": [
      "\n"
     ]
    },
    {
     "name": "stderr",
     "output_type": "stream",
     "text": [
      "\r",
      "Epoch 1:   9%|▊         | 318/3636 [01:59<20:35,  2.69it/s, training_loss=0.325]"
     ]
    },
    {
     "name": "stderr",
     "output_type": "stream",
     "text": [
      "\u001b[A"
     ]
    },
    {
     "name": "stderr",
     "output_type": "stream",
     "text": [
      "\n"
     ]
    },
    {
     "name": "stderr",
     "output_type": "stream",
     "text": [
      "\r",
      "Epoch 1:   9%|▉         | 319/3636 [01:59<20:32,  2.69it/s, training_loss=0.325]"
     ]
    },
    {
     "name": "stderr",
     "output_type": "stream",
     "text": [
      "\u001b[A"
     ]
    },
    {
     "name": "stderr",
     "output_type": "stream",
     "text": [
      "\n"
     ]
    },
    {
     "name": "stderr",
     "output_type": "stream",
     "text": [
      "\r",
      "Epoch 1:   9%|▉         | 319/3636 [02:00<20:32,  2.69it/s, training_loss=0.342]"
     ]
    },
    {
     "name": "stderr",
     "output_type": "stream",
     "text": [
      "\u001b[A"
     ]
    },
    {
     "name": "stderr",
     "output_type": "stream",
     "text": [
      "\n"
     ]
    },
    {
     "name": "stderr",
     "output_type": "stream",
     "text": [
      "\r",
      "Epoch 1:   9%|▉         | 320/3636 [02:00<20:32,  2.69it/s, training_loss=0.342]"
     ]
    },
    {
     "name": "stderr",
     "output_type": "stream",
     "text": [
      "\u001b[A"
     ]
    },
    {
     "name": "stderr",
     "output_type": "stream",
     "text": [
      "\n"
     ]
    },
    {
     "name": "stderr",
     "output_type": "stream",
     "text": [
      "\r",
      "Epoch 1:   9%|▉         | 320/3636 [02:00<20:32,  2.69it/s, training_loss=0.341]"
     ]
    },
    {
     "name": "stderr",
     "output_type": "stream",
     "text": [
      "\u001b[A"
     ]
    },
    {
     "name": "stderr",
     "output_type": "stream",
     "text": [
      "\n"
     ]
    },
    {
     "name": "stderr",
     "output_type": "stream",
     "text": [
      "\r",
      "Epoch 1:   9%|▉         | 321/3636 [02:00<20:30,  2.69it/s, training_loss=0.341]"
     ]
    },
    {
     "name": "stderr",
     "output_type": "stream",
     "text": [
      "\u001b[A"
     ]
    },
    {
     "name": "stderr",
     "output_type": "stream",
     "text": [
      "\n"
     ]
    },
    {
     "name": "stderr",
     "output_type": "stream",
     "text": [
      "\r",
      "Epoch 1:   9%|▉         | 321/3636 [02:00<20:30,  2.69it/s, training_loss=0.345]"
     ]
    },
    {
     "name": "stderr",
     "output_type": "stream",
     "text": [
      "\u001b[A"
     ]
    },
    {
     "name": "stderr",
     "output_type": "stream",
     "text": [
      "\n"
     ]
    },
    {
     "name": "stderr",
     "output_type": "stream",
     "text": [
      "\r",
      "Epoch 1:   9%|▉         | 322/3636 [02:00<20:29,  2.70it/s, training_loss=0.345]"
     ]
    },
    {
     "name": "stderr",
     "output_type": "stream",
     "text": [
      "\u001b[A"
     ]
    },
    {
     "name": "stderr",
     "output_type": "stream",
     "text": [
      "\n"
     ]
    },
    {
     "name": "stderr",
     "output_type": "stream",
     "text": [
      "\r",
      "Epoch 1:   9%|▉         | 322/3636 [02:01<20:29,  2.70it/s, training_loss=0.363]"
     ]
    },
    {
     "name": "stderr",
     "output_type": "stream",
     "text": [
      "\u001b[A"
     ]
    },
    {
     "name": "stderr",
     "output_type": "stream",
     "text": [
      "\n"
     ]
    },
    {
     "name": "stderr",
     "output_type": "stream",
     "text": [
      "\r",
      "Epoch 1:   9%|▉         | 323/3636 [02:01<20:27,  2.70it/s, training_loss=0.363]"
     ]
    },
    {
     "name": "stderr",
     "output_type": "stream",
     "text": [
      "\u001b[A"
     ]
    },
    {
     "name": "stderr",
     "output_type": "stream",
     "text": [
      "\n"
     ]
    },
    {
     "name": "stderr",
     "output_type": "stream",
     "text": [
      "\r",
      "Epoch 1:   9%|▉         | 323/3636 [02:01<20:27,  2.70it/s, training_loss=0.329]"
     ]
    },
    {
     "name": "stderr",
     "output_type": "stream",
     "text": [
      "\u001b[A"
     ]
    },
    {
     "name": "stderr",
     "output_type": "stream",
     "text": [
      "\n"
     ]
    },
    {
     "name": "stderr",
     "output_type": "stream",
     "text": [
      "\r",
      "Epoch 1:   9%|▉         | 324/3636 [02:01<20:29,  2.69it/s, training_loss=0.329]"
     ]
    },
    {
     "name": "stderr",
     "output_type": "stream",
     "text": [
      "\u001b[A"
     ]
    },
    {
     "name": "stderr",
     "output_type": "stream",
     "text": [
      "\n"
     ]
    },
    {
     "name": "stderr",
     "output_type": "stream",
     "text": [
      "\r",
      "Epoch 1:   9%|▉         | 324/3636 [02:02<20:29,  2.69it/s, training_loss=0.329]"
     ]
    },
    {
     "name": "stderr",
     "output_type": "stream",
     "text": [
      "\u001b[A"
     ]
    },
    {
     "name": "stderr",
     "output_type": "stream",
     "text": [
      "\n"
     ]
    },
    {
     "name": "stderr",
     "output_type": "stream",
     "text": [
      "\r",
      "Epoch 1:   9%|▉         | 325/3636 [02:02<20:44,  2.66it/s, training_loss=0.329]"
     ]
    },
    {
     "name": "stderr",
     "output_type": "stream",
     "text": [
      "\u001b[A"
     ]
    },
    {
     "name": "stderr",
     "output_type": "stream",
     "text": [
      "\n"
     ]
    },
    {
     "name": "stderr",
     "output_type": "stream",
     "text": [
      "\r",
      "Epoch 1:   9%|▉         | 325/3636 [02:02<20:44,  2.66it/s, training_loss=0.326]"
     ]
    },
    {
     "name": "stderr",
     "output_type": "stream",
     "text": [
      "\u001b[A"
     ]
    },
    {
     "name": "stderr",
     "output_type": "stream",
     "text": [
      "\n"
     ]
    },
    {
     "name": "stderr",
     "output_type": "stream",
     "text": [
      "\r",
      "Epoch 1:   9%|▉         | 326/3636 [02:02<20:37,  2.67it/s, training_loss=0.326]"
     ]
    },
    {
     "name": "stderr",
     "output_type": "stream",
     "text": [
      "\u001b[A"
     ]
    },
    {
     "name": "stderr",
     "output_type": "stream",
     "text": [
      "\n"
     ]
    },
    {
     "name": "stderr",
     "output_type": "stream",
     "text": [
      "\r",
      "Epoch 1:   9%|▉         | 326/3636 [02:02<20:37,  2.67it/s, training_loss=0.356]"
     ]
    },
    {
     "name": "stderr",
     "output_type": "stream",
     "text": [
      "\u001b[A"
     ]
    },
    {
     "name": "stderr",
     "output_type": "stream",
     "text": [
      "\n"
     ]
    },
    {
     "name": "stderr",
     "output_type": "stream",
     "text": [
      "\r",
      "Epoch 1:   9%|▉         | 327/3636 [02:02<20:30,  2.69it/s, training_loss=0.356]"
     ]
    },
    {
     "name": "stderr",
     "output_type": "stream",
     "text": [
      "\u001b[A"
     ]
    },
    {
     "name": "stderr",
     "output_type": "stream",
     "text": [
      "\n"
     ]
    },
    {
     "name": "stderr",
     "output_type": "stream",
     "text": [
      "\r",
      "Epoch 1:   9%|▉         | 327/3636 [02:03<20:30,  2.69it/s, training_loss=0.347]"
     ]
    },
    {
     "name": "stderr",
     "output_type": "stream",
     "text": [
      "\u001b[A"
     ]
    },
    {
     "name": "stderr",
     "output_type": "stream",
     "text": [
      "\n"
     ]
    },
    {
     "name": "stderr",
     "output_type": "stream",
     "text": [
      "\r",
      "Epoch 1:   9%|▉         | 328/3636 [02:03<20:26,  2.70it/s, training_loss=0.347]"
     ]
    },
    {
     "name": "stderr",
     "output_type": "stream",
     "text": [
      "\u001b[A"
     ]
    },
    {
     "name": "stderr",
     "output_type": "stream",
     "text": [
      "\n"
     ]
    },
    {
     "name": "stderr",
     "output_type": "stream",
     "text": [
      "\r",
      "Epoch 1:   9%|▉         | 328/3636 [02:03<20:26,  2.70it/s, training_loss=0.345]"
     ]
    },
    {
     "name": "stderr",
     "output_type": "stream",
     "text": [
      "\u001b[A"
     ]
    },
    {
     "name": "stderr",
     "output_type": "stream",
     "text": [
      "\n"
     ]
    },
    {
     "name": "stderr",
     "output_type": "stream",
     "text": [
      "\r",
      "Epoch 1:   9%|▉         | 329/3636 [02:03<20:29,  2.69it/s, training_loss=0.345]"
     ]
    },
    {
     "name": "stderr",
     "output_type": "stream",
     "text": [
      "\u001b[A"
     ]
    },
    {
     "name": "stderr",
     "output_type": "stream",
     "text": [
      "\n"
     ]
    },
    {
     "name": "stderr",
     "output_type": "stream",
     "text": [
      "\r",
      "Epoch 1:   9%|▉         | 329/3636 [02:03<20:29,  2.69it/s, training_loss=0.327]"
     ]
    },
    {
     "name": "stderr",
     "output_type": "stream",
     "text": [
      "\u001b[A"
     ]
    },
    {
     "name": "stderr",
     "output_type": "stream",
     "text": [
      "\n"
     ]
    },
    {
     "name": "stderr",
     "output_type": "stream",
     "text": [
      "\r",
      "Epoch 1:   9%|▉         | 330/3636 [02:03<20:38,  2.67it/s, training_loss=0.327]"
     ]
    },
    {
     "name": "stderr",
     "output_type": "stream",
     "text": [
      "\u001b[A"
     ]
    },
    {
     "name": "stderr",
     "output_type": "stream",
     "text": [
      "\n"
     ]
    },
    {
     "name": "stderr",
     "output_type": "stream",
     "text": [
      "\r",
      "Epoch 1:   9%|▉         | 330/3636 [02:04<20:38,  2.67it/s, training_loss=0.348]"
     ]
    },
    {
     "name": "stderr",
     "output_type": "stream",
     "text": [
      "\u001b[A"
     ]
    },
    {
     "name": "stderr",
     "output_type": "stream",
     "text": [
      "\n"
     ]
    },
    {
     "name": "stderr",
     "output_type": "stream",
     "text": [
      "\r",
      "Epoch 1:   9%|▉         | 331/3636 [02:04<20:35,  2.68it/s, training_loss=0.348]"
     ]
    },
    {
     "name": "stderr",
     "output_type": "stream",
     "text": [
      "\u001b[A"
     ]
    },
    {
     "name": "stderr",
     "output_type": "stream",
     "text": [
      "\n"
     ]
    },
    {
     "name": "stderr",
     "output_type": "stream",
     "text": [
      "\r",
      "Epoch 1:   9%|▉         | 331/3636 [02:04<20:35,  2.68it/s, training_loss=0.332]"
     ]
    },
    {
     "name": "stderr",
     "output_type": "stream",
     "text": [
      "\u001b[A"
     ]
    },
    {
     "name": "stderr",
     "output_type": "stream",
     "text": [
      "\n"
     ]
    },
    {
     "name": "stderr",
     "output_type": "stream",
     "text": [
      "\r",
      "Epoch 1:   9%|▉         | 332/3636 [02:04<20:31,  2.68it/s, training_loss=0.332]"
     ]
    },
    {
     "name": "stderr",
     "output_type": "stream",
     "text": [
      "\u001b[A"
     ]
    },
    {
     "name": "stderr",
     "output_type": "stream",
     "text": [
      "\n"
     ]
    },
    {
     "name": "stderr",
     "output_type": "stream",
     "text": [
      "\r",
      "Epoch 1:   9%|▉         | 332/3636 [02:05<20:31,  2.68it/s, training_loss=0.347]"
     ]
    },
    {
     "name": "stderr",
     "output_type": "stream",
     "text": [
      "\u001b[A"
     ]
    },
    {
     "name": "stderr",
     "output_type": "stream",
     "text": [
      "\n"
     ]
    },
    {
     "name": "stderr",
     "output_type": "stream",
     "text": [
      "\r",
      "Epoch 1:   9%|▉         | 333/3636 [02:05<20:42,  2.66it/s, training_loss=0.347]"
     ]
    },
    {
     "name": "stderr",
     "output_type": "stream",
     "text": [
      "\u001b[A"
     ]
    },
    {
     "name": "stderr",
     "output_type": "stream",
     "text": [
      "\n"
     ]
    },
    {
     "name": "stderr",
     "output_type": "stream",
     "text": [
      "\r",
      "Epoch 1:   9%|▉         | 333/3636 [02:05<20:42,  2.66it/s, training_loss=0.360]"
     ]
    },
    {
     "name": "stderr",
     "output_type": "stream",
     "text": [
      "\u001b[A"
     ]
    },
    {
     "name": "stderr",
     "output_type": "stream",
     "text": [
      "\n"
     ]
    },
    {
     "name": "stderr",
     "output_type": "stream",
     "text": [
      "\r",
      "Epoch 1:   9%|▉         | 334/3636 [02:05<20:36,  2.67it/s, training_loss=0.360]"
     ]
    },
    {
     "name": "stderr",
     "output_type": "stream",
     "text": [
      "\u001b[A"
     ]
    },
    {
     "name": "stderr",
     "output_type": "stream",
     "text": [
      "\n"
     ]
    },
    {
     "name": "stderr",
     "output_type": "stream",
     "text": [
      "\r",
      "Epoch 1:   9%|▉         | 334/3636 [02:05<20:36,  2.67it/s, training_loss=0.354]"
     ]
    },
    {
     "name": "stderr",
     "output_type": "stream",
     "text": [
      "\u001b[A"
     ]
    },
    {
     "name": "stderr",
     "output_type": "stream",
     "text": [
      "\n"
     ]
    },
    {
     "name": "stderr",
     "output_type": "stream",
     "text": [
      "\r",
      "Epoch 1:   9%|▉         | 335/3636 [02:05<20:30,  2.68it/s, training_loss=0.354]"
     ]
    },
    {
     "name": "stderr",
     "output_type": "stream",
     "text": [
      "\u001b[A"
     ]
    },
    {
     "name": "stderr",
     "output_type": "stream",
     "text": [
      "\n"
     ]
    },
    {
     "name": "stderr",
     "output_type": "stream",
     "text": [
      "\r",
      "Epoch 1:   9%|▉         | 335/3636 [02:06<20:30,  2.68it/s, training_loss=0.340]"
     ]
    },
    {
     "name": "stderr",
     "output_type": "stream",
     "text": [
      "\u001b[A"
     ]
    },
    {
     "name": "stderr",
     "output_type": "stream",
     "text": [
      "\n"
     ]
    },
    {
     "name": "stderr",
     "output_type": "stream",
     "text": [
      "\r",
      "Epoch 1:   9%|▉         | 336/3636 [02:06<20:27,  2.69it/s, training_loss=0.340]"
     ]
    },
    {
     "name": "stderr",
     "output_type": "stream",
     "text": [
      "\u001b[A"
     ]
    },
    {
     "name": "stderr",
     "output_type": "stream",
     "text": [
      "\n"
     ]
    },
    {
     "name": "stderr",
     "output_type": "stream",
     "text": [
      "\r",
      "Epoch 1:   9%|▉         | 336/3636 [02:06<20:27,  2.69it/s, training_loss=0.342]"
     ]
    },
    {
     "name": "stderr",
     "output_type": "stream",
     "text": [
      "\u001b[A"
     ]
    },
    {
     "name": "stderr",
     "output_type": "stream",
     "text": [
      "\n"
     ]
    },
    {
     "name": "stderr",
     "output_type": "stream",
     "text": [
      "\r",
      "Epoch 1:   9%|▉         | 337/3636 [02:06<20:25,  2.69it/s, training_loss=0.342]"
     ]
    },
    {
     "name": "stderr",
     "output_type": "stream",
     "text": [
      "\u001b[A"
     ]
    },
    {
     "name": "stderr",
     "output_type": "stream",
     "text": [
      "\n"
     ]
    },
    {
     "name": "stderr",
     "output_type": "stream",
     "text": [
      "\r",
      "Epoch 1:   9%|▉         | 337/3636 [02:06<20:25,  2.69it/s, training_loss=0.342]"
     ]
    },
    {
     "name": "stderr",
     "output_type": "stream",
     "text": [
      "\u001b[A"
     ]
    },
    {
     "name": "stderr",
     "output_type": "stream",
     "text": [
      "\n"
     ]
    },
    {
     "name": "stderr",
     "output_type": "stream",
     "text": [
      "\r",
      "Epoch 1:   9%|▉         | 338/3636 [02:06<20:22,  2.70it/s, training_loss=0.342]"
     ]
    },
    {
     "name": "stderr",
     "output_type": "stream",
     "text": [
      "\u001b[A"
     ]
    },
    {
     "name": "stderr",
     "output_type": "stream",
     "text": [
      "\n"
     ]
    },
    {
     "name": "stderr",
     "output_type": "stream",
     "text": [
      "\r",
      "Epoch 1:   9%|▉         | 338/3636 [02:07<20:22,  2.70it/s, training_loss=0.341]"
     ]
    },
    {
     "name": "stderr",
     "output_type": "stream",
     "text": [
      "\u001b[A"
     ]
    },
    {
     "name": "stderr",
     "output_type": "stream",
     "text": [
      "\n"
     ]
    },
    {
     "name": "stderr",
     "output_type": "stream",
     "text": [
      "\r",
      "Epoch 1:   9%|▉         | 339/3636 [02:07<20:22,  2.70it/s, training_loss=0.341]"
     ]
    },
    {
     "name": "stderr",
     "output_type": "stream",
     "text": [
      "\u001b[A"
     ]
    },
    {
     "name": "stderr",
     "output_type": "stream",
     "text": [
      "\n"
     ]
    },
    {
     "name": "stderr",
     "output_type": "stream",
     "text": [
      "\r",
      "Epoch 1:   9%|▉         | 339/3636 [02:07<20:22,  2.70it/s, training_loss=0.340]"
     ]
    },
    {
     "name": "stderr",
     "output_type": "stream",
     "text": [
      "\u001b[A"
     ]
    },
    {
     "name": "stderr",
     "output_type": "stream",
     "text": [
      "\n"
     ]
    },
    {
     "name": "stderr",
     "output_type": "stream",
     "text": [
      "\r",
      "Epoch 1:   9%|▉         | 340/3636 [02:07<20:19,  2.70it/s, training_loss=0.340]"
     ]
    },
    {
     "name": "stderr",
     "output_type": "stream",
     "text": [
      "\u001b[A"
     ]
    },
    {
     "name": "stderr",
     "output_type": "stream",
     "text": [
      "\n"
     ]
    },
    {
     "name": "stderr",
     "output_type": "stream",
     "text": [
      "\r",
      "Epoch 1:   9%|▉         | 340/3636 [02:07<20:19,  2.70it/s, training_loss=0.353]"
     ]
    },
    {
     "name": "stderr",
     "output_type": "stream",
     "text": [
      "\u001b[A"
     ]
    },
    {
     "name": "stderr",
     "output_type": "stream",
     "text": [
      "\n"
     ]
    },
    {
     "name": "stderr",
     "output_type": "stream",
     "text": [
      "\r",
      "Epoch 1:   9%|▉         | 341/3636 [02:07<20:17,  2.71it/s, training_loss=0.353]"
     ]
    },
    {
     "name": "stderr",
     "output_type": "stream",
     "text": [
      "\u001b[A"
     ]
    },
    {
     "name": "stderr",
     "output_type": "stream",
     "text": [
      "\n"
     ]
    },
    {
     "name": "stderr",
     "output_type": "stream",
     "text": [
      "\r",
      "Epoch 1:   9%|▉         | 341/3636 [02:08<20:17,  2.71it/s, training_loss=0.323]"
     ]
    },
    {
     "name": "stderr",
     "output_type": "stream",
     "text": [
      "\u001b[A"
     ]
    },
    {
     "name": "stderr",
     "output_type": "stream",
     "text": [
      "\n"
     ]
    },
    {
     "name": "stderr",
     "output_type": "stream",
     "text": [
      "\r",
      "Epoch 1:   9%|▉         | 342/3636 [02:08<20:14,  2.71it/s, training_loss=0.323]"
     ]
    },
    {
     "name": "stderr",
     "output_type": "stream",
     "text": [
      "\u001b[A"
     ]
    },
    {
     "name": "stderr",
     "output_type": "stream",
     "text": [
      "\n"
     ]
    },
    {
     "name": "stderr",
     "output_type": "stream",
     "text": [
      "\r",
      "Epoch 1:   9%|▉         | 342/3636 [02:08<20:14,  2.71it/s, training_loss=0.356]"
     ]
    },
    {
     "name": "stderr",
     "output_type": "stream",
     "text": [
      "\u001b[A"
     ]
    },
    {
     "name": "stderr",
     "output_type": "stream",
     "text": [
      "\n"
     ]
    },
    {
     "name": "stderr",
     "output_type": "stream",
     "text": [
      "\r",
      "Epoch 1:   9%|▉         | 343/3636 [02:08<20:17,  2.71it/s, training_loss=0.356]"
     ]
    },
    {
     "name": "stderr",
     "output_type": "stream",
     "text": [
      "\u001b[A"
     ]
    },
    {
     "name": "stderr",
     "output_type": "stream",
     "text": [
      "\n"
     ]
    },
    {
     "name": "stderr",
     "output_type": "stream",
     "text": [
      "\r",
      "Epoch 1:   9%|▉         | 343/3636 [02:09<20:17,  2.71it/s, training_loss=0.348]"
     ]
    },
    {
     "name": "stderr",
     "output_type": "stream",
     "text": [
      "\u001b[A"
     ]
    },
    {
     "name": "stderr",
     "output_type": "stream",
     "text": [
      "\n"
     ]
    },
    {
     "name": "stderr",
     "output_type": "stream",
     "text": [
      "\r",
      "Epoch 1:   9%|▉         | 344/3636 [02:09<20:37,  2.66it/s, training_loss=0.348]"
     ]
    },
    {
     "name": "stderr",
     "output_type": "stream",
     "text": [
      "\u001b[A"
     ]
    },
    {
     "name": "stderr",
     "output_type": "stream",
     "text": [
      "\n"
     ]
    },
    {
     "name": "stderr",
     "output_type": "stream",
     "text": [
      "\r",
      "Epoch 1:   9%|▉         | 344/3636 [02:09<20:37,  2.66it/s, training_loss=0.364]"
     ]
    },
    {
     "name": "stderr",
     "output_type": "stream",
     "text": [
      "\u001b[A"
     ]
    },
    {
     "name": "stderr",
     "output_type": "stream",
     "text": [
      "\n"
     ]
    },
    {
     "name": "stderr",
     "output_type": "stream",
     "text": [
      "\r",
      "Epoch 1:   9%|▉         | 345/3636 [02:09<20:31,  2.67it/s, training_loss=0.364]"
     ]
    },
    {
     "name": "stderr",
     "output_type": "stream",
     "text": [
      "\u001b[A"
     ]
    },
    {
     "name": "stderr",
     "output_type": "stream",
     "text": [
      "\n"
     ]
    },
    {
     "name": "stderr",
     "output_type": "stream",
     "text": [
      "\r",
      "Epoch 1:   9%|▉         | 345/3636 [02:09<20:31,  2.67it/s, training_loss=0.347]"
     ]
    },
    {
     "name": "stderr",
     "output_type": "stream",
     "text": [
      "\u001b[A"
     ]
    },
    {
     "name": "stderr",
     "output_type": "stream",
     "text": [
      "\n"
     ]
    },
    {
     "name": "stderr",
     "output_type": "stream",
     "text": [
      "\r",
      "Epoch 1:  10%|▉         | 346/3636 [02:09<20:21,  2.69it/s, training_loss=0.347]"
     ]
    },
    {
     "name": "stderr",
     "output_type": "stream",
     "text": [
      "\u001b[A"
     ]
    },
    {
     "name": "stderr",
     "output_type": "stream",
     "text": [
      "\n"
     ]
    },
    {
     "name": "stderr",
     "output_type": "stream",
     "text": [
      "\r",
      "Epoch 1:  10%|▉         | 346/3636 [02:10<20:21,  2.69it/s, training_loss=0.347]"
     ]
    },
    {
     "name": "stderr",
     "output_type": "stream",
     "text": [
      "\u001b[A"
     ]
    },
    {
     "name": "stderr",
     "output_type": "stream",
     "text": [
      "\n"
     ]
    },
    {
     "name": "stderr",
     "output_type": "stream",
     "text": [
      "\r",
      "Epoch 1:  10%|▉         | 347/3636 [02:10<20:14,  2.71it/s, training_loss=0.347]"
     ]
    },
    {
     "name": "stderr",
     "output_type": "stream",
     "text": [
      "\u001b[A"
     ]
    },
    {
     "name": "stderr",
     "output_type": "stream",
     "text": [
      "\n"
     ]
    },
    {
     "name": "stderr",
     "output_type": "stream",
     "text": [
      "\r",
      "Epoch 1:  10%|▉         | 347/3636 [02:10<20:14,  2.71it/s, training_loss=0.336]"
     ]
    },
    {
     "name": "stderr",
     "output_type": "stream",
     "text": [
      "\u001b[A"
     ]
    },
    {
     "name": "stderr",
     "output_type": "stream",
     "text": [
      "\n"
     ]
    },
    {
     "name": "stderr",
     "output_type": "stream",
     "text": [
      "\r",
      "Epoch 1:  10%|▉         | 348/3636 [02:10<20:10,  2.72it/s, training_loss=0.336]"
     ]
    },
    {
     "name": "stderr",
     "output_type": "stream",
     "text": [
      "\u001b[A"
     ]
    },
    {
     "name": "stderr",
     "output_type": "stream",
     "text": [
      "\n"
     ]
    },
    {
     "name": "stderr",
     "output_type": "stream",
     "text": [
      "\r",
      "Epoch 1:  10%|▉         | 348/3636 [02:10<20:10,  2.72it/s, training_loss=0.342]"
     ]
    },
    {
     "name": "stderr",
     "output_type": "stream",
     "text": [
      "\u001b[A"
     ]
    },
    {
     "name": "stderr",
     "output_type": "stream",
     "text": [
      "\n"
     ]
    },
    {
     "name": "stderr",
     "output_type": "stream",
     "text": [
      "\r",
      "Epoch 1:  10%|▉         | 349/3636 [02:10<20:05,  2.73it/s, training_loss=0.342]"
     ]
    },
    {
     "name": "stderr",
     "output_type": "stream",
     "text": [
      "\u001b[A"
     ]
    },
    {
     "name": "stderr",
     "output_type": "stream",
     "text": [
      "\n"
     ]
    },
    {
     "name": "stderr",
     "output_type": "stream",
     "text": [
      "\r",
      "Epoch 1:  10%|▉         | 349/3636 [02:11<20:05,  2.73it/s, training_loss=0.341]"
     ]
    },
    {
     "name": "stderr",
     "output_type": "stream",
     "text": [
      "\u001b[A"
     ]
    },
    {
     "name": "stderr",
     "output_type": "stream",
     "text": [
      "\n"
     ]
    },
    {
     "name": "stderr",
     "output_type": "stream",
     "text": [
      "\r",
      "Epoch 1:  10%|▉         | 350/3636 [02:11<20:02,  2.73it/s, training_loss=0.341]"
     ]
    },
    {
     "name": "stderr",
     "output_type": "stream",
     "text": [
      "\u001b[A"
     ]
    },
    {
     "name": "stderr",
     "output_type": "stream",
     "text": [
      "\n"
     ]
    },
    {
     "name": "stderr",
     "output_type": "stream",
     "text": [
      "\r",
      "Epoch 1:  10%|▉         | 350/3636 [02:11<20:02,  2.73it/s, training_loss=0.344]"
     ]
    },
    {
     "name": "stderr",
     "output_type": "stream",
     "text": [
      "\u001b[A"
     ]
    },
    {
     "name": "stderr",
     "output_type": "stream",
     "text": [
      "\n"
     ]
    },
    {
     "name": "stderr",
     "output_type": "stream",
     "text": [
      "\r",
      "Epoch 1:  10%|▉         | 351/3636 [02:11<20:00,  2.74it/s, training_loss=0.344]"
     ]
    },
    {
     "name": "stderr",
     "output_type": "stream",
     "text": [
      "\u001b[A"
     ]
    },
    {
     "name": "stderr",
     "output_type": "stream",
     "text": [
      "\n"
     ]
    },
    {
     "name": "stderr",
     "output_type": "stream",
     "text": [
      "\r",
      "Epoch 1:  10%|▉         | 351/3636 [02:12<20:00,  2.74it/s, training_loss=0.345]"
     ]
    },
    {
     "name": "stderr",
     "output_type": "stream",
     "text": [
      "\u001b[A"
     ]
    },
    {
     "name": "stderr",
     "output_type": "stream",
     "text": [
      "\n"
     ]
    },
    {
     "name": "stderr",
     "output_type": "stream",
     "text": [
      "\r",
      "Epoch 1:  10%|▉         | 352/3636 [02:12<20:00,  2.74it/s, training_loss=0.345]"
     ]
    },
    {
     "name": "stderr",
     "output_type": "stream",
     "text": [
      "\u001b[A"
     ]
    },
    {
     "name": "stderr",
     "output_type": "stream",
     "text": [
      "\n"
     ]
    },
    {
     "name": "stderr",
     "output_type": "stream",
     "text": [
      "\r",
      "Epoch 1:  10%|▉         | 352/3636 [02:12<20:00,  2.74it/s, training_loss=0.361]"
     ]
    },
    {
     "name": "stderr",
     "output_type": "stream",
     "text": [
      "\u001b[A"
     ]
    },
    {
     "name": "stderr",
     "output_type": "stream",
     "text": [
      "\n"
     ]
    },
    {
     "name": "stderr",
     "output_type": "stream",
     "text": [
      "\r",
      "Epoch 1:  10%|▉         | 353/3636 [02:12<20:03,  2.73it/s, training_loss=0.361]"
     ]
    },
    {
     "name": "stderr",
     "output_type": "stream",
     "text": [
      "\u001b[A"
     ]
    },
    {
     "name": "stderr",
     "output_type": "stream",
     "text": [
      "\n"
     ]
    },
    {
     "name": "stderr",
     "output_type": "stream",
     "text": [
      "\r",
      "Epoch 1:  10%|▉         | 353/3636 [02:12<20:03,  2.73it/s, training_loss=0.329]"
     ]
    },
    {
     "name": "stderr",
     "output_type": "stream",
     "text": [
      "\u001b[A"
     ]
    },
    {
     "name": "stderr",
     "output_type": "stream",
     "text": [
      "\n"
     ]
    },
    {
     "name": "stderr",
     "output_type": "stream",
     "text": [
      "\r",
      "Epoch 1:  10%|▉         | 354/3636 [02:12<20:02,  2.73it/s, training_loss=0.329]"
     ]
    },
    {
     "name": "stderr",
     "output_type": "stream",
     "text": [
      "\u001b[A"
     ]
    },
    {
     "name": "stderr",
     "output_type": "stream",
     "text": [
      "\n"
     ]
    },
    {
     "name": "stderr",
     "output_type": "stream",
     "text": [
      "\r",
      "Epoch 1:  10%|▉         | 354/3636 [02:13<20:02,  2.73it/s, training_loss=0.352]"
     ]
    },
    {
     "name": "stderr",
     "output_type": "stream",
     "text": [
      "\u001b[A"
     ]
    },
    {
     "name": "stderr",
     "output_type": "stream",
     "text": [
      "\n"
     ]
    },
    {
     "name": "stderr",
     "output_type": "stream",
     "text": [
      "\r",
      "Epoch 1:  10%|▉         | 355/3636 [02:13<20:03,  2.73it/s, training_loss=0.352]"
     ]
    },
    {
     "name": "stderr",
     "output_type": "stream",
     "text": [
      "\u001b[A"
     ]
    },
    {
     "name": "stderr",
     "output_type": "stream",
     "text": [
      "\n"
     ]
    },
    {
     "name": "stderr",
     "output_type": "stream",
     "text": [
      "\r",
      "Epoch 1:  10%|▉         | 355/3636 [02:13<20:03,  2.73it/s, training_loss=0.338]"
     ]
    },
    {
     "name": "stderr",
     "output_type": "stream",
     "text": [
      "\u001b[A"
     ]
    },
    {
     "name": "stderr",
     "output_type": "stream",
     "text": [
      "\n"
     ]
    },
    {
     "name": "stderr",
     "output_type": "stream",
     "text": [
      "\r",
      "Epoch 1:  10%|▉         | 356/3636 [02:13<20:05,  2.72it/s, training_loss=0.338]"
     ]
    },
    {
     "name": "stderr",
     "output_type": "stream",
     "text": [
      "\u001b[A"
     ]
    },
    {
     "name": "stderr",
     "output_type": "stream",
     "text": [
      "\n"
     ]
    },
    {
     "name": "stderr",
     "output_type": "stream",
     "text": [
      "\r",
      "Epoch 1:  10%|▉         | 356/3636 [02:13<20:05,  2.72it/s, training_loss=0.370]"
     ]
    },
    {
     "name": "stderr",
     "output_type": "stream",
     "text": [
      "\u001b[A"
     ]
    },
    {
     "name": "stderr",
     "output_type": "stream",
     "text": [
      "\n"
     ]
    },
    {
     "name": "stderr",
     "output_type": "stream",
     "text": [
      "\r",
      "Epoch 1:  10%|▉         | 357/3636 [02:13<20:06,  2.72it/s, training_loss=0.370]"
     ]
    },
    {
     "name": "stderr",
     "output_type": "stream",
     "text": [
      "\u001b[A"
     ]
    },
    {
     "name": "stderr",
     "output_type": "stream",
     "text": [
      "\n"
     ]
    },
    {
     "name": "stderr",
     "output_type": "stream",
     "text": [
      "\r",
      "Epoch 1:  10%|▉         | 357/3636 [02:14<20:06,  2.72it/s, training_loss=0.346]"
     ]
    },
    {
     "name": "stderr",
     "output_type": "stream",
     "text": [
      "\u001b[A"
     ]
    },
    {
     "name": "stderr",
     "output_type": "stream",
     "text": [
      "\n"
     ]
    },
    {
     "name": "stderr",
     "output_type": "stream",
     "text": [
      "\r",
      "Epoch 1:  10%|▉         | 358/3636 [02:14<20:07,  2.71it/s, training_loss=0.346]"
     ]
    },
    {
     "name": "stderr",
     "output_type": "stream",
     "text": [
      "\u001b[A"
     ]
    },
    {
     "name": "stderr",
     "output_type": "stream",
     "text": [
      "\n"
     ]
    },
    {
     "name": "stderr",
     "output_type": "stream",
     "text": [
      "\r",
      "Epoch 1:  10%|▉         | 358/3636 [02:14<20:07,  2.71it/s, training_loss=0.352]"
     ]
    },
    {
     "name": "stderr",
     "output_type": "stream",
     "text": [
      "\u001b[A"
     ]
    },
    {
     "name": "stderr",
     "output_type": "stream",
     "text": [
      "\n"
     ]
    },
    {
     "name": "stderr",
     "output_type": "stream",
     "text": [
      "\r",
      "Epoch 1:  10%|▉         | 359/3636 [02:14<20:09,  2.71it/s, training_loss=0.352]"
     ]
    },
    {
     "name": "stderr",
     "output_type": "stream",
     "text": [
      "\u001b[A"
     ]
    },
    {
     "name": "stderr",
     "output_type": "stream",
     "text": [
      "\n"
     ]
    },
    {
     "name": "stderr",
     "output_type": "stream",
     "text": [
      "\r",
      "Epoch 1:  10%|▉         | 359/3636 [02:14<20:09,  2.71it/s, training_loss=0.325]"
     ]
    },
    {
     "name": "stderr",
     "output_type": "stream",
     "text": [
      "\u001b[A"
     ]
    },
    {
     "name": "stderr",
     "output_type": "stream",
     "text": [
      "\n"
     ]
    },
    {
     "name": "stderr",
     "output_type": "stream",
     "text": [
      "\r",
      "Epoch 1:  10%|▉         | 360/3636 [02:14<20:11,  2.70it/s, training_loss=0.325]"
     ]
    },
    {
     "name": "stderr",
     "output_type": "stream",
     "text": [
      "\u001b[A"
     ]
    },
    {
     "name": "stderr",
     "output_type": "stream",
     "text": [
      "\n"
     ]
    },
    {
     "name": "stderr",
     "output_type": "stream",
     "text": [
      "\r",
      "Epoch 1:  10%|▉         | 360/3636 [02:15<20:11,  2.70it/s, training_loss=0.339]"
     ]
    },
    {
     "name": "stderr",
     "output_type": "stream",
     "text": [
      "\u001b[A"
     ]
    },
    {
     "name": "stderr",
     "output_type": "stream",
     "text": [
      "\n"
     ]
    },
    {
     "name": "stderr",
     "output_type": "stream",
     "text": [
      "\r",
      "Epoch 1:  10%|▉         | 361/3636 [02:15<20:13,  2.70it/s, training_loss=0.339]"
     ]
    },
    {
     "name": "stderr",
     "output_type": "stream",
     "text": [
      "\u001b[A"
     ]
    },
    {
     "name": "stderr",
     "output_type": "stream",
     "text": [
      "\n"
     ]
    },
    {
     "name": "stderr",
     "output_type": "stream",
     "text": [
      "\r",
      "Epoch 1:  10%|▉         | 361/3636 [02:15<20:13,  2.70it/s, training_loss=0.349]"
     ]
    },
    {
     "name": "stderr",
     "output_type": "stream",
     "text": [
      "\u001b[A"
     ]
    },
    {
     "name": "stderr",
     "output_type": "stream",
     "text": [
      "\n"
     ]
    },
    {
     "name": "stderr",
     "output_type": "stream",
     "text": [
      "\r",
      "Epoch 1:  10%|▉         | 362/3636 [02:15<20:14,  2.70it/s, training_loss=0.349]"
     ]
    },
    {
     "name": "stderr",
     "output_type": "stream",
     "text": [
      "\u001b[A"
     ]
    },
    {
     "name": "stderr",
     "output_type": "stream",
     "text": [
      "\n"
     ]
    },
    {
     "name": "stderr",
     "output_type": "stream",
     "text": [
      "\r",
      "Epoch 1:  10%|▉         | 362/3636 [02:16<20:14,  2.70it/s, training_loss=0.358]"
     ]
    },
    {
     "name": "stderr",
     "output_type": "stream",
     "text": [
      "\u001b[A"
     ]
    },
    {
     "name": "stderr",
     "output_type": "stream",
     "text": [
      "\n"
     ]
    },
    {
     "name": "stderr",
     "output_type": "stream",
     "text": [
      "\r",
      "Epoch 1:  10%|▉         | 363/3636 [02:16<20:29,  2.66it/s, training_loss=0.358]"
     ]
    },
    {
     "name": "stderr",
     "output_type": "stream",
     "text": [
      "\u001b[A"
     ]
    },
    {
     "name": "stderr",
     "output_type": "stream",
     "text": [
      "\n"
     ]
    },
    {
     "name": "stderr",
     "output_type": "stream",
     "text": [
      "\r",
      "Epoch 1:  10%|▉         | 363/3636 [02:16<20:29,  2.66it/s, training_loss=0.333]"
     ]
    },
    {
     "name": "stderr",
     "output_type": "stream",
     "text": [
      "\u001b[A"
     ]
    },
    {
     "name": "stderr",
     "output_type": "stream",
     "text": [
      "\n"
     ]
    },
    {
     "name": "stderr",
     "output_type": "stream",
     "text": [
      "\r",
      "Epoch 1:  10%|█         | 364/3636 [02:16<20:25,  2.67it/s, training_loss=0.333]"
     ]
    },
    {
     "name": "stderr",
     "output_type": "stream",
     "text": [
      "\u001b[A"
     ]
    },
    {
     "name": "stderr",
     "output_type": "stream",
     "text": [
      "\n"
     ]
    },
    {
     "name": "stderr",
     "output_type": "stream",
     "text": [
      "\r",
      "Epoch 1:  10%|█         | 364/3636 [02:16<20:25,  2.67it/s, training_loss=0.339]"
     ]
    },
    {
     "name": "stderr",
     "output_type": "stream",
     "text": [
      "\u001b[A"
     ]
    },
    {
     "name": "stderr",
     "output_type": "stream",
     "text": [
      "\n"
     ]
    },
    {
     "name": "stderr",
     "output_type": "stream",
     "text": [
      "\r",
      "Epoch 1:  10%|█         | 365/3636 [02:16<20:20,  2.68it/s, training_loss=0.339]"
     ]
    },
    {
     "name": "stderr",
     "output_type": "stream",
     "text": [
      "\u001b[A"
     ]
    },
    {
     "name": "stderr",
     "output_type": "stream",
     "text": [
      "\n"
     ]
    },
    {
     "name": "stderr",
     "output_type": "stream",
     "text": [
      "\r",
      "Epoch 1:  10%|█         | 365/3636 [02:17<20:20,  2.68it/s, training_loss=0.330]"
     ]
    },
    {
     "name": "stderr",
     "output_type": "stream",
     "text": [
      "\u001b[A"
     ]
    },
    {
     "name": "stderr",
     "output_type": "stream",
     "text": [
      "\n"
     ]
    },
    {
     "name": "stderr",
     "output_type": "stream",
     "text": [
      "\r",
      "Epoch 1:  10%|█         | 366/3636 [02:17<20:15,  2.69it/s, training_loss=0.330]"
     ]
    },
    {
     "name": "stderr",
     "output_type": "stream",
     "text": [
      "\u001b[A"
     ]
    },
    {
     "name": "stderr",
     "output_type": "stream",
     "text": [
      "\n"
     ]
    },
    {
     "name": "stderr",
     "output_type": "stream",
     "text": [
      "\r",
      "Epoch 1:  10%|█         | 366/3636 [02:17<20:15,  2.69it/s, training_loss=0.309]"
     ]
    },
    {
     "name": "stderr",
     "output_type": "stream",
     "text": [
      "\u001b[A"
     ]
    },
    {
     "name": "stderr",
     "output_type": "stream",
     "text": [
      "\n"
     ]
    },
    {
     "name": "stderr",
     "output_type": "stream",
     "text": [
      "\r",
      "Epoch 1:  10%|█         | 367/3636 [02:17<20:11,  2.70it/s, training_loss=0.309]"
     ]
    },
    {
     "name": "stderr",
     "output_type": "stream",
     "text": [
      "\u001b[A"
     ]
    },
    {
     "name": "stderr",
     "output_type": "stream",
     "text": [
      "\n"
     ]
    },
    {
     "name": "stderr",
     "output_type": "stream",
     "text": [
      "\r",
      "Epoch 1:  10%|█         | 367/3636 [02:17<20:11,  2.70it/s, training_loss=0.345]"
     ]
    },
    {
     "name": "stderr",
     "output_type": "stream",
     "text": [
      "\u001b[A"
     ]
    },
    {
     "name": "stderr",
     "output_type": "stream",
     "text": [
      "\n"
     ]
    },
    {
     "name": "stderr",
     "output_type": "stream",
     "text": [
      "\r",
      "Epoch 1:  10%|█         | 368/3636 [02:17<20:11,  2.70it/s, training_loss=0.345]"
     ]
    },
    {
     "name": "stderr",
     "output_type": "stream",
     "text": [
      "\u001b[A"
     ]
    },
    {
     "name": "stderr",
     "output_type": "stream",
     "text": [
      "\n"
     ]
    },
    {
     "name": "stderr",
     "output_type": "stream",
     "text": [
      "\r",
      "Epoch 1:  10%|█         | 368/3636 [02:18<20:11,  2.70it/s, training_loss=0.330]"
     ]
    },
    {
     "name": "stderr",
     "output_type": "stream",
     "text": [
      "\u001b[A"
     ]
    },
    {
     "name": "stderr",
     "output_type": "stream",
     "text": [
      "\n"
     ]
    },
    {
     "name": "stderr",
     "output_type": "stream",
     "text": [
      "\r",
      "Epoch 1:  10%|█         | 369/3636 [02:18<20:08,  2.70it/s, training_loss=0.330]"
     ]
    },
    {
     "name": "stderr",
     "output_type": "stream",
     "text": [
      "\u001b[A"
     ]
    },
    {
     "name": "stderr",
     "output_type": "stream",
     "text": [
      "\n"
     ]
    },
    {
     "name": "stderr",
     "output_type": "stream",
     "text": [
      "\r",
      "Epoch 1:  10%|█         | 369/3636 [02:18<20:08,  2.70it/s, training_loss=0.357]"
     ]
    },
    {
     "name": "stderr",
     "output_type": "stream",
     "text": [
      "\u001b[A"
     ]
    },
    {
     "name": "stderr",
     "output_type": "stream",
     "text": [
      "\n"
     ]
    },
    {
     "name": "stderr",
     "output_type": "stream",
     "text": [
      "\r",
      "Epoch 1:  10%|█         | 370/3636 [02:18<20:13,  2.69it/s, training_loss=0.357]"
     ]
    },
    {
     "name": "stderr",
     "output_type": "stream",
     "text": [
      "\u001b[A"
     ]
    },
    {
     "name": "stderr",
     "output_type": "stream",
     "text": [
      "\n"
     ]
    },
    {
     "name": "stderr",
     "output_type": "stream",
     "text": [
      "\r",
      "Epoch 1:  10%|█         | 370/3636 [02:19<20:13,  2.69it/s, training_loss=0.345]"
     ]
    },
    {
     "name": "stderr",
     "output_type": "stream",
     "text": [
      "\u001b[A"
     ]
    },
    {
     "name": "stderr",
     "output_type": "stream",
     "text": [
      "\n"
     ]
    },
    {
     "name": "stderr",
     "output_type": "stream",
     "text": [
      "\r",
      "Epoch 1:  10%|█         | 371/3636 [02:19<20:18,  2.68it/s, training_loss=0.345]"
     ]
    },
    {
     "name": "stderr",
     "output_type": "stream",
     "text": [
      "\u001b[A"
     ]
    },
    {
     "name": "stderr",
     "output_type": "stream",
     "text": [
      "\n"
     ]
    },
    {
     "name": "stderr",
     "output_type": "stream",
     "text": [
      "\r",
      "Epoch 1:  10%|█         | 371/3636 [02:19<20:18,  2.68it/s, training_loss=0.364]"
     ]
    },
    {
     "name": "stderr",
     "output_type": "stream",
     "text": [
      "\u001b[A"
     ]
    },
    {
     "name": "stderr",
     "output_type": "stream",
     "text": [
      "\n"
     ]
    },
    {
     "name": "stderr",
     "output_type": "stream",
     "text": [
      "\r",
      "Epoch 1:  10%|█         | 372/3636 [02:19<20:14,  2.69it/s, training_loss=0.364]"
     ]
    },
    {
     "name": "stderr",
     "output_type": "stream",
     "text": [
      "\u001b[A"
     ]
    },
    {
     "name": "stderr",
     "output_type": "stream",
     "text": [
      "\n"
     ]
    },
    {
     "name": "stderr",
     "output_type": "stream",
     "text": [
      "\r",
      "Epoch 1:  10%|█         | 372/3636 [02:19<20:14,  2.69it/s, training_loss=0.403]"
     ]
    },
    {
     "name": "stderr",
     "output_type": "stream",
     "text": [
      "\u001b[A"
     ]
    },
    {
     "name": "stderr",
     "output_type": "stream",
     "text": [
      "\n"
     ]
    },
    {
     "name": "stderr",
     "output_type": "stream",
     "text": [
      "\r",
      "Epoch 1:  10%|█         | 373/3636 [02:19<20:11,  2.69it/s, training_loss=0.403]"
     ]
    },
    {
     "name": "stderr",
     "output_type": "stream",
     "text": [
      "\u001b[A"
     ]
    },
    {
     "name": "stderr",
     "output_type": "stream",
     "text": [
      "\n"
     ]
    },
    {
     "name": "stderr",
     "output_type": "stream",
     "text": [
      "\r",
      "Epoch 1:  10%|█         | 373/3636 [02:20<20:11,  2.69it/s, training_loss=0.338]"
     ]
    },
    {
     "name": "stderr",
     "output_type": "stream",
     "text": [
      "\u001b[A"
     ]
    },
    {
     "name": "stderr",
     "output_type": "stream",
     "text": [
      "\n"
     ]
    },
    {
     "name": "stderr",
     "output_type": "stream",
     "text": [
      "\r",
      "Epoch 1:  10%|█         | 374/3636 [02:20<20:10,  2.69it/s, training_loss=0.338]"
     ]
    },
    {
     "name": "stderr",
     "output_type": "stream",
     "text": [
      "\u001b[A"
     ]
    },
    {
     "name": "stderr",
     "output_type": "stream",
     "text": [
      "\n"
     ]
    },
    {
     "name": "stderr",
     "output_type": "stream",
     "text": [
      "\r",
      "Epoch 1:  10%|█         | 374/3636 [02:20<20:10,  2.69it/s, training_loss=0.343]"
     ]
    },
    {
     "name": "stderr",
     "output_type": "stream",
     "text": [
      "\u001b[A"
     ]
    },
    {
     "name": "stderr",
     "output_type": "stream",
     "text": [
      "\n"
     ]
    },
    {
     "name": "stderr",
     "output_type": "stream",
     "text": [
      "\r",
      "Epoch 1:  10%|█         | 375/3636 [02:20<20:22,  2.67it/s, training_loss=0.343]"
     ]
    },
    {
     "name": "stderr",
     "output_type": "stream",
     "text": [
      "\u001b[A"
     ]
    },
    {
     "name": "stderr",
     "output_type": "stream",
     "text": [
      "\n"
     ]
    },
    {
     "name": "stderr",
     "output_type": "stream",
     "text": [
      "\r",
      "Epoch 1:  10%|█         | 375/3636 [02:20<20:22,  2.67it/s, training_loss=0.345]"
     ]
    },
    {
     "name": "stderr",
     "output_type": "stream",
     "text": [
      "\u001b[A"
     ]
    },
    {
     "name": "stderr",
     "output_type": "stream",
     "text": [
      "\n"
     ]
    },
    {
     "name": "stderr",
     "output_type": "stream",
     "text": [
      "\r",
      "Epoch 1:  10%|█         | 376/3636 [02:20<20:36,  2.64it/s, training_loss=0.345]"
     ]
    },
    {
     "name": "stderr",
     "output_type": "stream",
     "text": [
      "\u001b[A"
     ]
    },
    {
     "name": "stderr",
     "output_type": "stream",
     "text": [
      "\n"
     ]
    },
    {
     "name": "stderr",
     "output_type": "stream",
     "text": [
      "\r",
      "Epoch 1:  10%|█         | 376/3636 [02:21<20:36,  2.64it/s, training_loss=0.353]"
     ]
    },
    {
     "name": "stderr",
     "output_type": "stream",
     "text": [
      "\u001b[A"
     ]
    },
    {
     "name": "stderr",
     "output_type": "stream",
     "text": [
      "\n"
     ]
    },
    {
     "name": "stderr",
     "output_type": "stream",
     "text": [
      "\r",
      "Epoch 1:  10%|█         | 377/3636 [02:21<20:24,  2.66it/s, training_loss=0.353]"
     ]
    },
    {
     "name": "stderr",
     "output_type": "stream",
     "text": [
      "\u001b[A"
     ]
    },
    {
     "name": "stderr",
     "output_type": "stream",
     "text": [
      "\n"
     ]
    },
    {
     "name": "stderr",
     "output_type": "stream",
     "text": [
      "\r",
      "Epoch 1:  10%|█         | 377/3636 [02:21<20:24,  2.66it/s, training_loss=0.343]"
     ]
    },
    {
     "name": "stderr",
     "output_type": "stream",
     "text": [
      "\u001b[A"
     ]
    },
    {
     "name": "stderr",
     "output_type": "stream",
     "text": [
      "\n"
     ]
    },
    {
     "name": "stderr",
     "output_type": "stream",
     "text": [
      "\r",
      "Epoch 1:  10%|█         | 378/3636 [02:21<20:18,  2.67it/s, training_loss=0.343]"
     ]
    },
    {
     "name": "stderr",
     "output_type": "stream",
     "text": [
      "\u001b[A"
     ]
    },
    {
     "name": "stderr",
     "output_type": "stream",
     "text": [
      "\n"
     ]
    },
    {
     "name": "stderr",
     "output_type": "stream",
     "text": [
      "\r",
      "Epoch 1:  10%|█         | 378/3636 [02:22<20:18,  2.67it/s, training_loss=0.341]"
     ]
    },
    {
     "name": "stderr",
     "output_type": "stream",
     "text": [
      "\u001b[A"
     ]
    },
    {
     "name": "stderr",
     "output_type": "stream",
     "text": [
      "\n"
     ]
    },
    {
     "name": "stderr",
     "output_type": "stream",
     "text": [
      "\r",
      "Epoch 1:  10%|█         | 379/3636 [02:22<20:12,  2.69it/s, training_loss=0.341]"
     ]
    },
    {
     "name": "stderr",
     "output_type": "stream",
     "text": [
      "\u001b[A"
     ]
    },
    {
     "name": "stderr",
     "output_type": "stream",
     "text": [
      "\n"
     ]
    },
    {
     "name": "stderr",
     "output_type": "stream",
     "text": [
      "\r",
      "Epoch 1:  10%|█         | 379/3636 [02:22<20:12,  2.69it/s, training_loss=0.359]"
     ]
    },
    {
     "name": "stderr",
     "output_type": "stream",
     "text": [
      "\u001b[A"
     ]
    },
    {
     "name": "stderr",
     "output_type": "stream",
     "text": [
      "\n"
     ]
    },
    {
     "name": "stderr",
     "output_type": "stream",
     "text": [
      "\r",
      "Epoch 1:  10%|█         | 380/3636 [02:22<20:06,  2.70it/s, training_loss=0.359]"
     ]
    },
    {
     "name": "stderr",
     "output_type": "stream",
     "text": [
      "\u001b[A"
     ]
    },
    {
     "name": "stderr",
     "output_type": "stream",
     "text": [
      "\n"
     ]
    },
    {
     "name": "stderr",
     "output_type": "stream",
     "text": [
      "\r",
      "Epoch 1:  10%|█         | 380/3636 [02:22<20:06,  2.70it/s, training_loss=0.327]"
     ]
    },
    {
     "name": "stderr",
     "output_type": "stream",
     "text": [
      "\u001b[A"
     ]
    },
    {
     "name": "stderr",
     "output_type": "stream",
     "text": [
      "\n"
     ]
    },
    {
     "name": "stderr",
     "output_type": "stream",
     "text": [
      "\r",
      "Epoch 1:  10%|█         | 381/3636 [02:22<20:03,  2.70it/s, training_loss=0.327]"
     ]
    },
    {
     "name": "stderr",
     "output_type": "stream",
     "text": [
      "\u001b[A"
     ]
    },
    {
     "name": "stderr",
     "output_type": "stream",
     "text": [
      "\n"
     ]
    },
    {
     "name": "stderr",
     "output_type": "stream",
     "text": [
      "\r",
      "Epoch 1:  10%|█         | 381/3636 [02:23<20:03,  2.70it/s, training_loss=0.362]"
     ]
    },
    {
     "name": "stderr",
     "output_type": "stream",
     "text": [
      "\u001b[A"
     ]
    },
    {
     "name": "stderr",
     "output_type": "stream",
     "text": [
      "\n"
     ]
    },
    {
     "name": "stderr",
     "output_type": "stream",
     "text": [
      "\r",
      "Epoch 1:  11%|█         | 382/3636 [02:23<20:03,  2.70it/s, training_loss=0.362]"
     ]
    },
    {
     "name": "stderr",
     "output_type": "stream",
     "text": [
      "\u001b[A"
     ]
    },
    {
     "name": "stderr",
     "output_type": "stream",
     "text": [
      "\n"
     ]
    },
    {
     "name": "stderr",
     "output_type": "stream",
     "text": [
      "\r",
      "Epoch 1:  11%|█         | 382/3636 [02:23<20:03,  2.70it/s, training_loss=0.335]"
     ]
    },
    {
     "name": "stderr",
     "output_type": "stream",
     "text": [
      "\u001b[A"
     ]
    },
    {
     "name": "stderr",
     "output_type": "stream",
     "text": [
      "\n"
     ]
    },
    {
     "name": "stderr",
     "output_type": "stream",
     "text": [
      "\r",
      "Epoch 1:  11%|█         | 383/3636 [02:23<19:59,  2.71it/s, training_loss=0.335]"
     ]
    },
    {
     "name": "stderr",
     "output_type": "stream",
     "text": [
      "\u001b[A"
     ]
    },
    {
     "name": "stderr",
     "output_type": "stream",
     "text": [
      "\n"
     ]
    },
    {
     "name": "stderr",
     "output_type": "stream",
     "text": [
      "\r",
      "Epoch 1:  11%|█         | 383/3636 [02:23<19:59,  2.71it/s, training_loss=0.366]"
     ]
    },
    {
     "name": "stderr",
     "output_type": "stream",
     "text": [
      "\u001b[A"
     ]
    },
    {
     "name": "stderr",
     "output_type": "stream",
     "text": [
      "\n"
     ]
    },
    {
     "name": "stderr",
     "output_type": "stream",
     "text": [
      "\r",
      "Epoch 1:  11%|█         | 384/3636 [02:23<19:59,  2.71it/s, training_loss=0.366]"
     ]
    },
    {
     "name": "stderr",
     "output_type": "stream",
     "text": [
      "\u001b[A"
     ]
    },
    {
     "name": "stderr",
     "output_type": "stream",
     "text": [
      "\n"
     ]
    },
    {
     "name": "stderr",
     "output_type": "stream",
     "text": [
      "\r",
      "Epoch 1:  11%|█         | 384/3636 [02:24<19:59,  2.71it/s, training_loss=0.329]"
     ]
    },
    {
     "name": "stderr",
     "output_type": "stream",
     "text": [
      "\u001b[A"
     ]
    },
    {
     "name": "stderr",
     "output_type": "stream",
     "text": [
      "\n"
     ]
    },
    {
     "name": "stderr",
     "output_type": "stream",
     "text": [
      "\r",
      "Epoch 1:  11%|█         | 385/3636 [02:24<19:57,  2.71it/s, training_loss=0.329]"
     ]
    },
    {
     "name": "stderr",
     "output_type": "stream",
     "text": [
      "\u001b[A"
     ]
    },
    {
     "name": "stderr",
     "output_type": "stream",
     "text": [
      "\n"
     ]
    },
    {
     "name": "stderr",
     "output_type": "stream",
     "text": [
      "\r",
      "Epoch 1:  11%|█         | 385/3636 [02:24<19:57,  2.71it/s, training_loss=0.326]"
     ]
    },
    {
     "name": "stderr",
     "output_type": "stream",
     "text": [
      "\u001b[A"
     ]
    },
    {
     "name": "stderr",
     "output_type": "stream",
     "text": [
      "\n"
     ]
    },
    {
     "name": "stderr",
     "output_type": "stream",
     "text": [
      "\r",
      "Epoch 1:  11%|█         | 386/3636 [02:24<19:57,  2.71it/s, training_loss=0.326]"
     ]
    },
    {
     "name": "stderr",
     "output_type": "stream",
     "text": [
      "\u001b[A"
     ]
    },
    {
     "name": "stderr",
     "output_type": "stream",
     "text": [
      "\n"
     ]
    },
    {
     "name": "stderr",
     "output_type": "stream",
     "text": [
      "\r",
      "Epoch 1:  11%|█         | 386/3636 [02:25<19:57,  2.71it/s, training_loss=0.349]"
     ]
    },
    {
     "name": "stderr",
     "output_type": "stream",
     "text": [
      "\u001b[A"
     ]
    },
    {
     "name": "stderr",
     "output_type": "stream",
     "text": [
      "\n"
     ]
    },
    {
     "name": "stderr",
     "output_type": "stream",
     "text": [
      "\r",
      "Epoch 1:  11%|█         | 387/3636 [02:25<19:56,  2.72it/s, training_loss=0.349]"
     ]
    },
    {
     "name": "stderr",
     "output_type": "stream",
     "text": [
      "\u001b[A"
     ]
    },
    {
     "name": "stderr",
     "output_type": "stream",
     "text": [
      "\n"
     ]
    },
    {
     "name": "stderr",
     "output_type": "stream",
     "text": [
      "\r",
      "Epoch 1:  11%|█         | 387/3636 [02:25<19:56,  2.72it/s, training_loss=0.348]"
     ]
    },
    {
     "name": "stderr",
     "output_type": "stream",
     "text": [
      "\u001b[A"
     ]
    },
    {
     "name": "stderr",
     "output_type": "stream",
     "text": [
      "\n"
     ]
    },
    {
     "name": "stderr",
     "output_type": "stream",
     "text": [
      "\r",
      "Epoch 1:  11%|█         | 388/3636 [02:25<19:57,  2.71it/s, training_loss=0.348]"
     ]
    },
    {
     "name": "stderr",
     "output_type": "stream",
     "text": [
      "\u001b[A"
     ]
    },
    {
     "name": "stderr",
     "output_type": "stream",
     "text": [
      "\n"
     ]
    },
    {
     "name": "stderr",
     "output_type": "stream",
     "text": [
      "\r",
      "Epoch 1:  11%|█         | 388/3636 [02:25<19:57,  2.71it/s, training_loss=0.311]"
     ]
    },
    {
     "name": "stderr",
     "output_type": "stream",
     "text": [
      "\n"
     ]
    },
    {
     "name": "stderr",
     "output_type": "stream",
     "text": [
      "\r",
      "Validating::  82%|████████▏ | 674/819 [01:28<00:19,  7.63it/s]"
     ]
    },
    {
     "name": "stderr",
     "output_type": "stream",
     "text": [
      "\u001b[A"
     ]
    },
    {
     "name": "stderr",
     "output_type": "stream",
     "text": [
      "\n"
     ]
    },
    {
     "name": "stderr",
     "output_type": "stream",
     "text": [
      "\r",
      "Validating::  82%|████████▏ | 675/819 [01:28<00:18,  7.62it/s]"
     ]
    },
    {
     "name": "stderr",
     "output_type": "stream",
     "text": [
      "\u001b[A"
     ]
    },
    {
     "name": "stderr",
     "output_type": "stream",
     "text": [
      "\n"
     ]
    },
    {
     "name": "stderr",
     "output_type": "stream",
     "text": [
      "\r",
      "Validating::  83%|████████▎ | 676/819 [01:28<00:18,  7.63it/s]"
     ]
    },
    {
     "name": "stderr",
     "output_type": "stream",
     "text": [
      "\u001b[A"
     ]
    },
    {
     "name": "stderr",
     "output_type": "stream",
     "text": [
      "\n"
     ]
    },
    {
     "name": "stderr",
     "output_type": "stream",
     "text": [
      "\r",
      "Validating::  83%|████████▎ | 677/819 [01:28<00:18,  7.62it/s]"
     ]
    },
    {
     "name": "stderr",
     "output_type": "stream",
     "text": [
      "\u001b[A"
     ]
    },
    {
     "name": "stderr",
     "output_type": "stream",
     "text": [
      "\n"
     ]
    },
    {
     "name": "stderr",
     "output_type": "stream",
     "text": [
      "\r",
      "Validating::  83%|████████▎ | 678/819 [01:29<00:18,  7.61it/s]"
     ]
    },
    {
     "name": "stderr",
     "output_type": "stream",
     "text": [
      "\u001b[A"
     ]
    },
    {
     "name": "stderr",
     "output_type": "stream",
     "text": [
      "\n"
     ]
    },
    {
     "name": "stderr",
     "output_type": "stream",
     "text": [
      "\r",
      "Validating::  83%|████████▎ | 679/819 [01:29<00:18,  7.61it/s]"
     ]
    },
    {
     "name": "stderr",
     "output_type": "stream",
     "text": [
      "\u001b[A"
     ]
    },
    {
     "name": "stderr",
     "output_type": "stream",
     "text": [
      "\n"
     ]
    },
    {
     "name": "stderr",
     "output_type": "stream",
     "text": [
      "\r",
      "Validating::  83%|████████▎ | 680/819 [01:29<00:18,  7.60it/s]"
     ]
    },
    {
     "name": "stderr",
     "output_type": "stream",
     "text": [
      "\u001b[A"
     ]
    },
    {
     "name": "stderr",
     "output_type": "stream",
     "text": [
      "\n"
     ]
    },
    {
     "name": "stderr",
     "output_type": "stream",
     "text": [
      "\r",
      "Validating::  83%|████████▎ | 681/819 [01:29<00:18,  7.60it/s]"
     ]
    },
    {
     "name": "stderr",
     "output_type": "stream",
     "text": [
      "\u001b[A"
     ]
    },
    {
     "name": "stderr",
     "output_type": "stream",
     "text": [
      "\n"
     ]
    },
    {
     "name": "stderr",
     "output_type": "stream",
     "text": [
      "\r",
      "Validating::  83%|████████▎ | 682/819 [01:29<00:18,  7.59it/s]"
     ]
    },
    {
     "name": "stderr",
     "output_type": "stream",
     "text": [
      "\u001b[A"
     ]
    },
    {
     "name": "stderr",
     "output_type": "stream",
     "text": [
      "\n"
     ]
    },
    {
     "name": "stderr",
     "output_type": "stream",
     "text": [
      "\r",
      "Validating::  83%|████████▎ | 683/819 [01:29<00:17,  7.60it/s]"
     ]
    },
    {
     "name": "stderr",
     "output_type": "stream",
     "text": [
      "\u001b[A"
     ]
    },
    {
     "name": "stderr",
     "output_type": "stream",
     "text": [
      "\n"
     ]
    },
    {
     "name": "stderr",
     "output_type": "stream",
     "text": [
      "\r",
      "Validating::  84%|████████▎ | 684/819 [01:29<00:17,  7.60it/s]"
     ]
    },
    {
     "name": "stderr",
     "output_type": "stream",
     "text": [
      "\u001b[A"
     ]
    },
    {
     "name": "stderr",
     "output_type": "stream",
     "text": [
      "\n"
     ]
    },
    {
     "name": "stderr",
     "output_type": "stream",
     "text": [
      "\r",
      "Validating::  84%|████████▎ | 685/819 [01:29<00:17,  7.61it/s]"
     ]
    },
    {
     "name": "stderr",
     "output_type": "stream",
     "text": [
      "\u001b[A"
     ]
    },
    {
     "name": "stderr",
     "output_type": "stream",
     "text": [
      "\n"
     ]
    },
    {
     "name": "stderr",
     "output_type": "stream",
     "text": [
      "\r",
      "Validating::  84%|████████▍ | 686/819 [01:30<00:17,  7.62it/s]"
     ]
    },
    {
     "name": "stderr",
     "output_type": "stream",
     "text": [
      "\u001b[A"
     ]
    },
    {
     "name": "stderr",
     "output_type": "stream",
     "text": [
      "\n"
     ]
    },
    {
     "name": "stderr",
     "output_type": "stream",
     "text": [
      "\r",
      "Validating::  84%|████████▍ | 687/819 [01:30<00:17,  7.63it/s]"
     ]
    },
    {
     "name": "stderr",
     "output_type": "stream",
     "text": [
      "\u001b[A"
     ]
    },
    {
     "name": "stderr",
     "output_type": "stream",
     "text": [
      "\n"
     ]
    },
    {
     "name": "stderr",
     "output_type": "stream",
     "text": [
      "\r",
      "Validating::  84%|████████▍ | 688/819 [01:30<00:17,  7.61it/s]"
     ]
    },
    {
     "name": "stderr",
     "output_type": "stream",
     "text": [
      "\u001b[A"
     ]
    },
    {
     "name": "stderr",
     "output_type": "stream",
     "text": [
      "\n"
     ]
    },
    {
     "name": "stderr",
     "output_type": "stream",
     "text": [
      "\r",
      "Validating::  84%|████████▍ | 689/819 [01:30<00:17,  7.62it/s]"
     ]
    },
    {
     "name": "stderr",
     "output_type": "stream",
     "text": [
      "\u001b[A"
     ]
    },
    {
     "name": "stderr",
     "output_type": "stream",
     "text": [
      "\n"
     ]
    },
    {
     "name": "stderr",
     "output_type": "stream",
     "text": [
      "\r",
      "Validating::  84%|████████▍ | 690/819 [01:30<00:16,  7.61it/s]"
     ]
    },
    {
     "name": "stderr",
     "output_type": "stream",
     "text": [
      "\u001b[A"
     ]
    },
    {
     "name": "stderr",
     "output_type": "stream",
     "text": [
      "\n"
     ]
    },
    {
     "name": "stderr",
     "output_type": "stream",
     "text": [
      "\r",
      "Validating::  84%|████████▍ | 691/819 [01:30<00:16,  7.61it/s]"
     ]
    },
    {
     "name": "stderr",
     "output_type": "stream",
     "text": [
      "\u001b[A"
     ]
    },
    {
     "name": "stderr",
     "output_type": "stream",
     "text": [
      "\n"
     ]
    },
    {
     "name": "stderr",
     "output_type": "stream",
     "text": [
      "\r",
      "Validating::  84%|████████▍ | 692/819 [01:30<00:16,  7.61it/s]"
     ]
    },
    {
     "name": "stderr",
     "output_type": "stream",
     "text": [
      "\u001b[A"
     ]
    },
    {
     "name": "stderr",
     "output_type": "stream",
     "text": [
      "\n"
     ]
    },
    {
     "name": "stderr",
     "output_type": "stream",
     "text": [
      "\r",
      "Validating::  85%|████████▍ | 693/819 [01:30<00:16,  7.60it/s]"
     ]
    },
    {
     "name": "stderr",
     "output_type": "stream",
     "text": [
      "\u001b[A"
     ]
    },
    {
     "name": "stderr",
     "output_type": "stream",
     "text": [
      "\n"
     ]
    },
    {
     "name": "stderr",
     "output_type": "stream",
     "text": [
      "\r",
      "Validating::  85%|████████▍ | 694/819 [01:31<00:16,  7.60it/s]"
     ]
    },
    {
     "name": "stderr",
     "output_type": "stream",
     "text": [
      "\u001b[A"
     ]
    },
    {
     "name": "stderr",
     "output_type": "stream",
     "text": [
      "\n"
     ]
    },
    {
     "name": "stderr",
     "output_type": "stream",
     "text": [
      "\r",
      "Validating::  85%|████████▍ | 695/819 [01:31<00:16,  7.60it/s]"
     ]
    },
    {
     "name": "stderr",
     "output_type": "stream",
     "text": [
      "\u001b[A"
     ]
    },
    {
     "name": "stderr",
     "output_type": "stream",
     "text": [
      "\n"
     ]
    },
    {
     "name": "stderr",
     "output_type": "stream",
     "text": [
      "\r",
      "Validating::  85%|████████▍ | 696/819 [01:31<00:16,  7.59it/s]"
     ]
    },
    {
     "name": "stderr",
     "output_type": "stream",
     "text": [
      "\u001b[A"
     ]
    },
    {
     "name": "stderr",
     "output_type": "stream",
     "text": [
      "\n"
     ]
    },
    {
     "name": "stderr",
     "output_type": "stream",
     "text": [
      "\r",
      "Validating::  85%|████████▌ | 697/819 [01:31<00:16,  7.60it/s]"
     ]
    },
    {
     "name": "stderr",
     "output_type": "stream",
     "text": [
      "\u001b[A"
     ]
    },
    {
     "name": "stderr",
     "output_type": "stream",
     "text": [
      "\n"
     ]
    },
    {
     "name": "stderr",
     "output_type": "stream",
     "text": [
      "\r",
      "Validating::  85%|████████▌ | 698/819 [01:31<00:15,  7.60it/s]"
     ]
    },
    {
     "name": "stderr",
     "output_type": "stream",
     "text": [
      "\u001b[A"
     ]
    },
    {
     "name": "stderr",
     "output_type": "stream",
     "text": [
      "\n"
     ]
    },
    {
     "name": "stderr",
     "output_type": "stream",
     "text": [
      "\r",
      "Validating::  85%|████████▌ | 699/819 [01:31<00:15,  7.60it/s]"
     ]
    },
    {
     "name": "stderr",
     "output_type": "stream",
     "text": [
      "\u001b[A"
     ]
    },
    {
     "name": "stderr",
     "output_type": "stream",
     "text": [
      "\n"
     ]
    },
    {
     "name": "stderr",
     "output_type": "stream",
     "text": [
      "\r",
      "Validating::  85%|████████▌ | 700/819 [01:31<00:15,  7.61it/s]"
     ]
    },
    {
     "name": "stderr",
     "output_type": "stream",
     "text": [
      "\u001b[A"
     ]
    },
    {
     "name": "stderr",
     "output_type": "stream",
     "text": [
      "\n"
     ]
    },
    {
     "name": "stderr",
     "output_type": "stream",
     "text": [
      "\r",
      "Validating::  86%|████████▌ | 701/819 [01:32<00:15,  7.61it/s]"
     ]
    },
    {
     "name": "stderr",
     "output_type": "stream",
     "text": [
      "\u001b[A"
     ]
    },
    {
     "name": "stderr",
     "output_type": "stream",
     "text": [
      "\n"
     ]
    },
    {
     "name": "stderr",
     "output_type": "stream",
     "text": [
      "\r",
      "Validating::  86%|████████▌ | 702/819 [01:32<00:15,  7.59it/s]"
     ]
    },
    {
     "name": "stderr",
     "output_type": "stream",
     "text": [
      "\u001b[A"
     ]
    },
    {
     "name": "stderr",
     "output_type": "stream",
     "text": [
      "\n"
     ]
    },
    {
     "name": "stderr",
     "output_type": "stream",
     "text": [
      "\r",
      "Validating::  86%|████████▌ | 703/819 [01:32<00:15,  7.59it/s]"
     ]
    },
    {
     "name": "stderr",
     "output_type": "stream",
     "text": [
      "\u001b[A"
     ]
    },
    {
     "name": "stderr",
     "output_type": "stream",
     "text": [
      "\n"
     ]
    },
    {
     "name": "stderr",
     "output_type": "stream",
     "text": [
      "\r",
      "Validating::  86%|████████▌ | 704/819 [01:32<00:15,  7.60it/s]"
     ]
    },
    {
     "name": "stderr",
     "output_type": "stream",
     "text": [
      "\u001b[A"
     ]
    },
    {
     "name": "stderr",
     "output_type": "stream",
     "text": [
      "\n"
     ]
    },
    {
     "name": "stderr",
     "output_type": "stream",
     "text": [
      "\r",
      "Validating::  86%|████████▌ | 705/819 [01:32<00:15,  7.59it/s]"
     ]
    },
    {
     "name": "stderr",
     "output_type": "stream",
     "text": [
      "\u001b[A"
     ]
    },
    {
     "name": "stderr",
     "output_type": "stream",
     "text": [
      "\n"
     ]
    },
    {
     "name": "stderr",
     "output_type": "stream",
     "text": [
      "\r",
      "Validating::  86%|████████▌ | 706/819 [01:32<00:14,  7.60it/s]"
     ]
    },
    {
     "name": "stderr",
     "output_type": "stream",
     "text": [
      "\u001b[A"
     ]
    },
    {
     "name": "stderr",
     "output_type": "stream",
     "text": [
      "\n"
     ]
    },
    {
     "name": "stderr",
     "output_type": "stream",
     "text": [
      "\r",
      "Validating::  86%|████████▋ | 707/819 [01:32<00:14,  7.59it/s]"
     ]
    },
    {
     "name": "stderr",
     "output_type": "stream",
     "text": [
      "\u001b[A"
     ]
    },
    {
     "name": "stderr",
     "output_type": "stream",
     "text": [
      "\n"
     ]
    },
    {
     "name": "stderr",
     "output_type": "stream",
     "text": [
      "\r",
      "Validating::  86%|████████▋ | 708/819 [01:32<00:14,  7.59it/s]"
     ]
    },
    {
     "name": "stderr",
     "output_type": "stream",
     "text": [
      "\u001b[A"
     ]
    },
    {
     "name": "stderr",
     "output_type": "stream",
     "text": [
      "\n"
     ]
    },
    {
     "name": "stderr",
     "output_type": "stream",
     "text": [
      "\r",
      "Validating::  87%|████████▋ | 709/819 [01:33<00:14,  7.59it/s]"
     ]
    },
    {
     "name": "stderr",
     "output_type": "stream",
     "text": [
      "\u001b[A"
     ]
    },
    {
     "name": "stderr",
     "output_type": "stream",
     "text": [
      "\n"
     ]
    },
    {
     "name": "stderr",
     "output_type": "stream",
     "text": [
      "\r",
      "Validating::  87%|████████▋ | 710/819 [01:33<00:14,  7.58it/s]"
     ]
    },
    {
     "name": "stderr",
     "output_type": "stream",
     "text": [
      "\u001b[A"
     ]
    },
    {
     "name": "stderr",
     "output_type": "stream",
     "text": [
      "\n"
     ]
    },
    {
     "name": "stderr",
     "output_type": "stream",
     "text": [
      "\r",
      "Validating::  87%|████████▋ | 711/819 [01:33<00:14,  7.59it/s]"
     ]
    },
    {
     "name": "stderr",
     "output_type": "stream",
     "text": [
      "\u001b[A"
     ]
    },
    {
     "name": "stderr",
     "output_type": "stream",
     "text": [
      "\n"
     ]
    },
    {
     "name": "stderr",
     "output_type": "stream",
     "text": [
      "\r",
      "Validating::  87%|████████▋ | 712/819 [01:33<00:14,  7.59it/s]"
     ]
    },
    {
     "name": "stderr",
     "output_type": "stream",
     "text": [
      "\u001b[A"
     ]
    },
    {
     "name": "stderr",
     "output_type": "stream",
     "text": [
      "\n"
     ]
    },
    {
     "name": "stderr",
     "output_type": "stream",
     "text": [
      "\r",
      "Validating::  87%|████████▋ | 713/819 [01:33<00:13,  7.58it/s]"
     ]
    },
    {
     "name": "stderr",
     "output_type": "stream",
     "text": [
      "\u001b[A"
     ]
    },
    {
     "name": "stderr",
     "output_type": "stream",
     "text": [
      "\n"
     ]
    },
    {
     "name": "stderr",
     "output_type": "stream",
     "text": [
      "\r",
      "Validating::  87%|████████▋ | 714/819 [01:33<00:13,  7.59it/s]"
     ]
    },
    {
     "name": "stderr",
     "output_type": "stream",
     "text": [
      "\u001b[A"
     ]
    },
    {
     "name": "stderr",
     "output_type": "stream",
     "text": [
      "\n"
     ]
    },
    {
     "name": "stderr",
     "output_type": "stream",
     "text": [
      "\r",
      "Validating::  87%|████████▋ | 715/819 [01:33<00:13,  7.58it/s]"
     ]
    },
    {
     "name": "stderr",
     "output_type": "stream",
     "text": [
      "\u001b[A"
     ]
    },
    {
     "name": "stderr",
     "output_type": "stream",
     "text": [
      "\n"
     ]
    },
    {
     "name": "stderr",
     "output_type": "stream",
     "text": [
      "\r",
      "Validating::  87%|████████▋ | 716/819 [01:34<00:13,  7.57it/s]"
     ]
    },
    {
     "name": "stderr",
     "output_type": "stream",
     "text": [
      "\u001b[A"
     ]
    },
    {
     "name": "stderr",
     "output_type": "stream",
     "text": [
      "\n"
     ]
    },
    {
     "name": "stderr",
     "output_type": "stream",
     "text": [
      "\r",
      "Validating::  88%|████████▊ | 717/819 [01:34<00:13,  7.58it/s]"
     ]
    },
    {
     "name": "stderr",
     "output_type": "stream",
     "text": [
      "\u001b[A"
     ]
    },
    {
     "name": "stderr",
     "output_type": "stream",
     "text": [
      "\n"
     ]
    },
    {
     "name": "stderr",
     "output_type": "stream",
     "text": [
      "\r",
      "Validating::  88%|████████▊ | 718/819 [01:34<00:13,  7.59it/s]"
     ]
    },
    {
     "name": "stderr",
     "output_type": "stream",
     "text": [
      "\u001b[A"
     ]
    },
    {
     "name": "stderr",
     "output_type": "stream",
     "text": [
      "\n"
     ]
    },
    {
     "name": "stderr",
     "output_type": "stream",
     "text": [
      "\r",
      "Validating::  88%|████████▊ | 719/819 [01:34<00:13,  7.60it/s]"
     ]
    },
    {
     "name": "stderr",
     "output_type": "stream",
     "text": [
      "\u001b[A"
     ]
    },
    {
     "name": "stderr",
     "output_type": "stream",
     "text": [
      "\n"
     ]
    },
    {
     "name": "stderr",
     "output_type": "stream",
     "text": [
      "\r",
      "Validating::  88%|████████▊ | 720/819 [01:34<00:13,  7.61it/s]"
     ]
    },
    {
     "name": "stderr",
     "output_type": "stream",
     "text": [
      "\u001b[A"
     ]
    },
    {
     "name": "stderr",
     "output_type": "stream",
     "text": [
      "\n"
     ]
    },
    {
     "name": "stderr",
     "output_type": "stream",
     "text": [
      "\r",
      "Validating::  88%|████████▊ | 721/819 [01:34<00:12,  7.61it/s]"
     ]
    },
    {
     "name": "stderr",
     "output_type": "stream",
     "text": [
      "\u001b[A"
     ]
    },
    {
     "name": "stderr",
     "output_type": "stream",
     "text": [
      "\n"
     ]
    },
    {
     "name": "stderr",
     "output_type": "stream",
     "text": [
      "\r",
      "Validating::  88%|████████▊ | 722/819 [01:34<00:12,  7.60it/s]"
     ]
    },
    {
     "name": "stderr",
     "output_type": "stream",
     "text": [
      "\u001b[A"
     ]
    },
    {
     "name": "stderr",
     "output_type": "stream",
     "text": [
      "\n"
     ]
    },
    {
     "name": "stderr",
     "output_type": "stream",
     "text": [
      "\r",
      "Validating::  88%|████████▊ | 723/819 [01:34<00:12,  7.60it/s]"
     ]
    },
    {
     "name": "stderr",
     "output_type": "stream",
     "text": [
      "\u001b[A"
     ]
    },
    {
     "name": "stderr",
     "output_type": "stream",
     "text": [
      "\n"
     ]
    },
    {
     "name": "stderr",
     "output_type": "stream",
     "text": [
      "\r",
      "Validating::  88%|████████▊ | 724/819 [01:35<00:12,  7.60it/s]"
     ]
    },
    {
     "name": "stderr",
     "output_type": "stream",
     "text": [
      "\u001b[A"
     ]
    },
    {
     "name": "stderr",
     "output_type": "stream",
     "text": [
      "\n"
     ]
    },
    {
     "name": "stderr",
     "output_type": "stream",
     "text": [
      "\r",
      "Validating::  89%|████████▊ | 725/819 [01:35<00:12,  7.61it/s]"
     ]
    },
    {
     "name": "stderr",
     "output_type": "stream",
     "text": [
      "\u001b[A"
     ]
    },
    {
     "name": "stderr",
     "output_type": "stream",
     "text": [
      "\n"
     ]
    },
    {
     "name": "stderr",
     "output_type": "stream",
     "text": [
      "\r",
      "Validating::  89%|████████▊ | 726/819 [01:35<00:12,  7.61it/s]"
     ]
    },
    {
     "name": "stderr",
     "output_type": "stream",
     "text": [
      "\u001b[A"
     ]
    },
    {
     "name": "stderr",
     "output_type": "stream",
     "text": [
      "\n"
     ]
    },
    {
     "name": "stderr",
     "output_type": "stream",
     "text": [
      "\r",
      "Validating::  89%|████████▉ | 727/819 [01:35<00:12,  7.62it/s]"
     ]
    },
    {
     "name": "stderr",
     "output_type": "stream",
     "text": [
      "\u001b[A"
     ]
    },
    {
     "name": "stderr",
     "output_type": "stream",
     "text": [
      "\n"
     ]
    },
    {
     "name": "stderr",
     "output_type": "stream",
     "text": [
      "\r",
      "Validating::  89%|████████▉ | 728/819 [01:35<00:11,  7.62it/s]"
     ]
    },
    {
     "name": "stderr",
     "output_type": "stream",
     "text": [
      "\u001b[A"
     ]
    },
    {
     "name": "stderr",
     "output_type": "stream",
     "text": [
      "\n"
     ]
    },
    {
     "name": "stderr",
     "output_type": "stream",
     "text": [
      "\r",
      "Validating::  89%|████████▉ | 729/819 [01:35<00:11,  7.62it/s]"
     ]
    },
    {
     "name": "stderr",
     "output_type": "stream",
     "text": [
      "\u001b[A"
     ]
    },
    {
     "name": "stderr",
     "output_type": "stream",
     "text": [
      "\n"
     ]
    },
    {
     "name": "stderr",
     "output_type": "stream",
     "text": [
      "\r",
      "Validating::  89%|████████▉ | 730/819 [01:35<00:11,  7.62it/s]"
     ]
    },
    {
     "name": "stderr",
     "output_type": "stream",
     "text": [
      "\u001b[A"
     ]
    },
    {
     "name": "stderr",
     "output_type": "stream",
     "text": [
      "\n"
     ]
    },
    {
     "name": "stderr",
     "output_type": "stream",
     "text": [
      "\r",
      "Validating::  89%|████████▉ | 731/819 [01:35<00:11,  7.62it/s]"
     ]
    },
    {
     "name": "stderr",
     "output_type": "stream",
     "text": [
      "\u001b[A"
     ]
    },
    {
     "name": "stderr",
     "output_type": "stream",
     "text": [
      "\n"
     ]
    },
    {
     "name": "stderr",
     "output_type": "stream",
     "text": [
      "\r",
      "Validating::  89%|████████▉ | 732/819 [01:36<00:11,  7.61it/s]"
     ]
    },
    {
     "name": "stderr",
     "output_type": "stream",
     "text": [
      "\u001b[A"
     ]
    },
    {
     "name": "stderr",
     "output_type": "stream",
     "text": [
      "\n"
     ]
    },
    {
     "name": "stderr",
     "output_type": "stream",
     "text": [
      "\r",
      "Validating::  89%|████████▉ | 733/819 [01:36<00:11,  7.61it/s]"
     ]
    },
    {
     "name": "stderr",
     "output_type": "stream",
     "text": [
      "\u001b[A"
     ]
    },
    {
     "name": "stderr",
     "output_type": "stream",
     "text": [
      "\n"
     ]
    },
    {
     "name": "stderr",
     "output_type": "stream",
     "text": [
      "\r",
      "Validating::  90%|████████▉ | 734/819 [01:36<00:11,  7.61it/s]"
     ]
    },
    {
     "name": "stderr",
     "output_type": "stream",
     "text": [
      "\u001b[A"
     ]
    },
    {
     "name": "stderr",
     "output_type": "stream",
     "text": [
      "\n"
     ]
    },
    {
     "name": "stderr",
     "output_type": "stream",
     "text": [
      "\r",
      "Validating::  90%|████████▉ | 735/819 [01:36<00:11,  7.60it/s]"
     ]
    },
    {
     "name": "stderr",
     "output_type": "stream",
     "text": [
      "\u001b[A"
     ]
    },
    {
     "name": "stderr",
     "output_type": "stream",
     "text": [
      "\n"
     ]
    },
    {
     "name": "stderr",
     "output_type": "stream",
     "text": [
      "\r",
      "Validating::  90%|████████▉ | 736/819 [01:36<00:10,  7.61it/s]"
     ]
    },
    {
     "name": "stderr",
     "output_type": "stream",
     "text": [
      "\u001b[A"
     ]
    },
    {
     "name": "stderr",
     "output_type": "stream",
     "text": [
      "\n"
     ]
    },
    {
     "name": "stderr",
     "output_type": "stream",
     "text": [
      "\r",
      "Validating::  90%|████████▉ | 737/819 [01:36<00:10,  7.61it/s]"
     ]
    },
    {
     "name": "stderr",
     "output_type": "stream",
     "text": [
      "\u001b[A"
     ]
    },
    {
     "name": "stderr",
     "output_type": "stream",
     "text": [
      "\n"
     ]
    },
    {
     "name": "stderr",
     "output_type": "stream",
     "text": [
      "\r",
      "Validating::  90%|█████████ | 738/819 [01:36<00:10,  7.61it/s]"
     ]
    },
    {
     "name": "stderr",
     "output_type": "stream",
     "text": [
      "\u001b[A"
     ]
    },
    {
     "name": "stderr",
     "output_type": "stream",
     "text": [
      "\n"
     ]
    },
    {
     "name": "stderr",
     "output_type": "stream",
     "text": [
      "\r",
      "Validating::  90%|█████████ | 739/819 [01:37<00:10,  7.61it/s]"
     ]
    },
    {
     "name": "stderr",
     "output_type": "stream",
     "text": [
      "\u001b[A"
     ]
    },
    {
     "name": "stderr",
     "output_type": "stream",
     "text": [
      "\n"
     ]
    },
    {
     "name": "stderr",
     "output_type": "stream",
     "text": [
      "\r",
      "Validating::  90%|█████████ | 740/819 [01:37<00:10,  7.61it/s]"
     ]
    },
    {
     "name": "stderr",
     "output_type": "stream",
     "text": [
      "\u001b[A"
     ]
    },
    {
     "name": "stderr",
     "output_type": "stream",
     "text": [
      "\n"
     ]
    },
    {
     "name": "stderr",
     "output_type": "stream",
     "text": [
      "\r",
      "Validating::  90%|█████████ | 741/819 [01:37<00:10,  7.59it/s]"
     ]
    },
    {
     "name": "stderr",
     "output_type": "stream",
     "text": [
      "\u001b[A"
     ]
    },
    {
     "name": "stderr",
     "output_type": "stream",
     "text": [
      "\n"
     ]
    },
    {
     "name": "stderr",
     "output_type": "stream",
     "text": [
      "\r",
      "Validating::  91%|█████████ | 742/819 [01:37<00:10,  7.59it/s]"
     ]
    },
    {
     "name": "stderr",
     "output_type": "stream",
     "text": [
      "\u001b[A"
     ]
    },
    {
     "name": "stderr",
     "output_type": "stream",
     "text": [
      "\n"
     ]
    },
    {
     "name": "stderr",
     "output_type": "stream",
     "text": [
      "\r",
      "Validating::  91%|█████████ | 743/819 [01:37<00:10,  7.59it/s]"
     ]
    },
    {
     "name": "stderr",
     "output_type": "stream",
     "text": [
      "\u001b[A"
     ]
    },
    {
     "name": "stderr",
     "output_type": "stream",
     "text": [
      "\n"
     ]
    },
    {
     "name": "stderr",
     "output_type": "stream",
     "text": [
      "\r",
      "Validating::  91%|█████████ | 744/819 [01:37<00:09,  7.60it/s]"
     ]
    },
    {
     "name": "stderr",
     "output_type": "stream",
     "text": [
      "\u001b[A"
     ]
    },
    {
     "name": "stderr",
     "output_type": "stream",
     "text": [
      "\n"
     ]
    },
    {
     "name": "stderr",
     "output_type": "stream",
     "text": [
      "\r",
      "Validating::  91%|█████████ | 745/819 [01:37<00:09,  7.60it/s]"
     ]
    },
    {
     "name": "stderr",
     "output_type": "stream",
     "text": [
      "\u001b[A"
     ]
    },
    {
     "name": "stderr",
     "output_type": "stream",
     "text": [
      "\n"
     ]
    },
    {
     "name": "stderr",
     "output_type": "stream",
     "text": [
      "\r",
      "Validating::  91%|█████████ | 746/819 [01:37<00:09,  7.59it/s]"
     ]
    },
    {
     "name": "stderr",
     "output_type": "stream",
     "text": [
      "\u001b[A"
     ]
    },
    {
     "name": "stderr",
     "output_type": "stream",
     "text": [
      "\n"
     ]
    },
    {
     "name": "stderr",
     "output_type": "stream",
     "text": [
      "\r",
      "Validating::  91%|█████████ | 747/819 [01:38<00:09,  7.58it/s]"
     ]
    },
    {
     "name": "stderr",
     "output_type": "stream",
     "text": [
      "\u001b[A"
     ]
    },
    {
     "name": "stderr",
     "output_type": "stream",
     "text": [
      "\n"
     ]
    },
    {
     "name": "stderr",
     "output_type": "stream",
     "text": [
      "\r",
      "Validating::  91%|█████████▏| 748/819 [01:38<00:09,  7.60it/s]"
     ]
    },
    {
     "name": "stderr",
     "output_type": "stream",
     "text": [
      "\u001b[A"
     ]
    },
    {
     "name": "stderr",
     "output_type": "stream",
     "text": [
      "\n"
     ]
    },
    {
     "name": "stderr",
     "output_type": "stream",
     "text": [
      "\r",
      "Validating::  91%|█████████▏| 749/819 [01:38<00:09,  7.60it/s]"
     ]
    },
    {
     "name": "stderr",
     "output_type": "stream",
     "text": [
      "\u001b[A"
     ]
    },
    {
     "name": "stderr",
     "output_type": "stream",
     "text": [
      "\n"
     ]
    },
    {
     "name": "stderr",
     "output_type": "stream",
     "text": [
      "\r",
      "Validating::  92%|█████████▏| 750/819 [01:38<00:09,  7.59it/s]"
     ]
    },
    {
     "name": "stderr",
     "output_type": "stream",
     "text": [
      "\u001b[A"
     ]
    },
    {
     "name": "stderr",
     "output_type": "stream",
     "text": [
      "\n"
     ]
    },
    {
     "name": "stderr",
     "output_type": "stream",
     "text": [
      "\r",
      "Validating::  92%|█████████▏| 751/819 [01:38<00:08,  7.59it/s]"
     ]
    },
    {
     "name": "stderr",
     "output_type": "stream",
     "text": [
      "\u001b[A"
     ]
    },
    {
     "name": "stderr",
     "output_type": "stream",
     "text": [
      "\n"
     ]
    },
    {
     "name": "stderr",
     "output_type": "stream",
     "text": [
      "\r",
      "Validating::  92%|█████████▏| 752/819 [01:38<00:08,  7.60it/s]"
     ]
    },
    {
     "name": "stderr",
     "output_type": "stream",
     "text": [
      "\u001b[A"
     ]
    },
    {
     "name": "stderr",
     "output_type": "stream",
     "text": [
      "\n"
     ]
    },
    {
     "name": "stderr",
     "output_type": "stream",
     "text": [
      "\r",
      "Validating::  92%|█████████▏| 753/819 [01:38<00:08,  7.61it/s]"
     ]
    },
    {
     "name": "stderr",
     "output_type": "stream",
     "text": [
      "\u001b[A"
     ]
    },
    {
     "name": "stderr",
     "output_type": "stream",
     "text": [
      "\n"
     ]
    },
    {
     "name": "stderr",
     "output_type": "stream",
     "text": [
      "\r",
      "Validating::  92%|█████████▏| 754/819 [01:39<00:08,  7.61it/s]"
     ]
    },
    {
     "name": "stderr",
     "output_type": "stream",
     "text": [
      "\u001b[A"
     ]
    },
    {
     "name": "stderr",
     "output_type": "stream",
     "text": [
      "\n"
     ]
    },
    {
     "name": "stderr",
     "output_type": "stream",
     "text": [
      "\r",
      "Validating::  92%|█████████▏| 755/819 [01:39<00:08,  7.60it/s]"
     ]
    },
    {
     "name": "stderr",
     "output_type": "stream",
     "text": [
      "\u001b[A"
     ]
    },
    {
     "name": "stderr",
     "output_type": "stream",
     "text": [
      "\n"
     ]
    },
    {
     "name": "stderr",
     "output_type": "stream",
     "text": [
      "\r",
      "Validating::  92%|█████████▏| 756/819 [01:39<00:08,  7.59it/s]"
     ]
    },
    {
     "name": "stderr",
     "output_type": "stream",
     "text": [
      "\u001b[A"
     ]
    },
    {
     "name": "stderr",
     "output_type": "stream",
     "text": [
      "\n"
     ]
    },
    {
     "name": "stderr",
     "output_type": "stream",
     "text": [
      "\r",
      "Validating::  92%|█████████▏| 757/819 [01:39<00:08,  7.59it/s]"
     ]
    },
    {
     "name": "stderr",
     "output_type": "stream",
     "text": [
      "\u001b[A"
     ]
    },
    {
     "name": "stderr",
     "output_type": "stream",
     "text": [
      "\n"
     ]
    },
    {
     "name": "stderr",
     "output_type": "stream",
     "text": [
      "\r",
      "Validating::  93%|█████████▎| 758/819 [01:39<00:08,  7.60it/s]"
     ]
    },
    {
     "name": "stderr",
     "output_type": "stream",
     "text": [
      "\u001b[A"
     ]
    },
    {
     "name": "stderr",
     "output_type": "stream",
     "text": [
      "\n"
     ]
    },
    {
     "name": "stderr",
     "output_type": "stream",
     "text": [
      "\r",
      "Validating::  93%|█████████▎| 759/819 [01:39<00:07,  7.60it/s]"
     ]
    },
    {
     "name": "stderr",
     "output_type": "stream",
     "text": [
      "\u001b[A"
     ]
    },
    {
     "name": "stderr",
     "output_type": "stream",
     "text": [
      "\n"
     ]
    },
    {
     "name": "stderr",
     "output_type": "stream",
     "text": [
      "\r",
      "Validating::  93%|█████████▎| 760/819 [01:39<00:07,  7.59it/s]"
     ]
    },
    {
     "name": "stderr",
     "output_type": "stream",
     "text": [
      "\u001b[A"
     ]
    },
    {
     "name": "stderr",
     "output_type": "stream",
     "text": [
      "\n"
     ]
    },
    {
     "name": "stderr",
     "output_type": "stream",
     "text": [
      "\r",
      "Validating::  93%|█████████▎| 761/819 [01:39<00:07,  7.59it/s]"
     ]
    },
    {
     "name": "stderr",
     "output_type": "stream",
     "text": [
      "\u001b[A"
     ]
    },
    {
     "name": "stderr",
     "output_type": "stream",
     "text": [
      "\n"
     ]
    },
    {
     "name": "stderr",
     "output_type": "stream",
     "text": [
      "\r",
      "Validating::  93%|█████████▎| 762/819 [01:40<00:07,  7.59it/s]"
     ]
    },
    {
     "name": "stderr",
     "output_type": "stream",
     "text": [
      "\u001b[A"
     ]
    },
    {
     "name": "stderr",
     "output_type": "stream",
     "text": [
      "\n"
     ]
    },
    {
     "name": "stderr",
     "output_type": "stream",
     "text": [
      "\r",
      "Validating::  93%|█████████▎| 763/819 [01:40<00:07,  7.59it/s]"
     ]
    },
    {
     "name": "stderr",
     "output_type": "stream",
     "text": [
      "\u001b[A"
     ]
    },
    {
     "name": "stderr",
     "output_type": "stream",
     "text": [
      "\n"
     ]
    },
    {
     "name": "stderr",
     "output_type": "stream",
     "text": [
      "\r",
      "Validating::  93%|█████████▎| 764/819 [01:40<00:07,  7.58it/s]"
     ]
    },
    {
     "name": "stderr",
     "output_type": "stream",
     "text": [
      "\u001b[A"
     ]
    },
    {
     "name": "stderr",
     "output_type": "stream",
     "text": [
      "\n"
     ]
    },
    {
     "name": "stderr",
     "output_type": "stream",
     "text": [
      "\r",
      "Validating::  93%|█████████▎| 765/819 [01:40<00:07,  7.59it/s]"
     ]
    },
    {
     "name": "stderr",
     "output_type": "stream",
     "text": [
      "\u001b[A"
     ]
    },
    {
     "name": "stderr",
     "output_type": "stream",
     "text": [
      "\n"
     ]
    },
    {
     "name": "stderr",
     "output_type": "stream",
     "text": [
      "\r",
      "Validating::  94%|█████████▎| 766/819 [01:40<00:06,  7.60it/s]"
     ]
    },
    {
     "name": "stderr",
     "output_type": "stream",
     "text": [
      "\u001b[A"
     ]
    },
    {
     "name": "stderr",
     "output_type": "stream",
     "text": [
      "\n"
     ]
    },
    {
     "name": "stderr",
     "output_type": "stream",
     "text": [
      "\r",
      "Validating::  94%|█████████▎| 767/819 [01:40<00:06,  7.60it/s]"
     ]
    },
    {
     "name": "stderr",
     "output_type": "stream",
     "text": [
      "\u001b[A"
     ]
    },
    {
     "name": "stderr",
     "output_type": "stream",
     "text": [
      "\n"
     ]
    },
    {
     "name": "stderr",
     "output_type": "stream",
     "text": [
      "\r",
      "Validating::  94%|█████████▍| 768/819 [01:40<00:06,  7.60it/s]"
     ]
    },
    {
     "name": "stderr",
     "output_type": "stream",
     "text": [
      "\u001b[A"
     ]
    },
    {
     "name": "stderr",
     "output_type": "stream",
     "text": [
      "\n"
     ]
    },
    {
     "name": "stderr",
     "output_type": "stream",
     "text": [
      "\r",
      "Validating::  94%|█████████▍| 769/819 [01:40<00:06,  7.59it/s]"
     ]
    },
    {
     "name": "stderr",
     "output_type": "stream",
     "text": [
      "\u001b[A"
     ]
    },
    {
     "name": "stderr",
     "output_type": "stream",
     "text": [
      "\n"
     ]
    },
    {
     "name": "stderr",
     "output_type": "stream",
     "text": [
      "\r",
      "Validating::  94%|█████████▍| 770/819 [01:41<00:06,  7.60it/s]"
     ]
    },
    {
     "name": "stderr",
     "output_type": "stream",
     "text": [
      "\u001b[A"
     ]
    },
    {
     "name": "stderr",
     "output_type": "stream",
     "text": [
      "\n"
     ]
    },
    {
     "name": "stderr",
     "output_type": "stream",
     "text": [
      "\r",
      "Validating::  94%|█████████▍| 771/819 [01:41<00:06,  7.60it/s]"
     ]
    },
    {
     "name": "stderr",
     "output_type": "stream",
     "text": [
      "\u001b[A"
     ]
    },
    {
     "name": "stderr",
     "output_type": "stream",
     "text": [
      "\n"
     ]
    },
    {
     "name": "stderr",
     "output_type": "stream",
     "text": [
      "\r",
      "Validating::  94%|█████████▍| 772/819 [01:41<00:06,  7.60it/s]"
     ]
    },
    {
     "name": "stderr",
     "output_type": "stream",
     "text": [
      "\u001b[A"
     ]
    },
    {
     "name": "stderr",
     "output_type": "stream",
     "text": [
      "\n"
     ]
    },
    {
     "name": "stderr",
     "output_type": "stream",
     "text": [
      "\r",
      "Validating::  94%|█████████▍| 773/819 [01:41<00:06,  7.60it/s]"
     ]
    },
    {
     "name": "stderr",
     "output_type": "stream",
     "text": [
      "\u001b[A"
     ]
    },
    {
     "name": "stderr",
     "output_type": "stream",
     "text": [
      "\n"
     ]
    },
    {
     "name": "stderr",
     "output_type": "stream",
     "text": [
      "\r",
      "Validating::  95%|█████████▍| 774/819 [01:41<00:05,  7.61it/s]"
     ]
    },
    {
     "name": "stderr",
     "output_type": "stream",
     "text": [
      "\u001b[A"
     ]
    },
    {
     "name": "stderr",
     "output_type": "stream",
     "text": [
      "\n"
     ]
    },
    {
     "name": "stderr",
     "output_type": "stream",
     "text": [
      "\r",
      "Validating::  95%|█████████▍| 775/819 [01:41<00:05,  7.62it/s]"
     ]
    },
    {
     "name": "stderr",
     "output_type": "stream",
     "text": [
      "\u001b[A"
     ]
    },
    {
     "name": "stderr",
     "output_type": "stream",
     "text": [
      "\n"
     ]
    },
    {
     "name": "stderr",
     "output_type": "stream",
     "text": [
      "\r",
      "Validating::  95%|█████████▍| 776/819 [01:41<00:05,  7.61it/s]"
     ]
    },
    {
     "name": "stderr",
     "output_type": "stream",
     "text": [
      "\u001b[A"
     ]
    },
    {
     "name": "stderr",
     "output_type": "stream",
     "text": [
      "\n"
     ]
    },
    {
     "name": "stderr",
     "output_type": "stream",
     "text": [
      "\r",
      "Validating::  95%|█████████▍| 777/819 [01:42<00:05,  7.61it/s]"
     ]
    },
    {
     "name": "stderr",
     "output_type": "stream",
     "text": [
      "\u001b[A"
     ]
    },
    {
     "name": "stderr",
     "output_type": "stream",
     "text": [
      "\n"
     ]
    },
    {
     "name": "stderr",
     "output_type": "stream",
     "text": [
      "\r",
      "Validating::  95%|█████████▍| 778/819 [01:42<00:05,  7.49it/s]"
     ]
    },
    {
     "name": "stderr",
     "output_type": "stream",
     "text": [
      "\u001b[A"
     ]
    },
    {
     "name": "stderr",
     "output_type": "stream",
     "text": [
      "\n"
     ]
    },
    {
     "name": "stderr",
     "output_type": "stream",
     "text": [
      "\r",
      "Validating::  95%|█████████▌| 779/819 [01:42<00:05,  7.52it/s]"
     ]
    },
    {
     "name": "stderr",
     "output_type": "stream",
     "text": [
      "\u001b[A"
     ]
    },
    {
     "name": "stderr",
     "output_type": "stream",
     "text": [
      "\n"
     ]
    },
    {
     "name": "stderr",
     "output_type": "stream",
     "text": [
      "\r",
      "Validating::  95%|█████████▌| 780/819 [01:42<00:05,  7.54it/s]"
     ]
    },
    {
     "name": "stderr",
     "output_type": "stream",
     "text": [
      "\u001b[A"
     ]
    },
    {
     "name": "stderr",
     "output_type": "stream",
     "text": [
      "\n"
     ]
    },
    {
     "name": "stderr",
     "output_type": "stream",
     "text": [
      "\r",
      "Validating::  95%|█████████▌| 781/819 [01:42<00:05,  7.54it/s]"
     ]
    },
    {
     "name": "stderr",
     "output_type": "stream",
     "text": [
      "\u001b[A"
     ]
    },
    {
     "name": "stderr",
     "output_type": "stream",
     "text": [
      "\n"
     ]
    },
    {
     "name": "stderr",
     "output_type": "stream",
     "text": [
      "\r",
      "Validating::  95%|█████████▌| 782/819 [01:42<00:04,  7.55it/s]"
     ]
    },
    {
     "name": "stderr",
     "output_type": "stream",
     "text": [
      "\u001b[A"
     ]
    },
    {
     "name": "stderr",
     "output_type": "stream",
     "text": [
      "\n"
     ]
    },
    {
     "name": "stderr",
     "output_type": "stream",
     "text": [
      "\r",
      "Validating::  96%|█████████▌| 783/819 [01:42<00:04,  7.57it/s]"
     ]
    },
    {
     "name": "stderr",
     "output_type": "stream",
     "text": [
      "\u001b[A"
     ]
    },
    {
     "name": "stderr",
     "output_type": "stream",
     "text": [
      "\n"
     ]
    },
    {
     "name": "stderr",
     "output_type": "stream",
     "text": [
      "\r",
      "Validating::  96%|█████████▌| 784/819 [01:42<00:04,  7.57it/s]"
     ]
    },
    {
     "name": "stderr",
     "output_type": "stream",
     "text": [
      "\u001b[A"
     ]
    },
    {
     "name": "stderr",
     "output_type": "stream",
     "text": [
      "\n"
     ]
    },
    {
     "name": "stderr",
     "output_type": "stream",
     "text": [
      "\r",
      "Validating::  96%|█████████▌| 785/819 [01:43<00:04,  7.58it/s]"
     ]
    },
    {
     "name": "stderr",
     "output_type": "stream",
     "text": [
      "\u001b[A"
     ]
    },
    {
     "name": "stderr",
     "output_type": "stream",
     "text": [
      "\n"
     ]
    },
    {
     "name": "stderr",
     "output_type": "stream",
     "text": [
      "\r",
      "Validating::  96%|█████████▌| 786/819 [01:43<00:04,  7.57it/s]"
     ]
    },
    {
     "name": "stderr",
     "output_type": "stream",
     "text": [
      "\u001b[A"
     ]
    },
    {
     "name": "stderr",
     "output_type": "stream",
     "text": [
      "\n"
     ]
    },
    {
     "name": "stderr",
     "output_type": "stream",
     "text": [
      "\r",
      "Validating::  96%|█████████▌| 787/819 [01:43<00:04,  7.58it/s]"
     ]
    },
    {
     "name": "stderr",
     "output_type": "stream",
     "text": [
      "\u001b[A"
     ]
    },
    {
     "name": "stderr",
     "output_type": "stream",
     "text": [
      "\n"
     ]
    },
    {
     "name": "stderr",
     "output_type": "stream",
     "text": [
      "\r",
      "Validating::  96%|█████████▌| 788/819 [01:43<00:04,  7.58it/s]"
     ]
    },
    {
     "name": "stderr",
     "output_type": "stream",
     "text": [
      "\u001b[A"
     ]
    },
    {
     "name": "stderr",
     "output_type": "stream",
     "text": [
      "\n"
     ]
    },
    {
     "name": "stderr",
     "output_type": "stream",
     "text": [
      "\r",
      "Validating::  96%|█████████▋| 789/819 [01:43<00:03,  7.59it/s]"
     ]
    },
    {
     "name": "stderr",
     "output_type": "stream",
     "text": [
      "\u001b[A"
     ]
    },
    {
     "name": "stderr",
     "output_type": "stream",
     "text": [
      "\n"
     ]
    },
    {
     "name": "stderr",
     "output_type": "stream",
     "text": [
      "\r",
      "Validating::  96%|█████████▋| 790/819 [01:43<00:03,  7.56it/s]"
     ]
    },
    {
     "name": "stderr",
     "output_type": "stream",
     "text": [
      "\u001b[A"
     ]
    },
    {
     "name": "stderr",
     "output_type": "stream",
     "text": [
      "\n"
     ]
    },
    {
     "name": "stderr",
     "output_type": "stream",
     "text": [
      "\r",
      "Validating::  97%|█████████▋| 791/819 [01:43<00:03,  7.58it/s]"
     ]
    },
    {
     "name": "stderr",
     "output_type": "stream",
     "text": [
      "\u001b[A"
     ]
    },
    {
     "name": "stderr",
     "output_type": "stream",
     "text": [
      "\n"
     ]
    },
    {
     "name": "stderr",
     "output_type": "stream",
     "text": [
      "\r",
      "Validating::  97%|█████████▋| 792/819 [01:44<00:03,  7.60it/s]"
     ]
    },
    {
     "name": "stderr",
     "output_type": "stream",
     "text": [
      "\u001b[A"
     ]
    },
    {
     "name": "stderr",
     "output_type": "stream",
     "text": [
      "\n"
     ]
    },
    {
     "name": "stderr",
     "output_type": "stream",
     "text": [
      "\r",
      "Validating::  97%|█████████▋| 793/819 [01:44<00:03,  7.60it/s]"
     ]
    },
    {
     "name": "stderr",
     "output_type": "stream",
     "text": [
      "\u001b[A"
     ]
    },
    {
     "name": "stderr",
     "output_type": "stream",
     "text": [
      "\n"
     ]
    },
    {
     "name": "stderr",
     "output_type": "stream",
     "text": [
      "\r",
      "Validating::  97%|█████████▋| 794/819 [01:44<00:03,  7.60it/s]"
     ]
    },
    {
     "name": "stderr",
     "output_type": "stream",
     "text": [
      "\u001b[A"
     ]
    },
    {
     "name": "stderr",
     "output_type": "stream",
     "text": [
      "\n"
     ]
    },
    {
     "name": "stderr",
     "output_type": "stream",
     "text": [
      "\r",
      "Validating::  97%|█████████▋| 795/819 [01:44<00:03,  7.60it/s]"
     ]
    },
    {
     "name": "stderr",
     "output_type": "stream",
     "text": [
      "\u001b[A"
     ]
    },
    {
     "name": "stderr",
     "output_type": "stream",
     "text": [
      "\n"
     ]
    },
    {
     "name": "stderr",
     "output_type": "stream",
     "text": [
      "\r",
      "Validating::  97%|█████████▋| 796/819 [01:44<00:03,  7.61it/s]"
     ]
    },
    {
     "name": "stderr",
     "output_type": "stream",
     "text": [
      "\u001b[A"
     ]
    },
    {
     "name": "stderr",
     "output_type": "stream",
     "text": [
      "\n"
     ]
    },
    {
     "name": "stderr",
     "output_type": "stream",
     "text": [
      "\r",
      "Validating::  97%|█████████▋| 797/819 [01:44<00:02,  7.60it/s]"
     ]
    },
    {
     "name": "stderr",
     "output_type": "stream",
     "text": [
      "\u001b[A"
     ]
    },
    {
     "name": "stderr",
     "output_type": "stream",
     "text": [
      "\n"
     ]
    },
    {
     "name": "stderr",
     "output_type": "stream",
     "text": [
      "\r",
      "Validating::  97%|█████████▋| 798/819 [01:44<00:02,  7.60it/s]"
     ]
    },
    {
     "name": "stderr",
     "output_type": "stream",
     "text": [
      "\u001b[A"
     ]
    },
    {
     "name": "stderr",
     "output_type": "stream",
     "text": [
      "\n"
     ]
    },
    {
     "name": "stderr",
     "output_type": "stream",
     "text": [
      "\r",
      "Validating::  98%|█████████▊| 799/819 [01:44<00:02,  7.59it/s]"
     ]
    },
    {
     "name": "stderr",
     "output_type": "stream",
     "text": [
      "\u001b[A"
     ]
    },
    {
     "name": "stderr",
     "output_type": "stream",
     "text": [
      "\n"
     ]
    },
    {
     "name": "stderr",
     "output_type": "stream",
     "text": [
      "\r",
      "Validating::  98%|█████████▊| 800/819 [01:45<00:02,  7.59it/s]"
     ]
    },
    {
     "name": "stderr",
     "output_type": "stream",
     "text": [
      "\u001b[A"
     ]
    },
    {
     "name": "stderr",
     "output_type": "stream",
     "text": [
      "\n"
     ]
    },
    {
     "name": "stderr",
     "output_type": "stream",
     "text": [
      "\r",
      "Validating::  98%|█████████▊| 801/819 [01:45<00:02,  7.60it/s]"
     ]
    },
    {
     "name": "stderr",
     "output_type": "stream",
     "text": [
      "\u001b[A"
     ]
    },
    {
     "name": "stderr",
     "output_type": "stream",
     "text": [
      "\n"
     ]
    },
    {
     "name": "stderr",
     "output_type": "stream",
     "text": [
      "\r",
      "Validating::  98%|█████████▊| 802/819 [01:45<00:02,  7.61it/s]"
     ]
    },
    {
     "name": "stderr",
     "output_type": "stream",
     "text": [
      "\u001b[A"
     ]
    },
    {
     "name": "stderr",
     "output_type": "stream",
     "text": [
      "\n"
     ]
    },
    {
     "name": "stderr",
     "output_type": "stream",
     "text": [
      "\r",
      "Validating::  98%|█████████▊| 803/819 [01:45<00:02,  7.61it/s]"
     ]
    },
    {
     "name": "stderr",
     "output_type": "stream",
     "text": [
      "\u001b[A"
     ]
    },
    {
     "name": "stderr",
     "output_type": "stream",
     "text": [
      "\n"
     ]
    },
    {
     "name": "stderr",
     "output_type": "stream",
     "text": [
      "\r",
      "Validating::  98%|█████████▊| 804/819 [01:45<00:01,  7.60it/s]"
     ]
    },
    {
     "name": "stderr",
     "output_type": "stream",
     "text": [
      "\u001b[A"
     ]
    },
    {
     "name": "stderr",
     "output_type": "stream",
     "text": [
      "\n"
     ]
    },
    {
     "name": "stderr",
     "output_type": "stream",
     "text": [
      "\r",
      "Validating::  98%|█████████▊| 805/819 [01:45<00:01,  7.59it/s]"
     ]
    },
    {
     "name": "stderr",
     "output_type": "stream",
     "text": [
      "\u001b[A"
     ]
    },
    {
     "name": "stderr",
     "output_type": "stream",
     "text": [
      "\n"
     ]
    },
    {
     "name": "stderr",
     "output_type": "stream",
     "text": [
      "\r",
      "Validating::  98%|█████████▊| 806/819 [01:45<00:01,  7.59it/s]"
     ]
    },
    {
     "name": "stderr",
     "output_type": "stream",
     "text": [
      "\u001b[A"
     ]
    },
    {
     "name": "stderr",
     "output_type": "stream",
     "text": [
      "\n"
     ]
    },
    {
     "name": "stderr",
     "output_type": "stream",
     "text": [
      "\r",
      "Validating::  99%|█████████▊| 807/819 [01:46<00:01,  7.59it/s]"
     ]
    },
    {
     "name": "stderr",
     "output_type": "stream",
     "text": [
      "\u001b[A"
     ]
    },
    {
     "name": "stderr",
     "output_type": "stream",
     "text": [
      "\n"
     ]
    },
    {
     "name": "stderr",
     "output_type": "stream",
     "text": [
      "\r",
      "Validating::  99%|█████████▊| 808/819 [01:46<00:01,  7.59it/s]"
     ]
    },
    {
     "name": "stderr",
     "output_type": "stream",
     "text": [
      "\u001b[A"
     ]
    },
    {
     "name": "stderr",
     "output_type": "stream",
     "text": [
      "\n"
     ]
    },
    {
     "name": "stderr",
     "output_type": "stream",
     "text": [
      "\r",
      "Validating::  99%|█████████▉| 809/819 [01:46<00:01,  7.59it/s]"
     ]
    },
    {
     "name": "stderr",
     "output_type": "stream",
     "text": [
      "\u001b[A"
     ]
    },
    {
     "name": "stderr",
     "output_type": "stream",
     "text": [
      "\n"
     ]
    },
    {
     "name": "stderr",
     "output_type": "stream",
     "text": [
      "\r",
      "Validating::  99%|█████████▉| 810/819 [01:46<00:01,  7.59it/s]"
     ]
    },
    {
     "name": "stderr",
     "output_type": "stream",
     "text": [
      "\u001b[A"
     ]
    },
    {
     "name": "stderr",
     "output_type": "stream",
     "text": [
      "\n"
     ]
    },
    {
     "name": "stderr",
     "output_type": "stream",
     "text": [
      "\r",
      "Validating::  99%|█████████▉| 811/819 [01:46<00:01,  7.58it/s]"
     ]
    },
    {
     "name": "stderr",
     "output_type": "stream",
     "text": [
      "\u001b[A"
     ]
    },
    {
     "name": "stderr",
     "output_type": "stream",
     "text": [
      "\n"
     ]
    },
    {
     "name": "stderr",
     "output_type": "stream",
     "text": [
      "\r",
      "Validating::  99%|█████████▉| 812/819 [01:46<00:00,  7.58it/s]"
     ]
    },
    {
     "name": "stderr",
     "output_type": "stream",
     "text": [
      "\u001b[A"
     ]
    },
    {
     "name": "stderr",
     "output_type": "stream",
     "text": [
      "\n"
     ]
    },
    {
     "name": "stderr",
     "output_type": "stream",
     "text": [
      "\r",
      "Validating::  99%|█████████▉| 813/819 [01:46<00:00,  7.58it/s]"
     ]
    },
    {
     "name": "stderr",
     "output_type": "stream",
     "text": [
      "\u001b[A"
     ]
    },
    {
     "name": "stderr",
     "output_type": "stream",
     "text": [
      "\n"
     ]
    },
    {
     "name": "stderr",
     "output_type": "stream",
     "text": [
      "\r",
      "Validating::  99%|█████████▉| 814/819 [01:46<00:00,  7.58it/s]"
     ]
    },
    {
     "name": "stderr",
     "output_type": "stream",
     "text": [
      "\u001b[A"
     ]
    },
    {
     "name": "stderr",
     "output_type": "stream",
     "text": [
      "\n"
     ]
    },
    {
     "name": "stderr",
     "output_type": "stream",
     "text": [
      "\r",
      "Validating:: 100%|█████████▉| 815/819 [01:47<00:00,  7.57it/s]"
     ]
    },
    {
     "name": "stderr",
     "output_type": "stream",
     "text": [
      "\u001b[A"
     ]
    },
    {
     "name": "stderr",
     "output_type": "stream",
     "text": [
      "\n"
     ]
    },
    {
     "name": "stderr",
     "output_type": "stream",
     "text": [
      "\r",
      "Validating:: 100%|█████████▉| 816/819 [01:47<00:00,  7.57it/s]"
     ]
    },
    {
     "name": "stderr",
     "output_type": "stream",
     "text": [
      "\u001b[A"
     ]
    },
    {
     "name": "stderr",
     "output_type": "stream",
     "text": [
      "\n"
     ]
    },
    {
     "name": "stderr",
     "output_type": "stream",
     "text": [
      "\r",
      "Validating:: 100%|█████████▉| 817/819 [01:47<00:00,  7.57it/s]"
     ]
    },
    {
     "name": "stderr",
     "output_type": "stream",
     "text": [
      "\u001b[A"
     ]
    },
    {
     "name": "stderr",
     "output_type": "stream",
     "text": [
      "\n"
     ]
    },
    {
     "name": "stderr",
     "output_type": "stream",
     "text": [
      "\r",
      "Validating:: 100%|█████████▉| 818/819 [01:47<00:00,  7.56it/s]"
     ]
    },
    {
     "name": "stderr",
     "output_type": "stream",
     "text": [
      "\u001b[A"
     ]
    },
    {
     "name": "stderr",
     "output_type": "stream",
     "text": [
      "\n"
     ]
    },
    {
     "name": "stderr",
     "output_type": "stream",
     "text": [
      "\r",
      "                                                              "
     ]
    },
    {
     "name": "stderr",
     "output_type": "stream",
     "text": [
      "\u001b[A"
     ]
    },
    {
     "name": "stderr",
     "output_type": "stream",
     "text": [
      "\r",
      "                                     "
     ]
    },
    {
     "name": "stderr",
     "output_type": "stream",
     "text": [
      "\r"
     ]
    },
    {
     "name": "stderr",
     "output_type": "stream",
     "text": [
      "\r",
      "  0%|          | 0/1 [24:19<?, ?it/s]"
     ]
    },
    {
     "name": "stderr",
     "output_type": "stream",
     "text": [
      "\r",
      "                                     "
     ]
    },
    {
     "name": "stderr",
     "output_type": "stream",
     "text": [
      "\r"
     ]
    },
    {
     "name": "stderr",
     "output_type": "stream",
     "text": [
      "\r",
      "  0%|          | 0/1 [24:19<?, ?it/s]"
     ]
    },
    {
     "name": "stderr",
     "output_type": "stream",
     "text": [
      "\r",
      "100%|██████████| 1/1 [24:19<00:00, 1459.27s/it]"
     ]
    },
    {
     "name": "stderr",
     "output_type": "stream",
     "text": [
      "\r",
      "100%|██████████| 1/1 [24:19<00:00, 1459.27s/it]"
     ]
    },
    {
     "name": "stdout",
     "output_type": "stream",
     "text": [
      "Validation loss: 0.8885382488097027\n",
      "F1 Score (Weighted): 0.5833064505441029\n",
      "Classification report:\n",
      "              precision    recall  f1-score   support\n",
      "\n",
      "           0       0.72      0.59      0.65     11554\n",
      "           1       0.57      0.39      0.47      7799\n",
      "           2       0.49      0.81      0.61      6844\n",
      "\n",
      "    accuracy                           0.59     26197\n",
      "   macro avg       0.59      0.60      0.57     26197\n",
      "weighted avg       0.62      0.59      0.58     26197\n",
      "\n",
      "Confusion matrix:\n",
      "                predicted                  \n",
      "                  neutral positive negative\n",
      "actual neutral       6797     1820     2937\n",
      "       positive      1795     3078     2926\n",
      "       negative       820      495     5529\n",
      "--------------------------------------------------------------\n"
     ]
    },
    {
     "name": "stderr",
     "output_type": "stream",
     "text": [
      "\n"
     ]
    }
   ],
   "source": [
    "for epoch in tqdm(range(1, epochs+1)):\n",
    "    \n",
    "    model.train()\n",
    "    \n",
    "    loss_train_total = 0\n",
    "\n",
    "    progress_bar = tqdm(dataloader_train, desc='Epoch {:1d}'.format(epoch), leave=False, disable=False)\n",
    "    for batch in progress_bar:\n",
    "\n",
    "        model.zero_grad()\n",
    "        \n",
    "        batch = tuple(b.to(device) for b in batch)\n",
    "        \n",
    "        inputs = {'input_ids':      batch[0],\n",
    "                  'attention_mask': batch[1],\n",
    "                  'labels':         batch[2],\n",
    "                 }       \n",
    "\n",
    "        outputs = model(**inputs)\n",
    "        \n",
    "        loss = outputs[0]\n",
    "        loss_train_total += loss.item()\n",
    "        loss.backward()\n",
    "\n",
    "        torch.nn.utils.clip_grad_norm_(model.parameters(), 1.0)\n",
    "\n",
    "        optimizer.step()\n",
    "        scheduler.step()\n",
    "        \n",
    "        progress_bar.set_postfix({'training_loss': '{:.3f}'.format(loss.item()/len(batch))})\n",
    "         \n",
    "        \n",
    "    torch.save(model.state_dict(), f'modelsCleaned-pnn/finetuned_ELECTRA_epoch_{epoch}.model')\n",
    "        \n",
    "    tqdm.write(f'\\nEpoch {epoch}')\n",
    "    \n",
    "    loss_train_avg = loss_train_total/len(dataloader_train)            \n",
    "    tqdm.write(f'Training loss: {loss_train_avg}')\n",
    "    \n",
    "    val_loss, predictions, true_vals = evaluate(dataloader_validation)\n",
    "    val_f1 = f1_score_func(predictions, true_vals)\n",
    "    tqdm.write(f'Validation loss: {val_loss}')\n",
    "    tqdm.write(f'F1 Score (Weighted): {val_f1}')\n",
    "    \n",
    "    preds_flat = np.argmax(predictions, axis=1).flatten()\n",
    "    \n",
    "    print('Classification report:')\n",
    "    print(classification_report(true_vals, preds_flat))\n",
    "    print('Confusion matrix:')\n",
    "    print(pd.DataFrame(confusion_matrix(true_vals, preds_flat),\n",
    "            index = [['actual', 'actual', 'actual'], ['neutral', 'positive', 'negative']],\n",
    "            columns = [['predicted', 'predicted', 'predicted'], ['neutral', 'positive', 'negative']]))\n",
    "    print('--------------------------------------------------------------')"
   ]
  },
  {
   "cell_type": "markdown",
   "id": "c271f1a9",
   "metadata": {
    "gradient": {
     "editing": false,
     "id": "c271f1a9",
     "kernelId": "e8c05c89-6946-4f31-b274-a87286e3e99a"
    }
   },
   "source": [
    "# Evaluate"
   ]
  },
  {
   "cell_type": "code",
   "execution_count": null,
   "id": "1b344990",
   "metadata": {
    "gradient": {
     "editing": false,
     "execution_count": 31,
     "id": "1b344990",
     "kernelId": "e8c05c89-6946-4f31-b274-a87286e3e99a"
    }
   },
   "outputs": [],
   "source": [
    "# model.load_state_dict(torch.load('modelsCleaned/finetuned_ELECTRA_epoch_X.model', map_location=torch.device('cpu')))\n",
    "# _, predictions, true_vals = evaluate(dataloader_validation)\n",
    "\n",
    "preds_flat = np.argmax(predictions, axis=1).flatten()"
   ]
  },
  {
   "cell_type": "code",
   "execution_count": null,
   "id": "52bfb700-f713-4b9b-99c5-318ae4f4d70e",
   "metadata": {
    "collapsed": false,
    "gradient": {
     "editing": false,
     "execution_count": 34,
     "id": "52bfb700-f713-4b9b-99c5-318ae4f4d70e",
     "kernelId": "e8c05c89-6946-4f31-b274-a87286e3e99a",
     "source_hidden": false
    }
   },
   "outputs": [
    {
     "data": {
      "text/plain": [
       "0.5833064505441029"
      ]
     },
     "execution_count": 34,
     "metadata": {},
     "output_type": "execute_result"
    }
   ],
   "source": [
    "f1_score_func(predictions, true_vals)"
   ]
  },
  {
   "cell_type": "code",
   "execution_count": null,
   "id": "9212b3ba",
   "metadata": {
    "gradient": {
     "editing": false,
     "execution_count": 32,
     "id": "9212b3ba",
     "kernelId": "e8c05c89-6946-4f31-b274-a87286e3e99a"
    }
   },
   "outputs": [
    {
     "name": "stdout",
     "output_type": "stream",
     "text": [
      "              precision    recall  f1-score   support\n",
      "\n",
      "           0       0.72      0.59      0.65     11554\n",
      "           1       0.57      0.39      0.47      7799\n",
      "           2       0.49      0.81      0.61      6844\n",
      "\n",
      "    accuracy                           0.59     26197\n",
      "   macro avg       0.59      0.60      0.57     26197\n",
      "weighted avg       0.62      0.59      0.58     26197\n",
      "\n"
     ]
    }
   ],
   "source": [
    "print(classification_report(true_vals, preds_flat))"
   ]
  },
  {
   "cell_type": "code",
   "execution_count": null,
   "id": "9fd2f0b6",
   "metadata": {
    "gradient": {
     "editing": false,
     "execution_count": 33,
     "id": "9fd2f0b6",
     "kernelId": "e8c05c89-6946-4f31-b274-a87286e3e99a"
    }
   },
   "outputs": [
    {
     "data": {
      "text/html": [
       "<div>\n",
       "<style scoped>\n",
       "    .dataframe tbody tr th:only-of-type {\n",
       "        vertical-align: middle;\n",
       "    }\n",
       "\n",
       "    .dataframe tbody tr th {\n",
       "        vertical-align: top;\n",
       "    }\n",
       "\n",
       "    .dataframe thead tr th {\n",
       "        text-align: left;\n",
       "    }\n",
       "</style>\n",
       "<table border=\"1\" class=\"dataframe\">\n",
       "  <thead>\n",
       "    <tr>\n",
       "      <th></th>\n",
       "      <th></th>\n",
       "      <th colspan=\"3\" halign=\"left\">predicted</th>\n",
       "    </tr>\n",
       "    <tr>\n",
       "      <th></th>\n",
       "      <th></th>\n",
       "      <th>neutral</th>\n",
       "      <th>positive</th>\n",
       "      <th>negative</th>\n",
       "    </tr>\n",
       "  </thead>\n",
       "  <tbody>\n",
       "    <tr>\n",
       "      <th rowspan=\"3\" valign=\"top\">actual</th>\n",
       "      <th>neutral</th>\n",
       "      <td>6797</td>\n",
       "      <td>1820</td>\n",
       "      <td>2937</td>\n",
       "    </tr>\n",
       "    <tr>\n",
       "      <th>positive</th>\n",
       "      <td>1795</td>\n",
       "      <td>3078</td>\n",
       "      <td>2926</td>\n",
       "    </tr>\n",
       "    <tr>\n",
       "      <th>negative</th>\n",
       "      <td>820</td>\n",
       "      <td>495</td>\n",
       "      <td>5529</td>\n",
       "    </tr>\n",
       "  </tbody>\n",
       "</table>\n",
       "</div>"
      ],
      "text/plain": [
       "                predicted                  \n",
       "                  neutral positive negative\n",
       "actual neutral       6797     1820     2937\n",
       "       positive      1795     3078     2926\n",
       "       negative       820      495     5529"
      ]
     },
     "execution_count": 33,
     "metadata": {},
     "output_type": "execute_result"
    }
   ],
   "source": [
    "pd.DataFrame(confusion_matrix(true_vals, preds_flat),\n",
    "        index = [['actual', 'actual', 'actual'], ['neutral', 'positive', 'negative']],\n",
    "        columns = [['predicted', 'predicted', 'predicted'], ['neutral', 'positive', 'negative']])"
   ]
  },
  {
   "cell_type": "code",
   "execution_count": null,
   "id": "50c6d852-4073-4f54-b813-0cf111833c05",
   "metadata": {
    "collapsed": false,
    "gradient": {
     "editing": false,
     "id": "50c6d852-4073-4f54-b813-0cf111833c05",
     "kernelId": "e8c05c89-6946-4f31-b274-a87286e3e99a",
     "source_hidden": false
    }
   },
   "outputs": [],
   "source": []
  }
 ],
 "metadata": {
  "kernelspec": {
   "display_name": "venv38twttr",
   "language": "python",
   "name": "venv38twttr"
  },
  "language_info": {
   "codemirror_mode": {
    "name": "ipython",
    "version": 3
   },
   "file_extension": ".py",
   "mimetype": "text/x-python",
   "name": "python",
   "nbconvert_exporter": "python",
   "pygments_lexer": "ipython3",
   "version": "3.8.8"
  }
 },
 "nbformat": 4,
 "nbformat_minor": 5
}
