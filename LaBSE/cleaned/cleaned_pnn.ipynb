{
 "cells": [
  {
   "cell_type": "code",
   "execution_count": null,
   "id": "2f463f36-25a3-41be-bb4f-9cf931b5d466",
   "metadata": {
    "collapsed": false,
    "gradient": {
     "editing": false,
     "id": "2f463f36-25a3-41be-bb4f-9cf931b5d466",
     "kernelId": "ff57d632-a363-4495-82e1-2880b456edaa",
     "source_hidden": false
    }
   },
   "outputs": [
    {
     "name": "stdout",
     "output_type": "stream",
     "text": [
      "Looking in indexes: https://pypi.org/simple, https://pypi.ngc.nvidia.com\r\n"
     ]
    },
    {
     "name": "stdout",
     "output_type": "stream",
     "text": [
      "Collecting ipywidgets\r\n"
     ]
    },
    {
     "name": "stdout",
     "output_type": "stream",
     "text": [
      "  Downloading ipywidgets-7.7.0-py2.py3-none-any.whl (123 kB)\r\n",
      "\u001b[?25l\r",
      "\u001b[K     |██▋                             | 10 kB 18.8 MB/s eta 0:00:01\r",
      "\u001b[K     |█████▎                          | 20 kB 24.3 MB/s eta 0:00:01\r",
      "\u001b[K     |████████                        | 30 kB 22.5 MB/s eta 0:00:01\r",
      "\u001b[K     |██████████▋                     | 40 kB 11.1 MB/s eta 0:00:01\r",
      "\u001b[K     |█████████████▎                  | 51 kB 12.2 MB/s eta 0:00:01\r",
      "\u001b[K     |████████████████                | 61 kB 14.2 MB/s eta 0:00:01\r",
      "\u001b[K     |██████████████████▋             | 71 kB 10.2 MB/s eta 0:00:01\r",
      "\u001b[K     |█████████████████████▎          | 81 kB 8.8 MB/s eta 0:00:01\r",
      "\u001b[K     |████████████████████████        | 92 kB 9.7 MB/s eta 0:00:01\r",
      "\u001b[K     |██████████████████████████▋     | 102 kB 10.6 MB/s eta 0:00:01\r",
      "\u001b[K     |█████████████████████████████▏  | 112 kB 10.6 MB/s eta 0:00:01\r",
      "\u001b[K     |███████████████████████████████▉| 122 kB 10.6 MB/s eta 0:00:01\r",
      "\u001b[K     |████████████████████████████████| 123 kB 10.6 MB/s \r\n"
     ]
    },
    {
     "name": "stdout",
     "output_type": "stream",
     "text": [
      "\u001b[?25hRequirement already satisfied: nbformat>=4.2.0 in /opt/conda/lib/python3.8/site-packages (from ipywidgets) (5.1.3)\r\n"
     ]
    },
    {
     "name": "stdout",
     "output_type": "stream",
     "text": [
      "Collecting jupyterlab-widgets>=1.0.0\r\n",
      "  Downloading jupyterlab_widgets-1.1.0-py3-none-any.whl (245 kB)\r\n",
      "\u001b[?25l\r",
      "\u001b[K     |█▍                              | 10 kB 23.4 MB/s eta 0:00:01\r",
      "\u001b[K     |██▊                             | 20 kB 29.5 MB/s eta 0:00:01\r",
      "\u001b[K     |████                            | 30 kB 36.0 MB/s eta 0:00:01\r",
      "\u001b[K     |█████▍                          | 40 kB 39.4 MB/s eta 0:00:01\r",
      "\u001b[K     |██████▊                         | 51 kB 40.9 MB/s eta 0:00:01\r",
      "\u001b[K     |████████                        | 61 kB 44.1 MB/s eta 0:00:01\r",
      "\u001b[K     |█████████▍                      | 71 kB 26.8 MB/s eta 0:00:01\r",
      "\u001b[K     |██████████▊                     | 81 kB 23.2 MB/s eta 0:00:01\r",
      "\u001b[K     |████████████                    | 92 kB 24.9 MB/s eta 0:00:01\r",
      "\u001b[K     |█████████████▍                  | 102 kB 22.3 MB/s eta 0:00:01\r",
      "\u001b[K     |██████████████▊                 | 112 kB 22.3 MB/s eta 0:00:01\r",
      "\u001b[K     |████████████████                | 122 kB 22.3 MB/s eta 0:00:01\r",
      "\u001b[K     |█████████████████▍              | 133 kB 22.3 MB/s eta 0:00:01\r",
      "\u001b[K     |██████████████████▊             | 143 kB 22.3 MB/s eta 0:00:01\r",
      "\u001b[K     |████████████████████            | 153 kB 22.3 MB/s eta 0:00:01\r",
      "\u001b[K     |█████████████████████▍          | 163 kB 22.3 MB/s eta 0:00:01\r",
      "\u001b[K     |██████████████████████▊         | 174 kB 22.3 MB/s eta 0:00:01\r",
      "\u001b[K     |████████████████████████        | 184 kB 22.3 MB/s eta 0:00:01\r",
      "\u001b[K     |█████████████████████████▍      | 194 kB 22.3 MB/s eta 0:00:01\r",
      "\u001b[K     |██████████████████████████▊     | 204 kB 22.3 MB/s eta 0:00:01\r",
      "\u001b[K     |████████████████████████████    | 215 kB 22.3 MB/s eta 0:00:01\r",
      "\u001b[K     |█████████████████████████████▍  | 225 kB 22.3 MB/s eta 0:00:01\r",
      "\u001b[K     |██████████████████████████████▊ | 235 kB 22.3 MB/s eta 0:00:01\r",
      "\u001b[K     |████████████████████████████████| 245 kB 22.3 MB/s \r\n",
      "\u001b[?25hRequirement already satisfied: ipykernel>=4.5.1 in /opt/conda/lib/python3.8/site-packages (from ipywidgets) (6.9.0)\r\n",
      "Requirement already satisfied: traitlets>=4.3.1 in /opt/conda/lib/python3.8/site-packages (from ipywidgets) (5.1.1)\r\n",
      "Requirement already satisfied: ipython-genutils~=0.2.0 in /opt/conda/lib/python3.8/site-packages (from ipywidgets) (0.2.0)\r\n"
     ]
    },
    {
     "name": "stdout",
     "output_type": "stream",
     "text": [
      "Collecting widgetsnbextension~=3.6.0\r\n",
      "  Downloading widgetsnbextension-3.6.0-py2.py3-none-any.whl (1.6 MB)\r\n",
      "\u001b[?25l\r",
      "\u001b[K     |▏                               | 10 kB 35.1 MB/s eta 0:00:01\r",
      "\u001b[K     |▍                               | 20 kB 45.5 MB/s eta 0:00:01\r",
      "\u001b[K     |▋                               | 30 kB 55.7 MB/s eta 0:00:01\r",
      "\u001b[K     |▉                               | 40 kB 39.6 MB/s eta 0:00:01\r",
      "\u001b[K     |█                               | 51 kB 38.3 MB/s eta 0:00:01\r",
      "\u001b[K     |█▎                              | 61 kB 42.9 MB/s eta 0:00:01\r",
      "\u001b[K     |█▍                              | 71 kB 26.8 MB/s eta 0:00:01\r",
      "\u001b[K     |█▋                              | 81 kB 24.4 MB/s eta 0:00:01\r",
      "\u001b[K     |█▉                              | 92 kB 26.6 MB/s eta 0:00:01\r",
      "\u001b[K     |██                              | 102 kB 26.9 MB/s eta 0:00:01\r",
      "\u001b[K     |██▎                             | 112 kB 26.9 MB/s eta 0:00:01\r",
      "\u001b[K     |██▌                             | 122 kB 26.9 MB/s eta 0:00:01\r",
      "\u001b[K     |██▊                             | 133 kB 26.9 MB/s eta 0:00:01\r",
      "\u001b[K     |██▉                             | 143 kB 26.9 MB/s eta 0:00:01\r",
      "\u001b[K     |███                             | 153 kB 26.9 MB/s eta 0:00:01\r",
      "\u001b[K     |███▎                            | 163 kB 26.9 MB/s eta 0:00:01\r",
      "\u001b[K     |███▌                            | 174 kB 26.9 MB/s eta 0:00:01\r",
      "\u001b[K     |███▊                            | 184 kB 26.9 MB/s eta 0:00:01\r",
      "\u001b[K     |████                            | 194 kB 26.9 MB/s eta 0:00:01\r",
      "\u001b[K     |████                            | 204 kB 26.9 MB/s eta 0:00:01\r",
      "\u001b[K     |████▎                           | 215 kB 26.9 MB/s eta 0:00:01\r",
      "\u001b[K     |████▌                           | 225 kB 26.9 MB/s eta 0:00:01\r",
      "\u001b[K     |████▊                           | 235 kB 26.9 MB/s eta 0:00:01\r",
      "\u001b[K     |█████                           | 245 kB 26.9 MB/s eta 0:00:01\r",
      "\u001b[K     |█████▏                          | 256 kB 26.9 MB/s eta 0:00:01\r",
      "\u001b[K     |█████▍                          | 266 kB 26.9 MB/s eta 0:00:01\r",
      "\u001b[K     |█████▌                          | 276 kB 26.9 MB/s eta 0:00:01\r",
      "\u001b[K     |█████▊                          | 286 kB 26.9 MB/s eta 0:00:01\r",
      "\u001b[K     |██████                          | 296 kB 26.9 MB/s eta 0:00:01\r",
      "\u001b[K     |██████▏                         | 307 kB 26.9 MB/s eta 0:00:01\r",
      "\u001b[K     |██████▍                         | 317 kB 26.9 MB/s eta 0:00:01\r",
      "\u001b[K     |██████▋                         | 327 kB 26.9 MB/s eta 0:00:01\r",
      "\u001b[K     |██████▉                         | 337 kB 26.9 MB/s eta 0:00:01\r",
      "\u001b[K     |███████                         | 348 kB 26.9 MB/s eta 0:00:01\r",
      "\u001b[K     |███████▏                        | 358 kB 26.9 MB/s eta 0:00:01\r",
      "\u001b[K     |███████▍                        | 368 kB 26.9 MB/s eta 0:00:01\r",
      "\u001b[K     |███████▋                        | 378 kB 26.9 MB/s eta 0:00:01\r",
      "\u001b[K     |███████▉                        | 389 kB 26.9 MB/s eta 0:00:01\r",
      "\u001b[K     |████████                        | 399 kB 26.9 MB/s eta 0:00:01\r",
      "\u001b[K     |████████▏                       | 409 kB 26.9 MB/s eta 0:00:01\r",
      "\u001b[K     |████████▍                       | 419 kB 26.9 MB/s eta 0:00:01\r",
      "\u001b[K     |████████▋                       | 430 kB 26.9 MB/s eta 0:00:01\r",
      "\u001b[K     |████████▉                       | 440 kB 26.9 MB/s eta 0:00:01\r",
      "\u001b[K     |█████████                       | 450 kB 26.9 MB/s eta 0:00:01\r",
      "\u001b[K     |█████████▎                      | 460 kB 26.9 MB/s eta 0:00:01\r",
      "\u001b[K     |█████████▌                      | 471 kB 26.9 MB/s eta 0:00:01\r",
      "\u001b[K     |█████████▋                      | 481 kB 26.9 MB/s eta 0:00:01\r",
      "\u001b[K     |█████████▉                      | 491 kB 26.9 MB/s eta 0:00:01\r",
      "\u001b[K     |██████████                      | 501 kB 26.9 MB/s eta 0:00:01"
     ]
    },
    {
     "name": "stdout",
     "output_type": "stream",
     "text": [
      "\r",
      "\u001b[K     |██████████▎                     | 512 kB 26.9 MB/s eta 0:00:01\r",
      "\u001b[K     |██████████▌                     | 522 kB 26.9 MB/s eta 0:00:01\r",
      "\u001b[K     |██████████▊                     | 532 kB 26.9 MB/s eta 0:00:01\r",
      "\u001b[K     |███████████                     | 542 kB 26.9 MB/s eta 0:00:01\r",
      "\u001b[K     |███████████                     | 552 kB 26.9 MB/s eta 0:00:01\r",
      "\u001b[K     |███████████▎                    | 563 kB 26.9 MB/s eta 0:00:01\r",
      "\u001b[K     |███████████▌                    | 573 kB 26.9 MB/s eta 0:00:01\r",
      "\u001b[K     |███████████▊                    | 583 kB 26.9 MB/s eta 0:00:01\r",
      "\u001b[K     |████████████                    | 593 kB 26.9 MB/s eta 0:00:01\r",
      "\u001b[K     |████████████▏                   | 604 kB 26.9 MB/s eta 0:00:01\r",
      "\u001b[K     |████████████▎                   | 614 kB 26.9 MB/s eta 0:00:01\r",
      "\u001b[K     |████████████▌                   | 624 kB 26.9 MB/s eta 0:00:01\r",
      "\u001b[K     |████████████▊                   | 634 kB 26.9 MB/s eta 0:00:01\r",
      "\u001b[K     |█████████████                   | 645 kB 26.9 MB/s eta 0:00:01\r",
      "\u001b[K     |█████████████▏                  | 655 kB 26.9 MB/s eta 0:00:01\r",
      "\u001b[K     |█████████████▍                  | 665 kB 26.9 MB/s eta 0:00:01\r",
      "\u001b[K     |█████████████▋                  | 675 kB 26.9 MB/s eta 0:00:01\r",
      "\u001b[K     |█████████████▊                  | 686 kB 26.9 MB/s eta 0:00:01\r",
      "\u001b[K     |██████████████                  | 696 kB 26.9 MB/s eta 0:00:01\r",
      "\u001b[K     |██████████████▏                 | 706 kB 26.9 MB/s eta 0:00:01\r",
      "\u001b[K     |██████████████▍                 | 716 kB 26.9 MB/s eta 0:00:01\r",
      "\u001b[K     |██████████████▋                 | 727 kB 26.9 MB/s eta 0:00:01\r",
      "\u001b[K     |██████████████▉                 | 737 kB 26.9 MB/s eta 0:00:01\r",
      "\u001b[K     |███████████████                 | 747 kB 26.9 MB/s eta 0:00:01\r",
      "\u001b[K     |███████████████▏                | 757 kB 26.9 MB/s eta 0:00:01\r",
      "\u001b[K     |███████████████▍                | 768 kB 26.9 MB/s eta 0:00:01\r",
      "\u001b[K     |███████████████▋                | 778 kB 26.9 MB/s eta 0:00:01\r",
      "\u001b[K     |███████████████▉                | 788 kB 26.9 MB/s eta 0:00:01\r",
      "\u001b[K     |████████████████                | 798 kB 26.9 MB/s eta 0:00:01\r",
      "\u001b[K     |████████████████▎               | 808 kB 26.9 MB/s eta 0:00:01\r",
      "\u001b[K     |████████████████▍               | 819 kB 26.9 MB/s eta 0:00:01\r",
      "\u001b[K     |████████████████▋               | 829 kB 26.9 MB/s eta 0:00:01\r",
      "\u001b[K     |████████████████▉               | 839 kB 26.9 MB/s eta 0:00:01\r",
      "\u001b[K     |█████████████████               | 849 kB 26.9 MB/s eta 0:00:01\r",
      "\u001b[K     |█████████████████▎              | 860 kB 26.9 MB/s eta 0:00:01\r",
      "\u001b[K     |█████████████████▌              | 870 kB 26.9 MB/s eta 0:00:01\r",
      "\u001b[K     |█████████████████▊              | 880 kB 26.9 MB/s eta 0:00:01\r",
      "\u001b[K     |█████████████████▉              | 890 kB 26.9 MB/s eta 0:00:01\r",
      "\u001b[K     |██████████████████              | 901 kB 26.9 MB/s eta 0:00:01\r",
      "\u001b[K     |██████████████████▎             | 911 kB 26.9 MB/s eta 0:00:01\r",
      "\u001b[K     |██████████████████▌             | 921 kB 26.9 MB/s eta 0:00:01\r",
      "\u001b[K     |██████████████████▊             | 931 kB 26.9 MB/s eta 0:00:01\r",
      "\u001b[K     |███████████████████             | 942 kB 26.9 MB/s eta 0:00:01\r",
      "\u001b[K     |███████████████████             | 952 kB 26.9 MB/s eta 0:00:01\r",
      "\u001b[K     |███████████████████▎            | 962 kB 26.9 MB/s eta 0:00:01\r",
      "\u001b[K     |███████████████████▌            | 972 kB 26.9 MB/s eta 0:00:01\r",
      "\u001b[K     |███████████████████▊            | 983 kB 26.9 MB/s eta 0:00:01\r",
      "\u001b[K     |████████████████████            | 993 kB 26.9 MB/s eta 0:00:01\r",
      "\u001b[K     |████████████████████▏           | 1.0 MB 26.9 MB/s eta 0:00:01\r",
      "\u001b[K     |████████████████████▍           | 1.0 MB 26.9 MB/s eta 0:00:01\r",
      "\u001b[K     |████████████████████▌           | 1.0 MB 26.9 MB/s eta 0:00:01\r",
      "\u001b[K     |████████████████████▊           | 1.0 MB 26.9 MB/s eta 0:00:01\r",
      "\u001b[K     |█████████████████████           | 1.0 MB 26.9 MB/s eta 0:00:01\r",
      "\u001b[K     |█████████████████████▏          | 1.1 MB 26.9 MB/s eta 0:00:01\r",
      "\u001b[K     |█████████████████████▍          | 1.1 MB 26.9 MB/s eta 0:00:01\r",
      "\u001b[K     |█████████████████████▋          | 1.1 MB 26.9 MB/s eta 0:00:01\r",
      "\u001b[K     |█████████████████████▉          | 1.1 MB 26.9 MB/s eta 0:00:01\r",
      "\u001b[K     |██████████████████████          | 1.1 MB 26.9 MB/s eta 0:00:01\r",
      "\u001b[K     |██████████████████████▏         | 1.1 MB 26.9 MB/s eta 0:00:01\r",
      "\u001b[K     |██████████████████████▍         | 1.1 MB 26.9 MB/s eta 0:00:01\r",
      "\u001b[K     |██████████████████████▋         | 1.1 MB 26.9 MB/s eta 0:00:01\r",
      "\u001b[K     |██████████████████████▉         | 1.1 MB 26.9 MB/s eta 0:00:01\r",
      "\u001b[K     |███████████████████████         | 1.1 MB 26.9 MB/s eta 0:00:01\r",
      "\u001b[K     |███████████████████████▏        | 1.2 MB 26.9 MB/s eta 0:00:01\r",
      "\u001b[K     |███████████████████████▍        | 1.2 MB 26.9 MB/s eta 0:00:01\r",
      "\u001b[K     |███████████████████████▋        | 1.2 MB 26.9 MB/s eta 0:00:01\r",
      "\u001b[K     |███████████████████████▉        | 1.2 MB 26.9 MB/s eta 0:00:01\r",
      "\u001b[K     |████████████████████████        | 1.2 MB 26.9 MB/s eta 0:00:01\r",
      "\u001b[K     |████████████████████████▎       | 1.2 MB 26.9 MB/s eta 0:00:01\r",
      "\u001b[K     |████████████████████████▌       | 1.2 MB 26.9 MB/s eta 0:00:01\r",
      "\u001b[K     |████████████████████████▋       | 1.2 MB 26.9 MB/s eta 0:00:01\r",
      "\u001b[K     |████████████████████████▉       | 1.2 MB 26.9 MB/s eta 0:00:01\r",
      "\u001b[K     |█████████████████████████       | 1.2 MB 26.9 MB/s eta 0:00:01\r",
      "\u001b[K     |█████████████████████████▎      | 1.3 MB 26.9 MB/s eta 0:00:01\r",
      "\u001b[K     |█████████████████████████▌      | 1.3 MB 26.9 MB/s eta 0:00:01\r",
      "\u001b[K     |█████████████████████████▊      | 1.3 MB 26.9 MB/s eta 0:00:01\r",
      "\u001b[K     |██████████████████████████      | 1.3 MB 26.9 MB/s eta 0:00:01\r",
      "\u001b[K     |██████████████████████████      | 1.3 MB 26.9 MB/s eta 0:00:01\r",
      "\u001b[K     |██████████████████████████▎     | 1.3 MB 26.9 MB/s eta 0:00:01\r",
      "\u001b[K     |██████████████████████████▌     | 1.3 MB 26.9 MB/s eta 0:00:01\r",
      "\u001b[K     |██████████████████████████▊     | 1.3 MB 26.9 MB/s eta 0:00:01\r",
      "\u001b[K     |███████████████████████████     | 1.3 MB 26.9 MB/s eta 0:00:01\r",
      "\u001b[K     |███████████████████████████▏    | 1.4 MB 26.9 MB/s eta 0:00:01\r",
      "\u001b[K     |███████████████████████████▎    | 1.4 MB 26.9 MB/s eta 0:00:01\r",
      "\u001b[K     |███████████████████████████▌    | 1.4 MB 26.9 MB/s eta 0:00:01\r",
      "\u001b[K     |███████████████████████████▊    | 1.4 MB 26.9 MB/s eta 0:00:01\r",
      "\u001b[K     |████████████████████████████    | 1.4 MB 26.9 MB/s eta 0:00:01\r",
      "\u001b[K     |████████████████████████████▏   | 1.4 MB 26.9 MB/s eta 0:00:01\r",
      "\u001b[K     |████████████████████████████▍   | 1.4 MB 26.9 MB/s eta 0:00:01\r",
      "\u001b[K     |████████████████████████████▋   | 1.4 MB 26.9 MB/s eta 0:00:01\r",
      "\u001b[K     |████████████████████████████▊   | 1.4 MB 26.9 MB/s eta 0:00:01\r",
      "\u001b[K     |█████████████████████████████   | 1.4 MB 26.9 MB/s eta 0:00:01\r",
      "\u001b[K     |█████████████████████████████▏  | 1.5 MB 26.9 MB/s eta 0:00:01\r",
      "\u001b[K     |█████████████████████████████▍  | 1.5 MB 26.9 MB/s eta 0:00:01\r",
      "\u001b[K     |█████████████████████████████▋  | 1.5 MB 26.9 MB/s eta 0:00:01\r",
      "\u001b[K     |█████████████████████████████▉  | 1.5 MB 26.9 MB/s eta 0:00:01\r",
      "\u001b[K     |██████████████████████████████  | 1.5 MB 26.9 MB/s eta 0:00:01\r",
      "\u001b[K     |██████████████████████████████▏ | 1.5 MB 26.9 MB/s eta 0:00:01\r",
      "\u001b[K     |██████████████████████████████▍ | 1.5 MB 26.9 MB/s eta 0:00:01\r",
      "\u001b[K     |██████████████████████████████▋ | 1.5 MB 26.9 MB/s eta 0:00:01\r",
      "\u001b[K     |██████████████████████████████▉ | 1.5 MB 26.9 MB/s eta 0:00:01\r",
      "\u001b[K     |███████████████████████████████ | 1.5 MB 26.9 MB/s eta 0:00:01\r",
      "\u001b[K     |███████████████████████████████▎| 1.6 MB 26.9 MB/s eta 0:00:01\r",
      "\u001b[K     |███████████████████████████████▍| 1.6 MB 26.9 MB/s eta 0:00:01\r",
      "\u001b[K     |███████████████████████████████▋| 1.6 MB 26.9 MB/s eta 0:00:01\r",
      "\u001b[K     |███████████████████████████████▉| 1.6 MB 26.9 MB/s eta 0:00:01\r",
      "\u001b[K     |████████████████████████████████| 1.6 MB 26.9 MB/s \r\n"
     ]
    },
    {
     "name": "stdout",
     "output_type": "stream",
     "text": [
      "\u001b[?25hRequirement already satisfied: ipython>=4.0.0 in /opt/conda/lib/python3.8/site-packages (from ipywidgets) (8.0.1)\r\n",
      "Requirement already satisfied: jupyter-client<8.0 in /opt/conda/lib/python3.8/site-packages (from ipykernel>=4.5.1->ipywidgets) (7.1.2)\r\n",
      "Requirement already satisfied: matplotlib-inline<0.2.0,>=0.1.0 in /opt/conda/lib/python3.8/site-packages (from ipykernel>=4.5.1->ipywidgets) (0.1.3)\r\n",
      "Requirement already satisfied: debugpy<2.0,>=1.0.0 in /opt/conda/lib/python3.8/site-packages (from ipykernel>=4.5.1->ipywidgets) (1.5.1)\r\n",
      "Requirement already satisfied: nest-asyncio in /opt/conda/lib/python3.8/site-packages (from ipykernel>=4.5.1->ipywidgets) (1.5.4)\r\n",
      "Requirement already satisfied: tornado<7.0,>=4.2 in /opt/conda/lib/python3.8/site-packages (from ipykernel>=4.5.1->ipywidgets) (6.1)\r\n"
     ]
    },
    {
     "name": "stdout",
     "output_type": "stream",
     "text": [
      "Requirement already satisfied: stack-data in /opt/conda/lib/python3.8/site-packages (from ipython>=4.0.0->ipywidgets) (0.1.4)\r\n",
      "Requirement already satisfied: pygments in /opt/conda/lib/python3.8/site-packages (from ipython>=4.0.0->ipywidgets) (2.11.2)\r\n",
      "Requirement already satisfied: decorator in /opt/conda/lib/python3.8/site-packages (from ipython>=4.0.0->ipywidgets) (5.1.1)\r\n",
      "Requirement already satisfied: prompt-toolkit!=3.0.0,!=3.0.1,<3.1.0,>=2.0.0 in /opt/conda/lib/python3.8/site-packages (from ipython>=4.0.0->ipywidgets) (3.0.26)\r\n",
      "Requirement already satisfied: pexpect>4.3 in /opt/conda/lib/python3.8/site-packages (from ipython>=4.0.0->ipywidgets) (4.8.0)\r\n",
      "Requirement already satisfied: backcall in /opt/conda/lib/python3.8/site-packages (from ipython>=4.0.0->ipywidgets) (0.2.0)\r\n",
      "Requirement already satisfied: jedi>=0.16 in /opt/conda/lib/python3.8/site-packages (from ipython>=4.0.0->ipywidgets) (0.18.1)\r\n",
      "Requirement already satisfied: pickleshare in /opt/conda/lib/python3.8/site-packages (from ipython>=4.0.0->ipywidgets) (0.7.5)\r\n",
      "Requirement already satisfied: setuptools>=18.5 in /opt/conda/lib/python3.8/site-packages (from ipython>=4.0.0->ipywidgets) (59.5.0)\r\n",
      "Requirement already satisfied: black in /opt/conda/lib/python3.8/site-packages (from ipython>=4.0.0->ipywidgets) (22.1.0)\r\n",
      "Requirement already satisfied: parso<0.9.0,>=0.8.0 in /opt/conda/lib/python3.8/site-packages (from jedi>=0.16->ipython>=4.0.0->ipywidgets) (0.8.3)\r\n"
     ]
    },
    {
     "name": "stdout",
     "output_type": "stream",
     "text": [
      "Requirement already satisfied: entrypoints in /opt/conda/lib/python3.8/site-packages (from jupyter-client<8.0->ipykernel>=4.5.1->ipywidgets) (0.3)\r\n",
      "Requirement already satisfied: jupyter-core>=4.6.0 in /opt/conda/lib/python3.8/site-packages (from jupyter-client<8.0->ipykernel>=4.5.1->ipywidgets) (4.9.1)\r\n",
      "Requirement already satisfied: pyzmq>=13 in /opt/conda/lib/python3.8/site-packages (from jupyter-client<8.0->ipykernel>=4.5.1->ipywidgets) (22.3.0)\r\n",
      "Requirement already satisfied: python-dateutil>=2.1 in /opt/conda/lib/python3.8/site-packages (from jupyter-client<8.0->ipykernel>=4.5.1->ipywidgets) (2.8.2)\r\n",
      "Requirement already satisfied: jsonschema!=2.5.0,>=2.4 in /opt/conda/lib/python3.8/site-packages (from nbformat>=4.2.0->ipywidgets) (4.4.0)\r\n"
     ]
    },
    {
     "name": "stdout",
     "output_type": "stream",
     "text": [
      "Requirement already satisfied: pyrsistent!=0.17.0,!=0.17.1,!=0.17.2,>=0.14.0 in /opt/conda/lib/python3.8/site-packages (from jsonschema!=2.5.0,>=2.4->nbformat>=4.2.0->ipywidgets) (0.18.1)\r\n",
      "Requirement already satisfied: attrs>=17.4.0 in /opt/conda/lib/python3.8/site-packages (from jsonschema!=2.5.0,>=2.4->nbformat>=4.2.0->ipywidgets) (18.2.0)\r\n",
      "Requirement already satisfied: importlib-resources>=1.4.0 in /opt/conda/lib/python3.8/site-packages (from jsonschema!=2.5.0,>=2.4->nbformat>=4.2.0->ipywidgets) (5.4.0)\r\n"
     ]
    },
    {
     "name": "stdout",
     "output_type": "stream",
     "text": [
      "Requirement already satisfied: zipp>=3.1.0 in /opt/conda/lib/python3.8/site-packages (from importlib-resources>=1.4.0->jsonschema!=2.5.0,>=2.4->nbformat>=4.2.0->ipywidgets) (3.7.0)\r\n",
      "Requirement already satisfied: ptyprocess>=0.5 in /opt/conda/lib/python3.8/site-packages (from pexpect>4.3->ipython>=4.0.0->ipywidgets) (0.7.0)\r\n",
      "Requirement already satisfied: wcwidth in /opt/conda/lib/python3.8/site-packages (from prompt-toolkit!=3.0.0,!=3.0.1,<3.1.0,>=2.0.0->ipython>=4.0.0->ipywidgets) (0.2.5)\r\n",
      "Requirement already satisfied: six>=1.5 in /opt/conda/lib/python3.8/site-packages (from python-dateutil>=2.1->jupyter-client<8.0->ipykernel>=4.5.1->ipywidgets) (1.16.0)\r\n"
     ]
    },
    {
     "name": "stdout",
     "output_type": "stream",
     "text": [
      "Requirement already satisfied: notebook>=4.4.1 in /opt/conda/lib/python3.8/site-packages (from widgetsnbextension~=3.6.0->ipywidgets) (6.4.1)\r\n",
      "Requirement already satisfied: argon2-cffi in /opt/conda/lib/python3.8/site-packages (from notebook>=4.4.1->widgetsnbextension~=3.6.0->ipywidgets) (21.3.0)\r\n",
      "Requirement already satisfied: jinja2 in /opt/conda/lib/python3.8/site-packages (from notebook>=4.4.1->widgetsnbextension~=3.6.0->ipywidgets) (3.0.3)\r\n",
      "Requirement already satisfied: prometheus-client in /opt/conda/lib/python3.8/site-packages (from notebook>=4.4.1->widgetsnbextension~=3.6.0->ipywidgets) (0.9.0)\r\n",
      "Requirement already satisfied: Send2Trash>=1.5.0 in /opt/conda/lib/python3.8/site-packages (from notebook>=4.4.1->widgetsnbextension~=3.6.0->ipywidgets) (1.8.0)\r\n",
      "Requirement already satisfied: terminado>=0.8.3 in /opt/conda/lib/python3.8/site-packages (from notebook>=4.4.1->widgetsnbextension~=3.6.0->ipywidgets) (0.13.1)\r\n",
      "Requirement already satisfied: nbconvert in /opt/conda/lib/python3.8/site-packages (from notebook>=4.4.1->widgetsnbextension~=3.6.0->ipywidgets) (6.4.2)\r\n"
     ]
    },
    {
     "name": "stdout",
     "output_type": "stream",
     "text": [
      "Requirement already satisfied: argon2-cffi-bindings in /opt/conda/lib/python3.8/site-packages (from argon2-cffi->notebook>=4.4.1->widgetsnbextension~=3.6.0->ipywidgets) (21.2.0)\r\n"
     ]
    },
    {
     "name": "stdout",
     "output_type": "stream",
     "text": [
      "Requirement already satisfied: cffi>=1.0.1 in /opt/conda/lib/python3.8/site-packages (from argon2-cffi-bindings->argon2-cffi->notebook>=4.4.1->widgetsnbextension~=3.6.0->ipywidgets) (1.15.0)\r\n",
      "Requirement already satisfied: pycparser in /opt/conda/lib/python3.8/site-packages (from cffi>=1.0.1->argon2-cffi-bindings->argon2-cffi->notebook>=4.4.1->widgetsnbextension~=3.6.0->ipywidgets) (2.21)\r\n",
      "Requirement already satisfied: typing-extensions>=3.10.0.0 in /opt/conda/lib/python3.8/site-packages (from black->ipython>=4.0.0->ipywidgets) (4.0.1)\r\n",
      "Requirement already satisfied: tomli>=1.1.0 in /opt/conda/lib/python3.8/site-packages (from black->ipython>=4.0.0->ipywidgets) (2.0.1)\r\n",
      "Requirement already satisfied: platformdirs>=2 in /opt/conda/lib/python3.8/site-packages (from black->ipython>=4.0.0->ipywidgets) (2.4.1)\r\n",
      "Requirement already satisfied: mypy-extensions>=0.4.3 in /opt/conda/lib/python3.8/site-packages (from black->ipython>=4.0.0->ipywidgets) (0.4.3)\r\n",
      "Requirement already satisfied: click>=8.0.0 in /opt/conda/lib/python3.8/site-packages (from black->ipython>=4.0.0->ipywidgets) (8.0.3)\r\n",
      "Requirement already satisfied: pathspec>=0.9.0 in /opt/conda/lib/python3.8/site-packages (from black->ipython>=4.0.0->ipywidgets) (0.9.0)\r\n"
     ]
    },
    {
     "name": "stdout",
     "output_type": "stream",
     "text": [
      "Requirement already satisfied: MarkupSafe>=2.0 in /opt/conda/lib/python3.8/site-packages (from jinja2->notebook>=4.4.1->widgetsnbextension~=3.6.0->ipywidgets) (2.0.1)\r\n"
     ]
    },
    {
     "name": "stdout",
     "output_type": "stream",
     "text": [
      "Requirement already satisfied: pandocfilters>=1.4.1 in /opt/conda/lib/python3.8/site-packages (from nbconvert->notebook>=4.4.1->widgetsnbextension~=3.6.0->ipywidgets) (1.5.0)\r\n",
      "Requirement already satisfied: jupyterlab-pygments in /opt/conda/lib/python3.8/site-packages (from nbconvert->notebook>=4.4.1->widgetsnbextension~=3.6.0->ipywidgets) (0.1.2)\r\n",
      "Requirement already satisfied: bleach in /opt/conda/lib/python3.8/site-packages (from nbconvert->notebook>=4.4.1->widgetsnbextension~=3.6.0->ipywidgets) (4.1.0)\r\n",
      "Requirement already satisfied: nbclient<0.6.0,>=0.5.0 in /opt/conda/lib/python3.8/site-packages (from nbconvert->notebook>=4.4.1->widgetsnbextension~=3.6.0->ipywidgets) (0.5.11)\r\n",
      "Requirement already satisfied: defusedxml in /opt/conda/lib/python3.8/site-packages (from nbconvert->notebook>=4.4.1->widgetsnbextension~=3.6.0->ipywidgets) (0.7.1)\r\n",
      "Requirement already satisfied: testpath in /opt/conda/lib/python3.8/site-packages (from nbconvert->notebook>=4.4.1->widgetsnbextension~=3.6.0->ipywidgets) (0.5.0)\r\n",
      "Requirement already satisfied: mistune<2,>=0.8.1 in /opt/conda/lib/python3.8/site-packages (from nbconvert->notebook>=4.4.1->widgetsnbextension~=3.6.0->ipywidgets) (0.8.4)\r\n"
     ]
    },
    {
     "name": "stdout",
     "output_type": "stream",
     "text": [
      "Requirement already satisfied: webencodings in /opt/conda/lib/python3.8/site-packages (from bleach->nbconvert->notebook>=4.4.1->widgetsnbextension~=3.6.0->ipywidgets) (0.5.1)\r\n",
      "Requirement already satisfied: packaging in /opt/conda/lib/python3.8/site-packages (from bleach->nbconvert->notebook>=4.4.1->widgetsnbextension~=3.6.0->ipywidgets) (21.3)\r\n"
     ]
    },
    {
     "name": "stdout",
     "output_type": "stream",
     "text": [
      "Requirement already satisfied: pyparsing!=3.0.5,>=2.0.2 in /opt/conda/lib/python3.8/site-packages (from packaging->bleach->nbconvert->notebook>=4.4.1->widgetsnbextension~=3.6.0->ipywidgets) (3.0.7)\r\n",
      "Requirement already satisfied: pure-eval in /opt/conda/lib/python3.8/site-packages (from stack-data->ipython>=4.0.0->ipywidgets) (0.2.2)\r\n",
      "Requirement already satisfied: executing in /opt/conda/lib/python3.8/site-packages (from stack-data->ipython>=4.0.0->ipywidgets) (0.8.2)\r\n",
      "Requirement already satisfied: asttokens in /opt/conda/lib/python3.8/site-packages (from stack-data->ipython>=4.0.0->ipywidgets) (2.0.5)\r\n"
     ]
    },
    {
     "name": "stdout",
     "output_type": "stream",
     "text": [
      "Installing collected packages: widgetsnbextension, jupyterlab-widgets, ipywidgets\r\n"
     ]
    },
    {
     "name": "stdout",
     "output_type": "stream",
     "text": [
      "Successfully installed ipywidgets-7.7.0 jupyterlab-widgets-1.1.0 widgetsnbextension-3.6.0\r\n",
      "\u001b[33mWARNING: Running pip as the 'root' user can result in broken permissions and conflicting behaviour with the system package manager. It is recommended to use a virtual environment instead: https://pip.pypa.io/warnings/venv\u001b[0m\r\n"
     ]
    }
   ],
   "source": [
    "!pip install ipywidgets"
   ]
  },
  {
   "cell_type": "code",
   "execution_count": null,
   "id": "92966072-c119-46f4-83b6-73d50924b7fc",
   "metadata": {
    "collapsed": false,
    "gradient": {
     "editing": false,
     "id": "92966072-c119-46f4-83b6-73d50924b7fc",
     "kernelId": "ff57d632-a363-4495-82e1-2880b456edaa",
     "source_hidden": false
    }
   },
   "outputs": [
    {
     "name": "stdout",
     "output_type": "stream",
     "text": [
      "Looking in indexes: https://pypi.org/simple, https://pypi.ngc.nvidia.com\r\n"
     ]
    },
    {
     "name": "stdout",
     "output_type": "stream",
     "text": [
      "Collecting seaborn\r\n"
     ]
    },
    {
     "name": "stdout",
     "output_type": "stream",
     "text": [
      "  Downloading seaborn-0.11.2-py3-none-any.whl (292 kB)\r\n",
      "\u001b[?25l\r",
      "\u001b[K     |█▏                              | 10 kB 25.5 MB/s eta 0:00:01\r",
      "\u001b[K     |██▎                             | 20 kB 32.4 MB/s eta 0:00:01\r",
      "\u001b[K     |███▍                            | 30 kB 25.9 MB/s eta 0:00:01\r",
      "\u001b[K     |████▌                           | 40 kB 16.1 MB/s eta 0:00:01\r",
      "\u001b[K     |█████▋                          | 51 kB 14.3 MB/s eta 0:00:01\r",
      "\u001b[K     |██████▊                         | 61 kB 16.4 MB/s eta 0:00:01\r",
      "\u001b[K     |███████▉                        | 71 kB 16.9 MB/s eta 0:00:01\r",
      "\u001b[K     |█████████                       | 81 kB 15.8 MB/s eta 0:00:01\r",
      "\u001b[K     |██████████                      | 92 kB 16.6 MB/s eta 0:00:01\r",
      "\u001b[K     |███████████▏                    | 102 kB 17.9 MB/s eta 0:00:01\r",
      "\u001b[K     |████████████▎                   | 112 kB 17.9 MB/s eta 0:00:01\r",
      "\u001b[K     |█████████████▍                  | 122 kB 17.9 MB/s eta 0:00:01\r",
      "\u001b[K     |██████████████▌                 | 133 kB 17.9 MB/s eta 0:00:01\r",
      "\u001b[K     |███████████████▊                | 143 kB 17.9 MB/s eta 0:00:01\r",
      "\u001b[K     |████████████████▉               | 153 kB 17.9 MB/s eta 0:00:01\r",
      "\u001b[K     |██████████████████              | 163 kB 17.9 MB/s eta 0:00:01\r",
      "\u001b[K     |███████████████████             | 174 kB 17.9 MB/s eta 0:00:01\r",
      "\u001b[K     |████████████████████▏           | 184 kB 17.9 MB/s eta 0:00:01\r",
      "\u001b[K     |█████████████████████▎          | 194 kB 17.9 MB/s eta 0:00:01\r",
      "\u001b[K     |██████████████████████▍         | 204 kB 17.9 MB/s eta 0:00:01\r",
      "\u001b[K     |███████████████████████▌        | 215 kB 17.9 MB/s eta 0:00:01\r",
      "\u001b[K     |████████████████████████▋       | 225 kB 17.9 MB/s eta 0:00:01\r",
      "\u001b[K     |█████████████████████████▊      | 235 kB 17.9 MB/s eta 0:00:01\r",
      "\u001b[K     |██████████████████████████▉     | 245 kB 17.9 MB/s eta 0:00:01\r",
      "\u001b[K     |████████████████████████████    | 256 kB 17.9 MB/s eta 0:00:01\r",
      "\u001b[K     |█████████████████████████████   | 266 kB 17.9 MB/s eta 0:00:01\r",
      "\u001b[K     |██████████████████████████████▏ | 276 kB 17.9 MB/s eta 0:00:01\r",
      "\u001b[K     |███████████████████████████████▍| 286 kB 17.9 MB/s eta 0:00:01\r",
      "\u001b[K     |████████████████████████████████| 292 kB 17.9 MB/s \r\n",
      "\u001b[?25hRequirement already satisfied: matplotlib>=2.2 in /opt/conda/lib/python3.8/site-packages (from seaborn) (3.5.1)\r\n",
      "Requirement already satisfied: pandas>=0.23 in /opt/conda/lib/python3.8/site-packages (from seaborn) (1.3.5)\r\n",
      "Requirement already satisfied: numpy>=1.15 in /opt/conda/lib/python3.8/site-packages (from seaborn) (1.22.2)\r\n",
      "Requirement already satisfied: scipy>=1.0 in /opt/conda/lib/python3.8/site-packages (from seaborn) (1.6.3)\r\n",
      "Requirement already satisfied: fonttools>=4.22.0 in /opt/conda/lib/python3.8/site-packages (from matplotlib>=2.2->seaborn) (4.29.1)\r\n",
      "Requirement already satisfied: cycler>=0.10 in /opt/conda/lib/python3.8/site-packages (from matplotlib>=2.2->seaborn) (0.11.0)\r\n",
      "Requirement already satisfied: pillow>=6.2.0 in /opt/conda/lib/python3.8/site-packages (from matplotlib>=2.2->seaborn) (9.0.0)\r\n",
      "Requirement already satisfied: packaging>=20.0 in /opt/conda/lib/python3.8/site-packages (from matplotlib>=2.2->seaborn) (21.3)\r\n",
      "Requirement already satisfied: pyparsing>=2.2.1 in /opt/conda/lib/python3.8/site-packages (from matplotlib>=2.2->seaborn) (3.0.7)\r\n",
      "Requirement already satisfied: python-dateutil>=2.7 in /opt/conda/lib/python3.8/site-packages (from matplotlib>=2.2->seaborn) (2.8.2)\r\n"
     ]
    },
    {
     "name": "stdout",
     "output_type": "stream",
     "text": [
      "Requirement already satisfied: kiwisolver>=1.0.1 in /opt/conda/lib/python3.8/site-packages (from matplotlib>=2.2->seaborn) (1.3.2)\r\n"
     ]
    },
    {
     "name": "stdout",
     "output_type": "stream",
     "text": [
      "Requirement already satisfied: pytz>=2017.3 in /opt/conda/lib/python3.8/site-packages (from pandas>=0.23->seaborn) (2021.3)\r\n",
      "Requirement already satisfied: six>=1.5 in /opt/conda/lib/python3.8/site-packages (from python-dateutil>=2.7->matplotlib>=2.2->seaborn) (1.16.0)\r\n"
     ]
    },
    {
     "name": "stdout",
     "output_type": "stream",
     "text": [
      "Installing collected packages: seaborn\r\n"
     ]
    },
    {
     "name": "stdout",
     "output_type": "stream",
     "text": [
      "Successfully installed seaborn-0.11.2\r\n",
      "\u001b[33mWARNING: Running pip as the 'root' user can result in broken permissions and conflicting behaviour with the system package manager. It is recommended to use a virtual environment instead: https://pip.pypa.io/warnings/venv\u001b[0m\r\n"
     ]
    }
   ],
   "source": [
    "!pip install seaborn"
   ]
  },
  {
   "cell_type": "code",
   "execution_count": null,
   "id": "f032765d-4974-441e-8b95-2a03332fb147",
   "metadata": {
    "collapsed": false,
    "gradient": {
     "editing": false,
     "id": "f032765d-4974-441e-8b95-2a03332fb147",
     "kernelId": "ff57d632-a363-4495-82e1-2880b456edaa",
     "source_hidden": false
    }
   },
   "outputs": [
    {
     "name": "stdout",
     "output_type": "stream",
     "text": [
      "Looking in indexes: https://pypi.org/simple, https://pypi.ngc.nvidia.com\r\n"
     ]
    },
    {
     "name": "stdout",
     "output_type": "stream",
     "text": [
      "Collecting transformers\r\n"
     ]
    },
    {
     "name": "stdout",
     "output_type": "stream",
     "text": [
      "  Downloading transformers-4.17.0-py3-none-any.whl (3.8 MB)\r\n",
      "\u001b[?25l\r",
      "\u001b[K     |                                | 10 kB 25.2 MB/s eta 0:00:01\r",
      "\u001b[K     |▏                               | 20 kB 28.7 MB/s eta 0:00:01\r",
      "\u001b[K     |▎                               | 30 kB 28.0 MB/s eta 0:00:01\r",
      "\u001b[K     |▍                               | 40 kB 14.7 MB/s eta 0:00:01\r",
      "\u001b[K     |▍                               | 51 kB 10.4 MB/s eta 0:00:01\r",
      "\u001b[K     |▌                               | 61 kB 12.1 MB/s eta 0:00:01\r",
      "\u001b[K     |▋                               | 71 kB 13.7 MB/s eta 0:00:01\r",
      "\u001b[K     |▊                               | 81 kB 14.1 MB/s eta 0:00:01\r",
      "\u001b[K     |▊                               | 92 kB 15.5 MB/s eta 0:00:01\r",
      "\u001b[K     |▉                               | 102 kB 15.3 MB/s eta 0:00:01\r",
      "\u001b[K     |█                               | 112 kB 15.3 MB/s eta 0:00:01\r",
      "\u001b[K     |█                               | 122 kB 15.3 MB/s eta 0:00:01\r",
      "\u001b[K     |█▏                              | 133 kB 15.3 MB/s eta 0:00:01\r",
      "\u001b[K     |█▏                              | 143 kB 15.3 MB/s eta 0:00:01\r",
      "\u001b[K     |█▎                              | 153 kB 15.3 MB/s eta 0:00:01\r",
      "\u001b[K     |█▍                              | 163 kB 15.3 MB/s eta 0:00:01\r",
      "\u001b[K     |█▌                              | 174 kB 15.3 MB/s eta 0:00:01\r",
      "\u001b[K     |█▌                              | 184 kB 15.3 MB/s eta 0:00:01\r",
      "\u001b[K     |█▋                              | 194 kB 15.3 MB/s eta 0:00:01\r",
      "\u001b[K     |█▊                              | 204 kB 15.3 MB/s eta 0:00:01\r",
      "\u001b[K     |█▉                              | 215 kB 15.3 MB/s eta 0:00:01\r",
      "\u001b[K     |█▉                              | 225 kB 15.3 MB/s eta 0:00:01\r",
      "\u001b[K     |██                              | 235 kB 15.3 MB/s eta 0:00:01\r",
      "\u001b[K     |██                              | 245 kB 15.3 MB/s eta 0:00:01\r",
      "\u001b[K     |██▏                             | 256 kB 15.3 MB/s eta 0:00:01\r",
      "\u001b[K     |██▎                             | 266 kB 15.3 MB/s eta 0:00:01\r",
      "\u001b[K     |██▎                             | 276 kB 15.3 MB/s eta 0:00:01\r",
      "\u001b[K     |██▍                             | 286 kB 15.3 MB/s eta 0:00:01\r",
      "\u001b[K     |██▌                             | 296 kB 15.3 MB/s eta 0:00:01\r",
      "\u001b[K     |██▋                             | 307 kB 15.3 MB/s eta 0:00:01\r",
      "\u001b[K     |██▋                             | 317 kB 15.3 MB/s eta 0:00:01\r",
      "\u001b[K     |██▊                             | 327 kB 15.3 MB/s eta 0:00:01\r",
      "\u001b[K     |██▉                             | 337 kB 15.3 MB/s eta 0:00:01\r",
      "\u001b[K     |███                             | 348 kB 15.3 MB/s eta 0:00:01\r",
      "\u001b[K     |███                             | 358 kB 15.3 MB/s eta 0:00:01\r",
      "\u001b[K     |███                             | 368 kB 15.3 MB/s eta 0:00:01\r",
      "\u001b[K     |███▏                            | 378 kB 15.3 MB/s eta 0:00:01\r",
      "\u001b[K     |███▎                            | 389 kB 15.3 MB/s eta 0:00:01\r",
      "\u001b[K     |███▍                            | 399 kB 15.3 MB/s eta 0:00:01\r",
      "\u001b[K     |███▍                            | 409 kB 15.3 MB/s eta 0:00:01\r",
      "\u001b[K     |███▌                            | 419 kB 15.3 MB/s eta 0:00:01\r",
      "\u001b[K     |███▋                            | 430 kB 15.3 MB/s eta 0:00:01\r",
      "\u001b[K     |███▊                            | 440 kB 15.3 MB/s eta 0:00:01\r",
      "\u001b[K     |███▊                            | 450 kB 15.3 MB/s eta 0:00:01\r",
      "\u001b[K     |███▉                            | 460 kB 15.3 MB/s eta 0:00:01\r",
      "\u001b[K     |████                            | 471 kB 15.3 MB/s eta 0:00:01\r",
      "\u001b[K     |████                            | 481 kB 15.3 MB/s eta 0:00:01\r",
      "\u001b[K     |████                            | 491 kB 15.3 MB/s eta 0:00:01\r",
      "\u001b[K     |████▏                           | 501 kB 15.3 MB/s eta 0:00:01\r",
      "\u001b[K     |████▎                           | 512 kB 15.3 MB/s eta 0:00:01\r",
      "\u001b[K     |████▍                           | 522 kB 15.3 MB/s eta 0:00:01\r",
      "\u001b[K     |████▌                           | 532 kB 15.3 MB/s eta 0:00:01\r",
      "\u001b[K     |████▌                           | 542 kB 15.3 MB/s eta 0:00:01\r",
      "\u001b[K     |████▋                           | 552 kB 15.3 MB/s eta 0:00:01\r",
      "\u001b[K     |████▊                           | 563 kB 15.3 MB/s eta 0:00:01\r",
      "\u001b[K     |████▉                           | 573 kB 15.3 MB/s eta 0:00:01\r",
      "\u001b[K     |████▉                           | 583 kB 15.3 MB/s eta 0:00:01\r",
      "\u001b[K     |█████                           | 593 kB 15.3 MB/s eta 0:00:01\r",
      "\u001b[K     |█████                           | 604 kB 15.3 MB/s eta 0:00:01\r",
      "\u001b[K     |█████▏                          | 614 kB 15.3 MB/s eta 0:00:01\r",
      "\u001b[K     |█████▎                          | 624 kB 15.3 MB/s eta 0:00:01\r",
      "\u001b[K     |█████▎                          | 634 kB 15.3 MB/s eta 0:00:01\r",
      "\u001b[K     |█████▍                          | 645 kB 15.3 MB/s eta 0:00:01\r",
      "\u001b[K     |█████▌                          | 655 kB 15.3 MB/s eta 0:00:01\r",
      "\u001b[K     |█████▋                          | 665 kB 15.3 MB/s eta 0:00:01\r",
      "\u001b[K     |█████▋                          | 675 kB 15.3 MB/s eta 0:00:01\r",
      "\u001b[K     |█████▊                          | 686 kB 15.3 MB/s eta 0:00:01\r",
      "\u001b[K     |█████▉                          | 696 kB 15.3 MB/s eta 0:00:01\r",
      "\u001b[K     |██████                          | 706 kB 15.3 MB/s eta 0:00:01\r",
      "\u001b[K     |██████                          | 716 kB 15.3 MB/s eta 0:00:01\r",
      "\u001b[K     |██████                          | 727 kB 15.3 MB/s eta 0:00:01"
     ]
    },
    {
     "name": "stdout",
     "output_type": "stream",
     "text": [
      "\r",
      "\u001b[K     |██████▏                         | 737 kB 15.3 MB/s eta 0:00:01\r",
      "\u001b[K     |██████▎                         | 747 kB 15.3 MB/s eta 0:00:01\r",
      "\u001b[K     |██████▍                         | 757 kB 15.3 MB/s eta 0:00:01\r",
      "\u001b[K     |██████▍                         | 768 kB 15.3 MB/s eta 0:00:01\r",
      "\u001b[K     |██████▌                         | 778 kB 15.3 MB/s eta 0:00:01\r",
      "\u001b[K     |██████▋                         | 788 kB 15.3 MB/s eta 0:00:01\r",
      "\u001b[K     |██████▊                         | 798 kB 15.3 MB/s eta 0:00:01\r",
      "\u001b[K     |██████▊                         | 808 kB 15.3 MB/s eta 0:00:01\r",
      "\u001b[K     |██████▉                         | 819 kB 15.3 MB/s eta 0:00:01\r",
      "\u001b[K     |███████                         | 829 kB 15.3 MB/s eta 0:00:01\r",
      "\u001b[K     |███████                         | 839 kB 15.3 MB/s eta 0:00:01\r",
      "\u001b[K     |███████                         | 849 kB 15.3 MB/s eta 0:00:01\r",
      "\u001b[K     |███████▏                        | 860 kB 15.3 MB/s eta 0:00:01\r",
      "\u001b[K     |███████▎                        | 870 kB 15.3 MB/s eta 0:00:01\r",
      "\u001b[K     |███████▍                        | 880 kB 15.3 MB/s eta 0:00:01\r",
      "\u001b[K     |███████▌                        | 890 kB 15.3 MB/s eta 0:00:01\r",
      "\u001b[K     |███████▌                        | 901 kB 15.3 MB/s eta 0:00:01\r",
      "\u001b[K     |███████▋                        | 911 kB 15.3 MB/s eta 0:00:01\r",
      "\u001b[K     |███████▊                        | 921 kB 15.3 MB/s eta 0:00:01\r",
      "\u001b[K     |███████▉                        | 931 kB 15.3 MB/s eta 0:00:01\r",
      "\u001b[K     |███████▉                        | 942 kB 15.3 MB/s eta 0:00:01\r",
      "\u001b[K     |████████                        | 952 kB 15.3 MB/s eta 0:00:01\r",
      "\u001b[K     |████████                        | 962 kB 15.3 MB/s eta 0:00:01\r",
      "\u001b[K     |████████▏                       | 972 kB 15.3 MB/s eta 0:00:01\r",
      "\u001b[K     |████████▏                       | 983 kB 15.3 MB/s eta 0:00:01\r",
      "\u001b[K     |████████▎                       | 993 kB 15.3 MB/s eta 0:00:01\r",
      "\u001b[K     |████████▍                       | 1.0 MB 15.3 MB/s eta 0:00:01\r",
      "\u001b[K     |████████▌                       | 1.0 MB 15.3 MB/s eta 0:00:01\r",
      "\u001b[K     |████████▋                       | 1.0 MB 15.3 MB/s eta 0:00:01\r",
      "\u001b[K     |████████▋                       | 1.0 MB 15.3 MB/s eta 0:00:01\r",
      "\u001b[K     |████████▊                       | 1.0 MB 15.3 MB/s eta 0:00:01\r",
      "\u001b[K     |████████▉                       | 1.1 MB 15.3 MB/s eta 0:00:01\r",
      "\u001b[K     |█████████                       | 1.1 MB 15.3 MB/s eta 0:00:01\r",
      "\u001b[K     |█████████                       | 1.1 MB 15.3 MB/s eta 0:00:01\r",
      "\u001b[K     |█████████                       | 1.1 MB 15.3 MB/s eta 0:00:01\r",
      "\u001b[K     |█████████▏                      | 1.1 MB 15.3 MB/s eta 0:00:01\r",
      "\u001b[K     |█████████▎                      | 1.1 MB 15.3 MB/s eta 0:00:01\r",
      "\u001b[K     |█████████▍                      | 1.1 MB 15.3 MB/s eta 0:00:01\r",
      "\u001b[K     |█████████▍                      | 1.1 MB 15.3 MB/s eta 0:00:01\r",
      "\u001b[K     |█████████▌                      | 1.1 MB 15.3 MB/s eta 0:00:01\r",
      "\u001b[K     |█████████▋                      | 1.1 MB 15.3 MB/s eta 0:00:01\r",
      "\u001b[K     |█████████▊                      | 1.2 MB 15.3 MB/s eta 0:00:01\r",
      "\u001b[K     |█████████▊                      | 1.2 MB 15.3 MB/s eta 0:00:01\r",
      "\u001b[K     |█████████▉                      | 1.2 MB 15.3 MB/s eta 0:00:01\r",
      "\u001b[K     |██████████                      | 1.2 MB 15.3 MB/s eta 0:00:01\r",
      "\u001b[K     |██████████                      | 1.2 MB 15.3 MB/s eta 0:00:01\r",
      "\u001b[K     |██████████                      | 1.2 MB 15.3 MB/s eta 0:00:01\r",
      "\u001b[K     |██████████▏                     | 1.2 MB 15.3 MB/s eta 0:00:01\r",
      "\u001b[K     |██████████▎                     | 1.2 MB 15.3 MB/s eta 0:00:01\r",
      "\u001b[K     |██████████▍                     | 1.2 MB 15.3 MB/s eta 0:00:01\r",
      "\u001b[K     |██████████▌                     | 1.2 MB 15.3 MB/s eta 0:00:01\r",
      "\u001b[K     |██████████▌                     | 1.3 MB 15.3 MB/s eta 0:00:01\r",
      "\u001b[K     |██████████▋                     | 1.3 MB 15.3 MB/s eta 0:00:01\r",
      "\u001b[K     |██████████▊                     | 1.3 MB 15.3 MB/s eta 0:00:01\r",
      "\u001b[K     |██████████▉                     | 1.3 MB 15.3 MB/s eta 0:00:01\r",
      "\u001b[K     |██████████▉                     | 1.3 MB 15.3 MB/s eta 0:00:01\r",
      "\u001b[K     |███████████                     | 1.3 MB 15.3 MB/s eta 0:00:01\r",
      "\u001b[K     |███████████                     | 1.3 MB 15.3 MB/s eta 0:00:01\r",
      "\u001b[K     |███████████▏                    | 1.3 MB 15.3 MB/s eta 0:00:01\r",
      "\u001b[K     |███████████▏                    | 1.3 MB 15.3 MB/s eta 0:00:01\r",
      "\u001b[K     |███████████▎                    | 1.4 MB 15.3 MB/s eta 0:00:01\r",
      "\u001b[K     |███████████▍                    | 1.4 MB 15.3 MB/s eta 0:00:01\r",
      "\u001b[K     |███████████▌                    | 1.4 MB 15.3 MB/s eta 0:00:01\r",
      "\u001b[K     |███████████▋                    | 1.4 MB 15.3 MB/s eta 0:00:01\r",
      "\u001b[K     |███████████▋                    | 1.4 MB 15.3 MB/s eta 0:00:01\r",
      "\u001b[K     |███████████▊                    | 1.4 MB 15.3 MB/s eta 0:00:01\r",
      "\u001b[K     |███████████▉                    | 1.4 MB 15.3 MB/s eta 0:00:01\r",
      "\u001b[K     |████████████                    | 1.4 MB 15.3 MB/s eta 0:00:01\r",
      "\u001b[K     |████████████                    | 1.4 MB 15.3 MB/s eta 0:00:01\r",
      "\u001b[K     |████████████                    | 1.4 MB 15.3 MB/s eta 0:00:01\r",
      "\u001b[K     |████████████▏                   | 1.5 MB 15.3 MB/s eta 0:00:01\r",
      "\u001b[K     |████████████▎                   | 1.5 MB 15.3 MB/s eta 0:00:01\r",
      "\u001b[K     |████████████▎                   | 1.5 MB 15.3 MB/s eta 0:00:01\r",
      "\u001b[K     |████████████▍                   | 1.5 MB 15.3 MB/s eta 0:00:01\r",
      "\u001b[K     |████████████▌                   | 1.5 MB 15.3 MB/s eta 0:00:01\r",
      "\u001b[K     |████████████▋                   | 1.5 MB 15.3 MB/s eta 0:00:01\r",
      "\u001b[K     |████████████▊                   | 1.5 MB 15.3 MB/s eta 0:00:01\r",
      "\u001b[K     |████████████▊                   | 1.5 MB 15.3 MB/s eta 0:00:01\r",
      "\u001b[K     |████████████▉                   | 1.5 MB 15.3 MB/s eta 0:00:01\r",
      "\u001b[K     |█████████████                   | 1.5 MB 15.3 MB/s eta 0:00:01\r",
      "\u001b[K     |█████████████                   | 1.6 MB 15.3 MB/s eta 0:00:01\r",
      "\u001b[K     |█████████████                   | 1.6 MB 15.3 MB/s eta 0:00:01\r",
      "\u001b[K     |█████████████▏                  | 1.6 MB 15.3 MB/s eta 0:00:01\r",
      "\u001b[K     |█████████████▎                  | 1.6 MB 15.3 MB/s eta 0:00:01\r",
      "\u001b[K     |█████████████▍                  | 1.6 MB 15.3 MB/s eta 0:00:01\r",
      "\u001b[K     |█████████████▌                  | 1.6 MB 15.3 MB/s eta 0:00:01\r",
      "\u001b[K     |█████████████▌                  | 1.6 MB 15.3 MB/s eta 0:00:01\r",
      "\u001b[K     |█████████████▋                  | 1.6 MB 15.3 MB/s eta 0:00:01\r",
      "\u001b[K     |█████████████▊                  | 1.6 MB 15.3 MB/s eta 0:00:01\r",
      "\u001b[K     |█████████████▉                  | 1.6 MB 15.3 MB/s eta 0:00:01\r",
      "\u001b[K     |█████████████▉                  | 1.7 MB 15.3 MB/s eta 0:00:01\r",
      "\u001b[K     |██████████████                  | 1.7 MB 15.3 MB/s eta 0:00:01\r",
      "\u001b[K     |██████████████                  | 1.7 MB 15.3 MB/s eta 0:00:01\r",
      "\u001b[K     |██████████████▏                 | 1.7 MB 15.3 MB/s eta 0:00:01\r",
      "\u001b[K     |██████████████▏                 | 1.7 MB 15.3 MB/s eta 0:00:01\r",
      "\u001b[K     |██████████████▎                 | 1.7 MB 15.3 MB/s eta 0:00:01\r",
      "\u001b[K     |██████████████▍                 | 1.7 MB 15.3 MB/s eta 0:00:01\r",
      "\u001b[K     |██████████████▌                 | 1.7 MB 15.3 MB/s eta 0:00:01\r",
      "\u001b[K     |██████████████▋                 | 1.7 MB 15.3 MB/s eta 0:00:01\r",
      "\u001b[K     |██████████████▋                 | 1.8 MB 15.3 MB/s eta 0:00:01\r",
      "\u001b[K     |██████████████▊                 | 1.8 MB 15.3 MB/s eta 0:00:01\r",
      "\u001b[K     |██████████████▉                 | 1.8 MB 15.3 MB/s eta 0:00:01\r",
      "\u001b[K     |███████████████                 | 1.8 MB 15.3 MB/s eta 0:00:01\r",
      "\u001b[K     |███████████████                 | 1.8 MB 15.3 MB/s eta 0:00:01\r",
      "\u001b[K     |███████████████                 | 1.8 MB 15.3 MB/s eta 0:00:01\r",
      "\u001b[K     |███████████████▏                | 1.8 MB 15.3 MB/s eta 0:00:01\r",
      "\u001b[K     |███████████████▎                | 1.8 MB 15.3 MB/s eta 0:00:01\r",
      "\u001b[K     |███████████████▎                | 1.8 MB 15.3 MB/s eta 0:00:01\r",
      "\u001b[K     |███████████████▍                | 1.8 MB 15.3 MB/s eta 0:00:01\r",
      "\u001b[K     |███████████████▌                | 1.9 MB 15.3 MB/s eta 0:00:01\r",
      "\u001b[K     |███████████████▋                | 1.9 MB 15.3 MB/s eta 0:00:01"
     ]
    },
    {
     "name": "stdout",
     "output_type": "stream",
     "text": [
      "\r",
      "\u001b[K     |███████████████▊                | 1.9 MB 15.3 MB/s eta 0:00:01\r",
      "\u001b[K     |███████████████▊                | 1.9 MB 15.3 MB/s eta 0:00:01\r",
      "\u001b[K     |███████████████▉                | 1.9 MB 15.3 MB/s eta 0:00:01\r",
      "\u001b[K     |████████████████                | 1.9 MB 15.3 MB/s eta 0:00:01\r",
      "\u001b[K     |████████████████                | 1.9 MB 15.3 MB/s eta 0:00:01\r",
      "\u001b[K     |████████████████                | 1.9 MB 15.3 MB/s eta 0:00:01\r",
      "\u001b[K     |████████████████▏               | 1.9 MB 15.3 MB/s eta 0:00:01\r",
      "\u001b[K     |████████████████▎               | 1.9 MB 15.3 MB/s eta 0:00:01\r",
      "\u001b[K     |████████████████▍               | 2.0 MB 15.3 MB/s eta 0:00:01\r",
      "\u001b[K     |████████████████▍               | 2.0 MB 15.3 MB/s eta 0:00:01\r",
      "\u001b[K     |████████████████▌               | 2.0 MB 15.3 MB/s eta 0:00:01\r",
      "\u001b[K     |████████████████▋               | 2.0 MB 15.3 MB/s eta 0:00:01\r",
      "\u001b[K     |████████████████▊               | 2.0 MB 15.3 MB/s eta 0:00:01\r",
      "\u001b[K     |████████████████▉               | 2.0 MB 15.3 MB/s eta 0:00:01\r",
      "\u001b[K     |████████████████▉               | 2.0 MB 15.3 MB/s eta 0:00:01\r",
      "\u001b[K     |█████████████████               | 2.0 MB 15.3 MB/s eta 0:00:01\r",
      "\u001b[K     |█████████████████               | 2.0 MB 15.3 MB/s eta 0:00:01\r",
      "\u001b[K     |█████████████████▏              | 2.0 MB 15.3 MB/s eta 0:00:01\r",
      "\u001b[K     |█████████████████▏              | 2.1 MB 15.3 MB/s eta 0:00:01\r",
      "\u001b[K     |█████████████████▎              | 2.1 MB 15.3 MB/s eta 0:00:01\r",
      "\u001b[K     |█████████████████▍              | 2.1 MB 15.3 MB/s eta 0:00:01\r",
      "\u001b[K     |█████████████████▌              | 2.1 MB 15.3 MB/s eta 0:00:01\r",
      "\u001b[K     |█████████████████▋              | 2.1 MB 15.3 MB/s eta 0:00:01\r",
      "\u001b[K     |█████████████████▋              | 2.1 MB 15.3 MB/s eta 0:00:01\r",
      "\u001b[K     |█████████████████▊              | 2.1 MB 15.3 MB/s eta 0:00:01\r",
      "\u001b[K     |█████████████████▉              | 2.1 MB 15.3 MB/s eta 0:00:01\r",
      "\u001b[K     |██████████████████              | 2.1 MB 15.3 MB/s eta 0:00:01\r",
      "\u001b[K     |██████████████████              | 2.2 MB 15.3 MB/s eta 0:00:01\r",
      "\u001b[K     |██████████████████              | 2.2 MB 15.3 MB/s eta 0:00:01\r",
      "\u001b[K     |██████████████████▏             | 2.2 MB 15.3 MB/s eta 0:00:01\r",
      "\u001b[K     |██████████████████▎             | 2.2 MB 15.3 MB/s eta 0:00:01\r",
      "\u001b[K     |██████████████████▎             | 2.2 MB 15.3 MB/s eta 0:00:01\r",
      "\u001b[K     |██████████████████▍             | 2.2 MB 15.3 MB/s eta 0:00:01\r",
      "\u001b[K     |██████████████████▌             | 2.2 MB 15.3 MB/s eta 0:00:01\r",
      "\u001b[K     |██████████████████▋             | 2.2 MB 15.3 MB/s eta 0:00:01\r",
      "\u001b[K     |██████████████████▊             | 2.2 MB 15.3 MB/s eta 0:00:01\r",
      "\u001b[K     |██████████████████▊             | 2.2 MB 15.3 MB/s eta 0:00:01\r",
      "\u001b[K     |██████████████████▉             | 2.3 MB 15.3 MB/s eta 0:00:01\r",
      "\u001b[K     |███████████████████             | 2.3 MB 15.3 MB/s eta 0:00:01\r",
      "\u001b[K     |███████████████████             | 2.3 MB 15.3 MB/s eta 0:00:01\r",
      "\u001b[K     |███████████████████             | 2.3 MB 15.3 MB/s eta 0:00:01\r",
      "\u001b[K     |███████████████████▏            | 2.3 MB 15.3 MB/s eta 0:00:01\r",
      "\u001b[K     |███████████████████▎            | 2.3 MB 15.3 MB/s eta 0:00:01\r",
      "\u001b[K     |███████████████████▍            | 2.3 MB 15.3 MB/s eta 0:00:01\r",
      "\u001b[K     |███████████████████▍            | 2.3 MB 15.3 MB/s eta 0:00:01\r",
      "\u001b[K     |███████████████████▌            | 2.3 MB 15.3 MB/s eta 0:00:01\r",
      "\u001b[K     |███████████████████▋            | 2.3 MB 15.3 MB/s eta 0:00:01\r",
      "\u001b[K     |███████████████████▊            | 2.4 MB 15.3 MB/s eta 0:00:01\r",
      "\u001b[K     |███████████████████▉            | 2.4 MB 15.3 MB/s eta 0:00:01\r",
      "\u001b[K     |███████████████████▉            | 2.4 MB 15.3 MB/s eta 0:00:01\r",
      "\u001b[K     |████████████████████            | 2.4 MB 15.3 MB/s eta 0:00:01\r",
      "\u001b[K     |████████████████████            | 2.4 MB 15.3 MB/s eta 0:00:01\r",
      "\u001b[K     |████████████████████▏           | 2.4 MB 15.3 MB/s eta 0:00:01\r",
      "\u001b[K     |████████████████████▏           | 2.4 MB 15.3 MB/s eta 0:00:01\r",
      "\u001b[K     |████████████████████▎           | 2.4 MB 15.3 MB/s eta 0:00:01\r",
      "\u001b[K     |████████████████████▍           | 2.4 MB 15.3 MB/s eta 0:00:01\r",
      "\u001b[K     |████████████████████▌           | 2.4 MB 15.3 MB/s eta 0:00:01\r",
      "\u001b[K     |████████████████████▌           | 2.5 MB 15.3 MB/s eta 0:00:01\r",
      "\u001b[K     |████████████████████▋           | 2.5 MB 15.3 MB/s eta 0:00:01\r",
      "\u001b[K     |████████████████████▊           | 2.5 MB 15.3 MB/s eta 0:00:01\r",
      "\u001b[K     |████████████████████▉           | 2.5 MB 15.3 MB/s eta 0:00:01\r",
      "\u001b[K     |█████████████████████           | 2.5 MB 15.3 MB/s eta 0:00:01\r",
      "\u001b[K     |█████████████████████           | 2.5 MB 15.3 MB/s eta 0:00:01\r",
      "\u001b[K     |█████████████████████           | 2.5 MB 15.3 MB/s eta 0:00:01\r",
      "\u001b[K     |█████████████████████▏          | 2.5 MB 15.3 MB/s eta 0:00:01\r",
      "\u001b[K     |█████████████████████▎          | 2.5 MB 15.3 MB/s eta 0:00:01\r",
      "\u001b[K     |█████████████████████▎          | 2.5 MB 15.3 MB/s eta 0:00:01\r",
      "\u001b[K     |█████████████████████▍          | 2.6 MB 15.3 MB/s eta 0:00:01\r",
      "\u001b[K     |█████████████████████▌          | 2.6 MB 15.3 MB/s eta 0:00:01\r",
      "\u001b[K     |█████████████████████▋          | 2.6 MB 15.3 MB/s eta 0:00:01\r",
      "\u001b[K     |█████████████████████▋          | 2.6 MB 15.3 MB/s eta 0:00:01\r",
      "\u001b[K     |█████████████████████▊          | 2.6 MB 15.3 MB/s eta 0:00:01\r",
      "\u001b[K     |█████████████████████▉          | 2.6 MB 15.3 MB/s eta 0:00:01\r",
      "\u001b[K     |██████████████████████          | 2.6 MB 15.3 MB/s eta 0:00:01\r",
      "\u001b[K     |██████████████████████          | 2.6 MB 15.3 MB/s eta 0:00:01\r",
      "\u001b[K     |██████████████████████          | 2.6 MB 15.3 MB/s eta 0:00:01\r",
      "\u001b[K     |██████████████████████▏         | 2.7 MB 15.3 MB/s eta 0:00:01\r",
      "\u001b[K     |██████████████████████▎         | 2.7 MB 15.3 MB/s eta 0:00:01\r",
      "\u001b[K     |██████████████████████▍         | 2.7 MB 15.3 MB/s eta 0:00:01\r",
      "\u001b[K     |██████████████████████▍         | 2.7 MB 15.3 MB/s eta 0:00:01\r",
      "\u001b[K     |██████████████████████▌         | 2.7 MB 15.3 MB/s eta 0:00:01\r",
      "\u001b[K     |██████████████████████▋         | 2.7 MB 15.3 MB/s eta 0:00:01\r",
      "\u001b[K     |██████████████████████▊         | 2.7 MB 15.3 MB/s eta 0:00:01\r",
      "\u001b[K     |██████████████████████▉         | 2.7 MB 15.3 MB/s eta 0:00:01\r",
      "\u001b[K     |██████████████████████▉         | 2.7 MB 15.3 MB/s eta 0:00:01\r",
      "\u001b[K     |███████████████████████         | 2.7 MB 15.3 MB/s eta 0:00:01\r",
      "\u001b[K     |███████████████████████         | 2.8 MB 15.3 MB/s eta 0:00:01\r",
      "\u001b[K     |███████████████████████▏        | 2.8 MB 15.3 MB/s eta 0:00:01\r",
      "\u001b[K     |███████████████████████▏        | 2.8 MB 15.3 MB/s eta 0:00:01\r",
      "\u001b[K     |███████████████████████▎        | 2.8 MB 15.3 MB/s eta 0:00:01\r",
      "\u001b[K     |███████████████████████▍        | 2.8 MB 15.3 MB/s eta 0:00:01\r",
      "\u001b[K     |███████████████████████▌        | 2.8 MB 15.3 MB/s eta 0:00:01\r",
      "\u001b[K     |███████████████████████▌        | 2.8 MB 15.3 MB/s eta 0:00:01\r",
      "\u001b[K     |███████████████████████▋        | 2.8 MB 15.3 MB/s eta 0:00:01\r",
      "\u001b[K     |███████████████████████▊        | 2.8 MB 15.3 MB/s eta 0:00:01\r",
      "\u001b[K     |███████████████████████▉        | 2.8 MB 15.3 MB/s eta 0:00:01\r",
      "\u001b[K     |████████████████████████        | 2.9 MB 15.3 MB/s eta 0:00:01\r",
      "\u001b[K     |████████████████████████        | 2.9 MB 15.3 MB/s eta 0:00:01\r",
      "\u001b[K     |████████████████████████        | 2.9 MB 15.3 MB/s eta 0:00:01\r",
      "\u001b[K     |████████████████████████▏       | 2.9 MB 15.3 MB/s eta 0:00:01\r",
      "\u001b[K     |████████████████████████▎       | 2.9 MB 15.3 MB/s eta 0:00:01\r",
      "\u001b[K     |████████████████████████▎       | 2.9 MB 15.3 MB/s eta 0:00:01\r",
      "\u001b[K     |████████████████████████▍       | 2.9 MB 15.3 MB/s eta 0:00:01\r",
      "\u001b[K     |████████████████████████▌       | 2.9 MB 15.3 MB/s eta 0:00:01\r",
      "\u001b[K     |████████████████████████▋       | 2.9 MB 15.3 MB/s eta 0:00:01\r",
      "\u001b[K     |████████████████████████▋       | 2.9 MB 15.3 MB/s eta 0:00:01\r",
      "\u001b[K     |████████████████████████▊       | 3.0 MB 15.3 MB/s eta 0:00:01\r",
      "\u001b[K     |████████████████████████▉       | 3.0 MB 15.3 MB/s eta 0:00:01\r",
      "\u001b[K     |█████████████████████████       | 3.0 MB 15.3 MB/s eta 0:00:01\r",
      "\u001b[K     |█████████████████████████       | 3.0 MB 15.3 MB/s eta 0:00:01\r",
      "\u001b[K     |█████████████████████████       | 3.0 MB 15.3 MB/s eta 0:00:01\r",
      "\u001b[K     |█████████████████████████▏      | 3.0 MB 15.3 MB/s eta 0:00:01\r",
      "\u001b[K     |█████████████████████████▎      | 3.0 MB 15.3 MB/s eta 0:00:01\r",
      "\u001b[K     |█████████████████████████▍      | 3.0 MB 15.3 MB/s eta 0:00:01\r",
      "\u001b[K     |█████████████████████████▍      | 3.0 MB 15.3 MB/s eta 0:00:01\r",
      "\u001b[K     |█████████████████████████▌      | 3.1 MB 15.3 MB/s eta 0:00:01\r",
      "\u001b[K     |█████████████████████████▋      | 3.1 MB 15.3 MB/s eta 0:00:01\r",
      "\u001b[K     |█████████████████████████▊      | 3.1 MB 15.3 MB/s eta 0:00:01\r",
      "\u001b[K     |█████████████████████████▊      | 3.1 MB 15.3 MB/s eta 0:00:01\r",
      "\u001b[K     |█████████████████████████▉      | 3.1 MB 15.3 MB/s eta 0:00:01\r",
      "\u001b[K     |██████████████████████████      | 3.1 MB 15.3 MB/s eta 0:00:01"
     ]
    },
    {
     "name": "stdout",
     "output_type": "stream",
     "text": [
      "\r",
      "\u001b[K     |██████████████████████████      | 3.1 MB 15.3 MB/s eta 0:00:01\r",
      "\u001b[K     |██████████████████████████▏     | 3.1 MB 15.3 MB/s eta 0:00:01\r",
      "\u001b[K     |██████████████████████████▏     | 3.1 MB 15.3 MB/s eta 0:00:01\r",
      "\u001b[K     |██████████████████████████▎     | 3.1 MB 15.3 MB/s eta 0:00:01\r",
      "\u001b[K     |██████████████████████████▍     | 3.2 MB 15.3 MB/s eta 0:00:01\r",
      "\u001b[K     |██████████████████████████▌     | 3.2 MB 15.3 MB/s eta 0:00:01\r",
      "\u001b[K     |██████████████████████████▌     | 3.2 MB 15.3 MB/s eta 0:00:01\r",
      "\u001b[K     |██████████████████████████▋     | 3.2 MB 15.3 MB/s eta 0:00:01\r",
      "\u001b[K     |██████████████████████████▊     | 3.2 MB 15.3 MB/s eta 0:00:01\r",
      "\u001b[K     |██████████████████████████▉     | 3.2 MB 15.3 MB/s eta 0:00:01\r",
      "\u001b[K     |███████████████████████████     | 3.2 MB 15.3 MB/s eta 0:00:01\r",
      "\u001b[K     |███████████████████████████     | 3.2 MB 15.3 MB/s eta 0:00:01\r",
      "\u001b[K     |███████████████████████████     | 3.2 MB 15.3 MB/s eta 0:00:01\r",
      "\u001b[K     |███████████████████████████▏    | 3.2 MB 15.3 MB/s eta 0:00:01\r",
      "\u001b[K     |███████████████████████████▎    | 3.3 MB 15.3 MB/s eta 0:00:01\r",
      "\u001b[K     |███████████████████████████▎    | 3.3 MB 15.3 MB/s eta 0:00:01\r",
      "\u001b[K     |███████████████████████████▍    | 3.3 MB 15.3 MB/s eta 0:00:01\r",
      "\u001b[K     |███████████████████████████▌    | 3.3 MB 15.3 MB/s eta 0:00:01\r",
      "\u001b[K     |███████████████████████████▋    | 3.3 MB 15.3 MB/s eta 0:00:01\r",
      "\u001b[K     |███████████████████████████▋    | 3.3 MB 15.3 MB/s eta 0:00:01\r",
      "\u001b[K     |███████████████████████████▊    | 3.3 MB 15.3 MB/s eta 0:00:01\r",
      "\u001b[K     |███████████████████████████▉    | 3.3 MB 15.3 MB/s eta 0:00:01\r",
      "\u001b[K     |████████████████████████████    | 3.3 MB 15.3 MB/s eta 0:00:01\r",
      "\u001b[K     |████████████████████████████    | 3.3 MB 15.3 MB/s eta 0:00:01\r",
      "\u001b[K     |████████████████████████████    | 3.4 MB 15.3 MB/s eta 0:00:01\r",
      "\u001b[K     |████████████████████████████▏   | 3.4 MB 15.3 MB/s eta 0:00:01\r",
      "\u001b[K     |████████████████████████████▎   | 3.4 MB 15.3 MB/s eta 0:00:01\r",
      "\u001b[K     |████████████████████████████▍   | 3.4 MB 15.3 MB/s eta 0:00:01\r",
      "\u001b[K     |████████████████████████████▍   | 3.4 MB 15.3 MB/s eta 0:00:01\r",
      "\u001b[K     |████████████████████████████▌   | 3.4 MB 15.3 MB/s eta 0:00:01\r",
      "\u001b[K     |████████████████████████████▋   | 3.4 MB 15.3 MB/s eta 0:00:01\r",
      "\u001b[K     |████████████████████████████▊   | 3.4 MB 15.3 MB/s eta 0:00:01\r",
      "\u001b[K     |████████████████████████████▊   | 3.4 MB 15.3 MB/s eta 0:00:01\r",
      "\u001b[K     |████████████████████████████▉   | 3.5 MB 15.3 MB/s eta 0:00:01\r",
      "\u001b[K     |█████████████████████████████   | 3.5 MB 15.3 MB/s eta 0:00:01\r",
      "\u001b[K     |█████████████████████████████   | 3.5 MB 15.3 MB/s eta 0:00:01\r",
      "\u001b[K     |█████████████████████████████▏  | 3.5 MB 15.3 MB/s eta 0:00:01\r",
      "\u001b[K     |█████████████████████████████▏  | 3.5 MB 15.3 MB/s eta 0:00:01\r",
      "\u001b[K     |█████████████████████████████▎  | 3.5 MB 15.3 MB/s eta 0:00:01\r",
      "\u001b[K     |█████████████████████████████▍  | 3.5 MB 15.3 MB/s eta 0:00:01\r",
      "\u001b[K     |█████████████████████████████▌  | 3.5 MB 15.3 MB/s eta 0:00:01\r",
      "\u001b[K     |█████████████████████████████▌  | 3.5 MB 15.3 MB/s eta 0:00:01\r",
      "\u001b[K     |█████████████████████████████▋  | 3.5 MB 15.3 MB/s eta 0:00:01\r",
      "\u001b[K     |█████████████████████████████▊  | 3.6 MB 15.3 MB/s eta 0:00:01\r",
      "\u001b[K     |█████████████████████████████▉  | 3.6 MB 15.3 MB/s eta 0:00:01\r",
      "\u001b[K     |█████████████████████████████▉  | 3.6 MB 15.3 MB/s eta 0:00:01\r",
      "\u001b[K     |██████████████████████████████  | 3.6 MB 15.3 MB/s eta 0:00:01\r",
      "\u001b[K     |██████████████████████████████  | 3.6 MB 15.3 MB/s eta 0:00:01\r",
      "\u001b[K     |██████████████████████████████▏ | 3.6 MB 15.3 MB/s eta 0:00:01\r",
      "\u001b[K     |██████████████████████████████▎ | 3.6 MB 15.3 MB/s eta 0:00:01\r",
      "\u001b[K     |██████████████████████████████▎ | 3.6 MB 15.3 MB/s eta 0:00:01\r",
      "\u001b[K     |██████████████████████████████▍ | 3.6 MB 15.3 MB/s eta 0:00:01\r",
      "\u001b[K     |██████████████████████████████▌ | 3.6 MB 15.3 MB/s eta 0:00:01\r",
      "\u001b[K     |██████████████████████████████▋ | 3.7 MB 15.3 MB/s eta 0:00:01\r",
      "\u001b[K     |██████████████████████████████▋ | 3.7 MB 15.3 MB/s eta 0:00:01\r",
      "\u001b[K     |██████████████████████████████▊ | 3.7 MB 15.3 MB/s eta 0:00:01\r",
      "\u001b[K     |██████████████████████████████▉ | 3.7 MB 15.3 MB/s eta 0:00:01\r",
      "\u001b[K     |███████████████████████████████ | 3.7 MB 15.3 MB/s eta 0:00:01\r",
      "\u001b[K     |███████████████████████████████ | 3.7 MB 15.3 MB/s eta 0:00:01\r",
      "\u001b[K     |███████████████████████████████ | 3.7 MB 15.3 MB/s eta 0:00:01\r",
      "\u001b[K     |███████████████████████████████▏| 3.7 MB 15.3 MB/s eta 0:00:01\r",
      "\u001b[K     |███████████████████████████████▎| 3.7 MB 15.3 MB/s eta 0:00:01\r",
      "\u001b[K     |███████████████████████████████▍| 3.7 MB 15.3 MB/s eta 0:00:01\r",
      "\u001b[K     |███████████████████████████████▍| 3.8 MB 15.3 MB/s eta 0:00:01\r",
      "\u001b[K     |███████████████████████████████▌| 3.8 MB 15.3 MB/s eta 0:00:01\r",
      "\u001b[K     |███████████████████████████████▋| 3.8 MB 15.3 MB/s eta 0:00:01\r",
      "\u001b[K     |███████████████████████████████▊| 3.8 MB 15.3 MB/s eta 0:00:01\r",
      "\u001b[K     |███████████████████████████████▊| 3.8 MB 15.3 MB/s eta 0:00:01\r",
      "\u001b[K     |███████████████████████████████▉| 3.8 MB 15.3 MB/s eta 0:00:01\r",
      "\u001b[K     |████████████████████████████████| 3.8 MB 15.3 MB/s eta 0:00:01\r",
      "\u001b[K     |████████████████████████████████| 3.8 MB 15.3 MB/s \r\n"
     ]
    },
    {
     "name": "stdout",
     "output_type": "stream",
     "text": [
      "\u001b[?25hRequirement already satisfied: requests in /opt/conda/lib/python3.8/site-packages (from transformers) (2.26.0)\r\n",
      "Requirement already satisfied: sacremoses in /opt/conda/lib/python3.8/site-packages (from transformers) (0.0.47)\r\n",
      "Requirement already satisfied: numpy>=1.17 in /opt/conda/lib/python3.8/site-packages (from transformers) (1.22.2)\r\n",
      "Requirement already satisfied: filelock in /opt/conda/lib/python3.8/site-packages (from transformers) (3.4.2)\r\n",
      "Requirement already satisfied: regex!=2019.12.17 in /opt/conda/lib/python3.8/site-packages (from transformers) (2022.1.18)\r\n"
     ]
    },
    {
     "name": "stdout",
     "output_type": "stream",
     "text": [
      "Collecting huggingface-hub<1.0,>=0.1.0\r\n",
      "  Downloading huggingface_hub-0.4.0-py3-none-any.whl (67 kB)\r\n",
      "\u001b[?25l\r",
      "\u001b[K     |█████                           | 10 kB 31.0 MB/s eta 0:00:01\r",
      "\u001b[K     |█████████▉                      | 20 kB 36.5 MB/s eta 0:00:01\r",
      "\u001b[K     |██████████████▊                 | 30 kB 44.9 MB/s eta 0:00:01\r",
      "\u001b[K     |███████████████████▋            | 40 kB 50.0 MB/s eta 0:00:01\r",
      "\u001b[K     |████████████████████████▌       | 51 kB 36.0 MB/s eta 0:00:01\r",
      "\u001b[K     |█████████████████████████████▍  | 61 kB 39.9 MB/s eta 0:00:01\r",
      "\u001b[K     |████████████████████████████████| 67 kB 19.1 MB/s \r\n",
      "\u001b[?25hRequirement already satisfied: packaging>=20.0 in /opt/conda/lib/python3.8/site-packages (from transformers) (21.3)\r\n",
      "Requirement already satisfied: tqdm>=4.27 in /opt/conda/lib/python3.8/site-packages (from transformers) (4.62.3)\r\n",
      "Requirement already satisfied: pyyaml>=5.1 in /opt/conda/lib/python3.8/site-packages (from transformers) (5.4.1)\r\n"
     ]
    },
    {
     "name": "stdout",
     "output_type": "stream",
     "text": [
      "Collecting tokenizers!=0.11.3,>=0.11.1\r\n",
      "  Downloading tokenizers-0.11.6-cp38-cp38-manylinux_2_12_x86_64.manylinux2010_x86_64.whl (6.5 MB)\r\n",
      "\u001b[?25l\r",
      "\u001b[K     |                                | 10 kB 4.6 MB/s eta 0:00:02\r",
      "\u001b[K     |                                | 20 kB 7.8 MB/s eta 0:00:01\r",
      "\u001b[K     |▏                               | 30 kB 11.0 MB/s eta 0:00:01\r",
      "\u001b[K     |▏                               | 40 kB 13.7 MB/s eta 0:00:01\r",
      "\u001b[K     |▎                               | 51 kB 12.3 MB/s eta 0:00:01\r",
      "\u001b[K     |▎                               | 61 kB 14.2 MB/s eta 0:00:01\r",
      "\u001b[K     |▍                               | 71 kB 14.7 MB/s eta 0:00:01\r",
      "\u001b[K     |▍                               | 81 kB 16.1 MB/s eta 0:00:01\r",
      "\u001b[K     |▌                               | 92 kB 17.2 MB/s eta 0:00:01\r",
      "\u001b[K     |▌                               | 102 kB 16.4 MB/s eta 0:00:01\r",
      "\u001b[K     |▌                               | 112 kB 16.4 MB/s eta 0:00:01\r",
      "\u001b[K     |▋                               | 122 kB 16.4 MB/s eta 0:00:01\r",
      "\u001b[K     |▋                               | 133 kB 16.4 MB/s eta 0:00:01\r",
      "\u001b[K     |▊                               | 143 kB 16.4 MB/s eta 0:00:01\r",
      "\u001b[K     |▊                               | 153 kB 16.4 MB/s eta 0:00:01\r",
      "\u001b[K     |▉                               | 163 kB 16.4 MB/s eta 0:00:01\r",
      "\u001b[K     |▉                               | 174 kB 16.4 MB/s eta 0:00:01\r",
      "\u001b[K     |█                               | 184 kB 16.4 MB/s eta 0:00:01\r",
      "\u001b[K     |█                               | 194 kB 16.4 MB/s eta 0:00:01\r",
      "\u001b[K     |█                               | 204 kB 16.4 MB/s eta 0:00:01\r",
      "\u001b[K     |█                               | 215 kB 16.4 MB/s eta 0:00:01\r",
      "\u001b[K     |█                               | 225 kB 16.4 MB/s eta 0:00:01\r",
      "\u001b[K     |█▏                              | 235 kB 16.4 MB/s eta 0:00:01\r",
      "\u001b[K     |█▏                              | 245 kB 16.4 MB/s eta 0:00:01\r",
      "\u001b[K     |█▎                              | 256 kB 16.4 MB/s eta 0:00:01\r",
      "\u001b[K     |█▎                              | 266 kB 16.4 MB/s eta 0:00:01\r",
      "\u001b[K     |█▍                              | 276 kB 16.4 MB/s eta 0:00:01\r",
      "\u001b[K     |█▍                              | 286 kB 16.4 MB/s eta 0:00:01"
     ]
    },
    {
     "name": "stdout",
     "output_type": "stream",
     "text": [
      "\r",
      "\u001b[K     |█▌                              | 296 kB 16.4 MB/s eta 0:00:01\r",
      "\u001b[K     |█▌                              | 307 kB 16.4 MB/s eta 0:00:01\r",
      "\u001b[K     |█▌                              | 317 kB 16.4 MB/s eta 0:00:01\r",
      "\u001b[K     |█▋                              | 327 kB 16.4 MB/s eta 0:00:01\r",
      "\u001b[K     |█▋                              | 337 kB 16.4 MB/s eta 0:00:01\r",
      "\u001b[K     |█▊                              | 348 kB 16.4 MB/s eta 0:00:01\r",
      "\u001b[K     |█▊                              | 358 kB 16.4 MB/s eta 0:00:01\r",
      "\u001b[K     |█▉                              | 368 kB 16.4 MB/s eta 0:00:01\r",
      "\u001b[K     |█▉                              | 378 kB 16.4 MB/s eta 0:00:01\r",
      "\u001b[K     |██                              | 389 kB 16.4 MB/s eta 0:00:01\r",
      "\u001b[K     |██                              | 399 kB 16.4 MB/s eta 0:00:01\r",
      "\u001b[K     |██                              | 409 kB 16.4 MB/s eta 0:00:01\r",
      "\u001b[K     |██                              | 419 kB 16.4 MB/s eta 0:00:01\r",
      "\u001b[K     |██                              | 430 kB 16.4 MB/s eta 0:00:01\r",
      "\u001b[K     |██▏                             | 440 kB 16.4 MB/s eta 0:00:01\r",
      "\u001b[K     |██▏                             | 450 kB 16.4 MB/s eta 0:00:01\r",
      "\u001b[K     |██▎                             | 460 kB 16.4 MB/s eta 0:00:01\r",
      "\u001b[K     |██▎                             | 471 kB 16.4 MB/s eta 0:00:01\r",
      "\u001b[K     |██▍                             | 481 kB 16.4 MB/s eta 0:00:01\r",
      "\u001b[K     |██▍                             | 491 kB 16.4 MB/s eta 0:00:01\r",
      "\u001b[K     |██▌                             | 501 kB 16.4 MB/s eta 0:00:01\r",
      "\u001b[K     |██▌                             | 512 kB 16.4 MB/s eta 0:00:01\r",
      "\u001b[K     |██▌                             | 522 kB 16.4 MB/s eta 0:00:01\r",
      "\u001b[K     |██▋                             | 532 kB 16.4 MB/s eta 0:00:01\r",
      "\u001b[K     |██▋                             | 542 kB 16.4 MB/s eta 0:00:01\r",
      "\u001b[K     |██▊                             | 552 kB 16.4 MB/s eta 0:00:01\r",
      "\u001b[K     |██▊                             | 563 kB 16.4 MB/s eta 0:00:01\r",
      "\u001b[K     |██▉                             | 573 kB 16.4 MB/s eta 0:00:01\r",
      "\u001b[K     |██▉                             | 583 kB 16.4 MB/s eta 0:00:01\r",
      "\u001b[K     |███                             | 593 kB 16.4 MB/s eta 0:00:01\r",
      "\u001b[K     |███                             | 604 kB 16.4 MB/s eta 0:00:01\r",
      "\u001b[K     |███                             | 614 kB 16.4 MB/s eta 0:00:01\r",
      "\u001b[K     |███                             | 624 kB 16.4 MB/s eta 0:00:01\r",
      "\u001b[K     |███                             | 634 kB 16.4 MB/s eta 0:00:01\r",
      "\u001b[K     |███▏                            | 645 kB 16.4 MB/s eta 0:00:01\r",
      "\u001b[K     |███▏                            | 655 kB 16.4 MB/s eta 0:00:01\r",
      "\u001b[K     |███▎                            | 665 kB 16.4 MB/s eta 0:00:01\r",
      "\u001b[K     |███▎                            | 675 kB 16.4 MB/s eta 0:00:01\r",
      "\u001b[K     |███▍                            | 686 kB 16.4 MB/s eta 0:00:01\r",
      "\u001b[K     |███▍                            | 696 kB 16.4 MB/s eta 0:00:01\r",
      "\u001b[K     |███▌                            | 706 kB 16.4 MB/s eta 0:00:01\r",
      "\u001b[K     |███▌                            | 716 kB 16.4 MB/s eta 0:00:01\r",
      "\u001b[K     |███▌                            | 727 kB 16.4 MB/s eta 0:00:01\r",
      "\u001b[K     |███▋                            | 737 kB 16.4 MB/s eta 0:00:01\r",
      "\u001b[K     |███▋                            | 747 kB 16.4 MB/s eta 0:00:01\r",
      "\u001b[K     |███▊                            | 757 kB 16.4 MB/s eta 0:00:01\r",
      "\u001b[K     |███▊                            | 768 kB 16.4 MB/s eta 0:00:01\r",
      "\u001b[K     |███▉                            | 778 kB 16.4 MB/s eta 0:00:01\r",
      "\u001b[K     |███▉                            | 788 kB 16.4 MB/s eta 0:00:01\r",
      "\u001b[K     |████                            | 798 kB 16.4 MB/s eta 0:00:01\r",
      "\u001b[K     |████                            | 808 kB 16.4 MB/s eta 0:00:01\r",
      "\u001b[K     |████                            | 819 kB 16.4 MB/s eta 0:00:01\r",
      "\u001b[K     |████                            | 829 kB 16.4 MB/s eta 0:00:01\r",
      "\u001b[K     |████                            | 839 kB 16.4 MB/s eta 0:00:01\r",
      "\u001b[K     |████▏                           | 849 kB 16.4 MB/s eta 0:00:01\r",
      "\u001b[K     |████▏                           | 860 kB 16.4 MB/s eta 0:00:01\r",
      "\u001b[K     |████▎                           | 870 kB 16.4 MB/s eta 0:00:01\r",
      "\u001b[K     |████▎                           | 880 kB 16.4 MB/s eta 0:00:01\r",
      "\u001b[K     |████▍                           | 890 kB 16.4 MB/s eta 0:00:01\r",
      "\u001b[K     |████▍                           | 901 kB 16.4 MB/s eta 0:00:01\r",
      "\u001b[K     |████▌                           | 911 kB 16.4 MB/s eta 0:00:01\r",
      "\u001b[K     |████▌                           | 921 kB 16.4 MB/s eta 0:00:01\r",
      "\u001b[K     |████▌                           | 931 kB 16.4 MB/s eta 0:00:01\r",
      "\u001b[K     |████▋                           | 942 kB 16.4 MB/s eta 0:00:01\r",
      "\u001b[K     |████▋                           | 952 kB 16.4 MB/s eta 0:00:01\r",
      "\u001b[K     |████▊                           | 962 kB 16.4 MB/s eta 0:00:01\r",
      "\u001b[K     |████▊                           | 972 kB 16.4 MB/s eta 0:00:01\r",
      "\u001b[K     |████▉                           | 983 kB 16.4 MB/s eta 0:00:01\r",
      "\u001b[K     |████▉                           | 993 kB 16.4 MB/s eta 0:00:01\r",
      "\u001b[K     |█████                           | 1.0 MB 16.4 MB/s eta 0:00:01\r",
      "\u001b[K     |█████                           | 1.0 MB 16.4 MB/s eta 0:00:01\r",
      "\u001b[K     |█████                           | 1.0 MB 16.4 MB/s eta 0:00:01\r",
      "\u001b[K     |█████                           | 1.0 MB 16.4 MB/s eta 0:00:01\r",
      "\u001b[K     |█████                           | 1.0 MB 16.4 MB/s eta 0:00:01\r",
      "\u001b[K     |█████▏                          | 1.1 MB 16.4 MB/s eta 0:00:01\r",
      "\u001b[K     |█████▏                          | 1.1 MB 16.4 MB/s eta 0:00:01\r",
      "\u001b[K     |█████▎                          | 1.1 MB 16.4 MB/s eta 0:00:01\r",
      "\u001b[K     |█████▎                          | 1.1 MB 16.4 MB/s eta 0:00:01\r",
      "\u001b[K     |█████▍                          | 1.1 MB 16.4 MB/s eta 0:00:01\r",
      "\u001b[K     |█████▍                          | 1.1 MB 16.4 MB/s eta 0:00:01\r",
      "\u001b[K     |█████▌                          | 1.1 MB 16.4 MB/s eta 0:00:01\r",
      "\u001b[K     |█████▌                          | 1.1 MB 16.4 MB/s eta 0:00:01\r",
      "\u001b[K     |█████▋                          | 1.1 MB 16.4 MB/s eta 0:00:01\r",
      "\u001b[K     |█████▋                          | 1.1 MB 16.4 MB/s eta 0:00:01\r",
      "\u001b[K     |█████▋                          | 1.2 MB 16.4 MB/s eta 0:00:01\r",
      "\u001b[K     |█████▊                          | 1.2 MB 16.4 MB/s eta 0:00:01\r",
      "\u001b[K     |█████▊                          | 1.2 MB 16.4 MB/s eta 0:00:01\r",
      "\u001b[K     |█████▉                          | 1.2 MB 16.4 MB/s eta 0:00:01\r",
      "\u001b[K     |█████▉                          | 1.2 MB 16.4 MB/s eta 0:00:01\r",
      "\u001b[K     |██████                          | 1.2 MB 16.4 MB/s eta 0:00:01\r",
      "\u001b[K     |██████                          | 1.2 MB 16.4 MB/s eta 0:00:01\r",
      "\u001b[K     |██████                          | 1.2 MB 16.4 MB/s eta 0:00:01\r",
      "\u001b[K     |██████                          | 1.2 MB 16.4 MB/s eta 0:00:01\r",
      "\u001b[K     |██████                          | 1.2 MB 16.4 MB/s eta 0:00:01\r",
      "\u001b[K     |██████▏                         | 1.3 MB 16.4 MB/s eta 0:00:01\r",
      "\u001b[K     |██████▏                         | 1.3 MB 16.4 MB/s eta 0:00:01\r",
      "\u001b[K     |██████▎                         | 1.3 MB 16.4 MB/s eta 0:00:01\r",
      "\u001b[K     |██████▎                         | 1.3 MB 16.4 MB/s eta 0:00:01\r",
      "\u001b[K     |██████▍                         | 1.3 MB 16.4 MB/s eta 0:00:01\r",
      "\u001b[K     |██████▍                         | 1.3 MB 16.4 MB/s eta 0:00:01\r",
      "\u001b[K     |██████▌                         | 1.3 MB 16.4 MB/s eta 0:00:01\r",
      "\u001b[K     |██████▌                         | 1.3 MB 16.4 MB/s eta 0:00:01\r",
      "\u001b[K     |██████▋                         | 1.3 MB 16.4 MB/s eta 0:00:01\r",
      "\u001b[K     |██████▋                         | 1.4 MB 16.4 MB/s eta 0:00:01\r",
      "\u001b[K     |██████▋                         | 1.4 MB 16.4 MB/s eta 0:00:01\r",
      "\u001b[K     |██████▊                         | 1.4 MB 16.4 MB/s eta 0:00:01\r",
      "\u001b[K     |██████▊                         | 1.4 MB 16.4 MB/s eta 0:00:01\r",
      "\u001b[K     |██████▉                         | 1.4 MB 16.4 MB/s eta 0:00:01\r",
      "\u001b[K     |██████▉                         | 1.4 MB 16.4 MB/s eta 0:00:01\r",
      "\u001b[K     |███████                         | 1.4 MB 16.4 MB/s eta 0:00:01\r",
      "\u001b[K     |███████                         | 1.4 MB 16.4 MB/s eta 0:00:01\r",
      "\u001b[K     |███████                         | 1.4 MB 16.4 MB/s eta 0:00:01\r",
      "\u001b[K     |███████                         | 1.4 MB 16.4 MB/s eta 0:00:01\r",
      "\u001b[K     |███████                         | 1.5 MB 16.4 MB/s eta 0:00:01\r",
      "\u001b[K     |███████▏                        | 1.5 MB 16.4 MB/s eta 0:00:01\r",
      "\u001b[K     |███████▏                        | 1.5 MB 16.4 MB/s eta 0:00:01\r",
      "\u001b[K     |███████▎                        | 1.5 MB 16.4 MB/s eta 0:00:01\r",
      "\u001b[K     |███████▎                        | 1.5 MB 16.4 MB/s eta 0:00:01\r",
      "\u001b[K     |███████▍                        | 1.5 MB 16.4 MB/s eta 0:00:01\r",
      "\u001b[K     |███████▍                        | 1.5 MB 16.4 MB/s eta 0:00:01"
     ]
    },
    {
     "name": "stdout",
     "output_type": "stream",
     "text": [
      "\r",
      "\u001b[K     |███████▌                        | 1.5 MB 16.4 MB/s eta 0:00:01\r",
      "\u001b[K     |███████▌                        | 1.5 MB 16.4 MB/s eta 0:00:01\r",
      "\u001b[K     |███████▋                        | 1.5 MB 16.4 MB/s eta 0:00:01\r",
      "\u001b[K     |███████▋                        | 1.6 MB 16.4 MB/s eta 0:00:01\r",
      "\u001b[K     |███████▋                        | 1.6 MB 16.4 MB/s eta 0:00:01\r",
      "\u001b[K     |███████▊                        | 1.6 MB 16.4 MB/s eta 0:00:01\r",
      "\u001b[K     |███████▊                        | 1.6 MB 16.4 MB/s eta 0:00:01\r",
      "\u001b[K     |███████▉                        | 1.6 MB 16.4 MB/s eta 0:00:01\r",
      "\u001b[K     |███████▉                        | 1.6 MB 16.4 MB/s eta 0:00:01\r",
      "\u001b[K     |████████                        | 1.6 MB 16.4 MB/s eta 0:00:01\r",
      "\u001b[K     |████████                        | 1.6 MB 16.4 MB/s eta 0:00:01\r",
      "\u001b[K     |████████                        | 1.6 MB 16.4 MB/s eta 0:00:01\r",
      "\u001b[K     |████████                        | 1.6 MB 16.4 MB/s eta 0:00:01\r",
      "\u001b[K     |████████                        | 1.7 MB 16.4 MB/s eta 0:00:01\r",
      "\u001b[K     |████████▏                       | 1.7 MB 16.4 MB/s eta 0:00:01\r",
      "\u001b[K     |████████▏                       | 1.7 MB 16.4 MB/s eta 0:00:01\r",
      "\u001b[K     |████████▎                       | 1.7 MB 16.4 MB/s eta 0:00:01\r",
      "\u001b[K     |████████▎                       | 1.7 MB 16.4 MB/s eta 0:00:01\r",
      "\u001b[K     |████████▍                       | 1.7 MB 16.4 MB/s eta 0:00:01\r",
      "\u001b[K     |████████▍                       | 1.7 MB 16.4 MB/s eta 0:00:01\r",
      "\u001b[K     |████████▌                       | 1.7 MB 16.4 MB/s eta 0:00:01\r",
      "\u001b[K     |████████▌                       | 1.7 MB 16.4 MB/s eta 0:00:01\r",
      "\u001b[K     |████████▋                       | 1.8 MB 16.4 MB/s eta 0:00:01\r",
      "\u001b[K     |████████▋                       | 1.8 MB 16.4 MB/s eta 0:00:01\r",
      "\u001b[K     |████████▋                       | 1.8 MB 16.4 MB/s eta 0:00:01\r",
      "\u001b[K     |████████▊                       | 1.8 MB 16.4 MB/s eta 0:00:01\r",
      "\u001b[K     |████████▊                       | 1.8 MB 16.4 MB/s eta 0:00:01\r",
      "\u001b[K     |████████▉                       | 1.8 MB 16.4 MB/s eta 0:00:01\r",
      "\u001b[K     |████████▉                       | 1.8 MB 16.4 MB/s eta 0:00:01\r",
      "\u001b[K     |█████████                       | 1.8 MB 16.4 MB/s eta 0:00:01\r",
      "\u001b[K     |█████████                       | 1.8 MB 16.4 MB/s eta 0:00:01\r",
      "\u001b[K     |█████████                       | 1.8 MB 16.4 MB/s eta 0:00:01\r",
      "\u001b[K     |█████████                       | 1.9 MB 16.4 MB/s eta 0:00:01\r",
      "\u001b[K     |█████████                       | 1.9 MB 16.4 MB/s eta 0:00:01\r",
      "\u001b[K     |█████████▏                      | 1.9 MB 16.4 MB/s eta 0:00:01\r",
      "\u001b[K     |█████████▏                      | 1.9 MB 16.4 MB/s eta 0:00:01\r",
      "\u001b[K     |█████████▎                      | 1.9 MB 16.4 MB/s eta 0:00:01\r",
      "\u001b[K     |█████████▎                      | 1.9 MB 16.4 MB/s eta 0:00:01\r",
      "\u001b[K     |█████████▍                      | 1.9 MB 16.4 MB/s eta 0:00:01\r",
      "\u001b[K     |█████████▍                      | 1.9 MB 16.4 MB/s eta 0:00:01\r",
      "\u001b[K     |█████████▌                      | 1.9 MB 16.4 MB/s eta 0:00:01\r",
      "\u001b[K     |█████████▌                      | 1.9 MB 16.4 MB/s eta 0:00:01\r",
      "\u001b[K     |█████████▋                      | 2.0 MB 16.4 MB/s eta 0:00:01\r",
      "\u001b[K     |█████████▋                      | 2.0 MB 16.4 MB/s eta 0:00:01\r",
      "\u001b[K     |█████████▋                      | 2.0 MB 16.4 MB/s eta 0:00:01\r",
      "\u001b[K     |█████████▊                      | 2.0 MB 16.4 MB/s eta 0:00:01\r",
      "\u001b[K     |█████████▊                      | 2.0 MB 16.4 MB/s eta 0:00:01\r",
      "\u001b[K     |█████████▉                      | 2.0 MB 16.4 MB/s eta 0:00:01\r",
      "\u001b[K     |█████████▉                      | 2.0 MB 16.4 MB/s eta 0:00:01\r",
      "\u001b[K     |██████████                      | 2.0 MB 16.4 MB/s eta 0:00:01\r",
      "\u001b[K     |██████████                      | 2.0 MB 16.4 MB/s eta 0:00:01\r",
      "\u001b[K     |██████████                      | 2.0 MB 16.4 MB/s eta 0:00:01\r",
      "\u001b[K     |██████████                      | 2.1 MB 16.4 MB/s eta 0:00:01\r",
      "\u001b[K     |██████████▏                     | 2.1 MB 16.4 MB/s eta 0:00:01\r",
      "\u001b[K     |██████████▏                     | 2.1 MB 16.4 MB/s eta 0:00:01\r",
      "\u001b[K     |██████████▏                     | 2.1 MB 16.4 MB/s eta 0:00:01\r",
      "\u001b[K     |██████████▎                     | 2.1 MB 16.4 MB/s eta 0:00:01\r",
      "\u001b[K     |██████████▎                     | 2.1 MB 16.4 MB/s eta 0:00:01\r",
      "\u001b[K     |██████████▍                     | 2.1 MB 16.4 MB/s eta 0:00:01\r",
      "\u001b[K     |██████████▍                     | 2.1 MB 16.4 MB/s eta 0:00:01\r",
      "\u001b[K     |██████████▌                     | 2.1 MB 16.4 MB/s eta 0:00:01\r",
      "\u001b[K     |██████████▌                     | 2.2 MB 16.4 MB/s eta 0:00:01\r",
      "\u001b[K     |██████████▋                     | 2.2 MB 16.4 MB/s eta 0:00:01\r",
      "\u001b[K     |██████████▋                     | 2.2 MB 16.4 MB/s eta 0:00:01\r",
      "\u001b[K     |██████████▋                     | 2.2 MB 16.4 MB/s eta 0:00:01\r",
      "\u001b[K     |██████████▊                     | 2.2 MB 16.4 MB/s eta 0:00:01\r",
      "\u001b[K     |██████████▊                     | 2.2 MB 16.4 MB/s eta 0:00:01\r",
      "\u001b[K     |██████████▉                     | 2.2 MB 16.4 MB/s eta 0:00:01\r",
      "\u001b[K     |██████████▉                     | 2.2 MB 16.4 MB/s eta 0:00:01\r",
      "\u001b[K     |███████████                     | 2.2 MB 16.4 MB/s eta 0:00:01\r",
      "\u001b[K     |███████████                     | 2.2 MB 16.4 MB/s eta 0:00:01\r",
      "\u001b[K     |███████████                     | 2.3 MB 16.4 MB/s eta 0:00:01\r",
      "\u001b[K     |███████████                     | 2.3 MB 16.4 MB/s eta 0:00:01\r",
      "\u001b[K     |███████████▏                    | 2.3 MB 16.4 MB/s eta 0:00:01\r",
      "\u001b[K     |███████████▏                    | 2.3 MB 16.4 MB/s eta 0:00:01\r",
      "\u001b[K     |███████████▏                    | 2.3 MB 16.4 MB/s eta 0:00:01\r",
      "\u001b[K     |███████████▎                    | 2.3 MB 16.4 MB/s eta 0:00:01\r",
      "\u001b[K     |███████████▎                    | 2.3 MB 16.4 MB/s eta 0:00:01\r",
      "\u001b[K     |███████████▍                    | 2.3 MB 16.4 MB/s eta 0:00:01\r",
      "\u001b[K     |███████████▍                    | 2.3 MB 16.4 MB/s eta 0:00:01\r",
      "\u001b[K     |███████████▌                    | 2.3 MB 16.4 MB/s eta 0:00:01\r",
      "\u001b[K     |███████████▌                    | 2.4 MB 16.4 MB/s eta 0:00:01\r",
      "\u001b[K     |███████████▋                    | 2.4 MB 16.4 MB/s eta 0:00:01\r",
      "\u001b[K     |███████████▋                    | 2.4 MB 16.4 MB/s eta 0:00:01\r",
      "\u001b[K     |███████████▋                    | 2.4 MB 16.4 MB/s eta 0:00:01\r",
      "\u001b[K     |███████████▊                    | 2.4 MB 16.4 MB/s eta 0:00:01\r",
      "\u001b[K     |███████████▊                    | 2.4 MB 16.4 MB/s eta 0:00:01\r",
      "\u001b[K     |███████████▉                    | 2.4 MB 16.4 MB/s eta 0:00:01\r",
      "\u001b[K     |███████████▉                    | 2.4 MB 16.4 MB/s eta 0:00:01\r",
      "\u001b[K     |████████████                    | 2.4 MB 16.4 MB/s eta 0:00:01\r",
      "\u001b[K     |████████████                    | 2.4 MB 16.4 MB/s eta 0:00:01\r",
      "\u001b[K     |████████████                    | 2.5 MB 16.4 MB/s eta 0:00:01\r",
      "\u001b[K     |████████████                    | 2.5 MB 16.4 MB/s eta 0:00:01\r",
      "\u001b[K     |████████████▏                   | 2.5 MB 16.4 MB/s eta 0:00:01\r",
      "\u001b[K     |████████████▏                   | 2.5 MB 16.4 MB/s eta 0:00:01\r",
      "\u001b[K     |████████████▏                   | 2.5 MB 16.4 MB/s eta 0:00:01\r",
      "\u001b[K     |████████████▎                   | 2.5 MB 16.4 MB/s eta 0:00:01\r",
      "\u001b[K     |████████████▎                   | 2.5 MB 16.4 MB/s eta 0:00:01\r",
      "\u001b[K     |████████████▍                   | 2.5 MB 16.4 MB/s eta 0:00:01\r",
      "\u001b[K     |████████████▍                   | 2.5 MB 16.4 MB/s eta 0:00:01\r",
      "\u001b[K     |████████████▌                   | 2.5 MB 16.4 MB/s eta 0:00:01\r",
      "\u001b[K     |████████████▌                   | 2.6 MB 16.4 MB/s eta 0:00:01\r",
      "\u001b[K     |████████████▋                   | 2.6 MB 16.4 MB/s eta 0:00:01\r",
      "\u001b[K     |████████████▋                   | 2.6 MB 16.4 MB/s eta 0:00:01\r",
      "\u001b[K     |████████████▋                   | 2.6 MB 16.4 MB/s eta 0:00:01\r",
      "\u001b[K     |████████████▊                   | 2.6 MB 16.4 MB/s eta 0:00:01\r",
      "\u001b[K     |████████████▊                   | 2.6 MB 16.4 MB/s eta 0:00:01\r",
      "\u001b[K     |████████████▉                   | 2.6 MB 16.4 MB/s eta 0:00:01\r",
      "\u001b[K     |████████████▉                   | 2.6 MB 16.4 MB/s eta 0:00:01\r",
      "\u001b[K     |█████████████                   | 2.6 MB 16.4 MB/s eta 0:00:01\r",
      "\u001b[K     |█████████████                   | 2.7 MB 16.4 MB/s eta 0:00:01\r",
      "\u001b[K     |█████████████                   | 2.7 MB 16.4 MB/s eta 0:00:01\r",
      "\u001b[K     |█████████████                   | 2.7 MB 16.4 MB/s eta 0:00:01\r",
      "\u001b[K     |█████████████▏                  | 2.7 MB 16.4 MB/s eta 0:00:01\r",
      "\u001b[K     |█████████████▏                  | 2.7 MB 16.4 MB/s eta 0:00:01\r",
      "\u001b[K     |█████████████▏                  | 2.7 MB 16.4 MB/s eta 0:00:01\r",
      "\u001b[K     |█████████████▎                  | 2.7 MB 16.4 MB/s eta 0:00:01\r",
      "\u001b[K     |█████████████▎                  | 2.7 MB 16.4 MB/s eta 0:00:01\r",
      "\u001b[K     |█████████████▍                  | 2.7 MB 16.4 MB/s eta 0:00:01"
     ]
    },
    {
     "name": "stdout",
     "output_type": "stream",
     "text": [
      "\r",
      "\u001b[K     |█████████████▍                  | 2.7 MB 16.4 MB/s eta 0:00:01\r",
      "\u001b[K     |█████████████▌                  | 2.8 MB 16.4 MB/s eta 0:00:01\r",
      "\u001b[K     |█████████████▌                  | 2.8 MB 16.4 MB/s eta 0:00:01\r",
      "\u001b[K     |█████████████▋                  | 2.8 MB 16.4 MB/s eta 0:00:01\r",
      "\u001b[K     |█████████████▋                  | 2.8 MB 16.4 MB/s eta 0:00:01\r",
      "\u001b[K     |█████████████▋                  | 2.8 MB 16.4 MB/s eta 0:00:01\r",
      "\u001b[K     |█████████████▊                  | 2.8 MB 16.4 MB/s eta 0:00:01\r",
      "\u001b[K     |█████████████▊                  | 2.8 MB 16.4 MB/s eta 0:00:01\r",
      "\u001b[K     |█████████████▉                  | 2.8 MB 16.4 MB/s eta 0:00:01\r",
      "\u001b[K     |█████████████▉                  | 2.8 MB 16.4 MB/s eta 0:00:01\r",
      "\u001b[K     |██████████████                  | 2.8 MB 16.4 MB/s eta 0:00:01\r",
      "\u001b[K     |██████████████                  | 2.9 MB 16.4 MB/s eta 0:00:01\r",
      "\u001b[K     |██████████████                  | 2.9 MB 16.4 MB/s eta 0:00:01\r",
      "\u001b[K     |██████████████                  | 2.9 MB 16.4 MB/s eta 0:00:01\r",
      "\u001b[K     |██████████████▏                 | 2.9 MB 16.4 MB/s eta 0:00:01\r",
      "\u001b[K     |██████████████▏                 | 2.9 MB 16.4 MB/s eta 0:00:01\r",
      "\u001b[K     |██████████████▏                 | 2.9 MB 16.4 MB/s eta 0:00:01\r",
      "\u001b[K     |██████████████▎                 | 2.9 MB 16.4 MB/s eta 0:00:01\r",
      "\u001b[K     |██████████████▎                 | 2.9 MB 16.4 MB/s eta 0:00:01\r",
      "\u001b[K     |██████████████▍                 | 2.9 MB 16.4 MB/s eta 0:00:01\r",
      "\u001b[K     |██████████████▍                 | 2.9 MB 16.4 MB/s eta 0:00:01\r",
      "\u001b[K     |██████████████▌                 | 3.0 MB 16.4 MB/s eta 0:00:01\r",
      "\u001b[K     |██████████████▌                 | 3.0 MB 16.4 MB/s eta 0:00:01\r",
      "\u001b[K     |██████████████▋                 | 3.0 MB 16.4 MB/s eta 0:00:01\r",
      "\u001b[K     |██████████████▋                 | 3.0 MB 16.4 MB/s eta 0:00:01\r",
      "\u001b[K     |██████████████▊                 | 3.0 MB 16.4 MB/s eta 0:00:01\r",
      "\u001b[K     |██████████████▊                 | 3.0 MB 16.4 MB/s eta 0:00:01\r",
      "\u001b[K     |██████████████▊                 | 3.0 MB 16.4 MB/s eta 0:00:01\r",
      "\u001b[K     |██████████████▉                 | 3.0 MB 16.4 MB/s eta 0:00:01\r",
      "\u001b[K     |██████████████▉                 | 3.0 MB 16.4 MB/s eta 0:00:01\r",
      "\u001b[K     |███████████████                 | 3.1 MB 16.4 MB/s eta 0:00:01\r",
      "\u001b[K     |███████████████                 | 3.1 MB 16.4 MB/s eta 0:00:01\r",
      "\u001b[K     |███████████████                 | 3.1 MB 16.4 MB/s eta 0:00:01\r",
      "\u001b[K     |███████████████                 | 3.1 MB 16.4 MB/s eta 0:00:01\r",
      "\u001b[K     |███████████████▏                | 3.1 MB 16.4 MB/s eta 0:00:01\r",
      "\u001b[K     |███████████████▏                | 3.1 MB 16.4 MB/s eta 0:00:01\r",
      "\u001b[K     |███████████████▏                | 3.1 MB 16.4 MB/s eta 0:00:01\r",
      "\u001b[K     |███████████████▎                | 3.1 MB 16.4 MB/s eta 0:00:01\r",
      "\u001b[K     |███████████████▎                | 3.1 MB 16.4 MB/s eta 0:00:01\r",
      "\u001b[K     |███████████████▍                | 3.1 MB 16.4 MB/s eta 0:00:01\r",
      "\u001b[K     |███████████████▍                | 3.2 MB 16.4 MB/s eta 0:00:01\r",
      "\u001b[K     |███████████████▌                | 3.2 MB 16.4 MB/s eta 0:00:01\r",
      "\u001b[K     |███████████████▌                | 3.2 MB 16.4 MB/s eta 0:00:01\r",
      "\u001b[K     |███████████████▋                | 3.2 MB 16.4 MB/s eta 0:00:01\r",
      "\u001b[K     |███████████████▋                | 3.2 MB 16.4 MB/s eta 0:00:01\r",
      "\u001b[K     |███████████████▊                | 3.2 MB 16.4 MB/s eta 0:00:01\r",
      "\u001b[K     |███████████████▊                | 3.2 MB 16.4 MB/s eta 0:00:01\r",
      "\u001b[K     |███████████████▊                | 3.2 MB 16.4 MB/s eta 0:00:01\r",
      "\u001b[K     |███████████████▉                | 3.2 MB 16.4 MB/s eta 0:00:01\r",
      "\u001b[K     |███████████████▉                | 3.2 MB 16.4 MB/s eta 0:00:01\r",
      "\u001b[K     |████████████████                | 3.3 MB 16.4 MB/s eta 0:00:01\r",
      "\u001b[K     |████████████████                | 3.3 MB 16.4 MB/s eta 0:00:01\r",
      "\u001b[K     |████████████████                | 3.3 MB 16.4 MB/s eta 0:00:01\r",
      "\u001b[K     |████████████████                | 3.3 MB 16.4 MB/s eta 0:00:01\r",
      "\u001b[K     |████████████████▏               | 3.3 MB 16.4 MB/s eta 0:00:01\r",
      "\u001b[K     |████████████████▏               | 3.3 MB 16.4 MB/s eta 0:00:01\r",
      "\u001b[K     |████████████████▏               | 3.3 MB 16.4 MB/s eta 0:00:01\r",
      "\u001b[K     |████████████████▎               | 3.3 MB 16.4 MB/s eta 0:00:01\r",
      "\u001b[K     |████████████████▎               | 3.3 MB 16.4 MB/s eta 0:00:01\r",
      "\u001b[K     |████████████████▍               | 3.3 MB 16.4 MB/s eta 0:00:01\r",
      "\u001b[K     |████████████████▍               | 3.4 MB 16.4 MB/s eta 0:00:01\r",
      "\u001b[K     |████████████████▌               | 3.4 MB 16.4 MB/s eta 0:00:01\r",
      "\u001b[K     |████████████████▌               | 3.4 MB 16.4 MB/s eta 0:00:01\r",
      "\u001b[K     |████████████████▋               | 3.4 MB 16.4 MB/s eta 0:00:01\r",
      "\u001b[K     |████████████████▋               | 3.4 MB 16.4 MB/s eta 0:00:01\r",
      "\u001b[K     |████████████████▊               | 3.4 MB 16.4 MB/s eta 0:00:01\r",
      "\u001b[K     |████████████████▊               | 3.4 MB 16.4 MB/s eta 0:00:01\r",
      "\u001b[K     |████████████████▊               | 3.4 MB 16.4 MB/s eta 0:00:01\r",
      "\u001b[K     |████████████████▉               | 3.4 MB 16.4 MB/s eta 0:00:01\r",
      "\u001b[K     |████████████████▉               | 3.5 MB 16.4 MB/s eta 0:00:01\r",
      "\u001b[K     |█████████████████               | 3.5 MB 16.4 MB/s eta 0:00:01\r",
      "\u001b[K     |█████████████████               | 3.5 MB 16.4 MB/s eta 0:00:01\r",
      "\u001b[K     |█████████████████               | 3.5 MB 16.4 MB/s eta 0:00:01\r",
      "\u001b[K     |█████████████████               | 3.5 MB 16.4 MB/s eta 0:00:01\r",
      "\u001b[K     |█████████████████▏              | 3.5 MB 16.4 MB/s eta 0:00:01\r",
      "\u001b[K     |█████████████████▏              | 3.5 MB 16.4 MB/s eta 0:00:01\r",
      "\u001b[K     |█████████████████▏              | 3.5 MB 16.4 MB/s eta 0:00:01\r",
      "\u001b[K     |█████████████████▎              | 3.5 MB 16.4 MB/s eta 0:00:01\r",
      "\u001b[K     |█████████████████▎              | 3.5 MB 16.4 MB/s eta 0:00:01\r",
      "\u001b[K     |█████████████████▍              | 3.6 MB 16.4 MB/s eta 0:00:01\r",
      "\u001b[K     |█████████████████▍              | 3.6 MB 16.4 MB/s eta 0:00:01\r",
      "\u001b[K     |█████████████████▌              | 3.6 MB 16.4 MB/s eta 0:00:01\r",
      "\u001b[K     |█████████████████▌              | 3.6 MB 16.4 MB/s eta 0:00:01\r",
      "\u001b[K     |█████████████████▋              | 3.6 MB 16.4 MB/s eta 0:00:01\r",
      "\u001b[K     |█████████████████▋              | 3.6 MB 16.4 MB/s eta 0:00:01\r",
      "\u001b[K     |█████████████████▊              | 3.6 MB 16.4 MB/s eta 0:00:01\r",
      "\u001b[K     |█████████████████▊              | 3.6 MB 16.4 MB/s eta 0:00:01\r",
      "\u001b[K     |█████████████████▊              | 3.6 MB 16.4 MB/s eta 0:00:01\r",
      "\u001b[K     |█████████████████▉              | 3.6 MB 16.4 MB/s eta 0:00:01\r",
      "\u001b[K     |█████████████████▉              | 3.7 MB 16.4 MB/s eta 0:00:01\r",
      "\u001b[K     |██████████████████              | 3.7 MB 16.4 MB/s eta 0:00:01\r",
      "\u001b[K     |██████████████████              | 3.7 MB 16.4 MB/s eta 0:00:01\r",
      "\u001b[K     |██████████████████              | 3.7 MB 16.4 MB/s eta 0:00:01\r",
      "\u001b[K     |██████████████████              | 3.7 MB 16.4 MB/s eta 0:00:01\r",
      "\u001b[K     |██████████████████▏             | 3.7 MB 16.4 MB/s eta 0:00:01\r",
      "\u001b[K     |██████████████████▏             | 3.7 MB 16.4 MB/s eta 0:00:01\r",
      "\u001b[K     |██████████████████▏             | 3.7 MB 16.4 MB/s eta 0:00:01\r",
      "\u001b[K     |██████████████████▎             | 3.7 MB 16.4 MB/s eta 0:00:01\r",
      "\u001b[K     |██████████████████▎             | 3.7 MB 16.4 MB/s eta 0:00:01\r",
      "\u001b[K     |██████████████████▍             | 3.8 MB 16.4 MB/s eta 0:00:01\r",
      "\u001b[K     |██████████████████▍             | 3.8 MB 16.4 MB/s eta 0:00:01\r",
      "\u001b[K     |██████████████████▌             | 3.8 MB 16.4 MB/s eta 0:00:01\r",
      "\u001b[K     |██████████████████▌             | 3.8 MB 16.4 MB/s eta 0:00:01\r",
      "\u001b[K     |██████████████████▋             | 3.8 MB 16.4 MB/s eta 0:00:01\r",
      "\u001b[K     |██████████████████▋             | 3.8 MB 16.4 MB/s eta 0:00:01\r",
      "\u001b[K     |██████████████████▊             | 3.8 MB 16.4 MB/s eta 0:00:01\r",
      "\u001b[K     |██████████████████▊             | 3.8 MB 16.4 MB/s eta 0:00:01\r",
      "\u001b[K     |██████████████████▊             | 3.8 MB 16.4 MB/s eta 0:00:01\r",
      "\u001b[K     |██████████████████▉             | 3.9 MB 16.4 MB/s eta 0:00:01\r",
      "\u001b[K     |██████████████████▉             | 3.9 MB 16.4 MB/s eta 0:00:01\r",
      "\u001b[K     |███████████████████             | 3.9 MB 16.4 MB/s eta 0:00:01\r",
      "\u001b[K     |███████████████████             | 3.9 MB 16.4 MB/s eta 0:00:01\r",
      "\u001b[K     |███████████████████             | 3.9 MB 16.4 MB/s eta 0:00:01\r",
      "\u001b[K     |███████████████████             | 3.9 MB 16.4 MB/s eta 0:00:01\r",
      "\u001b[K     |███████████████████▏            | 3.9 MB 16.4 MB/s eta 0:00:01\r",
      "\u001b[K     |███████████████████▏            | 3.9 MB 16.4 MB/s eta 0:00:01\r",
      "\u001b[K     |███████████████████▎            | 3.9 MB 16.4 MB/s eta 0:00:01\r",
      "\u001b[K     |███████████████████▎            | 3.9 MB 16.4 MB/s eta 0:00:01\r",
      "\u001b[K     |███████████████████▎            | 4.0 MB 16.4 MB/s eta 0:00:01\r",
      "\u001b[K     |███████████████████▍            | 4.0 MB 16.4 MB/s eta 0:00:01"
     ]
    },
    {
     "name": "stdout",
     "output_type": "stream",
     "text": [
      "\r",
      "\u001b[K     |███████████████████▍            | 4.0 MB 16.4 MB/s eta 0:00:01\r",
      "\u001b[K     |███████████████████▌            | 4.0 MB 16.4 MB/s eta 0:00:01\r",
      "\u001b[K     |███████████████████▌            | 4.0 MB 16.4 MB/s eta 0:00:01\r",
      "\u001b[K     |███████████████████▋            | 4.0 MB 16.4 MB/s eta 0:00:01\r",
      "\u001b[K     |███████████████████▋            | 4.0 MB 16.4 MB/s eta 0:00:01\r",
      "\u001b[K     |███████████████████▊            | 4.0 MB 16.4 MB/s eta 0:00:01\r",
      "\u001b[K     |███████████████████▊            | 4.0 MB 16.4 MB/s eta 0:00:01\r",
      "\u001b[K     |███████████████████▊            | 4.0 MB 16.4 MB/s eta 0:00:01\r",
      "\u001b[K     |███████████████████▉            | 4.1 MB 16.4 MB/s eta 0:00:01\r",
      "\u001b[K     |███████████████████▉            | 4.1 MB 16.4 MB/s eta 0:00:01\r",
      "\u001b[K     |████████████████████            | 4.1 MB 16.4 MB/s eta 0:00:01\r",
      "\u001b[K     |████████████████████            | 4.1 MB 16.4 MB/s eta 0:00:01\r",
      "\u001b[K     |████████████████████            | 4.1 MB 16.4 MB/s eta 0:00:01\r",
      "\u001b[K     |████████████████████            | 4.1 MB 16.4 MB/s eta 0:00:01\r",
      "\u001b[K     |████████████████████▏           | 4.1 MB 16.4 MB/s eta 0:00:01\r",
      "\u001b[K     |████████████████████▏           | 4.1 MB 16.4 MB/s eta 0:00:01\r",
      "\u001b[K     |████████████████████▎           | 4.1 MB 16.4 MB/s eta 0:00:01\r",
      "\u001b[K     |████████████████████▎           | 4.1 MB 16.4 MB/s eta 0:00:01\r",
      "\u001b[K     |████████████████████▎           | 4.2 MB 16.4 MB/s eta 0:00:01\r",
      "\u001b[K     |████████████████████▍           | 4.2 MB 16.4 MB/s eta 0:00:01\r",
      "\u001b[K     |████████████████████▍           | 4.2 MB 16.4 MB/s eta 0:00:01\r",
      "\u001b[K     |████████████████████▌           | 4.2 MB 16.4 MB/s eta 0:00:01\r",
      "\u001b[K     |████████████████████▌           | 4.2 MB 16.4 MB/s eta 0:00:01\r",
      "\u001b[K     |████████████████████▋           | 4.2 MB 16.4 MB/s eta 0:00:01\r",
      "\u001b[K     |████████████████████▋           | 4.2 MB 16.4 MB/s eta 0:00:01\r",
      "\u001b[K     |████████████████████▊           | 4.2 MB 16.4 MB/s eta 0:00:01\r",
      "\u001b[K     |████████████████████▊           | 4.2 MB 16.4 MB/s eta 0:00:01\r",
      "\u001b[K     |████████████████████▊           | 4.2 MB 16.4 MB/s eta 0:00:01\r",
      "\u001b[K     |████████████████████▉           | 4.3 MB 16.4 MB/s eta 0:00:01\r",
      "\u001b[K     |████████████████████▉           | 4.3 MB 16.4 MB/s eta 0:00:01\r",
      "\u001b[K     |█████████████████████           | 4.3 MB 16.4 MB/s eta 0:00:01\r",
      "\u001b[K     |█████████████████████           | 4.3 MB 16.4 MB/s eta 0:00:01\r",
      "\u001b[K     |█████████████████████           | 4.3 MB 16.4 MB/s eta 0:00:01\r",
      "\u001b[K     |█████████████████████           | 4.3 MB 16.4 MB/s eta 0:00:01\r",
      "\u001b[K     |█████████████████████▏          | 4.3 MB 16.4 MB/s eta 0:00:01\r",
      "\u001b[K     |█████████████████████▏          | 4.3 MB 16.4 MB/s eta 0:00:01\r",
      "\u001b[K     |█████████████████████▎          | 4.3 MB 16.4 MB/s eta 0:00:01\r",
      "\u001b[K     |█████████████████████▎          | 4.4 MB 16.4 MB/s eta 0:00:01\r",
      "\u001b[K     |█████████████████████▎          | 4.4 MB 16.4 MB/s eta 0:00:01\r",
      "\u001b[K     |█████████████████████▍          | 4.4 MB 16.4 MB/s eta 0:00:01\r",
      "\u001b[K     |█████████████████████▍          | 4.4 MB 16.4 MB/s eta 0:00:01\r",
      "\u001b[K     |█████████████████████▌          | 4.4 MB 16.4 MB/s eta 0:00:01\r",
      "\u001b[K     |█████████████████████▌          | 4.4 MB 16.4 MB/s eta 0:00:01\r",
      "\u001b[K     |█████████████████████▋          | 4.4 MB 16.4 MB/s eta 0:00:01\r",
      "\u001b[K     |█████████████████████▋          | 4.4 MB 16.4 MB/s eta 0:00:01\r",
      "\u001b[K     |█████████████████████▊          | 4.4 MB 16.4 MB/s eta 0:00:01\r",
      "\u001b[K     |█████████████████████▊          | 4.4 MB 16.4 MB/s eta 0:00:01\r",
      "\u001b[K     |█████████████████████▊          | 4.5 MB 16.4 MB/s eta 0:00:01\r",
      "\u001b[K     |█████████████████████▉          | 4.5 MB 16.4 MB/s eta 0:00:01\r",
      "\u001b[K     |█████████████████████▉          | 4.5 MB 16.4 MB/s eta 0:00:01\r",
      "\u001b[K     |██████████████████████          | 4.5 MB 16.4 MB/s eta 0:00:01\r",
      "\u001b[K     |██████████████████████          | 4.5 MB 16.4 MB/s eta 0:00:01\r",
      "\u001b[K     |██████████████████████          | 4.5 MB 16.4 MB/s eta 0:00:01\r",
      "\u001b[K     |██████████████████████          | 4.5 MB 16.4 MB/s eta 0:00:01\r",
      "\u001b[K     |██████████████████████▏         | 4.5 MB 16.4 MB/s eta 0:00:01\r",
      "\u001b[K     |██████████████████████▏         | 4.5 MB 16.4 MB/s eta 0:00:01\r",
      "\u001b[K     |██████████████████████▎         | 4.5 MB 16.4 MB/s eta 0:00:01\r",
      "\u001b[K     |██████████████████████▎         | 4.6 MB 16.4 MB/s eta 0:00:01\r",
      "\u001b[K     |██████████████████████▎         | 4.6 MB 16.4 MB/s eta 0:00:01\r",
      "\u001b[K     |██████████████████████▍         | 4.6 MB 16.4 MB/s eta 0:00:01\r",
      "\u001b[K     |██████████████████████▍         | 4.6 MB 16.4 MB/s eta 0:00:01\r",
      "\u001b[K     |██████████████████████▌         | 4.6 MB 16.4 MB/s eta 0:00:01\r",
      "\u001b[K     |██████████████████████▌         | 4.6 MB 16.4 MB/s eta 0:00:01\r",
      "\u001b[K     |██████████████████████▋         | 4.6 MB 16.4 MB/s eta 0:00:01\r",
      "\u001b[K     |██████████████████████▋         | 4.6 MB 16.4 MB/s eta 0:00:01\r",
      "\u001b[K     |██████████████████████▊         | 4.6 MB 16.4 MB/s eta 0:00:01\r",
      "\u001b[K     |██████████████████████▊         | 4.6 MB 16.4 MB/s eta 0:00:01\r",
      "\u001b[K     |██████████████████████▊         | 4.7 MB 16.4 MB/s eta 0:00:01\r",
      "\u001b[K     |██████████████████████▉         | 4.7 MB 16.4 MB/s eta 0:00:01\r",
      "\u001b[K     |██████████████████████▉         | 4.7 MB 16.4 MB/s eta 0:00:01\r",
      "\u001b[K     |███████████████████████         | 4.7 MB 16.4 MB/s eta 0:00:01\r",
      "\u001b[K     |███████████████████████         | 4.7 MB 16.4 MB/s eta 0:00:01\r",
      "\u001b[K     |███████████████████████         | 4.7 MB 16.4 MB/s eta 0:00:01\r",
      "\u001b[K     |███████████████████████         | 4.7 MB 16.4 MB/s eta 0:00:01\r",
      "\u001b[K     |███████████████████████▏        | 4.7 MB 16.4 MB/s eta 0:00:01\r",
      "\u001b[K     |███████████████████████▏        | 4.7 MB 16.4 MB/s eta 0:00:01\r",
      "\u001b[K     |███████████████████████▎        | 4.8 MB 16.4 MB/s eta 0:00:01\r",
      "\u001b[K     |███████████████████████▎        | 4.8 MB 16.4 MB/s eta 0:00:01\r",
      "\u001b[K     |███████████████████████▎        | 4.8 MB 16.4 MB/s eta 0:00:01\r",
      "\u001b[K     |███████████████████████▍        | 4.8 MB 16.4 MB/s eta 0:00:01\r",
      "\u001b[K     |███████████████████████▍        | 4.8 MB 16.4 MB/s eta 0:00:01\r",
      "\u001b[K     |███████████████████████▌        | 4.8 MB 16.4 MB/s eta 0:00:01\r",
      "\u001b[K     |███████████████████████▌        | 4.8 MB 16.4 MB/s eta 0:00:01\r",
      "\u001b[K     |███████████████████████▋        | 4.8 MB 16.4 MB/s eta 0:00:01\r",
      "\u001b[K     |███████████████████████▋        | 4.8 MB 16.4 MB/s eta 0:00:01\r",
      "\u001b[K     |███████████████████████▊        | 4.8 MB 16.4 MB/s eta 0:00:01\r",
      "\u001b[K     |███████████████████████▊        | 4.9 MB 16.4 MB/s eta 0:00:01\r",
      "\u001b[K     |███████████████████████▉        | 4.9 MB 16.4 MB/s eta 0:00:01\r",
      "\u001b[K     |███████████████████████▉        | 4.9 MB 16.4 MB/s eta 0:00:01\r",
      "\u001b[K     |███████████████████████▉        | 4.9 MB 16.4 MB/s eta 0:00:01\r",
      "\u001b[K     |████████████████████████        | 4.9 MB 16.4 MB/s eta 0:00:01\r",
      "\u001b[K     |████████████████████████        | 4.9 MB 16.4 MB/s eta 0:00:01\r",
      "\u001b[K     |████████████████████████        | 4.9 MB 16.4 MB/s eta 0:00:01\r",
      "\u001b[K     |████████████████████████        | 4.9 MB 16.4 MB/s eta 0:00:01\r",
      "\u001b[K     |████████████████████████▏       | 4.9 MB 16.4 MB/s eta 0:00:01\r",
      "\u001b[K     |████████████████████████▏       | 4.9 MB 16.4 MB/s eta 0:00:01\r",
      "\u001b[K     |████████████████████████▎       | 5.0 MB 16.4 MB/s eta 0:00:01\r",
      "\u001b[K     |████████████████████████▎       | 5.0 MB 16.4 MB/s eta 0:00:01\r",
      "\u001b[K     |████████████████████████▎       | 5.0 MB 16.4 MB/s eta 0:00:01\r",
      "\u001b[K     |████████████████████████▍       | 5.0 MB 16.4 MB/s eta 0:00:01\r",
      "\u001b[K     |████████████████████████▍       | 5.0 MB 16.4 MB/s eta 0:00:01\r",
      "\u001b[K     |████████████████████████▌       | 5.0 MB 16.4 MB/s eta 0:00:01\r",
      "\u001b[K     |████████████████████████▌       | 5.0 MB 16.4 MB/s eta 0:00:01\r",
      "\u001b[K     |████████████████████████▋       | 5.0 MB 16.4 MB/s eta 0:00:01\r",
      "\u001b[K     |████████████████████████▋       | 5.0 MB 16.4 MB/s eta 0:00:01\r",
      "\u001b[K     |████████████████████████▊       | 5.0 MB 16.4 MB/s eta 0:00:01\r",
      "\u001b[K     |████████████████████████▊       | 5.1 MB 16.4 MB/s eta 0:00:01\r",
      "\u001b[K     |████████████████████████▉       | 5.1 MB 16.4 MB/s eta 0:00:01\r",
      "\u001b[K     |████████████████████████▉       | 5.1 MB 16.4 MB/s eta 0:00:01\r",
      "\u001b[K     |████████████████████████▉       | 5.1 MB 16.4 MB/s eta 0:00:01\r",
      "\u001b[K     |█████████████████████████       | 5.1 MB 16.4 MB/s eta 0:00:01\r",
      "\u001b[K     |█████████████████████████       | 5.1 MB 16.4 MB/s eta 0:00:01\r",
      "\u001b[K     |█████████████████████████       | 5.1 MB 16.4 MB/s eta 0:00:01\r",
      "\u001b[K     |█████████████████████████       | 5.1 MB 16.4 MB/s eta 0:00:01\r",
      "\u001b[K     |█████████████████████████▏      | 5.1 MB 16.4 MB/s eta 0:00:01\r",
      "\u001b[K     |█████████████████████████▏      | 5.2 MB 16.4 MB/s eta 0:00:01\r",
      "\u001b[K     |█████████████████████████▎      | 5.2 MB 16.4 MB/s eta 0:00:01\r",
      "\u001b[K     |█████████████████████████▎      | 5.2 MB 16.4 MB/s eta 0:00:01"
     ]
    },
    {
     "name": "stdout",
     "output_type": "stream",
     "text": [
      "\r",
      "\u001b[K     |█████████████████████████▎      | 5.2 MB 16.4 MB/s eta 0:00:01\r",
      "\u001b[K     |█████████████████████████▍      | 5.2 MB 16.4 MB/s eta 0:00:01\r",
      "\u001b[K     |█████████████████████████▍      | 5.2 MB 16.4 MB/s eta 0:00:01\r",
      "\u001b[K     |█████████████████████████▌      | 5.2 MB 16.4 MB/s eta 0:00:01\r",
      "\u001b[K     |█████████████████████████▌      | 5.2 MB 16.4 MB/s eta 0:00:01\r",
      "\u001b[K     |█████████████████████████▋      | 5.2 MB 16.4 MB/s eta 0:00:01\r",
      "\u001b[K     |█████████████████████████▋      | 5.2 MB 16.4 MB/s eta 0:00:01\r",
      "\u001b[K     |█████████████████████████▊      | 5.3 MB 16.4 MB/s eta 0:00:01\r",
      "\u001b[K     |█████████████████████████▊      | 5.3 MB 16.4 MB/s eta 0:00:01\r",
      "\u001b[K     |█████████████████████████▉      | 5.3 MB 16.4 MB/s eta 0:00:01\r",
      "\u001b[K     |█████████████████████████▉      | 5.3 MB 16.4 MB/s eta 0:00:01\r",
      "\u001b[K     |█████████████████████████▉      | 5.3 MB 16.4 MB/s eta 0:00:01\r",
      "\u001b[K     |██████████████████████████      | 5.3 MB 16.4 MB/s eta 0:00:01\r",
      "\u001b[K     |██████████████████████████      | 5.3 MB 16.4 MB/s eta 0:00:01\r",
      "\u001b[K     |██████████████████████████      | 5.3 MB 16.4 MB/s eta 0:00:01\r",
      "\u001b[K     |██████████████████████████      | 5.3 MB 16.4 MB/s eta 0:00:01\r",
      "\u001b[K     |██████████████████████████▏     | 5.3 MB 16.4 MB/s eta 0:00:01\r",
      "\u001b[K     |██████████████████████████▏     | 5.4 MB 16.4 MB/s eta 0:00:01\r",
      "\u001b[K     |██████████████████████████▎     | 5.4 MB 16.4 MB/s eta 0:00:01\r",
      "\u001b[K     |██████████████████████████▎     | 5.4 MB 16.4 MB/s eta 0:00:01\r",
      "\u001b[K     |██████████████████████████▎     | 5.4 MB 16.4 MB/s eta 0:00:01\r",
      "\u001b[K     |██████████████████████████▍     | 5.4 MB 16.4 MB/s eta 0:00:01\r",
      "\u001b[K     |██████████████████████████▍     | 5.4 MB 16.4 MB/s eta 0:00:01\r",
      "\u001b[K     |██████████████████████████▌     | 5.4 MB 16.4 MB/s eta 0:00:01\r",
      "\u001b[K     |██████████████████████████▌     | 5.4 MB 16.4 MB/s eta 0:00:01\r",
      "\u001b[K     |██████████████████████████▋     | 5.4 MB 16.4 MB/s eta 0:00:01\r",
      "\u001b[K     |██████████████████████████▋     | 5.4 MB 16.4 MB/s eta 0:00:01\r",
      "\u001b[K     |██████████████████████████▊     | 5.5 MB 16.4 MB/s eta 0:00:01\r",
      "\u001b[K     |██████████████████████████▊     | 5.5 MB 16.4 MB/s eta 0:00:01\r",
      "\u001b[K     |██████████████████████████▉     | 5.5 MB 16.4 MB/s eta 0:00:01\r",
      "\u001b[K     |██████████████████████████▉     | 5.5 MB 16.4 MB/s eta 0:00:01\r",
      "\u001b[K     |██████████████████████████▉     | 5.5 MB 16.4 MB/s eta 0:00:01\r",
      "\u001b[K     |███████████████████████████     | 5.5 MB 16.4 MB/s eta 0:00:01\r",
      "\u001b[K     |███████████████████████████     | 5.5 MB 16.4 MB/s eta 0:00:01\r",
      "\u001b[K     |███████████████████████████     | 5.5 MB 16.4 MB/s eta 0:00:01\r",
      "\u001b[K     |███████████████████████████     | 5.5 MB 16.4 MB/s eta 0:00:01\r",
      "\u001b[K     |███████████████████████████▏    | 5.6 MB 16.4 MB/s eta 0:00:01\r",
      "\u001b[K     |███████████████████████████▏    | 5.6 MB 16.4 MB/s eta 0:00:01\r",
      "\u001b[K     |███████████████████████████▎    | 5.6 MB 16.4 MB/s eta 0:00:01\r",
      "\u001b[K     |███████████████████████████▎    | 5.6 MB 16.4 MB/s eta 0:00:01\r",
      "\u001b[K     |███████████████████████████▎    | 5.6 MB 16.4 MB/s eta 0:00:01\r",
      "\u001b[K     |███████████████████████████▍    | 5.6 MB 16.4 MB/s eta 0:00:01\r",
      "\u001b[K     |███████████████████████████▍    | 5.6 MB 16.4 MB/s eta 0:00:01\r",
      "\u001b[K     |███████████████████████████▌    | 5.6 MB 16.4 MB/s eta 0:00:01\r",
      "\u001b[K     |███████████████████████████▌    | 5.6 MB 16.4 MB/s eta 0:00:01\r",
      "\u001b[K     |███████████████████████████▋    | 5.6 MB 16.4 MB/s eta 0:00:01\r",
      "\u001b[K     |███████████████████████████▋    | 5.7 MB 16.4 MB/s eta 0:00:01\r",
      "\u001b[K     |███████████████████████████▊    | 5.7 MB 16.4 MB/s eta 0:00:01\r",
      "\u001b[K     |███████████████████████████▊    | 5.7 MB 16.4 MB/s eta 0:00:01\r",
      "\u001b[K     |███████████████████████████▉    | 5.7 MB 16.4 MB/s eta 0:00:01\r",
      "\u001b[K     |███████████████████████████▉    | 5.7 MB 16.4 MB/s eta 0:00:01\r",
      "\u001b[K     |███████████████████████████▉    | 5.7 MB 16.4 MB/s eta 0:00:01\r",
      "\u001b[K     |████████████████████████████    | 5.7 MB 16.4 MB/s eta 0:00:01\r",
      "\u001b[K     |████████████████████████████    | 5.7 MB 16.4 MB/s eta 0:00:01\r",
      "\u001b[K     |████████████████████████████    | 5.7 MB 16.4 MB/s eta 0:00:01\r",
      "\u001b[K     |████████████████████████████    | 5.7 MB 16.4 MB/s eta 0:00:01\r",
      "\u001b[K     |████████████████████████████▏   | 5.8 MB 16.4 MB/s eta 0:00:01\r",
      "\u001b[K     |████████████████████████████▏   | 5.8 MB 16.4 MB/s eta 0:00:01\r",
      "\u001b[K     |████████████████████████████▎   | 5.8 MB 16.4 MB/s eta 0:00:01\r",
      "\u001b[K     |████████████████████████████▎   | 5.8 MB 16.4 MB/s eta 0:00:01\r",
      "\u001b[K     |████████████████████████████▍   | 5.8 MB 16.4 MB/s eta 0:00:01\r",
      "\u001b[K     |████████████████████████████▍   | 5.8 MB 16.4 MB/s eta 0:00:01\r",
      "\u001b[K     |████████████████████████████▍   | 5.8 MB 16.4 MB/s eta 0:00:01\r",
      "\u001b[K     |████████████████████████████▌   | 5.8 MB 16.4 MB/s eta 0:00:01\r",
      "\u001b[K     |████████████████████████████▌   | 5.8 MB 16.4 MB/s eta 0:00:01\r",
      "\u001b[K     |████████████████████████████▋   | 5.8 MB 16.4 MB/s eta 0:00:01\r",
      "\u001b[K     |████████████████████████████▋   | 5.9 MB 16.4 MB/s eta 0:00:01\r",
      "\u001b[K     |████████████████████████████▊   | 5.9 MB 16.4 MB/s eta 0:00:01\r",
      "\u001b[K     |████████████████████████████▊   | 5.9 MB 16.4 MB/s eta 0:00:01\r",
      "\u001b[K     |████████████████████████████▉   | 5.9 MB 16.4 MB/s eta 0:00:01\r",
      "\u001b[K     |████████████████████████████▉   | 5.9 MB 16.4 MB/s eta 0:00:01\r",
      "\u001b[K     |████████████████████████████▉   | 5.9 MB 16.4 MB/s eta 0:00:01\r",
      "\u001b[K     |█████████████████████████████   | 5.9 MB 16.4 MB/s eta 0:00:01\r",
      "\u001b[K     |█████████████████████████████   | 5.9 MB 16.4 MB/s eta 0:00:01\r",
      "\u001b[K     |█████████████████████████████   | 5.9 MB 16.4 MB/s eta 0:00:01\r",
      "\u001b[K     |█████████████████████████████   | 5.9 MB 16.4 MB/s eta 0:00:01\r",
      "\u001b[K     |█████████████████████████████▏  | 6.0 MB 16.4 MB/s eta 0:00:01\r",
      "\u001b[K     |█████████████████████████████▏  | 6.0 MB 16.4 MB/s eta 0:00:01\r",
      "\u001b[K     |█████████████████████████████▎  | 6.0 MB 16.4 MB/s eta 0:00:01\r",
      "\u001b[K     |█████████████████████████████▎  | 6.0 MB 16.4 MB/s eta 0:00:01\r",
      "\u001b[K     |█████████████████████████████▍  | 6.0 MB 16.4 MB/s eta 0:00:01\r",
      "\u001b[K     |█████████████████████████████▍  | 6.0 MB 16.4 MB/s eta 0:00:01\r",
      "\u001b[K     |█████████████████████████████▍  | 6.0 MB 16.4 MB/s eta 0:00:01\r",
      "\u001b[K     |█████████████████████████████▌  | 6.0 MB 16.4 MB/s eta 0:00:01\r",
      "\u001b[K     |█████████████████████████████▌  | 6.0 MB 16.4 MB/s eta 0:00:01\r",
      "\u001b[K     |█████████████████████████████▋  | 6.1 MB 16.4 MB/s eta 0:00:01\r",
      "\u001b[K     |█████████████████████████████▋  | 6.1 MB 16.4 MB/s eta 0:00:01\r",
      "\u001b[K     |█████████████████████████████▊  | 6.1 MB 16.4 MB/s eta 0:00:01\r",
      "\u001b[K     |█████████████████████████████▊  | 6.1 MB 16.4 MB/s eta 0:00:01\r",
      "\u001b[K     |█████████████████████████████▉  | 6.1 MB 16.4 MB/s eta 0:00:01\r",
      "\u001b[K     |█████████████████████████████▉  | 6.1 MB 16.4 MB/s eta 0:00:01\r",
      "\u001b[K     |█████████████████████████████▉  | 6.1 MB 16.4 MB/s eta 0:00:01\r",
      "\u001b[K     |██████████████████████████████  | 6.1 MB 16.4 MB/s eta 0:00:01\r",
      "\u001b[K     |██████████████████████████████  | 6.1 MB 16.4 MB/s eta 0:00:01\r",
      "\u001b[K     |██████████████████████████████  | 6.1 MB 16.4 MB/s eta 0:00:01\r",
      "\u001b[K     |██████████████████████████████  | 6.2 MB 16.4 MB/s eta 0:00:01\r",
      "\u001b[K     |██████████████████████████████▏ | 6.2 MB 16.4 MB/s eta 0:00:01\r",
      "\u001b[K     |██████████████████████████████▏ | 6.2 MB 16.4 MB/s eta 0:00:01\r",
      "\u001b[K     |██████████████████████████████▎ | 6.2 MB 16.4 MB/s eta 0:00:01\r",
      "\u001b[K     |██████████████████████████████▎ | 6.2 MB 16.4 MB/s eta 0:00:01\r",
      "\u001b[K     |██████████████████████████████▍ | 6.2 MB 16.4 MB/s eta 0:00:01\r",
      "\u001b[K     |██████████████████████████████▍ | 6.2 MB 16.4 MB/s eta 0:00:01\r",
      "\u001b[K     |██████████████████████████████▍ | 6.2 MB 16.4 MB/s eta 0:00:01\r",
      "\u001b[K     |██████████████████████████████▌ | 6.2 MB 16.4 MB/s eta 0:00:01\r",
      "\u001b[K     |██████████████████████████████▌ | 6.2 MB 16.4 MB/s eta 0:00:01\r",
      "\u001b[K     |██████████████████████████████▋ | 6.3 MB 16.4 MB/s eta 0:00:01\r",
      "\u001b[K     |██████████████████████████████▋ | 6.3 MB 16.4 MB/s eta 0:00:01\r",
      "\u001b[K     |██████████████████████████████▊ | 6.3 MB 16.4 MB/s eta 0:00:01\r",
      "\u001b[K     |██████████████████████████████▊ | 6.3 MB 16.4 MB/s eta 0:00:01\r",
      "\u001b[K     |██████████████████████████████▉ | 6.3 MB 16.4 MB/s eta 0:00:01\r",
      "\u001b[K     |██████████████████████████████▉ | 6.3 MB 16.4 MB/s eta 0:00:01\r",
      "\u001b[K     |██████████████████████████████▉ | 6.3 MB 16.4 MB/s eta 0:00:01\r",
      "\u001b[K     |███████████████████████████████ | 6.3 MB 16.4 MB/s eta 0:00:01\r",
      "\u001b[K     |███████████████████████████████ | 6.3 MB 16.4 MB/s eta 0:00:01\r",
      "\u001b[K     |███████████████████████████████ | 6.3 MB 16.4 MB/s eta 0:00:01\r",
      "\u001b[K     |███████████████████████████████ | 6.4 MB 16.4 MB/s eta 0:00:01\r",
      "\u001b[K     |███████████████████████████████▏| 6.4 MB 16.4 MB/s eta 0:00:01\r",
      "\u001b[K     |███████████████████████████████▏| 6.4 MB 16.4 MB/s eta 0:00:01\r",
      "\u001b[K     |███████████████████████████████▎| 6.4 MB 16.4 MB/s eta 0:00:01\r",
      "\u001b[K     |███████████████████████████████▎| 6.4 MB 16.4 MB/s eta 0:00:01"
     ]
    },
    {
     "name": "stdout",
     "output_type": "stream",
     "text": [
      "\r",
      "\u001b[K     |███████████████████████████████▍| 6.4 MB 16.4 MB/s eta 0:00:01\r",
      "\u001b[K     |███████████████████████████████▍| 6.4 MB 16.4 MB/s eta 0:00:01\r",
      "\u001b[K     |███████████████████████████████▍| 6.4 MB 16.4 MB/s eta 0:00:01\r",
      "\u001b[K     |███████████████████████████████▌| 6.4 MB 16.4 MB/s eta 0:00:01\r",
      "\u001b[K     |███████████████████████████████▌| 6.5 MB 16.4 MB/s eta 0:00:01\r",
      "\u001b[K     |███████████████████████████████▋| 6.5 MB 16.4 MB/s eta 0:00:01\r",
      "\u001b[K     |███████████████████████████████▋| 6.5 MB 16.4 MB/s eta 0:00:01\r",
      "\u001b[K     |███████████████████████████████▊| 6.5 MB 16.4 MB/s eta 0:00:01\r",
      "\u001b[K     |███████████████████████████████▊| 6.5 MB 16.4 MB/s eta 0:00:01\r",
      "\u001b[K     |███████████████████████████████▉| 6.5 MB 16.4 MB/s eta 0:00:01\r",
      "\u001b[K     |███████████████████████████████▉| 6.5 MB 16.4 MB/s eta 0:00:01\r",
      "\u001b[K     |███████████████████████████████▉| 6.5 MB 16.4 MB/s eta 0:00:01\r",
      "\u001b[K     |████████████████████████████████| 6.5 MB 16.4 MB/s eta 0:00:01\r",
      "\u001b[K     |████████████████████████████████| 6.5 MB 16.4 MB/s eta 0:00:01\r",
      "\u001b[K     |████████████████████████████████| 6.5 MB 16.4 MB/s \r\n"
     ]
    },
    {
     "name": "stdout",
     "output_type": "stream",
     "text": [
      "\u001b[?25hRequirement already satisfied: typing-extensions>=3.7.4.3 in /opt/conda/lib/python3.8/site-packages (from huggingface-hub<1.0,>=0.1.0->transformers) (4.0.1)\r\n",
      "Requirement already satisfied: pyparsing!=3.0.5,>=2.0.2 in /opt/conda/lib/python3.8/site-packages (from packaging>=20.0->transformers) (3.0.7)\r\n"
     ]
    },
    {
     "name": "stdout",
     "output_type": "stream",
     "text": [
      "Requirement already satisfied: urllib3<1.27,>=1.21.1 in /opt/conda/lib/python3.8/site-packages (from requests->transformers) (1.26.7)\r\n",
      "Requirement already satisfied: certifi>=2017.4.17 in /opt/conda/lib/python3.8/site-packages (from requests->transformers) (2021.10.8)\r\n",
      "Requirement already satisfied: idna<4,>=2.5 in /opt/conda/lib/python3.8/site-packages (from requests->transformers) (3.1)\r\n",
      "Requirement already satisfied: charset-normalizer~=2.0.0 in /opt/conda/lib/python3.8/site-packages (from requests->transformers) (2.0.9)\r\n",
      "Requirement already satisfied: click in /opt/conda/lib/python3.8/site-packages (from sacremoses->transformers) (8.0.3)\r\n",
      "Requirement already satisfied: joblib in /opt/conda/lib/python3.8/site-packages (from sacremoses->transformers) (1.1.0)\r\n",
      "Requirement already satisfied: six in /opt/conda/lib/python3.8/site-packages (from sacremoses->transformers) (1.16.0)\r\n"
     ]
    },
    {
     "name": "stdout",
     "output_type": "stream",
     "text": [
      "Installing collected packages: tokenizers, huggingface-hub, transformers\r\n"
     ]
    },
    {
     "name": "stdout",
     "output_type": "stream",
     "text": [
      "Successfully installed huggingface-hub-0.4.0 tokenizers-0.11.6 transformers-4.17.0\r\n",
      "\u001b[33mWARNING: Running pip as the 'root' user can result in broken permissions and conflicting behaviour with the system package manager. It is recommended to use a virtual environment instead: https://pip.pypa.io/warnings/venv\u001b[0m\r\n"
     ]
    }
   ],
   "source": [
    "!pip install transformers"
   ]
  },
  {
   "cell_type": "code",
   "execution_count": null,
   "id": "f2616b46",
   "metadata": {
    "gradient": {
     "editing": false,
     "id": "f2616b46",
     "kernelId": "ff57d632-a363-4495-82e1-2880b456edaa"
    },
    "id": "f2616b46"
   },
   "outputs": [],
   "source": [
    "import sys\n",
    "!{sys.executable} -m pip install transformers"
   ]
  },
  {
   "cell_type": "code",
   "execution_count": null,
   "id": "66a84c5b",
   "metadata": {
    "gradient": {
     "editing": false,
     "id": "66a84c5b",
     "kernelId": "ff57d632-a363-4495-82e1-2880b456edaa"
    },
    "id": "66a84c5b"
   },
   "outputs": [],
   "source": [
    "import pandas as pd\n",
    "import numpy as np\n",
    "import torch\n",
    "from tqdm.notebook import tqdm\n",
    "\n",
    "from transformers import BertTokenizer\n",
    "from torch.utils.data import TensorDataset\n",
    "\n",
    "from transformers import AutoTokenizer, AutoModel, AutoModelForSequenceClassification\n",
    "\n",
    "from matplotlib import pyplot as plt\n",
    "import seaborn as sns\n",
    "\n",
    "from sklearn.metrics import classification_report, confusion_matrix"
   ]
  },
  {
   "cell_type": "code",
   "execution_count": null,
   "id": "4d83d347-c5c3-4fb9-95f2-90bdc95e001a",
   "metadata": {
    "collapsed": false,
    "gradient": {
     "editing": false,
     "id": "4d83d347-c5c3-4fb9-95f2-90bdc95e001a",
     "kernelId": "ff57d632-a363-4495-82e1-2880b456edaa",
     "source_hidden": false
    }
   },
   "outputs": [],
   "source": [
    "from tqdm import tqdm"
   ]
  },
  {
   "cell_type": "markdown",
   "id": "39da5ece",
   "metadata": {
    "gradient": {
     "editing": false,
     "id": "39da5ece",
     "kernelId": "ff57d632-a363-4495-82e1-2880b456edaa"
    },
    "id": "39da5ece"
   },
   "source": [
    "# Get data"
   ]
  },
  {
   "cell_type": "code",
   "execution_count": null,
   "id": "Py8Bi9pLmqNk",
   "metadata": {
    "colab": {
     "base_uri": "https://localhost:8080/"
    },
    "gradient": {
     "editing": false,
     "id": "Py8Bi9pLmqNk",
     "kernelId": "ff57d632-a363-4495-82e1-2880b456edaa"
    },
    "id": "Py8Bi9pLmqNk",
    "outputId": "a934baf5-fc99-4c94-ad2f-750c0fde4c0a"
   },
   "outputs": [
    {
     "name": "stdout",
     "output_type": "stream",
     "text": [
      "Mounted at /content/drive\n",
      "/content/drive/MyDrive/twitter_training\n"
     ]
    }
   ],
   "source": [
    "from google.colab import drive\n",
    "import tensorflow as tf\n",
    "\n",
    "drive.mount('/content/drive')\n",
    "%cd drive/MyDrive/twitter_training/"
   ]
  },
  {
   "cell_type": "code",
   "execution_count": null,
   "id": "47471ee1",
   "metadata": {
    "colab": {
     "base_uri": "https://localhost:8080/",
     "height": 206
    },
    "gradient": {
     "editing": false,
     "id": "47471ee1",
     "kernelId": "ff57d632-a363-4495-82e1-2880b456edaa"
    },
    "id": "47471ee1",
    "outputId": "5b6d6f8c-5cb8-43a4-8522-1b9382204a12"
   },
   "outputs": [
    {
     "data": {
      "text/html": [
       "<div>\n",
       "<style scoped>\n",
       "    .dataframe tbody tr th:only-of-type {\n",
       "        vertical-align: middle;\n",
       "    }\n",
       "\n",
       "    .dataframe tbody tr th {\n",
       "        vertical-align: top;\n",
       "    }\n",
       "\n",
       "    .dataframe thead th {\n",
       "        text-align: right;\n",
       "    }\n",
       "</style>\n",
       "<table border=\"1\" class=\"dataframe\">\n",
       "  <thead>\n",
       "    <tr style=\"text-align: right;\">\n",
       "      <th></th>\n",
       "      <th>id</th>\n",
       "      <th>message_lv_tilde</th>\n",
       "      <th>label</th>\n",
       "    </tr>\n",
       "  </thead>\n",
       "  <tbody>\n",
       "    <tr>\n",
       "      <th>0</th>\n",
       "      <td>1.340000e+18</td>\n",
       "      <td>@pilsonenjeff @lauferlaw @donwinslows pa reize...</td>\n",
       "      <td>negative</td>\n",
       "    </tr>\n",
       "    <tr>\n",
       "      <th>1</th>\n",
       "      <td>1.330000e+18</td>\n",
       "      <td>@tkdylan cilvēkiem ir aģentūra. Lins Vuds ir v...</td>\n",
       "      <td>negative</td>\n",
       "    </tr>\n",
       "    <tr>\n",
       "      <th>2</th>\n",
       "      <td>1.330000e+18</td>\n",
       "      <td>@foenixaew Es nojaušu, ka WWE lika viņam iznāk...</td>\n",
       "      <td>negative</td>\n",
       "    </tr>\n",
       "    <tr>\n",
       "      <th>3</th>\n",
       "      <td>1.320000e+18</td>\n",
       "      <td>Maksvels droši vien pačurās mājā pirms mūsu nā...</td>\n",
       "      <td>negative</td>\n",
       "    </tr>\n",
       "    <tr>\n",
       "      <th>4</th>\n",
       "      <td>1.320000e+18</td>\n",
       "      <td>@msamson56 Esmu pārsteigts. KĀ cilvēki var atb...</td>\n",
       "      <td>negative</td>\n",
       "    </tr>\n",
       "  </tbody>\n",
       "</table>\n",
       "</div>"
      ],
      "text/plain": [
       "             id                                   message_lv_tilde     label\n",
       "0  1.340000e+18  @pilsonenjeff @lauferlaw @donwinslows pa reize...  negative\n",
       "1  1.330000e+18  @tkdylan cilvēkiem ir aģentūra. Lins Vuds ir v...  negative\n",
       "2  1.330000e+18  @foenixaew Es nojaušu, ka WWE lika viņam iznāk...  negative\n",
       "3  1.320000e+18  Maksvels droši vien pačurās mājā pirms mūsu nā...  negative\n",
       "4  1.320000e+18  @msamson56 Esmu pārsteigts. KĀ cilvēki var atb...  negative"
      ]
     },
     "execution_count": 6,
     "metadata": {},
     "output_type": "execute_result"
    }
   ],
   "source": [
    "df = pd.read_csv('./p_n_n_tilde_lv.csv')\n",
    "df = df[['id', 'message_lv_tilde', 'label']]\n",
    "df.head()"
   ]
  },
  {
   "cell_type": "code",
   "execution_count": null,
   "id": "e7cf93da",
   "metadata": {
    "colab": {
     "base_uri": "https://localhost:8080/"
    },
    "gradient": {
     "editing": false,
     "id": "e7cf93da",
     "kernelId": "ff57d632-a363-4495-82e1-2880b456edaa"
    },
    "id": "e7cf93da",
    "outputId": "f855ec1b-6bc5-4981-dc46-81fb7d46a245"
   },
   "outputs": [
    {
     "data": {
      "text/plain": [
       "0    77028\n",
       "1    51994\n",
       "2    45622\n",
       "Name: label, dtype: int64"
      ]
     },
     "execution_count": 7,
     "metadata": {},
     "output_type": "execute_result"
    }
   ],
   "source": [
    "label_dict = {'neutral': 0, 'positive': 1, 'negative': 2}\n",
    "df['label'] = df.label.replace(label_dict) \n",
    "df['label'].value_counts()"
   ]
  },
  {
   "cell_type": "code",
   "execution_count": null,
   "id": "42acbbd3",
   "metadata": {
    "colab": {
     "base_uri": "https://localhost:8080/",
     "height": 206
    },
    "gradient": {
     "editing": false,
     "id": "42acbbd3",
     "kernelId": "ff57d632-a363-4495-82e1-2880b456edaa"
    },
    "id": "42acbbd3",
    "outputId": "55b5122b-b43f-4f1e-fbc2-35ff610e97c1"
   },
   "outputs": [
    {
     "data": {
      "text/html": [
       "<div>\n",
       "<style scoped>\n",
       "    .dataframe tbody tr th:only-of-type {\n",
       "        vertical-align: middle;\n",
       "    }\n",
       "\n",
       "    .dataframe tbody tr th {\n",
       "        vertical-align: top;\n",
       "    }\n",
       "\n",
       "    .dataframe thead th {\n",
       "        text-align: right;\n",
       "    }\n",
       "</style>\n",
       "<table border=\"1\" class=\"dataframe\">\n",
       "  <thead>\n",
       "    <tr style=\"text-align: right;\">\n",
       "      <th></th>\n",
       "      <th>id</th>\n",
       "      <th>message_lv_tilde</th>\n",
       "      <th>label</th>\n",
       "      <th>clean_message</th>\n",
       "    </tr>\n",
       "  </thead>\n",
       "  <tbody>\n",
       "    <tr>\n",
       "      <th>0</th>\n",
       "      <td>1.340000e+18</td>\n",
       "      <td>@pilsonenjeff @lauferlaw @donwinslows pa reize...</td>\n",
       "      <td>2</td>\n",
       "      <td>MENTION MENTION MENTION pa reizei tādu nav bij...</td>\n",
       "    </tr>\n",
       "    <tr>\n",
       "      <th>1</th>\n",
       "      <td>1.330000e+18</td>\n",
       "      <td>@tkdylan cilvēkiem ir aģentūra. Lins Vuds ir v...</td>\n",
       "      <td>2</td>\n",
       "      <td>MENTION cilvēkiem ir aģentūra. Lins Vuds ir va...</td>\n",
       "    </tr>\n",
       "    <tr>\n",
       "      <th>2</th>\n",
       "      <td>1.330000e+18</td>\n",
       "      <td>@foenixaew Es nojaušu, ka WWE lika viņam iznāk...</td>\n",
       "      <td>2</td>\n",
       "      <td>MENTION Es nojaušu, ka WWE lika viņam iznākt a...</td>\n",
       "    </tr>\n",
       "    <tr>\n",
       "      <th>3</th>\n",
       "      <td>1.320000e+18</td>\n",
       "      <td>Maksvels droši vien pačurās mājā pirms mūsu nā...</td>\n",
       "      <td>2</td>\n",
       "      <td>Maksvels droši vien pačurās mājā pirms mūsu nā...</td>\n",
       "    </tr>\n",
       "    <tr>\n",
       "      <th>4</th>\n",
       "      <td>1.320000e+18</td>\n",
       "      <td>@msamson56 Esmu pārsteigts. KĀ cilvēki var atb...</td>\n",
       "      <td>2</td>\n",
       "      <td>MENTION Esmu pārsteigts. KĀ cilvēki var atbals...</td>\n",
       "    </tr>\n",
       "  </tbody>\n",
       "</table>\n",
       "</div>"
      ],
      "text/plain": [
       "             id                                   message_lv_tilde  label  \\\n",
       "0  1.340000e+18  @pilsonenjeff @lauferlaw @donwinslows pa reize...      2   \n",
       "1  1.330000e+18  @tkdylan cilvēkiem ir aģentūra. Lins Vuds ir v...      2   \n",
       "2  1.330000e+18  @foenixaew Es nojaušu, ka WWE lika viņam iznāk...      2   \n",
       "3  1.320000e+18  Maksvels droši vien pačurās mājā pirms mūsu nā...      2   \n",
       "4  1.320000e+18  @msamson56 Esmu pārsteigts. KĀ cilvēki var atb...      2   \n",
       "\n",
       "                                       clean_message  \n",
       "0  MENTION MENTION MENTION pa reizei tādu nav bij...  \n",
       "1  MENTION cilvēkiem ir aģentūra. Lins Vuds ir va...  \n",
       "2  MENTION Es nojaušu, ka WWE lika viņam iznākt a...  \n",
       "3  Maksvels droši vien pačurās mājā pirms mūsu nā...  \n",
       "4  MENTION Esmu pārsteigts. KĀ cilvēki var atbals...  "
      ]
     },
     "execution_count": 8,
     "metadata": {},
     "output_type": "execute_result"
    }
   ],
   "source": [
    "newLine =\"\\\\n|\\\\r\"\n",
    "urls = '(https?:\\/\\/(?:www\\.|(?!www))[a-zA-Z0-9][a-zA-Z0-9-]+[a-zA-Z0-9]\\.[^\\s]{2,}|www\\.[a-zA-Z0-9][a-zA-Z0-9-]+[a-zA-Z0-9]\\.[^\\s]{2,}|https?:\\/\\/(?:www\\.|(?!www))[a-zA-Z0-9]+\\.[^\\s]{2,}|www\\.[a-zA-Z0-9]+\\.[^\\s]{2,})'\n",
    "numbers = '\\d+((\\.|\\-)\\d+)?'\n",
    "mentions = '\\B\\@([\\w\\-]+)'\n",
    "hashtag = '#'\n",
    "whitespaces = '\\s+'\n",
    "leadTrailWhitespace = '^\\s+|\\s+?$'\n",
    "\n",
    "df['clean_message'] = df['message_lv_tilde']\n",
    "df['clean_message'] = df['clean_message'].str.replace(newLine,' ',regex=True)\n",
    "df['clean_message'] = df['clean_message'].str.replace(urls,' URL ',regex=True)\n",
    "df['clean_message'] = df['clean_message'].str.replace(mentions,' MENTION ',regex=True)\n",
    "df['clean_message'] = df['clean_message'].str.replace(numbers,' NMBR ',regex=True)\n",
    "df['clean_message'] = df['clean_message'].str.replace(hashtag,' ',regex=True)\n",
    "df['clean_message'] = df['clean_message'].str.replace(whitespaces,' ',regex=True)\n",
    "df['clean_message'] = df['clean_message'].str.replace(leadTrailWhitespace,'',regex=True)\n",
    "\n",
    "df.head()"
   ]
  },
  {
   "cell_type": "markdown",
   "id": "1abc0d24",
   "metadata": {
    "gradient": {
     "editing": false,
     "id": "1abc0d24",
     "kernelId": "ff57d632-a363-4495-82e1-2880b456edaa"
    },
    "id": "1abc0d24"
   },
   "source": [
    "# Train, validate split"
   ]
  },
  {
   "cell_type": "code",
   "execution_count": null,
   "id": "c1b2abc1",
   "metadata": {
    "gradient": {
     "editing": false,
     "id": "c1b2abc1",
     "kernelId": "ff57d632-a363-4495-82e1-2880b456edaa"
    },
    "id": "c1b2abc1"
   },
   "outputs": [],
   "source": [
    "from sklearn.model_selection import train_test_split\n",
    "\n",
    "X_train, X_val, y_train, y_val = train_test_split(df.index.values, \n",
    "                                                  df.label.values, \n",
    "                                                  test_size=0.15, \n",
    "                                                  random_state=42, \n",
    "                                                  stratify=df.label.values)"
   ]
  },
  {
   "cell_type": "code",
   "execution_count": null,
   "id": "051783f5",
   "metadata": {
    "colab": {
     "base_uri": "https://localhost:8080/",
     "height": 269
    },
    "gradient": {
     "editing": false,
     "id": "051783f5",
     "kernelId": "ff57d632-a363-4495-82e1-2880b456edaa"
    },
    "id": "051783f5",
    "outputId": "ca557157-7938-4428-82a6-cbcd6e1278b3"
   },
   "outputs": [
    {
     "data": {
      "text/html": [
       "<div>\n",
       "<style scoped>\n",
       "    .dataframe tbody tr th:only-of-type {\n",
       "        vertical-align: middle;\n",
       "    }\n",
       "\n",
       "    .dataframe tbody tr th {\n",
       "        vertical-align: top;\n",
       "    }\n",
       "\n",
       "    .dataframe thead th {\n",
       "        text-align: right;\n",
       "    }\n",
       "</style>\n",
       "<table border=\"1\" class=\"dataframe\">\n",
       "  <thead>\n",
       "    <tr style=\"text-align: right;\">\n",
       "      <th></th>\n",
       "      <th></th>\n",
       "      <th>id</th>\n",
       "      <th>message_lv_tilde</th>\n",
       "      <th>clean_message</th>\n",
       "    </tr>\n",
       "    <tr>\n",
       "      <th>label</th>\n",
       "      <th>data_type</th>\n",
       "      <th></th>\n",
       "      <th></th>\n",
       "      <th></th>\n",
       "    </tr>\n",
       "  </thead>\n",
       "  <tbody>\n",
       "    <tr>\n",
       "      <th rowspan=\"2\" valign=\"top\">0</th>\n",
       "      <th>train</th>\n",
       "      <td>65474</td>\n",
       "      <td>65474</td>\n",
       "      <td>65474</td>\n",
       "    </tr>\n",
       "    <tr>\n",
       "      <th>val</th>\n",
       "      <td>11554</td>\n",
       "      <td>11554</td>\n",
       "      <td>11554</td>\n",
       "    </tr>\n",
       "    <tr>\n",
       "      <th rowspan=\"2\" valign=\"top\">1</th>\n",
       "      <th>train</th>\n",
       "      <td>44195</td>\n",
       "      <td>44195</td>\n",
       "      <td>44195</td>\n",
       "    </tr>\n",
       "    <tr>\n",
       "      <th>val</th>\n",
       "      <td>7799</td>\n",
       "      <td>7799</td>\n",
       "      <td>7799</td>\n",
       "    </tr>\n",
       "    <tr>\n",
       "      <th rowspan=\"2\" valign=\"top\">2</th>\n",
       "      <th>train</th>\n",
       "      <td>38778</td>\n",
       "      <td>38778</td>\n",
       "      <td>38778</td>\n",
       "    </tr>\n",
       "    <tr>\n",
       "      <th>val</th>\n",
       "      <td>6844</td>\n",
       "      <td>6844</td>\n",
       "      <td>6844</td>\n",
       "    </tr>\n",
       "  </tbody>\n",
       "</table>\n",
       "</div>"
      ],
      "text/plain": [
       "                    id  message_lv_tilde  clean_message\n",
       "label data_type                                        \n",
       "0     train      65474             65474          65474\n",
       "      val        11554             11554          11554\n",
       "1     train      44195             44195          44195\n",
       "      val         7799              7799           7799\n",
       "2     train      38778             38778          38778\n",
       "      val         6844              6844           6844"
      ]
     },
     "execution_count": 10,
     "metadata": {},
     "output_type": "execute_result"
    }
   ],
   "source": [
    "df['data_type'] = ['not_set']*df.shape[0]\n",
    "\n",
    "df.loc[X_train, 'data_type'] = 'train'\n",
    "df.loc[X_val, 'data_type'] = 'val'\n",
    "\n",
    "df.groupby(['label', 'data_type']).count()"
   ]
  },
  {
   "cell_type": "markdown",
   "id": "96c5ed40",
   "metadata": {
    "gradient": {
     "editing": false,
     "id": "96c5ed40",
     "kernelId": "ff57d632-a363-4495-82e1-2880b456edaa"
    },
    "id": "96c5ed40"
   },
   "source": [
    "## Balance training data"
   ]
  },
  {
   "cell_type": "code",
   "execution_count": null,
   "id": "d94d7777",
   "metadata": {
    "colab": {
     "base_uri": "https://localhost:8080/"
    },
    "gradient": {
     "editing": false,
     "id": "d94d7777",
     "kernelId": "ff57d632-a363-4495-82e1-2880b456edaa"
    },
    "id": "d94d7777",
    "outputId": "f3543c30-5a3e-49c7-cc53-71dd0e90245a"
   },
   "outputs": [
    {
     "data": {
      "text/plain": [
       "0    65474\n",
       "1    44195\n",
       "2    38778\n",
       "Name: label, dtype: int64"
      ]
     },
     "execution_count": 11,
     "metadata": {},
     "output_type": "execute_result"
    }
   ],
   "source": [
    "df[df.data_type=='train']['label'].value_counts()"
   ]
  },
  {
   "cell_type": "code",
   "execution_count": null,
   "id": "4b9b2669",
   "metadata": {
    "colab": {
     "base_uri": "https://localhost:8080/"
    },
    "gradient": {
     "editing": false,
     "id": "4b9b2669",
     "kernelId": "ff57d632-a363-4495-82e1-2880b456edaa"
    },
    "id": "4b9b2669",
    "outputId": "3505e970-c734-496e-d151-77e2a0d38156"
   },
   "outputs": [
    {
     "data": {
      "text/plain": [
       "0    38778\n",
       "1    38778\n",
       "2    38778\n",
       "Name: label, dtype: int64"
      ]
     },
     "execution_count": 12,
     "metadata": {},
     "output_type": "execute_result"
    }
   ],
   "source": [
    "df_train = [df[df.data_type=='train'].clean_message, df[df.data_type=='train'].label]\n",
    "df_train = pd.concat(df_train, axis=1, keys=[\"clean_message\", \"label\"])\n",
    "\n",
    "df_0 = df_train[df_train['label']==0]\n",
    "df_1 = df_train[df_train['label']==1]\n",
    "df_2 = df_train[df_train['label']==2]\n",
    "\n",
    "df_0_downsampled = df_0.sample(df_2.shape[0], random_state=42)\n",
    "df_1_downsampled = df_1.sample(df_2.shape[0], random_state=42)\n",
    "\n",
    "df_train = pd.concat([df_0_downsampled, df_1_downsampled, df_2])\n",
    "\n",
    "df_train['label'].value_counts()"
   ]
  },
  {
   "cell_type": "code",
   "execution_count": null,
   "id": "36da2411",
   "metadata": {
    "colab": {
     "base_uri": "https://localhost:8080/",
     "height": 206
    },
    "gradient": {
     "editing": false,
     "id": "36da2411",
     "kernelId": "ff57d632-a363-4495-82e1-2880b456edaa"
    },
    "id": "36da2411",
    "outputId": "2fb280fb-080c-4722-ac06-cbb1c5a4431e"
   },
   "outputs": [
    {
     "data": {
      "text/html": [
       "<div>\n",
       "<style scoped>\n",
       "    .dataframe tbody tr th:only-of-type {\n",
       "        vertical-align: middle;\n",
       "    }\n",
       "\n",
       "    .dataframe tbody tr th {\n",
       "        vertical-align: top;\n",
       "    }\n",
       "\n",
       "    .dataframe thead th {\n",
       "        text-align: right;\n",
       "    }\n",
       "</style>\n",
       "<table border=\"1\" class=\"dataframe\">\n",
       "  <thead>\n",
       "    <tr style=\"text-align: right;\">\n",
       "      <th></th>\n",
       "      <th>clean_message</th>\n",
       "      <th>label</th>\n",
       "    </tr>\n",
       "  </thead>\n",
       "  <tbody>\n",
       "    <tr>\n",
       "      <th>173549</th>\n",
       "      <td>Negadījums. divas labās joslas bloķētas TriSta...</td>\n",
       "      <td>0</td>\n",
       "    </tr>\n",
       "    <tr>\n",
       "      <th>13774</th>\n",
       "      <td>labākais, ko ab ir pilnībā ielenkusi tukši dzī...</td>\n",
       "      <td>2</td>\n",
       "    </tr>\n",
       "    <tr>\n",
       "      <th>86302</th>\n",
       "      <td>Piemērojot to visu šajā nākamajā nodaļā, uzspi...</td>\n",
       "      <td>1</td>\n",
       "    </tr>\n",
       "    <tr>\n",
       "      <th>77847</th>\n",
       "      <td>MENTION Es cerēju, ka jūs galu galā izdarīsiet...</td>\n",
       "      <td>1</td>\n",
       "    </tr>\n",
       "    <tr>\n",
       "      <th>14670</th>\n",
       "      <td>MENTION MENTION MENTION MENTION MENTION Jā, mē...</td>\n",
       "      <td>2</td>\n",
       "    </tr>\n",
       "  </tbody>\n",
       "</table>\n",
       "</div>"
      ],
      "text/plain": [
       "                                            clean_message  label\n",
       "173549  Negadījums. divas labās joslas bloķētas TriSta...      0\n",
       "13774   labākais, ko ab ir pilnībā ielenkusi tukši dzī...      2\n",
       "86302   Piemērojot to visu šajā nākamajā nodaļā, uzspi...      1\n",
       "77847   MENTION Es cerēju, ka jūs galu galā izdarīsiet...      1\n",
       "14670   MENTION MENTION MENTION MENTION MENTION Jā, mē...      2"
      ]
     },
     "execution_count": 13,
     "metadata": {},
     "output_type": "execute_result"
    }
   ],
   "source": [
    "# Shuffle rows\n",
    "import sklearn\n",
    "\n",
    "df_train = sklearn.utils.shuffle(df_train, random_state=0)\n",
    "\n",
    "df_train.head()"
   ]
  },
  {
   "cell_type": "markdown",
   "id": "a843c4ae",
   "metadata": {
    "gradient": {
     "editing": false,
     "id": "a843c4ae",
     "kernelId": "ff57d632-a363-4495-82e1-2880b456edaa"
    },
    "id": "a843c4ae"
   },
   "source": [
    "# Tokenizer \"sentence-transformers/LaBSE\""
   ]
  },
  {
   "cell_type": "code",
   "execution_count": null,
   "id": "7eb6bd77",
   "metadata": {
    "gradient": {
     "editing": false,
     "id": "7eb6bd77",
     "kernelId": "ff57d632-a363-4495-82e1-2880b456edaa"
    },
    "id": "7eb6bd77"
   },
   "outputs": [],
   "source": [
    "tokenizer = AutoTokenizer.from_pretrained(\"./labse_bert_model\", do_lower_case=True)"
   ]
  },
  {
   "cell_type": "markdown",
   "id": "504acea3",
   "metadata": {
    "gradient": {
     "editing": false,
     "id": "504acea3",
     "kernelId": "ff57d632-a363-4495-82e1-2880b456edaa"
    },
    "id": "504acea3"
   },
   "source": [
    "### Find max length for tokenizer"
   ]
  },
  {
   "cell_type": "code",
   "execution_count": null,
   "id": "e6b28671",
   "metadata": {
    "colab": {
     "base_uri": "https://localhost:8080/",
     "height": 383
    },
    "gradient": {
     "editing": false,
     "id": "e6b28671",
     "kernelId": "ff57d632-a363-4495-82e1-2880b456edaa"
    },
    "id": "e6b28671",
    "outputId": "922ee344-de70-4e60-d64e-9886a2ad7c46"
   },
   "outputs": [
    {
     "data": {
      "image/png": "[encoded data removed]",
      "text/plain": [
       "<Figure size 360x360 with 1 Axes>"
      ]
     },
     "metadata": {
      "needs_background": "light"
     },
     "output_type": "display_data",
     "transient": {}
    }
   ],
   "source": [
    "token_lens = []\n",
    "for txt in list(df.clean_message.values):\n",
    "    tokens = tokenizer.encode(txt, max_length=512, truncation=True)\n",
    "    token_lens.append(len(tokens))\n",
    "    \n",
    "sns.displot(token_lens)\n",
    "plt.xlim([0, 200])\n",
    "plt.xlabel('Token count')\n",
    "plt.show()"
   ]
  },
  {
   "cell_type": "code",
   "execution_count": null,
   "id": "b9e882ae",
   "metadata": {
    "gradient": {
     "editing": false,
     "id": "b9e882ae",
     "kernelId": "ff57d632-a363-4495-82e1-2880b456edaa"
    },
    "id": "b9e882ae"
   },
   "outputs": [],
   "source": [
    "max_length = 120"
   ]
  },
  {
   "cell_type": "markdown",
   "id": "6c6402cf",
   "metadata": {
    "gradient": {
     "editing": false,
     "id": "6c6402cf",
     "kernelId": "ff57d632-a363-4495-82e1-2880b456edaa"
    },
    "id": "6c6402cf"
   },
   "source": [
    "### Encode messages"
   ]
  },
  {
   "cell_type": "code",
   "execution_count": null,
   "id": "bb945e60",
   "metadata": {
    "colab": {
     "base_uri": "https://localhost:8080/"
    },
    "gradient": {
     "editing": false,
     "id": "bb945e60",
     "kernelId": "ff57d632-a363-4495-82e1-2880b456edaa"
    },
    "id": "bb945e60",
    "outputId": "26af99c0-fab8-471c-bd3b-e52172267a77"
   },
   "outputs": [
    {
     "name": "stderr",
     "output_type": "stream",
     "text": [
      "Truncation was not explicitly activated but `max_length` is provided a specific value, please use `truncation=True` to explicitly truncate examples to max length. Defaulting to 'longest_first' truncation strategy. If you encode pairs of sequences (GLUE-style) with the tokenizer you can select this strategy more precisely by providing a specific strategy to `truncation`.\n"
     ]
    },
    {
     "name": "stderr",
     "output_type": "stream",
     "text": [
      "/opt/conda/lib/python3.8/site-packages/transformers/tokenization_utils_base.py:2271: FutureWarning: The `pad_to_max_length` argument is deprecated and will be removed in a future version, use `padding=True` or `padding='longest'` to pad to the longest sequence in the batch, or use `padding='max_length'` to pad to a max length. In this case, you can give a specific length with `max_length` (e.g. `max_length=45`) or leave max_length to None to pad to the maximal input size of the model (e.g. 512 for Bert).\n",
      "  warnings.warn(\n"
     ]
    }
   ],
   "source": [
    "encoded_data_train = tokenizer.batch_encode_plus(\n",
    "    df_train[\"clean_message\"].values.tolist(), \n",
    "    add_special_tokens=True, \n",
    "    return_attention_mask=True, \n",
    "    pad_to_max_length=True, \n",
    "    max_length=max_length, \n",
    "    return_tensors='pt'\n",
    ")\n",
    "\n",
    "encoded_data_val = tokenizer.batch_encode_plus(\n",
    "    df[df.data_type=='val'].clean_message.values.tolist(), \n",
    "    add_special_tokens=True, \n",
    "    return_attention_mask=True, \n",
    "    pad_to_max_length=True, \n",
    "    max_length=max_length, \n",
    "    return_tensors='pt'\n",
    ")\n",
    "\n",
    "\n",
    "input_ids_train = encoded_data_train['input_ids']\n",
    "attention_masks_train = encoded_data_train['attention_mask']\n",
    "labels_train = torch.tensor(df_train.label.values)\n",
    "\n",
    "input_ids_val = encoded_data_val['input_ids']\n",
    "attention_masks_val = encoded_data_val['attention_mask']\n",
    "labels_val = torch.tensor(df[df.data_type=='val'].label.values)\n",
    "\n",
    "dataset_train = TensorDataset(input_ids_train, attention_masks_train, labels_train)\n",
    "dataset_val = TensorDataset(input_ids_val, attention_masks_val, labels_val)"
   ]
  },
  {
   "cell_type": "code",
   "execution_count": null,
   "id": "9c13eef0",
   "metadata": {
    "colab": {
     "base_uri": "https://localhost:8080/"
    },
    "gradient": {
     "editing": false,
     "id": "9c13eef0",
     "kernelId": "ff57d632-a363-4495-82e1-2880b456edaa"
    },
    "id": "9c13eef0",
    "outputId": "08c99ee0-fd9c-4807-ac3d-68051cc2375c"
   },
   "outputs": [
    {
     "data": {
      "text/plain": [
       "(116334, 26197)"
      ]
     },
     "execution_count": 18,
     "metadata": {},
     "output_type": "execute_result"
    }
   ],
   "source": [
    "len(dataset_train), len(dataset_val)"
   ]
  },
  {
   "cell_type": "markdown",
   "id": "e11af821",
   "metadata": {
    "gradient": {
     "editing": false,
     "id": "e11af821",
     "kernelId": "ff57d632-a363-4495-82e1-2880b456edaa"
    },
    "id": "e11af821"
   },
   "source": [
    "# Model \"LaBSE\" pytorch"
   ]
  },
  {
   "cell_type": "code",
   "execution_count": null,
   "id": "d3a7ffbe",
   "metadata": {
    "colab": {
     "base_uri": "https://localhost:8080/"
    },
    "gradient": {
     "editing": false,
     "id": "d3a7ffbe",
     "kernelId": "ff57d632-a363-4495-82e1-2880b456edaa"
    },
    "id": "d3a7ffbe",
    "outputId": "e48e4602-3456-4d1d-d6ce-fd35f0207539"
   },
   "outputs": [
    {
     "ename": "OSError",
     "evalue": "Unable to load weights from pytorch checkpoint file for './labse_bert_model' at './labse_bert_model/pytorch_model.bin'. If you tried to load a PyTorch model from a TF 2.0 checkpoint, please set from_tf=True.",
     "output_type": "error",
     "traceback": [
      "\u001b[0;31m---------------------------------------------------------------------------\u001b[0m",
      "\u001b[0;31mRuntimeError\u001b[0m                              Traceback (most recent call last)",
      "File \u001b[0;32m/opt/conda/lib/python3.8/site-packages/transformers/modeling_utils.py:1439\u001b[0m, in \u001b[0;36mPreTrainedModel.from_pretrained\u001b[0;34m(cls, pretrained_model_name_or_path, *model_args, **kwargs)\u001b[0m\n\u001b[1;32m   1438\u001b[0m \u001b[38;5;28;01mtry\u001b[39;00m:\n\u001b[0;32m-> 1439\u001b[0m     state_dict \u001b[38;5;241m=\u001b[39m \u001b[43mtorch\u001b[49m\u001b[38;5;241;43m.\u001b[39;49m\u001b[43mload\u001b[49m\u001b[43m(\u001b[49m\u001b[43mresolved_archive_file\u001b[49m\u001b[43m,\u001b[49m\u001b[43m \u001b[49m\u001b[43mmap_location\u001b[49m\u001b[38;5;241;43m=\u001b[39;49m\u001b[38;5;124;43m\"\u001b[39;49m\u001b[38;5;124;43mcpu\u001b[39;49m\u001b[38;5;124;43m\"\u001b[39;49m\u001b[43m)\u001b[49m\n\u001b[1;32m   1440\u001b[0m \u001b[38;5;28;01mexcept\u001b[39;00m \u001b[38;5;167;01mException\u001b[39;00m \u001b[38;5;28;01mas\u001b[39;00m e:\n",
      "File \u001b[0;32m/opt/conda/lib/python3.8/site-packages/torch/serialization.py:705\u001b[0m, in \u001b[0;36mload\u001b[0;34m(f, map_location, pickle_module, **pickle_load_args)\u001b[0m\n\u001b[1;32m    704\u001b[0m orig_position \u001b[38;5;241m=\u001b[39m opened_file\u001b[38;5;241m.\u001b[39mtell()\n\u001b[0;32m--> 705\u001b[0m \u001b[38;5;28;01mwith\u001b[39;00m \u001b[43m_open_zipfile_reader\u001b[49m\u001b[43m(\u001b[49m\u001b[43mopened_file\u001b[49m\u001b[43m)\u001b[49m \u001b[38;5;28;01mas\u001b[39;00m opened_zipfile:\n\u001b[1;32m    706\u001b[0m     \u001b[38;5;28;01mif\u001b[39;00m _is_torchscript_zip(opened_zipfile):\n",
      "File \u001b[0;32m/opt/conda/lib/python3.8/site-packages/torch/serialization.py:243\u001b[0m, in \u001b[0;36m_open_zipfile_reader.__init__\u001b[0;34m(self, name_or_buffer)\u001b[0m\n\u001b[1;32m    242\u001b[0m \u001b[38;5;28;01mdef\u001b[39;00m \u001b[38;5;21m__init__\u001b[39m(\u001b[38;5;28mself\u001b[39m, name_or_buffer) \u001b[38;5;241m-\u001b[39m\u001b[38;5;241m>\u001b[39m \u001b[38;5;28;01mNone\u001b[39;00m:\n\u001b[0;32m--> 243\u001b[0m     \u001b[38;5;28msuper\u001b[39m(_open_zipfile_reader, \u001b[38;5;28mself\u001b[39m)\u001b[38;5;241m.\u001b[39m\u001b[38;5;21m__init__\u001b[39m(\u001b[43mtorch\u001b[49m\u001b[38;5;241;43m.\u001b[39;49m\u001b[43m_C\u001b[49m\u001b[38;5;241;43m.\u001b[39;49m\u001b[43mPyTorchFileReader\u001b[49m\u001b[43m(\u001b[49m\u001b[43mname_or_buffer\u001b[49m\u001b[43m)\u001b[49m)\n",
      "\u001b[0;31mRuntimeError\u001b[0m: PytorchStreamReader failed reading zip archive: failed finding central directory",
      "\nDuring handling of the above exception, another exception occurred:\n",
      "\u001b[0;31mUnicodeDecodeError\u001b[0m                        Traceback (most recent call last)",
      "File \u001b[0;32m/opt/conda/lib/python3.8/site-packages/transformers/modeling_utils.py:1443\u001b[0m, in \u001b[0;36mPreTrainedModel.from_pretrained\u001b[0;34m(cls, pretrained_model_name_or_path, *model_args, **kwargs)\u001b[0m\n\u001b[1;32m   1442\u001b[0m \u001b[38;5;28;01mwith\u001b[39;00m \u001b[38;5;28mopen\u001b[39m(resolved_archive_file) \u001b[38;5;28;01mas\u001b[39;00m f:\n\u001b[0;32m-> 1443\u001b[0m     \u001b[38;5;28;01mif\u001b[39;00m \u001b[43mf\u001b[49m\u001b[38;5;241;43m.\u001b[39;49m\u001b[43mread\u001b[49m\u001b[43m(\u001b[49m\u001b[43m)\u001b[49m\u001b[38;5;241m.\u001b[39mstartswith(\u001b[38;5;124m\"\u001b[39m\u001b[38;5;124mversion\u001b[39m\u001b[38;5;124m\"\u001b[39m):\n\u001b[1;32m   1444\u001b[0m         \u001b[38;5;28;01mraise\u001b[39;00m \u001b[38;5;167;01mOSError\u001b[39;00m(\n\u001b[1;32m   1445\u001b[0m             \u001b[38;5;124m\"\u001b[39m\u001b[38;5;124mYou seem to have cloned a repository without having git-lfs installed. Please install \u001b[39m\u001b[38;5;124m\"\u001b[39m\n\u001b[1;32m   1446\u001b[0m             \u001b[38;5;124m\"\u001b[39m\u001b[38;5;124mgit-lfs and run `git lfs install` followed by `git lfs pull` in the folder \u001b[39m\u001b[38;5;124m\"\u001b[39m\n\u001b[1;32m   1447\u001b[0m             \u001b[38;5;124m\"\u001b[39m\u001b[38;5;124myou cloned.\u001b[39m\u001b[38;5;124m\"\u001b[39m\n\u001b[1;32m   1448\u001b[0m         )\n",
      "File \u001b[0;32m/opt/conda/lib/python3.8/codecs.py:322\u001b[0m, in \u001b[0;36mBufferedIncrementalDecoder.decode\u001b[0;34m(self, input, final)\u001b[0m\n\u001b[1;32m    321\u001b[0m data \u001b[38;5;241m=\u001b[39m \u001b[38;5;28mself\u001b[39m\u001b[38;5;241m.\u001b[39mbuffer \u001b[38;5;241m+\u001b[39m \u001b[38;5;28minput\u001b[39m\n\u001b[0;32m--> 322\u001b[0m (result, consumed) \u001b[38;5;241m=\u001b[39m \u001b[38;5;28;43mself\u001b[39;49m\u001b[38;5;241;43m.\u001b[39;49m\u001b[43m_buffer_decode\u001b[49m\u001b[43m(\u001b[49m\u001b[43mdata\u001b[49m\u001b[43m,\u001b[49m\u001b[43m \u001b[49m\u001b[38;5;28;43mself\u001b[39;49m\u001b[38;5;241;43m.\u001b[39;49m\u001b[43merrors\u001b[49m\u001b[43m,\u001b[49m\u001b[43m \u001b[49m\u001b[43mfinal\u001b[49m\u001b[43m)\u001b[49m\n\u001b[1;32m    323\u001b[0m \u001b[38;5;66;03m# keep undecoded input until the next call\u001b[39;00m\n",
      "\u001b[0;31mUnicodeDecodeError\u001b[0m: 'utf-8' codec can't decode byte 0x80 in position 64: invalid start byte",
      "\nDuring handling of the above exception, another exception occurred:\n",
      "\u001b[0;31mOSError\u001b[0m                                   Traceback (most recent call last)",
      "Input \u001b[0;32mIn [19]\u001b[0m, in \u001b[0;36m<module>\u001b[0;34m\u001b[0m\n\u001b[0;32m----> 1\u001b[0m model \u001b[38;5;241m=\u001b[39m \u001b[43mAutoModelForSequenceClassification\u001b[49m\u001b[38;5;241;43m.\u001b[39;49m\u001b[43mfrom_pretrained\u001b[49m\u001b[43m(\u001b[49m\u001b[38;5;124;43m\"\u001b[39;49m\u001b[38;5;124;43m./labse_bert_model\u001b[39;49m\u001b[38;5;124;43m\"\u001b[39;49m\u001b[43m,\u001b[49m\u001b[43m \u001b[49m\u001b[43mnum_labels\u001b[49m\u001b[43m \u001b[49m\u001b[38;5;241;43m=\u001b[39;49m\u001b[43m \u001b[49m\u001b[38;5;241;43m3\u001b[39;49m\u001b[43m)\u001b[49m\n",
      "File \u001b[0;32m/opt/conda/lib/python3.8/site-packages/transformers/models/auto/auto_factory.py:447\u001b[0m, in \u001b[0;36m_BaseAutoModelClass.from_pretrained\u001b[0;34m(cls, pretrained_model_name_or_path, *model_args, **kwargs)\u001b[0m\n\u001b[1;32m    445\u001b[0m \u001b[38;5;28;01melif\u001b[39;00m \u001b[38;5;28mtype\u001b[39m(config) \u001b[38;5;129;01min\u001b[39;00m \u001b[38;5;28mcls\u001b[39m\u001b[38;5;241m.\u001b[39m_model_mapping\u001b[38;5;241m.\u001b[39mkeys():\n\u001b[1;32m    446\u001b[0m     model_class \u001b[38;5;241m=\u001b[39m _get_model_class(config, \u001b[38;5;28mcls\u001b[39m\u001b[38;5;241m.\u001b[39m_model_mapping)\n\u001b[0;32m--> 447\u001b[0m     \u001b[38;5;28;01mreturn\u001b[39;00m \u001b[43mmodel_class\u001b[49m\u001b[38;5;241;43m.\u001b[39;49m\u001b[43mfrom_pretrained\u001b[49m\u001b[43m(\u001b[49m\u001b[43mpretrained_model_name_or_path\u001b[49m\u001b[43m,\u001b[49m\u001b[43m \u001b[49m\u001b[38;5;241;43m*\u001b[39;49m\u001b[43mmodel_args\u001b[49m\u001b[43m,\u001b[49m\u001b[43m \u001b[49m\u001b[43mconfig\u001b[49m\u001b[38;5;241;43m=\u001b[39;49m\u001b[43mconfig\u001b[49m\u001b[43m,\u001b[49m\u001b[43m \u001b[49m\u001b[38;5;241;43m*\u001b[39;49m\u001b[38;5;241;43m*\u001b[39;49m\u001b[43mkwargs\u001b[49m\u001b[43m)\u001b[49m\n\u001b[1;32m    448\u001b[0m \u001b[38;5;28;01mraise\u001b[39;00m \u001b[38;5;167;01mValueError\u001b[39;00m(\n\u001b[1;32m    449\u001b[0m     \u001b[38;5;124mf\u001b[39m\u001b[38;5;124m\"\u001b[39m\u001b[38;5;124mUnrecognized configuration class \u001b[39m\u001b[38;5;132;01m{\u001b[39;00mconfig\u001b[38;5;241m.\u001b[39m\u001b[38;5;18m__class__\u001b[39m\u001b[38;5;132;01m}\u001b[39;00m\u001b[38;5;124m for this kind of AutoModel: \u001b[39m\u001b[38;5;132;01m{\u001b[39;00m\u001b[38;5;28mcls\u001b[39m\u001b[38;5;241m.\u001b[39m\u001b[38;5;18m__name__\u001b[39m\u001b[38;5;132;01m}\u001b[39;00m\u001b[38;5;124m.\u001b[39m\u001b[38;5;130;01m\\n\u001b[39;00m\u001b[38;5;124m\"\u001b[39m\n\u001b[1;32m    450\u001b[0m     \u001b[38;5;124mf\u001b[39m\u001b[38;5;124m\"\u001b[39m\u001b[38;5;124mModel type should be one of \u001b[39m\u001b[38;5;132;01m{\u001b[39;00m\u001b[38;5;124m'\u001b[39m\u001b[38;5;124m, \u001b[39m\u001b[38;5;124m'\u001b[39m\u001b[38;5;241m.\u001b[39mjoin(c\u001b[38;5;241m.\u001b[39m\u001b[38;5;18m__name__\u001b[39m \u001b[38;5;28;01mfor\u001b[39;00m c \u001b[38;5;129;01min\u001b[39;00m \u001b[38;5;28mcls\u001b[39m\u001b[38;5;241m.\u001b[39m_model_mapping\u001b[38;5;241m.\u001b[39mkeys())\u001b[38;5;132;01m}\u001b[39;00m\u001b[38;5;124m.\u001b[39m\u001b[38;5;124m\"\u001b[39m\n\u001b[1;32m    451\u001b[0m )\n",
      "File \u001b[0;32m/opt/conda/lib/python3.8/site-packages/transformers/modeling_utils.py:1452\u001b[0m, in \u001b[0;36mPreTrainedModel.from_pretrained\u001b[0;34m(cls, pretrained_model_name_or_path, *model_args, **kwargs)\u001b[0m\n\u001b[1;32m   1450\u001b[0m                     \u001b[38;5;28;01mraise\u001b[39;00m \u001b[38;5;167;01mValueError\u001b[39;00m \u001b[38;5;28;01mfrom\u001b[39;00m \u001b[38;5;21;01me\u001b[39;00m\n\u001b[1;32m   1451\u001b[0m         \u001b[38;5;28;01mexcept\u001b[39;00m (\u001b[38;5;167;01mUnicodeDecodeError\u001b[39;00m, \u001b[38;5;167;01mValueError\u001b[39;00m):\n\u001b[0;32m-> 1452\u001b[0m             \u001b[38;5;28;01mraise\u001b[39;00m \u001b[38;5;167;01mOSError\u001b[39;00m(\n\u001b[1;32m   1453\u001b[0m                 \u001b[38;5;124mf\u001b[39m\u001b[38;5;124m\"\u001b[39m\u001b[38;5;124mUnable to load weights from pytorch checkpoint file for \u001b[39m\u001b[38;5;124m'\u001b[39m\u001b[38;5;132;01m{\u001b[39;00mpretrained_model_name_or_path\u001b[38;5;132;01m}\u001b[39;00m\u001b[38;5;124m'\u001b[39m\u001b[38;5;124m \u001b[39m\u001b[38;5;124m\"\u001b[39m\n\u001b[1;32m   1454\u001b[0m                 \u001b[38;5;124mf\u001b[39m\u001b[38;5;124m\"\u001b[39m\u001b[38;5;124mat \u001b[39m\u001b[38;5;124m'\u001b[39m\u001b[38;5;132;01m{\u001b[39;00mresolved_archive_file\u001b[38;5;132;01m}\u001b[39;00m\u001b[38;5;124m'\u001b[39m\u001b[38;5;124m. \u001b[39m\u001b[38;5;124m\"\u001b[39m\n\u001b[1;32m   1455\u001b[0m                 \u001b[38;5;124m\"\u001b[39m\u001b[38;5;124mIf you tried to load a PyTorch model from a TF 2.0 checkpoint, please set from_tf=True.\u001b[39m\u001b[38;5;124m\"\u001b[39m\n\u001b[1;32m   1456\u001b[0m             )\n\u001b[1;32m   1458\u001b[0m \u001b[38;5;66;03m# set dtype to instantiate the model under:\u001b[39;00m\n\u001b[1;32m   1459\u001b[0m \u001b[38;5;66;03m# 1. If torch_dtype is not None, we use that dtype\u001b[39;00m\n\u001b[1;32m   1460\u001b[0m \u001b[38;5;66;03m# 2. If torch_dtype is \"auto\", we auto-detect dtype from the loaded state_dict, by checking its first\u001b[39;00m\n\u001b[1;32m   1461\u001b[0m \u001b[38;5;66;03m#    weights entry - we assume all weights are of the same dtype\u001b[39;00m\n\u001b[1;32m   1462\u001b[0m \u001b[38;5;66;03m# we also may have config.torch_dtype available, but we won't rely on it till v5\u001b[39;00m\n\u001b[1;32m   1463\u001b[0m dtype_orig \u001b[38;5;241m=\u001b[39m \u001b[38;5;28;01mNone\u001b[39;00m\n",
      "\u001b[0;31mOSError\u001b[0m: Unable to load weights from pytorch checkpoint file for './labse_bert_model' at './labse_bert_model/pytorch_model.bin'. If you tried to load a PyTorch model from a TF 2.0 checkpoint, please set from_tf=True."
     ]
    }
   ],
   "source": [
    "model = AutoModelForSequenceClassification.from_pretrained(\"./labse_bert_model\", num_labels = 3)"
   ]
  },
  {
   "cell_type": "code",
   "execution_count": null,
   "id": "c906d1bd",
   "metadata": {
    "gradient": {
     "editing": false,
     "id": "c906d1bd",
     "kernelId": "ff57d632-a363-4495-82e1-2880b456edaa"
    },
    "id": "c906d1bd"
   },
   "outputs": [],
   "source": [
    "from torch.utils.data import DataLoader, RandomSampler, SequentialSampler\n",
    "\n",
    "batch_size = 32\n",
    "\n",
    "dataloader_train = DataLoader(dataset_train, sampler=RandomSampler(dataset_train), batch_size=batch_size)\n",
    "dataloader_validation = DataLoader(dataset_val, sampler=SequentialSampler(dataset_val), batch_size=batch_size)"
   ]
  },
  {
   "cell_type": "code",
   "execution_count": null,
   "id": "16189453",
   "metadata": {
    "gradient": {
     "editing": false,
     "id": "16189453",
     "kernelId": "ff57d632-a363-4495-82e1-2880b456edaa"
    },
    "id": "16189453"
   },
   "outputs": [],
   "source": [
    "from transformers import get_linear_schedule_with_warmup\n",
    "\n",
    "# optimizer = torch.optim.AdamW(model.parameters(), lr=1e-5, eps=1e-8)\n",
    "optimizer = torch.optim.SGD(model.parameters(), lr=1e-5)"
   ]
  },
  {
   "cell_type": "code",
   "execution_count": null,
   "id": "61d95dfa",
   "metadata": {
    "gradient": {
     "editing": false,
     "id": "61d95dfa",
     "kernelId": "ff57d632-a363-4495-82e1-2880b456edaa"
    },
    "id": "61d95dfa"
   },
   "outputs": [],
   "source": [
    "epochs = 1\n",
    "\n",
    "scheduler = get_linear_schedule_with_warmup(optimizer, num_warmup_steps=0, num_training_steps=len(dataloader_train)*epochs)"
   ]
  },
  {
   "cell_type": "code",
   "execution_count": null,
   "id": "9bf40782",
   "metadata": {
    "gradient": {
     "editing": false,
     "id": "9bf40782",
     "kernelId": "ff57d632-a363-4495-82e1-2880b456edaa"
    },
    "id": "9bf40782"
   },
   "outputs": [],
   "source": [
    "# Function to measure weighted F1\n",
    "\n",
    "from sklearn.metrics import f1_score\n",
    "\n",
    "def f1_score_func(preds, labels):\n",
    "    preds_flat = np.argmax(preds, axis=1).flatten()\n",
    "    labels_flat = labels.flatten()\n",
    "    return f1_score(labels_flat, preds_flat, average='weighted')"
   ]
  },
  {
   "cell_type": "code",
   "execution_count": null,
   "id": "b5fc030b",
   "metadata": {
    "colab": {
     "base_uri": "https://localhost:8080/"
    },
    "gradient": {
     "editing": false,
     "id": "b5fc030b",
     "kernelId": "ff57d632-a363-4495-82e1-2880b456edaa"
    },
    "id": "b5fc030b",
    "outputId": "4f16eb95-21b2-4aa2-af02-03700bbc8cab"
   },
   "outputs": [
    {
     "name": "stdout",
     "output_type": "stream",
     "text": [
      "cuda\n"
     ]
    }
   ],
   "source": [
    "import random\n",
    "\n",
    "seed_val = 17\n",
    "random.seed(seed_val)\n",
    "np.random.seed(seed_val)\n",
    "torch.manual_seed(seed_val)\n",
    "torch.cuda.manual_seed_all(seed_val)\n",
    "\n",
    "device = torch.device('cuda' if torch.cuda.is_available() else 'cpu')\n",
    "# device = torch.device('cpu')\n",
    "model.to(device)\n",
    "print(device)"
   ]
  },
  {
   "cell_type": "code",
   "execution_count": null,
   "id": "c05ccb3d",
   "metadata": {
    "gradient": {
     "editing": false,
     "id": "c05ccb3d",
     "kernelId": "ff57d632-a363-4495-82e1-2880b456edaa"
    },
    "id": "c05ccb3d"
   },
   "outputs": [],
   "source": [
    "# Function to evaluate model. Returns average validation loss, predictions, true values\n",
    "\n",
    "def evaluate(dataloader_val):\n",
    "\n",
    "    model.eval()\n",
    "    \n",
    "    loss_val_total = 0\n",
    "    predictions, true_vals = [], []\n",
    "    \n",
    "    progress_bar = tqdm(dataloader_val, desc='Validating:', leave=False, disable=False)\n",
    "    for batch in progress_bar:\n",
    "        \n",
    "        batch = tuple(b.to(device) for b in batch)\n",
    "        \n",
    "        inputs = {'input_ids':      batch[0],\n",
    "                  'attention_mask': batch[1],\n",
    "                  'labels':         batch[2],\n",
    "                 }\n",
    "\n",
    "        with torch.no_grad():        \n",
    "            outputs = model(**inputs)\n",
    "            \n",
    "        loss = outputs[0]\n",
    "        logits = outputs[1]\n",
    "        loss_val_total += loss.item()\n",
    "\n",
    "        logits = logits.detach().cpu().numpy()\n",
    "        label_ids = inputs['labels'].cpu().numpy()\n",
    "        predictions.append(logits)\n",
    "        true_vals.append(label_ids)\n",
    "    \n",
    "    loss_val_avg = loss_val_total/len(dataloader_val) \n",
    "    \n",
    "    predictions = np.concatenate(predictions, axis=0)\n",
    "    true_vals = np.concatenate(true_vals, axis=0)\n",
    "            \n",
    "    return loss_val_avg, predictions, true_vals"
   ]
  },
  {
   "cell_type": "markdown",
   "id": "ea0ef371",
   "metadata": {
    "gradient": {
     "editing": false,
     "id": "ea0ef371",
     "kernelId": "ff57d632-a363-4495-82e1-2880b456edaa"
    },
    "id": "ea0ef371"
   },
   "source": [
    "# Train"
   ]
  },
  {
   "cell_type": "code",
   "execution_count": null,
   "id": "81fe5ae8",
   "metadata": {
    "colab": {
     "base_uri": "https://localhost:8080/",
     "height": 81,
     "referenced_widgets": [
      "3665b5cb12fb4ebbba49de82235b0dd3",
      "109633a486db413e94c4b42fc5c18d78",
      "3f71be451de74c4b8caefd12f1d16d73",
      "7b2a6d5cce84404da38c698b51358ca4",
      "4b864ba447844863ba5ca05dfc2cae28",
      "1d74b9223ac6482ebd86202f9bd2eeac",
      "e870a00166ba43ffa62a3cc6335d8a30",
      "c957e93cb4d04e5f895ce5e0654ff35a",
      "9e103bf521a84d49888ebe6a53bed86c",
      "edc7f04821de4cf8978d9d0677bec8b3",
      "04f9a305cb2d424da6b4a8316786857f",
      "b98f8a86124243a08e1046e981258670",
      "171dad85da314d32a17f522f59d4252f",
      "113eb1edc4184bf99e65acd79356a683",
      "208ef994ff71405b8d9e12ff756fabdd",
      "6930b633f3424c08a6855f7be2839d70",
      "c2cace4fa8fe4f0f8eda536289a83248",
      "f7686e478e814db08da4563d86e75c7b",
      "17c6b395167345bf9bb65e43a36b513c",
      "032a0112fff54cc7846ba339786856a9",
      "e1840745506f4eed9708d9c91fa7d4eb",
      "650f87d85bad41ffadc5b1bf2db327fa"
     ]
    },
    "gradient": {
     "editing": false,
     "id": "81fe5ae8",
     "kernelId": "ff57d632-a363-4495-82e1-2880b456edaa"
    },
    "id": "81fe5ae8",
    "outputId": "984f1da0-1477-4cf2-8635-b2e9532e4100"
   },
   "outputs": [
    {
     "data": {
      "application/vnd.jupyter.widget-view+json": {
       "model_id": "3665b5cb12fb4ebbba49de82235b0dd3",
       "version_major": 2,
       "version_minor": 0
      },
      "text/plain": [
       "  0%|          | 0/1 [00:00<?, ?it/s]"
      ]
     },
     "metadata": {},
     "output_type": "display_data"
    },
    {
     "data": {
      "application/vnd.jupyter.widget-view+json": {
       "model_id": "b98f8a86124243a08e1046e981258670",
       "version_major": 2,
       "version_minor": 0
      },
      "text/plain": [
       "Epoch 1:   0%|          | 0/3636 [00:00<?, ?it/s]"
      ]
     },
     "metadata": {},
     "output_type": "display_data"
    }
   ],
   "source": [
    "for epoch in tqdm(range(1, epochs+1)):\n",
    "    \n",
    "    model.train()\n",
    "    \n",
    "    loss_train_total = 0\n",
    "\n",
    "    progress_bar = tqdm(dataloader_train, desc='Epoch {:1d}'.format(epoch), leave=False, disable=False)\n",
    "    for batch in progress_bar:\n",
    "\n",
    "        model.zero_grad()\n",
    "        \n",
    "        batch = tuple(b.to(device) for b in batch)\n",
    "        \n",
    "        inputs = {'input_ids':      batch[0],\n",
    "                  'attention_mask': batch[1],\n",
    "                  'labels':         batch[2],\n",
    "                 }       \n",
    "\n",
    "        outputs = model(**inputs)\n",
    "        \n",
    "        loss = outputs[0]\n",
    "        loss_train_total += loss.item()\n",
    "        loss.backward()\n",
    "\n",
    "        torch.nn.utils.clip_grad_norm_(model.parameters(), 1.0)\n",
    "\n",
    "        optimizer.step()\n",
    "        scheduler.step()\n",
    "        \n",
    "        progress_bar.set_postfix({'training_loss': '{:.3f}'.format(loss.item()/len(batch))})\n",
    "         \n",
    "        \n",
    "    torch.save(model.state_dict(), f'labseCleaned-pnn/finetuned_LaBSE_epoch_{epoch}.model')\n",
    "        \n",
    "    tqdm.write(f'\\nEpoch {epoch}')\n",
    "    \n",
    "    loss_train_avg = loss_train_total/len(dataloader_train)            \n",
    "    tqdm.write(f'Training loss: {loss_train_avg}')\n",
    "    \n",
    "    val_loss, predictions, true_vals = evaluate(dataloader_validation)\n",
    "    val_f1 = f1_score_func(predictions, true_vals)\n",
    "    tqdm.write(f'Validation loss: {val_loss}')\n",
    "    tqdm.write(f'F1 Score (Weighted): {val_f1}')\n",
    "    \n",
    "    preds_flat = np.argmax(predictions, axis=1).flatten()\n",
    "    \n",
    "    print('Classification report:')\n",
    "    print(classification_report(true_vals, preds_flat))\n",
    "    print('Confusion matrix:')\n",
    "    print(pd.DataFrame(confusion_matrix(true_vals, preds_flat),\n",
    "            index = [['actual', 'actual', 'actual'], ['neutral', 'positive', 'negative']],\n",
    "            columns = [['predicted', 'predicted', 'predicted'], ['neutral', 'positive', 'negative']]))"
   ]
  },
  {
   "cell_type": "markdown",
   "id": "c271f1a9",
   "metadata": {
    "gradient": {
     "editing": false,
     "id": "c271f1a9",
     "kernelId": "ff57d632-a363-4495-82e1-2880b456edaa"
    },
    "id": "c271f1a9"
   },
   "source": [
    "# Evaluate"
   ]
  },
  {
   "cell_type": "code",
   "execution_count": null,
   "id": "1b344990",
   "metadata": {
    "gradient": {
     "editing": false,
     "id": "1b344990",
     "kernelId": "ff57d632-a363-4495-82e1-2880b456edaa"
    },
    "id": "1b344990"
   },
   "outputs": [],
   "source": [
    "# model.load_state_dict(torch.load('modelsBase/finetuned_LaBSE_epoch_4.model', map_location=torch.device('cpu')))\n",
    "\n",
    "# _, predictions, true_vals = evaluate(dataloader_validation)\n",
    "# preds_flat = np.argmax(predictions, axis=1).flatten()"
   ]
  },
  {
   "cell_type": "code",
   "execution_count": null,
   "id": "f8524ae2-ad31-4e63-b0e4-aabdfb288925",
   "metadata": {
    "collapsed": false,
    "gradient": {
     "editing": false,
     "execution_count": 33,
     "id": "f8524ae2-ad31-4e63-b0e4-aabdfb288925",
     "kernelId": "ff57d632-a363-4495-82e1-2880b456edaa",
     "source_hidden": false
    }
   },
   "outputs": [
    {
     "data": {
      "text/plain": [
       "0.3128752327731018"
      ]
     },
     "execution_count": 33,
     "metadata": {},
     "output_type": "execute_result"
    }
   ],
   "source": [
    "f1_score_func(predictions, true_vals)"
   ]
  },
  {
   "cell_type": "code",
   "execution_count": null,
   "id": "9212b3ba",
   "metadata": {
    "gradient": {
     "editing": false,
     "id": "9212b3ba",
     "kernelId": "ff57d632-a363-4495-82e1-2880b456edaa"
    },
    "id": "9212b3ba"
   },
   "outputs": [
    {
     "name": "stdout",
     "output_type": "stream",
     "text": [
      "              precision    recall  f1-score   support\n",
      "\n",
      "           0       0.47      0.22      0.30     11554\n",
      "           1       0.29      0.57      0.39      7799\n",
      "           2       0.27      0.22      0.24      6844\n",
      "\n",
      "    accuracy                           0.33     26197\n",
      "   macro avg       0.35      0.34      0.31     26197\n",
      "weighted avg       0.37      0.33      0.31     26197\n",
      "\n"
     ]
    }
   ],
   "source": [
    "print(classification_report(true_vals, preds_flat))"
   ]
  },
  {
   "cell_type": "code",
   "execution_count": null,
   "id": "8a7a14cb",
   "metadata": {
    "gradient": {
     "editing": false,
     "id": "8a7a14cb",
     "kernelId": "ff57d632-a363-4495-82e1-2880b456edaa"
    },
    "id": "8a7a14cb"
   },
   "outputs": [
    {
     "data": {
      "text/html": [
       "<div>\n",
       "<style scoped>\n",
       "    .dataframe tbody tr th:only-of-type {\n",
       "        vertical-align: middle;\n",
       "    }\n",
       "\n",
       "    .dataframe tbody tr th {\n",
       "        vertical-align: top;\n",
       "    }\n",
       "\n",
       "    .dataframe thead tr th {\n",
       "        text-align: left;\n",
       "    }\n",
       "</style>\n",
       "<table border=\"1\" class=\"dataframe\">\n",
       "  <thead>\n",
       "    <tr>\n",
       "      <th></th>\n",
       "      <th></th>\n",
       "      <th colspan=\"3\" halign=\"left\">predicted</th>\n",
       "    </tr>\n",
       "    <tr>\n",
       "      <th></th>\n",
       "      <th></th>\n",
       "      <th>neutral</th>\n",
       "      <th>positive</th>\n",
       "      <th>negative</th>\n",
       "    </tr>\n",
       "  </thead>\n",
       "  <tbody>\n",
       "    <tr>\n",
       "      <th rowspan=\"3\" valign=\"top\">actual</th>\n",
       "      <th>neutral</th>\n",
       "      <td>2597</td>\n",
       "      <td>6937</td>\n",
       "      <td>2020</td>\n",
       "    </tr>\n",
       "    <tr>\n",
       "      <th>positive</th>\n",
       "      <td>1345</td>\n",
       "      <td>4452</td>\n",
       "      <td>2002</td>\n",
       "    </tr>\n",
       "    <tr>\n",
       "      <th>negative</th>\n",
       "      <td>1558</td>\n",
       "      <td>3791</td>\n",
       "      <td>1495</td>\n",
       "    </tr>\n",
       "  </tbody>\n",
       "</table>\n",
       "</div>"
      ],
      "text/plain": [
       "                predicted                  \n",
       "                  neutral positive negative\n",
       "actual neutral       2597     6937     2020\n",
       "       positive      1345     4452     2002\n",
       "       negative      1558     3791     1495"
      ]
     },
     "execution_count": 32,
     "metadata": {},
     "output_type": "execute_result"
    }
   ],
   "source": [
    "pd.DataFrame(confusion_matrix(true_vals, preds_flat),\n",
    "        index = [['actual', 'actual', 'actual'], ['neutral', 'positive', 'negative']],\n",
    "        columns = [['predicted', 'predicted', 'predicted'], ['neutral', 'positive', 'negative']])"
   ]
  },
  {
   "cell_type": "code",
   "execution_count": null,
   "id": "54c3840d",
   "metadata": {
    "gradient": {
     "editing": false,
     "id": "54c3840d",
     "kernelId": "ff57d632-a363-4495-82e1-2880b456edaa"
    },
    "id": "54c3840d"
   },
   "outputs": [],
   "source": [
    ""
   ]
  }
 ],
 "metadata": {
  "accelerator": "GPU",
  "colab": {
   "collapsed_sections": [],
   "name": "labse_cleaned_pnn.ipynb",
   "provenance": []
  },
  "kernelspec": {
   "display_name": "Python 3",
   "name": "python3"
  },
  "language_info": {
   "name": "python"
  },
  "widgets": {
   "application/vnd.jupyter.widget-state+json": {
    "032a0112fff54cc7846ba339786856a9": {
     "model_module": "@jupyter-widgets/controls",
     "model_module_version": "1.5.0",
     "model_name": "ProgressStyleModel",
     "state": {
      "_model_module": "@jupyter-widgets/controls",
      "_model_module_version": "1.5.0",
      "_model_name": "ProgressStyleModel",
      "_view_count": null,
      "_view_module": "@jupyter-widgets/base",
      "_view_module_version": "1.2.0",
      "_view_name": "StyleView",
      "bar_color": null,
      "description_width": ""
     }
    },
    "04f9a305cb2d424da6b4a8316786857f": {
     "model_module": "@jupyter-widgets/controls",
     "model_module_version": "1.5.0",
     "model_name": "DescriptionStyleModel",
     "state": {
      "_model_module": "@jupyter-widgets/controls",
      "_model_module_version": "1.5.0",
      "_model_name": "DescriptionStyleModel",
      "_view_count": null,
      "_view_module": "@jupyter-widgets/base",
      "_view_module_version": "1.2.0",
      "_view_name": "StyleView",
      "description_width": ""
     }
    },
    "109633a486db413e94c4b42fc5c18d78": {
     "model_module": "@jupyter-widgets/controls",
     "model_module_version": "1.5.0",
     "model_name": "HTMLModel",
     "state": {
      "_dom_classes": [],
      "_model_module": "@jupyter-widgets/controls",
      "_model_module_version": "1.5.0",
      "_model_name": "HTMLModel",
      "_view_count": null,
      "_view_module": "@jupyter-widgets/controls",
      "_view_module_version": "1.5.0",
      "_view_name": "HTMLView",
      "description": "",
      "description_tooltip": null,
      "layout": "IPY_MODEL_1d74b9223ac6482ebd86202f9bd2eeac",
      "placeholder": "​",
      "style": "IPY_MODEL_e870a00166ba43ffa62a3cc6335d8a30",
      "value": "  0%"
     }
    },
    "113eb1edc4184bf99e65acd79356a683": {
     "model_module": "@jupyter-widgets/controls",
     "model_module_version": "1.5.0",
     "model_name": "FloatProgressModel",
     "state": {
      "_dom_classes": [],
      "_model_module": "@jupyter-widgets/controls",
      "_model_module_version": "1.5.0",
      "_model_name": "FloatProgressModel",
      "_view_count": null,
      "_view_module": "@jupyter-widgets/controls",
      "_view_module_version": "1.5.0",
      "_view_name": "ProgressView",
      "bar_style": "",
      "description": "",
      "description_tooltip": null,
      "layout": "IPY_MODEL_17c6b395167345bf9bb65e43a36b513c",
      "max": 3636,
      "min": 0,
      "orientation": "horizontal",
      "style": "IPY_MODEL_032a0112fff54cc7846ba339786856a9",
      "value": 2582
     }
    },
    "171dad85da314d32a17f522f59d4252f": {
     "model_module": "@jupyter-widgets/controls",
     "model_module_version": "1.5.0",
     "model_name": "HTMLModel",
     "state": {
      "_dom_classes": [],
      "_model_module": "@jupyter-widgets/controls",
      "_model_module_version": "1.5.0",
      "_model_name": "HTMLModel",
      "_view_count": null,
      "_view_module": "@jupyter-widgets/controls",
      "_view_module_version": "1.5.0",
      "_view_name": "HTMLView",
      "description": "",
      "description_tooltip": null,
      "layout": "IPY_MODEL_c2cace4fa8fe4f0f8eda536289a83248",
      "placeholder": "​",
      "style": "IPY_MODEL_f7686e478e814db08da4563d86e75c7b",
      "value": "Epoch 1:  71%"
     }
    },
    "17c6b395167345bf9bb65e43a36b513c": {
     "model_module": "@jupyter-widgets/base",
     "model_module_version": "1.2.0",
     "model_name": "LayoutModel",
     "state": {
      "_model_module": "@jupyter-widgets/base",
      "_model_module_version": "1.2.0",
      "_model_name": "LayoutModel",
      "_view_count": null,
      "_view_module": "@jupyter-widgets/base",
      "_view_module_version": "1.2.0",
      "_view_name": "LayoutView",
      "align_content": null,
      "align_items": null,
      "align_self": null,
      "border": null,
      "bottom": null,
      "display": null,
      "flex": null,
      "flex_flow": null,
      "grid_area": null,
      "grid_auto_columns": null,
      "grid_auto_flow": null,
      "grid_auto_rows": null,
      "grid_column": null,
      "grid_gap": null,
      "grid_row": null,
      "grid_template_areas": null,
      "grid_template_columns": null,
      "grid_template_rows": null,
      "height": null,
      "justify_content": null,
      "justify_items": null,
      "left": null,
      "margin": null,
      "max_height": null,
      "max_width": null,
      "min_height": null,
      "min_width": null,
      "object_fit": null,
      "object_position": null,
      "order": null,
      "overflow": null,
      "overflow_x": null,
      "overflow_y": null,
      "padding": null,
      "right": null,
      "top": null,
      "visibility": null,
      "width": null
     }
    },
    "1d74b9223ac6482ebd86202f9bd2eeac": {
     "model_module": "@jupyter-widgets/base",
     "model_module_version": "1.2.0",
     "model_name": "LayoutModel",
     "state": {
      "_model_module": "@jupyter-widgets/base",
      "_model_module_version": "1.2.0",
      "_model_name": "LayoutModel",
      "_view_count": null,
      "_view_module": "@jupyter-widgets/base",
      "_view_module_version": "1.2.0",
      "_view_name": "LayoutView",
      "align_content": null,
      "align_items": null,
      "align_self": null,
      "border": null,
      "bottom": null,
      "display": null,
      "flex": null,
      "flex_flow": null,
      "grid_area": null,
      "grid_auto_columns": null,
      "grid_auto_flow": null,
      "grid_auto_rows": null,
      "grid_column": null,
      "grid_gap": null,
      "grid_row": null,
      "grid_template_areas": null,
      "grid_template_columns": null,
      "grid_template_rows": null,
      "height": null,
      "justify_content": null,
      "justify_items": null,
      "left": null,
      "margin": null,
      "max_height": null,
      "max_width": null,
      "min_height": null,
      "min_width": null,
      "object_fit": null,
      "object_position": null,
      "order": null,
      "overflow": null,
      "overflow_x": null,
      "overflow_y": null,
      "padding": null,
      "right": null,
      "top": null,
      "visibility": null,
      "width": null
     }
    },
    "208ef994ff71405b8d9e12ff756fabdd": {
     "model_module": "@jupyter-widgets/controls",
     "model_module_version": "1.5.0",
     "model_name": "HTMLModel",
     "state": {
      "_dom_classes": [],
      "_model_module": "@jupyter-widgets/controls",
      "_model_module_version": "1.5.0",
      "_model_name": "HTMLModel",
      "_view_count": null,
      "_view_module": "@jupyter-widgets/controls",
      "_view_module_version": "1.5.0",
      "_view_name": "HTMLView",
      "description": "",
      "description_tooltip": null,
      "layout": "IPY_MODEL_e1840745506f4eed9708d9c91fa7d4eb",
      "placeholder": "​",
      "style": "IPY_MODEL_650f87d85bad41ffadc5b1bf2db327fa",
      "value": " 2582/3636 [54:58&lt;22:24,  1.28s/it, training_loss=0.368]"
     }
    },
    "3665b5cb12fb4ebbba49de82235b0dd3": {
     "model_module": "@jupyter-widgets/controls",
     "model_module_version": "1.5.0",
     "model_name": "HBoxModel",
     "state": {
      "_dom_classes": [],
      "_model_module": "@jupyter-widgets/controls",
      "_model_module_version": "1.5.0",
      "_model_name": "HBoxModel",
      "_view_count": null,
      "_view_module": "@jupyter-widgets/controls",
      "_view_module_version": "1.5.0",
      "_view_name": "HBoxView",
      "box_style": "",
      "children": [
       "IPY_MODEL_109633a486db413e94c4b42fc5c18d78",
       "IPY_MODEL_3f71be451de74c4b8caefd12f1d16d73",
       "IPY_MODEL_7b2a6d5cce84404da38c698b51358ca4"
      ],
      "layout": "IPY_MODEL_4b864ba447844863ba5ca05dfc2cae28"
     }
    },
    "3f71be451de74c4b8caefd12f1d16d73": {
     "model_module": "@jupyter-widgets/controls",
     "model_module_version": "1.5.0",
     "model_name": "FloatProgressModel",
     "state": {
      "_dom_classes": [],
      "_model_module": "@jupyter-widgets/controls",
      "_model_module_version": "1.5.0",
      "_model_name": "FloatProgressModel",
      "_view_count": null,
      "_view_module": "@jupyter-widgets/controls",
      "_view_module_version": "1.5.0",
      "_view_name": "ProgressView",
      "bar_style": "",
      "description": "",
      "description_tooltip": null,
      "layout": "IPY_MODEL_c957e93cb4d04e5f895ce5e0654ff35a",
      "max": 1,
      "min": 0,
      "orientation": "horizontal",
      "style": "IPY_MODEL_9e103bf521a84d49888ebe6a53bed86c",
      "value": 0
     }
    },
    "4b864ba447844863ba5ca05dfc2cae28": {
     "model_module": "@jupyter-widgets/base",
     "model_module_version": "1.2.0",
     "model_name": "LayoutModel",
     "state": {
      "_model_module": "@jupyter-widgets/base",
      "_model_module_version": "1.2.0",
      "_model_name": "LayoutModel",
      "_view_count": null,
      "_view_module": "@jupyter-widgets/base",
      "_view_module_version": "1.2.0",
      "_view_name": "LayoutView",
      "align_content": null,
      "align_items": null,
      "align_self": null,
      "border": null,
      "bottom": null,
      "display": null,
      "flex": null,
      "flex_flow": null,
      "grid_area": null,
      "grid_auto_columns": null,
      "grid_auto_flow": null,
      "grid_auto_rows": null,
      "grid_column": null,
      "grid_gap": null,
      "grid_row": null,
      "grid_template_areas": null,
      "grid_template_columns": null,
      "grid_template_rows": null,
      "height": null,
      "justify_content": null,
      "justify_items": null,
      "left": null,
      "margin": null,
      "max_height": null,
      "max_width": null,
      "min_height": null,
      "min_width": null,
      "object_fit": null,
      "object_position": null,
      "order": null,
      "overflow": null,
      "overflow_x": null,
      "overflow_y": null,
      "padding": null,
      "right": null,
      "top": null,
      "visibility": null,
      "width": null
     }
    },
    "650f87d85bad41ffadc5b1bf2db327fa": {
     "model_module": "@jupyter-widgets/controls",
     "model_module_version": "1.5.0",
     "model_name": "DescriptionStyleModel",
     "state": {
      "_model_module": "@jupyter-widgets/controls",
      "_model_module_version": "1.5.0",
      "_model_name": "DescriptionStyleModel",
      "_view_count": null,
      "_view_module": "@jupyter-widgets/base",
      "_view_module_version": "1.2.0",
      "_view_name": "StyleView",
      "description_width": ""
     }
    },
    "6930b633f3424c08a6855f7be2839d70": {
     "model_module": "@jupyter-widgets/base",
     "model_module_version": "1.2.0",
     "model_name": "LayoutModel",
     "state": {
      "_model_module": "@jupyter-widgets/base",
      "_model_module_version": "1.2.0",
      "_model_name": "LayoutModel",
      "_view_count": null,
      "_view_module": "@jupyter-widgets/base",
      "_view_module_version": "1.2.0",
      "_view_name": "LayoutView",
      "align_content": null,
      "align_items": null,
      "align_self": null,
      "border": null,
      "bottom": null,
      "display": null,
      "flex": null,
      "flex_flow": null,
      "grid_area": null,
      "grid_auto_columns": null,
      "grid_auto_flow": null,
      "grid_auto_rows": null,
      "grid_column": null,
      "grid_gap": null,
      "grid_row": null,
      "grid_template_areas": null,
      "grid_template_columns": null,
      "grid_template_rows": null,
      "height": null,
      "justify_content": null,
      "justify_items": null,
      "left": null,
      "margin": null,
      "max_height": null,
      "max_width": null,
      "min_height": null,
      "min_width": null,
      "object_fit": null,
      "object_position": null,
      "order": null,
      "overflow": null,
      "overflow_x": null,
      "overflow_y": null,
      "padding": null,
      "right": null,
      "top": null,
      "visibility": null,
      "width": null
     }
    },
    "7b2a6d5cce84404da38c698b51358ca4": {
     "model_module": "@jupyter-widgets/controls",
     "model_module_version": "1.5.0",
     "model_name": "HTMLModel",
     "state": {
      "_dom_classes": [],
      "_model_module": "@jupyter-widgets/controls",
      "_model_module_version": "1.5.0",
      "_model_name": "HTMLModel",
      "_view_count": null,
      "_view_module": "@jupyter-widgets/controls",
      "_view_module_version": "1.5.0",
      "_view_name": "HTMLView",
      "description": "",
      "description_tooltip": null,
      "layout": "IPY_MODEL_edc7f04821de4cf8978d9d0677bec8b3",
      "placeholder": "​",
      "style": "IPY_MODEL_04f9a305cb2d424da6b4a8316786857f",
      "value": " 0/1 [00:00&lt;?, ?it/s]"
     }
    },
    "9e103bf521a84d49888ebe6a53bed86c": {
     "model_module": "@jupyter-widgets/controls",
     "model_module_version": "1.5.0",
     "model_name": "ProgressStyleModel",
     "state": {
      "_model_module": "@jupyter-widgets/controls",
      "_model_module_version": "1.5.0",
      "_model_name": "ProgressStyleModel",
      "_view_count": null,
      "_view_module": "@jupyter-widgets/base",
      "_view_module_version": "1.2.0",
      "_view_name": "StyleView",
      "bar_color": null,
      "description_width": ""
     }
    },
    "b98f8a86124243a08e1046e981258670": {
     "model_module": "@jupyter-widgets/controls",
     "model_module_version": "1.5.0",
     "model_name": "HBoxModel",
     "state": {
      "_dom_classes": [],
      "_model_module": "@jupyter-widgets/controls",
      "_model_module_version": "1.5.0",
      "_model_name": "HBoxModel",
      "_view_count": null,
      "_view_module": "@jupyter-widgets/controls",
      "_view_module_version": "1.5.0",
      "_view_name": "HBoxView",
      "box_style": "",
      "children": [
       "IPY_MODEL_171dad85da314d32a17f522f59d4252f",
       "IPY_MODEL_113eb1edc4184bf99e65acd79356a683",
       "IPY_MODEL_208ef994ff71405b8d9e12ff756fabdd"
      ],
      "layout": "IPY_MODEL_6930b633f3424c08a6855f7be2839d70"
     }
    },
    "c2cace4fa8fe4f0f8eda536289a83248": {
     "model_module": "@jupyter-widgets/base",
     "model_module_version": "1.2.0",
     "model_name": "LayoutModel",
     "state": {
      "_model_module": "@jupyter-widgets/base",
      "_model_module_version": "1.2.0",
      "_model_name": "LayoutModel",
      "_view_count": null,
      "_view_module": "@jupyter-widgets/base",
      "_view_module_version": "1.2.0",
      "_view_name": "LayoutView",
      "align_content": null,
      "align_items": null,
      "align_self": null,
      "border": null,
      "bottom": null,
      "display": null,
      "flex": null,
      "flex_flow": null,
      "grid_area": null,
      "grid_auto_columns": null,
      "grid_auto_flow": null,
      "grid_auto_rows": null,
      "grid_column": null,
      "grid_gap": null,
      "grid_row": null,
      "grid_template_areas": null,
      "grid_template_columns": null,
      "grid_template_rows": null,
      "height": null,
      "justify_content": null,
      "justify_items": null,
      "left": null,
      "margin": null,
      "max_height": null,
      "max_width": null,
      "min_height": null,
      "min_width": null,
      "object_fit": null,
      "object_position": null,
      "order": null,
      "overflow": null,
      "overflow_x": null,
      "overflow_y": null,
      "padding": null,
      "right": null,
      "top": null,
      "visibility": null,
      "width": null
     }
    },
    "c957e93cb4d04e5f895ce5e0654ff35a": {
     "model_module": "@jupyter-widgets/base",
     "model_module_version": "1.2.0",
     "model_name": "LayoutModel",
     "state": {
      "_model_module": "@jupyter-widgets/base",
      "_model_module_version": "1.2.0",
      "_model_name": "LayoutModel",
      "_view_count": null,
      "_view_module": "@jupyter-widgets/base",
      "_view_module_version": "1.2.0",
      "_view_name": "LayoutView",
      "align_content": null,
      "align_items": null,
      "align_self": null,
      "border": null,
      "bottom": null,
      "display": null,
      "flex": null,
      "flex_flow": null,
      "grid_area": null,
      "grid_auto_columns": null,
      "grid_auto_flow": null,
      "grid_auto_rows": null,
      "grid_column": null,
      "grid_gap": null,
      "grid_row": null,
      "grid_template_areas": null,
      "grid_template_columns": null,
      "grid_template_rows": null,
      "height": null,
      "justify_content": null,
      "justify_items": null,
      "left": null,
      "margin": null,
      "max_height": null,
      "max_width": null,
      "min_height": null,
      "min_width": null,
      "object_fit": null,
      "object_position": null,
      "order": null,
      "overflow": null,
      "overflow_x": null,
      "overflow_y": null,
      "padding": null,
      "right": null,
      "top": null,
      "visibility": null,
      "width": null
     }
    },
    "e1840745506f4eed9708d9c91fa7d4eb": {
     "model_module": "@jupyter-widgets/base",
     "model_module_version": "1.2.0",
     "model_name": "LayoutModel",
     "state": {
      "_model_module": "@jupyter-widgets/base",
      "_model_module_version": "1.2.0",
      "_model_name": "LayoutModel",
      "_view_count": null,
      "_view_module": "@jupyter-widgets/base",
      "_view_module_version": "1.2.0",
      "_view_name": "LayoutView",
      "align_content": null,
      "align_items": null,
      "align_self": null,
      "border": null,
      "bottom": null,
      "display": null,
      "flex": null,
      "flex_flow": null,
      "grid_area": null,
      "grid_auto_columns": null,
      "grid_auto_flow": null,
      "grid_auto_rows": null,
      "grid_column": null,
      "grid_gap": null,
      "grid_row": null,
      "grid_template_areas": null,
      "grid_template_columns": null,
      "grid_template_rows": null,
      "height": null,
      "justify_content": null,
      "justify_items": null,
      "left": null,
      "margin": null,
      "max_height": null,
      "max_width": null,
      "min_height": null,
      "min_width": null,
      "object_fit": null,
      "object_position": null,
      "order": null,
      "overflow": null,
      "overflow_x": null,
      "overflow_y": null,
      "padding": null,
      "right": null,
      "top": null,
      "visibility": null,
      "width": null
     }
    },
    "e870a00166ba43ffa62a3cc6335d8a30": {
     "model_module": "@jupyter-widgets/controls",
     "model_module_version": "1.5.0",
     "model_name": "DescriptionStyleModel",
     "state": {
      "_model_module": "@jupyter-widgets/controls",
      "_model_module_version": "1.5.0",
      "_model_name": "DescriptionStyleModel",
      "_view_count": null,
      "_view_module": "@jupyter-widgets/base",
      "_view_module_version": "1.2.0",
      "_view_name": "StyleView",
      "description_width": ""
     }
    },
    "edc7f04821de4cf8978d9d0677bec8b3": {
     "model_module": "@jupyter-widgets/base",
     "model_module_version": "1.2.0",
     "model_name": "LayoutModel",
     "state": {
      "_model_module": "@jupyter-widgets/base",
      "_model_module_version": "1.2.0",
      "_model_name": "LayoutModel",
      "_view_count": null,
      "_view_module": "@jupyter-widgets/base",
      "_view_module_version": "1.2.0",
      "_view_name": "LayoutView",
      "align_content": null,
      "align_items": null,
      "align_self": null,
      "border": null,
      "bottom": null,
      "display": null,
      "flex": null,
      "flex_flow": null,
      "grid_area": null,
      "grid_auto_columns": null,
      "grid_auto_flow": null,
      "grid_auto_rows": null,
      "grid_column": null,
      "grid_gap": null,
      "grid_row": null,
      "grid_template_areas": null,
      "grid_template_columns": null,
      "grid_template_rows": null,
      "height": null,
      "justify_content": null,
      "justify_items": null,
      "left": null,
      "margin": null,
      "max_height": null,
      "max_width": null,
      "min_height": null,
      "min_width": null,
      "object_fit": null,
      "object_position": null,
      "order": null,
      "overflow": null,
      "overflow_x": null,
      "overflow_y": null,
      "padding": null,
      "right": null,
      "top": null,
      "visibility": null,
      "width": null
     }
    },
    "f7686e478e814db08da4563d86e75c7b": {
     "model_module": "@jupyter-widgets/controls",
     "model_module_version": "1.5.0",
     "model_name": "DescriptionStyleModel",
     "state": {
      "_model_module": "@jupyter-widgets/controls",
      "_model_module_version": "1.5.0",
      "_model_name": "DescriptionStyleModel",
      "_view_count": null,
      "_view_module": "@jupyter-widgets/base",
      "_view_module_version": "1.2.0",
      "_view_name": "StyleView",
      "description_width": ""
     }
    }
   }
  }
 },
 "nbformat": 4,
 "nbformat_minor": 5
}
