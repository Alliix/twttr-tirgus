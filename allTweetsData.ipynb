{
 "cells": [
  {
   "cell_type": "code",
   "execution_count": 7,
   "id": "35741887",
   "metadata": {},
   "outputs": [],
   "source": [
    "import pandas as pd\n",
    "import re\n",
    "import collections"
   ]
  },
  {
   "cell_type": "code",
   "execution_count": 2,
   "id": "422fc6bb",
   "metadata": {},
   "outputs": [],
   "source": [
    "allTweets = pd.read_csv('./allTweets/allTweets.csv')"
   ]
  },
  {
   "cell_type": "code",
   "execution_count": 6,
   "id": "2d200d65",
   "metadata": {},
   "outputs": [
    {
     "name": "stdout",
     "output_type": "stream",
     "text": [
      "26069\n"
     ]
    }
   ],
   "source": [
    "hashtags = []\n",
    "\n",
    "for message in allTweets.message:\n",
    "    m = message.lower()\n",
    "    foundHashtags = re.findall(r'\\B(\\#[a-zA-Z]+\\b)(?!;)', m)\n",
    "    for hashtag in foundHashtags:\n",
    "        hashtags.append(hashtag)\n",
    "\n",
    "print(len(hashtags))"
   ]
  },
  {
   "cell_type": "code",
   "execution_count": 9,
   "id": "5951e9fd",
   "metadata": {},
   "outputs": [],
   "source": [
    "brands = [\n",
    "  \"latvenergo\",\n",
    "  \"rimi\",\n",
    "  \"maxima\",\n",
    "  \"swedbank\",\n",
    "  \"lmt\",\n",
    "  \"tet\",\n",
    "  \"lg\",\n",
    "  \"tele2\",\n",
    "  \"airbaltic\",\n",
    "  \"olympic\",\n",
    "  \"seb\",\n",
    "  \"grindeks\",\n",
    "  \"citadele\",\n",
    "  \"bite\",\n",
    "  \"drogas\",\n",
    "  \"depo\",\n",
    "  \"circlek\",\n",
    "  \"lb\",\n",
    "  \"optibet\",\n",
    "  \"evolution\",\n",
    "];"
   ]
  },
  {
   "cell_type": "code",
   "execution_count": 10,
   "id": "e461e664",
   "metadata": {},
   "outputs": [],
   "source": [
    "brand_hash = [\n",
    "  \"#latvenergo\",\n",
    "  \"#rimi\",\n",
    "  \"#maxima\",\n",
    "  \"#swedbank\",\n",
    "  \"#lmt\",\n",
    "  \"#tet\",\n",
    "  \"#lg\",\n",
    "  \"#tele2\",\n",
    "  \"#airbaltic\",\n",
    "  \"#olympic\",\n",
    "  \"#seb\",\n",
    "  \"#grindeks\",\n",
    "  \"#citadele\",\n",
    "  \"#bite\",\n",
    "  \"#drogas\",\n",
    "  \"#depo\",\n",
    "  \"#circlek\",\n",
    "  \"#lb\",\n",
    "  \"#optibet\",\n",
    "  \"#evolution\",\n",
    "];"
   ]
  },
  {
   "cell_type": "code",
   "execution_count": 12,
   "id": "2f3a97e7",
   "metadata": {},
   "outputs": [
    {
     "name": "stdout",
     "output_type": "stream",
     "text": [
      "[('#airbaltic', 3465), ('#avgeek', 726), ('#dienasbizness', 683), ('#db', 675), ('#optibetvirsliga', 623), ('#airbus', 547), ('#aviation', 522), ('#travel', 398), ('#bitelv', 395), ('#optibet', 393), ('#news', 384), ('#futbols', 384), ('#riga', 327), ('#bite', 295), ('#latvia', 278), ('#planespotting', 268), ('#teirdarbs', 221), ('#aviofotolv', 206), ('#cseries', 203), ('#rigaairport', 201), ('#bombardier', 192), ('#flights', 171), ('#airlines', 169), ('#airline', 124), ('#avgeeks', 109), ('#maxima', 109), ('#rix', 108), ('#lmtstraume', 108), ('#aircraft', 99), ('#raspberrypi', 94), ('#adsb', 90), ('#swedbank', 90), ('#venhuizen', 89), ('#optibethokejaliga', 85), ('#rimi', 83), ('#ams', 82), ('#movingquickly', 81), ('#lielfans', 77), ('#airbalticquiz', 76), ('#vacation', 68), ('#hotels', 67), ('#estonia', 67), ('#lmt', 65), ('#airport', 64), ('#passengers', 64), ('#tet', 64), ('#dogecoin', 63), ('#pilot', 62), ('#cruise', 62), ('#boeing', 60), ('#tallinn', 60), ('#flight', 59), ('#hkzemgale', 59), ('#futbolavirsliga', 58), ('#bitcoin', 55), ('#swiss', 54), ('#hokejs', 53), ('#aviationlovers', 49), ('#vilnius', 49), ('#aviationnews', 47), ('#aerospace', 46), ('#pilotacademy', 43), ('#europe', 42), ('#baltics', 42), ('#lithuania', 42), ('#latvija', 42), ('#lauvassirds', 42), ('#latvenergo', 42), ('#manslmt', 41), ('#plane', 40), ('#dublin', 40), ('#lufthansa', 39), ('#aviationphotography', 39), ('#more', 38), ('#holiday', 37), ('#didyouknow', 37), ('#destinations', 36), ('#codeshare', 36), ('#doge', 36), ('#baltic', 35), ('#ryanair', 35), ('#sas', 35), ('#lhf', 35), ('#coronavirus', 34), ('#trips', 33), ('#russia', 33), ('#today', 33), ('#icymi', 33), ('#holidays', 33), ('#tourist', 33), ('#ohl', 33), ('#resorts', 32), ('#cryptocurrency', 32), ('#blockchain', 32), ('#viagem', 32), ('#latvian', 31), ('#airplane', 30), ('#mirabel', 30), ('#travelnews', 30), ('#businesstravel', 30)]\n",
      "['#avgeek', '#dienasbizness', '#db', '#optibetvirsliga', '#airbus', '#aviation', '#travel', '#bitelv', '#news', '#futbols', '#riga', '#latvia', '#planespotting', '#teirdarbs', '#aviofotolv', '#cseries', '#rigaairport', '#bombardier', '#flights', '#airlines', '#airline', '#avgeeks', '#rix', '#lmtstraume', '#aircraft', '#raspberrypi', '#adsb', '#venhuizen', '#optibethokejaliga', '#ams', '#movingquickly', '#lielfans', '#airbalticquiz', '#vacation', '#hotels', '#estonia', '#airport', '#passengers', '#dogecoin', '#pilot', '#cruise', '#boeing', '#tallinn', '#flight', '#hkzemgale', '#futbolavirsliga', '#bitcoin', '#swiss', '#hokejs', '#aviationlovers', '#vilnius', '#aviationnews', '#aerospace', '#pilotacademy', '#europe', '#baltics', '#lithuania', '#latvija', '#lauvassirds', '#manslmt', '#plane', '#dublin', '#lufthansa', '#aviationphotography', '#more', '#holiday', '#didyouknow', '#destinations', '#codeshare', '#doge', '#baltic', '#ryanair', '#sas', '#lhf', '#coronavirus', '#trips', '#russia', '#today', '#icymi', '#holidays', '#tourist', '#ohl', '#resorts', '#cryptocurrency', '#blockchain', '#viagem', '#latvian', '#airplane', '#mirabel', '#travelnews', '#businesstravel', '#crypto', '#cruises', '#outdoor', '#hsriga', '#launches', '#mansrimi', '#kal', '#virsligafantasy', '#tourism']\n"
     ]
    }
   ],
   "source": [
    "counter=collections.Counter(hashtags)\n",
    "\n",
    "# print(counter)\n",
    "# print(counter.values())\n",
    "# print(counter.keys())\n",
    "print(counter.most_common(100))\n",
    "# print(dict(counter))\n",
    "most_common_hashtags= [word for word, word_count in counter.most_common(150) if not word in brand_hash][:100]\n",
    "print(most_common_hashtags)"
   ]
  },
  {
   "cell_type": "code",
   "execution_count": null,
   "id": "1c51fb24",
   "metadata": {},
   "outputs": [],
   "source": []
  }
 ],
 "metadata": {
  "kernelspec": {
   "display_name": "venv38twttr",
   "language": "python",
   "name": "venv38twttr"
  },
  "language_info": {
   "codemirror_mode": {
    "name": "ipython",
    "version": 3
   },
   "file_extension": ".py",
   "mimetype": "text/x-python",
   "name": "python",
   "nbconvert_exporter": "python",
   "pygments_lexer": "ipython3",
   "version": "3.8.8"
  }
 },
 "nbformat": 4,
 "nbformat_minor": 5
}
