{
 "cells": [
  {
   "cell_type": "code",
   "execution_count": 1,
   "id": "35741887",
   "metadata": {},
   "outputs": [],
   "source": [
    "import pandas as pd\n",
    "import re\n",
    "import collections"
   ]
  },
  {
   "cell_type": "code",
   "execution_count": 2,
   "id": "422fc6bb",
   "metadata": {},
   "outputs": [],
   "source": [
    "allTweets = pd.read_csv('./allTweets/allTweets.csv')"
   ]
  },
  {
   "cell_type": "code",
   "execution_count": 3,
   "id": "2d200d65",
   "metadata": {},
   "outputs": [
    {
     "name": "stdout",
     "output_type": "stream",
     "text": [
      "26069\n"
     ]
    }
   ],
   "source": [
    "hashtags = []\n",
    "\n",
    "for message in allTweets.message:\n",
    "    m = message.lower()\n",
    "    foundHashtags = re.findall(r'\\B(\\#[a-zA-Z]+\\b)(?!;)', m)\n",
    "    for hashtag in foundHashtags:\n",
    "        hashtags.append(hashtag)\n",
    "\n",
    "print(len(hashtags))"
   ]
  },
  {
   "cell_type": "code",
   "execution_count": 4,
   "id": "5951e9fd",
   "metadata": {},
   "outputs": [],
   "source": [
    "brands = [\n",
    "  \"latvenergo\",\n",
    "  \"rimi\",\n",
    "  \"maxima\",\n",
    "  \"swedbank\",\n",
    "  \"lmt\",\n",
    "  \"tet\",\n",
    "  \"lg\",\n",
    "  \"tele2\",\n",
    "  \"airbaltic\",\n",
    "  \"olympic\",\n",
    "  \"seb\",\n",
    "  \"grindeks\",\n",
    "  \"citadele\",\n",
    "  \"bite\",\n",
    "  \"drogas\",\n",
    "  \"depo\",\n",
    "  \"circlek\",\n",
    "  \"lb\",\n",
    "  \"optibet\",\n",
    "  \"evolution\",\n",
    "];"
   ]
  },
  {
   "cell_type": "code",
   "execution_count": 5,
   "id": "e461e664",
   "metadata": {},
   "outputs": [],
   "source": [
    "brand_hash = [\n",
    "  \"#latvenergo\",\n",
    "  \"#rimi\",\n",
    "  \"#maxima\",\n",
    "  \"#swedbank\",\n",
    "  \"#lmt\",\n",
    "  \"#tet\",\n",
    "  \"#lg\",\n",
    "  \"#tele2\",\n",
    "  \"#airbaltic\",\n",
    "  \"#olympic\",\n",
    "  \"#seb\",\n",
    "  \"#grindeks\",\n",
    "  \"#citadele\",\n",
    "  \"#bite\",\n",
    "  \"#drogas\",\n",
    "  \"#depo\",\n",
    "  \"#circlek\",\n",
    "  \"#lb\",\n",
    "  \"#optibet\",\n",
    "  \"#evolution\",\n",
    "];"
   ]
  },
  {
   "cell_type": "code",
   "execution_count": 34,
   "id": "2f3a97e7",
   "metadata": {},
   "outputs": [
    {
     "name": "stdout",
     "output_type": "stream",
     "text": [
      "[('#airbaltic', 3465), ('#avgeek', 726), ('#dienasbizness', 683), ('#db', 675), ('#optibetvirsliga', 623), ('#airbus', 547), ('#aviation', 522), ('#travel', 398), ('#bitelv', 395), ('#optibet', 393), ('#news', 384), ('#futbols', 384), ('#riga', 327), ('#bite', 295), ('#latvia', 278), ('#planespotting', 268), ('#teirdarbs', 221), ('#aviofotolv', 206), ('#cseries', 203), ('#rigaairport', 201), ('#bombardier', 192), ('#flights', 171), ('#airlines', 169), ('#airline', 124), ('#avgeeks', 109), ('#maxima', 109), ('#rix', 108), ('#lmtstraume', 108), ('#aircraft', 99), ('#raspberrypi', 94), ('#adsb', 90), ('#swedbank', 90), ('#venhuizen', 89), ('#optibethokejaliga', 85), ('#rimi', 83), ('#ams', 82), ('#movingquickly', 81), ('#lielfans', 77), ('#airbalticquiz', 76), ('#vacation', 68), ('#hotels', 67), ('#estonia', 67), ('#lmt', 65), ('#airport', 64), ('#passengers', 64), ('#tet', 64), ('#dogecoin', 63), ('#pilot', 62), ('#cruise', 62), ('#boeing', 60), ('#tallinn', 60), ('#flight', 59), ('#hkzemgale', 59), ('#futbolavirsliga', 58), ('#bitcoin', 55), ('#swiss', 54), ('#hokejs', 53), ('#aviationlovers', 49), ('#vilnius', 49), ('#aviationnews', 47), ('#aerospace', 46), ('#pilotacademy', 43), ('#europe', 42), ('#baltics', 42), ('#lithuania', 42), ('#latvija', 42), ('#lauvassirds', 42), ('#latvenergo', 42), ('#manslmt', 41), ('#plane', 40), ('#dublin', 40), ('#lufthansa', 39), ('#aviationphotography', 39), ('#more', 38), ('#holiday', 37), ('#didyouknow', 37), ('#destinations', 36), ('#codeshare', 36), ('#doge', 36), ('#baltic', 35), ('#ryanair', 35), ('#sas', 35), ('#lhf', 35), ('#coronavirus', 34), ('#trips', 33), ('#russia', 33), ('#today', 33), ('#icymi', 33), ('#holidays', 33), ('#tourist', 33), ('#ohl', 33), ('#resorts', 32), ('#cryptocurrency', 32), ('#blockchain', 32), ('#viagem', 32), ('#latvian', 31), ('#airplane', 30), ('#mirabel', 30), ('#travelnews', 30), ('#businesstravel', 30)]\n",
      "[('#avgeek', 726), ('#dienasbizness', 683), ('#db', 675), ('#optibetvirsliga', 623), ('#airbus', 547), ('#aviation', 522), ('#travel', 398), ('#bitelv', 395), ('#news', 384), ('#futbols', 384), ('#riga', 327), ('#latvia', 278), ('#planespotting', 268), ('#teirdarbs', 221), ('#aviofotolv', 206), ('#cseries', 203), ('#rigaairport', 201), ('#bombardier', 192), ('#flights', 171), ('#airlines', 169), ('#airline', 124), ('#avgeeks', 109), ('#rix', 108), ('#lmtstraume', 108), ('#aircraft', 99), ('#raspberrypi', 94), ('#adsb', 90), ('#venhuizen', 89), ('#optibethokejaliga', 85), ('#ams', 82), ('#movingquickly', 81), ('#lielfans', 77), ('#airbalticquiz', 76), ('#vacation', 68), ('#hotels', 67), ('#estonia', 67), ('#airport', 64), ('#passengers', 64), ('#dogecoin', 63), ('#pilot', 62), ('#cruise', 62), ('#boeing', 60), ('#tallinn', 60), ('#flight', 59), ('#hkzemgale', 59), ('#futbolavirsliga', 58), ('#bitcoin', 55), ('#swiss', 54), ('#hokejs', 53), ('#aviationlovers', 49), ('#vilnius', 49), ('#aviationnews', 47), ('#aerospace', 46), ('#pilotacademy', 43), ('#europe', 42), ('#baltics', 42), ('#lithuania', 42), ('#latvija', 42), ('#lauvassirds', 42), ('#manslmt', 41), ('#plane', 40), ('#dublin', 40), ('#lufthansa', 39), ('#aviationphotography', 39), ('#more', 38), ('#holiday', 37), ('#didyouknow', 37), ('#destinations', 36), ('#codeshare', 36), ('#doge', 36), ('#baltic', 35), ('#ryanair', 35), ('#sas', 35), ('#lhf', 35), ('#coronavirus', 34), ('#trips', 33), ('#russia', 33), ('#today', 33), ('#icymi', 33), ('#holidays', 33), ('#tourist', 33), ('#ohl', 33), ('#resorts', 32), ('#cryptocurrency', 32), ('#blockchain', 32), ('#viagem', 32), ('#latvian', 31), ('#airplane', 30), ('#mirabel', 30), ('#travelnews', 30), ('#businesstravel', 30), ('#crypto', 30), ('#cruises', 30), ('#outdoor', 30), ('#hsriga', 30), ('#launches', 29), ('#mansrimi', 29), ('#kal', 28), ('#virsligafantasy', 28), ('#tourism', 27)]\n"
     ]
    }
   ],
   "source": [
    "counter=collections.Counter(hashtags)\n",
    "\n",
    "# print(counter)\n",
    "# print(counter.values())\n",
    "# print(counter.keys())\n",
    "print(counter.most_common(100))\n",
    "# print(dict(counter))\n",
    "most_common_hashtags= [(word, word_count) for word, word_count in counter.most_common(26069) if not word in brand_hash][:100]\n",
    "print(most_common_hashtags)"
   ]
  },
  {
   "cell_type": "code",
   "execution_count": 33,
   "id": "1c51fb24",
   "metadata": {},
   "outputs": [
    {
     "name": "stdout",
     "output_type": "stream",
     "text": [
      "[('#sarkasms', 2), ('#sarcasm', 1)]\n"
     ]
    }
   ],
   "source": [
    "sarcasm= [(word, word_count) for word, word_count in counter.most_common(26069) if word == '#sarcasm' or word == '#sarkasms']\n",
    "print(sarcasm)"
   ]
  },
  {
   "cell_type": "code",
   "execution_count": 42,
   "id": "99791b9e",
   "metadata": {},
   "outputs": [
    {
     "name": "stdout",
     "output_type": "stream",
     "text": [
      "[('#avgeek', 726), ('#dienasbizness', 683), ('#db', 675), ('#airbus', 547), ('#aviation', 522), ('#travel', 398), ('#news', 384), ('#futbols', 384), ('#riga', 327), ('#latvia', 278), ('#planespotting', 268), ('#teirdarbs', 221), ('#aviofotolv', 206), ('#cseries', 203), ('#rigaairport', 201), ('#bombardier', 192), ('#flights', 171), ('#airlines', 169), ('#airline', 124), ('#avgeeks', 109), ('#rix', 108), ('#aircraft', 99), ('#raspberrypi', 94), ('#adsb', 90), ('#venhuizen', 89), ('#ams', 82), ('#movingquickly', 81), ('#lielfans', 77), ('#vacation', 68), ('#hotels', 67), ('#estonia', 67), ('#airport', 64), ('#passengers', 64), ('#dogecoin', 63), ('#pilot', 62), ('#cruise', 62), ('#boeing', 60), ('#tallinn', 60), ('#flight', 59), ('#hkzemgale', 59), ('#futbolavirsliga', 58), ('#bitcoin', 55), ('#swiss', 54), ('#hokejs', 53), ('#aviationlovers', 49), ('#vilnius', 49), ('#aviationnews', 47), ('#aerospace', 46), ('#pilotacademy', 43), ('#europe', 42), ('#baltics', 42), ('#lithuania', 42), ('#latvija', 42), ('#lauvassirds', 42), ('#manslmt', 41), ('#plane', 40), ('#dublin', 40), ('#lufthansa', 39), ('#aviationphotography', 39), ('#more', 38), ('#holiday', 37), ('#didyouknow', 37), ('#destinations', 36), ('#codeshare', 36), ('#doge', 36), ('#baltic', 35), ('#ryanair', 35), ('#sas', 35), ('#lhf', 35), ('#coronavirus', 34), ('#trips', 33), ('#russia', 33), ('#today', 33), ('#icymi', 33), ('#holidays', 33), ('#tourist', 33), ('#ohl', 33), ('#resorts', 32), ('#cryptocurrency', 32), ('#blockchain', 32), ('#viagem', 32), ('#latvian', 31), ('#airplane', 30), ('#mirabel', 30), ('#travelnews', 30), ('#businesstravel', 30), ('#crypto', 30), ('#cruises', 30), ('#outdoor', 30), ('#hsriga', 30), ('#launches', 29), ('#mansrimi', 29), ('#kal', 28), ('#virsligafantasy', 28), ('#tourism', 27), ('#tll', 27), ('#headsup', 27), ('#elektrum', 27), ('#festivalslampa', 27), ('#dzsvrimi', 27)]\n"
     ]
    }
   ],
   "source": [
    "# Hashtags that don't contain brand\n",
    "mch= [(word, word_count) for word, word_count in counter.most_common(26069) \n",
    "      if not any(bh in word for bh in brand_hash)][:100]\n",
    "print(mch)"
   ]
  },
  {
   "cell_type": "code",
   "execution_count": null,
   "id": "5fea57d2",
   "metadata": {},
   "outputs": [],
   "source": []
  }
 ],
 "metadata": {
  "kernelspec": {
   "display_name": "venv38twttr",
   "language": "python",
   "name": "venv38twttr"
  },
  "language_info": {
   "codemirror_mode": {
    "name": "ipython",
    "version": 3
   },
   "file_extension": ".py",
   "mimetype": "text/x-python",
   "name": "python",
   "nbconvert_exporter": "python",
   "pygments_lexer": "ipython3",
   "version": "3.8.8"
  }
 },
 "nbformat": 4,
 "nbformat_minor": 5
}
